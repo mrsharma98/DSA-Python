{
 "cells": [
  {
   "cell_type": "raw",
   "id": "3dddedce",
   "metadata": {},
   "source": [
    "Given a undirected graph, write an algorithm to find out whether graph contains cycle or not in Time Complexity O(Vertex + Edge) and Space Complexity O(Vertex)"
   ]
  },
  {
   "cell_type": "code",
   "execution_count": null,
   "id": "18b7a2b4",
   "metadata": {},
   "outputs": [],
   "source": []
  },
  {
   "cell_type": "code",
   "execution_count": 1,
   "id": "ca7c1a81",
   "metadata": {},
   "outputs": [],
   "source": [
    "from collections import defaultdict\n",
    "\n",
    "\n",
    "def isCyclePresent(node, visited, parent, adj):\n",
    "    visited[node] = True\n",
    "    \n",
    "    for nei in adj[node]:\n",
    "        if not visited.get(nei):\n",
    "            if isCyclePresent(nei, visited, node, adj):\n",
    "                return True\n",
    "        \n",
    "        elif (nei != parent):\n",
    "            return True\n",
    "    return False\n",
    "\n",
    "\n",
    "def cycleDetection(V, E, edges):\n",
    "    \n",
    "    # create adj list\n",
    "    adjList = defaultdict(list)\n",
    "    \n",
    "    for i in range(len(edges)):\n",
    "        u = edges[i][0]\n",
    "        v = edges[i][1]\n",
    "        adjList[u].append(v)\n",
    "        adjList[v].append(u)\n",
    "    \n",
    "    \n",
    "    visited = {}\n",
    "    \n",
    "    for i in range(V):\n",
    "        if not visited.get(i):\n",
    "            parent = -1\n",
    "            if isCyclePresent(node, visited, parent, adjList):\n",
    "                return 'True'\n",
    "    \n",
    "    return \"No\"\n",
    "            \n",
    "    "
   ]
  },
  {
   "cell_type": "code",
   "execution_count": null,
   "id": "b8ea3bac",
   "metadata": {},
   "outputs": [],
   "source": []
  }
 ],
 "metadata": {
  "kernelspec": {
   "display_name": "Python 3 (ipykernel)",
   "language": "python",
   "name": "python3"
  },
  "language_info": {
   "codemirror_mode": {
    "name": "ipython",
    "version": 3
   },
   "file_extension": ".py",
   "mimetype": "text/x-python",
   "name": "python",
   "nbconvert_exporter": "python",
   "pygments_lexer": "ipython3",
   "version": "3.9.7"
  }
 },
 "nbformat": 4,
 "nbformat_minor": 5
}
