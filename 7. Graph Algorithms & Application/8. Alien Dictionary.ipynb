{
 "cells": [
  {
   "cell_type": "code",
   "execution_count": null,
   "id": "90c3da09",
   "metadata": {},
   "outputs": [],
   "source": [
    "class Solution:\n",
    "    \n",
    "    def alienOrder(self, words):\n",
    "        adj = {c:set() for w in words for c in w}\n",
    "        \n",
    "        for i in range(len(words)-1):\n",
    "            w1, w2 = words[i], words[i+2]\n",
    "            minLen = min(len(w1), len(w2))\n",
    "            if len(w1) > len(w2) and w1[:minLen] == w2[:minLen]:\n",
    "                return \"\"\n",
    "            \n",
    "            for j in range(minLen):\n",
    "                if w1[j] != w2[j]:\n",
    "                    adj[w1[j]].add(w2[j])\n",
    "                    break\n",
    "        \n",
    "        # False -- visited \n",
    "        # True -- visited and in the curr path\n",
    "        visited = {}\n",
    "        res = []\n",
    "        \n",
    "        def dfs(c):\n",
    "            if c in visited:\n",
    "                return visited[c]\n",
    "            \n",
    "            visited[c] = True\n",
    "            for nei in adj[c]:\n",
    "                if dfs(nei):\n",
    "                    return True\n",
    "            \n",
    "            visited[c] = False\n",
    "            res.append(c)\n",
    "        \n",
    "        for c in adj:\n",
    "            if dfs(c):\n",
    "                return \"\"\n",
    "            \n",
    "        return \"\".join(res[::-1])\n",
    "        \n",
    "        \n",
    "        "
   ]
  }
 ],
 "metadata": {
  "kernelspec": {
   "display_name": "Python 3 (ipykernel)",
   "language": "python",
   "name": "python3"
  },
  "language_info": {
   "codemirror_mode": {
    "name": "ipython",
    "version": 3
   },
   "file_extension": ".py",
   "mimetype": "text/x-python",
   "name": "python",
   "nbconvert_exporter": "python",
   "pygments_lexer": "ipython3",
   "version": "3.9.7"
  }
 },
 "nbformat": 4,
 "nbformat_minor": 5
}
