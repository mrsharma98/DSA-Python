{
 "cells": [
  {
   "cell_type": "raw",
   "id": "ec950a80",
   "metadata": {},
   "source": [
    "You are given a directed graph as input. The task is to check if the given graph is connected or not."
   ]
  },
  {
   "cell_type": "raw",
   "id": "0e30fc60",
   "metadata": {},
   "source": [
    "A graph is said to be strongly connected if every vertex is reachable from every other vertex"
   ]
  },
  {
   "cell_type": "code",
   "execution_count": null,
   "id": "58f19f03",
   "metadata": {},
   "outputs": [],
   "source": []
  },
  {
   "cell_type": "code",
   "execution_count": 2,
   "id": "3649dc2c",
   "metadata": {},
   "outputs": [],
   "source": [
    "class Solution:\n",
    "    \n",
    "    def dfs(self, v, visited):\n",
    "        visited[v] = true\n",
    "        \n",
    "        for u in adj.get():\n",
    "            if (not visited[u]):\n",
    "                self.dfs(u,visited)\n",
    "                \n",
    "    \n",
    "    def stronglyConnected(self, N):\n",
    "        for i in range(N):\n",
    "            visited = []\n",
    "            DFS(i, visited)\n",
    "            for b in visited:\n",
    "                if (not b):\n",
    "                    return False\n",
    "        \n",
    "        return True    "
   ]
  },
  {
   "cell_type": "code",
   "execution_count": null,
   "id": "a227add0",
   "metadata": {},
   "outputs": [],
   "source": []
  }
 ],
 "metadata": {
  "kernelspec": {
   "display_name": "Python 3 (ipykernel)",
   "language": "python",
   "name": "python3"
  },
  "language_info": {
   "codemirror_mode": {
    "name": "ipython",
    "version": 3
   },
   "file_extension": ".py",
   "mimetype": "text/x-python",
   "name": "python",
   "nbconvert_exporter": "python",
   "pygments_lexer": "ipython3",
   "version": "3.9.7"
  }
 },
 "nbformat": 4,
 "nbformat_minor": 5
}
