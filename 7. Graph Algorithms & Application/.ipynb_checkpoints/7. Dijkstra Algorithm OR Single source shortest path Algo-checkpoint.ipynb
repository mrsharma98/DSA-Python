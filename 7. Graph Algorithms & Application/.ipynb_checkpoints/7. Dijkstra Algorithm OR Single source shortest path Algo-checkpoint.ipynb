{
 "cells": [
  {
   "cell_type": "raw",
   "id": "5dcfe645",
   "metadata": {},
   "source": [
    "Design and implement Dijkstra's algorithm which allows us to find the shortest path between any two vertices of a graph in Time Complexity O(Edge Log(Vertices))"
   ]
  },
  {
   "cell_type": "raw",
   "id": "97d58d99",
   "metadata": {},
   "source": [
    "Here we will go via Priority Queue Approach\n",
    "\n",
    "-- visited = {}\n",
    "-- hashmap<int,Node> map  -- Node has prev, distanceSource\n",
    "-- pq = []  -- store obj of distance and current value/vertex\n",
    "\n",
    "-- why hashmap ??\n",
    "    -- bcz we need shortest distance\n",
    "    -- Also the path. For getting the path, we should know the prev node/value\n",
    "    \n",
    "    \n",
    "3 important points:\n",
    "1. is vertex already visited?\n",
    "2. currentNode.distance + edge < distanceSource\n",
    "3. When dequeue from minHeap, update visited"
   ]
  },
  {
   "cell_type": "code",
   "execution_count": null,
   "id": "6f506ad8",
   "metadata": {},
   "outputs": [],
   "source": []
  },
  {
   "cell_type": "code",
   "execution_count": 2,
   "id": "e26dcef4",
   "metadata": {},
   "outputs": [],
   "source": [
    "import heapq\n",
    "\n",
    "def Algo(graph, src):\n",
    "    dist = {vertex: float('infinity') for vertex in graph}\n",
    "    dist[src] = 0\n",
    "    \n",
    "    pq = [(0, src)]\n",
    "    while (len(pq)>0):\n",
    "        curr_dist, curr_vertex = heapq.heappop(pq)\n",
    "        \n",
    "        if curr_dist > dist[curr_vertex]:\n",
    "            continue\n",
    "        \n",
    "        for nei, weight in graph[curr_vertex].items():\n",
    "            distance = curr_dist + weight\n",
    "            \n",
    "            if distance<dist[nei]:\n",
    "                dist[nei] = distance\n",
    "                heapq.heappush(pq, (distance, nei))\n",
    "    \n",
    "    return dist\n",
    "    "
   ]
  },
  {
   "cell_type": "code",
   "execution_count": 3,
   "id": "c9de312b",
   "metadata": {},
   "outputs": [],
   "source": [
    "example_graph = {\n",
    "    'U': {'V': 2, 'W': 5, 'X': 1},\n",
    "    'V': {'U': 2, 'X': 2, 'W': 3},\n",
    "    'W': {'V': 3, 'U': 5, 'X': 3, 'Y': 1, 'Z': 5},\n",
    "    'X': {'U': 1, 'V': 2, 'W': 3, 'Y': 1},\n",
    "    'Y': {'X': 1, 'W': 1, 'Z': 1},\n",
    "    'Z': {'W': 5, 'Y': 1},\n",
    "}"
   ]
  },
  {
   "cell_type": "code",
   "execution_count": 5,
   "id": "13af4243",
   "metadata": {},
   "outputs": [
    {
     "data": {
      "text/plain": [
       "{'U': 1, 'V': 2, 'W': 2, 'X': 0, 'Y': 1, 'Z': 2}"
      ]
     },
     "execution_count": 5,
     "metadata": {},
     "output_type": "execute_result"
    }
   ],
   "source": [
    "Algo(example_graph, 'X')"
   ]
  },
  {
   "cell_type": "code",
   "execution_count": null,
   "id": "808ca7cf",
   "metadata": {},
   "outputs": [],
   "source": []
  },
  {
   "cell_type": "raw",
   "id": "a4ea2395",
   "metadata": {},
   "source": [
    "https://stackoverflow.com/questions/11989178/how-to-heapify-by-field-from-custom-objects -- resource"
   ]
  },
  {
   "cell_type": "code",
   "execution_count": null,
   "id": "7b7070dc",
   "metadata": {},
   "outputs": [],
   "source": []
  }
 ],
 "metadata": {
  "kernelspec": {
   "display_name": "Python 3 (ipykernel)",
   "language": "python",
   "name": "python3"
  },
  "language_info": {
   "codemirror_mode": {
    "name": "ipython",
    "version": 3
   },
   "file_extension": ".py",
   "mimetype": "text/x-python",
   "name": "python",
   "nbconvert_exporter": "python",
   "pygments_lexer": "ipython3",
   "version": "3.9.7"
  }
 },
 "nbformat": 4,
 "nbformat_minor": 5
}
