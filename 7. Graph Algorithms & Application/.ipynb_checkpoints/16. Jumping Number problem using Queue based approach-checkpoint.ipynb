{
 "cells": [
  {
   "cell_type": "raw",
   "id": "242fcddb",
   "metadata": {},
   "source": [
    "A number is called as a Jumping Number if all adjacent digits in it differ by 1. The difference between ‘9’ and ‘0’ is not considered as 1. Given a positive number x, print all Jumping Numbers smaller than or equal to x in Time Complexity O(Jumping_Numer)"
   ]
  },
  {
   "cell_type": "code",
   "execution_count": null,
   "id": "369820e6",
   "metadata": {},
   "outputs": [],
   "source": []
  },
  {
   "cell_type": "raw",
   "id": "198a4dc4",
   "metadata": {},
   "source": [
    "use a queue\n",
    "\n",
    "-- first push 1-9 into the queue\n",
    "\n",
    "now pop one by one (use bfs)\n",
    "q.append(num*10)+(last_digit-1)\n",
    "q.append(num*10)+(last_digit+1)\n",
    "then push it into the queue\n",
    "-- the new number must be less than the given max number"
   ]
  },
  {
   "cell_type": "code",
   "execution_count": null,
   "id": "ee23e8a8",
   "metadata": {},
   "outputs": [],
   "source": []
  }
 ],
 "metadata": {
  "kernelspec": {
   "display_name": "Python 3 (ipykernel)",
   "language": "python",
   "name": "python3"
  },
  "language_info": {
   "codemirror_mode": {
    "name": "ipython",
    "version": 3
   },
   "file_extension": ".py",
   "mimetype": "text/x-python",
   "name": "python",
   "nbconvert_exporter": "python",
   "pygments_lexer": "ipython3",
   "version": "3.9.7"
  }
 },
 "nbformat": 4,
 "nbformat_minor": 5
}
