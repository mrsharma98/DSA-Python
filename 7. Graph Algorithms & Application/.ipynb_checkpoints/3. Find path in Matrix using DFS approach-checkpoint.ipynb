{
 "cells": [
  {
   "cell_type": "raw",
   "id": "c9dca098",
   "metadata": {},
   "source": [
    "Given a 2d matrix, find a path from the top left corner to bottom right corner. Assume there exists at least one path, and you only need to find one valid path. You can move up, right, down, left at any position with extra Space Complexity O(m + n)"
   ]
  },
  {
   "cell_type": "code",
   "execution_count": null,
   "id": "2f69b74d",
   "metadata": {},
   "outputs": [],
   "source": []
  },
  {
   "cell_type": "code",
   "execution_count": null,
   "id": "1fcb12eb",
   "metadata": {},
   "outputs": [],
   "source": [
    "same as Rat in the maze problem"
   ]
  },
  {
   "cell_type": "code",
   "execution_count": null,
   "id": "74fed7f0",
   "metadata": {},
   "outputs": [],
   "source": []
  }
 ],
 "metadata": {
  "kernelspec": {
   "display_name": "Python 3 (ipykernel)",
   "language": "python",
   "name": "python3"
  },
  "language_info": {
   "codemirror_mode": {
    "name": "ipython",
    "version": 3
   },
   "file_extension": ".py",
   "mimetype": "text/x-python",
   "name": "python",
   "nbconvert_exporter": "python",
   "pygments_lexer": "ipython3",
   "version": "3.9.7"
  }
 },
 "nbformat": 4,
 "nbformat_minor": 5
}
