{
 "cells": [
  {
   "cell_type": "raw",
   "id": "eeac967c",
   "metadata": {},
   "source": [
    "Given a 2d grid map of '1's (land) and '0's (water), count the number of islands in Time Complexity O(Vertices + Edges) ."
   ]
  },
  {
   "cell_type": "raw",
   "id": "5ae7ed97",
   "metadata": {},
   "source": [
    "we will use visited matrix, filled with false\n",
    "Once we visited a cell in the matrix, just update in the visited matrix as true\n",
    "and use a queue (queue of object, of class x, y)\n",
    "now when we get 1, we will push it into the queue\n",
    "then, we remove from the queue and check all of its 8 direction, for 1. condition (matrix[i][j]==1 and visited[i][j]==True)"
   ]
  },
  {
   "cell_type": "code",
   "execution_count": null,
   "id": "db50e2de",
   "metadata": {},
   "outputs": [],
   "source": []
  },
  {
   "cell_type": "code",
   "execution_count": 8,
   "id": "526a0418",
   "metadata": {},
   "outputs": [],
   "source": [
    "from collections import deque\n",
    "\n",
    "row = [-1, -1, -1, 0, 1, 0, 1, 1]\n",
    "col = [-1, 1, 0, -1, -1, 1, 0, 1]\n",
    "\n",
    "def isSafe(mat, x, y, processed):\n",
    "    return (x>=0) and (y>=0) and (x<len(processed)) and (y<len(processed[0])) and (mat[x][y]==1 and (not processed[x][y]))\n",
    "\n",
    "def bfs(mat, processed, i, j):\n",
    "    q = deque()\n",
    "    q.append((i, j))\n",
    "    \n",
    "    processed[i][j] = True\n",
    "    \n",
    "    while len(q)>0:\n",
    "        x, y = q.popleft()\n",
    "        \n",
    "        for k in range(8):\n",
    "            if isSafe(mat, x+row[k], y+col[k], processed):\n",
    "                processed[x+row[k]][y+col[k]] = True\n",
    "                q.append((x+row[k], y+col[k]))\n",
    "                \n",
    "\n",
    "\n",
    "def findIsland(mat):\n",
    "    m, n = len(mat), len(mat[0])\n",
    "    \n",
    "    processed = [[False for x in range(n)] for y in range(m)]\n",
    "    \n",
    "    island = 0\n",
    "    \n",
    "    for i in range(m):\n",
    "        for j in range(n):\n",
    "            if mat[i][j]==1 and (not processed[i][j]):\n",
    "                bfs(mat, processed, i, j)\n",
    "                island += 1\n",
    "    \n",
    "    return island"
   ]
  },
  {
   "cell_type": "code",
   "execution_count": 9,
   "id": "4fa9bdef",
   "metadata": {},
   "outputs": [],
   "source": [
    " mat = [[0, 0, 1, 1, 0], [1, 0, 1, 1, 0], [0, 1, 0, 0, 0], [0, 0, 0, 0, 1], [0, 0, 1, 1, 0]]"
   ]
  },
  {
   "cell_type": "code",
   "execution_count": 10,
   "id": "76a705cd",
   "metadata": {},
   "outputs": [
    {
     "data": {
      "text/plain": [
       "2"
      ]
     },
     "execution_count": 10,
     "metadata": {},
     "output_type": "execute_result"
    }
   ],
   "source": [
    "findIsland(mat)"
   ]
  },
  {
   "cell_type": "code",
   "execution_count": null,
   "id": "d6fc5984",
   "metadata": {},
   "outputs": [],
   "source": []
  }
 ],
 "metadata": {
  "kernelspec": {
   "display_name": "Python 3 (ipykernel)",
   "language": "python",
   "name": "python3"
  },
  "language_info": {
   "codemirror_mode": {
    "name": "ipython",
    "version": 3
   },
   "file_extension": ".py",
   "mimetype": "text/x-python",
   "name": "python",
   "nbconvert_exporter": "python",
   "pygments_lexer": "ipython3",
   "version": "3.9.7"
  }
 },
 "nbformat": 4,
 "nbformat_minor": 5
}
