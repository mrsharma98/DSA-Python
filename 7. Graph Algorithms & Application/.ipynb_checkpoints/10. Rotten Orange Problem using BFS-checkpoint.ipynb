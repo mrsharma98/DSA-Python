{
 "cells": [
  {
   "cell_type": "raw",
   "id": "6dcaeb8d",
   "metadata": {},
   "source": [
    "A matrix of m*n where each cell in the matrix have Fresh,Rotten and Empty Cell. Write algorithm to find minimum time required so that all the oranges become rotten in Time Complexity O(m*n) and Space Complexity O*m*n) i.e extra matrix space"
   ]
  },
  {
   "cell_type": "code",
   "execution_count": null,
   "id": "715e1819",
   "metadata": {},
   "outputs": [],
   "source": []
  },
  {
   "cell_type": "code",
   "execution_count": 2,
   "id": "0072e6c6",
   "metadata": {},
   "outputs": [],
   "source": [
    "from collections import namedtuple, deque\n",
    "\n",
    "Orange = namedtuple(\"Orange\", [\"x\", \"y\", \"time\"])\n",
    "\n",
    "\n",
    "def findAdjacent(matrix, x, y, time):\n",
    "    adjacent = []\n",
    "    row = len(matrix)-1\n",
    "    col = len(matrix[0])-1\n",
    "    \n",
    "    if (x>=0 and x<=row) and (y>=0 and y<=col):\n",
    "        # check for all the 4 adjacent element\n",
    "        if (y+1 <= col) and (matrix[x][y+1]==1):\n",
    "            adjacent.append(Orange(x, y+1, time+1))\n",
    "            matrix[x][y+1] = 2\n",
    "        if (y-1 >= 0) and (matrix[x][y-1]==1):\n",
    "            adjacent.append(Orange(x, y-1, time+1))\n",
    "            matrix[x][y-1] = 2\n",
    "        if (x-1 >= 0) and (matrix[x-1][y]==1):\n",
    "            adjacent.append(Orange(x-1, y, time+1))\n",
    "            matrix[x-1][y] = 2\n",
    "        if (x+1 <= row) and (matrix[x+1][y]==1):\n",
    "            adjacent.append(Orange(x+1, y, time+1))\n",
    "            matrix[x+1][y] = 2\n",
    "    \n",
    "    return adjacent\n",
    "    \n",
    "\n",
    "\n",
    "def findRotten(matrix):\n",
    "    rotten = []\n",
    "    row = len(matrix)\n",
    "    col = len(matrix[0])\n",
    "    \n",
    "    for i in range(row):\n",
    "        for j in range(col):\n",
    "            if matrix[i][j] == 2:\n",
    "                rotten.append(Orange(i, j, 0))\n",
    "    return rotten\n",
    "\n",
    "\n",
    "def isRottenExist(matrix):\n",
    "    for row in matrix:\n",
    "        for ritem in row:\n",
    "            if ritem == 1:\n",
    "                return True\n",
    "        \n",
    "    return False\n",
    "\n",
    "\n",
    "def rottenOrange(matrix):\n",
    "    queue = deque(findRotten(matrix))\n",
    "    \n",
    "    while queue:\n",
    "        current = queue.popleft()\n",
    "        adj = findAdjacent(matrix, current.x, current.y, current.time)\n",
    "        queue.extend(adj)\n",
    "    \n",
    "    if isRottenExist(matrix):\n",
    "        return -1\n",
    "    \n",
    "    return current.time\n"
   ]
  },
  {
   "cell_type": "code",
   "execution_count": 3,
   "id": "b899827a",
   "metadata": {},
   "outputs": [
    {
     "data": {
      "text/plain": [
       "2"
      ]
     },
     "execution_count": 3,
     "metadata": {},
     "output_type": "execute_result"
    }
   ],
   "source": [
    "rottenOrange([[2,1,0,2,1],[1,0,1,2,1],[1,0,0,2,1]])"
   ]
  },
  {
   "cell_type": "code",
   "execution_count": null,
   "id": "4a860d37",
   "metadata": {},
   "outputs": [],
   "source": []
  },
  {
   "cell_type": "code",
   "execution_count": null,
   "id": "afc0eaac",
   "metadata": {},
   "outputs": [],
   "source": []
  }
 ],
 "metadata": {
  "kernelspec": {
   "display_name": "Python 3 (ipykernel)",
   "language": "python",
   "name": "python3"
  },
  "language_info": {
   "codemirror_mode": {
    "name": "ipython",
    "version": 3
   },
   "file_extension": ".py",
   "mimetype": "text/x-python",
   "name": "python",
   "nbconvert_exporter": "python",
   "pygments_lexer": "ipython3",
   "version": "3.9.7"
  }
 },
 "nbformat": 4,
 "nbformat_minor": 5
}
