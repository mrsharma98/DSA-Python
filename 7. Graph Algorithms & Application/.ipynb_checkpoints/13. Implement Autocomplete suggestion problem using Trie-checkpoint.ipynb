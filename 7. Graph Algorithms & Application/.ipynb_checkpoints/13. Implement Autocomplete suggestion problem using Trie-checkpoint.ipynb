{
 "cells": [
  {
   "cell_type": "raw",
   "id": "18e95672",
   "metadata": {},
   "source": [
    "Design the autocomplete feature for example : Google search auto suggestion .Desired Complexity O(Length of the word) and Space Complexity O(1)"
   ]
  },
  {
   "cell_type": "code",
   "execution_count": null,
   "id": "cbf84035",
   "metadata": {},
   "outputs": [],
   "source": []
  },
  {
   "cell_type": "code",
   "execution_count": 1,
   "id": "db006185",
   "metadata": {},
   "outputs": [],
   "source": [
    "def getLocationOfString(root, s, index):\n",
    "    if index==len(s):\n",
    "        return root\n",
    "    \n",
    "    if (root.map.keys(s[index]) == True):\n",
    "        root = root.map.get(s[index])\n",
    "        getLocationOfString(root, s, index+1)\n",
    "        \n",
    "        \n",
    "def suggestion(root):\n",
    "    if root.isEnd == False:\n",
    "        s = root.map.keys()\n",
    "        for ch in s:\n",
    "            print(\"Suggested:- \", ch)\n",
    "            suggestion(root.map.get(ch))\n",
    "    else:\n",
    "        return"
   ]
  },
  {
   "cell_type": "code",
   "execution_count": null,
   "id": "62577f60",
   "metadata": {},
   "outputs": [],
   "source": []
  }
 ],
 "metadata": {
  "kernelspec": {
   "display_name": "Python 3 (ipykernel)",
   "language": "python",
   "name": "python3"
  },
  "language_info": {
   "codemirror_mode": {
    "name": "ipython",
    "version": 3
   },
   "file_extension": ".py",
   "mimetype": "text/x-python",
   "name": "python",
   "nbconvert_exporter": "python",
   "pygments_lexer": "ipython3",
   "version": "3.9.7"
  }
 },
 "nbformat": 4,
 "nbformat_minor": 5
}
