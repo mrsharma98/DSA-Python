{
 "cells": [
  {
   "cell_type": "raw",
   "id": "14bbf0d5",
   "metadata": {},
   "source": [
    "Write a function that returns true if a given undirected graph is tree and false otherwise. For example, the following graph is a tree."
   ]
  },
  {
   "cell_type": "raw",
   "id": "5ea52a71",
   "metadata": {},
   "source": [
    "-- 2 conditions\n",
    "1. No cycle in the graph\n",
    "2. Graph is connected: From one node we can reach to all the node."
   ]
  },
  {
   "cell_type": "code",
   "execution_count": null,
   "id": "16d7166c",
   "metadata": {},
   "outputs": [],
   "source": []
  },
  {
   "cell_type": "code",
   "execution_count": 3,
   "id": "e038a786",
   "metadata": {},
   "outputs": [],
   "source": [
    "def isCyclic(v, visited, parent):\n",
    "    visited[v] = True\n",
    "    \n",
    "    for i in adj[v]:\n",
    "        if not visited[i]:\n",
    "            if isCyclic(i, visited, v):\n",
    "                return True\n",
    "        elif (i!=parent):\n",
    "            return True\n",
    "    \n",
    "    return False\n",
    "        \n",
    "\n",
    "\n",
    "def isTree(V):\n",
    "    visited = [False]*V\n",
    "    \n",
    "    if (isCyclic(0, visited, -1)):\n",
    "        return False\n",
    "    \n",
    "    for u in range(V):\n",
    "        if not visited[u]:\n",
    "            return False\n",
    "    \n",
    "    return True\n"
   ]
  },
  {
   "cell_type": "code",
   "execution_count": null,
   "id": "3328f87a",
   "metadata": {},
   "outputs": [],
   "source": []
  }
 ],
 "metadata": {
  "kernelspec": {
   "display_name": "Python 3 (ipykernel)",
   "language": "python",
   "name": "python3"
  },
  "language_info": {
   "codemirror_mode": {
    "name": "ipython",
    "version": 3
   },
   "file_extension": ".py",
   "mimetype": "text/x-python",
   "name": "python",
   "nbconvert_exporter": "python",
   "pygments_lexer": "ipython3",
   "version": "3.9.7"
  }
 },
 "nbformat": 4,
 "nbformat_minor": 5
}
