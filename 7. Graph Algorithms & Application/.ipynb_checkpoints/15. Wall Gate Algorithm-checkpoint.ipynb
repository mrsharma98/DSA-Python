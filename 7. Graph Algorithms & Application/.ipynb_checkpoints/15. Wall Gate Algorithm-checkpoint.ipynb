{
 "cells": [
  {
   "cell_type": "raw",
   "id": "c06dcdd8",
   "metadata": {},
   "source": [
    "You are given a m x n 2D grid initialized with these three possible values.\n",
    "-1 - A wall or an obstacle.\n",
    "0 - A gate.\n",
    "INF - Infinity means an empty room\n",
    "Fill each empty room with the distance to its nearest gate. If it is impossible to reach a gate"
   ]
  },
  {
   "cell_type": "code",
   "execution_count": 1,
   "id": "38ff8ddd",
   "metadata": {},
   "outputs": [],
   "source": [
    "# just the code snippet\n",
    "\n",
    "\n",
    "class Cell:\n",
    "    def __init__(self, i, j, cost):\n",
    "        self.i = i\n",
    "        self.j = j\n",
    "        self.cost = cost"
   ]
  },
  {
   "cell_type": "code",
   "execution_count": 2,
   "id": "a4a02489",
   "metadata": {},
   "outputs": [],
   "source": [
    "from collections import deque\n",
    "\n",
    "def wallsAndGates(matrix, m, n):\n",
    "    q = deque()\n",
    "    \n",
    "    for i in range(m):\n",
    "        for j in range(n):\n",
    "            if matrix[i][j] == 'G':\n",
    "                queue.append(Cell(i, j, 0))\n",
    "                \n",
    "    while queue:\n",
    "        head = queue.popleft()\n",
    "        \n",
    "        if (matrix[head.i-1][head.j]==0):\n",
    "            matrix[head.i-1][head.j] = head.cost+1\n",
    "            queue.append(Cell(head.i-1, head.j, head.cost+1))\n",
    "        \n",
    "        if (matrix[head.i+1][head.j]==0):\n",
    "            matrix[head.i+1][head.j] = head.cost+1\n",
    "            queue.append(Cell(head.i+1, head.j, head.cost+1))\n",
    "            \n",
    "        if (matrix[head.i][head.j-1]==0):\n",
    "            matrix[head.i][head.j-1] = head.cost+1\n",
    "            queue.append(Cell(head.i, head.j-1, head.cost+1))\n",
    "            \n",
    "        if (matrix[head.i][head.j+1]==0):\n",
    "            matrix[head.i][head.j+1] = head.cost+1\n",
    "            queue.append(Cell(head.i, head.j+1, head.cost+1))\n",
    "        "
   ]
  },
  {
   "cell_type": "code",
   "execution_count": null,
   "id": "127dbec9",
   "metadata": {},
   "outputs": [],
   "source": []
  },
  {
   "cell_type": "code",
   "execution_count": null,
   "id": "7f1fec7f",
   "metadata": {},
   "outputs": [],
   "source": []
  },
  {
   "cell_type": "code",
   "execution_count": null,
   "id": "c605a4dc",
   "metadata": {},
   "outputs": [],
   "source": []
  },
  {
   "cell_type": "code",
   "execution_count": null,
   "id": "8b52e0da",
   "metadata": {},
   "outputs": [],
   "source": []
  }
 ],
 "metadata": {
  "kernelspec": {
   "display_name": "Python 3 (ipykernel)",
   "language": "python",
   "name": "python3"
  },
  "language_info": {
   "codemirror_mode": {
    "name": "ipython",
    "version": 3
   },
   "file_extension": ".py",
   "mimetype": "text/x-python",
   "name": "python",
   "nbconvert_exporter": "python",
   "pygments_lexer": "ipython3",
   "version": "3.9.7"
  }
 },
 "nbformat": 4,
 "nbformat_minor": 5
}
