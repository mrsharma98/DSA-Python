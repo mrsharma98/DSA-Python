{
 "cells": [
  {
   "cell_type": "raw",
   "id": "7c0b80d4",
   "metadata": {},
   "source": [
    "Snake and ladder board is given as matrix, find the minimum number of dice throws required to reach the last cell from source cell in Space Complexity O(n)"
   ]
  },
  {
   "cell_type": "code",
   "execution_count": 3,
   "id": "aa5a6c16",
   "metadata": {},
   "outputs": [],
   "source": [
    "class QueueEntry:\n",
    "    def __init__(self, v=0, dist=0):\n",
    "        self.v = v\n",
    "        self.dist = dist"
   ]
  },
  {
   "cell_type": "code",
   "execution_count": 5,
   "id": "bd0a346d",
   "metadata": {},
   "outputs": [],
   "source": [
    "from collections import deque\n",
    "\n",
    "class Solution:\n",
    "    \n",
    "    def minDiceThrown(move, N):\n",
    "        visited = [False]*N\n",
    "        queue = deque()\n",
    "        visited[0] = True\n",
    "        queue.append(QueueEntry(0, 0))\n",
    "        qe = QueueEntry()\n",
    "        \n",
    "        while queue:\n",
    "            qe = queue.popleft()\n",
    "            v = qe.v\n",
    "            if v == N-1:\n",
    "                break\n",
    "            \n",
    "            j = v+1\n",
    "            while j<=v+6 and j<N:\n",
    "                if visited[j] == False:\n",
    "                    a = QueueEntry()\n",
    "                    a.dist = qe.dist+1\n",
    "                    visited[j] = True\n",
    "                    if move[v]!=-1:\n",
    "                        a.v = move[j]\n",
    "                    else:\n",
    "                        a.v = j\n",
    "                    queue.append(a)\n",
    "                \n",
    "                j += 1\n",
    "        return qe.dist\n",
    "        "
   ]
  },
  {
   "cell_type": "code",
   "execution_count": 7,
   "id": "d776b57e",
   "metadata": {},
   "outputs": [
    {
     "data": {
      "text/plain": [
       "[[-1, -1, 2], [-1, 6, 9], [-1, 7, -1]]"
      ]
     },
     "execution_count": 7,
     "metadata": {},
     "output_type": "execute_result"
    }
   ],
   "source": [
    "a = [[-1,7,-1],[-1,6,9],[-1,-1,2]]\n",
    "a.reverse()\n",
    "a"
   ]
  },
  {
   "cell_type": "code",
   "execution_count": 8,
   "id": "8398bcfb",
   "metadata": {},
   "outputs": [],
   "source": [
    "b = [a[i][j] for i in range(len(a)) for j in range(len(a[0]))]"
   ]
  },
  {
   "cell_type": "code",
   "execution_count": 9,
   "id": "d4b7c6db",
   "metadata": {},
   "outputs": [
    {
     "data": {
      "text/plain": [
       "[-1, -1, 2, -1, 6, 9, -1, 7, -1]"
      ]
     },
     "execution_count": 9,
     "metadata": {},
     "output_type": "execute_result"
    }
   ],
   "source": [
    "b"
   ]
  },
  {
   "cell_type": "code",
   "execution_count": null,
   "id": "af897346",
   "metadata": {},
   "outputs": [],
   "source": []
  }
 ],
 "metadata": {
  "kernelspec": {
   "display_name": "Python 3 (ipykernel)",
   "language": "python",
   "name": "python3"
  },
  "language_info": {
   "codemirror_mode": {
    "name": "ipython",
    "version": 3
   },
   "file_extension": ".py",
   "mimetype": "text/x-python",
   "name": "python",
   "nbconvert_exporter": "python",
   "pygments_lexer": "ipython3",
   "version": "3.9.7"
  }
 },
 "nbformat": 4,
 "nbformat_minor": 5
}
