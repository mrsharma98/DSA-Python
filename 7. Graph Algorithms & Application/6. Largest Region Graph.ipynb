{
 "cells": [
  {
   "cell_type": "raw",
   "id": "2af3bded",
   "metadata": {},
   "source": [
    "Consider a matrix with rows and columns, where each cell contains either a ‘0’ or a ‘1’ and any cell containing a 1 is called a filled cell. Two cells are said to be connected if they are adjacent to each other horizontally, vertically, or diagonally. If one or more filled cells are also connected, they form a region. find the length of the largest region"
   ]
  },
  {
   "cell_type": "code",
   "execution_count": null,
   "id": "53e4d19e",
   "metadata": {},
   "outputs": [],
   "source": []
  },
  {
   "cell_type": "code",
   "execution_count": 1,
   "id": "43226948",
   "metadata": {},
   "outputs": [],
   "source": [
    "from collections import deque\n",
    "\n",
    "row = [-1, 0, 1, 0]\n",
    "col = [0, 1, 0, -1]\n",
    "\n",
    "\n",
    "def isSafe(mat, processed, x, y):\n",
    "    return (x>=0) and (y>=0) and (x<len(processed)) and (y<len(processed[0])) and (mat[x][y]==\"1\" and (not processed[x][y]))\n",
    "\n",
    "\n",
    "def bfs(mat, processed, i, j):\n",
    "    q = deque()\n",
    "    q.append((i, j))\n",
    "    processed[i][j] = True\n",
    "    count = 1\n",
    "    while (len(q)>0):\n",
    "        x, y = q.popleft()\n",
    "        for k in range(4):\n",
    "            if isSafe(mat, processed, x+row[k], y+col[k]):\n",
    "                processed[x+row[k]][y+col[k]] = True\n",
    "                q.appned((x+row[k], y+col[k]))\n",
    "                count += 1\n",
    "    \n",
    "    return count\n",
    "\n",
    "\n",
    "def largestRegion(mat):\n",
    "    m, n = len(mat), len(mat[0])\n",
    "    \n",
    "    processed = [[False for x in range(n)] for y in range(m)]\n",
    "    maxArea = -999999\n",
    "    \n",
    "    for i in range(m):\n",
    "        for j in range(n):\n",
    "            if mat[i][j]==\"1\" and (not processed[i][j]):\n",
    "                area = bfs(mat, processed, i, j)\n",
    "                maxArea = max(maxArea, area)\n",
    "    \n",
    "    return maxArea"
   ]
  },
  {
   "cell_type": "code",
   "execution_count": null,
   "id": "3148dde3",
   "metadata": {},
   "outputs": [],
   "source": []
  }
 ],
 "metadata": {
  "kernelspec": {
   "display_name": "Python 3 (ipykernel)",
   "language": "python",
   "name": "python3"
  },
  "language_info": {
   "codemirror_mode": {
    "name": "ipython",
    "version": 3
   },
   "file_extension": ".py",
   "mimetype": "text/x-python",
   "name": "python",
   "nbconvert_exporter": "python",
   "pygments_lexer": "ipython3",
   "version": "3.9.7"
  }
 },
 "nbformat": 4,
 "nbformat_minor": 5
}
