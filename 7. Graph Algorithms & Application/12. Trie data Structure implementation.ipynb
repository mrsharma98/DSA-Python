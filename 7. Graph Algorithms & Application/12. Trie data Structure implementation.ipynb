{
 "cells": [
  {
   "cell_type": "raw",
   "id": "c2627489",
   "metadata": {},
   "source": [
    "Trie is the data structure very similar to Binary Tree. Trie data structure stores the data in particular fashion, so that retrieval of data became much faster and helps in performance"
   ]
  },
  {
   "cell_type": "code",
   "execution_count": null,
   "id": "ea6e95e1",
   "metadata": {},
   "outputs": [],
   "source": []
  },
  {
   "cell_type": "code",
   "execution_count": 4,
   "id": "e3afc5a3",
   "metadata": {},
   "outputs": [],
   "source": [
    "class TrieNode:\n",
    "    def __init__(self, char):\n",
    "        self.char = char\n",
    "        self.isEnd = False\n",
    "        self.trieMap = {}"
   ]
  },
  {
   "cell_type": "code",
   "execution_count": 5,
   "id": "e5a65d4b",
   "metadata": {},
   "outputs": [],
   "source": [
    "class Trie:\n",
    "    \n",
    "    def __init__(self):\n",
    "        self.node = TrieNode(\"\")\n",
    "        \n",
    "    \n",
    "    def insert(self, word):\n",
    "        root = self.node\n",
    "        \n",
    "        for char in word:\n",
    "            if char in root.trieMap:\n",
    "                root = root.trieMap[char]\n",
    "            else:\n",
    "                child = TrieNode(char)\n",
    "                root.trieMap[char] = child\n",
    "                root = child\n",
    "        \n",
    "        root.isEnd = True\n",
    "        \n",
    "        \n",
    "    \n",
    "    "
   ]
  },
  {
   "cell_type": "code",
   "execution_count": 6,
   "id": "1560585c",
   "metadata": {},
   "outputs": [],
   "source": [
    "t = Trie()"
   ]
  },
  {
   "cell_type": "code",
   "execution_count": 7,
   "id": "46a66b98",
   "metadata": {},
   "outputs": [],
   "source": [
    "t.insert(\"abc\")\n",
    "t.insert(\"abg\")\n",
    "t.insert(\"cdf\")"
   ]
  },
  {
   "cell_type": "code",
   "execution_count": 9,
   "id": "a6c61634",
   "metadata": {},
   "outputs": [
    {
     "data": {
      "text/plain": [
       "{'a': <__main__.TrieNode at 0x24590fada60>,\n",
       " 'c': <__main__.TrieNode at 0x24590fadf10>}"
      ]
     },
     "execution_count": 9,
     "metadata": {},
     "output_type": "execute_result"
    }
   ],
   "source": [
    "t.node.trieMap"
   ]
  },
  {
   "cell_type": "code",
   "execution_count": null,
   "id": "d58c32c0",
   "metadata": {},
   "outputs": [],
   "source": []
  }
 ],
 "metadata": {
  "kernelspec": {
   "display_name": "Python 3 (ipykernel)",
   "language": "python",
   "name": "python3"
  },
  "language_info": {
   "codemirror_mode": {
    "name": "ipython",
    "version": 3
   },
   "file_extension": ".py",
   "mimetype": "text/x-python",
   "name": "python",
   "nbconvert_exporter": "python",
   "pygments_lexer": "ipython3",
   "version": "3.9.7"
  }
 },
 "nbformat": 4,
 "nbformat_minor": 5
}
