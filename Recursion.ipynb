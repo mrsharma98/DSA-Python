{
 "cells": [
  {
   "cell_type": "raw",
   "id": "8ba5d7e9",
   "metadata": {},
   "source": [
    "3 components of Recursion\n",
    "1. Base case\n",
    "2. small calculation\n",
    "3. recursive formula\n",
    "\n",
    "2 and 3 can interchange"
   ]
  },
  {
   "cell_type": "raw",
   "id": "1f803ede",
   "metadata": {},
   "source": [
    "Sum of 'n' numbers"
   ]
  },
  {
   "cell_type": "code",
   "execution_count": null,
   "id": "559d348b",
   "metadata": {},
   "outputs": [],
   "source": []
  },
  {
   "cell_type": "code",
   "execution_count": 8,
   "id": "aa7a49ac",
   "metadata": {},
   "outputs": [],
   "source": [
    "def sumToN(n):\n",
    "    if n == 1:\n",
    "        return 1\n",
    "    return n+sumN(n-1)"
   ]
  },
  {
   "cell_type": "code",
   "execution_count": 9,
   "id": "0cf8a987",
   "metadata": {},
   "outputs": [
    {
     "data": {
      "text/plain": [
       "15"
      ]
     },
     "execution_count": 9,
     "metadata": {},
     "output_type": "execute_result"
    }
   ],
   "source": [
    "sumToN(5)"
   ]
  },
  {
   "cell_type": "code",
   "execution_count": null,
   "id": "de19eb88",
   "metadata": {},
   "outputs": [],
   "source": []
  },
  {
   "cell_type": "raw",
   "id": "8d08e6fe",
   "metadata": {},
   "source": [
    "Factorial of n"
   ]
  },
  {
   "cell_type": "code",
   "execution_count": 10,
   "id": "1eb5e257",
   "metadata": {},
   "outputs": [],
   "source": [
    "def fact(n):\n",
    "    if n == 0 or n == 1:\n",
    "        return 1\n",
    "    recResult = fact(n-1)\n",
    "    result = n * recResult\n",
    "    return result"
   ]
  },
  {
   "cell_type": "code",
   "execution_count": 11,
   "id": "d650f5c7",
   "metadata": {},
   "outputs": [
    {
     "data": {
      "text/plain": [
       "120"
      ]
     },
     "execution_count": 11,
     "metadata": {},
     "output_type": "execute_result"
    }
   ],
   "source": [
    "fact(5)"
   ]
  },
  {
   "cell_type": "code",
   "execution_count": null,
   "id": "624b28d9",
   "metadata": {},
   "outputs": [],
   "source": []
  },
  {
   "cell_type": "raw",
   "id": "d6075358",
   "metadata": {},
   "source": [
    "Power of 2"
   ]
  },
  {
   "cell_type": "code",
   "execution_count": 12,
   "id": "b652ef90",
   "metadata": {},
   "outputs": [],
   "source": [
    "def powerOf2(n):\n",
    "    if n==0:\n",
    "        return 1\n",
    "    recResult = powerOf2(n-1)\n",
    "    result = 2*recResult\n",
    "    return result"
   ]
  },
  {
   "cell_type": "code",
   "execution_count": 15,
   "id": "4cc3a0f6",
   "metadata": {},
   "outputs": [
    {
     "data": {
      "text/plain": [
       "1024"
      ]
     },
     "execution_count": 15,
     "metadata": {},
     "output_type": "execute_result"
    }
   ],
   "source": [
    "powerOf2(10)"
   ]
  },
  {
   "cell_type": "code",
   "execution_count": null,
   "id": "5d48b903",
   "metadata": {},
   "outputs": [],
   "source": []
  },
  {
   "cell_type": "raw",
   "id": "cd44bd6b",
   "metadata": {},
   "source": [
    "Fibbonacei Series"
   ]
  },
  {
   "cell_type": "code",
   "execution_count": 37,
   "id": "f8d9cda9",
   "metadata": {},
   "outputs": [],
   "source": [
    "def fabSeries(n):\n",
    "    if n == 1:\n",
    "        return 0\n",
    "    if n == 2:\n",
    "        return 1\n",
    "    recCall1 = fabSeries(n-1)\n",
    "    recCall2 = fabSeries(n-2)\n",
    "    \n",
    "    result = recCall1+recCall2\n",
    "    \n",
    "    return result"
   ]
  },
  {
   "cell_type": "code",
   "execution_count": 38,
   "id": "b33972f4",
   "metadata": {},
   "outputs": [
    {
     "data": {
      "text/plain": [
       "5"
      ]
     },
     "execution_count": 38,
     "metadata": {},
     "output_type": "execute_result"
    }
   ],
   "source": [
    "fabSeries(6)"
   ]
  },
  {
   "cell_type": "code",
   "execution_count": null,
   "id": "855dafbf",
   "metadata": {},
   "outputs": [],
   "source": []
  },
  {
   "cell_type": "raw",
   "id": "28aeba53",
   "metadata": {},
   "source": [
    "Climbing Stair (1 or  stairs at a time)\n",
    "\n",
    "Similar to fab series(above)"
   ]
  },
  {
   "cell_type": "code",
   "execution_count": 39,
   "id": "aa70da9e",
   "metadata": {},
   "outputs": [],
   "source": [
    "def climbStairs(n):\n",
    "    if n==1:\n",
    "        return 1\n",
    "    if n==2:\n",
    "        return 2\n",
    "    \n",
    "    recCall1 = climbStairs(n-1)\n",
    "    recCall2 = climbStairs(n-2)\n",
    "    result = recCall1+recCall2\n",
    "    return result"
   ]
  },
  {
   "cell_type": "code",
   "execution_count": 44,
   "id": "2a14623f",
   "metadata": {},
   "outputs": [
    {
     "data": {
      "text/plain": [
       "13"
      ]
     },
     "execution_count": 44,
     "metadata": {},
     "output_type": "execute_result"
    }
   ],
   "source": [
    "climbStairs(6)"
   ]
  },
  {
   "cell_type": "code",
   "execution_count": null,
   "id": "fee30a9c",
   "metadata": {},
   "outputs": [],
   "source": []
  },
  {
   "cell_type": "raw",
   "id": "cc600471",
   "metadata": {},
   "source": [
    "Palindrome"
   ]
  },
  {
   "cell_type": "code",
   "execution_count": 45,
   "id": "f01f3339",
   "metadata": {},
   "outputs": [],
   "source": [
    "def palindrome(string, start, end):\n",
    "    if (start==end or start>end):\n",
    "        return True\n",
    "    \n",
    "    if string[start] != string[end]:\n",
    "        return False\n",
    "    return palindrome(string, start+1, end-1)"
   ]
  },
  {
   "cell_type": "code",
   "execution_count": 50,
   "id": "dd2bb5ca",
   "metadata": {},
   "outputs": [
    {
     "data": {
      "text/plain": [
       "True"
      ]
     },
     "execution_count": 50,
     "metadata": {},
     "output_type": "execute_result"
    }
   ],
   "source": [
    "string = \"noon\"\n",
    "end = len(string)-1\n",
    "palindrome(string, 0, end)"
   ]
  },
  {
   "cell_type": "code",
   "execution_count": null,
   "id": "a1c44a75",
   "metadata": {},
   "outputs": [],
   "source": []
  },
  {
   "cell_type": "raw",
   "id": "32fe3ccd",
   "metadata": {},
   "source": [
    "Reverse a string"
   ]
  },
  {
   "cell_type": "code",
   "execution_count": 52,
   "id": "7edabee2",
   "metadata": {},
   "outputs": [],
   "source": [
    "def reverseHelper(string, start, end):\n",
    "    if (start==end or start>end):\n",
    "        return\n",
    "    \n",
    "    string[start], string[end] = string[end], string[start]\n",
    "    return reverseHelper(string, start+1, end-1)\n",
    "\n",
    "def reverseAString(string):\n",
    "    string = list(string)\n",
    "    reverseHelper(string, 0, len(string)-1)\n",
    "    return \"\".join(string)"
   ]
  },
  {
   "cell_type": "code",
   "execution_count": 55,
   "id": "19312def",
   "metadata": {},
   "outputs": [
    {
     "data": {
      "text/plain": [
       "'dlrow olleH'"
      ]
     },
     "execution_count": 55,
     "metadata": {},
     "output_type": "execute_result"
    }
   ],
   "source": [
    "string = \"Hello world\"\n",
    "reverseAString(string)"
   ]
  },
  {
   "cell_type": "code",
   "execution_count": null,
   "id": "bba5dbf0",
   "metadata": {},
   "outputs": [],
   "source": []
  },
  {
   "cell_type": "raw",
   "id": "9ab23402",
   "metadata": {},
   "source": [
    "Subsequence\n",
    "\n",
    "i/p:- \"ab\"\n",
    "o/p:- [\"\", \"a\", \"b\", \"ab\"]"
   ]
  },
  {
   "cell_type": "code",
   "execution_count": 64,
   "id": "2e1cbf85",
   "metadata": {},
   "outputs": [],
   "source": [
    "def helper(string, ans, i, main):\n",
    "    if len(string)==i:\n",
    "        main.append(ans)\n",
    "        return\n",
    "    \n",
    "    # include\n",
    "    helper(string, ans+string[i], i+1, main)\n",
    "    # not include\n",
    "    helper(string, ans, i+1, main)\n",
    "    return"
   ]
  },
  {
   "cell_type": "code",
   "execution_count": 69,
   "id": "589567f2",
   "metadata": {},
   "outputs": [],
   "source": [
    "main = []\n",
    "ans = \"\"\n",
    "string = \"ab\"\n",
    "i = 0\n",
    "helper(string, ans, i, main)"
   ]
  },
  {
   "cell_type": "code",
   "execution_count": 70,
   "id": "668f911d",
   "metadata": {},
   "outputs": [
    {
     "data": {
      "text/plain": [
       "['ab', 'a', 'b', '']"
      ]
     },
     "execution_count": 70,
     "metadata": {},
     "output_type": "execute_result"
    }
   ],
   "source": [
    "main"
   ]
  },
  {
   "cell_type": "code",
   "execution_count": null,
   "id": "200c41a5",
   "metadata": {},
   "outputs": [],
   "source": []
  },
  {
   "cell_type": "raw",
   "id": "734110b8",
   "metadata": {},
   "source": [
    "Subset"
   ]
  },
  {
   "cell_type": "code",
   "execution_count": 3,
   "id": "d455e4ab",
   "metadata": {},
   "outputs": [],
   "source": [
    "def helper(arr, out, i):\n",
    "    if i==len(arr):\n",
    "        return\n",
    "    \n",
    "    for x in range(len(out)):\n",
    "        curr = out[x].copy()\n",
    "        curr.append(arr[i])\n",
    "        out.append(curr)\n",
    "    \n",
    "    helper(arr, out, i+1)\n",
    "\n",
    "def helper2(arr, ans, i, main):\n",
    "    if i==len(arr):\n",
    "        main.append(ans)\n",
    "        return\n",
    "    \n",
    "    ans_copy = ans.copy()\n",
    "    helper2(arr, ans_copy+[arr[i]], i+1, main)\n",
    "    helper2(arr, ans_copy, i+1, main)\n",
    "    return\n",
    "\n",
    "\n",
    "def subset(arr):\n",
    "#     output = [[]]\n",
    "    ans = []\n",
    "    helper2(arr, ans, 0, ans)\n",
    "    print(ans)\n",
    "    return"
   ]
  },
  {
   "cell_type": "code",
   "execution_count": 4,
   "id": "d8cb3089",
   "metadata": {},
   "outputs": [
    {
     "name": "stdout",
     "output_type": "stream",
     "text": [
      "[[1, 2, 3], [1, 2], [1, 3], [1], [2, 3], [2], [3], []]\n"
     ]
    }
   ],
   "source": [
    "arr = [1,2,3]\n",
    "subset(arr)"
   ]
  },
  {
   "cell_type": "code",
   "execution_count": 118,
   "id": "3ced93a9",
   "metadata": {},
   "outputs": [
    {
     "data": {
      "text/plain": [
       "[[1], [2], 3]"
      ]
     },
     "execution_count": 118,
     "metadata": {},
     "output_type": "execute_result"
    }
   ],
   "source": [
    "[[1], [2]]+[3]"
   ]
  },
  {
   "cell_type": "code",
   "execution_count": null,
   "id": "e786de0d",
   "metadata": {},
   "outputs": [],
   "source": []
  },
  {
   "cell_type": "raw",
   "id": "2753319f",
   "metadata": {},
   "source": [
    "Subset Sum Problem"
   ]
  },
  {
   "cell_type": "code",
   "execution_count": 33,
   "id": "7bd43cf8",
   "metadata": {},
   "outputs": [],
   "source": [
    "def helper(arr, summ, tempSum, i):\n",
    "    if summ==tempSum:\n",
    "        return True\n",
    "    if i>=len(arr):\n",
    "        return False\n",
    "    \n",
    "    recCall1 = helper(arr, summ, tempSum+arr[i], i+1)\n",
    "    recCall2 = helper(arr, summ, tempSum, i+1)\n",
    "\n",
    "    return recCall1 or recCall2\n",
    "    \n",
    "\n",
    "def subsetSum(arr, summ):\n",
    "    return helper(arr, summ, 0, 0)"
   ]
  },
  {
   "cell_type": "code",
   "execution_count": 35,
   "id": "62da365a",
   "metadata": {},
   "outputs": [
    {
     "data": {
      "text/plain": [
       "True"
      ]
     },
     "execution_count": 35,
     "metadata": {},
     "output_type": "execute_result"
    }
   ],
   "source": [
    "arr = [1,2,3]\n",
    "subsetSum(arr, 5)"
   ]
  },
  {
   "cell_type": "code",
   "execution_count": null,
   "id": "c5a2b4ad",
   "metadata": {},
   "outputs": [],
   "source": []
  },
  {
   "cell_type": "raw",
   "id": "6d244b56",
   "metadata": {},
   "source": [
    "Permutations\n",
    "https://leetcode.com/problems/permutations/"
   ]
  },
  {
   "cell_type": "raw",
   "id": "2a241eab",
   "metadata": {},
   "source": [
    "Input: nums = [1,2,3]\n",
    "Output: [[1,2,3],[1,3,2],[2,1,3],[2,3,1],[3,1,2],[3,2,1]]\n",
    "\n",
    "count is n!\n",
    "\n",
    "Approach-1\n",
    "[1,2,3] --- [1,_,_], [2,_,_], [3,_,_]\n",
    "we reserve one additional place in each iteration\n",
    "\n",
    "Approach-2\n",
    "swap once or more for one ans\n",
    "first element will try all the place, then 2nd but it will change place in the 1st's answer\n",
    "Jo current index k right me hoga use swap karao\n",
    "ya to element khudke place pe rahega ya right walo k sath chage karega"
   ]
  },
  {
   "cell_type": "code",
   "execution_count": 8,
   "id": "d8843d5f",
   "metadata": {},
   "outputs": [],
   "source": [
    "class Solution:\n",
    "    ans = []\n",
    "    \n",
    "    def helper(self, nums, i):\n",
    "        if i>=len(nums):\n",
    "            self.ans.append(nums)\n",
    "            return\n",
    "        \n",
    "        nums_copy = nums.copy()\n",
    "        for j in range(i, len(nums_copy)):\n",
    "            nums_copy[i], nums_copy[j] = nums_copy[j], nums_copy[i]\n",
    "            self.helper(nums_copy, i+1)\n",
    "            # backtrack\n",
    "            nums_copy[i], nums_copy[j] = nums_copy[j], nums_copy[i]\n",
    "\n",
    "\n",
    "    def permutations(self, arr):\n",
    "        self.helper(arr, 0)\n",
    "        return self.ans"
   ]
  },
  {
   "cell_type": "code",
   "execution_count": 9,
   "id": "fc040646",
   "metadata": {},
   "outputs": [
    {
     "data": {
      "text/plain": [
       "[[1, 2, 3], [1, 3, 2], [2, 1, 3], [2, 3, 1], [3, 2, 1], [3, 1, 2]]"
      ]
     },
     "execution_count": 9,
     "metadata": {},
     "output_type": "execute_result"
    }
   ],
   "source": [
    "s = Solution()\n",
    "s.permutations([1,2,3])"
   ]
  },
  {
   "cell_type": "code",
   "execution_count": null,
   "id": "12e0f665",
   "metadata": {},
   "outputs": [],
   "source": []
  },
  {
   "cell_type": "raw",
   "id": "ba8234fa",
   "metadata": {},
   "source": [
    "Possible words From Phone Digits"
   ]
  },
  {
   "cell_type": "code",
   "execution_count": null,
   "id": "6e93514c",
   "metadata": {},
   "outputs": [],
   "source": []
  },
  {
   "cell_type": "code",
   "execution_count": null,
   "id": "64ba2ea3",
   "metadata": {},
   "outputs": [],
   "source": []
  },
  {
   "cell_type": "code",
   "execution_count": null,
   "id": "0e0969df",
   "metadata": {},
   "outputs": [],
   "source": []
  }
 ],
 "metadata": {
  "kernelspec": {
   "display_name": "Python 3 (ipykernel)",
   "language": "python",
   "name": "python3"
  },
  "language_info": {
   "codemirror_mode": {
    "name": "ipython",
    "version": 3
   },
   "file_extension": ".py",
   "mimetype": "text/x-python",
   "name": "python",
   "nbconvert_exporter": "python",
   "pygments_lexer": "ipython3",
   "version": "3.9.7"
  }
 },
 "nbformat": 4,
 "nbformat_minor": 5
}
