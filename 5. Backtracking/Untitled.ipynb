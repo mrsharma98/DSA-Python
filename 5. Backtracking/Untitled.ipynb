{
 "cells": [
  {
   "cell_type": "code",
   "execution_count": 6,
   "id": "7c9e0d39",
   "metadata": {},
   "outputs": [],
   "source": [
    "def sum(num, add):\n",
    "    if num == 6:\n",
    "        print(add)\n",
    "        return\n",
    "    sum(num+1, add+num)"
   ]
  },
  {
   "cell_type": "code",
   "execution_count": 13,
   "id": "c3683627",
   "metadata": {},
   "outputs": [],
   "source": [
    "def fun(sum):\n",
    "    if (sum == 5):\n",
    "        return\n",
    "    \n",
    "    fun(sum+1)\n",
    "    print(sum)"
   ]
  },
  {
   "cell_type": "code",
   "execution_count": 14,
   "id": "9a7a4def",
   "metadata": {},
   "outputs": [
    {
     "name": "stdout",
     "output_type": "stream",
     "text": [
      "4\n",
      "3\n",
      "2\n",
      "1\n"
     ]
    }
   ],
   "source": [
    "fun(1)"
   ]
  },
  {
   "cell_type": "code",
   "execution_count": null,
   "id": "146cfdf9",
   "metadata": {},
   "outputs": [],
   "source": []
  }
 ],
 "metadata": {
  "kernelspec": {
   "display_name": "Python 3 (ipykernel)",
   "language": "python",
   "name": "python3"
  },
  "language_info": {
   "codemirror_mode": {
    "name": "ipython",
    "version": 3
   },
   "file_extension": ".py",
   "mimetype": "text/x-python",
   "name": "python",
   "nbconvert_exporter": "python",
   "pygments_lexer": "ipython3",
   "version": "3.9.7"
  }
 },
 "nbformat": 4,
 "nbformat_minor": 5
}
