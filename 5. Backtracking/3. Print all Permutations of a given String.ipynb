{
 "cells": [
  {
   "cell_type": "raw",
   "id": "b6a6217f",
   "metadata": {},
   "source": [
    "You are given a string and you are supposed to print all the distinct permutations of the string"
   ]
  },
  {
   "cell_type": "code",
   "execution_count": null,
   "id": "79392124",
   "metadata": {},
   "outputs": [],
   "source": []
  }
 ],
 "metadata": {
  "kernelspec": {
   "display_name": "Python 3 (ipykernel)",
   "language": "python",
   "name": "python3"
  },
  "language_info": {
   "codemirror_mode": {
    "name": "ipython",
    "version": 3
   },
   "file_extension": ".py",
   "mimetype": "text/x-python",
   "name": "python",
   "nbconvert_exporter": "python",
   "pygments_lexer": "ipython3",
   "version": "3.9.7"
  }
 },
 "nbformat": 4,
 "nbformat_minor": 5
}
