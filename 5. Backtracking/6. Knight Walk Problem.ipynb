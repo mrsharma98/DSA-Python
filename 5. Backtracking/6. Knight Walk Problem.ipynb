{
 "cells": [
  {
   "cell_type": "raw",
   "id": "0230c0b4",
   "metadata": {},
   "source": [
    "Given a square chessboard of N x N size, the position of Knight and position of a target is given. We need to find out minimum steps a Knight will take to reach the target position"
   ]
  },
  {
   "cell_type": "raw",
   "id": "cd8ebc66",
   "metadata": {},
   "source": [
    "This problem is the standard application of BFS, where we use the queue to solve the problem\n",
    "\n",
    "**** Whenever we need to find the min distance in a graph, always prefer BFS ****\n",
    "Eg:- snake ladder problem\n",
    "    knight walk problem, etc\n",
    "    \n",
    "-- A knight can reach to at most 8 position from its current position\n",
    "-- if x,y is the position of the knight\n",
    "--> 8 positions are:-\n",
    "(x+2, y-1) \n",
    "(x+2, y+1)\n",
    "(x-2, y-1)\n",
    "(x-2, y+1)\n",
    "(x+1, y+2)\n",
    "(x+1, y-2)\n",
    "(x-1, y+2)\n",
    "(x-1, y-2)\n",
    "\n",
    "so we can make array for x, y\n",
    "row = [2, 2, -2, -2, 1, 1, -1, -1]\n",
    "col = [-1, 1, 1, -1, 2, -2, 2, -2]\n",
    "\n",
    "Boolean visited[x][y]"
   ]
  },
  {
   "cell_type": "code",
   "execution_count": 6,
   "id": "6158c011",
   "metadata": {},
   "outputs": [],
   "source": [
    "class Node:\n",
    "    def __init__(self, x, y, dist):\n",
    "        self.x = x  # x-coordinate\n",
    "        self.y = y  # y-coordinate\n",
    "        self.dist = dist  # distance from its source, not destination\n",
    "        \n",
    "# we will have a queue of type Node, bcz this is BFS"
   ]
  },
  {
   "cell_type": "code",
   "execution_count": 10,
   "id": "e6fd7188",
   "metadata": {},
   "outputs": [],
   "source": [
    "from collections import deque\n",
    "\n",
    "row = [2, 2, -2, -2, 1, 1, -1, -1]\n",
    "col = [-1, 1, 1, -1, 2, -2, 2, -2]\n",
    "\n",
    "class Solution:\n",
    "    \n",
    "    def validPosition(self, x, y, N):\n",
    "        return x<N and x>=0 and y<N and y>=0\n",
    "    \n",
    "    def knightWalk(self, N, source, dest):\n",
    "        q = deque()\n",
    "        q.append(Node(source[0], source[1], 0))\n",
    "        visited = [[0]*N for _ in range(N)]\n",
    "        minMoves = 99999999\n",
    "        while(len(q)>0):\n",
    "            node = q.popleft()\n",
    "            \n",
    "            for i in range(8):\n",
    "                x = node.x + row[i]\n",
    "                y = node.y + col[i]\n",
    "                n = node.dist\n",
    "                if (self.validPosition(x, y, N) and not visited[x][y]):\n",
    "                    visited[x][y] = 1\n",
    "                    q.append(Node(x, y, node.dist+1))\n",
    "                    if x==dest[0] and y==dest[1]:\n",
    "                        minMoves = min(minMoves, n+1)\n",
    "        \n",
    "        return minMoves"
   ]
  },
  {
   "cell_type": "code",
   "execution_count": 11,
   "id": "1cc370dd",
   "metadata": {},
   "outputs": [],
   "source": [
    "s = Solution()"
   ]
  },
  {
   "cell_type": "code",
   "execution_count": 13,
   "id": "d40f2652",
   "metadata": {},
   "outputs": [
    {
     "data": {
      "text/plain": [
       "3"
      ]
     },
     "execution_count": 13,
     "metadata": {},
     "output_type": "execute_result"
    }
   ],
   "source": [
    "s.knightWalk(6, [3,2], [5,5])"
   ]
  },
  {
   "cell_type": "code",
   "execution_count": null,
   "id": "49b7498e",
   "metadata": {},
   "outputs": [],
   "source": []
  },
  {
   "cell_type": "code",
   "execution_count": null,
   "id": "d18e5ba3",
   "metadata": {},
   "outputs": [],
   "source": []
  },
  {
   "cell_type": "code",
   "execution_count": null,
   "id": "ecd2727d",
   "metadata": {},
   "outputs": [],
   "source": []
  }
 ],
 "metadata": {
  "kernelspec": {
   "display_name": "Python 3 (ipykernel)",
   "language": "python",
   "name": "python3"
  },
  "language_info": {
   "codemirror_mode": {
    "name": "ipython",
    "version": 3
   },
   "file_extension": ".py",
   "mimetype": "text/x-python",
   "name": "python",
   "nbconvert_exporter": "python",
   "pygments_lexer": "ipython3",
   "version": "3.9.7"
  }
 },
 "nbformat": 4,
 "nbformat_minor": 5
}
