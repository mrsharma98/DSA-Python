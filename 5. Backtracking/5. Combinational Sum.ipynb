{
 "cells": [
  {
   "cell_type": "raw",
   "id": "a38a1866",
   "metadata": {},
   "source": [
    "Given a set of array numbers (without duplicates) and a target number (target), find all unique combinations in the array where the numbers sum to target.\n",
    "\n",
    "The same repeated number may be chosen from array unlimited number of times.\n",
    "\n",
    "Note:\n",
    "\n",
    "All numbers (including target) will be positive integers.\n",
    "The solution set must not contain duplicate combinations."
   ]
  },
  {
   "cell_type": "raw",
   "id": "671a1268",
   "metadata": {},
   "source": [
    "Eg:- [1,2,3], target=4\n",
    "o/p:- [[1,1,1,1], [1,1,2], [1,3], [2,2]]"
   ]
  },
  {
   "cell_type": "code",
   "execution_count": null,
   "id": "cc969d40",
   "metadata": {},
   "outputs": [],
   "source": []
  },
  {
   "cell_type": "code",
   "execution_count": 91,
   "id": "fb526820",
   "metadata": {},
   "outputs": [],
   "source": [
    "# Solution-1\n",
    "\n",
    "class Solution:\n",
    "    \n",
    "    def __init__(self):\n",
    "        self.res = []\n",
    "    \n",
    "    def helper(self, nums, target, currList, summ, index):\n",
    "        if summ>target:\n",
    "            return\n",
    "        elif summ==target:\n",
    "            currList = currList.copy()\n",
    "            currList.sort()\n",
    "            if currList not in self.res:\n",
    "                self.res.append(currList)\n",
    "            return\n",
    "        \n",
    "        else:\n",
    "            currList = currList.copy()\n",
    "            for i in range(index, len(nums)):\n",
    "                currList.append(nums[i])\n",
    "                self.helper(nums, target, currList, summ+nums[i], index)\n",
    "                currList.pop()\n",
    "    \n",
    "    def combinationSum(self, candidates: List[int], target: int) -> List[List[int]]:\n",
    "        summ=0\n",
    "        currList = []\n",
    "        index = 0\n",
    "        self.helper(candidates, target, currList, summ, index)\n",
    "        return self.res"
   ]
  },
  {
   "cell_type": "code",
   "execution_count": 92,
   "id": "bcc32b17",
   "metadata": {},
   "outputs": [],
   "source": [
    "s = Solution()"
   ]
  },
  {
   "cell_type": "code",
   "execution_count": 93,
   "id": "def191af",
   "metadata": {},
   "outputs": [
    {
     "data": {
      "text/plain": [
       "[[1, 1, 1, 1], [1, 1, 2], [1, 3], [2, 2]]"
      ]
     },
     "execution_count": 93,
     "metadata": {},
     "output_type": "execute_result"
    }
   ],
   "source": [
    "s.combination([1,2,3], 4)"
   ]
  },
  {
   "cell_type": "code",
   "execution_count": null,
   "id": "9cf46047",
   "metadata": {},
   "outputs": [],
   "source": [
    "# Solution 2\n",
    "\n",
    "class Solution:\n",
    "    \n",
    "    def __init__(self):\n",
    "        self.ans = []\n",
    "    \n",
    "    def helper(self, nums, target, index, currSum, temp):\n",
    "        if currSum>target:\n",
    "            return\n",
    "        \n",
    "        if index == len(nums):\n",
    "            if currSum==target:\n",
    "                self.ans.append(temp)\n",
    "            return\n",
    "        \n",
    "        temp = temp.copy()\n",
    "        # include\n",
    "        temp.append(nums[index])\n",
    "        self.helper(nums, target, index, currSum+nums[index], temp)\n",
    "        \n",
    "        #exclude\n",
    "        temp.pop()\n",
    "        self.helper(nums, target, index+1, currSum, temp)\n",
    "    \n",
    "    \n",
    "    def combination(self, nums, target):\n",
    "        temp = []\n",
    "        index = 0\n",
    "        currSum = 0\n",
    "        self.helper(nums, target, index, currSum, temp)\n",
    "        return self.ans"
   ]
  },
  {
   "cell_type": "code",
   "execution_count": null,
   "id": "6f88a837",
   "metadata": {},
   "outputs": [],
   "source": []
  }
 ],
 "metadata": {
  "kernelspec": {
   "display_name": "Python 3 (ipykernel)",
   "language": "python",
   "name": "python3"
  },
  "language_info": {
   "codemirror_mode": {
    "name": "ipython",
    "version": 3
   },
   "file_extension": ".py",
   "mimetype": "text/x-python",
   "name": "python",
   "nbconvert_exporter": "python",
   "pygments_lexer": "ipython3",
   "version": "3.9.7"
  }
 },
 "nbformat": 4,
 "nbformat_minor": 5
}
