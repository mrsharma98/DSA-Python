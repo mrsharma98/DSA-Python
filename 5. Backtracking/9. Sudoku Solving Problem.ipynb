{
 "cells": [
  {
   "cell_type": "raw",
   "id": "1f773356",
   "metadata": {},
   "source": [
    "Given a sudoko puzzle, solve this sudoko puzzle by using backtracking algorithm"
   ]
  },
  {
   "cell_type": "code",
   "execution_count": null,
   "id": "6aabc8d9",
   "metadata": {},
   "outputs": [],
   "source": []
  },
  {
   "cell_type": "raw",
   "id": "471e3946",
   "metadata": {},
   "source": [
    "Approach:-\n",
    "    \n",
    "-- take 3 boards -> 1 for row, 1 for col, 1 for 3x3(cell)\n",
    "\n",
    "--> for row[10][10]\n",
    "-- let's say 1st row 1st element is 5\n",
    "    => in row board = mark rowBoard[row][element] = 1\n",
    "    => in col board, the col is also 0, so colBoard[col][element] = 1\n",
    "    => in 3x3(cell board), => it's the first cell of 3x3 => next is the lower 3x3, not the side one,\n",
    "        so cellBoard[cellBoardNumber][element] (cellBoardNumber=0, in this case)\n",
    "\n",
    "-- this makes the searching o(1)\n",
    "\n",
    "let's say we want to add 2 in board[1][1] (2 = element)\n",
    "=> check rowBoard[1][element] is 1 or not\n",
    "=> check colBoard[1][element] is 1 or not\n",
    "=> check cellBoard[0][element] is 1 or not\n"
   ]
  },
  {
   "cell_type": "code",
   "execution_count": 3,
   "id": "80020f58",
   "metadata": {},
   "outputs": [],
   "source": [
    "class Cell:\n",
    "    def __init__(self, x=0, y=0):\n",
    "        self.x = x\n",
    "        self.y = y"
   ]
  },
  {
   "cell_type": "code",
   "execution_count": 5,
   "id": "0a2a75ce",
   "metadata": {},
   "outputs": [],
   "source": [
    "class Solution:\n",
    "    \n",
    "    def isSafeNumber(board, i, j, num):\n",
    "        pass\n",
    "        # check for row\n",
    "        # check for col\n",
    "        # check for cell\n",
    "        \n",
    "    \n",
    "    def sudoku(self, board):\n",
    "        i, j = 0, 0\n",
    "        c = Cell()\n",
    "        i = c.x\n",
    "        j = c.y\n",
    "        \n",
    "        # run 1-10 loop\n",
    "            # if isSafe\n",
    "                # board[i][j] = num\n",
    "                # if self.sudoku(matrix)\n",
    "                    # return True\n",
    "                # board[i][j] = 0\n",
    "\n",
    "        # reutrn False"
   ]
  },
  {
   "cell_type": "code",
   "execution_count": null,
   "id": "ed114322",
   "metadata": {},
   "outputs": [],
   "source": []
  },
  {
   "cell_type": "raw",
   "id": "27a40fe6",
   "metadata": {},
   "source": [
    "Approach-2"
   ]
  },
  {
   "cell_type": "code",
   "execution_count": 73,
   "id": "42b0c911",
   "metadata": {},
   "outputs": [],
   "source": [
    "class Solution:\n",
    "    \n",
    "    def isSafe(self, grid, num, row, col):\n",
    "        # row\n",
    "        for i in range(9):\n",
    "            if grid[row][i] == num:\n",
    "                return False\n",
    "            \n",
    "        # col\n",
    "        for i in range(9):\n",
    "            if grid[i][col] == num:\n",
    "                return False\n",
    "        \n",
    "        # cell\n",
    "        initialRow = row-row%3\n",
    "        initialCol = col-col%3\n",
    "        for i in range(3):\n",
    "            for j in range(3):\n",
    "                if grid[initialRow+i][initialCol+j] == num:\n",
    "                    return False\n",
    "        \n",
    "        return True\n",
    "            \n",
    "    \n",
    "    \n",
    "    \n",
    "    # if row == 9 ==> return True, end\n",
    "    # if col == 9 ==> return next row\n",
    "    # if grid[row][col]!=0 ==> go to next col\n",
    "    # else:- run loop from 1-9 => check for safe? => is safe place the num and call recursion => then backtrack\n",
    "    def helper(self, grid, row, col):\n",
    "        if row == 9:\n",
    "            return True\n",
    "        if col == 9:\n",
    "            return self.helper(grid, row+1, 0)\n",
    "        \n",
    "        if grid[row][col] != 0:\n",
    "            return self.helper(grid, row, col+1)\n",
    "        \n",
    "        for num in range(1, 10):\n",
    "            if self.isSafe(grid, num, row, col):\n",
    "                grid[row][col] = num\n",
    "                if self.helper(grid, row, col+1):\n",
    "                    return True\n",
    "            grid[row][col] = 0\n",
    "        \n",
    "        return False\n",
    "    \n",
    "    \n",
    "    def sudoku(self, grid):\n",
    "        return self.helper(grid, 0, 0)\n",
    "    \n",
    "    def printGrid(self, grid):\n",
    "        for i in range(9):\n",
    "            for j in range(9):\n",
    "                print(grid[i][j], end=\" \")\n",
    "            print()"
   ]
  },
  {
   "cell_type": "code",
   "execution_count": 74,
   "id": "9f5d4ef8",
   "metadata": {},
   "outputs": [],
   "source": [
    "grid = [[\"5\",\"3\",\".\",\".\",\"7\",\".\",\".\",\".\",\".\"],[\"6\",\".\",\".\",\"1\",\"9\",\"5\",\".\",\".\",\".\"],[\".\",\"9\",\"8\",\".\",\".\",\".\",\".\",\"6\",\".\"],[\"8\",\".\",\".\",\".\",\"6\",\".\",\".\",\".\",\"3\"],[\"4\",\".\",\".\",\"8\",\".\",\"3\",\".\",\".\",\"1\"],[\"7\",\".\",\".\",\".\",\"2\",\".\",\".\",\".\",\"6\"],[\".\",\"6\",\".\",\".\",\".\",\".\",\"2\",\"8\",\".\"],[\".\",\".\",\".\",\"4\",\"1\",\"9\",\".\",\".\",\"5\"],[\".\",\".\",\".\",\".\",\"8\",\".\",\".\",\"7\",\"9\"]]"
   ]
  },
  {
   "cell_type": "code",
   "execution_count": 75,
   "id": "0f224362",
   "metadata": {},
   "outputs": [
    {
     "data": {
      "text/plain": [
       "[[5, 3, 0, 0, 7, 0, 0, 0, 0],\n",
       " [6, 0, 0, 1, 9, 5, 0, 0, 0],\n",
       " [0, 9, 8, 0, 0, 0, 0, 6, 0],\n",
       " [8, 0, 0, 0, 6, 0, 0, 0, 3],\n",
       " [4, 0, 0, 8, 0, 3, 0, 0, 1],\n",
       " [7, 0, 0, 0, 2, 0, 0, 0, 6],\n",
       " [0, 6, 0, 0, 0, 0, 2, 8, 0],\n",
       " [0, 0, 0, 4, 1, 9, 0, 0, 5],\n",
       " [0, 0, 0, 0, 8, 0, 0, 7, 9]]"
      ]
     },
     "execution_count": 75,
     "metadata": {},
     "output_type": "execute_result"
    }
   ],
   "source": [
    "for i in range(9):\n",
    "    for j in range(9):\n",
    "        if grid[i][j] == \".\":\n",
    "            grid[i][j] = 0\n",
    "        grid[i][j] = int(grid[i][j])\n",
    "grid"
   ]
  },
  {
   "cell_type": "code",
   "execution_count": 76,
   "id": "9fbf3983",
   "metadata": {},
   "outputs": [],
   "source": [
    "s = Solution()"
   ]
  },
  {
   "cell_type": "code",
   "execution_count": 77,
   "id": "fcd48030",
   "metadata": {},
   "outputs": [
    {
     "data": {
      "text/plain": [
       "True"
      ]
     },
     "execution_count": 77,
     "metadata": {},
     "output_type": "execute_result"
    }
   ],
   "source": [
    "s.sudoku(grid)"
   ]
  },
  {
   "cell_type": "code",
   "execution_count": 78,
   "id": "eb95123f",
   "metadata": {},
   "outputs": [
    {
     "data": {
      "text/plain": [
       "[[5, 3, 4, 6, 7, 8, 9, 1, 2],\n",
       " [6, 7, 2, 1, 9, 5, 3, 4, 8],\n",
       " [1, 9, 8, 3, 4, 2, 5, 6, 7],\n",
       " [8, 5, 9, 7, 6, 1, 4, 2, 3],\n",
       " [4, 2, 6, 8, 5, 3, 7, 9, 1],\n",
       " [7, 1, 3, 9, 2, 4, 8, 5, 6],\n",
       " [9, 6, 1, 5, 3, 7, 2, 8, 4],\n",
       " [2, 8, 7, 4, 1, 9, 6, 3, 5],\n",
       " [3, 4, 5, 2, 8, 6, 1, 7, 9]]"
      ]
     },
     "execution_count": 78,
     "metadata": {},
     "output_type": "execute_result"
    }
   ],
   "source": [
    "grid"
   ]
  },
  {
   "cell_type": "code",
   "execution_count": null,
   "id": "bfa1b943",
   "metadata": {},
   "outputs": [],
   "source": []
  }
 ],
 "metadata": {
  "kernelspec": {
   "display_name": "Python 3 (ipykernel)",
   "language": "python",
   "name": "python3"
  },
  "language_info": {
   "codemirror_mode": {
    "name": "ipython",
    "version": 3
   },
   "file_extension": ".py",
   "mimetype": "text/x-python",
   "name": "python",
   "nbconvert_exporter": "python",
   "pygments_lexer": "ipython3",
   "version": "3.9.7"
  }
 },
 "nbformat": 4,
 "nbformat_minor": 5
}
