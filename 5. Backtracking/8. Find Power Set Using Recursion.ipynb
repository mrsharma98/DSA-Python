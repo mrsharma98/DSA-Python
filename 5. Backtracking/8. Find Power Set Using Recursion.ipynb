{
 "cells": [
  {
   "cell_type": "raw",
   "id": "db9e4bee",
   "metadata": {},
   "source": [
    "Given a set of positive integers, find all its subsets."
   ]
  },
  {
   "cell_type": "code",
   "execution_count": 13,
   "id": "df93c1cb",
   "metadata": {},
   "outputs": [],
   "source": [
    "class Solution:\n",
    "    def __init__(self):\n",
    "        self.res = []\n",
    "        \n",
    "    def helper(self, arr, index, currAns):\n",
    "        if index==len(arr):\n",
    "            self.res.append(currAns)\n",
    "            return\n",
    "        \n",
    "        currAns = currAns.copy()\n",
    "        # include\n",
    "        self.helper(arr, index+1, currAns+[arr[index]])\n",
    "        # exclude\n",
    "        self.helper(arr, index+1, currAns)\n",
    "        \n",
    "    \n",
    "    \n",
    "    def powerSet(self, arr):\n",
    "        if len(arr)==0:\n",
    "            return self.res\n",
    "        \n",
    "        index = 0\n",
    "        currArr = []\n",
    "        self.helper(arr, index, currArr)\n",
    "        return self.res"
   ]
  },
  {
   "cell_type": "code",
   "execution_count": 14,
   "id": "56be7e1c",
   "metadata": {},
   "outputs": [],
   "source": [
    "s = Solution()"
   ]
  },
  {
   "cell_type": "code",
   "execution_count": 15,
   "id": "8adfabfc",
   "metadata": {},
   "outputs": [
    {
     "data": {
      "text/plain": [
       "[[1, 2, 3], [1, 2], [1, 3], [1], [2, 3], [2], [3], []]"
      ]
     },
     "execution_count": 15,
     "metadata": {},
     "output_type": "execute_result"
    }
   ],
   "source": [
    "s.powerSet([1,2,3])"
   ]
  },
  {
   "cell_type": "markdown",
   "id": "62f408e5",
   "metadata": {},
   "source": []
  }
 ],
 "metadata": {
  "kernelspec": {
   "display_name": "Python 3 (ipykernel)",
   "language": "python",
   "name": "python3"
  },
  "language_info": {
   "codemirror_mode": {
    "name": "ipython",
    "version": 3
   },
   "file_extension": ".py",
   "mimetype": "text/x-python",
   "name": "python",
   "nbconvert_exporter": "python",
   "pygments_lexer": "ipython3",
   "version": "3.9.7"
  }
 },
 "nbformat": 4,
 "nbformat_minor": 5
}
