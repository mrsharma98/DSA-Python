{
 "cells": [
  {
   "cell_type": "raw",
   "id": "9dfaba8b",
   "metadata": {},
   "source": [
    "Given a maze, NxN matrix.matrix[0][0] (left top corner)is the source and matrix[N-1][N-1](right bottom corner) is destination. There are few cells which are blocked, means rat cannot enter into those cells. Rat can move in direction ( forward,down). A rat has to find a path from source to destination"
   ]
  },
  {
   "cell_type": "code",
   "execution_count": 7,
   "id": "e963126d",
   "metadata": {},
   "outputs": [],
   "source": [
    "class Solution:\n",
    "    def __init__(self):\n",
    "        self.ans = []\n",
    "        \n",
    "    def isSafe(self, mat, srcx, srcy, n, vis):\n",
    "        return (srcx>=0 and srcy>=0 and srcx<n and srcy<n and mat[srcx][srcy]==1 and vis[srcx][srcy]==0)\n",
    "    \n",
    "    def helper(self, mat, n, vis, srcx, srcy, temp):\n",
    "        if srcx==n-1 and srcy==n-1:\n",
    "            self.ans.append(temp)\n",
    "            return\n",
    "        \n",
    "        vis[srcx][srcy] = 1\n",
    "        \n",
    "        # Down, Left, Right, Up\n",
    "        # for Down (D)\n",
    "        if self.isSafe(mat, srcx+1, srcy, n, vis):\n",
    "            self.helper(mat, n, vis, srcx+1, srcy, temp+'D')\n",
    "        \n",
    "        # for Left (D)\n",
    "        if self.isSafe(mat, srcx, srcy-1, n, vis):\n",
    "            self.helper(mat, n, vis, srcx, srcy-1, temp+'L')\n",
    "        \n",
    "        # for Right (D)\n",
    "        if self.isSafe(mat, srcx, srcy+1, n, vis):\n",
    "            self.helper(mat, n, vis, srcx, srcy+1, temp+'R')\n",
    "        \n",
    "        # for Up (D)\n",
    "        if self.isSafe(mat, srcx-1, srcy, n, vis):\n",
    "            self.helper(mat, n, vis, srcx-1, srcy, temp+'D')\n",
    "        \n",
    "        vis[srcx][srcy] = 0\n",
    "        \n",
    "        \n",
    "    def ratMaze(self, mat, n):\n",
    "        if mat[0][0] == 0:\n",
    "            return\n",
    "            \n",
    "        vis = [[0]*n for _ in range(n)]\n",
    "        srcx = 0\n",
    "        srcy = 0\n",
    "        temp = \"\"\n",
    "        self.helper(mat, n, vis, srcx, srcy, temp)\n",
    "        return self.ans"
   ]
  },
  {
   "cell_type": "code",
   "execution_count": 8,
   "id": "6884897f",
   "metadata": {},
   "outputs": [],
   "source": [
    "s = Solution()"
   ]
  },
  {
   "cell_type": "code",
   "execution_count": 9,
   "id": "133138ab",
   "metadata": {},
   "outputs": [
    {
     "data": {
      "text/plain": [
       "['DDRDRR', 'DRDDRR']"
      ]
     },
     "execution_count": 9,
     "metadata": {},
     "output_type": "execute_result"
    }
   ],
   "source": [
    "m = [[1,0,0,0], [1,1,0,0], [1,1,0,0], [0,1,1,1]]\n",
    "n = len(m)\n",
    "\n",
    "s.ratMaze(m, n)"
   ]
  },
  {
   "cell_type": "code",
   "execution_count": null,
   "id": "a43a9c4d",
   "metadata": {},
   "outputs": [],
   "source": []
  }
 ],
 "metadata": {
  "kernelspec": {
   "display_name": "Python 3 (ipykernel)",
   "language": "python",
   "name": "python3"
  },
  "language_info": {
   "codemirror_mode": {
    "name": "ipython",
    "version": 3
   },
   "file_extension": ".py",
   "mimetype": "text/x-python",
   "name": "python",
   "nbconvert_exporter": "python",
   "pygments_lexer": "ipython3",
   "version": "3.9.7"
  }
 },
 "nbformat": 4,
 "nbformat_minor": 5
}
