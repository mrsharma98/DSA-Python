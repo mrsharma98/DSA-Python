{
 "cells": [
  {
   "cell_type": "raw",
   "id": "c02f43e6",
   "metadata": {},
   "source": [
    "Given a string containing digits from 2-9 inclusive, return all possible letter combinations that the number could represent.\n",
    "\n",
    "A mapping of digit to letters (just like on the telephone buttons) is given below. Note that 1 does not map to any letters."
   ]
  },
  {
   "cell_type": "code",
   "execution_count": null,
   "id": "4d7dc594",
   "metadata": {},
   "outputs": [],
   "source": []
  },
  {
   "cell_type": "code",
   "execution_count": 8,
   "id": "74ab5895",
   "metadata": {},
   "outputs": [],
   "source": [
    "class Solution:\n",
    "    def __init__(self):\n",
    "        self.keys = [\"\", \"\", \"abc\", \"def\", \"ghi\", \"jkl\", \"mno\", \"pqrs\", \"tuv\", \"wxyz\"]\n",
    "        self.ans = []\n",
    "    \n",
    "    \n",
    "    def helper(self, nums, n, index, currAns):\n",
    "        if index==n:\n",
    "            self.ans.append(currAns)\n",
    "            return\n",
    "        \n",
    "        for i in range(len(self.keys[nums[index]])):\n",
    "            self.helper(nums, n, index+1, currAns+self.keys[nums[index]][i])\n",
    "    \n",
    "        \n",
    "    def phone(self, string):\n",
    "        nums = [int(s) for s in string]\n",
    "        N = len(nums)\n",
    "        currAns = \"\"\n",
    "        self.helper(nums, N, 0, currAns)\n",
    "        return self.ans"
   ]
  },
  {
   "cell_type": "code",
   "execution_count": 9,
   "id": "2c0bc2ce",
   "metadata": {},
   "outputs": [],
   "source": [
    "s = Solution()"
   ]
  },
  {
   "cell_type": "code",
   "execution_count": 10,
   "id": "3d4f69c2",
   "metadata": {},
   "outputs": [
    {
     "data": {
      "text/plain": [
       "['dg', 'dh', 'di', 'eg', 'eh', 'ei', 'fg', 'fh', 'fi']"
      ]
     },
     "execution_count": 10,
     "metadata": {},
     "output_type": "execute_result"
    }
   ],
   "source": [
    "s.phone(\"34\")"
   ]
  },
  {
   "cell_type": "code",
   "execution_count": null,
   "id": "f54c6828",
   "metadata": {},
   "outputs": [],
   "source": []
  }
 ],
 "metadata": {
  "kernelspec": {
   "display_name": "Python 3 (ipykernel)",
   "language": "python",
   "name": "python3"
  },
  "language_info": {
   "codemirror_mode": {
    "name": "ipython",
    "version": 3
   },
   "file_extension": ".py",
   "mimetype": "text/x-python",
   "name": "python",
   "nbconvert_exporter": "python",
   "pygments_lexer": "ipython3",
   "version": "3.9.7"
  }
 },
 "nbformat": 4,
 "nbformat_minor": 5
}
