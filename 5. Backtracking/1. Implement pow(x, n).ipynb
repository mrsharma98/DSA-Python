{
 "cells": [
  {
   "cell_type": "code",
   "execution_count": 1,
   "id": "7c9e0d39",
   "metadata": {},
   "outputs": [],
   "source": [
    "def summ(num, add):\n",
    "    if num == 6:\n",
    "        print(add)\n",
    "        return\n",
    "    summ(num+1, add+num)"
   ]
  },
  {
   "cell_type": "code",
   "execution_count": 13,
   "id": "c3683627",
   "metadata": {},
   "outputs": [],
   "source": [
    "def fun(sum):\n",
    "    if (sum == 5):\n",
    "        return\n",
    "    \n",
    "    fun(sum+1)\n",
    "    print(sum)"
   ]
  },
  {
   "cell_type": "code",
   "execution_count": 4,
   "id": "9a7a4def",
   "metadata": {},
   "outputs": [
    {
     "name": "stdout",
     "output_type": "stream",
     "text": [
      "15\n"
     ]
    }
   ],
   "source": [
    "summ(1, 0)"
   ]
  },
  {
   "cell_type": "code",
   "execution_count": null,
   "id": "146cfdf9",
   "metadata": {},
   "outputs": [],
   "source": []
  },
  {
   "cell_type": "markdown",
   "id": "4415b35e",
   "metadata": {},
   "source": [
    "# POWER(X,N)"
   ]
  },
  {
   "cell_type": "raw",
   "id": "0f6cb7cb",
   "metadata": {},
   "source": [
    "Given an integer x and a positive number n, write a efficient algorithm to computes x^n "
   ]
  },
  {
   "cell_type": "raw",
   "id": "3d55698b",
   "metadata": {},
   "source": [
    "Even Number power --> result*result\n",
    "Odd Number power --> num*result*result\n",
    "\n",
    "divided power by 2\n",
    "\n",
    "x**67 --> x*(x**33)(x**33)\n",
    "x**64 --> (x**32)(x**32)"
   ]
  },
  {
   "cell_type": "code",
   "execution_count": 3,
   "id": "a7e741a1",
   "metadata": {},
   "outputs": [],
   "source": [
    "def power(x, n):\n",
    "    if n==1:\n",
    "        return x\n",
    "    \n",
    "    result = power(x, n//2)\n",
    "    if n&1:\n",
    "        return x*(result)*(result)\n",
    "    else:\n",
    "        return result*result"
   ]
  },
  {
   "cell_type": "code",
   "execution_count": 2,
   "id": "e3c9cbbc",
   "metadata": {},
   "outputs": [
    {
     "data": {
      "text/plain": [
       "3125"
      ]
     },
     "execution_count": 2,
     "metadata": {},
     "output_type": "execute_result"
    }
   ],
   "source": [
    "power(5, 5)"
   ]
  },
  {
   "cell_type": "code",
   "execution_count": 14,
   "id": "d71a67ca",
   "metadata": {},
   "outputs": [
    {
     "data": {
      "text/plain": [
       "3125"
      ]
     },
     "execution_count": 14,
     "metadata": {},
     "output_type": "execute_result"
    }
   ],
   "source": [
    "pow(5, 5)"
   ]
  },
  {
   "cell_type": "code",
   "execution_count": null,
   "id": "2928c9d2",
   "metadata": {},
   "outputs": [],
   "source": []
  }
 ],
 "metadata": {
  "kernelspec": {
   "display_name": "Python 3 (ipykernel)",
   "language": "python",
   "name": "python3"
  },
  "language_info": {
   "codemirror_mode": {
    "name": "ipython",
    "version": 3
   },
   "file_extension": ".py",
   "mimetype": "text/x-python",
   "name": "python",
   "nbconvert_exporter": "python",
   "pygments_lexer": "ipython3",
   "version": "3.9.7"
  }
 },
 "nbformat": 4,
 "nbformat_minor": 5
}
