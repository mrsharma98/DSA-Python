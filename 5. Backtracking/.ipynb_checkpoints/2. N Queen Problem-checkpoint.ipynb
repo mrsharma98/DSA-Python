{
 "cells": [
  {
   "cell_type": "raw",
   "id": "4872d976",
   "metadata": {},
   "source": [
    "find an arrangement of N queens on a chess board, such that no queen can attack any other queens on the board. The chess queens can attack in any direction as horizontal, vertical, horizontal and diagonal way"
   ]
  },
  {
   "cell_type": "code",
   "execution_count": 13,
   "id": "bbb380c3",
   "metadata": {},
   "outputs": [],
   "source": [
    "class Solution:\n",
    "    \n",
    "    def isValid(self, row, col, board, n):\n",
    "        # for checking row\n",
    "        x, y = row, col\n",
    "        while y>=0:\n",
    "            if board[x][y] == 'Q':\n",
    "                return False\n",
    "            y -= 1\n",
    "        \n",
    "        # for checking left upper diagonal\n",
    "        x, y = row, col\n",
    "        while x>=0 and y>=0:\n",
    "            if board[x][y] == 'Q':\n",
    "                return False\n",
    "            x -= 1\n",
    "            y -= 1\n",
    "        \n",
    "        # for checking lower left diagonal\n",
    "        x, y = row, col\n",
    "        while x<n and y>=0:\n",
    "            if board[x][y] == 'Q':\n",
    "                return False\n",
    "            x += 1\n",
    "            y -= 1\n",
    "        \n",
    "        return True\n",
    "    \n",
    "    \n",
    "    def backtrack(self, col, res, board, n):\n",
    "        if col == n:\n",
    "            res.append([\"\".join(b) for b in board])\n",
    "            return\n",
    "        \n",
    "        for row in range(n):\n",
    "            if not self.isValid(row, col, board, n):\n",
    "                continue\n",
    "            \n",
    "            board[row][col] = 'Q'\n",
    "            self.backtrack(col+1, res, board, n)\n",
    "            board[row][col] = '.'\n",
    "    \n",
    "    \n",
    "    def solveNQueens(self, n: int) -> List[List[str]]:\n",
    "        res = []\n",
    "        board = [[\".\"]*n for _ in range(n)]\n",
    "        self.backtrack(0, res, board, n)\n",
    "        \n",
    "        return res"
   ]
  },
  {
   "cell_type": "code",
   "execution_count": 14,
   "id": "b1d7f0b2",
   "metadata": {},
   "outputs": [],
   "source": [
    "s = Solution()"
   ]
  },
  {
   "cell_type": "code",
   "execution_count": 15,
   "id": "65c2bd0e",
   "metadata": {},
   "outputs": [
    {
     "data": {
      "text/plain": [
       "[['..Q.', 'Q...', '...Q', '.Q..'], ['.Q..', '...Q', 'Q...', '..Q.']]"
      ]
     },
     "execution_count": 15,
     "metadata": {},
     "output_type": "execute_result"
    }
   ],
   "source": [
    "s.nQueen(4)"
   ]
  },
  {
   "cell_type": "code",
   "execution_count": null,
   "id": "5c408877",
   "metadata": {},
   "outputs": [],
   "source": []
  }
 ],
 "metadata": {
  "kernelspec": {
   "display_name": "Python 3 (ipykernel)",
   "language": "python",
   "name": "python3"
  },
  "language_info": {
   "codemirror_mode": {
    "name": "ipython",
    "version": 3
   },
   "file_extension": ".py",
   "mimetype": "text/x-python",
   "name": "python",
   "nbconvert_exporter": "python",
   "pygments_lexer": "ipython3",
   "version": "3.9.7"
  }
 },
 "nbformat": 4,
 "nbformat_minor": 5
}
