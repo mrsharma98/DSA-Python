{
 "cells": [
  {
   "cell_type": "raw",
   "id": "d30ff67c",
   "metadata": {},
   "source": [
    "https://leetcode.com/problems/permutations/"
   ]
  },
  {
   "cell_type": "raw",
   "id": "3203af30",
   "metadata": {},
   "source": [
    "You are given a string and you are supposed to print all the distinct permutations of the string"
   ]
  },
  {
   "cell_type": "code",
   "execution_count": 3,
   "id": "409b68fe",
   "metadata": {},
   "outputs": [],
   "source": [
    "class Solution:\n",
    "        \n",
    "    def __init__(self):\n",
    "        self.res = []\n",
    "        \n",
    "    def helper(self, word, start):\n",
    "        if start>=len(word):\n",
    "            print(word)\n",
    "            self.res.append(word)\n",
    "        \n",
    "        word = word.copy()\n",
    "        for index in range(start, len(word)):\n",
    "            word[index], word[start] = word[start], word[index]\n",
    "            self.helper(word, start+1)\n",
    "            word[index], word[start] = word[start], word[index]\n",
    "    \n",
    "    def permute(self, nums):\n",
    "        self.helper(nums, 0)\n",
    "        return self.res"
   ]
  },
  {
   "cell_type": "code",
   "execution_count": 4,
   "id": "8145f72f",
   "metadata": {},
   "outputs": [],
   "source": [
    "s = Solution()"
   ]
  },
  {
   "cell_type": "code",
   "execution_count": 6,
   "id": "a9efe0ff",
   "metadata": {},
   "outputs": [
    {
     "name": "stdout",
     "output_type": "stream",
     "text": [
      "[1, 2, 3]\n",
      "[1, 3, 2]\n",
      "[2, 1, 3]\n",
      "[2, 3, 1]\n",
      "[3, 2, 1]\n",
      "[3, 1, 2]\n"
     ]
    },
    {
     "data": {
      "text/plain": [
       "[[1, 2, 3], [1, 3, 2], [2, 1, 3], [2, 3, 1], [3, 2, 1], [3, 1, 2]]"
      ]
     },
     "execution_count": 6,
     "metadata": {},
     "output_type": "execute_result"
    }
   ],
   "source": [
    "s.permute([1,2,3])"
   ]
  },
  {
   "cell_type": "code",
   "execution_count": null,
   "id": "6841812d",
   "metadata": {},
   "outputs": [],
   "source": []
  }
 ],
 "metadata": {
  "kernelspec": {
   "display_name": "Python 3 (ipykernel)",
   "language": "python",
   "name": "python3"
  },
  "language_info": {
   "codemirror_mode": {
    "name": "ipython",
    "version": 3
   },
   "file_extension": ".py",
   "mimetype": "text/x-python",
   "name": "python",
   "nbconvert_exporter": "python",
   "pygments_lexer": "ipython3",
   "version": "3.9.7"
  }
 },
 "nbformat": 4,
 "nbformat_minor": 5
}
