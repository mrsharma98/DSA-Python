{
 "cells": [
  {
   "cell_type": "markdown",
   "id": "daeee633",
   "metadata": {},
   "source": [
    "Memoization"
   ]
  },
  {
   "cell_type": "code",
   "execution_count": 3,
   "id": "b6a0d91c",
   "metadata": {},
   "outputs": [],
   "source": [
    "# TC:- O(n)\n",
    "# SC:- O(n) --recursion + O(n) --dp\n",
    "\n",
    "def solve1(n, dp):\n",
    "    if n<=1:\n",
    "        return n\n",
    "    if dp[n] != -1:\n",
    "        return dp[n]\n",
    "    \n",
    "    dp[n] = solve1(n-1, dp) + solve1(n-2, dp)\n",
    "    return dp[n]\n",
    "\n",
    "def func1(n):\n",
    "    dp = [-1]*(n+1)\n",
    "    solve1(n, dp)\n",
    "    print(dp[n])"
   ]
  },
  {
   "cell_type": "code",
   "execution_count": 5,
   "id": "8ca22bd8",
   "metadata": {},
   "outputs": [
    {
     "name": "stdout",
     "output_type": "stream",
     "text": [
      "13\n"
     ]
    }
   ],
   "source": [
    "func1(7)"
   ]
  },
  {
   "cell_type": "code",
   "execution_count": null,
   "id": "e5f6ec9d",
   "metadata": {},
   "outputs": [],
   "source": []
  },
  {
   "cell_type": "markdown",
   "id": "51bbf406",
   "metadata": {},
   "source": [
    "Tabulation"
   ]
  },
  {
   "cell_type": "code",
   "execution_count": 6,
   "id": "72e66a1b",
   "metadata": {},
   "outputs": [],
   "source": [
    "# TC:- O(n)\n",
    "# SC:- O(n)\n",
    "\n",
    "def func2(n):\n",
    "    dp = [-1]*(n+1)\n",
    "    dp[0], dp[1] = 0, 1\n",
    "    \n",
    "    for i in range(2, n+1):\n",
    "        dp[i] = dp[i-1] + dp[i-2]\n",
    "    \n",
    "    return dp[n]"
   ]
  },
  {
   "cell_type": "code",
   "execution_count": 8,
   "id": "bb753687",
   "metadata": {},
   "outputs": [
    {
     "data": {
      "text/plain": [
       "13"
      ]
     },
     "execution_count": 8,
     "metadata": {},
     "output_type": "execute_result"
    }
   ],
   "source": [
    "func2(7)"
   ]
  },
  {
   "cell_type": "code",
   "execution_count": null,
   "id": "668b8419",
   "metadata": {},
   "outputs": [],
   "source": []
  },
  {
   "cell_type": "markdown",
   "id": "6c68fcb8",
   "metadata": {},
   "source": [
    "Space Optimization"
   ]
  },
  {
   "cell_type": "code",
   "execution_count": 14,
   "id": "eeb4c2c1",
   "metadata": {},
   "outputs": [],
   "source": [
    "# TC:- O(n)\n",
    "# SC:- O(1)\n",
    "\n",
    "def func3(n):\n",
    "    prev1 = 0\n",
    "    prev2 = 1\n",
    "    \n",
    "    for i in range(2, n+1):\n",
    "        curr = prev1 + prev2\n",
    "        prev1 = prev2\n",
    "        prev2 = curr\n",
    "    \n",
    "    return prev2"
   ]
  },
  {
   "cell_type": "code",
   "execution_count": 16,
   "id": "18339696",
   "metadata": {},
   "outputs": [
    {
     "data": {
      "text/plain": [
       "13"
      ]
     },
     "execution_count": 16,
     "metadata": {},
     "output_type": "execute_result"
    }
   ],
   "source": [
    "func3(7)"
   ]
  },
  {
   "cell_type": "code",
   "execution_count": null,
   "id": "f57bf276",
   "metadata": {},
   "outputs": [],
   "source": []
  }
 ],
 "metadata": {
  "kernelspec": {
   "display_name": "Python 3 (ipykernel)",
   "language": "python",
   "name": "python3"
  },
  "language_info": {
   "codemirror_mode": {
    "name": "ipython",
    "version": 3
   },
   "file_extension": ".py",
   "mimetype": "text/x-python",
   "name": "python",
   "nbconvert_exporter": "python",
   "pygments_lexer": "ipython3",
   "version": "3.9.13"
  }
 },
 "nbformat": 4,
 "nbformat_minor": 5
}
