{
 "cells": [
  {
   "cell_type": "code",
   "execution_count": 1,
   "id": "63656c17",
   "metadata": {},
   "outputs": [],
   "source": [
    "# can be solved using level order traversal\n",
    "# also with recursion"
   ]
  },
  {
   "cell_type": "code",
   "execution_count": 2,
   "id": "ca00ed01",
   "metadata": {},
   "outputs": [],
   "source": [
    "first_node_level = 0\n",
    "ans = []\n",
    "def leftView(node, level):\n",
    "    if node == None:\n",
    "        return\n",
    "    \n",
    "    if first_node_level<level:\n",
    "        ans.append(node.val)\n",
    "        first_node_level = level\n",
    "    \n",
    "    leftView(node.left, level+1)\n",
    "    leftView(node.right, level+1)"
   ]
  },
  {
   "cell_type": "code",
   "execution_count": null,
   "id": "f2f60977",
   "metadata": {},
   "outputs": [],
   "source": []
  },
  {
   "cell_type": "markdown",
   "id": "55f9d0a1",
   "metadata": {},
   "source": [
    "# Cousin Nodes"
   ]
  },
  {
   "cell_type": "raw",
   "id": "c5fba423",
   "metadata": {},
   "source": [
    "Check two nodes are cousin or not\n",
    "\n",
    "-- Both the nodes should not have same parent\n",
    "-- Both the nodes should have same depth"
   ]
  },
  {
   "cell_type": "code",
   "execution_count": 9,
   "id": "df238c86",
   "metadata": {},
   "outputs": [],
   "source": [
    "class Solution:\n",
    "    \n",
    "    def findDepth(self, root, node, level):\n",
    "        if root is None:\n",
    "            return 0\n",
    "        if root.val == node:\n",
    "            return level\n",
    "\n",
    "        left = self.findDepth(root.left, node, level+1)\n",
    "        if left!=0:\n",
    "            return left\n",
    "        return self.findDepth(root.right, node, level+1)\n",
    "    \n",
    "    \n",
    "    def sameParent(self, root, node1, node2):\n",
    "        if root == None:\n",
    "            return False\n",
    "\n",
    "        if root.left and root.right:\n",
    "            if (root.left.val==node1 and root.right.val==node2):\n",
    "                return True\n",
    "            elif (root.left.val==node2 and root.right.val==node1):\n",
    "                return True\n",
    "        ans = False\n",
    "        if root.left is not None:\n",
    "            ans = ans or self.sameParent(root.left, node1, node2)\n",
    "        if root.right is not None:\n",
    "            ans = ans or self.sameParent(root.right, node1, node2)\n",
    "        \n",
    "        return ans\n",
    "\n",
    "\n",
    "    def isCousins(self, root, x, y):\n",
    "        depth1 = self.findDepth(root, x, 0)\n",
    "        depth2 = self.findDepth(root, y, 0)\n",
    "        if depth1!=depth2:\n",
    "            return False\n",
    "        print(self.sameParent(root, x, y))\n",
    "        return not self.sameParent(root, x, y)"
   ]
  },
  {
   "cell_type": "raw",
   "id": "6b7f050e",
   "metadata": {},
   "source": [
    "https://leetcode.com/problems/cousins-in-binary-tree/"
   ]
  },
  {
   "cell_type": "code",
   "execution_count": null,
   "id": "7da2cef9",
   "metadata": {},
   "outputs": [],
   "source": []
  }
 ],
 "metadata": {
  "kernelspec": {
   "display_name": "Python 3 (ipykernel)",
   "language": "python",
   "name": "python3"
  },
  "language_info": {
   "codemirror_mode": {
    "name": "ipython",
    "version": 3
   },
   "file_extension": ".py",
   "mimetype": "text/x-python",
   "name": "python",
   "nbconvert_exporter": "python",
   "pygments_lexer": "ipython3",
   "version": "3.9.7"
  }
 },
 "nbformat": 4,
 "nbformat_minor": 5
}
