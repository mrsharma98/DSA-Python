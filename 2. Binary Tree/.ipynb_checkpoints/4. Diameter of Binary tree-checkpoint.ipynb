{
 "cells": [
  {
   "cell_type": "code",
   "execution_count": 1,
   "id": "bb7a5497",
   "metadata": {},
   "outputs": [],
   "source": [
    "# The diameter of a binary tree is the length of the longest path between any two nodes\n",
    "# Find diameter of tree in Time Complexity O(n)"
   ]
  },
  {
   "cell_type": "code",
   "execution_count": null,
   "id": "a9ef2158",
   "metadata": {},
   "outputs": [],
   "source": []
  },
  {
   "cell_type": "code",
   "execution_count": 4,
   "id": "7176053d",
   "metadata": {},
   "outputs": [],
   "source": [
    "# Diameter = leftSubtree(height) + rightSubtree(height) + 1\n",
    "# 1 + max(leftSubtree(height), rightSubtree(height))"
   ]
  },
  {
   "cell_type": "code",
   "execution_count": 5,
   "id": "74df3bbc",
   "metadata": {},
   "outputs": [],
   "source": [
    "diameter = 0\n",
    "max_diameter = 0\n",
    "def findDiameter(node):\n",
    "    if node == None:\n",
    "        return 0\n",
    "    \n",
    "    left_height = findDiameter(node.left)\n",
    "    right_height = findDiameter(node.right)\n",
    "    \n",
    "    diameter = left_height + right_height\n",
    "    \n",
    "    if (max_diameter < diameter):\n",
    "        max_diameter = diameter\n",
    "    \n",
    "    return 1+max(left_height, right_height)"
   ]
  },
  {
   "cell_type": "code",
   "execution_count": null,
   "id": "340eb4ba",
   "metadata": {},
   "outputs": [],
   "source": []
  },
  {
   "cell_type": "code",
   "execution_count": null,
   "id": "4b17bb40",
   "metadata": {},
   "outputs": [],
   "source": []
  },
  {
   "cell_type": "code",
   "execution_count": 6,
   "id": "fec7def6",
   "metadata": {},
   "outputs": [],
   "source": [
    "# Find largest Subtree in BST"
   ]
  },
  {
   "cell_type": "code",
   "execution_count": 7,
   "id": "666d9acb",
   "metadata": {},
   "outputs": [],
   "source": [
    "# Given a binary tree, find the largest subtree which is a BST,\n",
    "# where the largest means subtree with the largest number of nodes in it."
   ]
  },
  {
   "cell_type": "code",
   "execution_count": 2,
   "id": "69e23fc5",
   "metadata": {},
   "outputs": [],
   "source": [
    "# just check\n",
    "# min value in the right subtree more than root\n",
    "# max value in the left subtree less than root\n",
    "# start from bottom\n",
    "\n",
    "#(size, max, min, boolean)\n",
    "# -- boolean --  if that particular subtree is BST or not.\n",
    "# min, max -- value in whole subtree (check above condition)"
   ]
  },
  {
   "cell_type": "code",
   "execution_count": 3,
   "id": "70cca9ed",
   "metadata": {},
   "outputs": [],
   "source": [
    "class Listt:\n",
    "    def __init__(self, size, min, max, isBST):\n",
    "        self.size = size\n",
    "        self.min = min\n",
    "        self.max = max\n",
    "        self.isBST = isBST"
   ]
  },
  {
   "cell_type": "code",
   "execution_count": 5,
   "id": "85bf74d0",
   "metadata": {},
   "outputs": [],
   "source": [
    "def largestBST(node):\n",
    "    if root == None:\n",
    "        return Listt(0, -999999999, 9999999, true)\n",
    "    \n",
    "    if root.left == None and root.right == None:\n",
    "        return Listt(1, root.data, True)\n",
    "    \n",
    "    left = largestBST(root.left)\n",
    "    right = largestBST(root.right)\n",
    "    \n",
    "    ret.size = (1+ left.size + right.size)\n",
    "    \n",
    "    if left.isBST and right.isBST and left.max < root.data and right.min < root.data:\n",
    "        ret.min = min(left.min, min(right.min, root.data))\n",
    "        ret.max = max(right.max, max(left.max, root.data))\n",
    "        ret.isBST = true\n",
    "        \n",
    "        return ret\n",
    "    \n",
    "    ret.isBST = false\n",
    "    \n",
    "    return ret"
   ]
  },
  {
   "cell_type": "code",
   "execution_count": null,
   "id": "3decf66f",
   "metadata": {},
   "outputs": [],
   "source": []
  },
  {
   "cell_type": "code",
   "execution_count": null,
   "id": "53f8b11b",
   "metadata": {},
   "outputs": [],
   "source": []
  },
  {
   "cell_type": "markdown",
   "id": "4976ba21",
   "metadata": {},
   "source": [
    "# Practice"
   ]
  },
  {
   "cell_type": "code",
   "execution_count": null,
   "id": "e021759b",
   "metadata": {},
   "outputs": [],
   "source": [
    "max_diameter = 0\n",
    "diamtr = 0\n",
    "\n",
    "def diameter(node):\n",
    "    if node is None:\n",
    "        return 0\n",
    "    \n",
    "    left = diameter(node.left)\n",
    "    right = diameter(node.right)\n",
    "    \n",
    "    diamtr = left + right\n",
    "    if max_diameter < diamtr:\n",
    "        max_diameter = diamtr\n",
    "    \n",
    "    return 1+max(left, right)"
   ]
  },
  {
   "cell_type": "code",
   "execution_count": null,
   "id": "0689ecd5",
   "metadata": {},
   "outputs": [],
   "source": []
  },
  {
   "cell_type": "code",
   "execution_count": 1,
   "id": "5f196df7",
   "metadata": {},
   "outputs": [],
   "source": [
    "class NodeInfo:\n",
    "    def __init__(self, size, minn, maxx, isBST):\n",
    "        self.size = size\n",
    "        self.min = minn\n",
    "        self.max = maxx\n",
    "        self.isBST = isBST"
   ]
  },
  {
   "cell_type": "code",
   "execution_count": null,
   "id": "b6871618",
   "metadata": {},
   "outputs": [],
   "source": [
    "import sys\n",
    "\n",
    "\n",
    "# for checking if a tree is BST\n",
    "# we take the max value from left subtree \n",
    "# and min value from right subtree\n",
    "\n",
    "\n",
    "def largestBST(node):\n",
    "    if node == None:\n",
    "        return NodeInfo(0, -sys.maxsize, sys.maxsize, True)\n",
    "    \n",
    "    if node.left is None and node.right is None:\n",
    "        return NodeInfo(0, node.data, node.data, True)\n",
    "    \n",
    "    leftSide = largestBST(node.left)\n",
    "    rightSide = largestBST(node.right)\n",
    "    \n",
    "    currNodeInfo.size = 1+leftSide.size+rightSide.size\n",
    "    \n",
    "    \n",
    "    if leftSide.isBST and rightSide.isBST and node.data>leftSide.maxx and node.data<rightSide.minn:\n",
    "        currNodeInfo.minn = min(leftSide.minn, min(root.data, rightSide.minn))\n",
    "        currNodeInfo.maxx = max(rightSide.maxx, max(leftSide.maxx, root.data))\n",
    "        currNodeInfo.isBST = True\n",
    "        \n",
    "        return currNodeInfo\n",
    "    \n",
    "    currNodeInfo.isBST = False\n",
    "    return currNodeInfo"
   ]
  }
 ],
 "metadata": {
  "kernelspec": {
   "display_name": "Python 3 (ipykernel)",
   "language": "python",
   "name": "python3"
  },
  "language_info": {
   "codemirror_mode": {
    "name": "ipython",
    "version": 3
   },
   "file_extension": ".py",
   "mimetype": "text/x-python",
   "name": "python",
   "nbconvert_exporter": "python",
   "pygments_lexer": "ipython3",
   "version": "3.9.7"
  }
 },
 "nbformat": 4,
 "nbformat_minor": 5
}
