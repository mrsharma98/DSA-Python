{
 "cells": [
  {
   "cell_type": "code",
   "execution_count": 1,
   "id": "bb7a5497",
   "metadata": {},
   "outputs": [],
   "source": [
    "# The diameter of a binary tree is the length of the longest path between any two nodes\n",
    "# Find diameter of tree in Time Complexity O(n)"
   ]
  },
  {
   "cell_type": "code",
   "execution_count": null,
   "id": "a9ef2158",
   "metadata": {},
   "outputs": [],
   "source": []
  },
  {
   "cell_type": "code",
   "execution_count": 4,
   "id": "7176053d",
   "metadata": {},
   "outputs": [],
   "source": [
    "# Diameter = leftSubtree(height) + rightSubtree(height) + 1\n",
    "# 1 + max(leftSubtree(height), rightSubtree(height))"
   ]
  },
  {
   "cell_type": "code",
   "execution_count": 5,
   "id": "74df3bbc",
   "metadata": {},
   "outputs": [],
   "source": [
    "diameter = 0\n",
    "max_diameter = 0\n",
    "def findDiameter(node):\n",
    "    if node == None:\n",
    "        return 0\n",
    "    \n",
    "    left_height = findDiameter(node.left)\n",
    "    right_height = findDiameter(node.right)\n",
    "    \n",
    "    diameter = left_height + right_height\n",
    "    \n",
    "    if (max_diameter < diameter):\n",
    "        max_diameter = diameter\n",
    "    \n",
    "    return 1+max(left_height, right_height)"
   ]
  },
  {
   "cell_type": "code",
   "execution_count": null,
   "id": "340eb4ba",
   "metadata": {},
   "outputs": [],
   "source": []
  },
  {
   "cell_type": "code",
   "execution_count": null,
   "id": "4b17bb40",
   "metadata": {},
   "outputs": [],
   "source": []
  },
  {
   "cell_type": "code",
   "execution_count": 6,
   "id": "fec7def6",
   "metadata": {},
   "outputs": [],
   "source": [
    "# Find largest Subtree in BST"
   ]
  },
  {
   "cell_type": "code",
   "execution_count": 7,
   "id": "666d9acb",
   "metadata": {},
   "outputs": [],
   "source": [
    "# Given a binary tree, find the largest subtree which is a BST,\n",
    "# where the largest means subtree with the largest number of nodes in it."
   ]
  },
  {
   "cell_type": "code",
   "execution_count": 2,
   "id": "69e23fc5",
   "metadata": {},
   "outputs": [],
   "source": [
    "# just check\n",
    "# min value in the right subtree more than root\n",
    "# max value in the left subtree less than root\n",
    "# start from bottom\n",
    "\n",
    "#(size, max, min, boolean)\n",
    "# -- boolean --  if that particular subtree is BST or not.\n",
    "# min, max -- value in whole subtree (check above condition)"
   ]
  },
  {
   "cell_type": "code",
   "execution_count": 3,
   "id": "70cca9ed",
   "metadata": {},
   "outputs": [],
   "source": [
    "class Listt:\n",
    "    def __init__(self, size, min, max, isBST):\n",
    "        self.size = size\n",
    "        self.min = min\n",
    "        self.max = max\n",
    "        self.isBST = isBST"
   ]
  },
  {
   "cell_type": "code",
   "execution_count": 5,
   "id": "85bf74d0",
   "metadata": {},
   "outputs": [],
   "source": [
    "def largestBST(node):\n",
    "    if root == None:\n",
    "        return Listt(0, -999999999, 9999999, true)\n",
    "    \n",
    "    if root.left == None and root.right == None:\n",
    "        return List(1, root.data.root.data, True)\n",
    "    \n",
    "    left = largestBST(root.left)\n",
    "    right = largestBST(root.right)\n",
    "    \n",
    "    ret.size = (1+ left.size + right.size)\n",
    "    \n",
    "    if left.isBST and right.isBST and left.max < root.data and right.min < root.data:\n",
    "        ret.min = min(left.min, min(right.min, root.data))\n",
    "        ret.max = max(right.max, max(left.max, root.data))\n",
    "        ret.isBST = true\n",
    "        \n",
    "        return ret\n",
    "    \n",
    "    ret.isBST = false\n",
    "    \n",
    "    return ret"
   ]
  },
  {
   "cell_type": "code",
   "execution_count": null,
   "id": "3decf66f",
   "metadata": {},
   "outputs": [],
   "source": []
  },
  {
   "cell_type": "code",
   "execution_count": null,
   "id": "53f8b11b",
   "metadata": {},
   "outputs": [],
   "source": []
  }
 ],
 "metadata": {
  "kernelspec": {
   "display_name": "Python 3 (ipykernel)",
   "language": "python",
   "name": "python3"
  },
  "language_info": {
   "codemirror_mode": {
    "name": "ipython",
    "version": 3
   },
   "file_extension": ".py",
   "mimetype": "text/x-python",
   "name": "python",
   "nbconvert_exporter": "python",
   "pygments_lexer": "ipython3",
   "version": "3.9.7"
  }
 },
 "nbformat": 4,
 "nbformat_minor": 5
}
