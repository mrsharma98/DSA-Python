{
 "cells": [
  {
   "cell_type": "code",
   "execution_count": 1,
   "id": "26c43334",
   "metadata": {},
   "outputs": [],
   "source": [
    "# Algorithm to Connect all the nodes in same level of a binary tree\n",
    "# Constant Space and O(n) Time Compelxity"
   ]
  },
  {
   "cell_type": "code",
   "execution_count": 2,
   "id": "2c56cf7f",
   "metadata": {},
   "outputs": [],
   "source": [
    "# here we get node -> data, left, right, next"
   ]
  },
  {
   "cell_type": "raw",
   "id": "f0d27efb",
   "metadata": {},
   "source": [
    "# Algo\n",
    "findNextNode(root){\n",
    "    condition\n",
    "    \n",
    "    findNextNode(root.right)\n",
    "    findNextNode(root.right)\n",
    "}\n",
    "\n",
    "case1: If both the child of root is not null\n",
    "    Step1: root.left.next = root.right\n",
    "    Step2: if root next is not null\n",
    "        Step2.1: root.right.next = root.next.nextAvailable\n",
    "\n",
    "case2: if root only one child is not null and root next is not null\n",
    "    Step1: if root left is not null\n",
    "        Step1.1: rot.left.next = root.next.NextAvailableNode\n",
    "            OR\n",
    "    Step1: if root right is not null\n",
    "        Step1.1: rot.right.next = root.next.NextAvailableNode"
   ]
  },
  {
   "cell_type": "code",
   "execution_count": 2,
   "id": "7df8281f",
   "metadata": {},
   "outputs": [],
   "source": [
    "class Node:\n",
    "    def __init__(self, data):\n",
    "        self.data = data\n",
    "        self.left = left\n",
    "        self.right = right\n",
    "        self.next = next"
   ]
  },
  {
   "cell_type": "code",
   "execution_count": null,
   "id": "28711a7a",
   "metadata": {},
   "outputs": [],
   "source": [
    "# Function to print a given linked list\n",
    "def inorder(node):\n",
    "    if node is None:\n",
    "        return\n",
    "    \n",
    "    inorder(node.left)\n",
    "    \n",
    "    print(node.data, en=\" -> \")\n",
    "    if root.next:\n",
    "        print(node.next.data, end=\"\")\n",
    "    else:\n",
    "        print(None)\n",
    "    \n",
    "    inorder(root.right)\n",
    "    \n",
    "def findNextNode(node):\n",
    "    return "
   ]
  }
 ],
 "metadata": {
  "kernelspec": {
   "display_name": "Python 3 (ipykernel)",
   "language": "python",
   "name": "python3"
  },
  "language_info": {
   "codemirror_mode": {
    "name": "ipython",
    "version": 3
   },
   "file_extension": ".py",
   "mimetype": "text/x-python",
   "name": "python",
   "nbconvert_exporter": "python",
   "pygments_lexer": "ipython3",
   "version": "3.9.7"
  }
 },
 "nbformat": 4,
 "nbformat_minor": 5
}
