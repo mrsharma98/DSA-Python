{
 "cells": [
  {
   "cell_type": "raw",
   "id": "81bb4ca5",
   "metadata": {},
   "source": [
    "What is N-ary tree?\n",
    "-- N no of childrens of a parent\n",
    "-- 4-ary --> parent has 4 children\n",
    "\n",
    "use stack for real tree\n",
    "use queue for mirror tree"
   ]
  },
  {
   "cell_type": "code",
   "execution_count": 1,
   "id": "e8e074cd",
   "metadata": {},
   "outputs": [],
   "source": [
    "# data structure\n",
    "class TreeNode:\n",
    "    def __init__(self, data):\n",
    "        self.data = data\n",
    "        children = []"
   ]
  },
  {
   "cell_type": "code",
   "execution_count": 2,
   "id": "d12b2fe6",
   "metadata": {},
   "outputs": [],
   "source": [
    "# Algo\n",
    "\n",
    "# 1st tree\n",
    "def pushStack(root):\n",
    "    if root is None:\n",
    "        return\n",
    "    \n",
    "    st.push(root)\n",
    "    for i in range(len(root.children)):\n",
    "        pushStack(root.children[i])\n",
    "\n",
    "        \n",
    "# 2nd Tree\n",
    "def pushQueue(root):\n",
    "    if root is None:\n",
    "        return\n",
    "    \n",
    "    for i in range(len(root.children)):\n",
    "        pushQueue(root.children[i])\n",
    "    \n",
    "    myQueue.push(root)"
   ]
  },
  {
   "cell_type": "code",
   "execution_count": null,
   "id": "7eabf7e7",
   "metadata": {},
   "outputs": [],
   "source": []
  },
  {
   "cell_type": "code",
   "execution_count": null,
   "id": "0a4ca130",
   "metadata": {},
   "outputs": [],
   "source": []
  },
  {
   "cell_type": "markdown",
   "id": "ab62ae66",
   "metadata": {},
   "source": [
    "# Mirror Image of BT"
   ]
  },
  {
   "cell_type": "code",
   "execution_count": 3,
   "id": "421e9b7c",
   "metadata": {},
   "outputs": [],
   "source": [
    "def mirrorImage(node):\n",
    "    if node is None:\n",
    "        return None\n",
    "    \n",
    "    left = mirrorImage(node.left)\n",
    "    right = mirrorImage(node.right)\n",
    "    \n",
    "    node.left = right\n",
    "    node.right = left\n",
    "    \n",
    "    return node"
   ]
  },
  {
   "cell_type": "code",
   "execution_count": null,
   "id": "2dda5a0c",
   "metadata": {},
   "outputs": [],
   "source": []
  }
 ],
 "metadata": {
  "kernelspec": {
   "display_name": "Python 3 (ipykernel)",
   "language": "python",
   "name": "python3"
  },
  "language_info": {
   "codemirror_mode": {
    "name": "ipython",
    "version": 3
   },
   "file_extension": ".py",
   "mimetype": "text/x-python",
   "name": "python",
   "nbconvert_exporter": "python",
   "pygments_lexer": "ipython3",
   "version": "3.9.7"
  }
 },
 "nbformat": 4,
 "nbformat_minor": 5
}
