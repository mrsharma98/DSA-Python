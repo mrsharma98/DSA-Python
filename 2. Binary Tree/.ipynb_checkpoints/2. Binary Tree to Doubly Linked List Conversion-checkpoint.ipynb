{
 "cells": [
  {
   "cell_type": "code",
   "execution_count": 1,
   "id": "08162789",
   "metadata": {},
   "outputs": [],
   "source": [
    "# Convert BT to DLL \n",
    "# the left pointer of the node should be pointing to the previous node\n",
    "# the right pointer should be pointing to the next node\n",
    "# Time Complexity O(n) and Space O(Height)"
   ]
  },
  {
   "cell_type": "code",
   "execution_count": 2,
   "id": "19817d4e",
   "metadata": {},
   "outputs": [],
   "source": [
    "# The order of the nodes in DLL must be same as in-order of BT"
   ]
  },
  {
   "cell_type": "code",
   "execution_count": null,
   "id": "c07e18ea",
   "metadata": {},
   "outputs": [],
   "source": []
  },
  {
   "cell_type": "code",
   "execution_count": 3,
   "id": "c1e9a768",
   "metadata": {},
   "outputs": [],
   "source": [
    "global_flag = 0\n",
    "def createDLL(node):\n",
    "    if node == None:\n",
    "        return\n",
    "    \n",
    "    createDLL(node.left)\n",
    "    if global_flag == 0:\n",
    "        parent = node\n",
    "        global_flag = 1\n",
    "    else:\n",
    "        node.left = parent\n",
    "        parent.right = node\n",
    "        parent = node\n",
    "    \n",
    "    createDLL(node.right)"
   ]
  },
  {
   "cell_type": "code",
   "execution_count": null,
   "id": "ef112f32",
   "metadata": {},
   "outputs": [],
   "source": []
  },
  {
   "cell_type": "code",
   "execution_count": 15,
   "id": "e62a61a0",
   "metadata": {},
   "outputs": [],
   "source": [
    "# hieght of a binary tree"
   ]
  },
  {
   "cell_type": "code",
   "execution_count": 16,
   "id": "be6edcb3",
   "metadata": {},
   "outputs": [],
   "source": [
    "def height(root):\n",
    "    if root == None:\n",
    "        return 0\n",
    "    \n",
    "    return max(height(root.left), height(root.right))+1"
   ]
  },
  {
   "cell_type": "code",
   "execution_count": 17,
   "id": "728833ff",
   "metadata": {},
   "outputs": [],
   "source": [
    "# if binary tree is balanced"
   ]
  },
  {
   "cell_type": "code",
   "execution_count": 18,
   "id": "dd854a7d",
   "metadata": {},
   "outputs": [],
   "source": [
    "def height(root):\n",
    "    if root == None:\n",
    "        return 0\n",
    "    leftHeight = height(root.left)\n",
    "    rightHeight = height(root.right)\n",
    "    return max(leftHeight, rightHeight)+1\n",
    "\n",
    "# this has O(n^2) TC\n",
    "def isBalanced(node):\n",
    "    if node == None:\n",
    "        return True\n",
    "    leftHeight = height(node.left)\n",
    "    rightHeight = height(node.right)\n",
    "\n",
    "    if abs(rightHeight-leftHeight) > 1:\n",
    "        return False\n",
    "\n",
    "    left = isBalanced(node.left)\n",
    "    right = isBalanced(node.right)\n",
    "\n",
    "    if (not left or not right):\n",
    "        return False\n",
    "\n",
    "    return True"
   ]
  },
  {
   "cell_type": "code",
   "execution_count": 19,
   "id": "409dc684",
   "metadata": {},
   "outputs": [],
   "source": [
    "def height(root):\n",
    "    if root == None:\n",
    "        return 0\n",
    "    leftHeight = height(root.left)\n",
    "    rightHeight = height(root.right)\n",
    "    \n",
    "    if abs(leftHeight - rightHeight) > 1:\n",
    "        return -1\n",
    "    \n",
    "    return max(leftHeight, rightHeight)+1\n",
    "\n",
    "\n",
    "def isBalanced(node):\n",
    "    if node == None:\n",
    "        return True\n",
    "    leftHeight = height(node.left)\n",
    "    if leftHeight == -1:\n",
    "        return False\n",
    "    \n",
    "    rightHeight = height(node.right)\n",
    "    if rightHeight == -1:\n",
    "        return False\n",
    "\n",
    "    if abs(rightHeight-leftHeight) > 1:\n",
    "        return False\n",
    "\n",
    "    left = isBalanced(node.left)\n",
    "    right = isBalanced(node.right)\n",
    "\n",
    "    if (not left or not right):\n",
    "        return False\n",
    "\n",
    "    return True"
   ]
  },
  {
   "cell_type": "code",
   "execution_count": null,
   "id": "e7b6f5c7",
   "metadata": {},
   "outputs": [],
   "source": []
  },
  {
   "cell_type": "code",
   "execution_count": null,
   "id": "d993cac1",
   "metadata": {},
   "outputs": [],
   "source": []
  },
  {
   "cell_type": "markdown",
   "id": "68542907",
   "metadata": {},
   "source": [
    "# Practice"
   ]
  },
  {
   "cell_type": "code",
   "execution_count": 2,
   "id": "9491b156",
   "metadata": {},
   "outputs": [],
   "source": [
    "def convert(root):\n",
    "    if not root: return\n",
    "    if root.left:\n",
    "        # find inorder predecessor\n",
    "        p = root.left\n",
    "        while p.right:\n",
    "            p = p.right\n",
    "        # restructure tree\n",
    "        temp, root.left, p.right = root.left, None, root\n",
    "        return convert(temp)\n",
    "    # Assigning pointers\n",
    "    root.next = convert(root.right)\n",
    "    if root.next: root.next.prev = root\n",
    "    return root"
   ]
  },
  {
   "cell_type": "code",
   "execution_count": null,
   "id": "06aad508",
   "metadata": {},
   "outputs": [],
   "source": []
  },
  {
   "cell_type": "code",
   "execution_count": 1,
   "id": "a0da4a0d",
   "metadata": {},
   "outputs": [],
   "source": [
    "def heightofBST(node):\n",
    "    if node == None:\n",
    "        return 0\n",
    "    \n",
    "    left = heightofBST(node.left)\n",
    "    right = heightofBST(node.right)\n",
    "    return max(left, right)+1"
   ]
  },
  {
   "cell_type": "code",
   "execution_count": null,
   "id": "8c344289",
   "metadata": {},
   "outputs": [],
   "source": [
    "def isBalanced(node):\n",
    "    if node == None:\n",
    "        return 0\n",
    "    \n",
    "    leftHeight = heightofBST(node.left)\n",
    "    rightHeight = heightofBST(node.right)\n",
    "    \n",
    "    if abs(leftHeight-rightHeight)>1:\n",
    "        return False\n",
    "    \n",
    "    left = isBalanced(node.left)\n",
    "    right = isBalanced(node.right)\n",
    "    \n",
    "    if (not left) or (not right):\n",
    "        return False\n",
    "    \n",
    "    return True"
   ]
  }
 ],
 "metadata": {
  "kernelspec": {
   "display_name": "Python 3 (ipykernel)",
   "language": "python",
   "name": "python3"
  },
  "language_info": {
   "codemirror_mode": {
    "name": "ipython",
    "version": 3
   },
   "file_extension": ".py",
   "mimetype": "text/x-python",
   "name": "python",
   "nbconvert_exporter": "python",
   "pygments_lexer": "ipython3",
   "version": "3.9.7"
  }
 },
 "nbformat": 4,
 "nbformat_minor": 5
}
