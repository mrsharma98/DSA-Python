{
 "cells": [
  {
   "cell_type": "code",
   "execution_count": 1,
   "id": "9080db58",
   "metadata": {},
   "outputs": [],
   "source": [
    "# This is a bit complex problem from previous problem. \n",
    "# Now you need print all the nodes k distance from any random node\n",
    "# Time Complexity O(n) and Space Complexity O(n)"
   ]
  },
  {
   "cell_type": "code",
   "execution_count": 2,
   "id": "939ffce3",
   "metadata": {},
   "outputs": [],
   "source": [
    "# there are 2 scenerio\n",
    "# 1. fide the node and find nodes at distance k in the downwards direction\n",
    "# 2. fide the node and find nodes at distance k in the upwards direction"
   ]
  },
  {
   "cell_type": "code",
   "execution_count": 1,
   "id": "ffe62d5d",
   "metadata": {},
   "outputs": [],
   "source": [
    "def findNodeAtDistance(node, k):\n",
    "    if (node == None):\n",
    "        return\n",
    "    \n",
    "    if (k == 0):\n",
    "        print(node.data)\n",
    "        return\n",
    "    else:\n",
    "        findNodeAtDistance(node.left, k-1)\n",
    "        findNodeAtDistance(node.right, k-1)"
   ]
  },
  {
   "cell_type": "code",
   "execution_count": 2,
   "id": "a376e9bd",
   "metadata": {},
   "outputs": [],
   "source": [
    "def printNode(node, target, k):\n",
    "    if (node == None):\n",
    "        return -1\n",
    "    \n",
    "    if (node == target):\n",
    "        findNodeAtDistance(node, k)\n",
    "        return 1\n",
    "    \n",
    "    dLeft = printNode(node.left, taregt, k)\n",
    "    if (dLeft != -1):\n",
    "        if (dLeft == k):\n",
    "            print(node.data)\n",
    "        else:\n",
    "            findNodeAtDistance(node.right, k-dLeft-1)\n",
    "        return 1 + dLeft\n",
    "    \n",
    "    dRight = printNode(node.right, target, k)\n",
    "    if (dRight != -1):\n",
    "        if (dRight == k):\n",
    "            print(node.data)\n",
    "        else:\n",
    "            findNodeAtDistance(node.left, k-dRight-1)\n",
    "        return 1 + dRight"
   ]
  },
  {
   "cell_type": "code",
   "execution_count": null,
   "id": "5ac3d4f6",
   "metadata": {},
   "outputs": [],
   "source": []
  },
  {
   "cell_type": "code",
   "execution_count": null,
   "id": "fb69334e",
   "metadata": {},
   "outputs": [],
   "source": [
    "# Print All Nodes K Distance from Leaf Node in Binary Tree"
   ]
  },
  {
   "cell_type": "code",
   "execution_count": 3,
   "id": "febe2f86",
   "metadata": {},
   "outputs": [],
   "source": [
    "# Given a Binary Tree and a positive integer k, \n",
    "# print all nodes that are distance k from a leaf node \n",
    "# k distance from a leaf means k levels higher than a leaf node. \n",
    "# For example, if k is more than the height of the Binary Tree, \n",
    "# then nothing should be printed. \n",
    "# Expected time complexity is O(n) \n",
    "# where n is the number nodes in the given Binary Tree"
   ]
  },
  {
   "cell_type": "code",
   "execution_count": 4,
   "id": "e58b86a6",
   "metadata": {},
   "outputs": [],
   "source": [
    "def printKDistance(node, k, arr, visited, count):\n",
    "    if node == None:\n",
    "        return\n",
    "    \n",
    "    arr[count] = node.data\n",
    "    visited[count] = false\n",
    "    \n",
    "    if (node.left == None and node.right == None and count-k >= 0 and visited[count-k] == false):\n",
    "        print('result value: ', (arr[count-k]))\n",
    "        visited[count-k] = true\n",
    "    \n",
    "    printKDistance(node.left, k, arr, visited, count+1)\n",
    "    printKDistance(node.right, k, arr, visited, count+1)"
   ]
  },
  {
   "cell_type": "code",
   "execution_count": null,
   "id": "f800b427",
   "metadata": {},
   "outputs": [],
   "source": []
  },
  {
   "cell_type": "code",
   "execution_count": null,
   "id": "45a6704b",
   "metadata": {},
   "outputs": [],
   "source": []
  },
  {
   "cell_type": "markdown",
   "id": "c29c2d5e",
   "metadata": {},
   "source": [
    "# Practice"
   ]
  },
  {
   "cell_type": "raw",
   "id": "3215156e",
   "metadata": {},
   "source": [
    "https://leetcode.com/problems/all-nodes-distance-k-in-binary-tree/\n",
    "\n",
    "Solution:\n",
    "https://leetcode.com/problems/all-nodes-distance-k-in-binary-tree/discuss/2445239/Python-(Simple-DFS)"
   ]
  },
  {
   "cell_type": "code",
   "execution_count": null,
   "id": "116aee28",
   "metadata": {},
   "outputs": [],
   "source": [
    "# divide the problem in 2 parts\n",
    "# 1. find all the nodes at distance k in downwards (using root node logic)\n",
    "# 2. find all the nodes at distance k in upwards\n",
    "\n",
    "\n",
    "def distanceK(node, k):\n",
    "    if node == None:\n",
    "        return\n",
    "    if k == 0:\n",
    "        print(node.data, end=\" \")\n",
    "    else:\n",
    "        distanceK(node.left, k-1)\n",
    "        distanceK(node.right, k-1)\n",
    "\n",
    "\n",
    "def printKDistance(node, target, k):\n",
    "    if node == None:\n",
    "        return -1\n",
    "    \n",
    "    if node == target:\n",
    "        distanceK(node, k)\n",
    "        return 1\n",
    "    \n",
    "    dLeft = printKDistance(node.left, target, k)\n",
    "    if dLeft!=-1:\n",
    "        if dLeft == k:\n",
    "            print(node.val)\n",
    "        else:\n",
    "            distanceK(node.right, k-dLeft-1)\n",
    "        return 1+dLeft\n",
    "        \n",
    "    \n",
    "    dRight = printKDistance(node.right, target, k)\n",
    "    if dRight!=-1:\n",
    "        if dRight == k:\n",
    "            print(node.val)\n",
    "        else:\n",
    "            distanceK(node.left, k-dRight-1)\n",
    "        return 1+dRight\n",
    "    \n",
    "    "
   ]
  },
  {
   "cell_type": "code",
   "execution_count": null,
   "id": "3b7065ca",
   "metadata": {},
   "outputs": [],
   "source": [
    "# Better solution\n",
    "\n",
    "class Solution:\n",
    "    def __init__(self):\n",
    "        self.parent = {}\n",
    "        self.res = []\n",
    "        self.visited = set()\n",
    "        \n",
    "    def findParent(self, node):\n",
    "        if node is None:\n",
    "            return\n",
    "        \n",
    "        if node.left:\n",
    "            self.parent[node.left] = node\n",
    "        if node.right:\n",
    "            self.parent[node.right] = node\n",
    "            \n",
    "        self.findParent(node.left)\n",
    "        self.findParent(node.right)\n",
    "        \n",
    "    \n",
    "    def dfs(self, node, k):\n",
    "        if node not in self.visited:\n",
    "            self.visited.add(node)\n",
    "        else:\n",
    "            return\n",
    "        \n",
    "        if k == 0:\n",
    "            self.res.append(node.val)\n",
    "            \n",
    "        if node.left:\n",
    "            self.dfs(node.left, k-1)\n",
    "        if node.right:\n",
    "            self.dfs(node.right, k-1)\n",
    "            \n",
    "        if self.parent.get(node):\n",
    "            self.dfs(self.parent[node], k-1)\n",
    "        \n",
    "    \n",
    "    \n",
    "    def distanceK(self, root: TreeNode, target: TreeNode, k: int) -> List[int]:\n",
    "        self.findParent(root)\n",
    "        self.dfs(target, k)\n",
    "        return self.res"
   ]
  },
  {
   "cell_type": "code",
   "execution_count": null,
   "id": "6bf565de",
   "metadata": {},
   "outputs": [],
   "source": []
  },
  {
   "cell_type": "code",
   "execution_count": null,
   "id": "ac5568c1",
   "metadata": {},
   "outputs": [],
   "source": []
  }
 ],
 "metadata": {
  "kernelspec": {
   "display_name": "Python 3 (ipykernel)",
   "language": "python",
   "name": "python3"
  },
  "language_info": {
   "codemirror_mode": {
    "name": "ipython",
    "version": 3
   },
   "file_extension": ".py",
   "mimetype": "text/x-python",
   "name": "python",
   "nbconvert_exporter": "python",
   "pygments_lexer": "ipython3",
   "version": "3.9.7"
  }
 },
 "nbformat": 4,
 "nbformat_minor": 5
}
