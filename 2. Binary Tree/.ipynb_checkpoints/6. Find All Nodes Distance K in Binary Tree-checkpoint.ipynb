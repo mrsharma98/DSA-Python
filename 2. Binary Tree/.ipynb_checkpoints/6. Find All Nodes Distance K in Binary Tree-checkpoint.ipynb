{
 "cells": [
  {
   "cell_type": "code",
   "execution_count": 1,
   "id": "9080db58",
   "metadata": {},
   "outputs": [],
   "source": [
    "# This is a bit complex problem from previous problem. \n",
    "# Now you need print all the nodes k distance from any random node\n",
    "# Time Complexity O(n) and Space Complexity O(n)"
   ]
  },
  {
   "cell_type": "code",
   "execution_count": 2,
   "id": "939ffce3",
   "metadata": {},
   "outputs": [],
   "source": [
    "# there are 2 scenerio\n",
    "# 1. fide the node and find nodes at distance k in the downwards direction\n",
    "# 2. fide the node and find nodes at distance k in the upwards direction"
   ]
  },
  {
   "cell_type": "code",
   "execution_count": 1,
   "id": "ffe62d5d",
   "metadata": {},
   "outputs": [],
   "source": [
    "def findNodeAtDistance(node, k):\n",
    "    if (node == None):\n",
    "        return\n",
    "    \n",
    "    if (k == 0):\n",
    "        print(node.data)\n",
    "        return\n",
    "    else:\n",
    "        findNodeAtDistance(node.left, k-1)\n",
    "        findNodeAtDistance(node.right, k-1)"
   ]
  },
  {
   "cell_type": "code",
   "execution_count": 2,
   "id": "a376e9bd",
   "metadata": {},
   "outputs": [],
   "source": [
    "def printNode(node, target, k):\n",
    "    if (node == None):\n",
    "        return -1\n",
    "    \n",
    "    if (node == target):\n",
    "        findNodeAtDistance(node, k)\n",
    "        return 1\n",
    "    \n",
    "    dLeft = printNode(node.left, taregt, k)\n",
    "    if (dLeft != -1):\n",
    "        if (dLeft == k):\n",
    "            print(node.data)\n",
    "        else:\n",
    "            findNodeAtDistance(node.right, k-dLeft-1)\n",
    "        return 1 + dLeft\n",
    "    \n",
    "    dRight = printNode(node.right, target, k)\n",
    "    if (dRight != -1):\n",
    "        if (dRight == k):\n",
    "            print(node.data)\n",
    "        else:\n",
    "            findNodeAtDistance(node.left, k-dRight-1)\n",
    "        return 1 + dRight"
   ]
  },
  {
   "cell_type": "code",
   "execution_count": null,
   "id": "5ac3d4f6",
   "metadata": {},
   "outputs": [],
   "source": []
  },
  {
   "cell_type": "code",
   "execution_count": null,
   "id": "fb69334e",
   "metadata": {},
   "outputs": [],
   "source": [
    "# Print All Nodes K Distance from Leaf Node in Binary Tree"
   ]
  },
  {
   "cell_type": "code",
   "execution_count": 3,
   "id": "febe2f86",
   "metadata": {},
   "outputs": [],
   "source": [
    "# Given a Binary Tree and a positive integer k, \n",
    "# print all nodes that are distance k from a leaf node \n",
    "# k distance from a leaf means k levels higher than a leaf node. \n",
    "# For example, if k is more than the height of the Binary Tree, \n",
    "# then nothing should be printed. \n",
    "# Expected time complexity is O(n) \n",
    "# where n is the number nodes in the given Binary Tree"
   ]
  },
  {
   "cell_type": "code",
   "execution_count": 4,
   "id": "e58b86a6",
   "metadata": {},
   "outputs": [],
   "source": [
    "def printKDistance(node, k, arr, visited, count):\n",
    "    if node == None:\n",
    "        return\n",
    "    \n",
    "    arr[count] = node.data\n",
    "    visited[count] = false\n",
    "    \n",
    "    if (node.left == None and node.right == None and count-k >= 0 and visited[count-k] == false):\n",
    "        print('result value: ', (arr[count-k]))\n",
    "        visited[count-k] = true\n",
    "    \n",
    "    printKDistance(node.left, k, arr, visited, count+1)\n",
    "    printKDistance(node.right, k, arr, visited, count+1)"
   ]
  },
  {
   "cell_type": "code",
   "execution_count": null,
   "id": "f800b427",
   "metadata": {},
   "outputs": [],
   "source": []
  },
  {
   "cell_type": "code",
   "execution_count": null,
   "id": "45a6704b",
   "metadata": {},
   "outputs": [],
   "source": []
  },
  {
   "cell_type": "code",
   "execution_count": null,
   "id": "a09a4143",
   "metadata": {},
   "outputs": [],
   "source": []
  }
 ],
 "metadata": {
  "kernelspec": {
   "display_name": "Python 3 (ipykernel)",
   "language": "python",
   "name": "python3"
  },
  "language_info": {
   "codemirror_mode": {
    "name": "ipython",
    "version": 3
   },
   "file_extension": ".py",
   "mimetype": "text/x-python",
   "name": "python",
   "nbconvert_exporter": "python",
   "pygments_lexer": "ipython3",
   "version": "3.9.7"
  }
 },
 "nbformat": 4,
 "nbformat_minor": 5
}
