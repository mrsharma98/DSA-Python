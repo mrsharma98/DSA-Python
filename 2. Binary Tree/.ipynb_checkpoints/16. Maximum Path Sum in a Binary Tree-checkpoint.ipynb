{
 "cells": [
  {
   "cell_type": "raw",
   "id": "2a3382eb",
   "metadata": {},
   "source": [
    "Max path sum between any two nodes\n",
    "https://leetcode.com/problems/binary-tree-maximum-path-sum/"
   ]
  },
  {
   "cell_type": "code",
   "execution_count": null,
   "id": "ad16a031",
   "metadata": {},
   "outputs": [],
   "source": [
    "class MaxPath:\n",
    "    def __init__(self):\n",
    "        self.result = 0\n",
    "        \n",
    "    def findMaxUtil(self, node):\n",
    "        if node is None:\n",
    "            return 0\n",
    "        \n",
    "        left = self.findMaxUtil(node.left)\n",
    "        right = self.findMaxUtil(node.right)\n",
    "        max_value = max(max(left, right)+node.data, node.val)\n",
    "        max_top = max(max_value, left+right+node.data)\n",
    "        \n",
    "        self.result = max(self.result, max_top)\n",
    "        return max_value\n",
    "    \n",
    "    def maxPathSum(self, root):\n",
    "        self.findMaxUtil(root)\n",
    "        return self.result"
   ]
  },
  {
   "cell_type": "code",
   "execution_count": null,
   "id": "69aa3626",
   "metadata": {},
   "outputs": [],
   "source": []
  },
  {
   "cell_type": "markdown",
   "id": "ec528056",
   "metadata": {},
   "source": [
    "# Sum Tree"
   ]
  },
  {
   "cell_type": "code",
   "execution_count": 1,
   "id": "87d1d1a1",
   "metadata": {},
   "outputs": [],
   "source": [
    "# Transform BT to Sum Tree"
   ]
  },
  {
   "cell_type": "code",
   "execution_count": null,
   "id": "f6aba3fd",
   "metadata": {},
   "outputs": [],
   "source": [
    "class BinaryTreeNode:\n",
    "    def __init__(self, data):\n",
    "        self.val = data\n",
    "        self.left = None\n",
    "        self.right = None\n",
    "\n",
    "def helper(node):\n",
    "    if node == None:\n",
    "            return 0\n",
    "    left = helper(node.left)\n",
    "    right = helper(node.right)\n",
    "    nodeVal = node.data\n",
    "    node.data = left + right\n",
    "    return node.data + nodeVal\n",
    "        \n",
    "def convertToSumTree(root):\n",
    "    # Write your code here.\n",
    "    helper(root)\n",
    "    return root"
   ]
  },
  {
   "cell_type": "code",
   "execution_count": null,
   "id": "17e2e21c",
   "metadata": {},
   "outputs": [],
   "source": []
  }
 ],
 "metadata": {
  "kernelspec": {
   "display_name": "Python 3 (ipykernel)",
   "language": "python",
   "name": "python3"
  },
  "language_info": {
   "codemirror_mode": {
    "name": "ipython",
    "version": 3
   },
   "file_extension": ".py",
   "mimetype": "text/x-python",
   "name": "python",
   "nbconvert_exporter": "python",
   "pygments_lexer": "ipython3",
   "version": "3.9.7"
  }
 },
 "nbformat": 4,
 "nbformat_minor": 5
}
