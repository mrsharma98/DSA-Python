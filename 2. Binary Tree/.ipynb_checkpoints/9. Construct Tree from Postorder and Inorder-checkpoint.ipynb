{
 "cells": [
  {
   "cell_type": "code",
   "execution_count": 1,
   "id": "41cfabc5",
   "metadata": {},
   "outputs": [],
   "source": [
    "class TreeNode:\n",
    "    def __init__(self, val):\n",
    "        self.val = val\n",
    "        self.left = None\n",
    "        self.right = None\n",
    "\n",
    "def getTree(postOrder, inOrder):\n",
    "    if len(postOrder)==0 or len(inOrder)==0:\n",
    "        return None\n",
    "    \n",
    "    node = TreeNode(postOrder.pop())\n",
    "    idx = inOrder.index(node.val)\n",
    "    \n",
    "    node.left = getTree(postOrder[:idx], inOrder[:idx])\n",
    "    node.right = getTree(postOrder[idx:], inOrder[idx+1:])"
   ]
  },
  {
   "cell_type": "code",
   "execution_count": null,
   "id": "1f2529f2",
   "metadata": {},
   "outputs": [],
   "source": []
  },
  {
   "cell_type": "markdown",
   "id": "52f7d5e0",
   "metadata": {},
   "source": [
    "# Minimum distance"
   ]
  },
  {
   "cell_type": "raw",
   "id": "bf4fd637",
   "metadata": {},
   "source": [
    "Minimum distance between two given nodes in a BT"
   ]
  },
  {
   "cell_type": "code",
   "execution_count": 2,
   "id": "e82a0756",
   "metadata": {},
   "outputs": [],
   "source": [
    "# This question is an application of LCA\n",
    "# find LCA then find the distance from LCA to the nodes."
   ]
  },
  {
   "cell_type": "code",
   "execution_count": null,
   "id": "b6a25b9e",
   "metadata": {},
   "outputs": [],
   "source": [
    "def lca(node, node1, node2):\n",
    "    if node is None:\n",
    "        return None\n",
    "    \n",
    "    if node.data==node1 or node.data==node2:\n",
    "        return node\n",
    "    \n",
    "    left = lca(node.left, node1, node2)\n",
    "    right = lca(node.right, node1, node2)\n",
    "    \n",
    "    if left and right:\n",
    "        return node\n",
    "    elif left!=None and right is None:\n",
    "        return left\n",
    "    elif left is None and right!= None:\n",
    "        return right\n",
    "    else:\n",
    "        return None\n",
    "\n",
    "def distance(node, k):\n",
    "    if node is None:\n",
    "        return 0\n",
    "    if node.data==k:\n",
    "        return 1\n",
    "    \n",
    "    left = distance(node.left, k)\n",
    "    right = distance(node.right, k)\n",
    "    if left or right:\n",
    "        return 1+left+right\n",
    "    return 0\n",
    "        \n",
    "        \n",
    "def findDistanceBetweenNodes(root, node1, node2):  \n",
    "    # Write your code here. \n",
    "    root = lca(root, node1, node2)\n",
    "    if root == None:\n",
    "        return -1\n",
    "    x = distance(root, node1)\n",
    "    y = distance(root, node2)\n",
    "    return x+y-2"
   ]
  },
  {
   "cell_type": "code",
   "execution_count": null,
   "id": "859a18e9",
   "metadata": {},
   "outputs": [],
   "source": []
  },
  {
   "cell_type": "code",
   "execution_count": null,
   "id": "ddc7ed9f",
   "metadata": {},
   "outputs": [],
   "source": []
  }
 ],
 "metadata": {
  "kernelspec": {
   "display_name": "Python 3 (ipykernel)",
   "language": "python",
   "name": "python3"
  },
  "language_info": {
   "codemirror_mode": {
    "name": "ipython",
    "version": 3
   },
   "file_extension": ".py",
   "mimetype": "text/x-python",
   "name": "python",
   "nbconvert_exporter": "python",
   "pygments_lexer": "ipython3",
   "version": "3.9.7"
  }
 },
 "nbformat": 4,
 "nbformat_minor": 5
}
