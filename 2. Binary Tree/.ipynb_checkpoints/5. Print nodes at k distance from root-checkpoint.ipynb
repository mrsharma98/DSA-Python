{
 "cells": [
  {
   "cell_type": "code",
   "execution_count": 1,
   "id": "262beb04",
   "metadata": {},
   "outputs": [],
   "source": [
    "# Print all the nodes which are at k distance from the root.\n",
    "# Root of the Binary tree and K is given as Input.\n",
    "# Time Complexity O(n)"
   ]
  },
  {
   "cell_type": "code",
   "execution_count": 3,
   "id": "78464845",
   "metadata": {},
   "outputs": [],
   "source": [
    "# Advance version of this problem can be:\n",
    "# given a node(can be any in BST), find all nodes at distance k.\n",
    "# Logic will be somewhat same."
   ]
  },
  {
   "cell_type": "code",
   "execution_count": 4,
   "id": "9c6de80d",
   "metadata": {},
   "outputs": [],
   "source": [
    "def findNodeAtDistance(node, k):\n",
    "    if (node == None):\n",
    "        return\n",
    "    \n",
    "    if (k == 0):\n",
    "        print(node.data)\n",
    "        return\n",
    "    else:\n",
    "        findNodeAtDistance(node.left, k-1)\n",
    "        findNodeAtDistance(node.right, k-1)"
   ]
  },
  {
   "cell_type": "code",
   "execution_count": null,
   "id": "74efe32f",
   "metadata": {},
   "outputs": [],
   "source": []
  },
  {
   "cell_type": "code",
   "execution_count": 5,
   "id": "5e1d6354",
   "metadata": {},
   "outputs": [],
   "source": [
    "# Deletion in Binary Search Tree"
   ]
  },
  {
   "cell_type": "code",
   "execution_count": 6,
   "id": "04366192",
   "metadata": {},
   "outputs": [],
   "source": [
    "# Given a root node reference of a BST and a key, \n",
    "# delete the node with the given key in the BST. \n",
    "# Return the root node reference (possibly updated) of the BST.\n",
    "# Basically, the deletion can be divided into two stages:\n",
    "# Search for a node to remove.\n",
    "# If the node is found, delete the node"
   ]
  },
  {
   "cell_type": "code",
   "execution_count": null,
   "id": "7f359713",
   "metadata": {},
   "outputs": [],
   "source": [
    "# Always keep track of it's parent node."
   ]
  },
  {
   "cell_type": "code",
   "execution_count": 7,
   "id": "83385e47",
   "metadata": {},
   "outputs": [],
   "source": [
    "# so there are 3 scenerio\n",
    "# 1. deleting node is a leaf node\n",
    "# 2. deleting node has one child\n",
    "# 3. deleting node has bot the child\n",
    "\n",
    "\n",
    "# in case if deleting node is not a leaf node, we need to use inorder succesor\n",
    "def findInorderSuccesor(node):\n",
    "    while node.left != None:\n",
    "        node = node.left\n",
    "    \n",
    "    return node\n",
    "\n",
    "\n",
    "def deleteNode(node, value):\n",
    "    \n",
    "    # keeoing track of the parent\n",
    "    if (node == None):\n",
    "        return node\n",
    "    elif (value < node.data):\n",
    "        node.left = deleteNode(node.left, value)\n",
    "    elif (value > node.data):\n",
    "        node.right = deleteNode(node.right, value)\n",
    "        \n",
    "    else:\n",
    "        # leaf node\n",
    "        if (node.left == None and node.right == None):\n",
    "            node = None\n",
    "            return node\n",
    "        \n",
    "        # has right child\n",
    "        elif (node.left == None):\n",
    "            temp = node\n",
    "            node = node.right\n",
    "            return node\n",
    "        # has left child\n",
    "        elif (node.right == None):\n",
    "            temp = node\n",
    "            node = node.left\n",
    "            return node\n",
    "        else:\n",
    "            temp = findInorderSuccesor(node.right)\n",
    "            node.data = temp.data\n",
    "            node.right = deleteNode(node.right, temp.data)\n",
    "    \n",
    "    return node"
   ]
  },
  {
   "cell_type": "code",
   "execution_count": null,
   "id": "0ecf7124",
   "metadata": {},
   "outputs": [],
   "source": []
  }
 ],
 "metadata": {
  "kernelspec": {
   "display_name": "Python 3 (ipykernel)",
   "language": "python",
   "name": "python3"
  },
  "language_info": {
   "codemirror_mode": {
    "name": "ipython",
    "version": 3
   },
   "file_extension": ".py",
   "mimetype": "text/x-python",
   "name": "python",
   "nbconvert_exporter": "python",
   "pygments_lexer": "ipython3",
   "version": "3.9.7"
  }
 },
 "nbformat": 4,
 "nbformat_minor": 5
}
