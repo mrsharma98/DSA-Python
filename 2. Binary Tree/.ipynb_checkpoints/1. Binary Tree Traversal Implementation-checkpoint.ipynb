{
 "cells": [
  {
   "cell_type": "code",
   "execution_count": 1,
   "id": "419c6d26",
   "metadata": {},
   "outputs": [],
   "source": [
    "# Inorder Traversal"
   ]
  },
  {
   "cell_type": "code",
   "execution_count": 3,
   "id": "db98611a",
   "metadata": {},
   "outputs": [],
   "source": [
    "class Node:\n",
    "    def __init__(sefl, data):\n",
    "        self.data = data\n",
    "        self.left = None\n",
    "        self.right = None"
   ]
  },
  {
   "cell_type": "code",
   "execution_count": 4,
   "id": "fc2ea454",
   "metadata": {},
   "outputs": [],
   "source": [
    "def inOrder(node):\n",
    "    if (node == None):\n",
    "        return\n",
    "    \n",
    "    inOrder(node.left)\n",
    "    print(node.data)\n",
    "    inOrder(node.right)"
   ]
  },
  {
   "cell_type": "code",
   "execution_count": null,
   "id": "374f66db",
   "metadata": {},
   "outputs": [],
   "source": [
    "def postOrder(node):\n",
    "    if (node == None):\n",
    "        return\n",
    "    \n",
    "    postOrder(node.left)\n",
    "    postOrder(node.right)\n",
    "    print(node.data)"
   ]
  }
 ],
 "metadata": {
  "kernelspec": {
   "display_name": "Python 3 (ipykernel)",
   "language": "python",
   "name": "python3"
  },
  "language_info": {
   "codemirror_mode": {
    "name": "ipython",
    "version": 3
   },
   "file_extension": ".py",
   "mimetype": "text/x-python",
   "name": "python",
   "nbconvert_exporter": "python",
   "pygments_lexer": "ipython3",
   "version": "3.9.7"
  }
 },
 "nbformat": 4,
 "nbformat_minor": 5
}
