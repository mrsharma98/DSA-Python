{
 "cells": [
  {
   "cell_type": "raw",
   "id": "b9649195",
   "metadata": {},
   "source": [
    "https://www.codingninjas.com/codestudio/problems/vertical-sum_2100681"
   ]
  },
  {
   "cell_type": "code",
   "execution_count": 1,
   "id": "362e895c",
   "metadata": {},
   "outputs": [],
   "source": [
    "# traversing in inorder as we want answer in the sorted format wrt key\n",
    "\n",
    "\n",
    "# TC and SC:- O(n)\n",
    "def helper(node, verticalSum, dist):\n",
    "    if node is None:\n",
    "        return\n",
    "    \n",
    "    helper(node.left, verticalSum, dist-1)\n",
    "    if verticalSum.get(dist):\n",
    "        verticalSum[dist] += node.data\n",
    "    else:\n",
    "        verticalSum[dist] = node.data\n",
    "    helper(node.right, verticalSum, dist+1)\n",
    "\n",
    "def verticalSum(root):\n",
    "    # Write your code here.\n",
    "    if root is None:\n",
    "        return []\n",
    "    verticalSum = {}\n",
    "    dist = 0\n",
    "    helper(root, verticalSum, dist)\n",
    "    keys = list(verticalSum.keys())\n",
    "    keys.sort()\n",
    "    ans = []\n",
    "    for i in keys:\n",
    "        ans.append(verticalSum[i])\n",
    "    return ans"
   ]
  },
  {
   "cell_type": "code",
   "execution_count": null,
   "id": "09eb14bd",
   "metadata": {},
   "outputs": [],
   "source": []
  },
  {
   "cell_type": "code",
   "execution_count": 2,
   "id": "38ab45bd",
   "metadata": {},
   "outputs": [],
   "source": [
    "# Use DLL\n",
    "\n",
    "# root is the head or first node\n",
    "# as pointer moves left of BT, we will add or update left side of DLL,\n",
    "# as pointer moves right of BT, we will update the right side of DLL"
   ]
  },
  {
   "cell_type": "code",
   "execution_count": 3,
   "id": "b9255a75",
   "metadata": {},
   "outputs": [],
   "source": [
    "# TC:- O(n) -- but overall less time\n",
    "# SC:- O(n) -- but overall less space"
   ]
  },
  {
   "cell_type": "code",
   "execution_count": 4,
   "id": "22344923",
   "metadata": {},
   "outputs": [],
   "source": [
    "class DLL:\n",
    "    def __init__(self, val):\n",
    "        self.val = val\n",
    "        self.prev = None\n",
    "        self.next = None\n",
    "        \n",
    "def helper(node, head):\n",
    "    head.val = head.val+node.data\n",
    "    \n",
    "    if node.left is not None:\n",
    "        if head.prev is None:\n",
    "            newNode = DLL(0)\n",
    "            head.prev = newNode\n",
    "            newNode.next = head\n",
    "            \n",
    "        helper(node.left, head.prev)\n",
    "    \n",
    "    if node.right is not None:\n",
    "        if head.next is None:\n",
    "            newNode = DLL(0)\n",
    "            head.next = newNode\n",
    "            newNode.prev = head\n",
    "            \n",
    "        helper(node.right, head.next)\n",
    "\n",
    "def verticalSum(root):\n",
    "    # Write your code here.\n",
    "    ans = []\n",
    "    if root is None:\n",
    "        return ans\n",
    "    head = DLL(0)\n",
    "    helper(root, head)\n",
    "    curr = head\n",
    "    while (curr.prev is not None):\n",
    "        curr = curr.prev\n",
    "    while (curr is not None):\n",
    "        ans.append(curr.val)\n",
    "        curr = curr.next\n",
    "    return ans"
   ]
  },
  {
   "cell_type": "code",
   "execution_count": null,
   "id": "1257db7c",
   "metadata": {},
   "outputs": [],
   "source": []
  },
  {
   "cell_type": "code",
   "execution_count": null,
   "id": "10336b4a",
   "metadata": {},
   "outputs": [],
   "source": []
  },
  {
   "cell_type": "markdown",
   "id": "eab9d0e4",
   "metadata": {},
   "source": [
    "# Maximum sum"
   ]
  },
  {
   "cell_type": "code",
   "execution_count": 5,
   "id": "c3d3c81d",
   "metadata": {},
   "outputs": [],
   "source": [
    "# Maximum sum of leaf to root path in a Binary Tree"
   ]
  },
  {
   "cell_type": "code",
   "execution_count": null,
   "id": "ad515136",
   "metadata": {},
   "outputs": [],
   "source": []
  },
  {
   "cell_type": "code",
   "execution_count": null,
   "id": "3b2c4d54",
   "metadata": {},
   "outputs": [],
   "source": []
  }
 ],
 "metadata": {
  "kernelspec": {
   "display_name": "Python 3 (ipykernel)",
   "language": "python",
   "name": "python3"
  },
  "language_info": {
   "codemirror_mode": {
    "name": "ipython",
    "version": 3
   },
   "file_extension": ".py",
   "mimetype": "text/x-python",
   "name": "python",
   "nbconvert_exporter": "python",
   "pygments_lexer": "ipython3",
   "version": "3.9.7"
  }
 },
 "nbformat": 4,
 "nbformat_minor": 5
}
