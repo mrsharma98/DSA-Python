{
 "cells": [
  {
   "cell_type": "raw",
   "id": "6be214f3",
   "metadata": {},
   "source": [
    "Design an algorithm and write code to serialize and deserialize a binary tree. Writing the tree to a file is called 'serialization' and reading back from the file to reconstruct the exact same binary tree is 'deserialization' in Time and Space Complexity O(n)"
   ]
  },
  {
   "cell_type": "raw",
   "id": "92c131cd",
   "metadata": {},
   "source": [
    "Serialization:-\n",
    "    Converting a data structure or object into bits, can be stored in file or memory buffer.\n",
    "    Later can be transferred into a network.\n",
    "\n",
    "Deserialization:-\n",
    "    The process of getting back the original tree from that sequence of bits or some file."
   ]
  },
  {
   "cell_type": "code",
   "execution_count": null,
   "id": "60e9526b",
   "metadata": {},
   "outputs": [],
   "source": []
  },
  {
   "cell_type": "raw",
   "id": "affe960d",
   "metadata": {},
   "source": [
    "one solution could be\n",
    "-- storing inorder and preorder of BT\n",
    "-- Drawback --> we are using 2 array\n",
    "\n",
    "-- is it possible to do it in one array?\n",
    "-- just by using preorder?? -- we cannot\n",
    "-- we can store -1 if node is None in preorder\n"
   ]
  },
  {
   "cell_type": "code",
   "execution_count": 1,
   "id": "28969431",
   "metadata": {},
   "outputs": [],
   "source": [
    "class TreeNode:\n",
    "    def __init__(self, data) :\n",
    "        self.data = data\n",
    "        self.left = None\n",
    "        self.right = None\n",
    "\n",
    "    def __del__(self):\n",
    "        if self.left:\n",
    "            del self.left\n",
    "        if self.right:\n",
    "            del self.right\n",
    "\n",
    "class Help:\n",
    "    def __init__(self):\n",
    "        self.index = -1\n",
    "        self.preorder = []\n",
    "        \n",
    "    def helper(self, node):\n",
    "        if node is None:\n",
    "            self.preorder.append(-1)\n",
    "            return\n",
    "\n",
    "        self.preorder.append(node.data)\n",
    "        self.helper(node.left)\n",
    "        self.helper(node.right)\n",
    "    \n",
    "    def helperDe(self, node, preorder):\n",
    "        self.index += 1\n",
    "        if preorder[self.index] == -1:\n",
    "            return None\n",
    "        node = TreeNode(preorder[self.index])\n",
    "        node.left = self.helperDe(node, preorder)\n",
    "        node.right = self.helperDe(node, preorder)\n",
    "        return node\n",
    "\n",
    "def serializeTree(node):\n",
    "    #    Write your code here for serialization of the tree.\n",
    "    h = Help()\n",
    "    h.helper(node)\n",
    "    return h.preorder\n",
    "\n",
    "def deserializeTree(serialized):\n",
    "\t#\tWrite your code here for deserialization of the tree.\n",
    "    node = TreeNode(serialized[0])\n",
    "    h = Help()\n",
    "    node = h.helperDe(node, serialized)\n",
    "    \n",
    "    return node"
   ]
  },
  {
   "cell_type": "raw",
   "id": "4121da5c",
   "metadata": {},
   "source": [
    "https://www.codingninjas.com/codestudio/problems/serialise-deserialise-a-binary-tree_920328?leftPanelTab=1"
   ]
  },
  {
   "cell_type": "code",
   "execution_count": null,
   "id": "a4e83cc0",
   "metadata": {},
   "outputs": [],
   "source": []
  }
 ],
 "metadata": {
  "kernelspec": {
   "display_name": "Python 3 (ipykernel)",
   "language": "python",
   "name": "python3"
  },
  "language_info": {
   "codemirror_mode": {
    "name": "ipython",
    "version": 3
   },
   "file_extension": ".py",
   "mimetype": "text/x-python",
   "name": "python",
   "nbconvert_exporter": "python",
   "pygments_lexer": "ipython3",
   "version": "3.9.7"
  }
 },
 "nbformat": 4,
 "nbformat_minor": 5
}
