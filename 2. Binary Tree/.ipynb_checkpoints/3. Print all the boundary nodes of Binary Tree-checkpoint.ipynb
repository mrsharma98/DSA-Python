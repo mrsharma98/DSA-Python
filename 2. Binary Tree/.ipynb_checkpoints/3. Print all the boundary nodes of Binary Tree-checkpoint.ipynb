{
 "cells": [
  {
   "cell_type": "code",
   "execution_count": 1,
   "id": "c43cdbc1",
   "metadata": {},
   "outputs": [],
   "source": [
    "# Print all the boundary nodes in the binary tree.\n",
    "# Boundary includes left boundary, leaves, and right boundary\n",
    "# anti clockwise direction in O(n) Time Complexity"
   ]
  },
  {
   "cell_type": "code",
   "execution_count": 2,
   "id": "16832895",
   "metadata": {},
   "outputs": [],
   "source": [
    "# Leaves Nodes + Left internal nodes + right internal Nodes"
   ]
  },
  {
   "cell_type": "code",
   "execution_count": 3,
   "id": "de4cd0d2",
   "metadata": {},
   "outputs": [],
   "source": [
    "# Left Internal Nodes\n",
    "def leftInternalNodes(node):\n",
    "    if (node != None):\n",
    "        \n",
    "        if (node.left != None):\n",
    "            print(\"BT node: \", node.data)\n",
    "            leftInternalNodes(node.left)\n",
    "        elif (node.right != None):\n",
    "            print(\"BT node: \", node.data)\n",
    "            leftInternalNodes(node.right)"
   ]
  },
  {
   "cell_type": "code",
   "execution_count": 4,
   "id": "152192a5",
   "metadata": {},
   "outputs": [],
   "source": [
    "# Right Internal Nodes\n",
    "def rightInternalNodes(node):\n",
    "    if (node != None):\n",
    "        \n",
    "        if (node.right != None):\n",
    "            rightInternalNodes(node.right)\n",
    "            print(\"BT node: \", node.data)\n",
    "        elif (node.left != None):\n",
    "            rightInternalNodes(node.left)\n",
    "            print(\"BT node: \", node.data)"
   ]
  },
  {
   "cell_type": "code",
   "execution_count": 6,
   "id": "6d30ecbe",
   "metadata": {},
   "outputs": [],
   "source": [
    "# Leaves Node\n",
    "def leafNodes(node):\n",
    "    if node != None:\n",
    "        leafNodes(node.left)\n",
    "        if (node.right is None and node.left is None):\n",
    "            print(\"BT node: \", node.data)\n",
    "        leafNodes(node.right)"
   ]
  },
  {
   "cell_type": "code",
   "execution_count": null,
   "id": "bf952c59",
   "metadata": {},
   "outputs": [],
   "source": [
    "# first print the root node"
   ]
  }
 ],
 "metadata": {
  "kernelspec": {
   "display_name": "Python 3 (ipykernel)",
   "language": "python",
   "name": "python3"
  },
  "language_info": {
   "codemirror_mode": {
    "name": "ipython",
    "version": 3
   },
   "file_extension": ".py",
   "mimetype": "text/x-python",
   "name": "python",
   "nbconvert_exporter": "python",
   "pygments_lexer": "ipython3",
   "version": "3.9.7"
  }
 },
 "nbformat": 4,
 "nbformat_minor": 5
}
