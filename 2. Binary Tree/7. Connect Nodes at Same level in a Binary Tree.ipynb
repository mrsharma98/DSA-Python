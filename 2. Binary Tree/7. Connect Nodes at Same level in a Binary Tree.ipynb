{
 "cells": [
  {
   "cell_type": "code",
   "execution_count": 1,
   "id": "26c43334",
   "metadata": {},
   "outputs": [],
   "source": [
    "# Algorithm to Connect all the nodes in same level of a binary tree\n",
    "# Constant Space and O(n) Time Compelxity"
   ]
  },
  {
   "cell_type": "code",
   "execution_count": 2,
   "id": "2c56cf7f",
   "metadata": {},
   "outputs": [],
   "source": [
    "# here we get node -> data, left, right, next"
   ]
  },
  {
   "cell_type": "raw",
   "id": "0e582666",
   "metadata": {},
   "source": [
    "# Algo\n",
    "findNextNode(root){\n",
    "    condition\n",
    "    \n",
    "    findNextNode(root.right)\n",
    "    findNextNode(root.right)\n",
    "}\n",
    "\n",
    "case1: If both the child of root is not null\n",
    "    Step1: root.left.next = root.right\n",
    "    Step2: if root next is not null\n",
    "        Step2.1: root.right.next = root.next.nextAvailable\n",
    "\n",
    "case2: if root only one child is not null and root next is not null\n",
    "    Step1: if root left is not null\n",
    "        Step1.1: rot.left.next = root.next.NextAvailableNode\n",
    "            OR\n",
    "    Step1: if root right is not null\n",
    "        Step1.1: rot.right.next = root.next.NextAvailableNode"
   ]
  },
  {
   "cell_type": "code",
   "execution_count": 2,
   "id": "7683bb44",
   "metadata": {},
   "outputs": [],
   "source": [
    "class Node:\n",
    "    def __init__(self, data):\n",
    "        self.data = data\n",
    "        self.left = left\n",
    "        self.right = right\n",
    "        self.next = next"
   ]
  },
  {
   "cell_type": "code",
   "execution_count": null,
   "id": "741adb35",
   "metadata": {},
   "outputs": [],
   "source": []
  },
  {
   "cell_type": "code",
   "execution_count": 3,
   "id": "201b5c54",
   "metadata": {},
   "outputs": [],
   "source": [
    "# Find right node of the given Key"
   ]
  },
  {
   "cell_type": "code",
   "execution_count": 4,
   "id": "3b140232",
   "metadata": {},
   "outputs": [],
   "source": [
    "# Given a Binary tree and a key in the binary tree, \n",
    "# find the node right to the given key. \n",
    "# If there is no node on right side, then return NULL. \n",
    "# time complexity is O(n) where n is the number of nodes in BT"
   ]
  },
  {
   "cell_type": "code",
   "execution_count": 6,
   "id": "1d1a1b62",
   "metadata": {},
   "outputs": [],
   "source": [
    "desiredLevel = 0\n",
    "def findRghtNode(node, value, level):\n",
    "    global desiredLevel\n",
    "    if node == None:\n",
    "        return\n",
    "    \n",
    "    if node.data == value:\n",
    "        desiredLevel = level\n",
    "        return None\n",
    "    \n",
    "    if desiredLevel != 0:\n",
    "        if level == desiredLevel:\n",
    "            return node\n",
    "    \n",
    "    left = findRghtNode(node.left, value, level+1)\n",
    "    if left != None:\n",
    "        return left\n",
    "    return findRghtNode(node.right, value, level+1)"
   ]
  },
  {
   "cell_type": "code",
   "execution_count": null,
   "id": "6b973c19",
   "metadata": {},
   "outputs": [],
   "source": []
  }
 ],
 "metadata": {
  "kernelspec": {
   "display_name": "Python 3 (ipykernel)",
   "language": "python",
   "name": "python3"
  },
  "language_info": {
   "codemirror_mode": {
    "name": "ipython",
    "version": 3
   },
   "file_extension": ".py",
   "mimetype": "text/x-python",
   "name": "python",
   "nbconvert_exporter": "python",
   "pygments_lexer": "ipython3",
   "version": "3.9.7"
  }
 },
 "nbformat": 4,
 "nbformat_minor": 5
}
