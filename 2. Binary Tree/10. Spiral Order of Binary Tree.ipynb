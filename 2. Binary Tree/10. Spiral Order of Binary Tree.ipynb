{
 "cells": [
  {
   "cell_type": "code",
   "execution_count": 1,
   "id": "836e79fe",
   "metadata": {},
   "outputs": [],
   "source": [
    "# we will need 2 stack here.\n",
    "# go level by level"
   ]
  },
  {
   "cell_type": "raw",
   "id": "b965c759",
   "metadata": {},
   "source": [
    "https://www.codingninjas.com/codestudio/problems/spiral-order-traversal-of-a-binary-tree_630521?leftPanelTab=1"
   ]
  },
  {
   "cell_type": "code",
   "execution_count": 2,
   "id": "279ebe8f",
   "metadata": {},
   "outputs": [],
   "source": [
    "def spiralOrder(node):\n",
    "    ans = []\n",
    "    if node is None:\n",
    "        return ans\n",
    "    \n",
    "    s1, s2 = [],[]\n",
    "    s1.append(node)\n",
    "    \n",
    "    while (len(s1)>0 or len(s2)>0):\n",
    "        while (len(s1)>0):\n",
    "            n1 = s1.pop()\n",
    "            ans.append(n1.data)\n",
    "            if n1.left!=None:\n",
    "                s2.append(n1.left)\n",
    "            if n1.right!=None:\n",
    "                s2.append(n1.right)\n",
    "        \n",
    "        while (len(s2)>0):\n",
    "            n2 = s2.pop()\n",
    "            ans.append(n2.data)\n",
    "            if n2.right!=None:\n",
    "                s1.append(n2.right)\n",
    "            if n2.left!=None:\n",
    "                s1.append(n2.left)\n",
    "        \n",
    "    return ans"
   ]
  },
  {
   "cell_type": "code",
   "execution_count": null,
   "id": "17e7c361",
   "metadata": {},
   "outputs": [],
   "source": []
  },
  {
   "cell_type": "markdown",
   "id": "b4d37836",
   "metadata": {},
   "source": [
    "# Inorder using iteration"
   ]
  },
  {
   "cell_type": "code",
   "execution_count": 3,
   "id": "a39af528",
   "metadata": {},
   "outputs": [],
   "source": [
    "# using recursion\n",
    "def inorderRec(node):\n",
    "    if node is None:\n",
    "        return None\n",
    "    inorderRec(node.left)\n",
    "    print(node.data)\n",
    "    inorderRec(node.right)"
   ]
  },
  {
   "cell_type": "raw",
   "id": "4f73be4a",
   "metadata": {},
   "source": [
    "--> using iteration\n",
    "Recursion uses LIFO operation, so we can use Stack\n",
    "1. We keep on moving left until left child is None\n",
    "2. The first node that printed is left equals None\n",
    "3. After printing node we check it's right child\n",
    "\n",
    "-- When we push then check any left child is there\n",
    "-- When we pop out from Stack then check any right child is there"
   ]
  },
  {
   "cell_type": "code",
   "execution_count": null,
   "id": "3bb9a173",
   "metadata": {},
   "outputs": [],
   "source": [
    "def inorder(node):\n",
    "    ans = []\n",
    "    if root is None:\n",
    "        return\n",
    "\n",
    "    s = []\n",
    "    curr = root\n",
    "    while (len(s)>0 or curr!=None):\n",
    "        while(curr!=None):\n",
    "            s.append(curr)\n",
    "            curr = curr.left\n",
    "\n",
    "        curr = s.pop()\n",
    "        ans.append(curr.val)\n",
    "        curr = curr.right\n",
    "    return ans"
   ]
  },
  {
   "cell_type": "code",
   "execution_count": null,
   "id": "43fda4b0",
   "metadata": {},
   "outputs": [],
   "source": []
  }
 ],
 "metadata": {
  "kernelspec": {
   "display_name": "Python 3 (ipykernel)",
   "language": "python",
   "name": "python3"
  },
  "language_info": {
   "codemirror_mode": {
    "name": "ipython",
    "version": 3
   },
   "file_extension": ".py",
   "mimetype": "text/x-python",
   "name": "python",
   "nbconvert_exporter": "python",
   "pygments_lexer": "ipython3",
   "version": "3.9.7"
  }
 },
 "nbformat": 4,
 "nbformat_minor": 5
}
