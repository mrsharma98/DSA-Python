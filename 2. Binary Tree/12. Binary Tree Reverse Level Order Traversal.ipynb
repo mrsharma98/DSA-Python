{
 "cells": [
  {
   "cell_type": "raw",
   "id": "4be78dcc",
   "metadata": {},
   "source": [
    "https://leetcode.com/problems/binary-tree-level-order-traversal-ii/"
   ]
  },
  {
   "cell_type": "code",
   "execution_count": 2,
   "id": "9e358941",
   "metadata": {},
   "outputs": [],
   "source": [
    "# we will use a stack and a queue"
   ]
  },
  {
   "cell_type": "raw",
   "id": "4e45028a",
   "metadata": {},
   "source": [
    "stack = []\n",
    "queue = []\n",
    "\n",
    "while (queue.notEmpty()):\n",
    "    n1 = queue.deque()\n",
    "    stack.push(n1)\n",
    "    queue.enque(n1.right)\n",
    "    queue.enque(n1.left)"
   ]
  },
  {
   "cell_type": "code",
   "execution_count": 2,
   "id": "88e63258",
   "metadata": {},
   "outputs": [],
   "source": [
    "def levelOrderBottom(root):\n",
    "    if root is None:\n",
    "        return []\n",
    "    q = []\n",
    "    q.append(root)\n",
    "    ans = []\n",
    "\n",
    "    while q:\n",
    "        l = []\n",
    "\n",
    "        for i in range(len(q)):\n",
    "            node = q.pop(0)\n",
    "            if node:\n",
    "                l.append(node.val)\n",
    "                q.append(node.left)\n",
    "                q.append(node.right)\n",
    "\n",
    "        if l:\n",
    "            ans.append(l)\n",
    "\n",
    "    return ans[::-1]"
   ]
  },
  {
   "cell_type": "code",
   "execution_count": null,
   "id": "1a42ff0f",
   "metadata": {},
   "outputs": [],
   "source": []
  },
  {
   "cell_type": "code",
   "execution_count": null,
   "id": "9916db7d",
   "metadata": {},
   "outputs": [],
   "source": []
  },
  {
   "cell_type": "markdown",
   "id": "87986887",
   "metadata": {},
   "source": [
    "# Preorder using iteration"
   ]
  },
  {
   "cell_type": "code",
   "execution_count": 3,
   "id": "cc3e5dd5",
   "metadata": {},
   "outputs": [],
   "source": [
    "# Preorder using recursion\n",
    "# uses LIFO approach\n",
    "def preorderRec(node):\n",
    "    if node is None:\n",
    "        return\n",
    "    \n",
    "    print(node.data)\n",
    "    preorderRec(node.left)\n",
    "    preorderRec(node.right)"
   ]
  },
  {
   "cell_type": "code",
   "execution_count": 4,
   "id": "a3112df8",
   "metadata": {},
   "outputs": [],
   "source": [
    "# using iteration\n",
    "# push root, pop it and push right then left child and follow the same procedure"
   ]
  },
  {
   "cell_type": "code",
   "execution_count": 6,
   "id": "24318cec",
   "metadata": {},
   "outputs": [],
   "source": [
    "def preorder(root):\n",
    "    s = []\n",
    "    s.append(root)\n",
    "    ans = []\n",
    "    while (len(s)>0):\n",
    "        temp = s.pop()\n",
    "        ans.append(temp.data)\n",
    "        if temp.right:\n",
    "            s.append(temp.right)\n",
    "        if temp.left:\n",
    "            s.append(temp.left)\n",
    "    return ans"
   ]
  },
  {
   "cell_type": "code",
   "execution_count": null,
   "id": "58afbcce",
   "metadata": {},
   "outputs": [],
   "source": []
  }
 ],
 "metadata": {
  "kernelspec": {
   "display_name": "Python 3 (ipykernel)",
   "language": "python",
   "name": "python3"
  },
  "language_info": {
   "codemirror_mode": {
    "name": "ipython",
    "version": 3
   },
   "file_extension": ".py",
   "mimetype": "text/x-python",
   "name": "python",
   "nbconvert_exporter": "python",
   "pygments_lexer": "ipython3",
   "version": "3.9.7"
  }
 },
 "nbformat": 4,
 "nbformat_minor": 5
}
