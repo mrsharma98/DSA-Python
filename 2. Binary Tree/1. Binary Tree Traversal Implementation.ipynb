{
 "cells": [
  {
   "cell_type": "code",
   "execution_count": 1,
   "id": "4a6a7916",
   "metadata": {},
   "outputs": [],
   "source": [
    "# Inorder Traversal"
   ]
  },
  {
   "cell_type": "code",
   "execution_count": 3,
   "id": "7be69d74",
   "metadata": {},
   "outputs": [],
   "source": [
    "class Node:\n",
    "    def __init__(sefl, data):\n",
    "        self.data = data\n",
    "        self.left = None\n",
    "        self.right = None"
   ]
  },
  {
   "cell_type": "code",
   "execution_count": 4,
   "id": "f2e146cf",
   "metadata": {},
   "outputs": [],
   "source": [
    "def inOrder(node):\n",
    "    if (node == None):\n",
    "        return\n",
    "    \n",
    "    inOrder(node.left)\n",
    "    print(node.data)\n",
    "    inOrder(node.right)"
   ]
  },
  {
   "cell_type": "code",
   "execution_count": 5,
   "id": "d3195e37",
   "metadata": {},
   "outputs": [],
   "source": [
    "def postOrder(node):\n",
    "    if (node == None):\n",
    "        return\n",
    "    \n",
    "    postOrder(node.left)\n",
    "    postOrder(node.right)\n",
    "    print(node.data)"
   ]
  },
  {
   "cell_type": "code",
   "execution_count": null,
   "id": "e6c2ab0e",
   "metadata": {},
   "outputs": [],
   "source": []
  },
  {
   "cell_type": "code",
   "execution_count": null,
   "id": "3539985b",
   "metadata": {},
   "outputs": [],
   "source": []
  },
  {
   "cell_type": "code",
   "execution_count": 6,
   "id": "0efd2a79",
   "metadata": {},
   "outputs": [],
   "source": [
    "# find kth largest element in BST"
   ]
  },
  {
   "cell_type": "code",
   "execution_count": 7,
   "id": "0982b176",
   "metadata": {},
   "outputs": [],
   "source": [
    "# reverse the order of inorder bst"
   ]
  },
  {
   "cell_type": "code",
   "execution_count": 8,
   "id": "a2ed1f76",
   "metadata": {},
   "outputs": [],
   "source": [
    "count = 0\n",
    "def kthLargestBST(node):\n",
    "    if root == None:\n",
    "        return\n",
    "    \n",
    "    kthLargestBST(root.right)\n",
    "    count += 1\n",
    "    if count == k:\n",
    "        return root.data\n",
    "    kthLargestBST(root.left)"
   ]
  },
  {
   "cell_type": "code",
   "execution_count": null,
   "id": "958efc26",
   "metadata": {},
   "outputs": [],
   "source": []
  }
 ],
 "metadata": {
  "kernelspec": {
   "display_name": "Python 3 (ipykernel)",
   "language": "python",
   "name": "python3"
  },
  "language_info": {
   "codemirror_mode": {
    "name": "ipython",
    "version": 3
   },
   "file_extension": ".py",
   "mimetype": "text/x-python",
   "name": "python",
   "nbconvert_exporter": "python",
   "pygments_lexer": "ipython3",
   "version": "3.9.7"
  }
 },
 "nbformat": 4,
 "nbformat_minor": 5
}
