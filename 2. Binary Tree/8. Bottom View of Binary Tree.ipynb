{
 "cells": [
  {
   "cell_type": "code",
   "execution_count": 1,
   "id": "8b16b4cb",
   "metadata": {},
   "outputs": [],
   "source": [
    "# Given a binary tree, \n",
    "# print the values of nodes which would be present in bottom of view of binary tree"
   ]
  },
  {
   "cell_type": "code",
   "execution_count": 2,
   "id": "3ffe8483",
   "metadata": {},
   "outputs": [],
   "source": [
    "# Horizontal dist -- the dist from the middle line to the line of the node."
   ]
  },
  {
   "cell_type": "code",
   "execution_count": 3,
   "id": "38090daf",
   "metadata": {},
   "outputs": [],
   "source": [
    "# we will use hashmap\n",
    "# key is the horizontal distance abnd value is node value and level"
   ]
  },
  {
   "cell_type": "code",
   "execution_count": 4,
   "id": "dc15d889",
   "metadata": {},
   "outputs": [],
   "source": [
    "class NodeLevel:\n",
    "    def __init__(self, value, level):\n",
    "        self.level = level\n",
    "        self.value = value"
   ]
  },
  {
   "cell_type": "code",
   "execution_count": null,
   "id": "58f0d24a",
   "metadata": {},
   "outputs": [],
   "source": [
    "def printBottom(node, dist, level, dict):\n",
    "    if node is None:\n",
    "        return\n",
    "    \n",
    "    if (dist not in dict) or (level>=dict[dist][1]):\n",
    "        dict[dist] = [node.data, level]\n",
    "    \n",
    "    printBottom(node.left, dist-1, level+1, dict)\n",
    "    printBottom(node.right, dist+1, level+1, dict)\n",
    "\n",
    "\n",
    "def bottomView(root):\n",
    "    \n",
    "    # Write your code here.\n",
    "    # This function returns a list of nodes which is the required bottom view of the tree.\n",
    "    dict = {}\n",
    "    dist = 0\n",
    "    level = 0\n",
    "    printBottom(root, dist, level, dict)\n",
    "    ans = []\n",
    "    for i in sorted(dict.keys()):\n",
    "        ans.append(dict[i][0])\n",
    "    return ans"
   ]
  }
 ],
 "metadata": {
  "kernelspec": {
   "display_name": "Python 3 (ipykernel)",
   "language": "python",
   "name": "python3"
  },
  "language_info": {
   "codemirror_mode": {
    "name": "ipython",
    "version": 3
   },
   "file_extension": ".py",
   "mimetype": "text/x-python",
   "name": "python",
   "nbconvert_exporter": "python",
   "pygments_lexer": "ipython3",
   "version": "3.9.7"
  }
 },
 "nbformat": 4,
 "nbformat_minor": 5
}
