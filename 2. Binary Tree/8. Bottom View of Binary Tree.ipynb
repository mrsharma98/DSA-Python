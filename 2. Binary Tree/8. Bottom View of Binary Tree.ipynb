{
 "cells": [
  {
   "cell_type": "code",
   "execution_count": 1,
   "id": "8b16b4cb",
   "metadata": {},
   "outputs": [],
   "source": [
    "# Given a binary tree, \n",
    "# print the values of nodes which would be present in bottom of view of binary tree"
   ]
  },
  {
   "cell_type": "code",
   "execution_count": 2,
   "id": "3ffe8483",
   "metadata": {},
   "outputs": [],
   "source": [
    "# Horizontal dist -- the dist from the middle line to the line of the node."
   ]
  },
  {
   "cell_type": "code",
   "execution_count": 3,
   "id": "38090daf",
   "metadata": {},
   "outputs": [],
   "source": [
    "# we will use hashmap\n",
    "# key is the horizontal distance abnd value is node value and level"
   ]
  },
  {
   "cell_type": "code",
   "execution_count": 4,
   "id": "dc15d889",
   "metadata": {},
   "outputs": [],
   "source": [
    "class NodeLevel:\n",
    "    def __init__(self, value, level):\n",
    "        self.level = level\n",
    "        self.value = value"
   ]
  },
  {
   "cell_type": "code",
   "execution_count": null,
   "id": "58f0d24a",
   "metadata": {},
   "outputs": [],
   "source": []
  }
 ],
 "metadata": {
  "kernelspec": {
   "display_name": "Python 3 (ipykernel)",
   "language": "python",
   "name": "python3"
  },
  "language_info": {
   "codemirror_mode": {
    "name": "ipython",
    "version": 3
   },
   "file_extension": ".py",
   "mimetype": "text/x-python",
   "name": "python",
   "nbconvert_exporter": "python",
   "pygments_lexer": "ipython3",
   "version": "3.9.7"
  }
 },
 "nbformat": 4,
 "nbformat_minor": 5
}
