{
 "cells": [
  {
   "cell_type": "code",
   "execution_count": 1,
   "id": "ced5ff77",
   "metadata": {},
   "outputs": [],
   "source": [
    "# Print all the boundary nodes in the binary tree.\n",
    "# Boundary includes left boundary, leaves, and right boundary\n",
    "# anti clockwise direction in O(n) Time Complexity"
   ]
  },
  {
   "cell_type": "code",
   "execution_count": 8,
   "id": "4cbb3348",
   "metadata": {},
   "outputs": [],
   "source": [
    "# Leaves Nodes + Left internal nodes + right internal Nodes\n",
    "\n",
    "# first print the root node"
   ]
  },
  {
   "cell_type": "code",
   "execution_count": 3,
   "id": "f25eeb2b",
   "metadata": {},
   "outputs": [],
   "source": [
    "# Left Internal Nodes\n",
    "def leftInternalNodes(node):\n",
    "    if (node != None):\n",
    "        \n",
    "        if (node.left != None):\n",
    "            print(\"BT node: \", node.data)\n",
    "            leftInternalNodes(node.left)\n",
    "        elif (node.right != None):\n",
    "            print(\"BT node: \", node.data)\n",
    "            leftInternalNodes(node.right)"
   ]
  },
  {
   "cell_type": "code",
   "execution_count": 4,
   "id": "a0ee98f2",
   "metadata": {},
   "outputs": [],
   "source": [
    "# Right Internal Nodes\n",
    "def rightInternalNodes(node):\n",
    "    if (node != None):\n",
    "        \n",
    "        if (node.right != None):\n",
    "            rightInternalNodes(node.right)\n",
    "            print(\"BT node: \", node.data)\n",
    "        elif (node.left != None):\n",
    "            rightInternalNodes(node.left)\n",
    "            print(\"BT node: \", node.data)"
   ]
  },
  {
   "cell_type": "code",
   "execution_count": 6,
   "id": "fe52418b",
   "metadata": {},
   "outputs": [],
   "source": [
    "# Leaves Node\n",
    "def leafNodes(node):\n",
    "    if node != None:\n",
    "        leafNodes(node.left)\n",
    "        if (node.right is None and node.left is None):\n",
    "            print(\"BT node: \", node.data)\n",
    "        leafNodes(node.right)"
   ]
  },
  {
   "cell_type": "code",
   "execution_count": 7,
   "id": "f96ea9c4",
   "metadata": {},
   "outputs": [],
   "source": []
  },
  {
   "cell_type": "code",
   "execution_count": null,
   "id": "0e09a46b",
   "metadata": {},
   "outputs": [],
   "source": [
    "# Check whether Binary Tree is Binary Search Tree"
   ]
  },
  {
   "cell_type": "code",
   "execution_count": 9,
   "id": "0fd0be28",
   "metadata": {},
   "outputs": [],
   "source": [
    "# Given a binary tree, determine if it is a valid binary search tree (BST).\n",
    "# Assume a BST is defined as follows:\n",
    "# The left subtree of a node contains only nodes with keys less than the node's key.\n",
    "# The right subtree of a node contains only nodes with keys greater than the node's key.\n",
    "# Both the left and right subtrees must also be binary search trees"
   ]
  },
  {
   "cell_type": "code",
   "execution_count": 10,
   "id": "76af4e2f",
   "metadata": {},
   "outputs": [],
   "source": [
    "def isBST(node, min, max):\n",
    "    if node.data < min or node.data > max:\n",
    "        return False\n",
    "    \n",
    "    if node.left != None:\n",
    "        isBST(node.left, min, node.data-1)\n",
    "    if node.right != None:\n",
    "        isBST(node.right, node.data+1, max)\n",
    "    "
   ]
  },
  {
   "cell_type": "code",
   "execution_count": null,
   "id": "95e312ce",
   "metadata": {},
   "outputs": [],
   "source": []
  },
  {
   "cell_type": "code",
   "execution_count": null,
   "id": "d3cd055f",
   "metadata": {},
   "outputs": [],
   "source": []
  },
  {
   "cell_type": "code",
   "execution_count": null,
   "id": "a2da3c19",
   "metadata": {},
   "outputs": [],
   "source": []
  },
  {
   "cell_type": "code",
   "execution_count": null,
   "id": "1e76dc83",
   "metadata": {},
   "outputs": [],
   "source": []
  },
  {
   "cell_type": "code",
   "execution_count": null,
   "id": "a54c5b27",
   "metadata": {},
   "outputs": [],
   "source": []
  },
  {
   "cell_type": "code",
   "execution_count": null,
   "id": "68607732",
   "metadata": {},
   "outputs": [],
   "source": []
  },
  {
   "cell_type": "code",
   "execution_count": null,
   "id": "954ce564",
   "metadata": {},
   "outputs": [],
   "source": []
  }
 ],
 "metadata": {
  "kernelspec": {
   "display_name": "Python 3 (ipykernel)",
   "language": "python",
   "name": "python3"
  },
  "language_info": {
   "codemirror_mode": {
    "name": "ipython",
    "version": 3
   },
   "file_extension": ".py",
   "mimetype": "text/x-python",
   "name": "python",
   "nbconvert_exporter": "python",
   "pygments_lexer": "ipython3",
   "version": "3.9.7"
  }
 },
 "nbformat": 4,
 "nbformat_minor": 5
}
