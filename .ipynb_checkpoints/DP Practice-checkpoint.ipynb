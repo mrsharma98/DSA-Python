{
 "cells": [
  {
   "cell_type": "markdown",
   "id": "923c8184",
   "metadata": {},
   "source": [
    "# L1 & L2"
   ]
  },
  {
   "cell_type": "markdown",
   "id": "1664f314",
   "metadata": {},
   "source": [
    "Fibonacci Number -- https://leetcode.com/problems/climbing-stairs/description/"
   ]
  },
  {
   "cell_type": "code",
   "execution_count": null,
   "id": "bde6b545",
   "metadata": {},
   "outputs": [],
   "source": []
  },
  {
   "cell_type": "markdown",
   "id": "ea21c8a5",
   "metadata": {},
   "source": [
    "# L3"
   ]
  },
  {
   "cell_type": "markdown",
   "id": "adf4761b",
   "metadata": {},
   "source": [
    "Frog Jump -- https://www.codingninjas.com/studio/problems/frog-jump_3621012"
   ]
  },
  {
   "cell_type": "code",
   "execution_count": null,
   "id": "22607550",
   "metadata": {},
   "outputs": [],
   "source": []
  },
  {
   "cell_type": "markdown",
   "id": "21285d81",
   "metadata": {},
   "source": [
    "# L4"
   ]
  },
  {
   "cell_type": "code",
   "execution_count": null,
   "id": "b825ba79",
   "metadata": {},
   "outputs": [],
   "source": []
  }
 ],
 "metadata": {
  "kernelspec": {
   "display_name": "Python 3 (ipykernel)",
   "language": "python",
   "name": "python3"
  },
  "language_info": {
   "codemirror_mode": {
    "name": "ipython",
    "version": 3
   },
   "file_extension": ".py",
   "mimetype": "text/x-python",
   "name": "python",
   "nbconvert_exporter": "python",
   "pygments_lexer": "ipython3",
   "version": "3.9.13"
  }
 },
 "nbformat": 4,
 "nbformat_minor": 5
}
