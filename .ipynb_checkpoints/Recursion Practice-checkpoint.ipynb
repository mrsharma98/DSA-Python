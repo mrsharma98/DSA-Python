{
 "cells": [
  {
   "cell_type": "markdown",
   "id": "c6f86517",
   "metadata": {},
   "source": [
    "# L2"
   ]
  },
  {
   "cell_type": "markdown",
   "id": "de1bafd4",
   "metadata": {},
   "source": [
    "Print Name N times"
   ]
  },
  {
   "cell_type": "code",
   "execution_count": 3,
   "id": "9f2a9b7a",
   "metadata": {},
   "outputs": [],
   "source": [
    "def solve1(n):\n",
    "    if n==0:\n",
    "        return\n",
    "    print(\"Manish\")\n",
    "    solve(n-1)\n",
    "    \n",
    "def func1(n):\n",
    "    solve1(n)"
   ]
  },
  {
   "cell_type": "code",
   "execution_count": 4,
   "id": "ccda22c7",
   "metadata": {},
   "outputs": [
    {
     "name": "stdout",
     "output_type": "stream",
     "text": [
      "Manish\n",
      "Manish\n",
      "Manish\n",
      "Manish\n",
      "Manish\n"
     ]
    }
   ],
   "source": [
    "func1(5)"
   ]
  },
  {
   "cell_type": "markdown",
   "id": "43125499",
   "metadata": {},
   "source": [
    "Print Linearly from 1 to n"
   ]
  },
  {
   "cell_type": "code",
   "execution_count": 11,
   "id": "5814faf9",
   "metadata": {},
   "outputs": [],
   "source": [
    "def solve2(i,n):\n",
    "    if i>n:\n",
    "        return\n",
    "    print(i)\n",
    "    solve2(i+1, n)\n",
    "\n",
    "def func2(n):\n",
    "    solve2(1, n)"
   ]
  },
  {
   "cell_type": "code",
   "execution_count": 12,
   "id": "e9d8d343",
   "metadata": {},
   "outputs": [
    {
     "name": "stdout",
     "output_type": "stream",
     "text": [
      "1\n",
      "2\n",
      "3\n",
      "4\n",
      "5\n"
     ]
    }
   ],
   "source": [
    "func2(5)"
   ]
  },
  {
   "cell_type": "markdown",
   "id": "1faa3033",
   "metadata": {},
   "source": [
    "Print 1 to N in reverse"
   ]
  },
  {
   "cell_type": "code",
   "execution_count": 23,
   "id": "4d2a1c21",
   "metadata": {},
   "outputs": [],
   "source": [
    "def solve3(n):\n",
    "    if n<1:\n",
    "        return\n",
    "    print(n)\n",
    "    solve3(n-1)\n",
    "\n",
    "def func3(n):\n",
    "    solve3(n)"
   ]
  },
  {
   "cell_type": "code",
   "execution_count": 24,
   "id": "0c7856e4",
   "metadata": {},
   "outputs": [
    {
     "name": "stdout",
     "output_type": "stream",
     "text": [
      "5\n",
      "4\n",
      "3\n",
      "2\n",
      "1\n"
     ]
    }
   ],
   "source": [
    "func3(5)"
   ]
  },
  {
   "cell_type": "markdown",
   "id": "f9285439",
   "metadata": {},
   "source": [
    "Print Linearly from 1 to n (Backtracking)"
   ]
  },
  {
   "cell_type": "code",
   "execution_count": 25,
   "id": "69700d39",
   "metadata": {},
   "outputs": [],
   "source": [
    "def solve4(n):\n",
    "    if n==0:\n",
    "        return \n",
    "    solve4(n-1)\n",
    "    print(n)\n",
    "\n",
    "def func4(n):\n",
    "    solve4(n)"
   ]
  },
  {
   "cell_type": "code",
   "execution_count": 26,
   "id": "a58698e1",
   "metadata": {},
   "outputs": [
    {
     "name": "stdout",
     "output_type": "stream",
     "text": [
      "1\n",
      "2\n",
      "3\n",
      "4\n",
      "5\n"
     ]
    }
   ],
   "source": [
    "func4(5)"
   ]
  },
  {
   "cell_type": "markdown",
   "id": "80f48c80",
   "metadata": {},
   "source": [
    "Print 1 to N in reverse (using Backtracking)"
   ]
  },
  {
   "cell_type": "code",
   "execution_count": 27,
   "id": "5de3dc33",
   "metadata": {},
   "outputs": [],
   "source": [
    "def solve5(i, n):\n",
    "    if i>n:\n",
    "        return\n",
    "    solve5(i+1,n)\n",
    "    print(i)\n",
    "\n",
    "def func5(n):\n",
    "    solve5(1, n)"
   ]
  },
  {
   "cell_type": "code",
   "execution_count": 29,
   "id": "5ab64eca",
   "metadata": {},
   "outputs": [
    {
     "name": "stdout",
     "output_type": "stream",
     "text": [
      "5\n",
      "4\n",
      "3\n",
      "2\n",
      "1\n"
     ]
    }
   ],
   "source": [
    "func5(5)"
   ]
  },
  {
   "cell_type": "code",
   "execution_count": null,
   "id": "d57b4e72",
   "metadata": {},
   "outputs": [],
   "source": []
  },
  {
   "cell_type": "code",
   "execution_count": null,
   "id": "cac07bcc",
   "metadata": {},
   "outputs": [],
   "source": []
  },
  {
   "cell_type": "markdown",
   "id": "f3931988",
   "metadata": {},
   "source": [
    "# L3"
   ]
  },
  {
   "cell_type": "markdown",
   "id": "0c63c702",
   "metadata": {},
   "source": [
    "2 Types\n",
    "1 -- Parameter\n",
    "2 -- function return"
   ]
  },
  {
   "cell_type": "markdown",
   "id": "aa6d228f",
   "metadata": {},
   "source": [
    "Sum of N integers"
   ]
  },
  {
   "cell_type": "code",
   "execution_count": 5,
   "id": "27e7f743",
   "metadata": {},
   "outputs": [],
   "source": [
    "# Parameterised\n",
    "\n",
    "def solve6(n, summ):\n",
    "    if n==0:\n",
    "        print(summ)\n",
    "        return\n",
    "    solve6(n-1, summ+n)\n",
    "\n",
    "def func6(n):\n",
    "    summ = 0\n",
    "    solve6(n, summ)"
   ]
  },
  {
   "cell_type": "code",
   "execution_count": 6,
   "id": "1e01e34c",
   "metadata": {},
   "outputs": [
    {
     "name": "stdout",
     "output_type": "stream",
     "text": [
      "15\n"
     ]
    }
   ],
   "source": [
    "func6(5)"
   ]
  },
  {
   "cell_type": "code",
   "execution_count": 7,
   "id": "5fb35214",
   "metadata": {},
   "outputs": [],
   "source": [
    "# functional\n",
    "\n",
    "def solve7(n):\n",
    "    if n == 0:\n",
    "        return 0\n",
    "    return n + solve7(n-1)\n",
    "\n",
    "def func7(n):\n",
    "    return solve7(n)"
   ]
  },
  {
   "cell_type": "code",
   "execution_count": 8,
   "id": "a6621c9e",
   "metadata": {},
   "outputs": [
    {
     "data": {
      "text/plain": [
       "15"
      ]
     },
     "execution_count": 8,
     "metadata": {},
     "output_type": "execute_result"
    }
   ],
   "source": [
    "func7(5)"
   ]
  },
  {
   "cell_type": "markdown",
   "id": "fe9c0180",
   "metadata": {},
   "source": [
    "Factorial of N"
   ]
  },
  {
   "cell_type": "code",
   "execution_count": 9,
   "id": "85c38152",
   "metadata": {},
   "outputs": [],
   "source": [
    "def fact(n):\n",
    "    if n == 0:\n",
    "        return 1\n",
    "    return n * fact(n-1)\n",
    "\n",
    "def func8(n):\n",
    "    return fact(n)"
   ]
  },
  {
   "cell_type": "code",
   "execution_count": 10,
   "id": "c2287a1d",
   "metadata": {},
   "outputs": [
    {
     "data": {
      "text/plain": [
       "6"
      ]
     },
     "execution_count": 10,
     "metadata": {},
     "output_type": "execute_result"
    }
   ],
   "source": [
    "func8(3)"
   ]
  },
  {
   "cell_type": "code",
   "execution_count": null,
   "id": "bef2d6d6",
   "metadata": {},
   "outputs": [],
   "source": []
  },
  {
   "cell_type": "markdown",
   "id": "ed18862d",
   "metadata": {},
   "source": [
    "# L4"
   ]
  },
  {
   "cell_type": "markdown",
   "id": "5cf0406f",
   "metadata": {},
   "source": [
    "Reverse an array"
   ]
  },
  {
   "cell_type": "code",
   "execution_count": 23,
   "id": "52d1c1fa",
   "metadata": {},
   "outputs": [],
   "source": [
    "def rev(arr, start, end):\n",
    "    if start >= end:\n",
    "        return\n",
    "    arr[end-1], arr[start] = arr[start], arr[end-1]\n",
    "\n",
    "def func8(arr):\n",
    "    n = len(arr)\n",
    "    rev(arr, 0, n)\n",
    "    print(arr)"
   ]
  },
  {
   "cell_type": "code",
   "execution_count": 24,
   "id": "56bbd2d1",
   "metadata": {},
   "outputs": [
    {
     "name": "stdout",
     "output_type": "stream",
     "text": [
      "[3, 2, 1]\n"
     ]
    }
   ],
   "source": [
    "func8([1,2,3])"
   ]
  },
  {
   "cell_type": "markdown",
   "id": "2ac1f482",
   "metadata": {},
   "source": [
    "Check for Palindrome"
   ]
  },
  {
   "cell_type": "code",
   "execution_count": 25,
   "id": "8a977163",
   "metadata": {},
   "outputs": [],
   "source": [
    "# def solve9(s):\n",
    "#     if len(s)==1 or s==\"\":\n",
    "#         return True\n",
    "#     if (s[0] != s[-1]):\n",
    "#         return False\n",
    "#     return solve(s[1:-1:])\n",
    "\n",
    "def solve9(s, i):\n",
    "    if i>=len(s)//2:\n",
    "        return True\n",
    "    if s[i] != s[len(s)-i-1]:\n",
    "        return False\n",
    "    \n",
    "    return solve9(s, i+1)\n",
    "\n",
    "def func9(s):\n",
    "    return solve9(s, 0)"
   ]
  },
  {
   "cell_type": "code",
   "execution_count": 26,
   "id": "e5323e51",
   "metadata": {},
   "outputs": [
    {
     "data": {
      "text/plain": [
       "True"
      ]
     },
     "execution_count": 26,
     "metadata": {},
     "output_type": "execute_result"
    }
   ],
   "source": [
    "func9(\"abcdcba\")"
   ]
  },
  {
   "cell_type": "code",
   "execution_count": null,
   "id": "32d2ac06",
   "metadata": {},
   "outputs": [],
   "source": []
  },
  {
   "cell_type": "markdown",
   "id": "bf497227",
   "metadata": {},
   "source": [
    "# L5"
   ]
  },
  {
   "cell_type": "markdown",
   "id": "12f05028",
   "metadata": {},
   "source": [
    "\n",
    "Fibonacci"
   ]
  },
  {
   "cell_type": "code",
   "execution_count": null,
   "id": "629e134a",
   "metadata": {},
   "outputs": [],
   "source": [
    "def solve10(n):\n",
    "    if n <= 1:\n",
    "        return n\n",
    "    return solve10(n-1) + solve10(n-2)\n",
    "\n",
    "def func10(n):\n",
    "    return solve10(n)"
   ]
  },
  {
   "cell_type": "code",
   "execution_count": 9,
   "id": "a85a6d77",
   "metadata": {},
   "outputs": [
    {
     "data": {
      "text/plain": [
       "5"
      ]
     },
     "execution_count": 9,
     "metadata": {},
     "output_type": "execute_result"
    }
   ],
   "source": [
    "func10(5)"
   ]
  },
  {
   "cell_type": "code",
   "execution_count": null,
   "id": "fa30a166",
   "metadata": {},
   "outputs": [],
   "source": []
  },
  {
   "cell_type": "markdown",
   "id": "c0bdffdd",
   "metadata": {},
   "source": [
    "# L6"
   ]
  },
  {
   "cell_type": "markdown",
   "id": "f5fcf1e7",
   "metadata": {},
   "source": [
    "Subsequence"
   ]
  },
  {
   "cell_type": "raw",
   "id": "a92c4a69",
   "metadata": {},
   "source": [
    "i/p:- [1,2,3]\n",
    "o/p:- [1, 2, 3, 1 2, 1 3, 2 3, 1 2 3]\n",
    "\n",
    "Can be done an algo called as \"Power set\""
   ]
  },
  {
   "cell_type": "code",
   "execution_count": 21,
   "id": "58a70292",
   "metadata": {},
   "outputs": [],
   "source": [
    "ans = []\n",
    "\n",
    "def solve11(arr, idx, n, temp):\n",
    "    if (idx==n):\n",
    "        print(temp)\n",
    "        ans.append(temp.copy())\n",
    "        return\n",
    "    \n",
    "    temp.append(arr[idx])\n",
    "    solve11(arr, idx+1, n, temp)\n",
    "    temp.pop()\n",
    "    \n",
    "    solve11(arr, idx+1, n, temp)\n",
    "\n",
    "def func11(arr):\n",
    "    solve11(arr, 0, len(arr), [])\n",
    "    return ans"
   ]
  },
  {
   "cell_type": "code",
   "execution_count": 22,
   "id": "cc1c8f6c",
   "metadata": {},
   "outputs": [
    {
     "name": "stdout",
     "output_type": "stream",
     "text": [
      "[1, 2, 3]\n",
      "[1, 2]\n",
      "[1, 3]\n",
      "[1]\n",
      "[2, 3]\n",
      "[2]\n",
      "[3]\n",
      "[]\n"
     ]
    },
    {
     "data": {
      "text/plain": [
       "[[1, 2, 3], [1, 2], [1, 3], [1], [2, 3], [2], [3], []]"
      ]
     },
     "execution_count": 22,
     "metadata": {},
     "output_type": "execute_result"
    }
   ],
   "source": [
    "func11([1, 2, 3])"
   ]
  },
  {
   "cell_type": "code",
   "execution_count": null,
   "id": "f616d9a6",
   "metadata": {},
   "outputs": [],
   "source": []
  },
  {
   "cell_type": "markdown",
   "id": "9f9f6320",
   "metadata": {},
   "source": [
    "# L7"
   ]
  },
  {
   "cell_type": "markdown",
   "id": "ea980117",
   "metadata": {},
   "source": [
    "Subsequences whose sum is K"
   ]
  },
  {
   "cell_type": "code",
   "execution_count": 6,
   "id": "c2cdea7f",
   "metadata": {},
   "outputs": [],
   "source": [
    "ans = []\n",
    "\n",
    "def solve12(arr, idx, n, temp, target, currSum):\n",
    "    if (idx==n):\n",
    "        if currSum == target:\n",
    "            ans.append(temp.copy())\n",
    "        return\n",
    "    \n",
    "    if currSum > target:\n",
    "        return\n",
    "    \n",
    "    temp.append(arr[idx])\n",
    "    solve12(arr, idx+1, n, temp, target, currSum+arr[idx])\n",
    "    temp.pop()\n",
    "    \n",
    "    solve12(arr, idx+1, n, temp, target, currSum)\n",
    "    \n",
    "\n",
    "def func12(arr, target):\n",
    "    solve12(arr, 0, len(arr), [], target, 0)\n",
    "    return ans"
   ]
  },
  {
   "cell_type": "code",
   "execution_count": 7,
   "id": "e8f2062e",
   "metadata": {},
   "outputs": [
    {
     "data": {
      "text/plain": [
       "[[1, 2, 3], [1, 5], [2, 4]]"
      ]
     },
     "execution_count": 7,
     "metadata": {},
     "output_type": "execute_result"
    }
   ],
   "source": [
    "func12([1, 2, 3, 4, 5], 6)"
   ]
  },
  {
   "cell_type": "code",
   "execution_count": null,
   "id": "66d12bf4",
   "metadata": {},
   "outputs": [],
   "source": []
  },
  {
   "cell_type": "markdown",
   "id": "ddba06f6",
   "metadata": {},
   "source": [
    "Any subsequence whose sum is sum"
   ]
  },
  {
   "cell_type": "raw",
   "id": "74bbec20",
   "metadata": {},
   "source": [
    "Technique::::\n",
    "                \n",
    "f() {\n",
    "    base case --\n",
    "        condition True:\n",
    "            return True\n",
    "        return False\n",
    "    \n",
    "    if f() == True:\n",
    "        return True\n",
    "    \n",
    "    if (f() == True):\n",
    "        return True\n",
    "    \n",
    "    return False\n",
    "}"
   ]
  },
  {
   "cell_type": "code",
   "execution_count": 13,
   "id": "bd5e4429",
   "metadata": {},
   "outputs": [],
   "source": [
    "ans = []\n",
    "\n",
    "def solve13(arr, idx, n, temp, target, currSum):\n",
    "    if (idx==n):\n",
    "        if currSum == target:\n",
    "            ans.append(temp.copy())\n",
    "            return True\n",
    "        return False\n",
    "    \n",
    "    temp.append(arr[idx])\n",
    "    if (solve13(arr, idx+1, n, temp, target, currSum+arr[idx]) == True):\n",
    "        return True\n",
    "    \n",
    "    temp.pop()\n",
    "    \n",
    "    if (solve13(arr, idx+1, n, temp, target, currSum) == True):\n",
    "        return True\n",
    "    \n",
    "    return False\n",
    "    \n",
    "\n",
    "def func13(arr, target):\n",
    "    solve13(arr, 0, len(arr), [], target, 0)\n",
    "    return ans"
   ]
  },
  {
   "cell_type": "code",
   "execution_count": 14,
   "id": "7404db1b",
   "metadata": {},
   "outputs": [
    {
     "data": {
      "text/plain": [
       "[[1, 2, 3]]"
      ]
     },
     "execution_count": 14,
     "metadata": {},
     "output_type": "execute_result"
    }
   ],
   "source": [
    "func13([1, 2, 3, 4, 5], 6)"
   ]
  },
  {
   "cell_type": "code",
   "execution_count": null,
   "id": "23d63f84",
   "metadata": {},
   "outputs": [],
   "source": []
  },
  {
   "cell_type": "markdown",
   "id": "45180d45",
   "metadata": {},
   "source": [
    "Count the no. of subsequence where sum = k"
   ]
  },
  {
   "cell_type": "raw",
   "id": "88979a8e",
   "metadata": {},
   "source": [
    "Technique:::\n",
    "    \n",
    "f() {\n",
    "    base case:\n",
    "        return 1 -- condition True\n",
    "        return 0 -- condition False\n",
    "    \n",
    "    l = f()\n",
    "    r = f()\n",
    "    \n",
    "    return l+r\n",
    "}"
   ]
  },
  {
   "cell_type": "code",
   "execution_count": 17,
   "id": "06de2b45",
   "metadata": {},
   "outputs": [],
   "source": [
    "\n",
    "def solve14(arr, idx, n, temp, target, currSum):\n",
    "    if (idx==n):\n",
    "        if currSum == target:\n",
    "            return 1\n",
    "        return 0\n",
    "    \n",
    "    temp.append(arr[idx])\n",
    "    partOne = solve14(arr, idx+1, n, temp, target, currSum+arr[idx])\n",
    "    temp.pop()\n",
    "    \n",
    "    partTwo = solve14(arr, idx+1, n, temp, target, currSum)\n",
    "    \n",
    "    return partOne + partTwo\n",
    "    \n",
    "\n",
    "def func14(arr, target):\n",
    "    return solve14(arr, 0, len(arr), [], target, 0)\n",
    "    "
   ]
  },
  {
   "cell_type": "code",
   "execution_count": 19,
   "id": "562c1770",
   "metadata": {},
   "outputs": [
    {
     "data": {
      "text/plain": [
       "1"
      ]
     },
     "execution_count": 19,
     "metadata": {},
     "output_type": "execute_result"
    }
   ],
   "source": [
    "func13([1, 2, 3, 4, 5], 1)"
   ]
  },
  {
   "cell_type": "code",
   "execution_count": null,
   "id": "325a2bb2",
   "metadata": {},
   "outputs": [],
   "source": []
  },
  {
   "cell_type": "markdown",
   "id": "480581f9",
   "metadata": {},
   "source": [
    "# L8"
   ]
  },
  {
   "cell_type": "markdown",
   "id": "4b56debc",
   "metadata": {},
   "source": [
    "Combination Sum-1 https://leetcode.com/problems/combination-sum/"
   ]
  },
  {
   "cell_type": "markdown",
   "id": "98fd8c55",
   "metadata": {},
   "source": [
    "# L9"
   ]
  },
  {
   "cell_type": "markdown",
   "id": "8712e51d",
   "metadata": {},
   "source": [
    "Combination Sum-2 https://leetcode.com/problems/combination-sum-ii/"
   ]
  },
  {
   "cell_type": "markdown",
   "id": "40c7758c",
   "metadata": {},
   "source": [
    "# L10"
   ]
  },
  {
   "cell_type": "markdown",
   "id": "bee2ad66",
   "metadata": {},
   "source": [
    "Subset Sum 1 https://practice.geeksforgeeks.org/problems/subset-sums2234/1"
   ]
  },
  {
   "cell_type": "markdown",
   "id": "4f72b936",
   "metadata": {},
   "source": [
    "# L11"
   ]
  },
  {
   "cell_type": "markdown",
   "id": "549d6e84",
   "metadata": {},
   "source": [
    "Subset Sum 2 https://leetcode.com/problems/subsets-ii/"
   ]
  },
  {
   "cell_type": "markdown",
   "id": "77a984f0",
   "metadata": {},
   "source": [
    "# L12 & L13"
   ]
  },
  {
   "cell_type": "markdown",
   "id": "0e369774",
   "metadata": {},
   "source": [
    "Permutation  https://leetcode.com/problems/permutations/"
   ]
  },
  {
   "cell_type": "markdown",
   "id": "c6409403",
   "metadata": {},
   "source": [
    "# L14"
   ]
  },
  {
   "cell_type": "markdown",
   "id": "ef2ec97b",
   "metadata": {},
   "source": [
    "N-Queens https://leetcode.com/problems/n-queens/"
   ]
  },
  {
   "cell_type": "markdown",
   "id": "cb71d28f",
   "metadata": {},
   "source": [
    "# L15"
   ]
  },
  {
   "cell_type": "markdown",
   "id": "395f8f7e",
   "metadata": {},
   "source": [
    "Sudoku Solver https://leetcode.com/problems/sudoku-solver/"
   ]
  },
  {
   "cell_type": "markdown",
   "id": "51931517",
   "metadata": {},
   "source": [
    "# L16"
   ]
  },
  {
   "cell_type": "markdown",
   "id": "7e17efe8",
   "metadata": {},
   "source": [
    "M-Coloring Problem  https://practice.geeksforgeeks.org/problems/m-coloring-problem-1587115620/1"
   ]
  },
  {
   "cell_type": "markdown",
   "id": "3674a2f4",
   "metadata": {},
   "source": [
    "# L17"
   ]
  },
  {
   "cell_type": "markdown",
   "id": "fa186266",
   "metadata": {},
   "source": []
  },
  {
   "cell_type": "markdown",
   "id": "6b18e18f",
   "metadata": {},
   "source": [
    "# L18"
   ]
  },
  {
   "cell_type": "markdown",
   "id": "bbfc9b84",
   "metadata": {},
   "source": [
    "K-th Permutation Sequence  https://leetcode.com/problems/permutation-sequence/"
   ]
  },
  {
   "cell_type": "markdown",
   "id": "254d2980",
   "metadata": {},
   "source": [
    "# L19"
   ]
  },
  {
   "cell_type": "code",
   "execution_count": null,
   "id": "8b82f119",
   "metadata": {},
   "outputs": [],
   "source": []
  }
 ],
 "metadata": {
  "kernelspec": {
   "display_name": "Python 3 (ipykernel)",
   "language": "python",
   "name": "python3"
  },
  "language_info": {
   "codemirror_mode": {
    "name": "ipython",
    "version": 3
   },
   "file_extension": ".py",
   "mimetype": "text/x-python",
   "name": "python",
   "nbconvert_exporter": "python",
   "pygments_lexer": "ipython3",
   "version": "3.9.13"
  }
 },
 "nbformat": 4,
 "nbformat_minor": 5
}
