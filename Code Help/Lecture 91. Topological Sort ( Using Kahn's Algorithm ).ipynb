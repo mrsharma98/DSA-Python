{
 "cells": [
  {
   "cell_type": "raw",
   "id": "cef6a9a5",
   "metadata": {},
   "source": [
    "It uses BFS -- refer notes"
   ]
  },
  {
   "cell_type": "raw",
   "id": "97b1b3be",
   "metadata": {},
   "source": [
    "TC:- O(n+m)\n",
    "SC:- O(n+e)"
   ]
  },
  {
   "cell_type": "code",
   "execution_count": 4,
   "id": "566c7d81",
   "metadata": {},
   "outputs": [],
   "source": [
    "def TopologicalSort(pre, n, m):\n",
    "    adj = {}\n",
    "    \n",
    "    indegree=[0]*n\n",
    "    adj = defaultdict(list)\n",
    "    \n",
    "    # yaha ulta hai, y->x hai\n",
    "    for x,y in pre:\n",
    "        adj[y].append(x)\n",
    "        indegree[x]+=1\n",
    "    \n",
    "    # push 0 indegree node\n",
    "    q = []\n",
    "    for i in range(n):\n",
    "        if (indegree[i] == 0):\n",
    "            q.append(i)\n",
    "    # do bfs\n",
    "    ans = []\n",
    "    while (len(q)>0):\n",
    "        front = q[0]\n",
    "        q.pop(0)\n",
    "        ans.append(front)\n",
    "        \n",
    "        # neighbour indegree update\n",
    "        for neighbour in adj[front]:\n",
    "            indegree[i] -= 1\n",
    "            if (indegree[neighbour] == 0):\n",
    "                q.append(neighbour)\n",
    "    \n",
    "    return ans"
   ]
  },
  {
   "cell_type": "code",
   "execution_count": null,
   "id": "86b51f8d",
   "metadata": {},
   "outputs": [],
   "source": []
  },
  {
   "cell_type": "raw",
   "id": "b2246bc6",
   "metadata": {},
   "source": [
    "*****MUST CHECK******"
   ]
  },
  {
   "cell_type": "raw",
   "id": "b3a04c74",
   "metadata": {},
   "source": [
    "https://leetcode.com/problems/course-schedule-ii/"
   ]
  },
  {
   "cell_type": "code",
   "execution_count": null,
   "id": "576a5153",
   "metadata": {},
   "outputs": [],
   "source": []
  },
  {
   "cell_type": "code",
   "execution_count": null,
   "id": "37811aad",
   "metadata": {},
   "outputs": [],
   "source": []
  },
  {
   "cell_type": "code",
   "execution_count": 1,
   "id": "97e43fc3",
   "metadata": {},
   "outputs": [],
   "source": [
    "# Practice"
   ]
  },
  {
   "cell_type": "code",
   "execution_count": 2,
   "id": "a063ad98",
   "metadata": {},
   "outputs": [],
   "source": [
    "from collections import *\n",
    "\n",
    "\n",
    "def topologicalSort(edges, v, e):\n",
    "    # Write your code here\n",
    "    adjList = defaultdict(list)\n",
    "    \n",
    "    for i in range(e):\n",
    "        a = edges[i][0]\n",
    "        b = edges[i][1]\n",
    "        adjList[a].append(b)\n",
    "    \n",
    "#     print(adjList)\n",
    "    # find all indegrees\n",
    "    indegree = [0]*v\n",
    "    for i in adjList:\n",
    "        for j in adjList[i]:\n",
    "            indegree[j] += 1\n",
    "    \n",
    "    # push node with 0 indegree\n",
    "    q = deque()\n",
    "    for i in range(v):\n",
    "        if indegree[i] == 0:\n",
    "            q.append(i)\n",
    "    \n",
    "    # do bfs\n",
    "    ans = []\n",
    "    while (len(q)>0):\n",
    "        front = q.popleft()\n",
    "        \n",
    "        # ans store\n",
    "        ans.append(front)\n",
    "        \n",
    "        # neighbour indegree update\n",
    "        for nei in adjList[front]:\n",
    "            indegree[nei] -= 1\n",
    "            if indegree[nei]==0:\n",
    "                q.append(nei)\n",
    "    \n",
    "    return ans"
   ]
  },
  {
   "cell_type": "code",
   "execution_count": null,
   "id": "6dcb1889",
   "metadata": {},
   "outputs": [],
   "source": []
  },
  {
   "cell_type": "code",
   "execution_count": null,
   "id": "32cc9b36",
   "metadata": {},
   "outputs": [],
   "source": []
  }
 ],
 "metadata": {
  "kernelspec": {
   "display_name": "Python 3 (ipykernel)",
   "language": "python",
   "name": "python3"
  },
  "language_info": {
   "codemirror_mode": {
    "name": "ipython",
    "version": 3
   },
   "file_extension": ".py",
   "mimetype": "text/x-python",
   "name": "python",
   "nbconvert_exporter": "python",
   "pygments_lexer": "ipython3",
   "version": "3.9.7"
  }
 },
 "nbformat": 4,
 "nbformat_minor": 5
}
