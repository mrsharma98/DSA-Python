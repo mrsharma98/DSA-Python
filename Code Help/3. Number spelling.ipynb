{
 "cells": [
  {
   "cell_type": "code",
   "execution_count": 7,
   "id": "c633870a",
   "metadata": {},
   "outputs": [],
   "source": [
    "spelling = [\"Zero\", \"One\", \"Two\", \"Three\", \"Four\", \"Five\", \"Six\", \"Seven\" \"Eight\", \"Nine\"]"
   ]
  },
  {
   "cell_type": "code",
   "execution_count": 19,
   "id": "d3d3bc4e",
   "metadata": {},
   "outputs": [],
   "source": [
    "def number_spelling(num):\n",
    "    if num == 0:\n",
    "        return\n",
    "    number_spelling(num//10)\n",
    "    print(spelling[num%10])"
   ]
  },
  {
   "cell_type": "code",
   "execution_count": 20,
   "id": "e35ac8f8",
   "metadata": {},
   "outputs": [
    {
     "name": "stdout",
     "output_type": "stream",
     "text": [
      "Four\n",
      "Three\n",
      "Two\n"
     ]
    }
   ],
   "source": [
    "number_spelling(432)"
   ]
  },
  {
   "cell_type": "code",
   "execution_count": null,
   "id": "ed5b3f3a",
   "metadata": {},
   "outputs": [],
   "source": []
  }
 ],
 "metadata": {
  "kernelspec": {
   "display_name": "Python 3 (ipykernel)",
   "language": "python",
   "name": "python3"
  },
  "language_info": {
   "codemirror_mode": {
    "name": "ipython",
    "version": 3
   },
   "file_extension": ".py",
   "mimetype": "text/x-python",
   "name": "python",
   "nbconvert_exporter": "python",
   "pygments_lexer": "ipython3",
   "version": "3.9.7"
  }
 },
 "nbformat": 4,
 "nbformat_minor": 5
}
