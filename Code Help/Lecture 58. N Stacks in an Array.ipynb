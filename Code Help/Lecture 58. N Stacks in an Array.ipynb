{
 "cells": [
  {
   "cell_type": "code",
   "execution_count": 1,
   "id": "8436fbd0",
   "metadata": {},
   "outputs": [],
   "source": [
    "# Method - 1\n",
    "\n",
    "# Divide the array in N parts\n",
    "# Con :- Not Optimized"
   ]
  },
  {
   "cell_type": "code",
   "execution_count": 1,
   "id": "5c485aac",
   "metadata": {},
   "outputs": [],
   "source": [
    "# Method - 2\n",
    "\n",
    "# Example:- array of size 9, 3 Stacks\n",
    "# top[] = size of array = no of stack\n",
    "# next[]\n",
    "#    "
   ]
  },
  {
   "cell_type": "code",
   "execution_count": 2,
   "id": "2333c304",
   "metadata": {},
   "outputs": [],
   "source": [
    "# https://www.codingninjas.com/codestudio/problems/n-stacks-in-an-array_1164271?topList=love-babbar-dsa-sheet-problems&leftPanelTab=0"
   ]
  },
  {
   "cell_type": "code",
   "execution_count": null,
   "id": "f1390677",
   "metadata": {},
   "outputs": [],
   "source": []
  }
 ],
 "metadata": {
  "kernelspec": {
   "display_name": "Python 3 (ipykernel)",
   "language": "python",
   "name": "python3"
  },
  "language_info": {
   "codemirror_mode": {
    "name": "ipython",
    "version": 3
   },
   "file_extension": ".py",
   "mimetype": "text/x-python",
   "name": "python",
   "nbconvert_exporter": "python",
   "pygments_lexer": "ipython3",
   "version": "3.9.7"
  }
 },
 "nbformat": 4,
 "nbformat_minor": 5
}
