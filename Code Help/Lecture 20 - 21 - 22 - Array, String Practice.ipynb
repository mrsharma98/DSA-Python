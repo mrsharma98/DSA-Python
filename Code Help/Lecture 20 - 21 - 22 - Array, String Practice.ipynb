{
 "cells": [
  {
   "cell_type": "code",
   "execution_count": 26,
   "id": "f5b539af",
   "metadata": {},
   "outputs": [],
   "source": []
  },
  {
   "cell_type": "code",
   "execution_count": 27,
   "id": "408a9f6d",
   "metadata": {},
   "outputs": [
    {
     "data": {
      "text/plain": [
       "[1, 2, 2, 3, 5, 6]"
      ]
     },
     "execution_count": 27,
     "metadata": {},
     "output_type": "execute_result"
    }
   ],
   "source": [
    "nums1 = [1,2,3,0,0,0]\n",
    "m = 3\n",
    "nums2 = [2,5,6]\n",
    "n = 3\n",
    "merge(nums1, m, nums2, n)"
   ]
  },
  {
   "cell_type": "code",
   "execution_count": null,
   "id": "e2aa29f3",
   "metadata": {},
   "outputs": [],
   "source": []
  },
  {
   "cell_type": "code",
   "execution_count": 1,
   "id": "5e5fdcec",
   "metadata": {},
   "outputs": [],
   "source": [
    "# Reverse words in string"
   ]
  },
  {
   "cell_type": "code",
   "execution_count": 2,
   "id": "e94f6fe2",
   "metadata": {},
   "outputs": [],
   "source": [
    "# i/p:- My name is Khan\n",
    "# o/p:- yM eman si nahK"
   ]
  },
  {
   "cell_type": "code",
   "execution_count": 6,
   "id": "be808434",
   "metadata": {},
   "outputs": [],
   "source": [
    "def reverseStr(strg):\n",
    "    strg = list(strg)\n",
    "    lenOfStrg = len(strg)\n",
    "    for i in range(lenOfStrg//2):\n",
    "        strg[i], strg[lenOfStrg-i-1] = strg[lenOfStrg-i-1], strg[i]\n",
    "    return \"\".join(strg)"
   ]
  },
  {
   "cell_type": "code",
   "execution_count": 10,
   "id": "67e86790",
   "metadata": {},
   "outputs": [],
   "source": [
    "def reverseStrgInSent(strg):\n",
    "    strg = strg.split()\n",
    "    \n",
    "    for i in range(len(strg)):\n",
    "        strg[i] = reverseStr(strg[i])\n",
    "    \n",
    "    return \" \".join(strg)"
   ]
  },
  {
   "cell_type": "code",
   "execution_count": 12,
   "id": "1b4272e7",
   "metadata": {},
   "outputs": [
    {
     "data": {
      "text/plain": [
       "'yM eman si nahK'"
      ]
     },
     "execution_count": 12,
     "metadata": {},
     "output_type": "execute_result"
    }
   ],
   "source": [
    "strg =\"My name is Khan\"\n",
    "reverseStrgInSent(strg)"
   ]
  },
  {
   "cell_type": "code",
   "execution_count": null,
   "id": "06efded2",
   "metadata": {},
   "outputs": [],
   "source": []
  },
  {
   "cell_type": "code",
   "execution_count": null,
   "id": "bf2d8eea",
   "metadata": {},
   "outputs": [],
   "source": []
  },
  {
   "cell_type": "code",
   "execution_count": 1,
   "id": "7a32161d",
   "metadata": {},
   "outputs": [],
   "source": [
    "# Permutation in String\n",
    "# check if s2 has s2 string.\n",
    "# not necessarily in the same order, can be reversed or something"
   ]
  },
  {
   "cell_type": "code",
   "execution_count": 5,
   "id": "7958b205",
   "metadata": {},
   "outputs": [],
   "source": [
    "def checkEqual(count1, count2):\n",
    "    for i in range(len(count1)):\n",
    "        if count1[i] != count2[i]:\n",
    "            return False\n",
    "    return True\n",
    "\n",
    "\n",
    "def checkInclusion(s1, s2):\n",
    "    count1 = [0]*26\n",
    "    \n",
    "    for i in range(len(s1)):\n",
    "        index = ord(s1[i]) - ord('a')\n",
    "        count1[index] += 1\n",
    "        \n",
    "    # traverse s2 in window of size s1 length and compare\n",
    "    i = 0\n",
    "    windowSize = len(s1)\n",
    "    count2 = [0]*26\n",
    "    while (i<windowSize and i< len(s2)):\n",
    "        index = ord(s2[i]) - ord('a')\n",
    "        count2[index] += 1\n",
    "        i += 1\n",
    "        \n",
    "    if checkEqual(count1, count2):\n",
    "        return 1\n",
    "    \n",
    "    while(i< len(s2)):\n",
    "        newChar = s2[i]\n",
    "        index = ord(newChar) - ord('a')\n",
    "        count2[index] += 1\n",
    "        \n",
    "        oldChar = s2[i-windowSize]\n",
    "        index = ord(oldChar) - ord('a')\n",
    "        count2[index] += 1\n",
    "        i+=1\n",
    "        \n",
    "        if checkEqual(count1, count2):\n",
    "            return 1\n",
    "    \n",
    "    return 0"
   ]
  },
  {
   "cell_type": "code",
   "execution_count": 11,
   "id": "22a6b4ce",
   "metadata": {},
   "outputs": [
    {
     "data": {
      "text/plain": [
       "0"
      ]
     },
     "execution_count": 11,
     "metadata": {},
     "output_type": "execute_result"
    }
   ],
   "source": [
    "checkInclusion('fw', 'sdfweddwed')"
   ]
  },
  {
   "cell_type": "code",
   "execution_count": 7,
   "id": "62f45e62",
   "metadata": {},
   "outputs": [
    {
     "data": {
      "text/plain": [
       "1"
      ]
     },
     "execution_count": 7,
     "metadata": {},
     "output_type": "execute_result"
    }
   ],
   "source": [
    "ord('b') - ord('a')"
   ]
  },
  {
   "cell_type": "code",
   "execution_count": null,
   "id": "0cf31777",
   "metadata": {},
   "outputs": [],
   "source": []
  },
  {
   "cell_type": "code",
   "execution_count": 13,
   "id": "772e0cfa",
   "metadata": {},
   "outputs": [
    {
     "data": {
      "text/plain": [
       "'N'"
      ]
     },
     "execution_count": 13,
     "metadata": {},
     "output_type": "execute_result"
    }
   ],
   "source": [
    "chr(78)"
   ]
  },
  {
   "cell_type": "code",
   "execution_count": 16,
   "id": "78c032cd",
   "metadata": {},
   "outputs": [
    {
     "data": {
      "text/plain": [
       "'b'"
      ]
     },
     "execution_count": 16,
     "metadata": {},
     "output_type": "execute_result"
    }
   ],
   "source": [
    "chr(ord('a')+1)"
   ]
  },
  {
   "cell_type": "code",
   "execution_count": 17,
   "id": "84f464cd",
   "metadata": {},
   "outputs": [
    {
     "data": {
      "text/plain": [
       "'1'"
      ]
     },
     "execution_count": 17,
     "metadata": {},
     "output_type": "execute_result"
    }
   ],
   "source": [
    "str(1)"
   ]
  },
  {
   "cell_type": "code",
   "execution_count": null,
   "id": "d7417128",
   "metadata": {},
   "outputs": [],
   "source": []
  }
 ],
 "metadata": {
  "kernelspec": {
   "display_name": "Python 3 (ipykernel)",
   "language": "python",
   "name": "python3"
  },
  "language_info": {
   "codemirror_mode": {
    "name": "ipython",
    "version": 3
   },
   "file_extension": ".py",
   "mimetype": "text/x-python",
   "name": "python",
   "nbconvert_exporter": "python",
   "pygments_lexer": "ipython3",
   "version": "3.9.7"
  }
 },
 "nbformat": 4,
 "nbformat_minor": 5
}
