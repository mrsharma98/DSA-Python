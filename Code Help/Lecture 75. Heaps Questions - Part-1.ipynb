{
 "cells": [
  {
   "cell_type": "markdown",
   "id": "7b00e104",
   "metadata": {},
   "source": [
    "# kth smallest element"
   ]
  },
  {
   "cell_type": "raw",
   "id": "fc51ac7c",
   "metadata": {},
   "source": [
    "input:- array and k"
   ]
  },
  {
   "cell_type": "raw",
   "id": "7cacfbbc",
   "metadata": {},
   "source": [
    "Approach-1\n",
    "\n",
    "sort the array in ascending order\n",
    "(k-1)th index is the answer\n",
    "\n",
    "TC:- O(nlogn)"
   ]
  },
  {
   "cell_type": "raw",
   "id": "0f9379e6",
   "metadata": {},
   "source": [
    "Approach-2\n",
    "-- using heap\n",
    "\n",
    "-- create a max-heap for first k element\n",
    "-- for rest elements, if element<heap.top()\n",
    "    -- heap.pop() first element and push the element\n",
    "\n",
    "-- at the end heap.top() will be the kth smallest element\n",
    "\n",
    "# if kth largest element -- use min-heap"
   ]
  },
  {
   "cell_type": "code",
   "execution_count": 1,
   "id": "5cb95389",
   "metadata": {},
   "outputs": [],
   "source": [
    "def kthSmalest(arr, r, k):\n",
    "    # heap initialize\n",
    "    pq = [-1]\n",
    "    \n",
    "    for i in range(k):\n",
    "        pq.append(arr[i])\n",
    "    prit(pq)\n",
    "    \n",
    "    for i in range(k, r+1):\n",
    "        if arr[i]<pq[1]:\n",
    "            pq.pop(1)\n",
    "            pq.append(arr[i])\n",
    "    \n",
    "    return pq[1]"
   ]
  },
  {
   "cell_type": "code",
   "execution_count": null,
   "id": "b2a97b0d",
   "metadata": {},
   "outputs": [],
   "source": []
  },
  {
   "cell_type": "markdown",
   "id": "ef7dccbf",
   "metadata": {},
   "source": [
    "# is BT a max-heap?"
   ]
  },
  {
   "cell_type": "raw",
   "id": "aacafc0b",
   "metadata": {},
   "source": [
    "heap is a complete BT and satisfies heap properties\n",
    "\n",
    "1st function -- isCBT()\n",
    "2nd function -- isMaxHeap()\n",
    "\n",
    "isCBT(root, index, nodeCount)\n",
    "    -- left -- 2i+1\n",
    "    -- right -- 2i+2\n",
    "    -- if left/right > root.data -- False\n",
    "    \n",
    "    \n",
    "TC:- O(n)"
   ]
  },
  {
   "cell_type": "code",
   "execution_count": 8,
   "id": "5535ce14",
   "metadata": {},
   "outputs": [],
   "source": [
    "def countNode(root):\n",
    "    if root == None:\n",
    "        return 0\n",
    "    return 1+countNode(root.left)+countNode(root.right)\n",
    "\n",
    "def isCBT(root, index, cnt):\n",
    "    if root == None:\n",
    "        return True\n",
    "    \n",
    "    if index>=cnt:\n",
    "        return False\n",
    "    \n",
    "    left = isCBT(root.right, 2*index+1, cnt)\n",
    "    right = isCBT(root.right, 2*index+2, cnt)\n",
    "    return left and right\n",
    "    \n",
    "\n",
    "def isMaxOrder(root):\n",
    "    if root.left==None and root.right==None:\n",
    "        return True\n",
    "    \n",
    "    if root.right==None:\n",
    "        return root.data>root.left.data\n",
    "    \n",
    "    left = isMaxOrder(root.left)\n",
    "    right = isMaxOrder(root.right)\n",
    "\n",
    "    return left and right and (root.data>root.left.data and root.data>root.right.data)\n",
    "\n",
    "\n",
    "def isHeap(root):\n",
    "    index = 0\n",
    "    totalCount = countNode(root)\n",
    "    if isBST(root, index, totalCount) and isMaxOrder(root):\n",
    "        return True\n",
    "    return False"
   ]
  },
  {
   "cell_type": "code",
   "execution_count": null,
   "id": "8f62c29b",
   "metadata": {},
   "outputs": [],
   "source": []
  },
  {
   "cell_type": "code",
   "execution_count": null,
   "id": "72194c9b",
   "metadata": {},
   "outputs": [],
   "source": []
  },
  {
   "cell_type": "markdown",
   "id": "2535eb12",
   "metadata": {},
   "source": [
    "# Merge two Binary Max Heap"
   ]
  },
  {
   "cell_type": "code",
   "execution_count": null,
   "id": "3dcf2350",
   "metadata": {},
   "outputs": [],
   "source": [
    "Approach\n",
    "\n",
    "-- merge both the array and make a new array\n",
    "-- then heapify it"
   ]
  },
  {
   "cell_type": "code",
   "execution_count": 15,
   "id": "225689b4",
   "metadata": {},
   "outputs": [],
   "source": [
    "def mergeTwoBinaryHeap(a, b, n, m):\n",
    "    c = a.extend(b)\n",
    "    lenght = len(c)\n",
    "    \n",
    "    for i in range(n//2-1, -1, -1):\n",
    "        heapify(c, lenght, i)\n",
    "    \n",
    "    return c"
   ]
  },
  {
   "cell_type": "code",
   "execution_count": null,
   "id": "379db902",
   "metadata": {},
   "outputs": [],
   "source": []
  },
  {
   "cell_type": "code",
   "execution_count": null,
   "id": "5deecd1d",
   "metadata": {},
   "outputs": [],
   "source": []
  },
  {
   "cell_type": "markdown",
   "id": "a509b765",
   "metadata": {},
   "source": [
    "# Minimum cost of ropes"
   ]
  },
  {
   "cell_type": "raw",
   "id": "a971ea10",
   "metadata": {},
   "source": [
    "take 2 minimum element and add them and put in the array\n",
    "again, do the same, till there is just one element left(size>1)\n",
    "lastly, add all the sum we get after adding 2 element\n",
    "\n",
    "Here we can use min heap, it gives us min element in o(1)"
   ]
  },
  {
   "cell_type": "code",
   "execution_count": null,
   "id": "7ffc9af3",
   "metadata": {},
   "outputs": [],
   "source": [
    "def minCost(arr, n):\n",
    "    # min heap\n",
    "    arr.sort()   # just for our reference, no need to do this in while using heap\n",
    "    pq = arr.copy()\n",
    "    cost = 0\n",
    "    while (len(pq)>1):\n",
    "        a = pq[0]  # pq.top() -- in heap\n",
    "        b = pq[0]\n",
    "        \n",
    "        summ = a+b\n",
    "        cost += summ\n",
    "        pq.append(summ)  # insert in heap\n",
    "        pq.sort()   # no need to do this step\n",
    "    \n",
    "    return cost\n",
    "        \n",
    "    "
   ]
  },
  {
   "cell_type": "code",
   "execution_count": null,
   "id": "76a6d7b2",
   "metadata": {},
   "outputs": [],
   "source": []
  },
  {
   "cell_type": "code",
   "execution_count": null,
   "id": "71608ea3",
   "metadata": {},
   "outputs": [],
   "source": []
  },
  {
   "cell_type": "markdown",
   "id": "73d10347",
   "metadata": {},
   "source": [
    "# BST to min Heap"
   ]
  },
  {
   "cell_type": "raw",
   "id": "ef75ba41",
   "metadata": {},
   "source": [
    "-- Tree is already CBST\n",
    "-- should follow min order property\n",
    "-- number at Left side should be less than Right"
   ]
  },
  {
   "cell_type": "raw",
   "id": "d8d217a9",
   "metadata": {},
   "source": [
    "we can take inorder from bst\n",
    "then distribute value as per perorder traversal"
   ]
  },
  {
   "cell_type": "code",
   "execution_count": 1,
   "id": "f9e62642",
   "metadata": {},
   "outputs": [],
   "source": [
    "def inorder(root, inorderVal):\n",
    "    if root == None:\n",
    "        return\n",
    "    \n",
    "    inorder(root.left, inorderVal)\n",
    "    inorderVal.append(root.val)\n",
    "    inorder(root.right, inorderVal)\n",
    "\n",
    "\n",
    "def preorderDist(root, inorderVal, index):\n",
    "    if root == None:\n",
    "        return\n",
    "    \n",
    "    root.val = inorderVal[index]\n",
    "    index += 1\n",
    "    preorderDist(root.left, inorderVal, index)\n",
    "    preorderDist(root.right, inorderVal, index)\n",
    "\n",
    "\n",
    "def BSTToMinHead(root):\n",
    "    inorderVal = []\n",
    "    inorder(root, inorderVal)\n",
    "    preorderDist(root, inorderVal, 0)"
   ]
  },
  {
   "cell_type": "code",
   "execution_count": null,
   "id": "6f837926",
   "metadata": {},
   "outputs": [],
   "source": []
  }
 ],
 "metadata": {
  "kernelspec": {
   "display_name": "Python 3 (ipykernel)",
   "language": "python",
   "name": "python3"
  },
  "language_info": {
   "codemirror_mode": {
    "name": "ipython",
    "version": 3
   },
   "file_extension": ".py",
   "mimetype": "text/x-python",
   "name": "python",
   "nbconvert_exporter": "python",
   "pygments_lexer": "ipython3",
   "version": "3.9.7"
  }
 },
 "nbformat": 4,
 "nbformat_minor": 5
}
