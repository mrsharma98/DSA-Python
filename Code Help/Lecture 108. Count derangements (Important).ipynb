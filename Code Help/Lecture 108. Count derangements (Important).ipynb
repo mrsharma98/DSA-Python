{
 "cells": [
  {
   "cell_type": "raw",
   "id": "5167602c",
   "metadata": {},
   "source": [
    "https://www.codingninjas.com/codestudio/problems/count-derangements_873861"
   ]
  },
  {
   "cell_type": "raw",
   "id": "c0b88aa0",
   "metadata": {},
   "source": [
    "So  there can be 2 case\n",
    "\n",
    "let's say we have [0,1,2,3,....,i,...n]\n",
    "now we want to place 0 to the ith position\n",
    "\n",
    "if I pick one element then I have n-1 ways to place it\n",
    "--> (n-1) * [solution of subproblem] --> answer\n",
    "\n",
    "Case1:\n",
    "    when i and 0 swap\n",
    "    remaining index/block-> n-2\n",
    "    remianing numbers -> n-2\n",
    "    -- f(n-2)\n",
    "\n",
    "Case2:\n",
    "    when 0 sits at ith position but i don't want to replace zero\n",
    "    remaining index/blocks-> n-1\n",
    "    numbers -> n-1\n",
    "    --> f(n-1)\n",
    "    \n",
    "f(n) -> (n-1) * [f(n-2) + f(n-1)]"
   ]
  },
  {
   "cell_type": "code",
   "execution_count": 1,
   "id": "6d9cb442",
   "metadata": {},
   "outputs": [],
   "source": [
    "## Recursion\n",
    "\n",
    "def countDerangements(n):\n",
    "    # Write your code here.\n",
    "    if (n==1 or n==2):\n",
    "        return n-1\n",
    "    \n",
    "    ans = (((n-1)%1000000007)*( (countDerangements(n-1)%1000000007) + (countDerangements(n-2)%1000000007)))%1000000007\n",
    "    return ans"
   ]
  },
  {
   "cell_type": "code",
   "execution_count": 2,
   "id": "35e60b68",
   "metadata": {},
   "outputs": [],
   "source": [
    "## Recursion + Memoization\n",
    "\n",
    "def solveMem(n, dp):\n",
    "    if (n==1 or n==2):\n",
    "        return n-1\n",
    "    \n",
    "    if dp[n]!=-1:\n",
    "        return dp[n]\n",
    "    \n",
    "    dp[n] = (((n-1)%1000000007)*( (solveMem(n-1, dp)%1000000007) + (solveMem(n-2, dp)%1000000007)))%1000000007\n",
    "    return dp[n]\n",
    "\n",
    "def countDerangements(n):\n",
    "    # Write your code here.\n",
    "    dp = [-1]*(n+1)\n",
    "    ans = solveMem(n, dp)\n",
    "    return ans"
   ]
  },
  {
   "cell_type": "code",
   "execution_count": 3,
   "id": "f3b5dd1b",
   "metadata": {},
   "outputs": [],
   "source": [
    "## Tabulation\n",
    "\n",
    "def solveTab(n):\n",
    "    dp = [0]*(n+1)\n",
    "    dp[1] = 0\n",
    "    dp[2] = 1\n",
    "    \n",
    "    for i in range(3, n+1):\n",
    "        first = dp[i-1]%1000000007\n",
    "        second = dp[i-2]%1000000007\n",
    "        summ = (first+second)%1000000007\n",
    "        ans = ((i-1)*summ)%1000000007\n",
    "        dp[i] = ans\n",
    "    \n",
    "    return dp[n]\n",
    "    \n",
    "def countDerangements(n):\n",
    "    # Write your code here.\n",
    "    ans = solveTab(n)\n",
    "    return ans"
   ]
  },
  {
   "cell_type": "code",
   "execution_count": null,
   "id": "1792fdd1",
   "metadata": {},
   "outputs": [],
   "source": [
    "# Space Optimization\n",
    "\n",
    "def countDerangements(n):\n",
    "    # Write your code here.\n",
    "    if n==1:\n",
    "        return 0\n",
    "    prev1 = 1\n",
    "    prev2 = 0\n",
    "    for i in range(3, n+1):\n",
    "        first = prev1%1000000007\n",
    "        second = prev2%1000000007\n",
    "        summ = (first+second)%1000000007\n",
    "        ans = ((i-1)*summ)%1000000007\n",
    "        prev2, prev1 = prev1, ans\n",
    "    \n",
    "    return prev1"
   ]
  }
 ],
 "metadata": {
  "kernelspec": {
   "display_name": "Python 3 (ipykernel)",
   "language": "python",
   "name": "python3"
  },
  "language_info": {
   "codemirror_mode": {
    "name": "ipython",
    "version": 3
   },
   "file_extension": ".py",
   "mimetype": "text/x-python",
   "name": "python",
   "nbconvert_exporter": "python",
   "pygments_lexer": "ipython3",
   "version": "3.9.7"
  }
 },
 "nbformat": 4,
 "nbformat_minor": 5
}
