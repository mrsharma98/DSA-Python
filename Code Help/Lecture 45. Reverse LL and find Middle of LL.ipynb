{
 "cells": [
  {
   "cell_type": "code",
   "execution_count": 1,
   "id": "98722525",
   "metadata": {},
   "outputs": [],
   "source": [
    "# Method - 1 --> Iterative"
   ]
  },
  {
   "cell_type": "code",
   "execution_count": 3,
   "id": "67772d99",
   "metadata": {},
   "outputs": [],
   "source": [
    "def reverseList(head):\n",
    "    if head == None or head.next == None:\n",
    "        return head\n",
    "\n",
    "    prev = None\n",
    "    forward = None\n",
    "    curr = head\n",
    "    while (curr != None):\n",
    "        forward = curr.next\n",
    "        curr.next = prev\n",
    "        prev = curr\n",
    "        curr = forward\n",
    "\n",
    "    return prev"
   ]
  },
  {
   "cell_type": "code",
   "execution_count": null,
   "id": "4a25a30b",
   "metadata": {},
   "outputs": [],
   "source": []
  },
  {
   "cell_type": "code",
   "execution_count": 4,
   "id": "68cca055",
   "metadata": {},
   "outputs": [],
   "source": [
    "# Method - 2 --> Recursive"
   ]
  },
  {
   "cell_type": "code",
   "execution_count": 7,
   "id": "a5f06438",
   "metadata": {},
   "outputs": [],
   "source": [
    "def solve(head, curr, prev):\n",
    "    \n",
    "    #base case\n",
    "    if curr == None:\n",
    "        head = prev\n",
    "        return\n",
    "    \n",
    "    forward = curr.next\n",
    "    solve(head, forward, curr)   # curr.next = prev (reverse the remainning LL)\n",
    "    curr.next = prev\n",
    "    "
   ]
  },
  {
   "cell_type": "code",
   "execution_count": 8,
   "id": "1eeacbc1",
   "metadata": {},
   "outputs": [],
   "source": [
    "def reverseLL(head):\n",
    "    prev = None\n",
    "    curr = head\n",
    "    solve(head, curr, prev)\n",
    "    return head"
   ]
  },
  {
   "cell_type": "code",
   "execution_count": null,
   "id": "05335ba6",
   "metadata": {},
   "outputs": [],
   "source": []
  },
  {
   "cell_type": "code",
   "execution_count": 9,
   "id": "c3a2bea3",
   "metadata": {},
   "outputs": [],
   "source": [
    "# Method - 3"
   ]
  },
  {
   "cell_type": "code",
   "execution_count": 2,
   "id": "8df08a5c",
   "metadata": {},
   "outputs": [],
   "source": [
    "def reverse3(head):\n",
    "    if (head == None or head.next == None):\n",
    "        return head\n",
    "    \n",
    "    chotahead = reverse3(head.next)\n",
    "    \n",
    "    head.next.next = head\n",
    "    head.next = None\n",
    "    \n",
    "    return chotahead"
   ]
  },
  {
   "cell_type": "code",
   "execution_count": null,
   "id": "fd50ff92",
   "metadata": {},
   "outputs": [],
   "source": []
  },
  {
   "cell_type": "code",
   "execution_count": 3,
   "id": "533f90d1",
   "metadata": {},
   "outputs": [],
   "source": [
    "# find middle of LL"
   ]
  },
  {
   "cell_type": "code",
   "execution_count": null,
   "id": "6abb61a3",
   "metadata": {},
   "outputs": [],
   "source": [
    "# Method - 1"
   ]
  },
  {
   "cell_type": "code",
   "execution_count": 4,
   "id": "c658153f",
   "metadata": {},
   "outputs": [],
   "source": [
    "def getLength(head):\n",
    "    lng = 0\n",
    "    while (head != None):\n",
    "        lng += 1\n",
    "        head = head.next\n",
    "    \n",
    "    return head"
   ]
  },
  {
   "cell_type": "code",
   "execution_count": 8,
   "id": "b545c2eb",
   "metadata": {},
   "outputs": [],
   "source": [
    "def findMiddle(head):\n",
    "    lng = getLength(head)\n",
    "    ans = lng//2\n",
    "    temp = head\n",
    "    while (ans>0):\n",
    "        temp = temp.next\n",
    "        a -= 1\n",
    "    \n",
    "    return temp"
   ]
  },
  {
   "cell_type": "code",
   "execution_count": null,
   "id": "a1b341b9",
   "metadata": {},
   "outputs": [],
   "source": []
  },
  {
   "cell_type": "code",
   "execution_count": null,
   "id": "47d935e5",
   "metadata": {},
   "outputs": [],
   "source": [
    "# Method - 2"
   ]
  },
  {
   "cell_type": "code",
   "execution_count": 10,
   "id": "b2ba5754",
   "metadata": {},
   "outputs": [],
   "source": [
    "def findMiddleNode(head):\n",
    "    if (head == None or head.next == None):\n",
    "        return head\n",
    "    \n",
    "    slow = head # 1 jump\n",
    "    fast = head.next# 2 jumps\n",
    "    \n",
    "    while(fast != None):\n",
    "        slow = slow.next\n",
    "        fast = fast.next\n",
    "        if (fast != None):\n",
    "            fast = fast.next\n",
    "    \n",
    "    return slow"
   ]
  },
  {
   "cell_type": "code",
   "execution_count": null,
   "id": "711ab9f8",
   "metadata": {},
   "outputs": [],
   "source": []
  },
  {
   "cell_type": "code",
   "execution_count": null,
   "id": "925a34ec",
   "metadata": {},
   "outputs": [],
   "source": []
  },
  {
   "cell_type": "code",
   "execution_count": null,
   "id": "83741182",
   "metadata": {},
   "outputs": [],
   "source": []
  },
  {
   "cell_type": "code",
   "execution_count": null,
   "id": "c01e8ad6",
   "metadata": {},
   "outputs": [],
   "source": []
  },
  {
   "cell_type": "code",
   "execution_count": null,
   "id": "c20d3bac",
   "metadata": {},
   "outputs": [],
   "source": []
  }
 ],
 "metadata": {
  "kernelspec": {
   "display_name": "Python 3 (ipykernel)",
   "language": "python",
   "name": "python3"
  },
  "language_info": {
   "codemirror_mode": {
    "name": "ipython",
    "version": 3
   },
   "file_extension": ".py",
   "mimetype": "text/x-python",
   "name": "python",
   "nbconvert_exporter": "python",
   "pygments_lexer": "ipython3",
   "version": "3.9.7"
  }
 },
 "nbformat": 4,
 "nbformat_minor": 5
}
