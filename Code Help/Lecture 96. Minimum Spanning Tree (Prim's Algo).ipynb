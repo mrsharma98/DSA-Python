{
 "cells": [
  {
   "cell_type": "code",
   "execution_count": 2,
   "id": "f7d7b342",
   "metadata": {},
   "outputs": [],
   "source": [
    "# n, m = int\n",
    "# g = vector<pair<pair<int, int>, int> = [[u,v],w]\n",
    "# nodes are starting from 1\n",
    "\n",
    "from collections import defaultdict\n",
    "from sys import maxsize\n",
    "\n",
    "def calculatePrimsMST(n, m, g):\n",
    "    \n",
    "    # create adj list\n",
    "    adj = defaultdict(list)\n",
    "    for i in range(len(g)):\n",
    "        u = g[i][0][0]\n",
    "        v = g[i][0][1]\n",
    "        w = g[i][1]\n",
    "        adj[u].append([v,w])\n",
    "        adj[v].append([u,w])\n",
    "    \n",
    "    # key, mst, parent\n",
    "    key = [maxsize]*(n+1)\n",
    "    mst = [False]*(n+1)\n",
    "    parent = [-1]*(n+1)\n",
    "    \n",
    "    # let's start algo\n",
    "    \n",
    "    # src starts from 1 so mark index 1 and ignore zero index\n",
    "    key[1] = 0\n",
    "    parent[1] = -1\n",
    "    \n",
    "    for i in range(n):\n",
    "        \n",
    "        # mini\n",
    "        mini = maxsize\n",
    "        # find mini wali node\n",
    "        for v in range(1, n+1):\n",
    "            if (mst[v]==False and key[v]<mini):\n",
    "                u = v\n",
    "                mini = key[v]\n",
    "    \n",
    "        # mark min node as True\n",
    "        mst[u] = True\n",
    "        \n",
    "        # check its adj nodes\n",
    "        for nei in adj[u]:\n",
    "            v = nei[0]\n",
    "            w = nei[1]\n",
    "            if (mst[v]==False and w<key[v]):\n",
    "                parent[v] = u\n",
    "                key[u] = w\n",
    "    \n",
    "    # vecor<pair<pair<int, int>>\n",
    "    result = []\n",
    "    \n",
    "    # node starts from 1 but parent[1] = -1, so start from 2\n",
    "    for i in range(2, n+1):\n",
    "        result.append([[parent[i], i], key[i]])\n",
    "#         result.append({{parent[i], i}, key[i]})\n",
    "        \n",
    "    return result"
   ]
  },
  {
   "cell_type": "raw",
   "id": "e3b925be",
   "metadata": {},
   "source": [
    "TC:- O(n^2)"
   ]
  },
  {
   "cell_type": "raw",
   "id": "8dfaf978",
   "metadata": {},
   "source": [
    "To Optimize\n",
    "\n",
    "-- find the min wali node -- we can use min-heap(priority queue)\n",
    "-- TC:- O(nlogn)"
   ]
  },
  {
   "cell_type": "raw",
   "id": "3a29e43c",
   "metadata": {},
   "source": [
    "https://www.codingninjas.com/codestudio/problems/prim-s-mst_1095633?"
   ]
  }
 ],
 "metadata": {
  "kernelspec": {
   "display_name": "Python 3 (ipykernel)",
   "language": "python",
   "name": "python3"
  },
  "language_info": {
   "codemirror_mode": {
    "name": "ipython",
    "version": 3
   },
   "file_extension": ".py",
   "mimetype": "text/x-python",
   "name": "python",
   "nbconvert_exporter": "python",
   "pygments_lexer": "ipython3",
   "version": "3.9.7"
  }
 },
 "nbformat": 4,
 "nbformat_minor": 5
}
