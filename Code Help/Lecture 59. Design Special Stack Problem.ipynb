{
 "cells": [
  {
   "cell_type": "code",
   "execution_count": 1,
   "id": "89e84631",
   "metadata": {},
   "outputs": [],
   "source": [
    "# https://leetcode.com/problems/min-stack/submissions/"
   ]
  },
  {
   "cell_type": "code",
   "execution_count": 1,
   "id": "d9a14ccc",
   "metadata": {},
   "outputs": [],
   "source": [
    "# find the min in stack ---> the question"
   ]
  },
  {
   "cell_type": "code",
   "execution_count": null,
   "id": "018be960",
   "metadata": {},
   "outputs": [],
   "source": []
  },
  {
   "cell_type": "code",
   "execution_count": 2,
   "id": "0f534993",
   "metadata": {},
   "outputs": [],
   "source": [
    "# Method-1\n",
    "\n",
    "# create one more stack\n",
    "# store the min value \n",
    "# every time we push the element in the main stack, push the min in the min stack\n",
    "# if we pop from main stack, also pop from min stack\n",
    "# we will have min element on top at every point of time\n",
    "\n",
    "# TC --> O(1)\n",
    "# SC --> O(n)"
   ]
  },
  {
   "cell_type": "code",
   "execution_count": 4,
   "id": "349e652e",
   "metadata": {},
   "outputs": [],
   "source": [
    "# Method-2\n",
    "\n",
    "# take a variable, mini\n",
    "\n",
    "# **** PUSH ****\n",
    "# push the first element\n",
    "# now for every element check if it is less than mini\n",
    "# yes --> mini = mini, push --> 2*mini-curr\n",
    "# no --> push --> actual element\n",
    "\n",
    "# **** POP ****\n",
    "# pop the element, check if it is less than mini\n",
    "# Yes --> mini = 2*mini-curr\n",
    "\n",
    "# getMin() --> return mini\n",
    "\n",
    "# push --> 2*curr-mini\n",
    "# pop --> 2*mini-curr"
   ]
  },
  {
   "cell_type": "code",
   "execution_count": 5,
   "id": "d1234a65",
   "metadata": {},
   "outputs": [],
   "source": [
    "# why 2*curr-mini ??\n",
    "\n",
    "# curr = x\n",
    "# push --> 2*curr - mini = 2*x-prevMini\n",
    "# end of this, mini gets the x, as x gets stored to mini, mini=x\n",
    "\n",
    "# mini = curr\n",
    "# pop --> 2*mini - curr = 2*mini - curr = 2*x-(2*x-prevMini) = prevMini"
   ]
  },
  {
   "cell_type": "code",
   "execution_count": null,
   "id": "a4971b72",
   "metadata": {},
   "outputs": [],
   "source": []
  },
  {
   "cell_type": "code",
   "execution_count": 6,
   "id": "b6c93fe0",
   "metadata": {},
   "outputs": [],
   "source": [
    "class Stack:\n",
    "    s = []\n",
    "    mini = -999999999\n",
    "    \n",
    "    def push(self, data):\n",
    "        if len(self.s)==0:\n",
    "            self.s.append(data)\n",
    "            self.mini = data\n",
    "        else:\n",
    "            if data<self.mini:\n",
    "                val = 2*data-self.mini\n",
    "                self.s.append(val)\n",
    "                self.mini = data\n",
    "            else:\n",
    "                self.s.append(data)\n",
    "    \n",
    "    def pop(self):\n",
    "        if len(self.s) == 0:\n",
    "            return -1\n",
    "        \n",
    "        curr = self.s[-1]\n",
    "        if curr>self.mini:\n",
    "            self.s.pop()\n",
    "        else:\n",
    "            prevMin = self.mini\n",
    "            val = 2*self.mini-curr\n",
    "            self.mini = val\n",
    "            return prevMin\n",
    "        return\n",
    "    \n",
    "    def top(self):\n",
    "        if len(self.s)==0:\n",
    "            return -1\n",
    "        \n",
    "        curr = sefl.s[-1]\n",
    "        if curr<self.mini:\n",
    "            return mini\n",
    "        else:\n",
    "            return curr\n",
    "        \n",
    "    def isEmpty(self):\n",
    "        return len(self.s)==0\n",
    "    \n",
    "    def getMin(self):\n",
    "        if len(self.s) == 0:\n",
    "            return \n",
    "        return self.mini"
   ]
  },
  {
   "cell_type": "code",
   "execution_count": null,
   "id": "0492df02",
   "metadata": {},
   "outputs": [],
   "source": []
  },
  {
   "cell_type": "code",
   "execution_count": null,
   "id": "3613f51e",
   "metadata": {},
   "outputs": [],
   "source": []
  }
 ],
 "metadata": {
  "kernelspec": {
   "display_name": "Python 3 (ipykernel)",
   "language": "python",
   "name": "python3"
  },
  "language_info": {
   "codemirror_mode": {
    "name": "ipython",
    "version": 3
   },
   "file_extension": ".py",
   "mimetype": "text/x-python",
   "name": "python",
   "nbconvert_exporter": "python",
   "pygments_lexer": "ipython3",
   "version": "3.9.7"
  }
 },
 "nbformat": 4,
 "nbformat_minor": 5
}
