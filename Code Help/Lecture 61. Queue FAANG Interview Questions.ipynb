{
 "cells": [
  {
   "cell_type": "code",
   "execution_count": 1,
   "id": "1cc144e0",
   "metadata": {},
   "outputs": [],
   "source": [
    "# Reverse a Queue"
   ]
  },
  {
   "cell_type": "code",
   "execution_count": 3,
   "id": "5fd755ca",
   "metadata": {},
   "outputs": [],
   "source": [
    "# Approach - 1\n",
    "# use Stack\n",
    "# put everything in it and remove it,\n",
    "# put again in stack\n",
    "\n",
    "# TC--> O(n)\n",
    "# SC--> O(n)"
   ]
  },
  {
   "cell_type": "code",
   "execution_count": 4,
   "id": "d12e4704",
   "metadata": {},
   "outputs": [],
   "source": [
    "# Approach - 2\n",
    "# use Recursion\n",
    "\n",
    "# keep one element aside and apply recursion\n",
    "# while returning it will reverse the order"
   ]
  },
  {
   "cell_type": "code",
   "execution_count": null,
   "id": "75dd3400",
   "metadata": {},
   "outputs": [],
   "source": []
  },
  {
   "cell_type": "code",
   "execution_count": 1,
   "id": "f010874c",
   "metadata": {},
   "outputs": [],
   "source": [
    "# first negative integer in an array of window k"
   ]
  },
  {
   "cell_type": "code",
   "execution_count": 2,
   "id": "2837db3c",
   "metadata": {},
   "outputs": [],
   "source": [
    "# Approach\n",
    "# Deque (remove front, push end)\n",
    "# take first k element, in next round remove one from front and add one from rear.\n",
    "\n",
    "# 1. first k element -- answer\n",
    "\n",
    "# 2. loop, to add from end and remove from front in every iteration\n",
    "# 3. put only negative number in the list\n",
    "\n",
    "# NOT an OPTIMAL APPROACH"
   ]
  },
  {
   "cell_type": "code",
   "execution_count": null,
   "id": "cdabbeb3",
   "metadata": {},
   "outputs": [],
   "source": []
  },
  {
   "cell_type": "code",
   "execution_count": null,
   "id": "1f129404",
   "metadata": {},
   "outputs": [],
   "source": []
  },
  {
   "cell_type": "code",
   "execution_count": 3,
   "id": "d9f9c9b4",
   "metadata": {},
   "outputs": [],
   "source": [
    "# Reverse first k element in queue"
   ]
  },
  {
   "cell_type": "code",
   "execution_count": 4,
   "id": "fa0782fe",
   "metadata": {},
   "outputs": [],
   "source": [
    "# Same as first question"
   ]
  },
  {
   "cell_type": "code",
   "execution_count": null,
   "id": "7cf82cdc",
   "metadata": {},
   "outputs": [],
   "source": []
  },
  {
   "cell_type": "code",
   "execution_count": null,
   "id": "73a46897",
   "metadata": {},
   "outputs": [],
   "source": []
  },
  {
   "cell_type": "code",
   "execution_count": 5,
   "id": "c0c917da",
   "metadata": {},
   "outputs": [],
   "source": [
    "# First non-repeating character in steam\n",
    "\n",
    "# i/p:- aabc\n",
    "# first just take \"a\" -- ans -- \"a\"\n",
    "# then \"aa\", ans--\"#\"\n",
    "# then \"aab\", ans--\"b\"\n",
    "# then \"aabc\", ans--\"b\"\n",
    "# o/p:- \"a#bb\""
   ]
  },
  {
   "cell_type": "code",
   "execution_count": 6,
   "id": "2602d7c8",
   "metadata": {},
   "outputs": [],
   "source": [
    "# we will take a map to store count for every character\n",
    "# Queue for storing character\n",
    "# we will check in the front, if it is repeating, pop\n",
    "# if non-repeating print\n",
    "# queue is empty then #"
   ]
  },
  {
   "cell_type": "code",
   "execution_count": 19,
   "id": "7c860e35",
   "metadata": {},
   "outputs": [],
   "source": [
    "def nonRepeatingChar(A):\n",
    "    count = {}\n",
    "    queue = []\n",
    "    ans = \"\"\n",
    "    \n",
    "    for i in range(len(A)):\n",
    "        ch = A[i]\n",
    "        if ch in count:\n",
    "            count[A] += 1\n",
    "        else:\n",
    "            count[A] = 1\n",
    "        queue.append(ch)\n",
    "        \n",
    "        while (len(q)!=0):\n",
    "            if count[queue[0] > 1]:\n",
    "                queue.pop(0)\n",
    "            else:\n",
    "                ans.append(queue[0])\n",
    "                break\n",
    "        \n",
    "        if len(queue)==0:\n",
    "            ans.append(\"#\")\n",
    "            \n",
    "    return ans"
   ]
  },
  {
   "cell_type": "code",
   "execution_count": 13,
   "id": "827b1fa0",
   "metadata": {},
   "outputs": [],
   "source": [
    "ch = {'A': 1, 'B':2}"
   ]
  },
  {
   "cell_type": "code",
   "execution_count": 18,
   "id": "1781d32a",
   "metadata": {},
   "outputs": [
    {
     "name": "stdout",
     "output_type": "stream",
     "text": [
      "yes\n"
     ]
    }
   ],
   "source": [
    "if 'A' in ch:\n",
    "    print('yes')"
   ]
  },
  {
   "cell_type": "code",
   "execution_count": 15,
   "id": "3a46853e",
   "metadata": {},
   "outputs": [
    {
     "data": {
      "text/plain": [
       "{'A': 1, 'B': 2}"
      ]
     },
     "execution_count": 15,
     "metadata": {},
     "output_type": "execute_result"
    }
   ],
   "source": [
    "ch"
   ]
  },
  {
   "cell_type": "code",
   "execution_count": null,
   "id": "1410098b",
   "metadata": {},
   "outputs": [],
   "source": []
  },
  {
   "cell_type": "code",
   "execution_count": null,
   "id": "a27b37c3",
   "metadata": {},
   "outputs": [],
   "source": []
  },
  {
   "cell_type": "code",
   "execution_count": null,
   "id": "91af0537",
   "metadata": {},
   "outputs": [],
   "source": []
  },
  {
   "cell_type": "code",
   "execution_count": 20,
   "id": "e19f525e",
   "metadata": {},
   "outputs": [],
   "source": [
    "# ******* IMPORTANT *******"
   ]
  },
  {
   "cell_type": "code",
   "execution_count": 22,
   "id": "29cbe221",
   "metadata": {},
   "outputs": [],
   "source": [
    "# Circular tour"
   ]
  },
  {
   "cell_type": "code",
   "execution_count": 25,
   "id": "bff3ee8f",
   "metadata": {},
   "outputs": [],
   "source": [
    "# A circular path\n",
    "# has n petrol pump\n",
    "# we have how much petrol a petrol pump has\n",
    "# distance to next petrol pump\n",
    "\n",
    "# (4, 6) -- (petrol, distance) -- petrol must be greater"
   ]
  },
  {
   "cell_type": "code",
   "execution_count": 26,
   "id": "a809795d",
   "metadata": {},
   "outputs": [],
   "source": [
    "# Approach - 1 (B.F)\n",
    "# will check for all the element\n",
    "# here at the end we will have O(n^2) TC"
   ]
  },
  {
   "cell_type": "code",
   "execution_count": 28,
   "id": "8ef25e55",
   "metadata": {},
   "outputs": [],
   "source": [
    "# Approach - 2\n",
    "\n",
    "# point front and rear to the start\n",
    "# if travel possible move rear\n",
    "# if not move rear and front both to rear\n",
    "\n",
    "# if front and rear gets equal then travel is possible\n",
    "# return front\n",
    "\n",
    "# if travel not possible,\n",
    "# put front and rear to next of rear prev position\n",
    "\n",
    "# in worst case,\n",
    "# we might need to visit every block twice"
   ]
  },
  {
   "cell_type": "code",
   "execution_count": null,
   "id": "e27460ac",
   "metadata": {},
   "outputs": [],
   "source": [
    "# we will try not to visit the already visited block\n",
    "# so we will use deficit, and keep a track on deficit"
   ]
  },
  {
   "cell_type": "code",
   "execution_count": null,
   "id": "4c80b58b",
   "metadata": {},
   "outputs": [],
   "source": [
    "def tour(gas, cost):\n",
    "    deficit = 0\n",
    "    balance = 0\n",
    "    start = 0\n",
    "    \n",
    "    for i in range(len(gas)):\n",
    "        balance += gas[i] - cost[i]\n",
    "        \n",
    "        if balance<0:\n",
    "            deficit += balance\n",
    "            start = i+1\n",
    "            balace = 0\n",
    "    \n",
    "    if deficit+balance >= 0:\n",
    "        return start\n",
    "    return -1"
   ]
  },
  {
   "cell_type": "code",
   "execution_count": null,
   "id": "76235fd0",
   "metadata": {},
   "outputs": [],
   "source": []
  },
  {
   "cell_type": "code",
   "execution_count": null,
   "id": "776680a7",
   "metadata": {},
   "outputs": [],
   "source": []
  },
  {
   "cell_type": "code",
   "execution_count": 1,
   "id": "1cda6885",
   "metadata": {},
   "outputs": [],
   "source": [
    "# Interleave the first half of the queue with second half"
   ]
  },
  {
   "cell_type": "code",
   "execution_count": 2,
   "id": "ef789a2b",
   "metadata": {},
   "outputs": [],
   "source": [
    "# i/p:- [11, 12, 13, 14, 15, 16, 17, 18]\n",
    "# front at 11 and rear at 18\n",
    "# for o/p:- divide it into 2 parts\n",
    "# take one element alternately\n",
    "# o/p:- [11, 15, 12, 16, 13, 17, 14, 18]"
   ]
  },
  {
   "cell_type": "code",
   "execution_count": 4,
   "id": "b03d965f",
   "metadata": {},
   "outputs": [],
   "source": [
    "# Approach - 1\n",
    "# pop the first half and put it into another queue\n",
    "# old queue:- [15, 16, 17, 18]\n",
    "# new queue:- [11, 12, 13, 14]\n",
    "\n",
    "# remove and push element into old queue"
   ]
  },
  {
   "cell_type": "code",
   "execution_count": 6,
   "id": "293420b1",
   "metadata": {},
   "outputs": [],
   "source": [
    "# Approach - 2\n",
    "# Using Stack\n",
    "# first put the first half into Stack and then put it into Queue again\n",
    "# now put the second half which is in front now, at the end\n",
    "# now put the first half again into the stack"
   ]
  },
  {
   "cell_type": "code",
   "execution_count": null,
   "id": "dcf1247e",
   "metadata": {},
   "outputs": [],
   "source": []
  },
  {
   "cell_type": "code",
   "execution_count": null,
   "id": "431ec5e2",
   "metadata": {},
   "outputs": [],
   "source": []
  },
  {
   "cell_type": "code",
   "execution_count": null,
   "id": "3c2bd93e",
   "metadata": {},
   "outputs": [],
   "source": []
  },
  {
   "cell_type": "code",
   "execution_count": 2,
   "id": "bd29f6f9",
   "metadata": {},
   "outputs": [],
   "source": [
    "# K Queues in an Array\n",
    "# almost same approach as N Stack in an Array\n",
    "\n",
    "# https://www.youtube.com/watch?v=_gJ3to4RyeQ&list=PLDzeHZWIZsTryvtXdMr6rPh4IDexB5NIA&index=66&t=6160s"
   ]
  },
  {
   "cell_type": "code",
   "execution_count": null,
   "id": "ca1e01cf",
   "metadata": {},
   "outputs": [],
   "source": []
  },
  {
   "cell_type": "code",
   "execution_count": null,
   "id": "4374afe5",
   "metadata": {},
   "outputs": [],
   "source": []
  },
  {
   "cell_type": "code",
   "execution_count": 1,
   "id": "65f403d8",
   "metadata": {},
   "outputs": [],
   "source": [
    "# Sum of min & max elements of all subarray of size K"
   ]
  },
  {
   "cell_type": "code",
   "execution_count": 3,
   "id": "695a55da",
   "metadata": {},
   "outputs": [],
   "source": [
    "# Approach - 1 (BF)\n",
    "\n",
    "# scanning all elements in the window\n",
    "# TC --> O(n*k)"
   ]
  },
  {
   "cell_type": "code",
   "execution_count": 4,
   "id": "6ce6b4c2",
   "metadata": {},
   "outputs": [],
   "source": [
    "# Approach - 2\n",
    "\n",
    "# Use DEQUE\n",
    "# 1. deque for max --  index in the decreasing order\n",
    "# 2. deque for min --  index in the increasing order\n",
    "# front gives the element"
   ]
  },
  {
   "cell_type": "code",
   "execution_count": 12,
   "id": "470b294a",
   "metadata": {},
   "outputs": [],
   "source": [
    "def solve(arr, n, k):\n",
    "    maxi = [0]*k\n",
    "    mini = [0]*k\n",
    "    \n",
    "    for i in range(k):\n",
    "        while len(maxi)>0 and arr[maxi[-1]] <= arr[i]:\n",
    "            maxi.pop()\n",
    "        \n",
    "        while len(mini)>0 and arr[mini[-1]] >= arr[i]:\n",
    "            mini.pop()\n",
    "        \n",
    "        maxi.append(i)\n",
    "        mini.append(i)\n",
    "        \n",
    "    ans = 0\n",
    "    for i in range(k, n):\n",
    "        ans += arr[maxi[0]] + arr[mini[0]]\n",
    "        \n",
    "        # next window\n",
    "        \n",
    "        #removal\n",
    "        while (len(maxi)>0 and i-maxi[0] >= k):\n",
    "            maxi.pop(0)\n",
    "        while (len(mini)>0 and i-mini[0] >= k):\n",
    "            mini.pop(0)\n",
    "            \n",
    "        # addition\n",
    "        while len(maxi)>0 and arr[maxi[-1]] <= arr[i]:\n",
    "            maxi.pop()\n",
    "        \n",
    "        while len(mini)>0 and arr[mini[-1]] >= arr[i]:\n",
    "            mini.pop()\n",
    "        \n",
    "        maxi.append(i)\n",
    "        mini.append(i)\n",
    "        \n",
    "    \n",
    "    # make sure o consider the last window\n",
    "    ans += arr[maxi[0]] + arr[mini[0]]\n",
    "    \n",
    "    return ans"
   ]
  },
  {
   "cell_type": "code",
   "execution_count": null,
   "id": "951dfb06",
   "metadata": {},
   "outputs": [],
   "source": []
  },
  {
   "cell_type": "code",
   "execution_count": 14,
   "id": "99a74deb",
   "metadata": {},
   "outputs": [
    {
     "data": {
      "text/plain": [
       "18"
      ]
     },
     "execution_count": 14,
     "metadata": {},
     "output_type": "execute_result"
    }
   ],
   "source": [
    "arr = [2, 5, -1, 7, -3, -1, -2]\n",
    "n= len(arr)\n",
    "k = 4\n",
    "\n",
    "solve(arr, n, k)"
   ]
  },
  {
   "cell_type": "code",
   "execution_count": null,
   "id": "96f600f3",
   "metadata": {},
   "outputs": [],
   "source": []
  }
 ],
 "metadata": {
  "kernelspec": {
   "display_name": "Python 3 (ipykernel)",
   "language": "python",
   "name": "python3"
  },
  "language_info": {
   "codemirror_mode": {
    "name": "ipython",
    "version": 3
   },
   "file_extension": ".py",
   "mimetype": "text/x-python",
   "name": "python",
   "nbconvert_exporter": "python",
   "pygments_lexer": "ipython3",
   "version": "3.9.7"
  }
 },
 "nbformat": 4,
 "nbformat_minor": 5
}
