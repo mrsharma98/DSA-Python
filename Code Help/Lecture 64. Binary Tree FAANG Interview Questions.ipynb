{
 "cells": [
  {
   "cell_type": "markdown",
   "id": "e1778a84",
   "metadata": {},
   "source": [
    "# Zigzag Traversal"
   ]
  },
  {
   "cell_type": "code",
   "execution_count": 1,
   "id": "0373a390",
   "metadata": {},
   "outputs": [],
   "source": [
    "# https://leetcode.com/problems/binary-tree-zigzag-level-order-traversal/submissions/"
   ]
  },
  {
   "cell_type": "code",
   "execution_count": 2,
   "id": "344c9a88",
   "metadata": {},
   "outputs": [],
   "source": [
    "# go left to right          ---->\n",
    "# then right to left        <----  \n",
    "# left to right and so on.  ---->"
   ]
  },
  {
   "cell_type": "code",
   "execution_count": 3,
   "id": "e87abbaf",
   "metadata": {},
   "outputs": [],
   "source": [
    "# Tree iterative process uses \"Queue\"\n",
    "# Level order usually follows iterative approach"
   ]
  },
  {
   "cell_type": "code",
   "execution_count": 4,
   "id": "c6c61335",
   "metadata": {},
   "outputs": [],
   "source": [
    "def zigzagTraversal(root):\n",
    "    result = []\n",
    "    if root == None:\n",
    "        return result\n",
    "    \n",
    "    q = []\n",
    "    q.append(root)\n",
    "    leftToRight = True\n",
    "    \n",
    "    while (len(q)>0):\n",
    "        # level process\n",
    "        size = len(q)\n",
    "        ans = [None]*size\n",
    "        \n",
    "        for i in range(size):\n",
    "            frontNode = q[0]\n",
    "            q.pop(0)\n",
    "            \n",
    "            if leftToRight:\n",
    "                index = i\n",
    "            else:\n",
    "                index = size-i-1\n",
    "            \n",
    "            ans[index] = frontNode.val\n",
    "            \n",
    "            if frontNode.left!=None:\n",
    "                q.append(frontNode.left)\n",
    "            \n",
    "            if frontNode.right!=None:\n",
    "                q.append(frontNode.rleeight)\n",
    "                \n",
    "        leftToRight = !leftToRight\n",
    "        result.append(ans)\n",
    "    return result"
   ]
  },
  {
   "cell_type": "code",
   "execution_count": null,
   "id": "a79c5f86",
   "metadata": {},
   "outputs": [],
   "source": []
  },
  {
   "cell_type": "code",
   "execution_count": null,
   "id": "db7e0b75",
   "metadata": {},
   "outputs": [],
   "source": []
  },
  {
   "cell_type": "markdown",
   "id": "f011793f",
   "metadata": {},
   "source": [
    "# Boundary Traversal"
   ]
  },
  {
   "cell_type": "code",
   "execution_count": 2,
   "id": "f2259464",
   "metadata": {},
   "outputs": [],
   "source": [
    "# https://www.geeksforgeeks.org/boundary-traversal-of-binary-tree/"
   ]
  },
  {
   "cell_type": "code",
   "execution_count": 3,
   "id": "de84055a",
   "metadata": {},
   "outputs": [],
   "source": [
    "# There are 4 parts\n",
    "# root\n",
    "# left side ka lef side\n",
    "# leaf nodes\n",
    "# right ka right side, from bottom to top"
   ]
  },
  {
   "cell_type": "code",
   "execution_count": 5,
   "id": "f19c78bd",
   "metadata": {},
   "outputs": [],
   "source": [
    "def traverseLeft(root, ans):\n",
    "    if root == None or (root.left==None and root.right==None):\n",
    "        return\n",
    "    \n",
    "    ans.append(root.data)\n",
    "    if root.left!=None:\n",
    "        traverseLeft(root.left, ans)\n",
    "    else:\n",
    "        traverseLeft(root.right, ans)\n",
    "    \n",
    "\n",
    "def traverseLeaf(root, ans):\n",
    "    if (root == None):\n",
    "        return\n",
    "    if root.left == None and root.right == None:\n",
    "        ans.append(root.data)\n",
    "    \n",
    "    traverseLeaf(root.left, ans)\n",
    "    traverseLeaf(root.right, ans)\n",
    "\n",
    "\n",
    "def traverseRight(root, ans):\n",
    "    if root == None or (root.left==None and root.right==None):\n",
    "        return\n",
    "    \n",
    "    if root.right!=None:\n",
    "        traverseRight(root.right, ans)\n",
    "    else:\n",
    "        traverseRight(root.left, ans)\n",
    "    \n",
    "    ans.append(root.data)\n",
    "    \n",
    "\n",
    "\n",
    "def boundary(root):\n",
    "    ans = []\n",
    "    if root == None:\n",
    "        return ans\n",
    "    \n",
    "    # root\n",
    "    ans.append(root.val)\n",
    "    \n",
    "    # left part\n",
    "    traverseLeft(root.left, ans)\n",
    "    \n",
    "    # leaf nodes\n",
    "    # leaf for right\n",
    "    traverseLeaf(root.left, ans)\n",
    "    # leaf for left\n",
    "    traverseLeaf(root.right, ans)\n",
    "    \n",
    "    # right part\n",
    "    traverseRight(root.right, ans)\n",
    "    \n",
    "    return ans"
   ]
  },
  {
   "cell_type": "code",
   "execution_count": null,
   "id": "3f278363",
   "metadata": {},
   "outputs": [],
   "source": []
  },
  {
   "cell_type": "code",
   "execution_count": null,
   "id": "45357a1c",
   "metadata": {},
   "outputs": [],
   "source": []
  },
  {
   "cell_type": "markdown",
   "id": "ab456141",
   "metadata": {},
   "source": [
    "# Vertical Order Traversal of BT"
   ]
  },
  {
   "cell_type": "code",
   "execution_count": 6,
   "id": "799baa08",
   "metadata": {},
   "outputs": [],
   "source": [
    "# https://leetcode.com/problems/vertical-order-traversal-of-a-binary-tree/"
   ]
  },
  {
   "cell_type": "code",
   "execution_count": 8,
   "id": "a86f229a",
   "metadata": {},
   "outputs": [],
   "source": [
    "# we will use mapping for horizontal distance\n",
    "# we will print nodes wrt the horizontal level, from -ve to 0 to +ve"
   ]
  },
  {
   "cell_type": "raw",
   "id": "64f937d0",
   "metadata": {},
   "source": [
    "mapping ---> HD --> levelvise nodes\n",
    "levelvise nodes (mapping of)---> level --> nodes\n",
    "\n",
    "so we need to make a ds which stores\n",
    "map <int, map<int, nodes[]>>\n",
    "map <hd, map<level, list of nodes>>\n",
    "\n",
    "hd -- horizontal distance\n",
    "\n",
    "req to store a node -> hd and level\n",
    "queue <node, pair<int(hd), int(level)>>"
   ]
  },
  {
   "cell_type": "code",
   "execution_count": null,
   "id": "46f449b2",
   "metadata": {},
   "outputs": [],
   "source": [
    "def verticalOrder(root):\n",
    "    nodes = {}\n",
    "    # queue <node, pair<int(hd), int(level)>>\n",
    "    q = []\n",
    "    ans = []\n",
    "\n",
    "    if root == None:\n",
    "        return ans\n",
    "\n",
    "    q.append([root, [0,0]])\n",
    "\n",
    "    while len(q)>0:\n",
    "        temp = q[0]\n",
    "        q.pop(0)\n",
    "        frontNode = temp[0]\n",
    "        hd = temp[1][0]\n",
    "        lvl = temp[1][1]\n",
    "\n",
    "        if hd in nodes.keys():\n",
    "            if lvl in nodes[hd]:\n",
    "                nodes[hd][lvl].append(frontNode.val)\n",
    "                # nodes[hd][lvl].sort()\n",
    "            else:\n",
    "                nodes[hd][lvl] = [frontNode.val]\n",
    "        else:\n",
    "            nodes[hd] = {lvl: [frontNode.val]}\n",
    "\n",
    "        if frontNode.left!=None:\n",
    "            q.append([frontNode.left, [hd-1, lvl+1]])\n",
    "\n",
    "        if frontNode.right!=None:\n",
    "            q.append([frontNode.right, [hd+1, lvl+1]])\n",
    "\n",
    "    sortedNodeHD = [i for i in nodes]\n",
    "    sortedNodeHD.sort()\n",
    "    for i in sortedNodeHD:\n",
    "        temp = []\n",
    "        for j in nodes[i]:\n",
    "            nodes[i][j].sort()\n",
    "            temp.extend(nodes[i][j])\n",
    "        ans.append(temp)\n",
    "    return ans"
   ]
  },
  {
   "cell_type": "code",
   "execution_count": null,
   "id": "e4c31d90",
   "metadata": {},
   "outputs": [],
   "source": []
  },
  {
   "cell_type": "code",
   "execution_count": null,
   "id": "c11274a5",
   "metadata": {},
   "outputs": [],
   "source": []
  },
  {
   "cell_type": "markdown",
   "id": "c8191574",
   "metadata": {},
   "source": [
    "# Top view of BT"
   ]
  },
  {
   "cell_type": "code",
   "execution_count": 1,
   "id": "5c983878",
   "metadata": {},
   "outputs": [],
   "source": [
    "def topView(root):\n",
    "    ans = []\n",
    "    if root == None:\n",
    "        return ans\n",
    "    \n",
    "    # map<int, int>\n",
    "    topNode = {}\n",
    "    #queue<paur<Node*, int>>\n",
    "    q = []\n",
    "    q.append([root, 0])\n",
    "    \n",
    "    while len(q)>0:\n",
    "        temp = q[0]\n",
    "        q.pop(0)\n",
    "        \n",
    "        frontNode = temp[0]\n",
    "        hd = temp[1]\n",
    "        \n",
    "        # if one value is present for hd then do none\n",
    "        if hd not in topNode:\n",
    "            topNode[hd] = frontNode.val\n",
    "            \n",
    "        if topNode.left!=None:\n",
    "            q.append(frontNode.left, hd-1)\n",
    "        if frontNode.right!=None:\n",
    "            q.append(frontNode.right, hd+1)\n",
    "    \n",
    "    for i in topNode:\n",
    "        ans.append(i[1])\n",
    "    \n",
    "    return ans"
   ]
  },
  {
   "cell_type": "code",
   "execution_count": null,
   "id": "9caee3b1",
   "metadata": {},
   "outputs": [],
   "source": []
  },
  {
   "cell_type": "markdown",
   "id": "122ce001",
   "metadata": {},
   "source": [
    "# Bottom view of BT"
   ]
  },
  {
   "cell_type": "code",
   "execution_count": null,
   "id": "8859466a",
   "metadata": {},
   "outputs": [],
   "source": [
    "def bottomView(root):\n",
    "    ans = []\n",
    "    if root == None:\n",
    "        return ans\n",
    "    \n",
    "    # map<int, int>\n",
    "    bottomNode = {}\n",
    "    #queue<paur<Node*, int>>\n",
    "    q = []\n",
    "    q.append([root, 0])\n",
    "    \n",
    "    while len(q)>0:\n",
    "        temp = q[0]\n",
    "        q.pop(0)\n",
    "        \n",
    "        frontNode = temp[0]\n",
    "        hd = temp[1]\n",
    "        \n",
    "        # if one value is present for hd then do none\n",
    "        bottomNode[hd] = frontNode.val\n",
    "            \n",
    "        if frontNode.left!=None:\n",
    "            q.append(frontNode.left, hd-1)\n",
    "        if frontNode.right!=None:\n",
    "            q.append(frontNode.right, hd+1)\n",
    "    \n",
    "    for i in bottomNode:\n",
    "        ans.append(i[1])\n",
    "    \n",
    "    return ans"
   ]
  },
  {
   "cell_type": "code",
   "execution_count": null,
   "id": "30f0f3df",
   "metadata": {},
   "outputs": [],
   "source": []
  },
  {
   "cell_type": "code",
   "execution_count": null,
   "id": "3e0c0750",
   "metadata": {},
   "outputs": [],
   "source": []
  },
  {
   "cell_type": "markdown",
   "id": "52fed4e5",
   "metadata": {},
   "source": [
    "# Left View of BT"
   ]
  },
  {
   "cell_type": "code",
   "execution_count": 2,
   "id": "0b7f0585",
   "metadata": {},
   "outputs": [],
   "source": [
    "# first node of every level is the left view of that level"
   ]
  },
  {
   "cell_type": "code",
   "execution_count": 3,
   "id": "8623c235",
   "metadata": {},
   "outputs": [],
   "source": [
    "# using Recursion\n",
    "\n",
    "# func(root, level)\n",
    "# for ans using a list/vector\n",
    "# if level==list.size() --> means we have entered in a new level\n",
    "# store the value"
   ]
  },
  {
   "cell_type": "code",
   "execution_count": null,
   "id": "a62130ba",
   "metadata": {},
   "outputs": [],
   "source": [
    "def solve(root, ans, level):\n",
    "    if root == None:\n",
    "        return\n",
    "    \n",
    "    # we entered into a new level\n",
    "    if level == len(ans):\n",
    "        ans.append(root.data)\n",
    "    \n",
    "    solve(root.left, ans, level+1)\n",
    "    solve(root.right, ans, level+1)\n",
    "\n",
    "\n",
    "def leftView(root):\n",
    "    ans = []\n",
    "    solve(root, ans, 0)\n",
    "    return ans"
   ]
  },
  {
   "cell_type": "code",
   "execution_count": null,
   "id": "5be7b80b",
   "metadata": {},
   "outputs": [],
   "source": []
  },
  {
   "cell_type": "markdown",
   "id": "fba7a01a",
   "metadata": {},
   "source": [
    "# right view of bt"
   ]
  },
  {
   "cell_type": "code",
   "execution_count": 4,
   "id": "4edd0ee2",
   "metadata": {},
   "outputs": [],
   "source": [
    "def solve(root, ans, level):\n",
    "    if root == None:\n",
    "        return\n",
    "    \n",
    "    # we entered into a new level\n",
    "    if level == len(ans):\n",
    "        ans.append(root.data)\n",
    "    \n",
    "    solve(root.right, ans, level+1)\n",
    "    solve(root.left, ans, level+1)\n",
    "\n",
    "\n",
    "def rightView(root):\n",
    "    ans = []\n",
    "    solve(root, ans, 0)\n",
    "    return ans"
   ]
  },
  {
   "cell_type": "code",
   "execution_count": null,
   "id": "5e986ed7",
   "metadata": {},
   "outputs": [],
   "source": []
  },
  {
   "cell_type": "code",
   "execution_count": null,
   "id": "c75c6d44",
   "metadata": {},
   "outputs": [],
   "source": []
  },
  {
   "cell_type": "markdown",
   "id": "4113eea8",
   "metadata": {},
   "source": [
    "# diagonal view of bt"
   ]
  },
  {
   "cell_type": "code",
   "execution_count": null,
   "id": "ff6ca853",
   "metadata": {},
   "outputs": [],
   "source": []
  }
 ],
 "metadata": {
  "kernelspec": {
   "display_name": "Python 3 (ipykernel)",
   "language": "python",
   "name": "python3"
  },
  "language_info": {
   "codemirror_mode": {
    "name": "ipython",
    "version": 3
   },
   "file_extension": ".py",
   "mimetype": "text/x-python",
   "name": "python",
   "nbconvert_exporter": "python",
   "pygments_lexer": "ipython3",
   "version": "3.9.7"
  }
 },
 "nbformat": 4,
 "nbformat_minor": 5
}
