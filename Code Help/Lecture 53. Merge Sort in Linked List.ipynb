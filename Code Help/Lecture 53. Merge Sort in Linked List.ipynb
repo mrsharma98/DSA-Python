{
 "cells": [
  {
   "cell_type": "code",
   "execution_count": 1,
   "id": "a101d764",
   "metadata": {},
   "outputs": [],
   "source": [
    "# No data replacement\n",
    "# only link change"
   ]
  },
  {
   "cell_type": "code",
   "execution_count": 2,
   "id": "1796ea8d",
   "metadata": {},
   "outputs": [],
   "source": [
    "class Node:\n",
    "    def __init__(self, val):\n",
    "        self.val = val\n",
    "        self.next = None"
   ]
  },
  {
   "cell_type": "code",
   "execution_count": null,
   "id": "a8b1708a",
   "metadata": {},
   "outputs": [],
   "source": [
    "def findMid(head):\n",
    "    slow = head\n",
    "    fast = head.next\n",
    "    \n",
    "    while fast != None and fast.next != None:\n",
    "        slow = slow.next\n",
    "        fast = fast.next.next\n",
    "    \n",
    "    return slow\n",
    "\n",
    "def merge(left, right):\n",
    "    if left == None:\n",
    "        return right\n",
    "    if right = None:\n",
    "        return left\n",
    "    \n",
    "    # dummy node, so that we can merge other nodes easily\n",
    "    ans = Node(-1)\n",
    "    temp = ans\n",
    "    \n",
    "    while left != None and right != None:\n",
    "        if left.val < right.val:\n",
    "            temp.next = left\n",
    "            temp = left\n",
    "            left = left.next\n",
    "        else:\n",
    "            temp.next = right\n",
    "            temp = right\n",
    "            right = right.next\n",
    "    \n",
    "    while left!=None:\n",
    "        temp.next = left\n",
    "        temp = left\n",
    "        left = left.next\n",
    "    \n",
    "    while right!=None:\n",
    "        temp.next = right\n",
    "        temp = right\n",
    "        right = right.next\n",
    "            \n",
    "    ans = ans.next\n",
    "    return ans\n",
    "\n",
    "\n",
    "\n",
    "def mergeSort(head):\n",
    "    if head == None or head.next == None:\n",
    "        return head\n",
    "    \n",
    "#     break into two halves, after finding mid\n",
    "    mid = findMid(head)\n",
    "    left = head\n",
    "    right = mid.next\n",
    "    mid.next = None\n",
    "    \n",
    "    # recursive call to sort both halves\n",
    "    left = mergeSort(left)\n",
    "    right = mergeSort(right)\n",
    "    \n",
    "    # merge both left and right halves\n",
    "    result = merge(left, right)\n",
    "    \n",
    "    return result\n",
    "    \n",
    "    \n",
    "    \n",
    "    "
   ]
  },
  {
   "cell_type": "code",
   "execution_count": null,
   "id": "81d4a1de",
   "metadata": {},
   "outputs": [],
   "source": []
  },
  {
   "cell_type": "code",
   "execution_count": null,
   "id": "04b1100c",
   "metadata": {},
   "outputs": [],
   "source": []
  },
  {
   "cell_type": "code",
   "execution_count": null,
   "id": "d0b3adcd",
   "metadata": {},
   "outputs": [],
   "source": []
  }
 ],
 "metadata": {
  "kernelspec": {
   "display_name": "Python 3 (ipykernel)",
   "language": "python",
   "name": "python3"
  },
  "language_info": {
   "codemirror_mode": {
    "name": "ipython",
    "version": 3
   },
   "file_extension": ".py",
   "mimetype": "text/x-python",
   "name": "python",
   "nbconvert_exporter": "python",
   "pygments_lexer": "ipython3",
   "version": "3.9.7"
  }
 },
 "nbformat": 4,
 "nbformat_minor": 5
}
