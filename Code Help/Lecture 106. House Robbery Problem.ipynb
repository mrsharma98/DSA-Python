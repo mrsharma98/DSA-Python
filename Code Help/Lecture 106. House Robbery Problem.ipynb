{
 "cells": [
  {
   "cell_type": "raw",
   "id": "2ac12f4d",
   "metadata": {},
   "source": [
    "https://www.codingninjas.com/codestudio/problems/house-robber_839733?"
   ]
  },
  {
   "cell_type": "code",
   "execution_count": 2,
   "id": "69ad8bc9",
   "metadata": {},
   "outputs": [],
   "source": [
    "def solveTab(nums):\n",
    "    n = len(nums)\n",
    "    prev1 = nums[0]\n",
    "    prev2 = 0\n",
    "    \n",
    "    for i in range(1, n):\n",
    "        incl = prev2 + nums[i]\n",
    "        excl = prev1 + 0\n",
    "        ans = max(incl, excl)\n",
    "        prev2, prev1 = prev1, ans\n",
    "        \n",
    "    return prev1\n",
    "\n",
    "def houseRobber(valueInHouse):\n",
    "    # Write your function here.\n",
    "    # include 1st element\n",
    "    \n",
    "    if len(valueInHouse) == 1:\n",
    "        return valueInHouse[0]\n",
    "    \n",
    "    ans1 = solveTab(valueInHouse[:-1])\n",
    "    ans2 = solveTab(valueInHouse[1:])\n",
    "    return max(ans1, ans2)"
   ]
  },
  {
   "cell_type": "code",
   "execution_count": null,
   "id": "586b0867",
   "metadata": {},
   "outputs": [],
   "source": []
  },
  {
   "cell_type": "raw",
   "id": "d253f8ad",
   "metadata": {},
   "source": [
    "Same Question but a bit difference\n",
    "https://leetcode.com/problems/house-robber/\n",
    "Same as 105: Maximum Sum of Non-Adjacent Elements"
   ]
  },
  {
   "cell_type": "code",
   "execution_count": 4,
   "id": "3ed98ba7",
   "metadata": {},
   "outputs": [],
   "source": [
    "def maximumNonAdjacentSum(nums):    \n",
    "    # Write your code here.\n",
    "    n = len(nums)\n",
    "    prev1 = nums[0]\n",
    "    prev2 = 0\n",
    "    \n",
    "    for i in range(1, n):\n",
    "        incl = prev2 + nums[i]\n",
    "        excl = prev1 + 0\n",
    "        ans = max(incl, excl)\n",
    "        prev2, prev1 = prev1, ans\n",
    "        \n",
    "    return prev1"
   ]
  },
  {
   "cell_type": "code",
   "execution_count": null,
   "id": "eac2603d",
   "metadata": {},
   "outputs": [],
   "source": []
  }
 ],
 "metadata": {
  "kernelspec": {
   "display_name": "Python 3 (ipykernel)",
   "language": "python",
   "name": "python3"
  },
  "language_info": {
   "codemirror_mode": {
    "name": "ipython",
    "version": 3
   },
   "file_extension": ".py",
   "mimetype": "text/x-python",
   "name": "python",
   "nbconvert_exporter": "python",
   "pygments_lexer": "ipython3",
   "version": "3.9.7"
  }
 },
 "nbformat": 4,
 "nbformat_minor": 5
}
