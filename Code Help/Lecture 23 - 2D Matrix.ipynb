{
 "cells": [
  {
   "cell_type": "code",
   "execution_count": 1,
   "id": "04bfd46f",
   "metadata": {},
   "outputs": [],
   "source": [
    "a = True"
   ]
  },
  {
   "cell_type": "code",
   "execution_count": 2,
   "id": "eaa66802",
   "metadata": {},
   "outputs": [
    {
     "data": {
      "text/plain": [
       "False"
      ]
     },
     "execution_count": 2,
     "metadata": {},
     "output_type": "execute_result"
    }
   ],
   "source": [
    "a = not a\n",
    "a"
   ]
  },
  {
   "cell_type": "code",
   "execution_count": 5,
   "id": "f7221457",
   "metadata": {},
   "outputs": [
    {
     "name": "stdout",
     "output_type": "stream",
     "text": [
      "4\n",
      "3\n",
      "2\n"
     ]
    }
   ],
   "source": [
    "for i in range(4, 1, -1):\n",
    "    print(i)"
   ]
  },
  {
   "cell_type": "code",
   "execution_count": 7,
   "id": "d391e64b",
   "metadata": {},
   "outputs": [
    {
     "data": {
      "text/plain": [
       "0"
      ]
     },
     "execution_count": 7,
     "metadata": {},
     "output_type": "execute_result"
    }
   ],
   "source": [
    "0&1"
   ]
  },
  {
   "cell_type": "code",
   "execution_count": null,
   "id": "b411ccbd",
   "metadata": {},
   "outputs": [],
   "source": []
  },
  {
   "cell_type": "code",
   "execution_count": 5,
   "id": "6935c11a",
   "metadata": {},
   "outputs": [],
   "source": [
    "def spiralOrder(matrix):\n",
    "        row = len(matrix)\n",
    "        col = len(matrix[0])\n",
    "        count = 0\n",
    "        total = row*col\n",
    "        \n",
    "        startRow = 0\n",
    "        startCol = 0\n",
    "        endRow = row-1\n",
    "        endCol = col-1\n",
    "        ans = []\n",
    "        while (count < total):\n",
    "            # print starting row\n",
    "            for index in range(startCol, endCol+1):\n",
    "                if (count < total):\n",
    "                    ans.append(matrix[startRow][index])\n",
    "                    count += 1\n",
    "            startRow += 1\n",
    "            \n",
    "            # print ending col\n",
    "            for index in range(startRow, endRow+1):\n",
    "                if (count < total):\n",
    "                    ans.append(matrix[index][endCol])\n",
    "                    count += 1\n",
    "            endCol -= 1\n",
    "            \n",
    "            # print ending row\n",
    "            for index in range(endCol, startCol-1, -1):\n",
    "                if (count < total):\n",
    "                    ans.append(matrix[endRow][index])\n",
    "                    count += 1\n",
    "            endRow -= 1\n",
    "            \n",
    "            # print starting Col\n",
    "            for index in range(endRow, startRow-1, -1):\n",
    "                if (count < total):\n",
    "                    ans.append(matrix[index][startCol])\n",
    "                    count += 1\n",
    "            startCol += 1\n",
    "        \n",
    "        return ans"
   ]
  },
  {
   "cell_type": "code",
   "execution_count": 6,
   "id": "b6ecbf15",
   "metadata": {},
   "outputs": [
    {
     "data": {
      "text/plain": [
       "[1, 2, 3, 4, 8, 12, 11, 10, 9, 5, 6, 7]"
      ]
     },
     "execution_count": 6,
     "metadata": {},
     "output_type": "execute_result"
    }
   ],
   "source": [
    "spiralOrder([[1,2,3,4],[5,6,7,8],[9,10,11,12]])"
   ]
  },
  {
   "cell_type": "code",
   "execution_count": null,
   "id": "b849b5d0",
   "metadata": {},
   "outputs": [],
   "source": []
  },
  {
   "cell_type": "code",
   "execution_count": null,
   "id": "c4cc52ec",
   "metadata": {},
   "outputs": [],
   "source": []
  },
  {
   "cell_type": "code",
   "execution_count": 1,
   "id": "e5d91e20",
   "metadata": {},
   "outputs": [],
   "source": [
    "# Binary search in 2D Matrix"
   ]
  },
  {
   "cell_type": "code",
   "execution_count": 3,
   "id": "02079635",
   "metadata": {},
   "outputs": [],
   "source": [
    "def binarySearchIn2D(matrix, target):\n",
    "    \n",
    "    row = len(matrix)\n",
    "    col = len(matrix[0])\n",
    "    start = 0\n",
    "    end = row*col-1\n",
    "    \n",
    "    mid = start + (end-start)//2\n",
    "    \n",
    "    while(start<=end):\n",
    "        element = matrix[mid//col][mid%col]\n",
    "        \n",
    "        if (element == target):\n",
    "            return 1\n",
    "        if (element < target):\n",
    "            start = mid+1\n",
    "        else:\n",
    "            end = mid-1\n",
    "        mid = start + (end-start)//2\n",
    "    \n",
    "    return 0"
   ]
  },
  {
   "cell_type": "code",
   "execution_count": null,
   "id": "b21762a6",
   "metadata": {},
   "outputs": [],
   "source": []
  }
 ],
 "metadata": {
  "kernelspec": {
   "display_name": "Python 3 (ipykernel)",
   "language": "python",
   "name": "python3"
  },
  "language_info": {
   "codemirror_mode": {
    "name": "ipython",
    "version": 3
   },
   "file_extension": ".py",
   "mimetype": "text/x-python",
   "name": "python",
   "nbconvert_exporter": "python",
   "pygments_lexer": "ipython3",
   "version": "3.9.7"
  }
 },
 "nbformat": 4,
 "nbformat_minor": 5
}
