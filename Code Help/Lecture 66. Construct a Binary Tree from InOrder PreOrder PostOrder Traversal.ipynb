{
 "cells": [
  {
   "cell_type": "markdown",
   "id": "d9b9d38c",
   "metadata": {},
   "source": [
    "# Construct Tree using Inorder and Preorder"
   ]
  },
  {
   "cell_type": "code",
   "execution_count": 1,
   "id": "17673a37",
   "metadata": {},
   "outputs": [],
   "source": [
    "# take index element as root\n",
    "# find root element ki position in inorder\n",
    "# call root->left from inorder start to pos-1\n",
    "# call root->right from pos+1 inorder end tak"
   ]
  },
  {
   "cell_type": "code",
   "execution_count": 2,
   "id": "0f5671f5",
   "metadata": {},
   "outputs": [],
   "source": [
    "def createMapping(self, ino, nodeToIndex, n):\n",
    "        for i in range(n):\n",
    "            nodeToIndex[ino[i]] = i\n",
    "    \n",
    "def solve(self, ino, pre, index, inorderStart, inorderEnd, n, nodeToIndex):\n",
    "    # base case\n",
    "    if (index >= n) or (inorderStart>inorderEnd):\n",
    "        return None\n",
    "\n",
    "    # create a root node for element\n",
    "    element = pre[index]\n",
    "    index += 1\n",
    "    root = TreeNode(element)\n",
    "\n",
    "    # find element's index in inorder\n",
    "    position = nodeToIndex[element]\n",
    "\n",
    "    # recursion calls\n",
    "    root.left = self.solve(ino, pre, index, inorderStart, position-1, n, nodeToIndex)\n",
    "    root.right = self.solve(ino, pre, index, position+1, inorderEnd, n, nodeToIndex)\n",
    "\n",
    "    return root\n",
    "\n",
    "def buildTree(self, preorder, inorder):\n",
    "    preOrderIndex = 0\n",
    "    nodeToIndex = {}\n",
    "    n = len(inorder)\n",
    "    # creating index map\n",
    "    self.createMapping(inorder, nodeToIndex, n)\n",
    "\n",
    "    ans = self.solve(inorder, preorder, preOrderIndex, 0, n-1, n, nodeToIndex)\n",
    "    return ans"
   ]
  },
  {
   "cell_type": "code",
   "execution_count": null,
   "id": "caad2029",
   "metadata": {},
   "outputs": [],
   "source": []
  },
  {
   "cell_type": "code",
   "execution_count": null,
   "id": "dfcf351b",
   "metadata": {},
   "outputs": [],
   "source": []
  },
  {
   "cell_type": "code",
   "execution_count": null,
   "id": "ff8f2abf",
   "metadata": {},
   "outputs": [],
   "source": []
  }
 ],
 "metadata": {
  "kernelspec": {
   "display_name": "Python 3 (ipykernel)",
   "language": "python",
   "name": "python3"
  },
  "language_info": {
   "codemirror_mode": {
    "name": "ipython",
    "version": 3
   },
   "file_extension": ".py",
   "mimetype": "text/x-python",
   "name": "python",
   "nbconvert_exporter": "python",
   "pygments_lexer": "ipython3",
   "version": "3.9.7"
  }
 },
 "nbformat": 4,
 "nbformat_minor": 5
}
