{
 "cells": [
  {
   "cell_type": "raw",
   "id": "5a639b54",
   "metadata": {},
   "source": [
    "check notes"
   ]
  },
  {
   "cell_type": "raw",
   "id": "4d8b0c4a",
   "metadata": {},
   "source": [
    "steps:-\n",
    "1. take topological order/sort\n",
    "2. reverse the graph or take transpose\n",
    "3. apply the dfs on topological order answer stack"
   ]
  },
  {
   "cell_type": "code",
   "execution_count": null,
   "id": "20e404eb",
   "metadata": {},
   "outputs": [],
   "source": []
  },
  {
   "cell_type": "code",
   "execution_count": 6,
   "id": "5de8d5bc",
   "metadata": {},
   "outputs": [],
   "source": [
    "from collections import defaultdict\n",
    "\n",
    "def dfs(node, vis, st, adj):\n",
    "    vis[node] = True\n",
    "    for nbr in adj[node]:\n",
    "        if not vis.get(nbr):\n",
    "            dfs(nbr, vis, st, adj)\n",
    "    st.append(node)\n",
    "\n",
    "def revDfs(node, vis, adj):\n",
    "    vis[node] = True\n",
    "    \n",
    "    for nbr in adj[node]:\n",
    "        if not vis.get(nbr):\n",
    "            revDfs(nbr, vis, adj)\n",
    "    \n",
    "\n",
    "\n",
    "def stronglyConnectedComponents(n, edges):\n",
    "    # Write your code here\n",
    "    \n",
    "    # adj list\n",
    "    adj = defaultdict(list)\n",
    "    for i in range(len(edges)):\n",
    "        u = edges[i][0]\n",
    "        v = edges[i][1]\n",
    "        adj[u].append(v)\n",
    "        \n",
    "    # topological sort\n",
    "    st = []\n",
    "    vis = {}\n",
    "    \n",
    "    for i in range(n):\n",
    "        if not vis.get(i):\n",
    "            dfs(i, vis, st, adj)\n",
    "    \n",
    "    # create a transpose graph\n",
    "    transpose = defaultdict(list)\n",
    "    for i in range(n):\n",
    "        vis[i] = False\n",
    "        for nbr in adj[i]:\n",
    "            transpose[nbr].append(i)\n",
    "\n",
    "    count = 0\n",
    "    # dsf call using topological order\n",
    "    while (len(st)>0):\n",
    "        top = st[-1]\n",
    "        st.pop()\n",
    "        if not vis.get(top):\n",
    "            count += 1\n",
    "            revDfs(top, vis, transpose)\n",
    "    \n",
    "    return count"
   ]
  },
  {
   "cell_type": "code",
   "execution_count": 7,
   "id": "c99951c2",
   "metadata": {},
   "outputs": [
    {
     "data": {
      "text/plain": [
       "2"
      ]
     },
     "execution_count": 7,
     "metadata": {},
     "output_type": "execute_result"
    }
   ],
   "source": [
    "v = 5\n",
    "edges = [[0, 1], [1, 2], [1, 4], [2, 3], [3, 2], [4, 0]]\n",
    "\n",
    "stronglyConnectedComponents(v, edges)"
   ]
  },
  {
   "cell_type": "code",
   "execution_count": null,
   "id": "9415ce01",
   "metadata": {},
   "outputs": [],
   "source": []
  }
 ],
 "metadata": {
  "kernelspec": {
   "display_name": "Python 3 (ipykernel)",
   "language": "python",
   "name": "python3"
  },
  "language_info": {
   "codemirror_mode": {
    "name": "ipython",
    "version": 3
   },
   "file_extension": ".py",
   "mimetype": "text/x-python",
   "name": "python",
   "nbconvert_exporter": "python",
   "pygments_lexer": "ipython3",
   "version": "3.9.7"
  }
 },
 "nbformat": 4,
 "nbformat_minor": 5
}
