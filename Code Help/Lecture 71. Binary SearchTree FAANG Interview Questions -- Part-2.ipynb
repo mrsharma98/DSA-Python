{
 "cells": [
  {
   "cell_type": "markdown",
   "id": "197ec138",
   "metadata": {},
   "source": [
    "# Two Sum in BST"
   ]
  },
  {
   "cell_type": "raw",
   "id": "6e57b636",
   "metadata": {},
   "source": [
    "https://leetcode.com/problems/two-sum-iv-input-is-a-bst/"
   ]
  },
  {
   "cell_type": "raw",
   "id": "d9935ebb",
   "metadata": {},
   "source": [
    "Approach-1\n",
    "\n",
    "take the node value\n",
    "subtract it from target and search for the remaining value node\n",
    "O(n^2)"
   ]
  },
  {
   "cell_type": "raw",
   "id": "56837bb7",
   "metadata": {},
   "source": [
    "Approach-2\n",
    "\n",
    "Take help of inorder\n",
    "now take 2 pointer, put one at start and one at end\n",
    "if equal return ans\n",
    "if sum>target j--\n",
    "if sum<target i++"
   ]
  },
  {
   "cell_type": "code",
   "execution_count": null,
   "id": "d1a49961",
   "metadata": {},
   "outputs": [],
   "source": [
    "def inorderTraversal(root, inorder):\n",
    "    if root == None:\n",
    "        return\n",
    "    \n",
    "    inorderTraversal(root.left, inorder)\n",
    "    inorder.append(root.data)\n",
    "    inorderTraversal(root.right, inorder)\n",
    "\n",
    "\n",
    "def twoSum(root, target):\n",
    "    inorder = []\n",
    "    inorderTraversal(root, inorder)\n",
    "    \n",
    "    i = 0\n",
    "    j = len(inorder)-1\n",
    "    \n",
    "    while (i<j):\n",
    "        summ = inorder[i]+inorder[j]\n",
    "        if target == summ:\n",
    "            return True\n",
    "        elif summ> target:\n",
    "            j -= 1\n",
    "        else:\n",
    "            i += 1\n",
    "            \n",
    "    return False\n",
    "\n",
    "# TC = O(n)\n",
    "# SC = O(n)"
   ]
  },
  {
   "cell_type": "code",
   "execution_count": null,
   "id": "ca1f9da2",
   "metadata": {},
   "outputs": [],
   "source": []
  },
  {
   "cell_type": "code",
   "execution_count": null,
   "id": "2d40718f",
   "metadata": {},
   "outputs": [],
   "source": []
  },
  {
   "cell_type": "markdown",
   "id": "d3bad0cc",
   "metadata": {},
   "source": [
    "# Flatten a BST to LL"
   ]
  },
  {
   "cell_type": "raw",
   "id": "b7c0ac9c",
   "metadata": {},
   "source": [
    "Approach-1\n",
    "\n",
    "get inorder (sorted) as node\n",
    "now make left pointer or node as null\n",
    "and point right pointer to the next node in the array\n",
    "last node, make left and right both null\n",
    "\n",
    "\n",
    "TC and SC:- O(n)"
   ]
  },
  {
   "cell_type": "raw",
   "id": "9971f00d",
   "metadata": {},
   "source": [
    "Approach-2\n",
    "\n",
    "stored inorder as int\n",
    "create node with first value and do the same for all"
   ]
  },
  {
   "cell_type": "code",
   "execution_count": null,
   "id": "48ff37cd",
   "metadata": {},
   "outputs": [],
   "source": [
    "# Approach-2\n",
    "\n",
    "def inorderTraversal(root, inorder):\n",
    "    if root == None:\n",
    "        return\n",
    "    \n",
    "    inordertraversal(root.left, inorder)\n",
    "    inorder.append(root.data)\n",
    "    inordertraversal(root.right, inorder)\n",
    "    \n",
    "\n",
    "def flattenBSTToLL(root):\n",
    "    inorder = []\n",
    "    inorderTraversal(root, inorder)\n",
    "    \n",
    "    newRoot = Node(inorder[0])\n",
    "    \n",
    "    curr = newRoot\n",
    "    for i in range(len(1, inorder)):\n",
    "        temp = Node(inorder[i])\n",
    "        curr.left = None\n",
    "        curr.right = temp\n",
    "        curr = temp\n",
    "        \n",
    "    curr.left = None\n",
    "    curr.right = None\n",
    "    \n",
    "    return newRoot"
   ]
  },
  {
   "cell_type": "code",
   "execution_count": null,
   "id": "69185a65",
   "metadata": {},
   "outputs": [],
   "source": []
  },
  {
   "cell_type": "code",
   "execution_count": null,
   "id": "7c039d68",
   "metadata": {},
   "outputs": [],
   "source": []
  },
  {
   "cell_type": "code",
   "execution_count": 1,
   "id": "444418e4",
   "metadata": {},
   "outputs": [],
   "source": [
    "# Normal BST to Balanced BST"
   ]
  },
  {
   "cell_type": "raw",
   "id": "c6a38cda",
   "metadata": {},
   "source": [
    "Approach\n",
    "\n",
    "get inorder\n",
    "find mid and make it root\n",
    "divide in left and right, and follow the above step again"
   ]
  },
  {
   "cell_type": "code",
   "execution_count": null,
   "id": "b0b1233f",
   "metadata": {},
   "outputs": [],
   "source": [
    "def inorderTraversal(root, inorder):\n",
    "    if root == None:\n",
    "        return\n",
    "    \n",
    "    inordertraversal(root.left, inorder)\n",
    "    inorder.append(root.data)\n",
    "    inordertraversal(root.right, inorder)\n",
    "\n",
    "\n",
    "def inorderToBST(s, e, inorderVal):\n",
    "    if s>e:\n",
    "        return None\n",
    "    \n",
    "    mid = (s+e)//2\n",
    "    root = Node(inorderVal[mid])\n",
    "    root.left = inorderToBST(s, mid-1, inorderVal)\n",
    "    root.right = inorderToBST(mid+1, e, inorderVal)\n",
    "    return root\n",
    "\n",
    "def balaceBST(root):\n",
    "    inorder = []\n",
    "    inorderTraversal(root, inorder)\n",
    "    return inorderToBST(0, len(inorder)-1, inorder)\n",
    "\n",
    "# TC and SC:- O(n)"
   ]
  },
  {
   "cell_type": "code",
   "execution_count": null,
   "id": "35f77cf0",
   "metadata": {},
   "outputs": [],
   "source": []
  },
  {
   "cell_type": "code",
   "execution_count": null,
   "id": "e68f3aa3",
   "metadata": {},
   "outputs": [],
   "source": []
  },
  {
   "cell_type": "markdown",
   "id": "8956ecf6",
   "metadata": {},
   "source": [
    "# BST from preorder traversal"
   ]
  },
  {
   "cell_type": "raw",
   "id": "97d58504",
   "metadata": {},
   "source": [
    "preorder --> Root Left Right"
   ]
  },
  {
   "cell_type": "raw",
   "id": "60f5f516",
   "metadata": {},
   "source": [
    "Approach-1\n",
    "\n",
    "first node is root -- always\n",
    "then apply the left right--i.e. lesser and more rule\n",
    "using insert a node in BST\n",
    "\n",
    "TC:- O(n^2)"
   ]
  },
  {
   "cell_type": "raw",
   "id": "9a6786e3",
   "metadata": {},
   "source": [
    "Approach-2\n",
    "\n",
    "get inorder from preorder by sorting preorder\n",
    "now, we have inorder and preorder\n",
    "construct a tree using them\n",
    "\n",
    "TC:- O(nlogn)"
   ]
  },
  {
   "cell_type": "raw",
   "id": "017d0822",
   "metadata": {},
   "source": [
    "Approach-3\n",
    "\n",
    "we will have a min and max value for every node to be created\n",
    "will check for it and add the node\n",
    "\n",
    "TC:- O(n)"
   ]
  },
  {
   "cell_type": "code",
   "execution_count": null,
   "id": "f59ebda8",
   "metadata": {},
   "outputs": [],
   "source": [
    "def solve(preorder, mini, maxi, index):\n",
    "    if i>=len(preorder):\n",
    "        return\n",
    "    \n",
    "    if preorder[i]<mini or preorder[i]>maxi:\n",
    "        return None\n",
    "    root = Node(preorder[i])\n",
    "    root.left = solve(preorder, mini, root.data, i+1)\n",
    "    root.right = solve(preorder, root.data, maxi, i+1)\n",
    "    return root\n",
    "    \n",
    "    \n",
    "\n",
    "def preorderToBST(preorder):\n",
    "    mini = -9999999\n",
    "    maxi = 9999999\n",
    "    return solve(preorder, mini, maxi, 0)"
   ]
  },
  {
   "cell_type": "code",
   "execution_count": null,
   "id": "60a89e72",
   "metadata": {},
   "outputs": [],
   "source": []
  },
  {
   "cell_type": "code",
   "execution_count": null,
   "id": "b3c0cb72",
   "metadata": {},
   "outputs": [],
   "source": []
  },
  {
   "cell_type": "code",
   "execution_count": null,
   "id": "b2a50820",
   "metadata": {},
   "outputs": [],
   "source": []
  },
  {
   "cell_type": "code",
   "execution_count": null,
   "id": "9f1fb0cd",
   "metadata": {},
   "outputs": [],
   "source": []
  }
 ],
 "metadata": {
  "kernelspec": {
   "display_name": "Python 3 (ipykernel)",
   "language": "python",
   "name": "python3"
  },
  "language_info": {
   "codemirror_mode": {
    "name": "ipython",
    "version": 3
   },
   "file_extension": ".py",
   "mimetype": "text/x-python",
   "name": "python",
   "nbconvert_exporter": "python",
   "pygments_lexer": "ipython3",
   "version": "3.9.7"
  }
 },
 "nbformat": 4,
 "nbformat_minor": 5
}
