{
 "cells": [
  {
   "cell_type": "raw",
   "id": "8cff1a57",
   "metadata": {},
   "source": [
    "https://leetcode.com/problems/critical-connections-in-a-network/"
   ]
  },
  {
   "cell_type": "code",
   "execution_count": 4,
   "id": "6d537092",
   "metadata": {},
   "outputs": [],
   "source": [
    "from collections import defaultdict\n",
    "\n",
    "def dfs(node, parent, timer, disc, low, res, adj, vis):\n",
    "#     print(disc, low, node)\n",
    "    vis[node] = True\n",
    "    disc[node] = low[node] = timer\n",
    "    timer += 1\n",
    "    \n",
    "    for nei in adj[node]:\n",
    "        if nei == parent:\n",
    "            continue\n",
    "        if not vis.get(nei):\n",
    "            dfs(nei, node, timer, disc, low, res, adj, vis)\n",
    "            low[node] = min(low[node], low[nei])\n",
    "            # check edge is bridge\n",
    "            if low[nei] > disc[node]:\n",
    "                res.append([node, nei])\n",
    "        else:\n",
    "            # back edge\n",
    "            low[node] = min(low[node], disc[nei])\n",
    "\n",
    "def findBridges(edges, v, e):\n",
    "    if (v==1 or v==2):\n",
    "        return edges\n",
    "\n",
    "    # Write your code gere\n",
    "    # adj list\n",
    "    adj = defaultdict(list)\n",
    "    for i in range(e):\n",
    "        u = edges[i][0]\n",
    "        a = edges[i][1]\n",
    "        adj[u].append(a)\n",
    "        adj[a].append(u)\n",
    "#     print(adj)\n",
    "    timer = 0\n",
    "    disc = [-1]*v #discovery time\n",
    "    low = [-1]*v\n",
    "    parent = -1\n",
    "    vis = {}\n",
    "    result = []\n",
    "#     print(v, e, disc, low)\n",
    "    #dfs\n",
    "    for i in range(v):\n",
    "        if not vis.get(i):\n",
    "            dfs(i, parent, timer, disc, low, result, adj, vis)\n",
    "            \n",
    "    return result\n"
   ]
  },
  {
   "cell_type": "code",
   "execution_count": null,
   "id": "d1e7d035",
   "metadata": {},
   "outputs": [],
   "source": []
  },
  {
   "cell_type": "code",
   "execution_count": null,
   "id": "2815e16f",
   "metadata": {},
   "outputs": [],
   "source": []
  },
  {
   "cell_type": "code",
   "execution_count": null,
   "id": "233c15ab",
   "metadata": {},
   "outputs": [],
   "source": []
  },
  {
   "cell_type": "code",
   "execution_count": null,
   "id": "b1e8b470",
   "metadata": {},
   "outputs": [],
   "source": []
  }
 ],
 "metadata": {
  "kernelspec": {
   "display_name": "Python 3 (ipykernel)",
   "language": "python",
   "name": "python3"
  },
  "language_info": {
   "codemirror_mode": {
    "name": "ipython",
    "version": 3
   },
   "file_extension": ".py",
   "mimetype": "text/x-python",
   "name": "python",
   "nbconvert_exporter": "python",
   "pygments_lexer": "ipython3",
   "version": "3.9.7"
  }
 },
 "nbformat": 4,
 "nbformat_minor": 5
}
