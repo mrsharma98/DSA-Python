{
 "cells": [
  {
   "cell_type": "code",
   "execution_count": 1,
   "id": "a56d861a",
   "metadata": {},
   "outputs": [],
   "source": [
    "from collections import defaultdict\n",
    "\n",
    "class Graph:\n",
    "    # unordered map = <int, list<int>>\n",
    "    adj = defaultdict(list)\n",
    "    \n",
    "    def addEdge(self, u, v, direction):\n",
    "        # direction=0 -> undirected graph\n",
    "        # direction=1 -> directed graph\n",
    "        \n",
    "        # create an egde from u to v\n",
    "        self.adj[u].append(v)\n",
    "        \n",
    "        if not direction:\n",
    "            self.adj[v].append(u)\n",
    "        \n",
    "    \n",
    "    def printAdjList(self):\n",
    "        for i in self.adj:\n",
    "            print(i, \"->\", end=\" \")\n",
    "            for j in self.adj[i]:\n",
    "                print(j, end=\" \")\n",
    "            print()"
   ]
  },
  {
   "cell_type": "code",
   "execution_count": 2,
   "id": "98664122",
   "metadata": {},
   "outputs": [
    {
     "name": "stdout",
     "output_type": "stream",
     "text": [
      "Enter node: 4\n",
      "Enter edges: 5\n",
      "0 1\n",
      "0 2\n",
      "0 3\n",
      "1 3\n",
      "2 3\n",
      "0 -> 1 2 3 \n",
      "1 -> 0 3 \n",
      "2 -> 0 3 \n",
      "3 -> 0 1 2 \n"
     ]
    }
   ],
   "source": [
    "n = int(input('Enter node: '))\n",
    "m = int(input('Enter edges: '))\n",
    "\n",
    "g = Graph()\n",
    "\n",
    "for i in range(m):\n",
    "    u, v = input().split(\" \")\n",
    "    u, v = int(u), int(v)\n",
    "    # undirected graph\n",
    "    g.addEdge(u, v, 0)\n",
    "    \n",
    "\n",
    "# print graph\n",
    "g.printAdjList()"
   ]
  },
  {
   "cell_type": "code",
   "execution_count": null,
   "id": "74434c43",
   "metadata": {},
   "outputs": [],
   "source": []
  },
  {
   "cell_type": "code",
   "execution_count": null,
   "id": "89b6c430",
   "metadata": {},
   "outputs": [],
   "source": []
  },
  {
   "cell_type": "raw",
   "id": "cde5974e",
   "metadata": {},
   "source": [
    "https://www.codingninjas.com/codestudio/problems/create-a-graph-and-print-it_1214551?"
   ]
  },
  {
   "cell_type": "code",
   "execution_count": 3,
   "id": "2559213d",
   "metadata": {},
   "outputs": [],
   "source": [
    "def printAdjacency(n, m, edges):\n",
    "    ans = [None]*n\n",
    "    for i in range(n):\n",
    "        # edge is always between 2 node\n",
    "        u = edges[i][0]\n",
    "        v = edges[i][1]\n",
    "        \n",
    "        ans[u].append(v)\n",
    "        ans[v].append(u)\n",
    "        \n",
    "    adj = [None]*n\n",
    "    \n",
    "    for i in range(n):\n",
    "        adj[i].append(i)\n",
    "        \n",
    "        for i in range(len(ans[i])):\n",
    "            adj[i].append(ans[i][j])"
   ]
  },
  {
   "cell_type": "code",
   "execution_count": 2,
   "id": "ea01c203",
   "metadata": {},
   "outputs": [
    {
     "data": {
      "text/plain": [
       "[[], [], [], [], []]"
      ]
     },
     "execution_count": 2,
     "metadata": {},
     "output_type": "execute_result"
    }
   ],
   "source": [
    "[[] for _ in range(5)]"
   ]
  },
  {
   "cell_type": "code",
   "execution_count": null,
   "id": "703016b6",
   "metadata": {},
   "outputs": [],
   "source": []
  }
 ],
 "metadata": {
  "kernelspec": {
   "display_name": "Python 3 (ipykernel)",
   "language": "python",
   "name": "python3"
  },
  "language_info": {
   "codemirror_mode": {
    "name": "ipython",
    "version": 3
   },
   "file_extension": ".py",
   "mimetype": "text/x-python",
   "name": "python",
   "nbconvert_exporter": "python",
   "pygments_lexer": "ipython3",
   "version": "3.9.7"
  }
 },
 "nbformat": 4,
 "nbformat_minor": 5
}
