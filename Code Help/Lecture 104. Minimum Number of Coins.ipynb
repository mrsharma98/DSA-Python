{
 "cells": [
  {
   "cell_type": "raw",
   "id": "2f824d57",
   "metadata": {},
   "source": [
    "https://leetcode.com/problems/coin-change/"
   ]
  },
  {
   "cell_type": "code",
   "execution_count": 15,
   "id": "4b6d88dd",
   "metadata": {},
   "outputs": [],
   "source": [
    "##### ONLY RECURSION #####\n",
    "\n",
    "import sys\n",
    "class Solution:\n",
    "    def solveRec(self, num, x):\n",
    "        if (x==0):\n",
    "            return 0\n",
    "        if x<0:\n",
    "            return sys.maxsize\n",
    "        \n",
    "        mini = sys.maxsize\n",
    "        for i in range(len(num)):\n",
    "            ans = self.solveRec(num, x-num[i])\n",
    "            if ans != sys.maxsize:\n",
    "                mini = min(mini, 1+ans)\n",
    "            \n",
    "        return mini\n",
    "        \n",
    "    \n",
    "    def coinChange(self, num, x):\n",
    "        ans = self.solveRec(num, x)\n",
    "        if ans == sys.maxsize:\n",
    "            return -1\n",
    "        return ans"
   ]
  },
  {
   "cell_type": "code",
   "execution_count": null,
   "id": "239f06cc",
   "metadata": {},
   "outputs": [],
   "source": []
  },
  {
   "cell_type": "code",
   "execution_count": 30,
   "id": "e8cd2d37",
   "metadata": {},
   "outputs": [],
   "source": [
    "##### RECURSION + MEMOIZATION #####\n",
    "\n",
    "import sys\n",
    "class Solution:\n",
    "    def solveMem(self, num, x, dp):\n",
    "        if (x==0):\n",
    "            return 0\n",
    "        if x<0:\n",
    "            return sys.maxsize\n",
    "        \n",
    "        if dp[x]!=-1:\n",
    "            return dp[x]\n",
    "        \n",
    "        mini = sys.maxsize\n",
    "        for i in range(len(num)):\n",
    "            ans = self.solveMem(num, x-num[i], dp)\n",
    "            if ans != sys.maxsize:\n",
    "                mini = min(mini, 1+ans)\n",
    "        \n",
    "        dp[x] = mini\n",
    "        \n",
    "        return mini\n",
    "        \n",
    "    \n",
    "    def coinChange(self, num, x):\n",
    "        dp = [-1]*(x+1)\n",
    "        ans = self.solveMem(num, x, dp)\n",
    "        if ans == sys.maxsize:\n",
    "            return -1\n",
    "        return ans"
   ]
  },
  {
   "cell_type": "raw",
   "id": "6ba0892e",
   "metadata": {},
   "source": [
    "TC:- O(x*n)\n",
    "SC:- O(x) + O(x) = O(x)"
   ]
  },
  {
   "cell_type": "code",
   "execution_count": null,
   "id": "8149df75",
   "metadata": {},
   "outputs": [],
   "source": []
  },
  {
   "cell_type": "code",
   "execution_count": null,
   "id": "611badb7",
   "metadata": {},
   "outputs": [],
   "source": []
  },
  {
   "cell_type": "code",
   "execution_count": 38,
   "id": "751f56da",
   "metadata": {},
   "outputs": [],
   "source": [
    "##### TABULATION #####\n",
    "\n",
    "import sys\n",
    "class Solution:\n",
    "    def solveTab(self, num, x):\n",
    "        dp = [sys.maxsize]*(x+1)\n",
    "        dp[0] = 0\n",
    "        \n",
    "        for i in range(1, x+1):\n",
    "            # solve for every amount figure from 1 to x\n",
    "            for j in range(len(num)):\n",
    "                if (i-num[j]>=0 and dp[i-num[j]]!=sys.maxsize):\n",
    "                    dp[i] = min(dp[i], 1+dp[i-num[j]])\n",
    "            \n",
    "        if dp[x]==sys.maxsize:\n",
    "            return -1\n",
    "        \n",
    "        return dp[x]\n",
    "        \n",
    "    \n",
    "    def coinChange(self, num, x):\n",
    "        return self.solveTab(num, x)"
   ]
  },
  {
   "cell_type": "raw",
   "id": "7f11a21f",
   "metadata": {},
   "source": [
    "TC:- O(x*n)\n",
    "SC:- O(x)"
   ]
  },
  {
   "cell_type": "code",
   "execution_count": null,
   "id": "e4aa8df6",
   "metadata": {},
   "outputs": [],
   "source": []
  },
  {
   "cell_type": "code",
   "execution_count": null,
   "id": "24c5fb44",
   "metadata": {},
   "outputs": [],
   "source": [
    "##### SPACE OPTIMIZATI #####\n",
    "\n",
    "import sys\n",
    "class Solution:\n",
    "    def solveTab(self, num, x):\n",
    "        dp = [sys.maxsize]*(x+1)\n",
    "        dp[0] = 0\n",
    "        \n",
    "        for i in range(1, x+1):\n",
    "            # solve for every amount figure from 1 to x\n",
    "            for j in range(len(num)):\n",
    "                if (i-num[j]>=0 and dp[i-num[j]]!=sys.maxsize):\n",
    "                    dp[i] = min(dp[i], 1+dp[i-num[j]])\n",
    "            \n",
    "        if dp[x]==sys.maxsize:\n",
    "            return -1\n",
    "        \n",
    "        return dp[x]\n",
    "        \n",
    "    \n",
    "    def coinChange(self, num, x):\n",
    "        return self.solveTab(num, x)"
   ]
  },
  {
   "cell_type": "code",
   "execution_count": 39,
   "id": "484b60ae",
   "metadata": {},
   "outputs": [],
   "source": [
    "s = Solution()\n",
    "num = [1,2,4]\n",
    "x = 10"
   ]
  },
  {
   "cell_type": "code",
   "execution_count": 40,
   "id": "8fd3a41a",
   "metadata": {},
   "outputs": [
    {
     "data": {
      "text/plain": [
       "3"
      ]
     },
     "execution_count": 40,
     "metadata": {},
     "output_type": "execute_result"
    }
   ],
   "source": [
    "s.coinChange(num, x)"
   ]
  },
  {
   "cell_type": "code",
   "execution_count": null,
   "id": "6daf6695",
   "metadata": {},
   "outputs": [],
   "source": []
  },
  {
   "cell_type": "code",
   "execution_count": null,
   "id": "a5ad30bc",
   "metadata": {},
   "outputs": [],
   "source": []
  }
 ],
 "metadata": {
  "kernelspec": {
   "display_name": "Python 3 (ipykernel)",
   "language": "python",
   "name": "python3"
  },
  "language_info": {
   "codemirror_mode": {
    "name": "ipython",
    "version": 3
   },
   "file_extension": ".py",
   "mimetype": "text/x-python",
   "name": "python",
   "nbconvert_exporter": "python",
   "pygments_lexer": "ipython3",
   "version": "3.9.7"
  }
 },
 "nbformat": 4,
 "nbformat_minor": 5
}
