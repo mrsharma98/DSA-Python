{
 "cells": [
  {
   "cell_type": "code",
   "execution_count": null,
   "id": "0091b61c",
   "metadata": {},
   "outputs": [],
   "source": []
  },
  {
   "cell_type": "code",
   "execution_count": null,
   "id": "2128a868",
   "metadata": {},
   "outputs": [],
   "source": []
  },
  {
   "cell_type": "code",
   "execution_count": null,
   "id": "cebed480",
   "metadata": {},
   "outputs": [],
   "source": []
  },
  {
   "cell_type": "code",
   "execution_count": 1,
   "id": "00fea3ba",
   "metadata": {},
   "outputs": [],
   "source": [
    "def topoSort(node, visited, stack, adj):\n",
    "    visited[node] = 1\n",
    "    \n",
    "    for neighbour in adj[node]:\n",
    "        if not visited[neighbour]:\n",
    "            topoSort(neighbour, visited, stack, adj)\n",
    "    stack.append(node)\n",
    "\n",
    "\n",
    "def TopologicalSort(edges, n, m):\n",
    "    adj = {}\n",
    "    \n",
    "    for i in range(m):\n",
    "        u = edges[i][0]\n",
    "        v = edges[i][1]\n",
    "        adj.setdefault(u, []).append(v)\n",
    "        \n",
    "    visited = [0]*n\n",
    "    stack = []\n",
    "    # call dfs topological sort util function for all components\n",
    "    for i in range(0, n):\n",
    "        if not visited[i]:\n",
    "            topoSort(i, visited, stack, adj)\n",
    "    \n",
    "    ans = []\n",
    "    while len(s)>0:\n",
    "        elem = s.pop()\n",
    "        ans.append(elem)\n",
    "    \n",
    "    return ans"
   ]
  },
  {
   "cell_type": "code",
   "execution_count": null,
   "id": "4dc1c7be",
   "metadata": {},
   "outputs": [],
   "source": []
  },
  {
   "cell_type": "code",
   "execution_count": null,
   "id": "67482af1",
   "metadata": {},
   "outputs": [],
   "source": []
  },
  {
   "cell_type": "code",
   "execution_count": 1,
   "id": "38cfa9c7",
   "metadata": {},
   "outputs": [],
   "source": [
    "# Practice"
   ]
  },
  {
   "cell_type": "code",
   "execution_count": null,
   "id": "3f34da1f",
   "metadata": {},
   "outputs": [],
   "source": []
  },
  {
   "cell_type": "code",
   "execution_count": null,
   "id": "3566f9ac",
   "metadata": {},
   "outputs": [],
   "source": []
  }
 ],
 "metadata": {
  "kernelspec": {
   "display_name": "Python 3 (ipykernel)",
   "language": "python",
   "name": "python3"
  },
  "language_info": {
   "codemirror_mode": {
    "name": "ipython",
    "version": 3
   },
   "file_extension": ".py",
   "mimetype": "text/x-python",
   "name": "python",
   "nbconvert_exporter": "python",
   "pygments_lexer": "ipython3",
   "version": "3.9.7"
  }
 },
 "nbformat": 4,
 "nbformat_minor": 5
}
