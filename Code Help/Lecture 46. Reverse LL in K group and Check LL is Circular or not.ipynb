{
 "cells": [
  {
   "cell_type": "code",
   "execution_count": 1,
   "id": "165892ca",
   "metadata": {},
   "outputs": [],
   "source": [
    "# Reverse LL in \"K group\""
   ]
  },
  {
   "cell_type": "code",
   "execution_count": 5,
   "id": "fe8936de",
   "metadata": {},
   "outputs": [],
   "source": [
    "def isPossible(node, k):\n",
    "    curr = node\n",
    "    while k>0 and curr != None:\n",
    "        curr = curr.next\n",
    "        k -= 1\n",
    "    if k == 0:\n",
    "        return True\n",
    "    return False\n",
    "\n",
    "def kReverse(head, k):\n",
    "    if head == None or head.next == None:\n",
    "        return head    \n",
    "    # Step 1: reverse first k nodes\n",
    "    nxt = None\n",
    "    curr = head\n",
    "    prev = None\n",
    "    count = 0\n",
    "    \n",
    "    isPsb = isPossible(head, k)\n",
    "    if not isPsb:\n",
    "        return head\n",
    "    \n",
    "    while curr != None and count < k:\n",
    "        nxt = curr.next\n",
    "        curr.next = prev\n",
    "        prev = curr\n",
    "        curr = nxt\n",
    "        count += 1\n",
    "        \n",
    "    # Step 2: Recursion will handle\n",
    "    if (nxt != None):\n",
    "        head.next = kReverse(nxt, k)\n",
    "        \n",
    "    # Step 3: return head of reversed list\n",
    "    return prev"
   ]
  },
  {
   "cell_type": "code",
   "execution_count": null,
   "id": "4a9ecb31",
   "metadata": {},
   "outputs": [],
   "source": []
  }
 ],
 "metadata": {
  "kernelspec": {
   "display_name": "Python 3 (ipykernel)",
   "language": "python",
   "name": "python3"
  },
  "language_info": {
   "codemirror_mode": {
    "name": "ipython",
    "version": 3
   },
   "file_extension": ".py",
   "mimetype": "text/x-python",
   "name": "python",
   "nbconvert_exporter": "python",
   "pygments_lexer": "ipython3",
   "version": "3.9.7"
  }
 },
 "nbformat": 4,
 "nbformat_minor": 5
}
