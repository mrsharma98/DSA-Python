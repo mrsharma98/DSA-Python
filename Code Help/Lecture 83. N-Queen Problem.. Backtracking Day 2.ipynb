{
 "cells": [
  {
   "cell_type": "raw",
   "id": "b26c98aa",
   "metadata": {},
   "source": [
    "Place n Queens in n*n chessboard\n",
    "\n",
    "conditions:\n",
    "    -- each row --> 1Q\n",
    "    -- each col --> 1Q\n",
    "    -- No two Queen attack each other"
   ]
  },
  {
   "cell_type": "raw",
   "id": "1a00e6d6",
   "metadata": {},
   "source": [
    "possible output:- \n",
    "Queen in 4x4 are at:\n",
    "    (0,2), (1,0), (2,3), (3,1)"
   ]
  },
  {
   "cell_type": "raw",
   "id": "18e9d0d1",
   "metadata": {},
   "source": [
    "Approach:-\n",
    "\n",
    "we are just placing a Queen in one column and traversing all the rows in that col and checking, rest recursion will take care.\n",
    "\n",
    "hum 1Queen at a time 1col me place karege and next col me jayege\n",
    "so check k time humhe right side and same col me check nai karna pade bcz hum left to right ja rahe h\n",
    "hum bas ROW and left side k DONO DIAGONAL check karne honge\n",
    "\n",
    "TC:- O(n!)\n",
    "SC:- O(n*n)"
   ]
  },
  {
   "cell_type": "code",
   "execution_count": 5,
   "id": "6a4bbdc2",
   "metadata": {},
   "outputs": [],
   "source": [
    "def addSolution(ans, board, n):\n",
    "    temp = []\n",
    "    for i in range(n):\n",
    "        for j in range(n):\n",
    "             temp = [board[i][j]]\n",
    "    ans.append(temp)\n",
    "\n",
    "\n",
    "def isSafe(row, col, board, n):\n",
    "    # check for the conditions given above\n",
    "    \n",
    "    # we are placing Queens to right so we will just check if any queen is present at the left for row\n",
    "    x, y = row, col\n",
    "    # check for same row\n",
    "    while (y>=0):\n",
    "        if board[x][y] == 1:\n",
    "            return False\n",
    "        y -= 1\n",
    "    \n",
    "    # we don't need to check the col, as hum 1 Queen ek col me daal rahe h\n",
    "    # hum bas 1col me 1Q place kar rahe h and next cl me ja rahe hai \n",
    "    \n",
    "    # check for diagonal, but just in the left side bcz no Queen at right\n",
    "    x, y = row, col\n",
    "    \n",
    "    # check of left upper diagonal\n",
    "    while (x>=0 and y>=0):\n",
    "        if board[x][y] == 1:\n",
    "            return False\n",
    "        x -= 1\n",
    "        y -= 1\n",
    "    \n",
    "    x, y = row, col\n",
    "    # check for left lower diagonal\n",
    "    while (x>=0 and y>=0):\n",
    "        if board[x][y] == 1:\n",
    "            return False\n",
    "        x +- 1\n",
    "        y -= 1\n",
    "    \n",
    "    return True\n",
    "    \n",
    "    \n",
    "def solve(col, ans, board, n):\n",
    "    # base case\n",
    "    # saare columns bhar gye\n",
    "    if col == n:\n",
    "        addSolution(ans, board, n)\n",
    "        return\n",
    "    \n",
    "    # solve 1 case and recursion will take care of all\n",
    "    for row in range(n):\n",
    "        # kya ye place pe queen rakhna safe hai?\n",
    "        if isSafe(row, col, board, n):\n",
    "            # if yes\n",
    "            board[row][col] = 1\n",
    "            print(board)\n",
    "            solve(col+1, ans, board, n)\n",
    "            board[row][col] = 0\n",
    "        \n",
    "    \n",
    "\n",
    "\n",
    "def nQueens(n):\n",
    "    board = [[0]*n for _ in range(n)]\n",
    "    ans = []\n",
    "    col = 0\n",
    "    solve(0, ans, board, n)\n",
    "    return ans"
   ]
  },
  {
   "cell_type": "raw",
   "id": "52c7d18a",
   "metadata": {},
   "source": [
    "this can be optimized\n",
    "checking row, diagonal checking hum O(n) me kar rahe hai\n",
    "let's reduced it to O(1)\n",
    "use MAPS\n",
    "\n",
    "Row k liye:-\n",
    "<row, True/False>\n",
    "hum row number check karke skip kar sakte h vo row\n",
    "\n",
    "Diagonal k liye:-\n",
    "FOR LOWER DIAGONAL\n",
    "sum of row and col, diagonal ka sum same hoga\n",
    "<sum(row, col), True/False>\n",
    "\n",
    "FOR UPPER DIAGONAL\n",
    "Formula = (n-1)+col-row\n",
    "<formula, True/False>\n",
    "\n",
    "TC:- O(n!)"
   ]
  },
  {
   "cell_type": "code",
   "execution_count": 6,
   "id": "7ec6547f",
   "metadata": {},
   "outputs": [
    {
     "name": "stdout",
     "output_type": "stream",
     "text": [
      "[[1, 0, 0, 0], [0, 0, 0, 0], [0, 0, 0, 0], [0, 0, 0, 0]]\n",
      "[[1, 0, 0, 0], [0, 0, 0, 0], [0, 1, 0, 0], [0, 0, 0, 0]]\n",
      "[[1, 0, 0, 0], [0, 0, 1, 0], [0, 1, 0, 0], [0, 0, 0, 0]]\n",
      "[[1, 0, 0, 0], [0, 0, 0, 0], [0, 0, 0, 0], [0, 1, 0, 0]]\n",
      "[[1, 0, 0, 0], [0, 0, 1, 0], [0, 0, 0, 0], [0, 1, 0, 0]]\n",
      "[[0, 0, 0, 0], [1, 0, 0, 0], [0, 0, 0, 0], [0, 0, 0, 0]]\n",
      "[[0, 1, 0, 0], [1, 0, 0, 0], [0, 0, 0, 0], [0, 0, 0, 0]]\n",
      "[[0, 1, 0, 0], [1, 0, 0, 0], [0, 0, 1, 0], [0, 0, 0, 0]]\n",
      "[[0, 0, 0, 0], [1, 0, 0, 0], [0, 0, 0, 0], [0, 1, 0, 0]]\n",
      "[[0, 0, 1, 0], [1, 0, 0, 0], [0, 0, 0, 0], [0, 1, 0, 0]]\n",
      "[[0, 0, 1, 0], [1, 0, 0, 0], [0, 0, 0, 1], [0, 1, 0, 0]]\n",
      "[[0, 0, 0, 0], [1, 0, 0, 0], [0, 0, 1, 0], [0, 1, 0, 0]]\n",
      "[[0, 0, 0, 1], [1, 0, 0, 0], [0, 0, 1, 0], [0, 1, 0, 0]]\n",
      "[[0, 0, 0, 0], [0, 0, 0, 0], [1, 0, 0, 0], [0, 0, 0, 0]]\n",
      "[[0, 1, 0, 0], [0, 0, 0, 0], [1, 0, 0, 0], [0, 0, 0, 0]]\n",
      "[[0, 1, 0, 0], [0, 0, 0, 0], [1, 0, 0, 0], [0, 0, 1, 0]]\n",
      "[[0, 1, 0, 0], [0, 0, 0, 1], [1, 0, 0, 0], [0, 0, 1, 0]]\n",
      "[[0, 0, 0, 0], [0, 1, 0, 0], [1, 0, 0, 0], [0, 0, 0, 0]]\n",
      "[[0, 0, 1, 0], [0, 1, 0, 0], [1, 0, 0, 0], [0, 0, 0, 0]]\n",
      "[[0, 0, 0, 0], [0, 1, 0, 0], [1, 0, 0, 0], [0, 0, 1, 0]]\n",
      "[[0, 0, 0, 1], [0, 1, 0, 0], [1, 0, 0, 0], [0, 0, 1, 0]]\n",
      "[[0, 0, 0, 0], [0, 0, 0, 0], [0, 0, 0, 0], [1, 0, 0, 0]]\n",
      "[[0, 1, 0, 0], [0, 0, 0, 0], [0, 0, 0, 0], [1, 0, 0, 0]]\n",
      "[[0, 1, 0, 0], [0, 0, 0, 0], [0, 0, 1, 0], [1, 0, 0, 0]]\n",
      "[[0, 1, 0, 0], [0, 0, 0, 1], [0, 0, 1, 0], [1, 0, 0, 0]]\n",
      "[[0, 0, 0, 0], [0, 1, 0, 0], [0, 0, 0, 0], [1, 0, 0, 0]]\n",
      "[[0, 0, 1, 0], [0, 1, 0, 0], [0, 0, 0, 0], [1, 0, 0, 0]]\n",
      "[[0, 0, 1, 0], [0, 1, 0, 0], [0, 0, 0, 1], [1, 0, 0, 0]]\n",
      "[[0, 0, 0, 0], [0, 0, 0, 0], [0, 1, 0, 0], [1, 0, 0, 0]]\n",
      "[[0, 0, 1, 0], [0, 0, 0, 0], [0, 1, 0, 0], [1, 0, 0, 0]]\n",
      "[[0, 0, 0, 0], [0, 0, 1, 0], [0, 1, 0, 0], [1, 0, 0, 0]]\n",
      "[[0, 0, 0, 1], [0, 0, 1, 0], [0, 1, 0, 0], [1, 0, 0, 0]]\n"
     ]
    },
    {
     "data": {
      "text/plain": [
       "[[0], [0], [0], [0], [0], [0], [0]]"
      ]
     },
     "execution_count": 6,
     "metadata": {},
     "output_type": "execute_result"
    }
   ],
   "source": [
    "nQueens(4)"
   ]
  },
  {
   "cell_type": "code",
   "execution_count": null,
   "id": "8f0581d5",
   "metadata": {},
   "outputs": [],
   "source": []
  }
 ],
 "metadata": {
  "kernelspec": {
   "display_name": "Python 3 (ipykernel)",
   "language": "python",
   "name": "python3"
  },
  "language_info": {
   "codemirror_mode": {
    "name": "ipython",
    "version": 3
   },
   "file_extension": ".py",
   "mimetype": "text/x-python",
   "name": "python",
   "nbconvert_exporter": "python",
   "pygments_lexer": "ipython3",
   "version": "3.9.7"
  }
 },
 "nbformat": 4,
 "nbformat_minor": 5
}
