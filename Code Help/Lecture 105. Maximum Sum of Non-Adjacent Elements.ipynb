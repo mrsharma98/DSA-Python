{
 "cells": [
  {
   "cell_type": "code",
   "execution_count": 1,
   "id": "3f6d2ba1",
   "metadata": {},
   "outputs": [],
   "source": [
    "# Recusion\n",
    "\n",
    "def solve(nums, n):\n",
    "    # base case\n",
    "    if n<0:\n",
    "        return 0\n",
    "    if n==0:\n",
    "        return nums[0]\n",
    "    \n",
    "    # include current element\n",
    "    incl = solve(nums, n-2)+nums[n]\n",
    "    # exclude current element\n",
    "    excl = solve(nums, n-1)+0\n",
    "    \n",
    "    return max(incl,excl)\n",
    "\n",
    "def maximumNonAdjacentSum(nums):    \n",
    "    # Write your code here.\n",
    "    n = len(nums)\n",
    "    ans = solve(nums, n-1)\n",
    "    return ans"
   ]
  },
  {
   "cell_type": "code",
   "execution_count": null,
   "id": "77d2fc90",
   "metadata": {},
   "outputs": [],
   "source": []
  },
  {
   "cell_type": "code",
   "execution_count": 2,
   "id": "f67d6dd2",
   "metadata": {},
   "outputs": [],
   "source": [
    "# Recursion +  Memoization\n",
    "\n",
    "def solveMem(nums, n, dp):\n",
    "    # base case\n",
    "    if n<0:\n",
    "        return 0\n",
    "    if n==0:\n",
    "        return nums[0]\n",
    "    \n",
    "    if dp[n]!=-1:\n",
    "        return dp[n]\n",
    "    # include current element\n",
    "    incl = solveMem(nums, n-2, dp)+nums[n]\n",
    "    # exclude current element\n",
    "    excl = solveMem(nums, n-1, dp)+0\n",
    "    \n",
    "    dp[n] = max(incl, excl)\n",
    "    return dp[n]\n",
    "\n",
    "def maximumNonAdjacentSum(nums):    \n",
    "    # Write your code here.\n",
    "    n = len(nums)\n",
    "    dp = [-1]*n\n",
    "    ans = solveMem(nums, n-1, dp)\n",
    "    return ans"
   ]
  },
  {
   "cell_type": "code",
   "execution_count": null,
   "id": "bbda52d9",
   "metadata": {},
   "outputs": [],
   "source": []
  },
  {
   "cell_type": "code",
   "execution_count": 3,
   "id": "af6a98cf",
   "metadata": {},
   "outputs": [],
   "source": [
    "# Tabulation\n",
    "\n",
    "def maximumNonAdjacentSum(nums):    \n",
    "    # Write your code here.\n",
    "    n = len(nums)\n",
    "    dp = [0]*n\n",
    "    \n",
    "    dp[0] = nums[0]\n",
    "    \n",
    "    for i in range(1, n):\n",
    "        incl = dp[i-2] + nums[i]\n",
    "        excl = dp[i-1] + 0\n",
    "        dp[i] = max(incl, excl)\n",
    "        \n",
    "    return dp[n-1]"
   ]
  },
  {
   "cell_type": "code",
   "execution_count": null,
   "id": "2b6a113a",
   "metadata": {},
   "outputs": [],
   "source": []
  },
  {
   "cell_type": "code",
   "execution_count": null,
   "id": "ec2a73a2",
   "metadata": {},
   "outputs": [],
   "source": [
    "# Space Optimization\n",
    "\n",
    "def maximumNonAdjacentSum(nums):    \n",
    "    # Write your code here.\n",
    "    n = len(nums)\n",
    "    prev1 = nums[0]\n",
    "    prev2 = 0\n",
    "    \n",
    "    for i in range(1, n):\n",
    "        incl = prev2 + nums[i]\n",
    "        excl = prev1 + 0\n",
    "        ans = max(incl, excl)\n",
    "        prev2, prev1 = prev1, ans\n",
    "        \n",
    "    return prev1"
   ]
  }
 ],
 "metadata": {
  "kernelspec": {
   "display_name": "Python 3 (ipykernel)",
   "language": "python",
   "name": "python3"
  },
  "language_info": {
   "codemirror_mode": {
    "name": "ipython",
    "version": 3
   },
   "file_extension": ".py",
   "mimetype": "text/x-python",
   "name": "python",
   "nbconvert_exporter": "python",
   "pygments_lexer": "ipython3",
   "version": "3.9.7"
  }
 },
 "nbformat": 4,
 "nbformat_minor": 5
}
