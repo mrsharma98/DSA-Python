{
 "cells": [
  {
   "cell_type": "code",
   "execution_count": 1,
   "id": "983c1c50",
   "metadata": {},
   "outputs": [],
   "source": [
    "# i/p:- {1, 2, 3}\n",
    "# o/p:- {1}, {2}, {3}, {1,2}, {2,3}, {1,3}, {1,2,3}, {}"
   ]
  },
  {
   "cell_type": "code",
   "execution_count": 17,
   "id": "605546b8",
   "metadata": {},
   "outputs": [],
   "source": [
    "def subset(input, output, index=0):\n",
    "    if index == len(input):\n",
    "#         for i in output:\n",
    "#         print(output)\n",
    "        return\n",
    "    \n",
    "    # nai lena hai\n",
    "    subset(input, output, index+1)\n",
    "    \n",
    "    # lena hai\n",
    "#     output.append(input[index])\n",
    "    subset(input, output, index+1)"
   ]
  },
  {
   "cell_type": "code",
   "execution_count": null,
   "id": "39aa05b9",
   "metadata": {},
   "outputs": [],
   "source": []
  },
  {
   "cell_type": "code",
   "execution_count": 20,
   "id": "58107c92",
   "metadata": {},
   "outputs": [],
   "source": [
    "subset([1,2,3], [])"
   ]
  },
  {
   "cell_type": "code",
   "execution_count": null,
   "id": "9ce36222",
   "metadata": {},
   "outputs": [],
   "source": []
  },
  {
   "cell_type": "code",
   "execution_count": 38,
   "id": "902001b4",
   "metadata": {},
   "outputs": [],
   "source": [
    "def powerSet(string , index , curr):\n",
    "     \n",
    "    # string : Stores input string\n",
    "    # curr : Stores current subset\n",
    "    # index : Index in current subset, curr\n",
    "    if index == len(string):\n",
    "        print(curr)\n",
    "        return\n",
    "    \n",
    "    curr.append(string[index])\n",
    "    powerSet(string, index + 1,\n",
    "             curr)\n",
    "    powerSet(string, index + 1, curr)"
   ]
  },
  {
   "cell_type": "code",
   "execution_count": 39,
   "id": "bda9bb57",
   "metadata": {},
   "outputs": [
    {
     "name": "stdout",
     "output_type": "stream",
     "text": [
      "['a', 'b', 'c']\n",
      "['a', 'b', 'c']\n",
      "['a', 'b', 'c', 'c']\n",
      "['a', 'b', 'c', 'c']\n",
      "['a', 'b', 'c', 'c', 'b', 'c']\n",
      "['a', 'b', 'c', 'c', 'b', 'c']\n",
      "['a', 'b', 'c', 'c', 'b', 'c', 'c']\n",
      "['a', 'b', 'c', 'c', 'b', 'c', 'c']\n"
     ]
    }
   ],
   "source": [
    "powerSet([\"a\", \"b\", \"c\"], 0, [])"
   ]
  },
  {
   "cell_type": "code",
   "execution_count": null,
   "id": "d541e2a5",
   "metadata": {},
   "outputs": [],
   "source": []
  },
  {
   "cell_type": "code",
   "execution_count": 66,
   "id": "96a156ec",
   "metadata": {},
   "outputs": [],
   "source": [
    "def findPowerSet(S, s, n):\n",
    " \n",
    "    # if we have considered all elements\n",
    "    if n == 0:\n",
    "        print(s)\n",
    "        return\n",
    " \n",
    "    # consider the n'th element\n",
    "    s.append(S[n - 1])\n",
    "    findPowerSet(S, s, n - 1)\n",
    " \n",
    "    s.pop()                    # backtrack\n",
    " \n",
    "    # or don't consider the n'th element\n",
    "    findPowerSet(S, s, n - 1)"
   ]
  },
  {
   "cell_type": "code",
   "execution_count": 67,
   "id": "235c5d72",
   "metadata": {},
   "outputs": [
    {
     "name": "stdout",
     "output_type": "stream",
     "text": [
      "[3, 2, 1]\n",
      "[3, 2]\n",
      "[3, 1]\n",
      "[3]\n",
      "[2, 1]\n",
      "[2]\n",
      "[1]\n",
      "[]\n"
     ]
    }
   ],
   "source": [
    "S = [1, 2, 3]\n",
    "\n",
    "s = []\n",
    "findPowerSet(S, s, len(S))"
   ]
  },
  {
   "cell_type": "code",
   "execution_count": null,
   "id": "2eba7fe9",
   "metadata": {},
   "outputs": [],
   "source": []
  },
  {
   "cell_type": "code",
   "execution_count": null,
   "id": "915119c0",
   "metadata": {},
   "outputs": [],
   "source": []
  },
  {
   "cell_type": "code",
   "execution_count": null,
   "id": "ecb8f453",
   "metadata": {},
   "outputs": [],
   "source": []
  },
  {
   "cell_type": "code",
   "execution_count": 87,
   "id": "de9498e6",
   "metadata": {},
   "outputs": [],
   "source": [
    "def powerSet(inp, output, index):\n",
    "    if index == 2:\n",
    "        print(output)\n",
    "        return\n",
    "    \n",
    "    powerSet(inp, output, index+1)\n",
    "    \n",
    "    output.append(inp[index])\n",
    "    powerSet(inp, output, index+1)"
   ]
  },
  {
   "cell_type": "code",
   "execution_count": 88,
   "id": "e045a8ff",
   "metadata": {},
   "outputs": [
    {
     "name": "stdout",
     "output_type": "stream",
     "text": [
      "[]\n",
      "[2]\n",
      "[2, 1]\n",
      "[2, 1, 2]\n"
     ]
    }
   ],
   "source": [
    "powerSet([1,2], [], 0)"
   ]
  },
  {
   "cell_type": "code",
   "execution_count": null,
   "id": "1ee3222c",
   "metadata": {},
   "outputs": [],
   "source": []
  }
 ],
 "metadata": {
  "kernelspec": {
   "display_name": "Python 3 (ipykernel)",
   "language": "python",
   "name": "python3"
  },
  "language_info": {
   "codemirror_mode": {
    "name": "ipython",
    "version": 3
   },
   "file_extension": ".py",
   "mimetype": "text/x-python",
   "name": "python",
   "nbconvert_exporter": "python",
   "pygments_lexer": "ipython3",
   "version": "3.9.13"
  }
 },
 "nbformat": 4,
 "nbformat_minor": 5
}
