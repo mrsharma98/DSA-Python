{
 "cells": [
  {
   "cell_type": "code",
   "execution_count": 5,
   "id": "4f7ea0b0",
   "metadata": {},
   "outputs": [],
   "source": [
    "def is_sorted(arr, index=1):\n",
    "    if index >= len(arr):\n",
    "        return True\n",
    "    if arr[index] < arr[index-1]:\n",
    "        return False\n",
    "    \n",
    "    return is_sorted(arr, index+1)"
   ]
  },
  {
   "cell_type": "code",
   "execution_count": 10,
   "id": "13958861",
   "metadata": {},
   "outputs": [
    {
     "data": {
      "text/plain": [
       "False"
      ]
     },
     "execution_count": 10,
     "metadata": {},
     "output_type": "execute_result"
    }
   ],
   "source": [
    "is_sorted([1,0])"
   ]
  },
  {
   "cell_type": "code",
   "execution_count": null,
   "id": "feeaa973",
   "metadata": {},
   "outputs": [],
   "source": []
  }
 ],
 "metadata": {
  "kernelspec": {
   "display_name": "Python 3 (ipykernel)",
   "language": "python",
   "name": "python3"
  },
  "language_info": {
   "codemirror_mode": {
    "name": "ipython",
    "version": 3
   },
   "file_extension": ".py",
   "mimetype": "text/x-python",
   "name": "python",
   "nbconvert_exporter": "python",
   "pygments_lexer": "ipython3",
   "version": "3.9.13"
  }
 },
 "nbformat": 4,
 "nbformat_minor": 5
}
