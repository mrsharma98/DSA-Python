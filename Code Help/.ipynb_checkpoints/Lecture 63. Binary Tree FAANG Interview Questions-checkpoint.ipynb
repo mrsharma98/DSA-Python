{
 "cells": [
  {
   "cell_type": "markdown",
   "id": "75b01363",
   "metadata": {},
   "source": [
    "# height/depth of BT"
   ]
  },
  {
   "cell_type": "code",
   "execution_count": 6,
   "id": "105a1925",
   "metadata": {},
   "outputs": [],
   "source": [
    "def height(root):\n",
    "    if root == None:\n",
    "        return 0\n",
    "    left = height(root.left)\n",
    "    right = height(root.right)\n",
    "    ans = max(left, right)+1\n",
    "    return ans\n",
    "\n",
    "# TC-O(n)\n",
    "# SC-O(height) -- recursive calls are equal to height\n",
    "\n",
    "\n",
    "def treeHeight(root):\n",
    "     \n",
    "    # Base Case\n",
    "    if root is None:\n",
    "        return 0\n",
    "     \n",
    "    # Create a empty queue for level order traversal\n",
    "    q = []\n",
    "     \n",
    "    # Enqueue Root and Initialize Height\n",
    "    q.append(root)\n",
    "    height = 0\n",
    " \n",
    "    while(True):\n",
    "         \n",
    "        # nodeCount(queue size) indicates number of nodes\n",
    "        # at current level\n",
    "        nodeCount = len(q)\n",
    "        if nodeCount == 0 :\n",
    "            return height\n",
    "     \n",
    "        height += 1\n",
    " \n",
    "        # Dequeue all nodes of current level and Enqueue\n",
    "        # all nodes of next level\n",
    "        while(nodeCount > 0):\n",
    "            node = q[0]\n",
    "            q.pop(0)\n",
    "            if node.left is not None:\n",
    "                q.append(node.left)\n",
    "            if node.right is not None:\n",
    "                q.append(node.right)\n",
    " \n",
    "            nodeCount -= 1"
   ]
  },
  {
   "cell_type": "code",
   "execution_count": null,
   "id": "e71ac46d",
   "metadata": {},
   "outputs": [],
   "source": []
  },
  {
   "cell_type": "markdown",
   "id": "0cdf1db6",
   "metadata": {},
   "source": [
    "# Diameter of binary tree"
   ]
  },
  {
   "cell_type": "code",
   "execution_count": null,
   "id": "335e7861",
   "metadata": {},
   "outputs": [],
   "source": [
    "# longest path between 2 ends/nodes"
   ]
  },
  {
   "cell_type": "code",
   "execution_count": 10,
   "id": "433b2b1a",
   "metadata": {},
   "outputs": [],
   "source": [
    "def height(root):\n",
    "    if root == None:\n",
    "        return 0\n",
    "    left = height(root.left)\n",
    "    right = height(root.right)\n",
    "    ans = max(left, right)+1\n",
    "    return ans\n",
    "\n",
    "def diameter(root):\n",
    "    if root == None:\n",
    "        return 0\n",
    "    \n",
    "    op1 = diameter(root.left)\n",
    "    op2 = diameter(root.right)\n",
    "    op3 = height(root.left) + height(root.right) + 1\n",
    "    ans = max(op1, max(op2, op3))\n",
    "    \n",
    "    return ans\n",
    "\n",
    "# TC - O(n^2)\n",
    "\n",
    "max_diameter = 0\n",
    "def diameter(root):\n",
    "    if root == None:\n",
    "        return 0\n",
    "    \n",
    "    left_height = diameter(root.left)\n",
    "    right_height = diameter(root.right)\n",
    "    diameter = left_height + right_height\n",
    "    \n",
    "    if max_diameter<diameter:\n",
    "        max_diameter = diameter\n",
    "    \n",
    "    return 1+max(right_height, left_height)"
   ]
  },
  {
   "cell_type": "code",
   "execution_count": 11,
   "id": "f11bd8e4",
   "metadata": {},
   "outputs": [],
   "source": [
    "# we can also use 2 parameters, first being diamter and 2 being height\n",
    "def diameterFast(root):\n",
    "    if root == None:\n",
    "        p = [0,0]\n",
    "        return p\n",
    "    \n",
    "    left = diameterFast(root.left)\n",
    "    right = diamterFast(root.right)\n",
    "    \n",
    "    op1 = left[0]\n",
    "    op2 = right[0]\n",
    "    op3 = left[1] + right[1] + 1\n",
    "    \n",
    "    ans = [0]*2\n",
    "    ans[0] = max(op1, max(op2, op3))\n",
    "    \n",
    "    return ans\n",
    "\n",
    "def diamter(root):\n",
    "    return diameterFast(root)[0]"
   ]
  },
  {
   "cell_type": "code",
   "execution_count": null,
   "id": "335542cd",
   "metadata": {},
   "outputs": [],
   "source": []
  },
  {
   "cell_type": "code",
   "execution_count": null,
   "id": "6704f49d",
   "metadata": {},
   "outputs": [],
   "source": []
  },
  {
   "cell_type": "markdown",
   "id": "6dc54b84",
   "metadata": {},
   "source": [
    "# Check for balanced Tree"
   ]
  },
  {
   "cell_type": "code",
   "execution_count": 2,
   "id": "caaa39dc",
   "metadata": {},
   "outputs": [],
   "source": [
    "def height(root):\n",
    "    if root == None:\n",
    "        return 0\n",
    "    left = height(root.left)\n",
    "    right = height(root.right)\n",
    "    ans = max(left, right)+1\n",
    "    return ans\n",
    "\n",
    "\n",
    "# TC - O(n^2)\n",
    "def isBalance(root):\n",
    "    if root == None:\n",
    "        return True\n",
    "    \n",
    "    left = isBalance(root.left)\n",
    "    right = isBalance(root.right)\n",
    "    \n",
    "    diff = abs(height(root.left)-height(root.right)) <= 1\n",
    "    \n",
    "    if left and right and diff:\n",
    "        return True\n",
    "    else:\n",
    "        return False"
   ]
  },
  {
   "cell_type": "code",
   "execution_count": 3,
   "id": "79378087",
   "metadata": {},
   "outputs": [],
   "source": [
    "# with values (True/False, height)\n",
    "\n",
    "def isBalancedFast(root):\n",
    "    if root == None:\n",
    "        p = [True, 0]\n",
    "        return p\n",
    "    \n",
    "    left = isBalancedFast(root.left)\n",
    "    right = isBalancedFast(root.right)\n",
    "    \n",
    "    leftAns = left[0]\n",
    "    rightAns = right[0]\n",
    "    \n",
    "    diff = abs(left[1] - right[1])<=1\n",
    "    \n",
    "    ans = [0]*2\n",
    "    ans[1] = max(left[1], right[1])+1\n",
    "    \n",
    "    if leftAns and rightAns and diff:\n",
    "        ans[0] = True\n",
    "    else:\n",
    "        ans[0] = False\n",
    "        \n",
    "    return ans\n",
    "\n",
    "def isBalanced(root):\n",
    "    return isBalancedFast(root)[0]"
   ]
  },
  {
   "cell_type": "code",
   "execution_count": null,
   "id": "4d778c31",
   "metadata": {},
   "outputs": [],
   "source": []
  },
  {
   "cell_type": "markdown",
   "id": "9a5438e4",
   "metadata": {},
   "source": [
    "# if two tree identical"
   ]
  },
  {
   "cell_type": "code",
   "execution_count": 4,
   "id": "e5b69be3",
   "metadata": {},
   "outputs": [],
   "source": [
    "# https://leetcode.com/problems/same-tree/"
   ]
  },
  {
   "cell_type": "code",
   "execution_count": 6,
   "id": "1417209f",
   "metadata": {},
   "outputs": [],
   "source": [
    "def isIdentical(r1, r2):\n",
    "    if r1==None and r2 == None:\n",
    "        return True\n",
    "    if r1==None or r2==None:\n",
    "        return False\n",
    "    \n",
    "    left = isIdentical(r1.left, r2.left)\n",
    "    right = isIdentical(r1.right, r2.right)\n",
    "    \n",
    "    value = r1.data == r2.data\n",
    "    \n",
    "    if left and right and value:\n",
    "        return True\n",
    "    else:\n",
    "        return False"
   ]
  },
  {
   "cell_type": "code",
   "execution_count": null,
   "id": "178ce957",
   "metadata": {},
   "outputs": [],
   "source": []
  },
  {
   "cell_type": "markdown",
   "id": "3d2e40a5",
   "metadata": {},
   "source": [
    "# Sum Tree"
   ]
  },
  {
   "cell_type": "code",
   "execution_count": 8,
   "id": "dd3396b1",
   "metadata": {},
   "outputs": [],
   "source": [
    "# x(node) = leftSubTree + rightSubTree values"
   ]
  },
  {
   "cell_type": "code",
   "execution_count": 9,
   "id": "396ef19f",
   "metadata": {},
   "outputs": [],
   "source": [
    "# two values [isSumBalanced, Sum]"
   ]
  },
  {
   "cell_type": "code",
   "execution_count": 11,
   "id": "1268ffe5",
   "metadata": {},
   "outputs": [],
   "source": [
    "def isSumTreeFast(root):\n",
    "    if root == None:\n",
    "        p = [True, 0]\n",
    "        return p\n",
    "    \n",
    "    if root.left== None and root.right==None:\n",
    "        p = [True, root.val]\n",
    "        return p\n",
    "    \n",
    "    leftAns = isSumTreeFast(root.left)\n",
    "    rightAns = isSumTreeFast(root.right)\n",
    "    \n",
    "    isLeftSumTree = leftAns[0]\n",
    "    isRightSumTree = rightAns[0]\n",
    "    \n",
    "    condn = root.val = leftAns[1]+rightAns[1]\n",
    "    \n",
    "    ans = [0]*2\n",
    "    \n",
    "    if isLeftSumTree and isRightSumTree and condn:\n",
    "        ans[0] = True\n",
    "        ans[1] = root.val + leftAns[1] + rightAns[1]\n",
    "    else:\n",
    "        ans[0] = False\n",
    "        \n",
    "    return ans\n",
    "\n",
    "\n",
    "\n",
    "def isSumTree(root):\n",
    "    return isSumTreeFast(root)[0]"
   ]
  },
  {
   "cell_type": "code",
   "execution_count": null,
   "id": "f519f26c",
   "metadata": {},
   "outputs": [],
   "source": []
  }
 ],
 "metadata": {
  "kernelspec": {
   "display_name": "Python 3 (ipykernel)",
   "language": "python",
   "name": "python3"
  },
  "language_info": {
   "codemirror_mode": {
    "name": "ipython",
    "version": 3
   },
   "file_extension": ".py",
   "mimetype": "text/x-python",
   "name": "python",
   "nbconvert_exporter": "python",
   "pygments_lexer": "ipython3",
   "version": "3.9.7"
  }
 },
 "nbformat": 4,
 "nbformat_minor": 5
}
