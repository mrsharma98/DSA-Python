{
 "cells": [
  {
   "cell_type": "markdown",
   "id": "597024e4",
   "metadata": {},
   "source": [
    "# smallest range in k list"
   ]
  },
  {
   "cell_type": "raw",
   "id": "8e0f20c3",
   "metadata": {},
   "source": [
    "input-: has k sorted list\n",
    "output:- A smallest range in which at least one element of each occurs\n",
    "\n",
    "[1,10,11]\n",
    "[2,3,20]\n",
    "[5,6,12]\n",
    "\n",
    "o/p:- [1,5]"
   ]
  },
  {
   "cell_type": "raw",
   "id": "0bf39928",
   "metadata": {},
   "source": [
    "Approach-1\n",
    "\n",
    "step-1 -- put the starting point of all the list in a new list\n",
    "    [ptr1, ptr2, ..., ptrk]\n",
    "step-2 -- now take min and max value from the list\n",
    "    [min, max] = diff\n",
    "    now we can either increase the min and decrease the max to minimize the diff\n",
    "    as the list in sorted so we cannot decrease the max,\n",
    "    the only option is to increase the min\n",
    "    \n",
    "    -- so we will move the ptr where we have got min val\n",
    "    and take the max and min and calculate diff\n",
    "\n",
    "    -- this will go on jab tak anyone of the array gets exhaust"
   ]
  },
  {
   "cell_type": "raw",
   "id": "0a367220",
   "metadata": {},
   "source": [
    "https://leetcode.com/problems/smallest-range-covering-elements-from-k-lists/"
   ]
  },
  {
   "cell_type": "raw",
   "id": "e3beea46",
   "metadata": {},
   "source": [
    "TC:- O(n* k^2)\n",
    "SC:- O(k)"
   ]
  },
  {
   "cell_type": "code",
   "execution_count": null,
   "id": "5d13c950",
   "metadata": {},
   "outputs": [],
   "source": []
  },
  {
   "cell_type": "code",
   "execution_count": null,
   "id": "d97884fb",
   "metadata": {},
   "outputs": [],
   "source": [
    "Approach-2\n",
    "\n",
    "using k size min-heap\n",
    "put starting element of every list\n",
    "tracking max element while inserting the elements"
   ]
  },
  {
   "cell_type": "code",
   "execution_count": 1,
   "id": "686c746d",
   "metadata": {},
   "outputs": [],
   "source": [
    "import heapq\n",
    "\n",
    "class Node:\n",
    "    def __init__(self, data, row, col):\n",
    "        self.data = data\n",
    "        self.row = row\n",
    "        self.col = col\n",
    "\n",
    "\n",
    "def kSorted(a, k, n):\n",
    "    mini = 9999999999\n",
    "    maxi = -9999999999\n",
    "    \n",
    "    minHeap = []\n",
    "    heapq.heapify(minHeap)\n",
    "    \n",
    "    # create minHeap for starting element of each list\n",
    "    # also tracing min and max\n",
    "    for i in range(k):\n",
    "        element = a[i][0]\n",
    "        maxi = max(maxi, element)\n",
    "        mini = min(mini, element)\n",
    "        heapq.heappush(minHeap, (element, Node(element,i, 0)))\n",
    "    \n",
    "    start = mini\n",
    "    end = maxi\n",
    "    \n",
    "    # process ranges\n",
    "    while len(minHeap)>0:\n",
    "        # mini fetch\n",
    "        tempVal, temp = minHeap[0]\n",
    "        heapq.heappop(minHeap)\n",
    "        \n",
    "        mini = temp.data\n",
    "        \n",
    "        # range or ans update\n",
    "        if maxi-mini<end-start:\n",
    "            start = mini\n",
    "            end = maxi\n",
    "           \n",
    "        # next element exists\n",
    "        if (temp.col+1<n):\n",
    "            maxi = max(maxi, a[temp.row][temp.col+1])\n",
    "            heapq.heappush(minHeap, (element, Node(a[temp.row][temp.col+1], temp.row, temp.col+1)))\n",
    "        else:\n",
    "            # next element does not exist\n",
    "            break\n",
    "        \n",
    "        # returning the difference of range value.\n",
    "        return (end-start+1)"
   ]
  },
  {
   "cell_type": "code",
   "execution_count": null,
   "id": "41893b6b",
   "metadata": {},
   "outputs": [],
   "source": []
  },
  {
   "cell_type": "code",
   "execution_count": null,
   "id": "dece21ed",
   "metadata": {},
   "outputs": [],
   "source": []
  },
  {
   "cell_type": "markdown",
   "id": "ab6ce5b3",
   "metadata": {},
   "source": [
    "# median in a string"
   ]
  },
  {
   "cell_type": "markdown",
   "id": "dc8385e3",
   "metadata": {},
   "source": [
    "*******MOST IMPORTANT*******"
   ]
  },
  {
   "cell_type": "raw",
   "id": "8db5947e",
   "metadata": {},
   "source": [
    "https://leetcode.com/problems/find-median-from-data-stream/"
   ]
  },
  {
   "cell_type": "raw",
   "id": "90cd604a",
   "metadata": {},
   "source": [
    "Approach-1\n",
    "\n",
    "sort the array (using insertion sort)\n",
    "-- this is a random running steam, data will be continuously coming\n",
    "find median\n",
    "\n",
    "TC:- O(n^2)\n",
    "\n",
    "followed by binary search too find the place of new element"
   ]
  },
  {
   "cell_type": "raw",
   "id": "3da134db",
   "metadata": {},
   "source": [
    "[_, _,..., _, M, _,..., _, _]\n",
    "left part of M -- all less\n",
    "right part of M -- all greater\n",
    "\n",
    "odd case:-\n",
    "    1. left has \"n\" and right has \"n-1\" elements\n",
    "    2. left has \"n-1\" and right has \"n\" elements\n",
    "even case:-\n",
    "    left \"n\" and right \"n\"\n",
    "\n",
    "there is a something called \"Signum\" function\n",
    "1. a==b --> 0\n",
    "2. a>b  --> 1\n",
    "3. a<b  --> -1\n",
    "\n",
    "so if we take 2 Heaps\n",
    "1. Max heap for left part\n",
    "2. Min Heap for right part\n",
    "--> so, for Median every time we just have to consider the top elements of both or anyone of the heaps\n",
    "\n",
    "TC:- O(nlogn)"
   ]
  },
  {
   "cell_type": "code",
   "execution_count": null,
   "id": "15556adc",
   "metadata": {},
   "outputs": [],
   "source": [
    "import heapq\n",
    "\n",
    "def signum(a, b):\n",
    "    if a==b:\n",
    "        return 0\n",
    "    elif a>b:\n",
    "        return 1\n",
    "    else:\n",
    "        return -1\n",
    "\n",
    "def callMedian(element, maxi, mini, median):\n",
    "    match signum(len(maxi), len(mini)):\n",
    "        case 0:\n",
    "            if (element>median):\n",
    "                heapq.heappush(mini, element)\n",
    "                median = mini[0]\n",
    "            else:\n",
    "                heapq.heappush(maxi, -element)\n",
    "                median = -maxi[0]\n",
    "            break\n",
    "        \n",
    "        case 1:\n",
    "            if (element > median):\n",
    "                heapq.heappush(mini, element)\n",
    "                median = (mini[0]+(-maxi[0]))/2\n",
    "            else:\n",
    "                heapq.heappush(mini, -maxi[0])\n",
    "                heapq.heappop(maxi)\n",
    "                heapq.heappush(maxi, -element)\n",
    "                median = (mini[0]+(-maxi[0]))/2\n",
    "            break\n",
    "            \n",
    "        case -1:\n",
    "            if (element > median):\n",
    "                heapq.heappush(maxi, -mini[0])\n",
    "                heapq.heappop(mini)\n",
    "                heapq.heappush(mini, element)\n",
    "                median = (mini[0]+(-maxi[0]))/2\n",
    "            else:\n",
    "                heapq.heappush(maxi, -element)\n",
    "                median = (mini[0]+(-maxi[0]))/2\n",
    "            break\n",
    "        \n",
    "                \n",
    "\n",
    "def findMedian(arr, n):\n",
    "    ans = []\n",
    "    \n",
    "    # []\n",
    "    minHeap = []\n",
    "    # [int, [], greater]\n",
    "    maxHeap = []\n",
    "    medain = 0\n",
    "    \n",
    "    for i in range(n):\n",
    "        callMedian(arr[i], maxHeap, minHeap, median)\n",
    "        ans.apend(median)\n",
    "        \n",
    "    return ans"
   ]
  },
  {
   "cell_type": "code",
   "execution_count": null,
   "id": "fdb5c192",
   "metadata": {},
   "outputs": [],
   "source": []
  },
  {
   "cell_type": "code",
   "execution_count": null,
   "id": "8dbb9dad",
   "metadata": {},
   "outputs": [],
   "source": []
  },
  {
   "cell_type": "code",
   "execution_count": null,
   "id": "e05f3b3e",
   "metadata": {},
   "outputs": [],
   "source": []
  },
  {
   "cell_type": "code",
   "execution_count": null,
   "id": "d1390098",
   "metadata": {},
   "outputs": [],
   "source": []
  }
 ],
 "metadata": {
  "kernelspec": {
   "display_name": "Python 3 (ipykernel)",
   "language": "python",
   "name": "python3"
  },
  "language_info": {
   "codemirror_mode": {
    "name": "ipython",
    "version": 3
   },
   "file_extension": ".py",
   "mimetype": "text/x-python",
   "name": "python",
   "nbconvert_exporter": "python",
   "pygments_lexer": "ipython3",
   "version": "3.9.7"
  }
 },
 "nbformat": 4,
 "nbformat_minor": 5
}
