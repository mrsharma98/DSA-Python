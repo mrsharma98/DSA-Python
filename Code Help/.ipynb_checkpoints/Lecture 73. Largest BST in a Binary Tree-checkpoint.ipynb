{
 "cells": [
  {
   "cell_type": "raw",
   "id": "a259a8c4",
   "metadata": {},
   "source": [
    "Apprach-1\n",
    "\n",
    "everynode pe jake check aagar vo valid bst bana rha h ya nai\n",
    "isBST() -- function -- O(n)\n",
    "store size -- size tree\n",
    "-- maxSize\n",
    "\n",
    "TC:- O(n^2)"
   ]
  },
  {
   "cell_type": "raw",
   "id": "d06db164",
   "metadata": {},
   "source": [
    "Approach-2\n",
    "\n",
    "here we don't have to go to each node again and again and check for valid\n",
    "so here we will check for 3 things for each node\n",
    "-- node --> isvalidbst\n",
    "    1. left subtree valid bst -- O(1)\n",
    "    2. right subtree valid bst -- O(1)\n",
    "    3. check if root.data is > max of left and < min of right.\n",
    "    \n",
    "-- every node should have a max and min value of subtree\n",
    "-- a boolean value isbst or not\n",
    "-- size if valid bst\n",
    "-- data --> [max, min, isbst, size(left+right+1)]\n",
    "\n",
    "-- TC:- O(n)"
   ]
  },
  {
   "cell_type": "code",
   "execution_count": 5,
   "id": "dd82f3e5",
   "metadata": {},
   "outputs": [],
   "source": [
    "class Info:\n",
    "    def __init__(self, maxi, mini, isBST, size):\n",
    "        self.maxi = maxi\n",
    "        self.mini = mini\n",
    "        self.isBST = isBST\n",
    "        self.size = size"
   ]
  },
  {
   "cell_type": "code",
   "execution_count": 6,
   "id": "22ed37bf",
   "metadata": {},
   "outputs": [],
   "source": [
    "def solve(root, ans):\n",
    "    # base class\n",
    "    if root==None:\n",
    "        return Info(-99999, 99999, True, 0)\n",
    "    \n",
    "    left = solve(root.left, ans)\n",
    "    right = solve(root.right, ans)\n",
    "    \n",
    "    currNode.size = left.size+right.size+1\n",
    "    currNode.maxi = max(root.data, right.maxi)\n",
    "    currNode.mini = max(root.data, left.mini)\n",
    "    \n",
    "    if (left.isBST and right.isBST and root.data>left.maxi and root.data<right.mini):\n",
    "        currNode.isBST = True\n",
    "    else:\n",
    "        currNode.isBST = False\n",
    "        \n",
    "    # update ans\n",
    "    if currNode.isBST:\n",
    "        ans = max(ans, currNode.size)\n",
    "    \n",
    "    return currNode\n",
    "    \n",
    "\n",
    "\n",
    "def largestBST(root):\n",
    "    maxSize = 0\n",
    "    temp = solve(root, maxSize)\n",
    "    return maxSize"
   ]
  },
  {
   "cell_type": "code",
   "execution_count": null,
   "id": "057f2762",
   "metadata": {},
   "outputs": [],
   "source": []
  },
  {
   "cell_type": "code",
   "execution_count": null,
   "id": "4babc704",
   "metadata": {},
   "outputs": [],
   "source": []
  },
  {
   "cell_type": "code",
   "execution_count": null,
   "id": "37e37417",
   "metadata": {},
   "outputs": [],
   "source": []
  },
  {
   "cell_type": "code",
   "execution_count": null,
   "id": "296476cd",
   "metadata": {},
   "outputs": [],
   "source": []
  }
 ],
 "metadata": {
  "kernelspec": {
   "display_name": "Python 3 (ipykernel)",
   "language": "python",
   "name": "python3"
  },
  "language_info": {
   "codemirror_mode": {
    "name": "ipython",
    "version": 3
   },
   "file_extension": ".py",
   "mimetype": "text/x-python",
   "name": "python",
   "nbconvert_exporter": "python",
   "pygments_lexer": "ipython3",
   "version": "3.9.7"
  }
 },
 "nbformat": 4,
 "nbformat_minor": 5
}
