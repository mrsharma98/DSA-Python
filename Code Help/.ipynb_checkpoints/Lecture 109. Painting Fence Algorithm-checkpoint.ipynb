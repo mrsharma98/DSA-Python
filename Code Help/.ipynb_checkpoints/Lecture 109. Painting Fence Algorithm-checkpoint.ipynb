{
 "cells": [
  {
   "cell_type": "markdown",
   "id": "1b3e4016",
   "metadata": {},
   "source": [
    "# Ninja and The Fence"
   ]
  },
  {
   "cell_type": "raw",
   "id": "d734fc39",
   "metadata": {},
   "source": [
    "https://www.codingninjas.com/codestudio/problems/ninja-and-the-fence_3210208"
   ]
  },
  {
   "cell_type": "code",
   "execution_count": 1,
   "id": "af8d2ae2",
   "metadata": {},
   "outputs": [],
   "source": [
    "# Recursion\n",
    "\n",
    "MOD = 1000000007\n",
    "\n",
    "def addd(a, b):\n",
    "    return (a%MOD + b%MOD)%MOD\n",
    "\n",
    "def mul(a, b):\n",
    "    return ((a%MOD) * (b%MOD))%MOD\n",
    "\n",
    "def solve(n, k):\n",
    "    if n==1:\n",
    "        return k\n",
    "    if n==2:\n",
    "        return addd(k, mul(k, k-1))\n",
    "    \n",
    "    ans = addd(mul(solve(n-2, k), k-1), mul(solve(n-1, k), k-1))\n",
    "    return ans\n",
    "\n",
    "def numberOfWays(n: int, k: int) -> int:\n",
    "    # write your code here\n",
    "    return solve(n, k)"
   ]
  },
  {
   "cell_type": "code",
   "execution_count": null,
   "id": "54768363",
   "metadata": {},
   "outputs": [],
   "source": []
  },
  {
   "cell_type": "code",
   "execution_count": 2,
   "id": "453b9c6d",
   "metadata": {},
   "outputs": [],
   "source": [
    "# Recursion + Momoization\n",
    "\n",
    "MOD = 1000000007\n",
    "\n",
    "def addd(a, b):\n",
    "    return (a%MOD + b%MOD)%MOD\n",
    "\n",
    "def mul(a, b):\n",
    "    return ((a%MOD) * (b%MOD))%MOD\n",
    "\n",
    "def solveMem(n, k, dp):\n",
    "    if n==1:\n",
    "        return k\n",
    "    if n==2:\n",
    "        return addd(k, mul(k, k-1))\n",
    "    \n",
    "    if dp[n]!=-1:\n",
    "        return dp[n]\n",
    "    \n",
    "    dp[n] = addd(mul(solveMem(n-2, k, dp), k-1), mul(solveMem(n-1, k, dp), k-1))\n",
    "    return dp[n]\n",
    "\n",
    "def numberOfWays(n: int, k: int) -> int:\n",
    "    # write your code here\n",
    "    dp = [-1]*(n+1)\n",
    "    return solveMem(n, k, dp)"
   ]
  },
  {
   "cell_type": "code",
   "execution_count": null,
   "id": "3a1fa75c",
   "metadata": {},
   "outputs": [],
   "source": []
  },
  {
   "cell_type": "code",
   "execution_count": 3,
   "id": "383b86d4",
   "metadata": {},
   "outputs": [],
   "source": [
    "# Tabulation\n",
    "\n",
    "MOD = 1000000007\n",
    "\n",
    "def addd(a, b):\n",
    "    return (a%MOD + b%MOD)%MOD\n",
    "\n",
    "def mul(a, b):\n",
    "    return ((a%MOD) * (b%MOD))%MOD\n",
    "\n",
    "def solveTab(n, k):\n",
    "    dp = [0]*(n+1)\n",
    "    if n==1:\n",
    "        return k\n",
    "    dp[1] = k\n",
    "    dp[2] = addd(k, mul(k, k-1))\n",
    "    \n",
    "    for i in range(3, n+1):\n",
    "        dp[i] = addd(mul(dp[i-2], k-1), mul(dp[i-1], k-1))\n",
    "    \n",
    "    return dp[n]\n",
    "\n",
    "def numberOfWays(n: int, k: int) -> int:\n",
    "    # write your code here\n",
    "    return solveTab(n, k)"
   ]
  },
  {
   "cell_type": "code",
   "execution_count": null,
   "id": "7e8c1c40",
   "metadata": {},
   "outputs": [],
   "source": []
  },
  {
   "cell_type": "code",
   "execution_count": null,
   "id": "6c6c3610",
   "metadata": {},
   "outputs": [],
   "source": [
    "# Space Optimization\n",
    "\n",
    "MOD = 1000000007\n",
    "\n",
    "def addd(a, b):\n",
    "    return (a%MOD + b%MOD)%MOD\n",
    "\n",
    "def mul(a, b):\n",
    "    return ((a%MOD) * (b%MOD))%MOD\n",
    "\n",
    "def solveOpt(n, k):\n",
    "    if n==1:\n",
    "        return k\n",
    "    prev2 = k\n",
    "    prev1 = addd(k, mul(k, k-1))\n",
    "    \n",
    "    for i in range(3, n+1):\n",
    "        ans = addd(mul(prev2, k-1), mul(prev1, k-1))\n",
    "        prev1, prev2 = ans, prev1\n",
    "    \n",
    "    return prev1\n",
    "\n",
    "def numberOfWays(n: int, k: int) -> int:\n",
    "    # write your code here\n",
    "    return solveOpt(n, k)"
   ]
  }
 ],
 "metadata": {
  "kernelspec": {
   "display_name": "Python 3 (ipykernel)",
   "language": "python",
   "name": "python3"
  },
  "language_info": {
   "codemirror_mode": {
    "name": "ipython",
    "version": 3
   },
   "file_extension": ".py",
   "mimetype": "text/x-python",
   "name": "python",
   "nbconvert_exporter": "python",
   "pygments_lexer": "ipython3",
   "version": "3.9.7"
  }
 },
 "nbformat": 4,
 "nbformat_minor": 5
}
