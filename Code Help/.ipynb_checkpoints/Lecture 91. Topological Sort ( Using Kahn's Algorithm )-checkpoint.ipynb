{
 "cells": [
  {
   "cell_type": "raw",
   "id": "cef6a9a5",
   "metadata": {},
   "source": [
    "It uses BFS -- refer notes"
   ]
  },
  {
   "cell_type": "raw",
   "id": "97b1b3be",
   "metadata": {},
   "source": [
    "TC:- O(n+m)\n",
    "SC:- O(n+e)"
   ]
  },
  {
   "cell_type": "code",
   "execution_count": 4,
   "id": "566c7d81",
   "metadata": {},
   "outputs": [],
   "source": [
    "def TopologicalSort(pre, n, m):\n",
    "    adj = {}\n",
    "    \n",
    "    degree=[0]*n\n",
    "    adj = defaultdict(list)\n",
    "    \n",
    "    # yaha ulta hai, y->x hai\n",
    "    for x,y in pre:\n",
    "        adj[y].append(x)\n",
    "        degree[x]+=1\n",
    "    \n",
    "    # push 0 indegree node\n",
    "    q = []\n",
    "    for i in range(n):\n",
    "        if (indegree[i] == 0):\n",
    "            q.append(i)\n",
    "    # do bfs\n",
    "    ans = []\n",
    "    while (len(q)>0):\n",
    "        front = q[0]\n",
    "        q.pop(0)\n",
    "        ans.append(front)\n",
    "        \n",
    "        # neighbour indegree update\n",
    "        for neighbour in adj[front]:\n",
    "            indegree[i] -= 1\n",
    "            if (indegree[neighbour] == 0):\n",
    "                q.append(neighbour)\n",
    "    \n",
    "    return ans"
   ]
  },
  {
   "cell_type": "code",
   "execution_count": null,
   "id": "86b51f8d",
   "metadata": {},
   "outputs": [],
   "source": []
  },
  {
   "cell_type": "raw",
   "id": "b2246bc6",
   "metadata": {},
   "source": [
    "*****MUST CHECK******"
   ]
  },
  {
   "cell_type": "raw",
   "id": "b3a04c74",
   "metadata": {},
   "source": [
    "https://leetcode.com/problems/course-schedule-ii/"
   ]
  }
 ],
 "metadata": {
  "kernelspec": {
   "display_name": "Python 3 (ipykernel)",
   "language": "python",
   "name": "python3"
  },
  "language_info": {
   "codemirror_mode": {
    "name": "ipython",
    "version": 3
   },
   "file_extension": ".py",
   "mimetype": "text/x-python",
   "name": "python",
   "nbconvert_exporter": "python",
   "pygments_lexer": "ipython3",
   "version": "3.9.7"
  }
 },
 "nbformat": 4,
 "nbformat_minor": 5
}
