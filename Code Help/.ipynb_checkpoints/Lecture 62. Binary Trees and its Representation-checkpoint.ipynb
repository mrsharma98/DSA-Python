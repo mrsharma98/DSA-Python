{
 "cells": [
  {
   "cell_type": "code",
   "execution_count": 1,
   "id": "06fe252f",
   "metadata": {},
   "outputs": [],
   "source": [
    "# creating a tree"
   ]
  },
  {
   "cell_type": "code",
   "execution_count": null,
   "id": "6e10dc3f",
   "metadata": {},
   "outputs": [],
   "source": []
  },
  {
   "cell_type": "code",
   "execution_count": null,
   "id": "0840eb07",
   "metadata": {},
   "outputs": [],
   "source": [
    "class Node:\n",
    "    def __init__(self, data):\n",
    "        self.data = data\n",
    "        self.left = None\n",
    "        self.right = None"
   ]
  },
  {
   "cell_type": "code",
   "execution_count": 2,
   "id": "faa621a3",
   "metadata": {},
   "outputs": [],
   "source": [
    "def buildTree(root):\n",
    "    data = input(\"Enter the data: \")\n",
    "    if data == -1:\n",
    "        return None\n",
    "    root = Node(data)\n",
    "    \n",
    "    print(\"Enter data for inserting in left of \", data)\n",
    "    root.left = buildTree(root.left)\n",
    "    print(\"Enter data for inserting in right of \", data)\n",
    "    root.right = buildTree(root.right)\n",
    "    \n",
    "    return root"
   ]
  },
  {
   "cell_type": "code",
   "execution_count": null,
   "id": "91e3af57",
   "metadata": {},
   "outputs": [],
   "source": []
  },
  {
   "cell_type": "code",
   "execution_count": null,
   "id": "a0414571",
   "metadata": {},
   "outputs": [],
   "source": []
  },
  {
   "cell_type": "code",
   "execution_count": 1,
   "id": "94aa5d98",
   "metadata": {},
   "outputs": [],
   "source": [
    "# Level order Traversal"
   ]
  },
  {
   "cell_type": "code",
   "execution_count": 2,
   "id": "b12da916",
   "metadata": {},
   "outputs": [],
   "source": [
    "# using Queue"
   ]
  },
  {
   "cell_type": "code",
   "execution_count": 3,
   "id": "2e071b95",
   "metadata": {},
   "outputs": [],
   "source": [
    "def levelTraversal(root):\n",
    "    q = []\n",
    "    q.append(root)\n",
    "    \n",
    "    while len(q)>0:\n",
    "        temp = q[0]\n",
    "        q.pop()\n",
    "        print(temp)\n",
    "        if temp.left != None:\n",
    "            q.append(temp.left)\n",
    "        if temp.right != None:\n",
    "            q.append(temp.right)"
   ]
  },
  {
   "cell_type": "code",
   "execution_count": null,
   "id": "ff6c4260",
   "metadata": {},
   "outputs": [],
   "source": []
  },
  {
   "cell_type": "code",
   "execution_count": null,
   "id": "a46d4233",
   "metadata": {},
   "outputs": [],
   "source": []
  },
  {
   "cell_type": "code",
   "execution_count": 4,
   "id": "9a075469",
   "metadata": {},
   "outputs": [],
   "source": [
    "# Inorder Traversal"
   ]
  },
  {
   "cell_type": "code",
   "execution_count": 5,
   "id": "3685a2be",
   "metadata": {},
   "outputs": [],
   "source": [
    "def inorder(root):\n",
    "    if root == None:\n",
    "        return\n",
    "    \n",
    "    inorder(root.left)\n",
    "    print(root.data)\n",
    "    inorder(root.right)"
   ]
  },
  {
   "cell_type": "code",
   "execution_count": null,
   "id": "a730b0cd",
   "metadata": {},
   "outputs": [],
   "source": []
  },
  {
   "cell_type": "code",
   "execution_count": null,
   "id": "9ec1d7dc",
   "metadata": {},
   "outputs": [],
   "source": []
  },
  {
   "cell_type": "code",
   "execution_count": null,
   "id": "b8dd84e3",
   "metadata": {},
   "outputs": [],
   "source": [
    "# count leaf nodes"
   ]
  },
  {
   "cell_type": "code",
   "execution_count": 7,
   "id": "07d1a0ab",
   "metadata": {},
   "outputs": [],
   "source": [
    "def inorder(root, count):\n",
    "    if root == None:\n",
    "        return\n",
    "    \n",
    "    inorder(root.left, count)\n",
    "    if root.left == None and root.right==None:\n",
    "        count += 1\n",
    "    inorder(root.right, count)"
   ]
  },
  {
   "cell_type": "code",
   "execution_count": null,
   "id": "abd500a9",
   "metadata": {},
   "outputs": [],
   "source": []
  }
 ],
 "metadata": {
  "kernelspec": {
   "display_name": "Python 3 (ipykernel)",
   "language": "python",
   "name": "python3"
  },
  "language_info": {
   "codemirror_mode": {
    "name": "ipython",
    "version": 3
   },
   "file_extension": ".py",
   "mimetype": "text/x-python",
   "name": "python",
   "nbconvert_exporter": "python",
   "pygments_lexer": "ipython3",
   "version": "3.9.7"
  }
 },
 "nbformat": 4,
 "nbformat_minor": 5
}
