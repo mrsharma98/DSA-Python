{
 "cells": [
  {
   "cell_type": "markdown",
   "id": "d9b9d38c",
   "metadata": {},
   "source": [
    "# Construct Tree using Inorder and Preorder"
   ]
  },
  {
   "cell_type": "code",
   "execution_count": 1,
   "id": "17673a37",
   "metadata": {},
   "outputs": [],
   "source": [
    "# take index element as root\n",
    "# find root element ki position in inorder\n",
    "# call root->left from inorder start to pos-1\n",
    "# call root->right from pos+1 inorder end tak"
   ]
  },
  {
   "cell_type": "code",
   "execution_count": 3,
   "id": "0f5671f5",
   "metadata": {},
   "outputs": [],
   "source": [
    "def createMapping(ino, nodeToIndex, n):\n",
    "    for i in range(n):\n",
    "        nodeToIndex[ino[i]] = i\n",
    "\n",
    "def solve(ino, pre, index, inorderStart, inorderEnd, n, nodeToIndex):\n",
    "    # base case\n",
    "    if (index >= n) or (inorderStart>inorderEnd):\n",
    "        return None\n",
    "    \n",
    "    # create a root node for element\n",
    "    element = pre[index]\n",
    "    root = Node(element)\n",
    "    \n",
    "    # find element's index in inorder\n",
    "    position = nodeToIndex[element]\n",
    "    \n",
    "    # recursion calls\n",
    "    root.left = solve(ino, pre, index, inorderStart, position-1)\n",
    "    root.right = solve(ino, pre, index, position+1, inorderEnd)\n",
    "    \n",
    "    return root\n",
    "\n",
    "\n",
    "\n",
    "def buildTreeFromInPre(ino, pre, n):\n",
    "    preOrderIndex = 0\n",
    "    nodeToIndex = {}\n",
    "    \n",
    "    # creating index map\n",
    "    createMapping(ino, nodeToIndex, n)\n",
    "    \n",
    "    ans = solve(ino, pre, preOrderIndex, 0, n-1, nodeToIndex)\n",
    "    return ans"
   ]
  },
  {
   "cell_type": "code",
   "execution_count": null,
   "id": "caad2029",
   "metadata": {},
   "outputs": [],
   "source": []
  }
 ],
 "metadata": {
  "kernelspec": {
   "display_name": "Python 3 (ipykernel)",
   "language": "python",
   "name": "python3"
  },
  "language_info": {
   "codemirror_mode": {
    "name": "ipython",
    "version": 3
   },
   "file_extension": ".py",
   "mimetype": "text/x-python",
   "name": "python",
   "nbconvert_exporter": "python",
   "pygments_lexer": "ipython3",
   "version": "3.9.7"
  }
 },
 "nbformat": 4,
 "nbformat_minor": 5
}
