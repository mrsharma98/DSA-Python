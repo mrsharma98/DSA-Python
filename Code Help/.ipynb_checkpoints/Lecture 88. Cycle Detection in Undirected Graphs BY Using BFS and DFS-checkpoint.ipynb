{
 "cells": [
  {
   "cell_type": "raw",
   "id": "89b7c4df",
   "metadata": {},
   "source": [
    "Using BFS\n",
    "\n",
    "TC:- Linear"
   ]
  },
  {
   "cell_type": "code",
   "execution_count": 1,
   "id": "2dc418bd",
   "metadata": {},
   "outputs": [],
   "source": [
    "def isCyclicBFS(src, visited, adj):\n",
    "    # unordered <int,int>\n",
    "    parent = {}\n",
    "    \n",
    "    parent[src] = -1\n",
    "    visited[src] = True\n",
    "    q = []\n",
    "    q.append(src)\n",
    "    \n",
    "    while (len(q)>0):\n",
    "        front = q[0]\n",
    "        q.pop(0)\n",
    "        \n",
    "        for neighbour in adj[front]:\n",
    "            if (visited.get(neighbour) == True) and (neighbour != parent[front]):\n",
    "                # (parent[front] -- hum piche ja rahe h par vo piche wali visited hai and uska parent curr wala node nai, to cycle h)\n",
    "                return True\n",
    "            elif not visited.get(neighbour):\n",
    "                q.append(neighbour)\n",
    "                visited[neighbour] = True\n",
    "                parent[neighbour] = front\n",
    "        \n",
    "        return False\n",
    "                \n",
    "\n",
    "\n",
    "# edges vector<vector<int>\n",
    "# n, m = int\n",
    "def cycleDetection(edges, n, m):\n",
    "    adj = {}\n",
    "    # create adjacency list\n",
    "    for i in range(m):\n",
    "        u = edges[i][0]\n",
    "        v = edges[i][1]\n",
    "        \n",
    "        adj.setdefault(u, []).append(v)\n",
    "        adj.setdefault(v, []).append(u)\n",
    "    \n",
    "    visited = {}\n",
    "    # to handle disconnected components\n",
    "    for i in range(n):\n",
    "        if not visited.get(i):\n",
    "            ans = isCyclicBFS(i, visited, adj)\n",
    "            if ans==1:\n",
    "                return \"Yes\"\n",
    "    \n",
    "    return \"No\""
   ]
  },
  {
   "cell_type": "code",
   "execution_count": null,
   "id": "4a572e69",
   "metadata": {},
   "outputs": [],
   "source": []
  },
  {
   "cell_type": "raw",
   "id": "ce654ba0",
   "metadata": {},
   "source": [
    "Using DFS"
   ]
  },
  {
   "cell_type": "code",
   "execution_count": 2,
   "id": "2c73680d",
   "metadata": {},
   "outputs": [],
   "source": [
    "def isCyclicDFS(node, parent, visited, adj):\n",
    "    visited[node] = True\n",
    "    \n",
    "    for neighbour in adj[node]:\n",
    "        if not visited.get(neighbour):\n",
    "            cycleDetected = isCyclicDFS(neighbour, node, visited, adj)\n",
    "            if cycleDetected:\n",
    "                return True\n",
    "        elif (neighbour != parent):\n",
    "            return True\n",
    "    return False\n",
    "\n",
    "\n",
    "def cycleDetection(edges, n, m):\n",
    "    adj = {}\n",
    "    # create adjacency list\n",
    "    for i in range(m):\n",
    "        u = edges[i][0]\n",
    "        v = edges[i][1]\n",
    "        \n",
    "        adj.setdefault(u, []).append(v)\n",
    "        adj.setdefault(v, []).append(u)\n",
    "    \n",
    "    visited = {}\n",
    "    # to handle disconnected components\n",
    "    for i in range(n):\n",
    "        if not visited.get(i):\n",
    "            ans = isCyclicDFS(i, -1, visited, adj)\n",
    "            if ans==1:\n",
    "                return \"Yes\"\n",
    "    \n",
    "    return \"No\""
   ]
  },
  {
   "cell_type": "code",
   "execution_count": null,
   "id": "64e528fb",
   "metadata": {},
   "outputs": [],
   "source": [
    "https://leetcode.com/problems/redundant-connection/"
   ]
  }
 ],
 "metadata": {
  "kernelspec": {
   "display_name": "Python 3 (ipykernel)",
   "language": "python",
   "name": "python3"
  },
  "language_info": {
   "codemirror_mode": {
    "name": "ipython",
    "version": 3
   },
   "file_extension": ".py",
   "mimetype": "text/x-python",
   "name": "python",
   "nbconvert_exporter": "python",
   "pygments_lexer": "ipython3",
   "version": "3.9.7"
  }
 },
 "nbformat": 4,
 "nbformat_minor": 5
}
