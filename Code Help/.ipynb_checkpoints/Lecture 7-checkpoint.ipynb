{
 "cells": [
  {
   "cell_type": "code",
   "execution_count": 2,
   "id": "d0504b3b",
   "metadata": {},
   "outputs": [],
   "source": [
    "# Compliment of Base 10 integer"
   ]
  },
  {
   "cell_type": "code",
   "execution_count": 3,
   "id": "c3c834d9",
   "metadata": {},
   "outputs": [],
   "source": [
    "# i/p:- 5 --> 101\n",
    "# o/p:- compliment of 5 (101) is 010 i.e. 2"
   ]
  },
  {
   "cell_type": "code",
   "execution_count": 10,
   "id": "b14e51c9",
   "metadata": {},
   "outputs": [],
   "source": [
    "def bitwiseCompliment(n: int):\n",
    "    m = n\n",
    "    mask = 0\n",
    "    if (m == 0):\n",
    "        return 1\n",
    "    \n",
    "    while (m!=0):\n",
    "        mask = (mask << 1) | 1\n",
    "        m = m >> 1\n",
    "    \n",
    "    ans = (~n) & mask\n",
    "    \n",
    "    return ans"
   ]
  },
  {
   "cell_type": "code",
   "execution_count": 13,
   "id": "25a98547",
   "metadata": {},
   "outputs": [
    {
     "data": {
      "text/plain": [
       "5"
      ]
     },
     "execution_count": 13,
     "metadata": {},
     "output_type": "execute_result"
    }
   ],
   "source": [
    "bitwiseCompliment(10)"
   ]
  },
  {
   "cell_type": "code",
   "execution_count": null,
   "id": "db0b2510",
   "metadata": {},
   "outputs": [],
   "source": []
  }
 ],
 "metadata": {
  "kernelspec": {
   "display_name": "Python 3 (ipykernel)",
   "language": "python",
   "name": "python3"
  },
  "language_info": {
   "codemirror_mode": {
    "name": "ipython",
    "version": 3
   },
   "file_extension": ".py",
   "mimetype": "text/x-python",
   "name": "python",
   "nbconvert_exporter": "python",
   "pygments_lexer": "ipython3",
   "version": "3.9.7"
  }
 },
 "nbformat": 4,
 "nbformat_minor": 5
}
