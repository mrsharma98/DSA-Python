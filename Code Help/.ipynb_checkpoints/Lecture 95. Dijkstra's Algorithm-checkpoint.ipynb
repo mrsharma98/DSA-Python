{
 "cells": [
  {
   "cell_type": "code",
   "execution_count": null,
   "id": "a764e5c5",
   "metadata": {},
   "outputs": [],
   "source": []
  },
  {
   "cell_type": "code",
   "execution_count": 33,
   "id": "831f39dd",
   "metadata": {},
   "outputs": [],
   "source": [
    "# vec vector<vector<int>>\n",
    "# vertices, edges, sources int\n",
    "\n",
    "from collections import defaultdict\n",
    "import sys\n",
    "\n",
    "def dijkstra(vec, vertices, edges, source):\n",
    "    # Write your code here.\n",
    "    adj = defaultdict(list)\n",
    "    \n",
    "    for i in range(edges):\n",
    "        u = vec[i][0]\n",
    "        v = vec[i][1]\n",
    "        w = vec[i][2]\n",
    "        adj[u].append([v, w])\n",
    "        adj[v].append([u, w])\n",
    "        \n",
    "    dist = [2147483647]*vertices\n",
    "    st = set() # set<pair<int, int>>\n",
    "    \n",
    "    dist[source] = 0\n",
    "    \n",
    "    # (node distance, node)\n",
    "    st.add(tuple([0, source]))\n",
    "    \n",
    "    while(len(st)>0):\n",
    "        top = list(st)[-1]\n",
    "        \n",
    "        nodeDistance = top[0]\n",
    "        topNode = top[1]\n",
    "        \n",
    "        # remove top record now\n",
    "        st.discard(top)\n",
    "        # traverse on neighbours\n",
    "        for nei in adj[topNode]:\n",
    "            if (nodeDistance+nei[1] < dist[nei[0]]):\n",
    "                record = tuple([dist[nei[0]], nei[0]])\n",
    "                recordExist = record in st\n",
    "                if recordExist:\n",
    "                    st.discard(record)\n",
    "                \n",
    "                # update dist\n",
    "                dist[nei[0]] = nodeDistance + nei[1]\n",
    "                # record push i set\n",
    "                st.add(tuple([dist[nei[0]], nei[0]]))\n",
    "                \n",
    "    return dist"
   ]
  },
  {
   "cell_type": "code",
   "execution_count": null,
   "id": "46387bb3",
   "metadata": {},
   "outputs": [],
   "source": []
  },
  {
   "cell_type": "code",
   "execution_count": 36,
   "id": "8d07e06e",
   "metadata": {},
   "outputs": [
    {
     "data": {
      "text/plain": [
       "True"
      ]
     },
     "execution_count": 36,
     "metadata": {},
     "output_type": "execute_result"
    }
   ],
   "source": [
    "l = [[1, 2, 3], [2, 4, 5], [1, 2, 3], [2, 4, 5]]\n",
    "s = set()\n",
    "s.add(tuple([1,2,3]))\n",
    "s.add(tuple([4,5,6]))\n",
    "\n",
    "# s.discard(list(s)[-1])\n",
    "list(s)[0] == (1,2,3)"
   ]
  },
  {
   "cell_type": "raw",
   "id": "f3b568da",
   "metadata": {},
   "source": [
    "https://leetcode.com/problems/network-delay-time/"
   ]
  }
 ],
 "metadata": {
  "kernelspec": {
   "display_name": "Python 3 (ipykernel)",
   "language": "python",
   "name": "python3"
  },
  "language_info": {
   "codemirror_mode": {
    "name": "ipython",
    "version": 3
   },
   "file_extension": ".py",
   "mimetype": "text/x-python",
   "name": "python",
   "nbconvert_exporter": "python",
   "pygments_lexer": "ipython3",
   "version": "3.9.7"
  }
 },
 "nbformat": 4,
 "nbformat_minor": 5
}
