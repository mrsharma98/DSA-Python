{
 "cells": [
  {
   "cell_type": "code",
   "execution_count": 3,
   "id": "c9b1d378",
   "metadata": {},
   "outputs": [],
   "source": [
    "def fabo(num):\n",
    "    if (num == 0 or num == 1):\n",
    "        return num\n",
    "    \n",
    "    return fabo(num-1) + fabo(num-2)"
   ]
  },
  {
   "cell_type": "code",
   "execution_count": 4,
   "id": "e8a26474",
   "metadata": {},
   "outputs": [
    {
     "data": {
      "text/plain": [
       "5"
      ]
     },
     "execution_count": 4,
     "metadata": {},
     "output_type": "execute_result"
    }
   ],
   "source": [
    "fabo(5)"
   ]
  },
  {
   "cell_type": "code",
   "execution_count": null,
   "id": "81d5d158",
   "metadata": {},
   "outputs": [],
   "source": []
  }
 ],
 "metadata": {
  "kernelspec": {
   "display_name": "Python 3 (ipykernel)",
   "language": "python",
   "name": "python3"
  },
  "language_info": {
   "codemirror_mode": {
    "name": "ipython",
    "version": 3
   },
   "file_extension": ".py",
   "mimetype": "text/x-python",
   "name": "python",
   "nbconvert_exporter": "python",
   "pygments_lexer": "ipython3",
   "version": "3.9.7"
  }
 },
 "nbformat": 4,
 "nbformat_minor": 5
}
