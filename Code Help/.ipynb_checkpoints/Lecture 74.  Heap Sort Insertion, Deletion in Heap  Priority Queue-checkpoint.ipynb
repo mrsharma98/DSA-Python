{
 "cells": [
  {
   "cell_type": "code",
   "execution_count": 32,
   "id": "073b8a1c",
   "metadata": {},
   "outputs": [],
   "source": [
    "class Heap:\n",
    "    arr = [0]\n",
    "    size = 0\n",
    "    \n",
    "    # O(log n)\n",
    "    def insert(self, val):\n",
    "        self.size += 1\n",
    "        index = self.size\n",
    "        self.arr.append(val)\n",
    "        \n",
    "        while (index>1):\n",
    "            parent = index//2\n",
    "            if self.arr[parent]<self.arr[index]:\n",
    "                self.arr[parent], self.arr[index] = self.arr[index], self.arr[parent]\n",
    "            else:\n",
    "                return\n",
    "    \n",
    "    \n",
    "    # put the last node to the first place and remove it\n",
    "    # place the root node to its correct position\n",
    "    # compare it with it's child and find the larger among them\n",
    "    def deletionOfRootNode(self):\n",
    "        if self.size == 0:\n",
    "            print(\"Notion to delete\")\n",
    "            return\n",
    "        \n",
    "        self.arr[1] = self.arr[self.size]\n",
    "        self.size -= 1\n",
    "        \n",
    "        # take root to its correct position\n",
    "        i = 1\n",
    "        while i<self.size:\n",
    "            leftIndex = 2*i\n",
    "            rightIndex = 2*i+1\n",
    "            \n",
    "            if (leftIndex<self.size and self.arr[i]<self.arr[leftIndex]):\n",
    "                self.arr[i], self.arr[leftIndex] = self.arr[leftIndex], self.arr[i]\n",
    "                i = leftIndex\n",
    "            elif (rightIndex<self.size and self.arr[i]<self.arr[rightIndex]):\n",
    "                self.arr[i], self.arr[rightIndex] = self.arr[rightIndex], self.arr[i]\n",
    "                i = rightIndex\n",
    "            else:\n",
    "                return\n",
    "    \n",
    "    \n",
    "    def printHeap(self):\n",
    "        for i in self.arr:\n",
    "            print(i)"
   ]
  },
  {
   "cell_type": "code",
   "execution_count": 33,
   "id": "6bf428b8",
   "metadata": {},
   "outputs": [],
   "source": [
    "h = Heap()"
   ]
  },
  {
   "cell_type": "code",
   "execution_count": 34,
   "id": "019c95c4",
   "metadata": {},
   "outputs": [
    {
     "name": "stdout",
     "output_type": "stream",
     "text": [
      "0\n",
      "55\n",
      "54\n",
      "53\n",
      "50\n",
      "52\n",
      "0\n",
      "54\n",
      "52\n",
      "53\n",
      "50\n",
      "52\n"
     ]
    }
   ],
   "source": [
    "h.insert(50)\n",
    "h.insert(55)\n",
    "h.insert(53)\n",
    "h.insert(52)\n",
    "h.insert(54)\n",
    "h.printHeap()\n",
    "\n",
    "h.deletionOfRootNode()\n",
    "h.printHeap()"
   ]
  },
  {
   "cell_type": "code",
   "execution_count": null,
   "id": "20116142",
   "metadata": {},
   "outputs": [],
   "source": []
  },
  {
   "cell_type": "code",
   "execution_count": null,
   "id": "658ed974",
   "metadata": {},
   "outputs": [],
   "source": []
  },
  {
   "cell_type": "code",
   "execution_count": null,
   "id": "61d8dc8a",
   "metadata": {},
   "outputs": [],
   "source": []
  },
  {
   "cell_type": "markdown",
   "id": "5957dbe4",
   "metadata": {},
   "source": [
    "# Heapify Algorithm"
   ]
  },
  {
   "cell_type": "code",
   "execution_count": 10,
   "id": "4289b1da",
   "metadata": {},
   "outputs": [],
   "source": [
    "#TC:- O(log n)\n",
    "\n",
    "# for max heap\n",
    "def heapify(arr, n, i):\n",
    "    largest = i\n",
    "    left = 2*i\n",
    "    right = (2*i)+1\n",
    "    \n",
    "    if left<=n and arr[largest]<arr[left]:\n",
    "        largest = left\n",
    "    if right<=n and arr[largest]<arr[right]:\n",
    "        largest = right\n",
    "    \n",
    "    if largest != i:\n",
    "        arr[largest], arr[i] = arr[i], arr[largest]\n",
    "        heapify(arr, n, largest)\n",
    "\n",
    "# for min heap\n",
    "def heapifyForMinHeap(arr, n, i):\n",
    "    smallest = i\n",
    "    left = 2*i\n",
    "    right = 2*i+1\n",
    "    \n",
    "    if left<=n and arr[smallest]>arr[left]:\n",
    "        smallest = left\n",
    "    if right<=n and arr[smallest]>arr[right]:\n",
    "        smallest = right\n",
    "    \n",
    "    if smallest != i:\n",
    "        arr[smallest], arr[i] = arr[i], arr[smallest]\n",
    "        heapifyForMinHeap(arr, n, smallest)"
   ]
  },
  {
   "cell_type": "code",
   "execution_count": 53,
   "id": "6cebb307",
   "metadata": {},
   "outputs": [],
   "source": [
    "arr = [-1, 54, 53, 55, 52, 50]\n",
    "n = 5\n",
    "\n",
    "#O(n)\n",
    "for i in range(n//2, 0, -1):\n",
    "    heapifyForMinHeap(arr, n, i)"
   ]
  },
  {
   "cell_type": "code",
   "execution_count": null,
   "id": "b2eb4294",
   "metadata": {},
   "outputs": [],
   "source": []
  },
  {
   "cell_type": "code",
   "execution_count": null,
   "id": "1c53c883",
   "metadata": {},
   "outputs": [],
   "source": []
  },
  {
   "cell_type": "markdown",
   "id": "912e37cf",
   "metadata": {},
   "source": [
    "# Heap Sort"
   ]
  },
  {
   "cell_type": "raw",
   "id": "d274e293",
   "metadata": {},
   "source": [
    "if have an array\n",
    "\n",
    "step-1:- swap root with the last one\n",
    "step-2:- now exclude the last element in the curr array,\n",
    "    and not the main array as it will be the largest\n",
    "step-3:- now place the root element to it's correct poisition\n",
    "step-4:- repeat step-1 to 3"
   ]
  },
  {
   "cell_type": "code",
   "execution_count": 11,
   "id": "c11a134c",
   "metadata": {},
   "outputs": [],
   "source": [
    "def heapSort(arr, n):\n",
    "    size = n\n",
    "    while (size>1):\n",
    "        arr[size], arr[1] = arr[1], arr[size]\n",
    "        size -= 1\n",
    "        \n",
    "        heapify(arr, size, 1)"
   ]
  },
  {
   "cell_type": "code",
   "execution_count": 12,
   "id": "2e567e2c",
   "metadata": {},
   "outputs": [],
   "source": [
    "arr = [-1, 54, 53, 55, 52, 50]\n",
    "n = 5\n",
    "heapSort(arr, n)"
   ]
  },
  {
   "cell_type": "code",
   "execution_count": 13,
   "id": "e9269e52",
   "metadata": {},
   "outputs": [
    {
     "data": {
      "text/plain": [
       "[-1, 50, 52, 53, 55, 54]"
      ]
     },
     "execution_count": 13,
     "metadata": {},
     "output_type": "execute_result"
    }
   ],
   "source": [
    "arr"
   ]
  },
  {
   "cell_type": "code",
   "execution_count": null,
   "id": "c9726df6",
   "metadata": {},
   "outputs": [],
   "source": []
  }
 ],
 "metadata": {
  "kernelspec": {
   "display_name": "Python 3 (ipykernel)",
   "language": "python",
   "name": "python3"
  },
  "language_info": {
   "codemirror_mode": {
    "name": "ipython",
    "version": 3
   },
   "file_extension": ".py",
   "mimetype": "text/x-python",
   "name": "python",
   "nbconvert_exporter": "python",
   "pygments_lexer": "ipython3",
   "version": "3.9.7"
  }
 },
 "nbformat": 4,
 "nbformat_minor": 5
}
