{
 "cells": [
  {
   "cell_type": "raw",
   "id": "19c91dd9",
   "metadata": {},
   "source": [
    "# N meetings i One Room"
   ]
  },
  {
   "cell_type": "raw",
   "id": "f7984447",
   "metadata": {},
   "source": [
    "https://www.codingninjas.com/codestudio/problems/maximum-meetings_1062658"
   ]
  },
  {
   "cell_type": "code",
   "execution_count": null,
   "id": "d0ee2f11",
   "metadata": {},
   "outputs": [],
   "source": [
    "sort ending time\n",
    "start = [1,,3,0,5,8,5], end = [2,4,6,7,9,9]\n",
    "-- if two meetings have same end time, sort them in descending oder.\n",
    "\n",
    "[(1,2), (3,4), (0,6), (5,7), (8,9), (5,9)]"
   ]
  },
  {
   "cell_type": "code",
   "execution_count": 23,
   "id": "248c2c55",
   "metadata": {},
   "outputs": [],
   "source": [
    "# TC:- O(nlogn)\n",
    "# SC:- O(n)\n",
    "\n",
    "class Solution:\n",
    "    \n",
    "    def maxMeetings(self, start, end):\n",
    "        # pair <int, int>\n",
    "        v = []\n",
    "        n = len(start)\n",
    "        for i in range(n):\n",
    "            v.append([start[i], end[i]])\n",
    "        v = sorted(v, key = lambda x: (x[1], -x[0]))\n",
    "        count = 1\n",
    "        ansEnd = v[0][1]\n",
    "        \n",
    "        for i in range(1, n):\n",
    "            if (v[i][0] > ansEnd):\n",
    "                count += 1\n",
    "                ansEnd = v[i][1]\n",
    "        return count"
   ]
  },
  {
   "cell_type": "code",
   "execution_count": 24,
   "id": "048a42ca",
   "metadata": {},
   "outputs": [],
   "source": [
    "s = Solution()"
   ]
  },
  {
   "cell_type": "code",
   "execution_count": 25,
   "id": "bcfcbf6e",
   "metadata": {},
   "outputs": [
    {
     "data": {
      "text/plain": [
       "4"
      ]
     },
     "execution_count": 25,
     "metadata": {},
     "output_type": "execute_result"
    }
   ],
   "source": [
    "start = [1,3,0,5,8,5]\n",
    "end = [2,4,6,7,9,9]\n",
    "s.maxMeetings(start, end)"
   ]
  },
  {
   "cell_type": "code",
   "execution_count": null,
   "id": "c009f812",
   "metadata": {},
   "outputs": [],
   "source": []
  },
  {
   "cell_type": "code",
   "execution_count": null,
   "id": "75b1295f",
   "metadata": {},
   "outputs": [],
   "source": []
  },
  {
   "cell_type": "code",
   "execution_count": 12,
   "id": "a6e91e05",
   "metadata": {},
   "outputs": [
    {
     "data": {
      "text/plain": [
       "[[1, 2], [3, 4], [0, 6], [5, 7], [8, 9], [5, 9]]"
      ]
     },
     "execution_count": 12,
     "metadata": {},
     "output_type": "execute_result"
    }
   ],
   "source": [
    "a = [[1,2], [3,4], [0,6], [5,9], [8,9], [5,7],]\n",
    "a = sorted(a, key = lambda x: (x[1], -x[0]))\n",
    "a"
   ]
  },
  {
   "cell_type": "code",
   "execution_count": null,
   "id": "afcd944a",
   "metadata": {},
   "outputs": [],
   "source": []
  }
 ],
 "metadata": {
  "kernelspec": {
   "display_name": "Python 3 (ipykernel)",
   "language": "python",
   "name": "python3"
  },
  "language_info": {
   "codemirror_mode": {
    "name": "ipython",
    "version": 3
   },
   "file_extension": ".py",
   "mimetype": "text/x-python",
   "name": "python",
   "nbconvert_exporter": "python",
   "pygments_lexer": "ipython3",
   "version": "3.9.7"
  }
 },
 "nbformat": 4,
 "nbformat_minor": 5
}
