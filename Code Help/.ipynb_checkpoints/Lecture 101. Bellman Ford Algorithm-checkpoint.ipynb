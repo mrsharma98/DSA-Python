{
 "cells": [
  {
   "cell_type": "raw",
   "id": "39dfaa22",
   "metadata": {},
   "source": [
    "check  notes"
   ]
  },
  {
   "cell_type": "code",
   "execution_count": null,
   "id": "be035a37",
   "metadata": {},
   "outputs": [],
   "source": [
    "def bellmonFord(n, m, src, dest, edges):\n",
    "    # Write your code here.\n",
    "    dist = [1000000000]*(n+1)\n",
    "    dist[src] = 0\n",
    "    \n",
    "    # (n-1) times\n",
    "    for i in range(1, n):\n",
    "        #traverse on edge list\n",
    "        for j in range(m):\n",
    "            u = edges[j][0]\n",
    "            v = edges[j][1]\n",
    "            wt = edges[j][2]\n",
    "            \n",
    "            if (dist[u] != 1000000000) and ((dist[u]+wt)<dist[v]):\n",
    "                dist[v] = dist[u] + wt\n",
    "    \n",
    "    # check for -ve cycle\n",
    "    flag = 0\n",
    "    for j in range(m):\n",
    "        u = edges[j][0]\n",
    "        v = edges[j][1]\n",
    "        wt = edges[j][2]\n",
    "\n",
    "        if dist[u] != 1000000000 and (dist[u]+wt)<dist[v]:\n",
    "            flag = 1\n",
    "    \n",
    "    if flag == 0:\n",
    "        # no -ve cycle\n",
    "        return dist[dest]\n",
    "    return -1"
   ]
  }
 ],
 "metadata": {
  "kernelspec": {
   "display_name": "Python 3 (ipykernel)",
   "language": "python",
   "name": "python3"
  },
  "language_info": {
   "codemirror_mode": {
    "name": "ipython",
    "version": 3
   },
   "file_extension": ".py",
   "mimetype": "text/x-python",
   "name": "python",
   "nbconvert_exporter": "python",
   "pygments_lexer": "ipython3",
   "version": "3.9.7"
  }
 },
 "nbformat": 4,
 "nbformat_minor": 5
}
