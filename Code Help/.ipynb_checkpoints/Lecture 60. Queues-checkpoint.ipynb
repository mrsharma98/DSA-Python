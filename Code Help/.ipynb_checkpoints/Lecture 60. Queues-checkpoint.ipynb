{
 "cells": [
  {
   "cell_type": "code",
   "execution_count": 1,
   "id": "32f1a159",
   "metadata": {},
   "outputs": [],
   "source": [
    "class Queue:\n",
    "    \n",
    "    def __init__(self):\n",
    "        self.size = 1000001\n",
    "        self.arr = [None]*size\n",
    "        self.front = 0\n",
    "        self.rear = 0\n",
    "        \n",
    "    def enqueue(self, data):\n",
    "        if self.rear == self.size:\n",
    "            return -1\n",
    "        else:\n",
    "            self.arr[self.rear] = data\n",
    "            self.rear += 1\n",
    "        \n",
    "    def dequeue(self):\n",
    "        if self.front == self.rear:\n",
    "            return -1\n",
    "        else:\n",
    "            ans = self.arr[self.front]\n",
    "            self.arr[self.front] = -1\n",
    "            self.front += 1\n",
    "            if self.front == self.rear:\n",
    "                self.front = 0\n",
    "                self.rear = 0\n",
    "                \n",
    "            return ans\n",
    "    \n",
    "    def qFront(self):\n",
    "        if self.front == self.rear:\n",
    "            return -1\n",
    "        return self.arr[self.front]\n",
    "    \n",
    "    def isEmpty(self):\n",
    "        return self.front == self.rear"
   ]
  },
  {
   "cell_type": "code",
   "execution_count": null,
   "id": "2571219b",
   "metadata": {},
   "outputs": [],
   "source": []
  },
  {
   "cell_type": "code",
   "execution_count": 2,
   "id": "23f80c7d",
   "metadata": {},
   "outputs": [],
   "source": [
    "# Circular Queue"
   ]
  },
  {
   "cell_type": "code",
   "execution_count": 3,
   "id": "fc3fa38c",
   "metadata": {},
   "outputs": [],
   "source": [
    "# https://leetcode.com/problems/design-circular-queue/"
   ]
  },
  {
   "cell_type": "code",
   "execution_count": 4,
   "id": "c8cb8bb2",
   "metadata": {},
   "outputs": [],
   "source": [
    "# here if the queue is full,\n",
    "# then rear goes to the start of the queue"
   ]
  },
  {
   "cell_type": "code",
   "execution_count": null,
   "id": "021b23cd",
   "metadata": {},
   "outputs": [],
   "source": []
  },
  {
   "cell_type": "code",
   "execution_count": null,
   "id": "6b402279",
   "metadata": {},
   "outputs": [],
   "source": []
  },
  {
   "cell_type": "code",
   "execution_count": 8,
   "id": "ab8256fd",
   "metadata": {},
   "outputs": [],
   "source": [
    "# input Restricted Queue"
   ]
  },
  {
   "cell_type": "code",
   "execution_count": 9,
   "id": "92e47f43",
   "metadata": {},
   "outputs": [],
   "source": [
    "# 1. insert only from rear\n",
    "# 2. pop from front as well as rear"
   ]
  },
  {
   "cell_type": "code",
   "execution_count": null,
   "id": "f75863c3",
   "metadata": {},
   "outputs": [],
   "source": []
  },
  {
   "cell_type": "code",
   "execution_count": 10,
   "id": "ed9d0a1b",
   "metadata": {},
   "outputs": [],
   "source": [
    "# output Restricted Queue"
   ]
  },
  {
   "cell_type": "code",
   "execution_count": 12,
   "id": "33ffb620",
   "metadata": {},
   "outputs": [],
   "source": [
    "# 1. insert from both side\n",
    "# 2. pop from front only"
   ]
  },
  {
   "cell_type": "code",
   "execution_count": null,
   "id": "031ae78a",
   "metadata": {},
   "outputs": [],
   "source": []
  },
  {
   "cell_type": "code",
   "execution_count": 13,
   "id": "2604e94e",
   "metadata": {},
   "outputs": [],
   "source": [
    "# Doubly ended Queue (Deque)"
   ]
  },
  {
   "cell_type": "code",
   "execution_count": 15,
   "id": "a36eeadc",
   "metadata": {},
   "outputs": [],
   "source": [
    "# There are 4 types of operations\n",
    "# push and pop from both the ends\n",
    "# push back, pop back, push front, pop front"
   ]
  },
  {
   "cell_type": "code",
   "execution_count": 1,
   "id": "ee38ab99",
   "metadata": {},
   "outputs": [],
   "source": [
    "# https://leetcode.com/problems/design-circular-deque/"
   ]
  },
  {
   "cell_type": "code",
   "execution_count": null,
   "id": "e56b71e1",
   "metadata": {},
   "outputs": [],
   "source": []
  }
 ],
 "metadata": {
  "kernelspec": {
   "display_name": "Python 3 (ipykernel)",
   "language": "python",
   "name": "python3"
  },
  "language_info": {
   "codemirror_mode": {
    "name": "ipython",
    "version": 3
   },
   "file_extension": ".py",
   "mimetype": "text/x-python",
   "name": "python",
   "nbconvert_exporter": "python",
   "pygments_lexer": "ipython3",
   "version": "3.9.7"
  }
 },
 "nbformat": 4,
 "nbformat_minor": 5
}
