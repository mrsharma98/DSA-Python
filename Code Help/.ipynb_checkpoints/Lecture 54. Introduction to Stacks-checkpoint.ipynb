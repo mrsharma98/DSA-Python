{
 "cells": [
  {
   "cell_type": "code",
   "execution_count": 1,
   "id": "b4b7d1d4",
   "metadata": {},
   "outputs": [],
   "source": [
    "# LIFO"
   ]
  },
  {
   "cell_type": "code",
   "execution_count": 2,
   "id": "73a55177",
   "metadata": {},
   "outputs": [],
   "source": [
    "# push\n",
    "# pop\n",
    "# peak\n",
    "# isEmpty"
   ]
  },
  {
   "cell_type": "code",
   "execution_count": 3,
   "id": "fecd43b7",
   "metadata": {},
   "outputs": [],
   "source": [
    "# Class called Stack and implement all the operations"
   ]
  },
  {
   "cell_type": "code",
   "execution_count": 7,
   "id": "91cb2b26",
   "metadata": {},
   "outputs": [],
   "source": [
    "class Stack:\n",
    "    top = -1\n",
    "    arr = []\n",
    "    size = 0\n",
    "    \n",
    "    def __init__(self, size):\n",
    "        self.arr = [None]*size\n",
    "        self.size = size\n",
    "        self.top = -1\n",
    "    \n",
    "    def push(self, data):\n",
    "        if self.size-self.top>1:\n",
    "            self.top += 1\n",
    "            self.arr[self.top] = data\n",
    "        else:\n",
    "            print(\"Stack overflow\")\n",
    "    \n",
    "    def pop(self):\n",
    "        if self.top >= 0:\n",
    "            self.arr[self.top] = None\n",
    "            self.top -= 1\n",
    "        else:\n",
    "            print(\"Stack underflow\")\n",
    "    \n",
    "    def peek(self):\n",
    "        if self.top >= 0 and self.top<self.size:\n",
    "            return self.arr[self.top]\n",
    "        else:\n",
    "            print(\"Stack is empty\")\n",
    "            \n",
    "    def isEmpty(self):\n",
    "        return self.top==-1"
   ]
  },
  {
   "cell_type": "code",
   "execution_count": 8,
   "id": "4fe1e49d",
   "metadata": {},
   "outputs": [],
   "source": [
    "st = Stack(5)"
   ]
  },
  {
   "cell_type": "code",
   "execution_count": 9,
   "id": "7ff2f19c",
   "metadata": {},
   "outputs": [],
   "source": [
    "st.push(22)\n",
    "st.push(43)\n",
    "st.push(44)"
   ]
  },
  {
   "cell_type": "code",
   "execution_count": 11,
   "id": "9a5616c2",
   "metadata": {},
   "outputs": [
    {
     "data": {
      "text/plain": [
       "44"
      ]
     },
     "execution_count": 11,
     "metadata": {},
     "output_type": "execute_result"
    }
   ],
   "source": [
    "st.peek()"
   ]
  },
  {
   "cell_type": "code",
   "execution_count": 16,
   "id": "7babb58b",
   "metadata": {},
   "outputs": [
    {
     "name": "stdout",
     "output_type": "stream",
     "text": [
      "Stack underflow\n"
     ]
    }
   ],
   "source": [
    "st.pop()\n",
    "st.pop()\n",
    "st.pop()"
   ]
  },
  {
   "cell_type": "code",
   "execution_count": 17,
   "id": "697e4dbc",
   "metadata": {},
   "outputs": [
    {
     "name": "stdout",
     "output_type": "stream",
     "text": [
      "Stack is empty\n"
     ]
    }
   ],
   "source": [
    "st.peek()"
   ]
  },
  {
   "cell_type": "code",
   "execution_count": 19,
   "id": "e768bcc1",
   "metadata": {},
   "outputs": [
    {
     "data": {
      "text/plain": [
       "True"
      ]
     },
     "execution_count": 19,
     "metadata": {},
     "output_type": "execute_result"
    }
   ],
   "source": [
    "st.isEmpty()"
   ]
  },
  {
   "cell_type": "code",
   "execution_count": null,
   "id": "5071083d",
   "metadata": {},
   "outputs": [],
   "source": []
  },
  {
   "cell_type": "code",
   "execution_count": null,
   "id": "cab2fca9",
   "metadata": {},
   "outputs": [],
   "source": []
  },
  {
   "cell_type": "code",
   "execution_count": 20,
   "id": "5cf2fd9a",
   "metadata": {},
   "outputs": [],
   "source": [
    "# 2 Stack in one array"
   ]
  },
  {
   "cell_type": "code",
   "execution_count": 21,
   "id": "0ea2106c",
   "metadata": {},
   "outputs": [],
   "source": [
    "# requirements\n",
    "# one array\n",
    "# 2 top\n",
    "# size of the array"
   ]
  },
  {
   "cell_type": "code",
   "execution_count": 22,
   "id": "53c9da5c",
   "metadata": {},
   "outputs": [],
   "source": [
    "# for Stack1 -- insertion is from left to right\n",
    "# for Stack2 -- insertion is from right to left"
   ]
  },
  {
   "cell_type": "code",
   "execution_count": null,
   "id": "3d879685",
   "metadata": {},
   "outputs": [],
   "source": [
    "class TwoStack:\n",
    "    def __init__(self, size):\n",
    "        self.size = size\n",
    "        self.arr = [None]*size\n",
    "        self.top1 = -1\n",
    "        self.top2 = size\n",
    "    \n",
    "    def push1(self, data):\n",
    "        if self.top2-self.top>1:\n",
    "            self.top1 += 1\n",
    "            self.arr[self.top1] = data\n",
    "        else:\n",
    "            print(\"Stack overflow\")\n",
    "    \n",
    "    def push2(self, data):\n",
    "        if self.top2-self.top1>1:\n",
    "            self.top2 -= 1\n",
    "            self.arr[self.top2] = data\n",
    "        else:\n",
    "            print(\"Stack Overflow\")\n",
    "    \n",
    "    def pop1(self):\n",
    "        if self.top1 >= 0:\n",
    "            ans = self.arr[self.top1]\n",
    "            self.top -= 1\n",
    "            return ans\n",
    "        return -1\n",
    "    \n",
    "    def pop2(self):\n",
    "        if self.top2 < self.size:\n",
    "            ans = self.arr[top2]\n",
    "            self.top2 += 1\n",
    "            return ans\n",
    "        return -1"
   ]
  }
 ],
 "metadata": {
  "kernelspec": {
   "display_name": "Python 3 (ipykernel)",
   "language": "python",
   "name": "python3"
  },
  "language_info": {
   "codemirror_mode": {
    "name": "ipython",
    "version": 3
   },
   "file_extension": ".py",
   "mimetype": "text/x-python",
   "name": "python",
   "nbconvert_exporter": "python",
   "pygments_lexer": "ipython3",
   "version": "3.9.7"
  }
 },
 "nbformat": 4,
 "nbformat_minor": 5
}
