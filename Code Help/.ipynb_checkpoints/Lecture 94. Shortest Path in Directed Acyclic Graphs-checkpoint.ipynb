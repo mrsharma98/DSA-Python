{
 "cells": [
  {
   "cell_type": "code",
   "execution_count": 74,
   "id": "44c34154",
   "metadata": {},
   "outputs": [],
   "source": [
    "from collections import defaultdict\n",
    "import sys\n",
    "\n",
    "class Graph:\n",
    "    \n",
    "    def __init__(self):\n",
    "        # <int, list<pair<int, int>>>\n",
    "        self.adj = defaultdict(list)\n",
    "    \n",
    "    \n",
    "    def addEdges(self, u, v, weight):\n",
    "        p = [v, weight]\n",
    "        self.adj[u].append(p)\n",
    "        \n",
    "    def printAdj(self):\n",
    "        for i in self.adj:\n",
    "            print(i, \"-->\", end=\" \")\n",
    "            for j in self.adj[i]:\n",
    "                print(j, end=\"\")\n",
    "            print(\"\\n\")\n",
    "    \n",
    "    def dfs(self, node, vis, topo):\n",
    "        vis[node] = True\n",
    "        \n",
    "        for nei in self.adj[node]:\n",
    "            if not vis.get(nei[0]):\n",
    "                self.dfs(nei[0], vis, topo)\n",
    "        topo.append(node)\n",
    "        \n",
    "    def getShortestPath(self, src, dist, topo):\n",
    "        dist[src] = 0\n",
    "\n",
    "        while (len(topo)>0):\n",
    "            top = topo.pop()\n",
    "\n",
    "            if dist[top] != sys.maxsize:\n",
    "                for i in self.adj[top]:\n",
    "                    if (dist[top]+i[1]<dist[i[0]]):\n",
    "                        dist[i[0]] = dist[top]+i[1]"
   ]
  },
  {
   "cell_type": "code",
   "execution_count": 75,
   "id": "f7880d33",
   "metadata": {},
   "outputs": [],
   "source": [
    "g = Graph()"
   ]
  },
  {
   "cell_type": "code",
   "execution_count": 76,
   "id": "860740ec",
   "metadata": {},
   "outputs": [],
   "source": [
    "g.addEdges(0,1,5)\n",
    "g.addEdges(0,2,3)\n",
    "g.addEdges(1,2,2)\n",
    "g.addEdges(1,3,6)\n",
    "g.addEdges(2,3,7)\n",
    "g.addEdges(2,4,4)\n",
    "g.addEdges(2,5,2)\n",
    "g.addEdges(3,4,-1)\n",
    "g.addEdges(4,5,-2)"
   ]
  },
  {
   "cell_type": "code",
   "execution_count": 77,
   "id": "f96076eb",
   "metadata": {},
   "outputs": [],
   "source": [
    "# Topological sort\n",
    "n = 6  # total nodes\n",
    "visited = {}\n",
    "s = []\n",
    "for i in range(n):\n",
    "    if not visited.get(i):\n",
    "        g.dfs(i, visited, s)\n",
    "        \n",
    "src = 1\n",
    "dist = [sys.maxsize]*n\n",
    "g.getShortestPath(src, dist, s)\n"
   ]
  },
  {
   "cell_type": "code",
   "execution_count": 79,
   "id": "79f1a8f1",
   "metadata": {},
   "outputs": [
    {
     "data": {
      "text/plain": [
       "[9223372036854775807, 0, 2, 6, 5, 3]"
      ]
     },
     "execution_count": 79,
     "metadata": {},
     "output_type": "execute_result"
    }
   ],
   "source": [
    "# ans\n",
    "dist"
   ]
  },
  {
   "cell_type": "code",
   "execution_count": null,
   "id": "4b5e05bb",
   "metadata": {},
   "outputs": [],
   "source": []
  }
 ],
 "metadata": {
  "kernelspec": {
   "display_name": "Python 3 (ipykernel)",
   "language": "python",
   "name": "python3"
  },
  "language_info": {
   "codemirror_mode": {
    "name": "ipython",
    "version": 3
   },
   "file_extension": ".py",
   "mimetype": "text/x-python",
   "name": "python",
   "nbconvert_exporter": "python",
   "pygments_lexer": "ipython3",
   "version": "3.9.7"
  }
 },
 "nbformat": 4,
 "nbformat_minor": 5
}
