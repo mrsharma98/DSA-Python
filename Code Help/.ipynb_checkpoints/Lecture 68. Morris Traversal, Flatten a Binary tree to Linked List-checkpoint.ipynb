{
 "cells": [
  {
   "cell_type": "code",
   "execution_count": 4,
   "id": "365813c5",
   "metadata": {},
   "outputs": [],
   "source": [
    "# Approach-1\n",
    "# use Inorder traversal"
   ]
  },
  {
   "cell_type": "raw",
   "id": "6873fdea",
   "metadata": {},
   "source": [
    "# Approach-2 (Morris Traversal)\n",
    "# we make temporary links here\n",
    "\n",
    " # Algo:\n",
    "current = root\n",
    "while root!=None:\n",
    "    if left not exist\n",
    "        visit current\n",
    "        current = current.right\n",
    "    else\n",
    "        predecerr = find current\n",
    "        if pred.right == None\n",
    "            pred.right = current\n",
    "            current = current.left\n",
    "        else\n",
    "            pred.right = None\n",
    "            visit current\n",
    "            current = current.right"
   ]
  },
  {
   "cell_type": "code",
   "execution_count": null,
   "id": "d9eba958",
   "metadata": {},
   "outputs": [],
   "source": []
  },
  {
   "cell_type": "code",
   "execution_count": null,
   "id": "9748ab23",
   "metadata": {},
   "outputs": [],
   "source": []
  },
  {
   "cell_type": "code",
   "execution_count": null,
   "id": "ad94d4c4",
   "metadata": {},
   "outputs": [],
   "source": []
  },
  {
   "cell_type": "code",
   "execution_count": 5,
   "id": "a3505e90",
   "metadata": {},
   "outputs": [],
   "source": [
    "# Flatten the Tree (inplace)"
   ]
  },
  {
   "cell_type": "code",
   "execution_count": 1,
   "id": "e31c3a1e",
   "metadata": {},
   "outputs": [],
   "source": [
    "# just link the most right of left subtree, if not then most left to root ka right\n",
    "# and root ka right to root ka left and root ka left is none"
   ]
  },
  {
   "cell_type": "code",
   "execution_count": null,
   "id": "52920d3c",
   "metadata": {},
   "outputs": [],
   "source": [
    "class Solution:\n",
    "    def faltten(root):\n",
    "        curr = root\n",
    "        \n",
    "        while curr != None:\n",
    "            \n",
    "            if curr.left:\n",
    "                pred = curr.left\n",
    "                while (pred.right!=None):\n",
    "                    pred = pred.right\n",
    "                \n",
    "                pred.right = curr.right\n",
    "                curr.right = curr.left\n",
    "                \n",
    "                # left part ko None karo (Method-1)\n",
    "                curr.left = None\n",
    "                \n",
    "            curr = curr.right\n",
    "        \n",
    "        # left part ko None karo (Method-2)\n",
    "#         curr = root:\n",
    "#             while curr!=None:\n",
    "#                 curr.left = None\n",
    "#                 curr = curr.right"
   ]
  }
 ],
 "metadata": {
  "kernelspec": {
   "display_name": "Python 3 (ipykernel)",
   "language": "python",
   "name": "python3"
  },
  "language_info": {
   "codemirror_mode": {
    "name": "ipython",
    "version": 3
   },
   "file_extension": ".py",
   "mimetype": "text/x-python",
   "name": "python",
   "nbconvert_exporter": "python",
   "pygments_lexer": "ipython3",
   "version": "3.9.7"
  }
 },
 "nbformat": 4,
 "nbformat_minor": 5
}
