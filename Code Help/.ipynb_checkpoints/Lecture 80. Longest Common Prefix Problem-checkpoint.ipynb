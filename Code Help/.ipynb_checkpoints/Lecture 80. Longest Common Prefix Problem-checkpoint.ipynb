{
 "cells": [
  {
   "cell_type": "raw",
   "id": "95e86994",
   "metadata": {},
   "source": [
    "Eg:- [\"coding\", \"codezen\", \"coders\", \"codingninja\"]\n",
    "o/p:- \"cod\""
   ]
  },
  {
   "cell_type": "raw",
   "id": "f10fbcc3",
   "metadata": {},
   "source": [
    "https://leetcode.com/problems/longest-common-prefix/"
   ]
  },
  {
   "cell_type": "raw",
   "id": "721e60ce",
   "metadata": {},
   "source": [
    "Approach-1\n",
    "\n",
    "-- take first string\n",
    "-- now take every char of the 1st string and compare it with all the string, character by character\n",
    "\n",
    "TC:- O(m*n)\n",
    "SC:- O(1)"
   ]
  },
  {
   "cell_type": "code",
   "execution_count": 1,
   "id": "2e78a6b4",
   "metadata": {},
   "outputs": [],
   "source": [
    "def approach1(arr, n):\n",
    "    ans = \"\"\n",
    "    for i in range(len(arr[0])):\n",
    "        ch = arr[0][i]\n",
    "        match = True\n",
    "        \n",
    "        for j in range(1, n):\n",
    "            if arr[j][i] != ch:\n",
    "                match = False\n",
    "        if match == False:\n",
    "            break\n",
    "        else:\n",
    "            ans += ch\n",
    "    return ans"
   ]
  },
  {
   "cell_type": "code",
   "execution_count": 4,
   "id": "f6771d2c",
   "metadata": {},
   "outputs": [
    {
     "data": {
      "text/plain": [
       "'cod'"
      ]
     },
     "execution_count": 4,
     "metadata": {},
     "output_type": "execute_result"
    }
   ],
   "source": [
    "approach1([\"coding\", \"codezen\", \"coders\", \"codingninja\"], 4)"
   ]
  },
  {
   "cell_type": "code",
   "execution_count": null,
   "id": "6f9948c9",
   "metadata": {},
   "outputs": [],
   "source": []
  },
  {
   "cell_type": "code",
   "execution_count": null,
   "id": "df87d29d",
   "metadata": {},
   "outputs": [],
   "source": []
  },
  {
   "cell_type": "raw",
   "id": "58172ede",
   "metadata": {},
   "source": [
    "Approach-2\n",
    "\n",
    "-- insert all the strings into Trie\n",
    "- if the node has one child then add it to the answer\n",
    "-- ek hi child hona chahiye\n",
    "\n",
    "\n",
    "TC and SC:- O(m*n)"
   ]
  },
  {
   "cell_type": "code",
   "execution_count": 5,
   "id": "10ec9d71",
   "metadata": {},
   "outputs": [],
   "source": [
    "class TrieNode:\n",
    "    def __init__(self, ch):\n",
    "        self.data = ch\n",
    "        self.children = [None]*26\n",
    "        self.childCount = 0\n",
    "        self.isTerminal = False"
   ]
  },
  {
   "cell_type": "code",
   "execution_count": 8,
   "id": "d657a4b3",
   "metadata": {},
   "outputs": [],
   "source": [
    "class Trie:\n",
    "    def __init__(self):\n",
    "        self.root = '\\0'\n",
    "        \n",
    "    def insertUtil(self, root, word):\n",
    "        if len(word)==0:\n",
    "            self.isTerminal = True\n",
    "            return\n",
    "        \n",
    "        index = ord(word[0]) - ord('a')\n",
    "        if root.children[index] != None:\n",
    "            child = root.children[index]\n",
    "        else:\n",
    "            child = TrieNode(word[0])\n",
    "            root.childCount += 1\n",
    "            root.children[index] = child\n",
    "        \n",
    "        self.insertUtil(root, word[1:])\n",
    "        \n",
    "        \n",
    "    def insert(self, word):\n",
    "        self.insertUtil(self.root, word)\n",
    "        \n",
    "    def lcp(self, string, ans):\n",
    "        for i in range(len(string)):\n",
    "            ch = string[i]\n",
    "            if root.childCount == 1:\n",
    "                ans += ch\n",
    "                # move forward\n",
    "                index = ord(ch)-ord('a')\n",
    "                root = root.children[index]\n",
    "            else:\n",
    "                break\n",
    "            \n",
    "            if root.isTerminal:\n",
    "                break"
   ]
  },
  {
   "cell_type": "code",
   "execution_count": 9,
   "id": "5938f66a",
   "metadata": {},
   "outputs": [],
   "source": [
    "def Approach2(arr, n):\n",
    "    t = Trie()\n",
    "    \n",
    "    # insert all strings into Trie\n",
    "    for i in arr:\n",
    "        t.insert(i)\n",
    "    \n",
    "    first = arr[0]\n",
    "    ans = \"\"\n",
    "    t.lcp(first, ans)\n",
    "    return ans"
   ]
  },
  {
   "cell_type": "code",
   "execution_count": null,
   "id": "7fc070ac",
   "metadata": {},
   "outputs": [],
   "source": []
  }
 ],
 "metadata": {
  "kernelspec": {
   "display_name": "Python 3 (ipykernel)",
   "language": "python",
   "name": "python3"
  },
  "language_info": {
   "codemirror_mode": {
    "name": "ipython",
    "version": 3
   },
   "file_extension": ".py",
   "mimetype": "text/x-python",
   "name": "python",
   "nbconvert_exporter": "python",
   "pygments_lexer": "ipython3",
   "version": "3.9.7"
  }
 },
 "nbformat": 4,
 "nbformat_minor": 5
}
