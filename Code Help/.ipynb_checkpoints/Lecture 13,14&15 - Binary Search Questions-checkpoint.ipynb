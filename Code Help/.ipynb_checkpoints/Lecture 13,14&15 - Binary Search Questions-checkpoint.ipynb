{
 "cells": [
  {
   "cell_type": "code",
   "execution_count": 1,
   "id": "f1fc73df",
   "metadata": {},
   "outputs": [],
   "source": [
    "# first and last occurence of an element"
   ]
  },
  {
   "cell_type": "code",
   "execution_count": 2,
   "id": "471bbbaa",
   "metadata": {},
   "outputs": [],
   "source": [
    "# i/p:- 0 0 0 2 2 3 3 -- sorted array\n",
    "# o/p:- (find occurence of 2) -- 3 4\n",
    "# o/p:- (find occurence of 1) -- -1 -1"
   ]
  },
  {
   "cell_type": "code",
   "execution_count": 3,
   "id": "dea6e654",
   "metadata": {},
   "outputs": [],
   "source": [
    "def firstPosition(arr, n, key):\n",
    "    s= 0\n",
    "    e = len(arr)-1\n",
    "    mid = s+(e-s)//2\n",
    "    ans = -1\n",
    "    \n",
    "    while(s<=e):\n",
    "        if arr[mid] == key:\n",
    "            ans = mid\n",
    "            e = mid-1\n",
    "        \n",
    "        elif key > arr[mid]:\n",
    "            s = mid+1\n",
    "        elif key < arr[mid]:\n",
    "            e = mid-1\n",
    "        mid = s+(e-s)//2\n",
    "    return ans\n",
    "\n",
    "def lastPosition(arr, n, key):\n",
    "    s= 0\n",
    "    e = len(arr)-1\n",
    "    mid = s+(e-s)//2\n",
    "    ans = -1\n",
    "    \n",
    "    while(s<=e):\n",
    "        if arr[mid] == key:\n",
    "            ans = mid\n",
    "            s = mid+1\n",
    "        \n",
    "        elif key > arr[mid]:\n",
    "            s = mid+1\n",
    "        elif key < arr[mid]:\n",
    "            e = mid-1\n",
    "        mid = s+(e-s)//2\n",
    "    return ans"
   ]
  },
  {
   "cell_type": "code",
   "execution_count": 5,
   "id": "0f814efe",
   "metadata": {},
   "outputs": [
    {
     "name": "stdout",
     "output_type": "stream",
     "text": [
      "3\n",
      "3\n"
     ]
    }
   ],
   "source": [
    "arr = [0, 0, 0, 2, 3, 3]\n",
    "print(firstPosition(arr, len(arr), 2))\n",
    "print(lastPosition(arr, len(arr), 2))"
   ]
  },
  {
   "cell_type": "code",
   "execution_count": null,
   "id": "7a10349f",
   "metadata": {},
   "outputs": [],
   "source": []
  },
  {
   "cell_type": "code",
   "execution_count": null,
   "id": "6bf5a851",
   "metadata": {},
   "outputs": [],
   "source": []
  },
  {
   "cell_type": "code",
   "execution_count": 1,
   "id": "09bf7394",
   "metadata": {},
   "outputs": [],
   "source": [
    "# find the peak value"
   ]
  },
  {
   "cell_type": "code",
   "execution_count": 2,
   "id": "39c2daaf",
   "metadata": {},
   "outputs": [],
   "source": [
    "# i/p:- sorted array -- first in ascending then descending\n",
    "# [0, 6, 7, 8, 3,2]\n",
    "# o/p:- 8"
   ]
  },
  {
   "cell_type": "code",
   "execution_count": 5,
   "id": "9dfb1529",
   "metadata": {},
   "outputs": [],
   "source": [
    "def peakElement(arr, n):\n",
    "    s = 0\n",
    "    e = len(arr)-1\n",
    "    mid = s+(e-s)//2\n",
    "    \n",
    "    while (s<e):\n",
    "        if arr[mid]<arr[mid+1]:\n",
    "            s = mid+1\n",
    "        else:\n",
    "            e = mid\n",
    "        mid = s+(e-s)//2\n",
    "    return s"
   ]
  },
  {
   "cell_type": "code",
   "execution_count": 7,
   "id": "25d21932",
   "metadata": {},
   "outputs": [
    {
     "data": {
      "text/plain": [
       "3"
      ]
     },
     "execution_count": 7,
     "metadata": {},
     "output_type": "execute_result"
    }
   ],
   "source": [
    "arr = [0, 6, 7, 8, 3, 2]\n",
    "peakElement(arr, len(arr))"
   ]
  },
  {
   "cell_type": "code",
   "execution_count": null,
   "id": "2edba513",
   "metadata": {},
   "outputs": [],
   "source": []
  },
  {
   "cell_type": "code",
   "execution_count": null,
   "id": "2dfc33e0",
   "metadata": {},
   "outputs": [],
   "source": [
    "# Advance"
   ]
  },
  {
   "cell_type": "code",
   "execution_count": 3,
   "id": "b9323fba",
   "metadata": {},
   "outputs": [],
   "source": [
    "# Question - 1\n",
    "# Book Allocation problem"
   ]
  },
  {
   "cell_type": "code",
   "execution_count": 1,
   "id": "7161e6ad",
   "metadata": {},
   "outputs": [],
   "source": [
    "def isPossibleSolution(arr, n, m, mid):\n",
    "    studentCount = 1\n",
    "    pageSum = 0\n",
    "    \n",
    "    for i in range(n):\n",
    "        if (pageSum + arr[i] <= mid):\n",
    "            pageSum += arr[i]\n",
    "        else:\n",
    "            studentCount += 1\n",
    "            if (studentCount > m or arr[i] > mid):\n",
    "                return False\n",
    "            \n",
    "            pageSum = arr[i]\n",
    "    \n",
    "    return True\n",
    "\n",
    "\n",
    "def bookAllocation(arr, n, m):\n",
    "    s = 0\n",
    "    sumOfArr = sum(arr)\n",
    "    e = sumOfArr\n",
    "    mid = s + (e-s)//2\n",
    "    \n",
    "    while (s<=e):\n",
    "        if isPossibleSolution(arr, n, m, mid):\n",
    "            ans = mid\n",
    "            e = mid-1\n",
    "        else:\n",
    "            s = mid+1\n",
    "        mid = s + (e-s)//2\n",
    "        \n",
    "    return ans"
   ]
  },
  {
   "cell_type": "code",
   "execution_count": null,
   "id": "046e3bfb",
   "metadata": {},
   "outputs": [],
   "source": []
  },
  {
   "cell_type": "code",
   "execution_count": null,
   "id": "2f82ac01",
   "metadata": {},
   "outputs": [],
   "source": []
  },
  {
   "cell_type": "code",
   "execution_count": 2,
   "id": "970b25b7",
   "metadata": {},
   "outputs": [],
   "source": [
    "# Printer Partition Problem\n",
    "# same as book allocation"
   ]
  },
  {
   "cell_type": "code",
   "execution_count": null,
   "id": "e9c3aef2",
   "metadata": {},
   "outputs": [],
   "source": []
  },
  {
   "cell_type": "code",
   "execution_count": 3,
   "id": "36286792",
   "metadata": {},
   "outputs": [],
   "source": [
    "# Aggressive Cow problem"
   ]
  },
  {
   "cell_type": "code",
   "execution_count": null,
   "id": "5cbf6514",
   "metadata": {},
   "outputs": [],
   "source": [
    "def isPossibleSolution(stalls, k, mid):\n",
    "    cowCount = 1\n",
    "    \n",
    "    # placing firat cow\n",
    "    lastPosition = stalls[0]\n",
    "    \n",
    "    for i in range(len(stalls)):\n",
    "        if ((stalls[i] - lastPosition) >= mid):\n",
    "            cowCount += 1\n",
    "            if (cowCount == k):\n",
    "                return True\n",
    "            lastPosition = stalls[i]\n",
    "    \n",
    "    return False\n",
    "\n",
    "def agressiveCows(stalls, k):\n",
    "    stalls.sort()\n",
    "    s = 0\n",
    "    e = max(arr) - min(arr)\n",
    "    ans = -1\n",
    "    mid = s + (e-s)//2\n",
    "    \n",
    "    while (s<=e):\n",
    "        if isPossibleSolution(stalls, k, mid):\n",
    "            ans = mid\n",
    "            s = mid + 1\n",
    "        else:\n",
    "            e = mid - 1\n",
    "        mid = s + (e-s)//2\n",
    "    \n",
    "    return ans"
   ]
  }
 ],
 "metadata": {
  "kernelspec": {
   "display_name": "Python 3 (ipykernel)",
   "language": "python",
   "name": "python3"
  },
  "language_info": {
   "codemirror_mode": {
    "name": "ipython",
    "version": 3
   },
   "file_extension": ".py",
   "mimetype": "text/x-python",
   "name": "python",
   "nbconvert_exporter": "python",
   "pygments_lexer": "ipython3",
   "version": "3.9.7"
  }
 },
 "nbformat": 4,
 "nbformat_minor": 5
}
