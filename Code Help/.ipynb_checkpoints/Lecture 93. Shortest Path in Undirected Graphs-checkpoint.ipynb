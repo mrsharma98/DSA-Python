{
 "cells": [
  {
   "cell_type": "raw",
   "id": "1f1f7704",
   "metadata": {},
   "source": [
    "Check notes for explanation"
   ]
  },
  {
   "cell_type": "raw",
   "id": "ed19ce51",
   "metadata": {},
   "source": [
    "https://www.codingninjas.com/codestudio/problems/shortest-path-in-an-unweighted-graph_981297?leftPanelTab=0"
   ]
  },
  {
   "cell_type": "code",
   "execution_count": null,
   "id": "45bc8c93",
   "metadata": {},
   "outputs": [],
   "source": [
    "from collections import defaultdict\n",
    "def shortestPath(edges, n, m, s, t):\n",
    "    # Write your code here\n",
    "    # Return a list of integer\n",
    "    \n",
    "    # create adjacency list\n",
    "    adj = defaultdict(list)\n",
    "    for i in range(len(edges)):\n",
    "        u = edges[i][0]\n",
    "        v = edges[i][1]\n",
    "        adj[u].append(v)\n",
    "        adj[v].append(u)\n",
    "        \n",
    "    # do bfs\n",
    "    visited = {}\n",
    "    parent = {}\n",
    "    q = []\n",
    "    q.append(s)\n",
    "    visited[s] = True\n",
    "    parent[s] = -1\n",
    "    \n",
    "    while (len(q)>0):\n",
    "        front = q.pop(0)\n",
    "        \n",
    "        for nei in adj[front]:\n",
    "            if not visited.get(nei):\n",
    "                visited[nei] = True\n",
    "                parent[nei] = front\n",
    "                q.append(nei)\n",
    "#     print(adj, parent)    \n",
    "    # prepare shortest part\n",
    "    ans = []\n",
    "    currentNode = t\n",
    "    ans.append(currentNode)\n",
    "    while (currentNode != s):\n",
    "        currentNode = parent[currentNode]\n",
    "        ans.append(currentNode)\n",
    "    \n",
    "    return ans[::-1]"
   ]
  }
 ],
 "metadata": {
  "kernelspec": {
   "display_name": "Python 3 (ipykernel)",
   "language": "python",
   "name": "python3"
  },
  "language_info": {
   "codemirror_mode": {
    "name": "ipython",
    "version": 3
   },
   "file_extension": ".py",
   "mimetype": "text/x-python",
   "name": "python",
   "nbconvert_exporter": "python",
   "pygments_lexer": "ipython3",
   "version": "3.9.7"
  }
 },
 "nbformat": 4,
 "nbformat_minor": 5
}
