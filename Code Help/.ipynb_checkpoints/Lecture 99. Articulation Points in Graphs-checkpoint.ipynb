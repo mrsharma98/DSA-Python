{
 "cells": [
  {
   "cell_type": "raw",
   "id": "324ff8dd",
   "metadata": {},
   "source": [
    "BF Aproach:\n",
    "remove one node at a time and check the number of components\n",
    "\n",
    "TC:- O(V*(V+E)), for every dfs will take O(V+E)"
   ]
  },
  {
   "cell_type": "raw",
   "id": "2ea65587",
   "metadata": {},
   "source": [
    "Let's optimize it to O(V+E)\n",
    "\n",
    "check notes"
   ]
  },
  {
   "cell_type": "code",
   "execution_count": 9,
   "id": "d70fe502",
   "metadata": {},
   "outputs": [],
   "source": [
    "from collections import defaultdict\n",
    "\n",
    "\n",
    "def dfs(node, parent, disc, low, vis, adj, ap, timer):\n",
    "    \n",
    "    vis[node] = True\n",
    "    disc[node] = timer\n",
    "    low[node] = timer\n",
    "    timer += 1\n",
    "    \n",
    "    child = 0\n",
    "    for nbr in  adj[node]:\n",
    "        if nbr == parent:\n",
    "            continue\n",
    "        if not vis.get(nbr):\n",
    "            dfs(nbr, node, disc, low, vis, adj, ap, timer)\n",
    "            low[node] = min(low[node], low[nbr])\n",
    "            \n",
    "            # check if AP\n",
    "            if (low[nbr]>=disc[node] and parent != -1):\n",
    "                ap[node] = 1\n",
    "                \n",
    "            child += 1\n",
    "        else:\n",
    "            # for BE\n",
    "            low[node] = min(low[node], disc[nbr])\n",
    "        \n",
    "    if parent == -1 and child>1:\n",
    "        ap[node] = 1\n",
    "            \n",
    "            \n",
    "        \n",
    "\n",
    "def main():\n",
    "    n = 5\n",
    "    e = 5\n",
    "    edges = [[0,3], [3,4], [0,4], [0,1], [1,2]]\n",
    "    \n",
    "    # adj List\n",
    "    adj = defaultdict(list)\n",
    "    for i in range(len(edges)):\n",
    "        u = edges[i][0]\n",
    "        v = edges[i][1]\n",
    "        adj[u].append(v)\n",
    "        adj[v].append(u)\n",
    "        \n",
    "    \n",
    "    timer = 0\n",
    "    disc = [-1]*n\n",
    "    low = [-1]*n\n",
    "    vis = {}\n",
    "    ap = [0]*n\n",
    "    \n",
    "    for i in range(n):\n",
    "        if not vis.get(i):\n",
    "            dfs(i, -1, disc, low, vis, adj, ap, timer)\n",
    "    \n",
    "    # print AP\n",
    "    for i in range(n):\n",
    "        if ap[i] != 0:\n",
    "            print(\"node: \", i)"
   ]
  },
  {
   "cell_type": "code",
   "execution_count": 10,
   "id": "64a326c9",
   "metadata": {},
   "outputs": [
    {
     "name": "stdout",
     "output_type": "stream",
     "text": [
      "node:  0\n",
      "node:  1\n"
     ]
    }
   ],
   "source": [
    "main()"
   ]
  },
  {
   "cell_type": "code",
   "execution_count": null,
   "id": "ea489255",
   "metadata": {},
   "outputs": [],
   "source": []
  }
 ],
 "metadata": {
  "kernelspec": {
   "display_name": "Python 3 (ipykernel)",
   "language": "python",
   "name": "python3"
  },
  "language_info": {
   "codemirror_mode": {
    "name": "ipython",
    "version": 3
   },
   "file_extension": ".py",
   "mimetype": "text/x-python",
   "name": "python",
   "nbconvert_exporter": "python",
   "pygments_lexer": "ipython3",
   "version": "3.9.7"
  }
 },
 "nbformat": 4,
 "nbformat_minor": 5
}
