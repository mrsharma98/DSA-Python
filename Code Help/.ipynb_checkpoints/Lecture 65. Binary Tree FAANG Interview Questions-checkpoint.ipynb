{
 "cells": [
  {
   "cell_type": "markdown",
   "id": "16639443",
   "metadata": {},
   "source": [
    "# Sum of the longest Bloodline of a Tree"
   ]
  },
  {
   "cell_type": "code",
   "execution_count": null,
   "id": "8b492b4c",
   "metadata": {},
   "outputs": [],
   "source": [
    "# Sum of nodes on the longest path from root to leaf node"
   ]
  },
  {
   "cell_type": "code",
   "execution_count": null,
   "id": "cdddc452",
   "metadata": {},
   "outputs": [],
   "source": [
    "# ans = (sum, path length)"
   ]
  },
  {
   "cell_type": "code",
   "execution_count": null,
   "id": "d28059b0",
   "metadata": {},
   "outputs": [],
   "source": [
    "solve(root, summ, maxSum, lng, maxLen):\n",
    "    #base case\n",
    "    if root == None:\n",
    "        if lng>maxLen:\n",
    "            maxLen = lng\n",
    "            maxSum = summ\n",
    "        elif lng==maxLen:\n",
    "            maxSum = max(summ, maxSum)\n",
    "        return\n",
    "    \n",
    "    summ += root.val\n",
    "    solve(root.left, summ, maxSum, lng+1, maxLen)\n",
    "    solve(root.right, summ, maxSum, lng+1, maxLen)\n",
    "\n",
    "def sumOfLongRootToLeafPath(root):\n",
    "    lng = 0\n",
    "    maxLen = 0\n",
    "    summ = 0\n",
    "    maxSum = -9999999\n",
    "    \n",
    "    solve(root, summ, maxSum, lng, maxLen)"
   ]
  },
  {
   "cell_type": "code",
   "execution_count": null,
   "id": "8a5fe509",
   "metadata": {},
   "outputs": [],
   "source": []
  },
  {
   "cell_type": "code",
   "execution_count": null,
   "id": "9fe25cf3",
   "metadata": {},
   "outputs": [],
   "source": []
  },
  {
   "cell_type": "markdown",
   "id": "26ee0d14",
   "metadata": {},
   "source": [
    "# LCA -> Lowest common anchester of any two given nodes"
   ]
  },
  {
   "cell_type": "code",
   "execution_count": null,
   "id": "706685fa",
   "metadata": {},
   "outputs": [],
   "source": [
    "# https://leetcode.com/problems/lowest-common-ancestor-of-a-binary-tree/"
   ]
  },
  {
   "cell_type": "code",
   "execution_count": null,
   "id": "40492d68",
   "metadata": {},
   "outputs": [],
   "source": [
    "def lco(root, n1, n2):\n",
    "    # base case\n",
    "    if root == None:\n",
    "        return None\n",
    "    \n",
    "    if (root.data == n1) or (root.data == n2):\n",
    "        return root\n",
    "    \n",
    "    leftAns = lco(root.left, n1, n2)\n",
    "    rightAns = lco(root.right, n1, n2)\n",
    "    \n",
    "    if (leftAns!=None) and (right!=None):\n",
    "        return root\n",
    "    elif (leftAns!=None) and (rightAns==None):\n",
    "        return leftAns\n",
    "    elif (leftAns==None) and (rightAns!=None):\n",
    "        return rightAns\n",
    "    else:\n",
    "        return None\n",
    "    \n",
    "# TC:- O(n)\n",
    "# SC:- O(n)--worst and O(h) -- Avg"
   ]
  },
  {
   "cell_type": "code",
   "execution_count": null,
   "id": "25530e60",
   "metadata": {},
   "outputs": [],
   "source": []
  },
  {
   "cell_type": "code",
   "execution_count": null,
   "id": "e34ee6dd",
   "metadata": {},
   "outputs": [],
   "source": []
  },
  {
   "cell_type": "code",
   "execution_count": null,
   "id": "669836cd",
   "metadata": {},
   "outputs": [],
   "source": []
  },
  {
   "cell_type": "markdown",
   "id": "64b03c53",
   "metadata": {},
   "source": [
    "# K sum paths"
   ]
  },
  {
   "cell_type": "code",
   "execution_count": null,
   "id": "2971c132",
   "metadata": {},
   "outputs": [],
   "source": [
    "def solve(root, k, count, path):\n",
    "    # base case\n",
    "    if root == None:\n",
    "        return\n",
    "    \n",
    "    path.append(root.val)\n",
    "    \n",
    "    # left call\n",
    "    solve(root.left, k, count, path)\n",
    "    # right call\n",
    "    solve(root.right, k, count, path)\n",
    "    \n",
    "    # check for k sum\n",
    "    sum = 0\n",
    "    for i in range(len(path)):\n",
    "        summ += path[i]\n",
    "        if summ == k:\n",
    "            count += 1\n",
    "            \n",
    "    path.pop()\n",
    "    \n",
    "    \n",
    "\n",
    "def sumK(root, k):\n",
    "    path = []\n",
    "    count = 0\n",
    "    \n",
    "    solve(root, k, count, path)\n",
    "    return count"
   ]
  },
  {
   "cell_type": "code",
   "execution_count": null,
   "id": "48583460",
   "metadata": {},
   "outputs": [],
   "source": []
  },
  {
   "cell_type": "code",
   "execution_count": null,
   "id": "5994725c",
   "metadata": {},
   "outputs": [],
   "source": []
  },
  {
   "cell_type": "markdown",
   "id": "734d65e6",
   "metadata": {},
   "source": [
    "# Kth Ancestor of a given node"
   ]
  },
  {
   "cell_type": "code",
   "execution_count": 1,
   "id": "a369fb82",
   "metadata": {},
   "outputs": [],
   "source": [
    "# Approach - 1\n",
    "\n",
    "# store the path from root to the given node in an array\n",
    "# now go back from the last element and count till k.\n",
    "\n",
    "# SC - O(n)"
   ]
  },
  {
   "cell_type": "code",
   "execution_count": 2,
   "id": "ce27a364",
   "metadata": {},
   "outputs": [],
   "source": [
    "# first find node\n",
    "# then return null and not null for right and left to every node\n",
    "# if not null, k--\n",
    "# k == 0, return node"
   ]
  },
  {
   "cell_type": "code",
   "execution_count": 3,
   "id": "3fae7526",
   "metadata": {},
   "outputs": [],
   "source": [
    "def solve(root, k, node):\n",
    "    # base case\n",
    "    if root == None:\n",
    "        return None\n",
    "    \n",
    "    if root.val == node:\n",
    "        return root\n",
    "    \n",
    "    leftAns = solve(root.left, k, node)\n",
    "    rightAns = solve(root.right, k, node)\n",
    "    \n",
    "    # wapas upar jayege ab\n",
    "    # right and left ka answer aagya\n",
    "    if leftAns != None and rightAns == None:\n",
    "        k -= 1\n",
    "        if k <= 0:\n",
    "            k = -9999999\n",
    "            # ans lock\n",
    "            return root\n",
    "        return leftAns\n",
    "    \n",
    "    if leftAns == None and rightAns != None:\n",
    "        k -= 1\n",
    "        if k <= 0:\n",
    "            k = -9999999\n",
    "            # ans lock\n",
    "            return root\n",
    "        return rightAns\n",
    "    \n",
    "    return None\n",
    "\n",
    "def kthAncestor(root, k, node):\n",
    "    ans = solve(root, k, node)\n",
    "    if ans == None or ans.val == node:\n",
    "        return -1\n",
    "    else:\n",
    "        return ans.val"
   ]
  },
  {
   "cell_type": "code",
   "execution_count": null,
   "id": "935b1bbb",
   "metadata": {},
   "outputs": [],
   "source": []
  },
  {
   "cell_type": "code",
   "execution_count": null,
   "id": "44098fe6",
   "metadata": {},
   "outputs": [],
   "source": []
  },
  {
   "cell_type": "markdown",
   "id": "378d19d3",
   "metadata": {},
   "source": [
    "# Max sum of Non-adjacent nodes"
   ]
  },
  {
   "cell_type": "code",
   "execution_count": 5,
   "id": "0b115cb4",
   "metadata": {},
   "outputs": [],
   "source": [
    "# <a, b>\n",
    "# a --> max sum by including nodes at current level\n",
    "# b --> max sum by excluding nodes at current level"
   ]
  },
  {
   "cell_type": "code",
   "execution_count": 6,
   "id": "4391a06e",
   "metadata": {},
   "outputs": [],
   "source": [
    "def solve(root):\n",
    "    # base case\n",
    "    if root == None:\n",
    "        p = [0, 0]\n",
    "        return p\n",
    "    \n",
    "    left = solve(root.left)\n",
    "    right = solve(root.right)\n",
    "    \n",
    "    res = [0, 0]\n",
    "    res[0] = root.val + left[1] + right[1]\n",
    "    res[1] = max(left[0], left[1]) + max(right[0], right[1])\n",
    "    \n",
    "    return res\n",
    "    \n",
    "    \n",
    "def getMaxSum(root):\n",
    "    ans = [0, 0]\n",
    "    ans = solve(root)\n",
    "    return max(ans[0], ans[1])"
   ]
  },
  {
   "cell_type": "code",
   "execution_count": null,
   "id": "6ec4fa44",
   "metadata": {},
   "outputs": [],
   "source": []
  }
 ],
 "metadata": {
  "kernelspec": {
   "display_name": "Python 3 (ipykernel)",
   "language": "python",
   "name": "python3"
  },
  "language_info": {
   "codemirror_mode": {
    "name": "ipython",
    "version": 3
   },
   "file_extension": ".py",
   "mimetype": "text/x-python",
   "name": "python",
   "nbconvert_exporter": "python",
   "pygments_lexer": "ipython3",
   "version": "3.9.7"
  }
 },
 "nbformat": 4,
 "nbformat_minor": 5
}
