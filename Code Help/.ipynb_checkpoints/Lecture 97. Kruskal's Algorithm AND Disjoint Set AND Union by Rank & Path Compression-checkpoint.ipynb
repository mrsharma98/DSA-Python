{
 "cells": [
  {
   "cell_type": "raw",
   "id": "eeef69c5",
   "metadata": {},
   "source": [
    "TC:- O(m logn)\n",
    "SC:- O(n)\n",
    "find parent and union -- usually has O(1) TC"
   ]
  },
  {
   "cell_type": "code",
   "execution_count": 2,
   "id": "50b409c4",
   "metadata": {},
   "outputs": [],
   "source": [
    "def makeSet(parent, n):\n",
    "    for i in range(n):\n",
    "        parent[i] = i\n",
    "\n",
    "def findParent(parent, node):\n",
    "    if parent[node] == node:\n",
    "        return node\n",
    "#     return parent[node] = findParent(parent, parent[node])\n",
    "    # returning like this to directly point bottom nodes to parent node\n",
    "    return findParent(parent, parent[node])\n",
    "\n",
    "def unionSet(u, v, parent, rank):\n",
    "    u = findParent(parent, u)\n",
    "    v = findParent(parent, v)\n",
    "    \n",
    "    if (rank[u] < rank[v]):\n",
    "        parent[u] = v\n",
    "    elif (rank[v] < rank[u]):\n",
    "        parent[v] = u\n",
    "    else:\n",
    "        parent[v] = u\n",
    "        rank[u] += 1\n",
    "        \n",
    "def cmp(lst):\n",
    "    return lst[2]\n",
    "    \n",
    "\n",
    "    \n",
    "def minimumSpanningTree(edges, n):\n",
    "    \n",
    "    edges.sort(key=cmp)\n",
    "    parent = [0]*n\n",
    "    rank = [0]*n\n",
    "    makeSet(parent, n)\n",
    "    \n",
    "    minWeight = 0\n",
    "    \n",
    "    for i in range(len(edges)):\n",
    "        u = findParent(parent, edges[i][0])\n",
    "        v = findParent(parent, edges[i][1])\n",
    "        wt = edges[i][2]\n",
    "        \n",
    "        if u!=v:\n",
    "            minWeight += wt \n",
    "            unionSet(u, v, parent, rank)\n",
    "    return minWeight"
   ]
  },
  {
   "cell_type": "code",
   "execution_count": 40,
   "id": "cc50e91f",
   "metadata": {},
   "outputs": [
    {
     "name": "stdout",
     "output_type": "stream",
     "text": [
      "[2, 3]\n",
      "[1, 4]\n",
      "[0, 2]\n",
      "[10, 6]\n",
      "[6, 7]\n"
     ]
    },
    {
     "data": {
      "text/plain": [
       "[[0, 2], [2, 3], [1, 4], [10, 6], [6, 7]]"
      ]
     },
     "execution_count": 40,
     "metadata": {},
     "output_type": "execute_result"
    }
   ],
   "source": [
    "def compare(lst):\n",
    "    print(lst)\n",
    "    return lst[1]\n",
    "# Calling\n",
    "a = [[2,3], [1,4], [0,2], [10,6], [6,7]]\n",
    "from functools import cmp_to_key\n",
    "a.sort(key=compare)\n",
    "a"
   ]
  },
  {
   "cell_type": "raw",
   "id": "424b93ef",
   "metadata": {},
   "source": [
    "https://www.codingninjas.com/codestudio/problems/minimum-spanning-tree_631769?"
   ]
  },
  {
   "cell_type": "code",
   "execution_count": 41,
   "id": "e47a78a5",
   "metadata": {},
   "outputs": [],
   "source": [
    "# Edge class for storing the Edges of thee graph\n",
    "class Edge:\n",
    "    \n",
    "    def __init__(self, start, end, weight) :\n",
    "\n",
    "        self.start = start\n",
    "        self.end = end\n",
    "        self.weigth = weight\n",
    "\n",
    "\n",
    "def makeSet(parent, n):\n",
    "    for i in range(n):\n",
    "        parent[i] = i\n",
    "\n",
    "def findParent(parent, node):\n",
    "    if parent[node] == node:\n",
    "        return node\n",
    "#     return parent[node] = findParent(parent, parent[node])\n",
    "    # returning like this to directly point bottom nodes to parent node\n",
    "    return findParent(parent, parent[node])\n",
    "\n",
    "\n",
    "def unionSet(u, v, parent, rank):\n",
    "    u = findParent(parent, u)\n",
    "    v = findParent(parent, v)\n",
    "    \n",
    "    if (rank[u] < rank[v]):\n",
    "        parent[u] = v\n",
    "    elif (rank[v] < rank[u]):\n",
    "        parent[v] = u\n",
    "    else:\n",
    "        parent[v] = u\n",
    "        rank[u] += 1\n",
    "\n",
    "def cmp(lst):\n",
    "    return lst.weigth       \n",
    "\n",
    "def minimumSpanningTree(edges, V, E):\n",
    "\t# Your code goes here\n",
    "    # return your answer\n",
    "    edges.sort(key=cmp)\n",
    "    parent = [0]*V\n",
    "    rank = [0]*V\n",
    "    makeSet(parent, V)\n",
    "    \n",
    "    minWeight = 0\n",
    "    \n",
    "    for i in range(E):\n",
    "        u = findParent(parent, edges[i].start)\n",
    "        v = findParent(parent, edges[i].end)\n",
    "        wt = edges[i].weigth\n",
    "        \n",
    "        if u!=v:\n",
    "            minWeight += wt \n",
    "            unionSet(u, v, parent, rank)\n",
    "    return minWeight"
   ]
  },
  {
   "cell_type": "code",
   "execution_count": null,
   "id": "3e5b4fa9",
   "metadata": {},
   "outputs": [],
   "source": []
  }
 ],
 "metadata": {
  "kernelspec": {
   "display_name": "Python 3 (ipykernel)",
   "language": "python",
   "name": "python3"
  },
  "language_info": {
   "codemirror_mode": {
    "name": "ipython",
    "version": 3
   },
   "file_extension": ".py",
   "mimetype": "text/x-python",
   "name": "python",
   "nbconvert_exporter": "python",
   "pygments_lexer": "ipython3",
   "version": "3.9.7"
  }
 },
 "nbformat": 4,
 "nbformat_minor": 5
}
