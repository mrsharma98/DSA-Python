{
 "cells": [
  {
   "cell_type": "raw",
   "id": "f74804a1",
   "metadata": {},
   "source": [
    "https://leetcode.com/problems/climbing-stairs/"
   ]
  },
  {
   "cell_type": "code",
   "execution_count": 1,
   "id": "02b3f264",
   "metadata": {},
   "outputs": [],
   "source": [
    "# using Recursion\n",
    "def climbStairs(n):\n",
    "    if n==1 or n==2:\n",
    "        return n\n",
    "    \n",
    "    return climbStairs(n-1)+climbStairs(n-2)"
   ]
  },
  {
   "cell_type": "code",
   "execution_count": 7,
   "id": "0493acbb",
   "metadata": {},
   "outputs": [
    {
     "data": {
      "text/plain": [
       "13"
      ]
     },
     "execution_count": 7,
     "metadata": {},
     "output_type": "execute_result"
    }
   ],
   "source": [
    "climbStairs(6)"
   ]
  },
  {
   "cell_type": "code",
   "execution_count": 3,
   "id": "3468f6bf",
   "metadata": {},
   "outputs": [],
   "source": [
    "# Using Top-Bottom approach\n",
    "\n",
    "def solve(n, dp):\n",
    "    if n==1 or n==2:\n",
    "        return n\n",
    "    \n",
    "    if dp[n] != -1:\n",
    "        return dp[n]\n",
    "    \n",
    "    dp[n] = solve(n-1, dp)+solve(n-2, dp)\n",
    "    return dp[n]\n",
    "\n",
    "def main(n):\n",
    "    dp = [-1]*(n+1)\n",
    "    return solve(n, dp)"
   ]
  },
  {
   "cell_type": "code",
   "execution_count": 8,
   "id": "caa492d7",
   "metadata": {},
   "outputs": [
    {
     "data": {
      "text/plain": [
       "13"
      ]
     },
     "execution_count": 8,
     "metadata": {},
     "output_type": "execute_result"
    }
   ],
   "source": [
    "main(6)"
   ]
  },
  {
   "cell_type": "code",
   "execution_count": 9,
   "id": "bfc21ed3",
   "metadata": {},
   "outputs": [
    {
     "data": {
      "text/plain": [
       "13"
      ]
     },
     "execution_count": 9,
     "metadata": {},
     "output_type": "execute_result"
    }
   ],
   "source": [
    "def solve(nStairs, i):\n",
    "    if i==nStairs:\n",
    "        return 1\n",
    "    \n",
    "    if i>nStairs:\n",
    "        return 0\n",
    "    return (solve(nStairs, i+1) + solve(nStairs, i+2))\n",
    "\n",
    "solve(6, 0)"
   ]
  },
  {
   "cell_type": "code",
   "execution_count": null,
   "id": "786baf47",
   "metadata": {},
   "outputs": [],
   "source": []
  },
  {
   "cell_type": "raw",
   "id": "a2c90720",
   "metadata": {},
   "source": [
    "https://leetcode.com/problems/min-cost-climbing-stairs/"
   ]
  },
  {
   "cell_type": "code",
   "execution_count": 11,
   "id": "2d50007f",
   "metadata": {},
   "outputs": [],
   "source": [
    "class Solution:\n",
    "    def solve(self, cost, n, dp):\n",
    "        # Base Case\n",
    "        if n==0 or n==1:\n",
    "            return cost[n]\n",
    "\n",
    "        if dp[n]!=-1:\n",
    "            return dp[n]\n",
    "\n",
    "        dp[n] = cost[n] + min(self.solve(cost, n-1, dp), self.solve(cost, n-2, dp))\n",
    "\n",
    "        return dp[n]\n",
    "\n",
    "    def minCostClimbingStairs(self, cost):\n",
    "        n = len(cost)\n",
    "\n",
    "        dp = [-1]*(n+1)\n",
    "        ans = min(self.solve(cost, n-1, dp), self.solve(cost, n-2, dp))\n",
    "        return ans"
   ]
  },
  {
   "cell_type": "code",
   "execution_count": 12,
   "id": "74d70cde",
   "metadata": {},
   "outputs": [],
   "source": [
    "class Solution:\n",
    "    def solve(self, cost, n):\n",
    "        dp = [-1]*(n+1)\n",
    "        #Base case\n",
    "        dp[0] = cost[0]\n",
    "        dp[1] = cost[1]\n",
    "        \n",
    "        for i in range(2, n):\n",
    "            dp[i] = cost[i] + min(dp[i-1], dp[i-2])\n",
    "            \n",
    "        return min(dp[n-1], dp[n-2])\n",
    "            \n",
    "        \n",
    "    def minCostClimbingStairs(self, cost):\n",
    "        n = len(cost)\n",
    "        \n",
    "        dp = [-1]*(n+1)\n",
    "        return self.solve(cost, n)"
   ]
  },
  {
   "cell_type": "code",
   "execution_count": 14,
   "id": "cdf9e10f",
   "metadata": {},
   "outputs": [
    {
     "ename": "IndentationError",
     "evalue": "unexpected indent (Temp/ipykernel_6888/1716086109.py, line 7)",
     "output_type": "error",
     "traceback": [
      "\u001b[1;36m  File \u001b[1;32m\"C:\\Users\\Admin\\AppData\\Local\\Temp/ipykernel_6888/1716086109.py\"\u001b[1;36m, line \u001b[1;32m7\u001b[0m\n\u001b[1;33m    curr = cost[i] + min(prev1, prev2)\u001b[0m\n\u001b[1;37m    ^\u001b[0m\n\u001b[1;31mIndentationError\u001b[0m\u001b[1;31m:\u001b[0m unexpected indent\n"
     ]
    }
   ],
   "source": [
    "class Solution:\n",
    "\n",
    "    def solve(self, cost, n):\n",
    "        #Base case\n",
    "        prev2 = cost[0]\n",
    "        prev1 = cost[1]\n",
    "        curr = 0\n",
    "        for i in range(2, n):\n",
    "            curr = cost[i] + min(prev1, prev2)\n",
    "            prev1, prev2 = curr, prev1\n",
    "            \n",
    "        return min(prev1, prev2)\n",
    "            \n",
    "            \n",
    "    \n",
    "    def minCostClimbingStairs(self, cost):\n",
    "        n = len(cost)\n",
    "        return self.solve(cost, n)"
   ]
  },
  {
   "cell_type": "code",
   "execution_count": null,
   "id": "10ae7e02",
   "metadata": {},
   "outputs": [],
   "source": []
  }
 ],
 "metadata": {
  "kernelspec": {
   "display_name": "Python 3 (ipykernel)",
   "language": "python",
   "name": "python3"
  },
  "language_info": {
   "codemirror_mode": {
    "name": "ipython",
    "version": 3
   },
   "file_extension": ".py",
   "mimetype": "text/x-python",
   "name": "python",
   "nbconvert_exporter": "python",
   "pygments_lexer": "ipython3",
   "version": "3.9.7"
  }
 },
 "nbformat": 4,
 "nbformat_minor": 5
}
