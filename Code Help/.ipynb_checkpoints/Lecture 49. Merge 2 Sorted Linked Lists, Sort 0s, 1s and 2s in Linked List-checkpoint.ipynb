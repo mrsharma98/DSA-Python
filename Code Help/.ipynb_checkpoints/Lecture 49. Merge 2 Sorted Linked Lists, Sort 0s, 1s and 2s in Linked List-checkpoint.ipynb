{
 "cells": [
  {
   "cell_type": "code",
   "execution_count": 2,
   "id": "2abc92c8",
   "metadata": {},
   "outputs": [],
   "source": [
    "# Sort 0s, 1s and 2s in Linked List"
   ]
  },
  {
   "cell_type": "code",
   "execution_count": 3,
   "id": "965b1d75",
   "metadata": {},
   "outputs": [],
   "source": [
    "# Method - 1"
   ]
  },
  {
   "cell_type": "code",
   "execution_count": 4,
   "id": "d9edbeaf",
   "metadata": {},
   "outputs": [],
   "source": [
    "# Count 0's, 1's and 2's\n",
    "# put it in the LL"
   ]
  },
  {
   "cell_type": "code",
   "execution_count": null,
   "id": "af3b4a5e",
   "metadata": {},
   "outputs": [],
   "source": []
  },
  {
   "cell_type": "code",
   "execution_count": 5,
   "id": "9a3bfaf4",
   "metadata": {},
   "outputs": [],
   "source": [
    "# Method - 2"
   ]
  },
  {
   "cell_type": "code",
   "execution_count": 7,
   "id": "fde1ed79",
   "metadata": {},
   "outputs": [],
   "source": [
    "# changing the pointer\n",
    "# we will make 3 LL for each number, \n",
    "# will put a dummy node first in all three, to avoid complexity\n",
    "# then we will merge it"
   ]
  },
  {
   "cell_type": "code",
   "execution_count": 8,
   "id": "352b49d7",
   "metadata": {},
   "outputs": [],
   "source": [
    "class Node:\n",
    "    def __init__(self, data):\n",
    "        self.data = data\n",
    "        self.next = None"
   ]
  },
  {
   "cell_type": "code",
   "execution_count": null,
   "id": "05d60829",
   "metadata": {},
   "outputs": [],
   "source": [
    "def populate(tail, curr):\n",
    "    tail.next = curr\n",
    "    tail = curr\n",
    "\n",
    "def sort012(head):\n",
    "    zeroHead = Node(-1)\n",
    "    oneHead = Node(-1)\n",
    "    twoHead = Node(-1)\n",
    "    zeroTail = zeroHead\n",
    "    oneTail = oneHead\n",
    "    twoTail = twoHead\n",
    "    \n",
    "    curr = head\n",
    "    \n",
    "    # create separate LL for 0's, 1's and 2's\n",
    "    while curr != None:\n",
    "        value = curr.data\n",
    "        if value == 0:\n",
    "            populate(zeroTail, curr)\n",
    "        elif value == 1:\n",
    "            populate(oneTail, curr)\n",
    "        else:\n",
    "            populate(twoTail, curr)\n",
    "            \n",
    "        curr = curr.next\n",
    "    \n",
    "    # merge the LLs\n",
    "    if oneHead.next != None:\n",
    "        zeroTail.next = oneHead.next\n",
    "    else:\n",
    "        zeroTail.next = twoHead.next\n",
    "    \n",
    "    oneTail.next = twoHead.next\n",
    "    twoTail.next = None\n",
    "    \n",
    "    head = zeroHead.next\n",
    "    \n",
    "    return head\n",
    "    "
   ]
  },
  {
   "cell_type": "code",
   "execution_count": null,
   "id": "7eefccb5",
   "metadata": {},
   "outputs": [],
   "source": []
  },
  {
   "cell_type": "code",
   "execution_count": 1,
   "id": "02e5bb56",
   "metadata": {},
   "outputs": [],
   "source": [
    "# Merge 2 sorted LL"
   ]
  },
  {
   "cell_type": "code",
   "execution_count": null,
   "id": "94fd108e",
   "metadata": {},
   "outputs": [],
   "source": [
    "def solve(first, second):\n",
    "    # if one element is present in first LL\n",
    "    if (first.next == None):\n",
    "        first.next = second\n",
    "        return first\n",
    "    curr1 = first\n",
    "    next1 = curr1.next\n",
    "    curr2 = second\n",
    "    next2 = curr2.next\n",
    "    \n",
    "    while next1 != None and curr2 != None:\n",
    "        if (curr2.data >= curr1.data and curr2.data <= next1.data):\n",
    "            # updating the LL\n",
    "            curr1.next = curr2\n",
    "            next2 = curr2.next\n",
    "            curr2.next = next1\n",
    "            \n",
    "            curr1 = curr2\n",
    "            curr2 = next2\n",
    "        else:\n",
    "            curr1 = next1\n",
    "            next1 = curr1.next\n",
    "            \n",
    "            if next1 == None:\n",
    "                curr1.next = curr2\n",
    "                return first\n",
    "            \n",
    "    return first\n",
    "    \n",
    "    \n",
    "\n",
    "def mergeTwoLists(first, second):\n",
    "    if first == None:\n",
    "        return second\n",
    "    elif second == None:\n",
    "        return first\n",
    "\n",
    "    curr1 = first\n",
    "    curr2 = second\n",
    "    prev = None\n",
    "\n",
    "    if (first.data <= second.data):\n",
    "        return solve(first, second)\n",
    "    else:\n",
    "        return solve(second, first)"
   ]
  },
  {
   "cell_type": "code",
   "execution_count": null,
   "id": "f45032c1",
   "metadata": {},
   "outputs": [],
   "source": []
  },
  {
   "cell_type": "code",
   "execution_count": null,
   "id": "c46eb2ab",
   "metadata": {},
   "outputs": [],
   "source": []
  },
  {
   "cell_type": "code",
   "execution_count": null,
   "id": "cd5de2c0",
   "metadata": {},
   "outputs": [],
   "source": []
  }
 ],
 "metadata": {
  "kernelspec": {
   "display_name": "Python 3 (ipykernel)",
   "language": "python",
   "name": "python3"
  },
  "language_info": {
   "codemirror_mode": {
    "name": "ipython",
    "version": 3
   },
   "file_extension": ".py",
   "mimetype": "text/x-python",
   "name": "python",
   "nbconvert_exporter": "python",
   "pygments_lexer": "ipython3",
   "version": "3.9.7"
  }
 },
 "nbformat": 4,
 "nbformat_minor": 5
}
