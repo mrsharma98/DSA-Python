{
 "cells": [
  {
   "cell_type": "raw",
   "id": "4ca8c339",
   "metadata": {},
   "source": [
    "Using DFS:-\n",
    "\n",
    "everything is same as in undirected graph\n",
    "We need to add one more map(ds as dfsVisited), to track visited in recursion\n",
    "when we go back in recursion then we mark that node False from True\n",
    "-- This is the only catch in this problem\n",
    "\n",
    "-- if visited is True and dfsVisited is True, then cycle"
   ]
  },
  {
   "cell_type": "code",
   "execution_count": 9,
   "id": "f78bcb59",
   "metadata": {},
   "outputs": [],
   "source": [
    "def checkCycleDFS(node, visited, dfsVisited, adj):\n",
    "    visited[node] = True\n",
    "    dfsVisited[node] = True\n",
    "    \n",
    "    for neighbour in adj[node]:\n",
    "        if not visited.get(neighbour):\n",
    "            cycleDetected = checkCycleDFS(neighbour, visited, dfsVisited, adj)\n",
    "            if cycleDetected:\n",
    "                return True\n",
    "        elif dfsVisited[node]:\n",
    "                return True\n",
    "            \n",
    "    dfsVisited[node] = False\n",
    "    \n",
    "    return False\n",
    "            \n",
    "\n",
    "\n",
    "def detectCycleInDirectedGraph(n, m, edges):\n",
    "    adj = {}\n",
    "    for i in range(m):\n",
    "        u = edges[i][0]\n",
    "        v = edges[i][1]\n",
    "        adj.setdefault(u, []).append(v)\n",
    "    \n",
    "    visited = {}\n",
    "    dfsVisited = {}\n",
    "    \n",
    "    # call dfs for all components\n",
    "    for i in range(1, n+1):\n",
    "        if not visited.get(i):\n",
    "            cycleFound = checkCycleDFS(i, visited, dfsVisited, adj)\n",
    "            if cycleFound:\n",
    "                return True\n",
    "    \n",
    "    return False"
   ]
  },
  {
   "cell_type": "raw",
   "id": "f9be75a0",
   "metadata": {},
   "source": [
    "TC:- O(n+m)\n",
    "SC:- Linear"
   ]
  },
  {
   "cell_type": "code",
   "execution_count": null,
   "id": "5ee7420c",
   "metadata": {},
   "outputs": [],
   "source": []
  }
 ],
 "metadata": {
  "kernelspec": {
   "display_name": "Python 3 (ipykernel)",
   "language": "python",
   "name": "python3"
  },
  "language_info": {
   "codemirror_mode": {
    "name": "ipython",
    "version": 3
   },
   "file_extension": ".py",
   "mimetype": "text/x-python",
   "name": "python",
   "nbconvert_exporter": "python",
   "pygments_lexer": "ipython3",
   "version": "3.9.7"
  }
 },
 "nbformat": 4,
 "nbformat_minor": 5
}
