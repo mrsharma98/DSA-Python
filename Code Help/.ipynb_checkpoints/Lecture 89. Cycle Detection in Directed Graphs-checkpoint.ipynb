{
 "cells": [
  {
   "cell_type": "raw",
   "id": "4ca8c339",
   "metadata": {},
   "source": [
    "Using DFS:-\n",
    "\n",
    "everything is same as in undirected graph\n",
    "We need to add one more map(ds as dfsVisited), to track visited in recursion\n",
    "when we go back in recursion then we mark that node False from True\n",
    "-- This is the only catch in this problem\n",
    "\n",
    "-- if visited is True and dfsVisited is True, then cycle"
   ]
  },
  {
   "cell_type": "code",
   "execution_count": 9,
   "id": "f78bcb59",
   "metadata": {},
   "outputs": [],
   "source": [
    "def checkCycleDFS(node, visited, dfsVisited, adj):\n",
    "    visited[node] = True\n",
    "    dfsVisited[node] = True\n",
    "    \n",
    "    for neighbour in adj[node]:\n",
    "        if not visited.get(neighbour):\n",
    "            cycleDetected = checkCycleDFS(neighbour, visited, dfsVisited, adj)\n",
    "            if cycleDetected:\n",
    "                return True\n",
    "        elif dfsVisited[node]:\n",
    "                return True\n",
    "            \n",
    "    dfsVisited[node] = False\n",
    "    \n",
    "    return False\n",
    "            \n",
    "\n",
    "\n",
    "def detectCycleInDirectedGraph(n, m, edges):\n",
    "    adj = {}\n",
    "    for i in range(m):\n",
    "        u = edges[i][0]\n",
    "        v = edges[i][1]\n",
    "        adj.setdefault(u, []).append(v)\n",
    "    \n",
    "    visited = {}\n",
    "    dfsVisited = {}\n",
    "    \n",
    "    # call dfs for all components\n",
    "    for i in range(1, n+1):\n",
    "        if not visited.get(i):\n",
    "            cycleFound = checkCycleDFS(i, visited, dfsVisited, adj)\n",
    "            if cycleFound:\n",
    "                return True\n",
    "    \n",
    "    return False"
   ]
  },
  {
   "cell_type": "raw",
   "id": "f9be75a0",
   "metadata": {},
   "source": [
    "TC:- O(n+m)\n",
    "SC:- Linear"
   ]
  },
  {
   "cell_type": "code",
   "execution_count": null,
   "id": "5ee7420c",
   "metadata": {},
   "outputs": [],
   "source": []
  },
  {
   "cell_type": "code",
   "execution_count": null,
   "id": "5fbe226d",
   "metadata": {},
   "outputs": [],
   "source": []
  },
  {
   "cell_type": "code",
   "execution_count": 1,
   "id": "1cbe6a8c",
   "metadata": {},
   "outputs": [],
   "source": [
    "# Practice"
   ]
  },
  {
   "cell_type": "code",
   "execution_count": 2,
   "id": "a8276498",
   "metadata": {},
   "outputs": [],
   "source": [
    "from collections import defaultdict\n",
    "\n",
    "\n",
    "def dfsCheckCycle(node, visited, dfsVisited, adjList):\n",
    "    visited[node] = True\n",
    "    dfsVisited[node] = True\n",
    "    \n",
    "    for nei in adjList:\n",
    "        if not visited.get(nei):\n",
    "            cycleFound = dfsCheckCycle(nei, visited, dfsVisited, adjList)\n",
    "            if cycleFound:\n",
    "                return True\n",
    "        elif dfsVisited.get(nei):\n",
    "            return True\n",
    "    \n",
    "    dfsVisited[node] = False\n",
    "    \n",
    "    return False\n",
    "\n",
    "\n",
    "def detectCycleInDirectedGraph(n, edges):\n",
    "    # Write your code here\n",
    "    adjList = defaultdict(list)\n",
    "    for i in range(len(edges)):\n",
    "        u = edges[i][0]\n",
    "        v = edges[i][1]\n",
    "        adjList[u].append(v)\n",
    "    \n",
    "    visited = {}\n",
    "    dfsVisited = {}\n",
    "    \n",
    "    for i in range(1, n+1):\n",
    "        if not visited.get(i):\n",
    "            cycleFound = dfsCheckCycle(i, visited, dfsVisited, adjList)\n",
    "            if cycleFound:\n",
    "                return True\n",
    "    \n",
    "    return False"
   ]
  },
  {
   "cell_type": "code",
   "execution_count": null,
   "id": "d5c1642b",
   "metadata": {},
   "outputs": [],
   "source": []
  },
  {
   "cell_type": "code",
   "execution_count": null,
   "id": "bf84fe4f",
   "metadata": {},
   "outputs": [],
   "source": []
  },
  {
   "cell_type": "code",
   "execution_count": null,
   "id": "5d1b5126",
   "metadata": {},
   "outputs": [],
   "source": []
  },
  {
   "cell_type": "code",
   "execution_count": null,
   "id": "a10d14b1",
   "metadata": {},
   "outputs": [],
   "source": []
  }
 ],
 "metadata": {
  "kernelspec": {
   "display_name": "Python 3 (ipykernel)",
   "language": "python",
   "name": "python3"
  },
  "language_info": {
   "codemirror_mode": {
    "name": "ipython",
    "version": 3
   },
   "file_extension": ".py",
   "mimetype": "text/x-python",
   "name": "python",
   "nbconvert_exporter": "python",
   "pygments_lexer": "ipython3",
   "version": "3.9.7"
  }
 },
 "nbformat": 4,
 "nbformat_minor": 5
}
