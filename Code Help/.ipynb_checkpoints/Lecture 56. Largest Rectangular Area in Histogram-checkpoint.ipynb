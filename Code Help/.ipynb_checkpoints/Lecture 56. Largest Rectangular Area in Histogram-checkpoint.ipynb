{
 "cells": [
  {
   "cell_type": "code",
   "execution_count": 1,
   "id": "5ff0d7a8",
   "metadata": {},
   "outputs": [],
   "source": [
    "# Next Smaller Element\n",
    "# https://www.codingninjas.com/codestudio/problems/next-smaller-element_1112581?topList=love-babbar-dsa-sheet-problems"
   ]
  },
  {
   "cell_type": "code",
   "execution_count": 3,
   "id": "946e619b",
   "metadata": {},
   "outputs": [],
   "source": [
    "# Method - 1\n",
    "# Brute force approach\n",
    "# take a element and checkk all the element after that\n",
    "# O(n^2)"
   ]
  },
  {
   "cell_type": "code",
   "execution_count": 4,
   "id": "f38ae4b9",
   "metadata": {},
   "outputs": [],
   "source": [
    "# Method - 2\n",
    "# using stack\n",
    "# start from end\n",
    "# store -1 in stack first"
   ]
  },
  {
   "cell_type": "code",
   "execution_count": 8,
   "id": "20b4309a",
   "metadata": {},
   "outputs": [],
   "source": [
    "def nextSmallerElement(arr,n):\n",
    "    # Write your code here.\n",
    "    s = [-1]\n",
    "    ans = [None]*n\n",
    "    \n",
    "    for i in range(n-1, -1, -1):\n",
    "        curr = arr[i]\n",
    "        while (s[-1]>=curr):\n",
    "            s.pop()\n",
    "        ans[i] = s[-1]\n",
    "        s.append(curr)\n",
    "    print(ans)\n",
    "    return ans"
   ]
  },
  {
   "cell_type": "code",
   "execution_count": 11,
   "id": "ce62cb01",
   "metadata": {},
   "outputs": [
    {
     "name": "stdout",
     "output_type": "stream",
     "text": [
      "[1, -1, 3, -1]\n"
     ]
    },
    {
     "data": {
      "text/plain": [
       "[1, -1, 3, -1]"
      ]
     },
     "execution_count": 11,
     "metadata": {},
     "output_type": "execute_result"
    }
   ],
   "source": [
    "nextSmallerElement([2, 1, 4, 3], 4)"
   ]
  },
  {
   "cell_type": "code",
   "execution_count": 12,
   "id": "94da533b",
   "metadata": {},
   "outputs": [],
   "source": [
    "# if next greater element, then change the flow of for loop\n",
    "# start from left and not from right"
   ]
  },
  {
   "cell_type": "code",
   "execution_count": null,
   "id": "d0a17d62",
   "metadata": {},
   "outputs": [],
   "source": []
  },
  {
   "cell_type": "code",
   "execution_count": null,
   "id": "f74535bd",
   "metadata": {},
   "outputs": [],
   "source": []
  },
  {
   "cell_type": "code",
   "execution_count": null,
   "id": "56c71313",
   "metadata": {},
   "outputs": [],
   "source": [
    "# Main Question"
   ]
  },
  {
   "cell_type": "code",
   "execution_count": 15,
   "id": "d672fd04",
   "metadata": {},
   "outputs": [],
   "source": [
    "# Method-1\n",
    "# brute force\n",
    "# length is always constant\n",
    "# but breath changes with new bar\n",
    "# on every bar we check if we can extend it horizontally in left and right\n",
    "# O(n^2)"
   ]
  },
  {
   "cell_type": "code",
   "execution_count": 17,
   "id": "a8ee6bea",
   "metadata": {},
   "outputs": [],
   "source": [
    "# Method-2\n",
    "# Stack\n",
    "# next smaller element logic\n",
    "\n",
    "# so here we can form rectangle if the next element is not smaller\n",
    "# so we check for the next smaller element\n",
    "\n",
    "# for widht = next smaller index - previous smaller index -1\n",
    "# width = n-p-1\n",
    "\n",
    "# or 0th index p=-1"
   ]
  },
  {
   "cell_type": "code",
   "execution_count": 18,
   "id": "90a812d6",
   "metadata": {},
   "outputs": [],
   "source": [
    "def nextSmallerElement(arr, n):\n",
    "    s = [-1]\n",
    "    ans = [None]*n\n",
    "    \n",
    "    for i in range(n-1, -1, -1):\n",
    "        curr = arr[i]\n",
    "        while (s[-1]!=-1 and arr[s[-1]]>=curr):\n",
    "            s.pop()\n",
    "            \n",
    "        ans[i] = s[-1]\n",
    "        s.append(i)\n",
    "    return ans\n",
    "\n",
    "def prevSmallerElement(arr, n):\n",
    "    s = [-1]\n",
    "    ans = [None]*n\n",
    "    \n",
    "    for i in range(n):\n",
    "        curr = arr[i]\n",
    "        while (s[-1]!=-1 and arr[s[-1]]>=curr):\n",
    "            s.pop()\n",
    "        ans[i] = s[-1]\n",
    "        s.append(i)\n",
    "\n",
    "    return ans\n",
    "\n",
    "def largestRectArea(heights):\n",
    "    n = len(heights)\n",
    "    nxt = [None]*n\n",
    "    nxt = nextSmallerElement(heights, n)\n",
    "    \n",
    "    prev = [None]*n\n",
    "    prev = prevSmallerElement(heights, n)\n",
    "    area = -999999999\n",
    "    for i in range(n):\n",
    "        l = heights[i]\n",
    "\n",
    "        if nxt == -1:\n",
    "            nxt[i] = n\n",
    "        b = nxt[i] - prev[i] - 1\n",
    "        newArea = l*b\n",
    "        area = max(newArea, area)\n",
    "    \n",
    "    return area"
   ]
  },
  {
   "cell_type": "code",
   "execution_count": 19,
   "id": "0c631975",
   "metadata": {},
   "outputs": [],
   "source": [
    "# TC --> O(n)\n",
    "# SC --> O(n)"
   ]
  },
  {
   "cell_type": "code",
   "execution_count": null,
   "id": "871d90ee",
   "metadata": {},
   "outputs": [],
   "source": []
  },
  {
   "cell_type": "code",
   "execution_count": null,
   "id": "12ff3186",
   "metadata": {},
   "outputs": [],
   "source": []
  }
 ],
 "metadata": {
  "kernelspec": {
   "display_name": "Python 3 (ipykernel)",
   "language": "python",
   "name": "python3"
  },
  "language_info": {
   "codemirror_mode": {
    "name": "ipython",
    "version": 3
   },
   "file_extension": ".py",
   "mimetype": "text/x-python",
   "name": "python",
   "nbconvert_exporter": "python",
   "pygments_lexer": "ipython3",
   "version": "3.9.7"
  }
 },
 "nbformat": 4,
 "nbformat_minor": 5
}
