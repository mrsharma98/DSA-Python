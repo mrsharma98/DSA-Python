{
 "cells": [
  {
   "cell_type": "raw",
   "id": "6f931c42",
   "metadata": {},
   "source": [
    "https://www.codingninjas.com/codestudio/problems/cut-into-segments_1214651"
   ]
  },
  {
   "cell_type": "code",
   "execution_count": null,
   "id": "30921469",
   "metadata": {},
   "outputs": [],
   "source": [
    "# Recursion\n",
    "\n",
    "def solve(n, x, y, z):\n",
    "    # base case\n",
    "    if n==0:\n",
    "        return 0\n",
    "    if n<0:\n",
    "        return -sys.maxsize-1\n",
    "    \n",
    "    \n",
    "    a = solve(n-x, x, y, z) + 1\n",
    "    b = solve(n-y, x, y, z) + 1\n",
    "    c = solve(n-z, x, y, z) + 1\n",
    "    \n",
    "    ans = max(a, max(b, c))\n",
    "    return ans\n",
    "    \n",
    "\n",
    "def cutSegments(n, x, y, z):\n",
    "    # Write your code here.\n",
    "    ans = solve(n, x, y, z)\n",
    "    if ans<0:\n",
    "        return 0\n",
    "    return ans"
   ]
  }
 ],
 "metadata": {
  "kernelspec": {
   "display_name": "Python 3 (ipykernel)",
   "language": "python",
   "name": "python3"
  },
  "language_info": {
   "codemirror_mode": {
    "name": "ipython",
    "version": 3
   },
   "file_extension": ".py",
   "mimetype": "text/x-python",
   "name": "python",
   "nbconvert_exporter": "python",
   "pygments_lexer": "ipython3",
   "version": "3.9.7"
  }
 },
 "nbformat": 4,
 "nbformat_minor": 5
}
