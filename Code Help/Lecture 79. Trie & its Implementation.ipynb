{
 "cells": [
  {
   "cell_type": "code",
   "execution_count": 83,
   "id": "dd1418d8",
   "metadata": {},
   "outputs": [],
   "source": [
    "class TrieNode:\n",
    "    def __init__(self, ch):\n",
    "        self.data = ch\n",
    "        self.children = [None]*26\n",
    "        self.isTerminal = False"
   ]
  },
  {
   "cell_type": "code",
   "execution_count": 84,
   "id": "8bc2e370",
   "metadata": {},
   "outputs": [],
   "source": [
    "class Trie:\n",
    "    def __init__(self):\n",
    "        self.root = TrieNode('\\0')\n",
    "        \n",
    "    def insertUtil(self, root, word):\n",
    "        # base case\n",
    "        if len(word)==0:\n",
    "            root.isTerminal = True\n",
    "            return\n",
    "        \n",
    "        index = ord(word[0]) - ord('A')\n",
    "        \n",
    "        if root.children[index] != None:\n",
    "            child = root.children[index]\n",
    "        else:\n",
    "            child = TrieNode(word[0])\n",
    "            root.children[index] = child\n",
    "        \n",
    "        self.insertUtil(child, word[1:])\n",
    "        \n",
    "    # TC:- O(len of word)\n",
    "    def insertWord(self, word):\n",
    "        self.insertUtil(self.root, word)\n",
    "        \n",
    "    def searchUtil(self, root, word):\n",
    "        if len(word) == 0:\n",
    "            # if the root is terminal then we have found the word\n",
    "            # not the terminal then the word is missing\n",
    "            return root.isTerminal\n",
    "        \n",
    "        index = ord(word[0]) - ord('A')\n",
    "        \n",
    "        if root.children[index] != None:\n",
    "            child = root.children[index]\n",
    "        else:\n",
    "            return False\n",
    "        \n",
    "        return self.searchUtil(child, word[1:])\n",
    "    \n",
    "    # TC:- O(len of word)\n",
    "    def searchWord(self, word):\n",
    "        return self.searchUtil(self.root, word)\n",
    "    \n",
    "    \n",
    "    def deleteWord(self, word):\n",
    "        pass"
   ]
  },
  {
   "cell_type": "code",
   "execution_count": 85,
   "id": "9f2f5f2b",
   "metadata": {},
   "outputs": [],
   "source": [
    "t = Trie()"
   ]
  },
  {
   "cell_type": "code",
   "execution_count": 86,
   "id": "234a8b04",
   "metadata": {},
   "outputs": [],
   "source": [
    "t.insertWord('ABCD')\n",
    "t.insertWord('TIME')\n",
    "t.insertWord('DUCK')\n",
    "t.insertWord('MODE')"
   ]
  },
  {
   "cell_type": "code",
   "execution_count": 87,
   "id": "f7e45b32",
   "metadata": {},
   "outputs": [
    {
     "name": "stdout",
     "output_type": "stream",
     "text": [
      "True\n"
     ]
    }
   ],
   "source": [
    "print(t.searchWord('TIME'))"
   ]
  },
  {
   "cell_type": "code",
   "execution_count": null,
   "id": "a1940b83",
   "metadata": {},
   "outputs": [],
   "source": []
  },
  {
   "cell_type": "code",
   "execution_count": null,
   "id": "bb2eba0b",
   "metadata": {},
   "outputs": [],
   "source": []
  },
  {
   "cell_type": "code",
   "execution_count": 1,
   "id": "8002a235",
   "metadata": {},
   "outputs": [],
   "source": [
    "# Practice"
   ]
  },
  {
   "cell_type": "code",
   "execution_count": 78,
   "id": "f78e36b4",
   "metadata": {},
   "outputs": [],
   "source": [
    "class TrieNode:\n",
    "    def __init__(self, ch):\n",
    "        self.data = ch\n",
    "        self.children = [None]*26\n",
    "        self.isTerminal = False"
   ]
  },
  {
   "cell_type": "code",
   "execution_count": 104,
   "id": "34d4f46c",
   "metadata": {},
   "outputs": [],
   "source": [
    "class Trie:\n",
    "    def __init__(self):\n",
    "        self.root = TrieNode(\"\\0\")\n",
    "        \n",
    "    \n",
    "    def insertUtil(self, root, word):    \n",
    "        if len(word) == 0:\n",
    "            root.isTerminal = True\n",
    "            return \n",
    "        \n",
    "        index = ord(word[0])-ord('A')\n",
    "        if root.children[index] != None:\n",
    "            child = root.children[index]\n",
    "        else:\n",
    "            child = TrieNode(word[0])\n",
    "            root.children[index] = child\n",
    "        \n",
    "        self.insertUtil(child, word[1:])\n",
    "    \n",
    "        \n",
    "    def insert(self, word):\n",
    "        self.insertUtil(self.root, word)\n",
    "        \n",
    "    \n",
    "    def searchUtil(self, root, word):\n",
    "        if len(word)==0:\n",
    "            return root.isTerminal\n",
    "        \n",
    "        index = ord(word[0]) - ord('A')\n",
    "        if root.children[index]!=None:\n",
    "            child = root.children[index]\n",
    "        else:\n",
    "            return False\n",
    "        return self.searchUtil(child, word[1:])\n",
    "    \n",
    "    \n",
    "    def searchWord(self, word):\n",
    "        self.searchUtil(self.root, word)\n",
    "    "
   ]
  },
  {
   "cell_type": "code",
   "execution_count": 105,
   "id": "056b0880",
   "metadata": {},
   "outputs": [],
   "source": [
    "t = Trie()"
   ]
  },
  {
   "cell_type": "code",
   "execution_count": 106,
   "id": "930b1303",
   "metadata": {},
   "outputs": [],
   "source": [
    "t.insert('ABCD')\n",
    "t.insert('TIME')\n",
    "t.insert('DUCK')\n",
    "t.insert('MODE')"
   ]
  },
  {
   "cell_type": "code",
   "execution_count": 107,
   "id": "c41682fe",
   "metadata": {},
   "outputs": [
    {
     "name": "stdout",
     "output_type": "stream",
     "text": [
      "True E\n"
     ]
    }
   ],
   "source": [
    "t.searchWord('TIME')"
   ]
  },
  {
   "cell_type": "code",
   "execution_count": null,
   "id": "b156aeb0",
   "metadata": {},
   "outputs": [],
   "source": []
  },
  {
   "cell_type": "code",
   "execution_count": null,
   "id": "2d3d1193",
   "metadata": {},
   "outputs": [],
   "source": []
  }
 ],
 "metadata": {
  "kernelspec": {
   "display_name": "Python 3 (ipykernel)",
   "language": "python",
   "name": "python3"
  },
  "language_info": {
   "codemirror_mode": {
    "name": "ipython",
    "version": 3
   },
   "file_extension": ".py",
   "mimetype": "text/x-python",
   "name": "python",
   "nbconvert_exporter": "python",
   "pygments_lexer": "ipython3",
   "version": "3.9.7"
  }
 },
 "nbformat": 4,
 "nbformat_minor": 5
}
