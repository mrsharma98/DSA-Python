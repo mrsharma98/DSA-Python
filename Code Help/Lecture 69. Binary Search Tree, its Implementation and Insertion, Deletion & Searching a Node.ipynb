{
 "cells": [
  {
   "cell_type": "code",
   "execution_count": 2,
   "id": "ec920618",
   "metadata": {},
   "outputs": [],
   "source": [
    "class Node:\n",
    "    def __init__(self, val):\n",
    "        self.val = val\n",
    "        self.left = None\n",
    "        self.right = None\n",
    "    \n",
    "    def insert(self, root, data):\n",
    "        # base case\n",
    "        if root == None:\n",
    "            root = Node(data)\n",
    "            return root\n",
    "        \n",
    "        if data > root.val:\n",
    "            # right part me insert karo\n",
    "            root.right = insert(root.right, data)\n",
    "        else:\n",
    "            # left part me insert karo\n",
    "            root.left = insert(root.left, data)\n",
    "        return root"
   ]
  },
  {
   "cell_type": "code",
   "execution_count": null,
   "id": "8ea02834",
   "metadata": {},
   "outputs": [],
   "source": []
  },
  {
   "cell_type": "markdown",
   "id": "2f5100a8",
   "metadata": {},
   "source": [
    "# Deletion"
   ]
  },
  {
   "cell_type": "raw",
   "id": "df285877",
   "metadata": {},
   "source": [
    "3 cases\n",
    "\n",
    "case-1:- 0 child \n",
    "    -- delete node\n",
    "    -- return null in recursive call\n",
    "\n",
    "case-2:- 1 child (left or right) -- can be a subtree on left or right\n",
    "    -- delete node\n",
    "    -- replace node with that child\n",
    "    -- temp = root.left(if left) root.right(if right)\n",
    "    -- del root\n",
    "    -- return temp\n",
    "    \n",
    "case-3:- 2 child\n",
    "    -- grab max from the left subtree (prev value from inorder traversal)\n",
    "    OR min value from the right subtree\n",
    "    -- replace the max node with the given node\n",
    "    -- recursively shift all the node to occupy the node"
   ]
  },
  {
   "cell_type": "code",
   "execution_count": 6,
   "id": "c270f8f5",
   "metadata": {},
   "outputs": [],
   "source": [
    "def minValue(self, node):\n",
    "    while node.left != None:\n",
    "        node = node.left\n",
    "\n",
    "    return node\n",
    "\n",
    "def deletion(root, val):\n",
    "    # base case\n",
    "    if root == None:\n",
    "        return None\n",
    "    \n",
    "    if root.data == val:\n",
    "        # 0 child\n",
    "        if root.left==None and root.right==None:\n",
    "            root = None\n",
    "            return\n",
    "        \n",
    "        # 1 child\n",
    "        if root.left!=None and root.right==None:\n",
    "            temp = root\n",
    "            root = root.left\n",
    "            return temp\n",
    "        \n",
    "        if root.left==None and root.right!=None:\n",
    "            temp = root\n",
    "            root = root.right\n",
    "            return temp\n",
    "        \n",
    "        # 2 child\n",
    "        if root.left!=None and root.right!=None:\n",
    "            mini = minValue(root.right).data\n",
    "            root.data = mini\n",
    "            root.right = deletion(root.right, mini)\n",
    "            return root\n",
    "        \n",
    "        \n",
    "    elif root.data > val:\n",
    "        root.left = deletion(root.left, val)\n",
    "        return root\n",
    "    else:\n",
    "        root.right = deletion(root.right, val)\n",
    "        return root"
   ]
  },
  {
   "cell_type": "code",
   "execution_count": null,
   "id": "c146ba89",
   "metadata": {},
   "outputs": [],
   "source": []
  },
  {
   "cell_type": "code",
   "execution_count": null,
   "id": "b12e5bac",
   "metadata": {},
   "outputs": [],
   "source": []
  }
 ],
 "metadata": {
  "kernelspec": {
   "display_name": "Python 3 (ipykernel)",
   "language": "python",
   "name": "python3"
  },
  "language_info": {
   "codemirror_mode": {
    "name": "ipython",
    "version": 3
   },
   "file_extension": ".py",
   "mimetype": "text/x-python",
   "name": "python",
   "nbconvert_exporter": "python",
   "pygments_lexer": "ipython3",
   "version": "3.9.7"
  }
 },
 "nbformat": 4,
 "nbformat_minor": 5
}
