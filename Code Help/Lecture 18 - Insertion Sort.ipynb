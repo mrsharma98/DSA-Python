{
 "cells": [
  {
   "cell_type": "code",
   "execution_count": 2,
   "id": "c6c9d910",
   "metadata": {},
   "outputs": [],
   "source": [
    "def insertionSort(arr, n):\n",
    "    \n",
    "    # loop from 1 to n, as we have assumed 0th element as sorted\n",
    "    for i in range(1, n):\n",
    "        j = i-1\n",
    "        while(arr[j] > arr[i]):\n",
    "            arr[j+1] = arr[j]\n",
    "            j -= 1\n",
    "        \n",
    "        arr[j+1] = arr[i]"
   ]
  },
  {
   "cell_type": "code",
   "execution_count": 3,
   "id": "a58a0849",
   "metadata": {},
   "outputs": [],
   "source": [
    "arr = [3,5,2,8,1,9,6]\n",
    "n = len(arr)\n",
    "insertionSort(arr, n)"
   ]
  },
  {
   "cell_type": "code",
   "execution_count": null,
   "id": "102b1009",
   "metadata": {},
   "outputs": [],
   "source": []
  }
 ],
 "metadata": {
  "kernelspec": {
   "display_name": "Python 3 (ipykernel)",
   "language": "python",
   "name": "python3"
  },
  "language_info": {
   "codemirror_mode": {
    "name": "ipython",
    "version": 3
   },
   "file_extension": ".py",
   "mimetype": "text/x-python",
   "name": "python",
   "nbconvert_exporter": "python",
   "pygments_lexer": "ipython3",
   "version": "3.9.7"
  }
 },
 "nbformat": 4,
 "nbformat_minor": 5
}
