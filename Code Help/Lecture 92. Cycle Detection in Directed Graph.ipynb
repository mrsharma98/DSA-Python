{
 "cells": [
  {
   "cell_type": "raw",
   "id": "99a91569",
   "metadata": {},
   "source": [
    "USING BFS\n",
    "\n",
    "Topological Sort applies to only Acyclic graph\n",
    "If the graph is cyclic then Topological Sort will be invalid\n",
    "\n",
    "for this we will find topological Sort and check if it's valid or not."
   ]
  },
  {
   "cell_type": "code",
   "execution_count": null,
   "id": "1703b26f",
   "metadata": {},
   "outputs": [],
   "source": [
    "def cycleDetection(n, edges):\n",
    "    adj = defaultdict(list)\n",
    "    indegree = [0]*n\n",
    "    \n",
    "    for i in range(len(edges)):\n",
    "        u = edges[i][0] - 1 # bcz node starts from 1\n",
    "        v = edges[i][1] - 1\n",
    "        adj[u].append(v)\n",
    "        indegree[v] += 1\n",
    "        \n",
    "    q = []\n",
    "    for i in range(n):\n",
    "        if indegree[i] == 0:\n",
    "            q.append(i)\n",
    "            \n",
    "    count = 0\n",
    "    \n",
    "    while (len(q)>0):\n",
    "        front = q.pop(0)\n",
    "        count += 1\n",
    "        for nei in adj[front]:\n",
    "            indegree[nei] -= 1\n",
    "            if indegree[nei] == 0:\n",
    "                q.append(nei)\n",
    "    \n",
    "    # if valid topological sort -- count = n\n",
    "    return not(count==n)\n",
    "        "
   ]
  }
 ],
 "metadata": {
  "kernelspec": {
   "display_name": "Python 3 (ipykernel)",
   "language": "python",
   "name": "python3"
  },
  "language_info": {
   "codemirror_mode": {
    "name": "ipython",
    "version": 3
   },
   "file_extension": ".py",
   "mimetype": "text/x-python",
   "name": "python",
   "nbconvert_exporter": "python",
   "pygments_lexer": "ipython3",
   "version": "3.9.7"
  }
 },
 "nbformat": 4,
 "nbformat_minor": 5
}
