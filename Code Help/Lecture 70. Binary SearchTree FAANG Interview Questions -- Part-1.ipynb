{
 "cells": [
  {
   "cell_type": "markdown",
   "id": "31f27ad0",
   "metadata": {},
   "source": [
    "# Validate BST"
   ]
  },
  {
   "cell_type": "code",
   "execution_count": 2,
   "id": "271dcb06",
   "metadata": {},
   "outputs": [],
   "source": [
    "# Approach-1\n",
    "# get inorder traversal -- O(n)\n",
    "# check if it is sorted"
   ]
  },
  {
   "cell_type": "code",
   "execution_count": 3,
   "id": "107bfd30",
   "metadata": {},
   "outputs": [],
   "source": [
    "# Approach-2\n",
    "# the range of the node is already definied\n",
    "# root has value between (-infi, infi)\n",
    "# left side (-infi, root.data)\n",
    "# right side (root.data, infi), and so on"
   ]
  },
  {
   "cell_type": "code",
   "execution_count": 7,
   "id": "71a4737c",
   "metadata": {},
   "outputs": [],
   "source": [
    "def isBST(root, minn, maxx):\n",
    "    if root == None:\n",
    "        return true\n",
    "    if root.data>=minn and root.data<=maxx:\n",
    "        left = isBST(root.left, minn, root.data)\n",
    "        right = isBST(root.right, root.data, maxx)\n",
    "        return left and right\n",
    "    else:\n",
    "        return False\n",
    "\n",
    "\n",
    "def validateBST(root):\n",
    "    if root == None or (root.left==None and root.right==None):\n",
    "        return true\n",
    "    \n",
    "    minn = -9999999\n",
    "    maxx = 9999999\n",
    "    return isBST(root, minn, maxx)\n",
    "\n",
    "# TC:- O(n)\n",
    "# SC:- O(h)"
   ]
  },
  {
   "cell_type": "code",
   "execution_count": null,
   "id": "982247da",
   "metadata": {},
   "outputs": [],
   "source": []
  },
  {
   "cell_type": "code",
   "execution_count": null,
   "id": "fbe3ff52",
   "metadata": {},
   "outputs": [],
   "source": []
  },
  {
   "cell_type": "markdown",
   "id": "5af4324e",
   "metadata": {},
   "source": [
    "# kth smallest element"
   ]
  },
  {
   "cell_type": "raw",
   "id": "359a15d1",
   "metadata": {},
   "source": [
    "Approach-1\n",
    "\n",
    "get inorder traversal\n",
    "return the kth element from the list\n",
    "OR\n",
    "keep a counter and increment it to the k and return the element"
   ]
  },
  {
   "cell_type": "code",
   "execution_count": null,
   "id": "af73c650",
   "metadata": {},
   "outputs": [],
   "source": []
  },
  {
   "cell_type": "code",
   "execution_count": 9,
   "id": "604b0e53",
   "metadata": {},
   "outputs": [],
   "source": [
    "def solve(root, i, k):\n",
    "    # base case\n",
    "    if root == None:\n",
    "        return -1\n",
    "    \n",
    "    #L\n",
    "    left = solve(root.left, i, k)\n",
    "    if left != -1:\n",
    "        return left\n",
    "    # N\n",
    "    i += 1\n",
    "    if i==k:\n",
    "        return root.data\n",
    "    # R\n",
    "    return solve(root.right, i, k)\n",
    "    \n",
    "    \n",
    "\n",
    "def kthSmallestElement(root, k):\n",
    "    ans = solve(root, i, k)"
   ]
  },
  {
   "cell_type": "raw",
   "id": "92c54f75",
   "metadata": {},
   "source": [
    "if kth largest, then (n-k)+1th element"
   ]
  },
  {
   "cell_type": "code",
   "execution_count": null,
   "id": "5d0e522a",
   "metadata": {},
   "outputs": [],
   "source": []
  },
  {
   "cell_type": "code",
   "execution_count": null,
   "id": "5412bd4a",
   "metadata": {},
   "outputs": [],
   "source": []
  },
  {
   "cell_type": "markdown",
   "id": "6e4549d8",
   "metadata": {},
   "source": [
    "# inorder predecessor and successor"
   ]
  },
  {
   "cell_type": "raw",
   "id": "260a7f0a",
   "metadata": {},
   "source": [
    "Approach-1\n",
    "\n",
    "get inorder traversal\n",
    "find the key\n",
    "return the immediate prev and next of key"
   ]
  },
  {
   "cell_type": "raw",
   "id": "98db694e",
   "metadata": {},
   "source": [
    "Approach-2\n",
    "\n",
    "find key node\n",
    "pred -- is the max element in the left subtree\n",
    "succ -- is the min element in the right subtree\n",
    "\n",
    "TC:- O(n)\n",
    "SC:- O(1)"
   ]
  },
  {
   "cell_type": "code",
   "execution_count": 3,
   "id": "382d33a1",
   "metadata": {},
   "outputs": [],
   "source": [
    "def predecessorSuccessor(root, key):\n",
    "    pred = -1\n",
    "    succ = -1\n",
    "    # find key\n",
    "    temp = root\n",
    "    \n",
    "    while temp.data!=key:\n",
    "        if temp.data>key:\n",
    "            # possible succ\n",
    "            succ = temp.data\n",
    "            temp = temp.left\n",
    "        else:\n",
    "            # possible pred\n",
    "            pred = temp.data\n",
    "            temp = temp.right\n",
    "            \n",
    "    # pred\n",
    "    leftTree = temp.left\n",
    "    while leftTree!=None:\n",
    "        pred = leftTree.data\n",
    "        leftTree = leftTree.right\n",
    "        \n",
    "    # succ\n",
    "    rightTree = temp.right\n",
    "    while rightTree!=None:\n",
    "        succ = rightTree.data\n",
    "        rightTree = rightTree.left\n",
    "        \n",
    "    return [pred, succ]"
   ]
  },
  {
   "cell_type": "code",
   "execution_count": null,
   "id": "355127cf",
   "metadata": {},
   "outputs": [],
   "source": []
  },
  {
   "cell_type": "code",
   "execution_count": null,
   "id": "40578101",
   "metadata": {},
   "outputs": [],
   "source": []
  },
  {
   "cell_type": "code",
   "execution_count": 4,
   "id": "f84dc7ae",
   "metadata": {},
   "outputs": [],
   "source": [
    "# LCA (lowest common anchestor)"
   ]
  },
  {
   "cell_type": "code",
   "execution_count": 9,
   "id": "2b2289f0",
   "metadata": {},
   "outputs": [],
   "source": [
    "def lowestCommonAncestor(root, p, q):\n",
    "    if root == None:\n",
    "        return\n",
    "    \n",
    "    if (root.val<p.val) and (root.val<q.val):\n",
    "        return lowestCommonAncestor(root.right, p, q)\n",
    "    \n",
    "    if (root.val>p.val) and (root.val>q.val):\n",
    "        return lowestCommonAncestor(root.left, p, q)\n",
    "    \n",
    "    return root\n",
    "\n",
    "\n",
    "# iterative\n",
    "def lowestCommonAncestor(root, p, q):\n",
    "    if root == None:\n",
    "        return\n",
    "    \n",
    "    while (root!=None):\n",
    "        if (root.val<p.val) and (root.val<q.val):\n",
    "            root=root.right\n",
    "        elif (root.val>p.val) and (root.val>q.val):\n",
    "            root=root.left\n",
    "        else:\n",
    "            return root"
   ]
  },
  {
   "cell_type": "code",
   "execution_count": 7,
   "id": "2d92f5a9",
   "metadata": {},
   "outputs": [],
   "source": [
    "# https://leetcode.com/problems/lowest-common-ancestor-of-a-binary-search-tree/submissions/"
   ]
  },
  {
   "cell_type": "code",
   "execution_count": null,
   "id": "d55fc19c",
   "metadata": {},
   "outputs": [],
   "source": []
  }
 ],
 "metadata": {
  "kernelspec": {
   "display_name": "Python 3 (ipykernel)",
   "language": "python",
   "name": "python3"
  },
  "language_info": {
   "codemirror_mode": {
    "name": "ipython",
    "version": 3
   },
   "file_extension": ".py",
   "mimetype": "text/x-python",
   "name": "python",
   "nbconvert_exporter": "python",
   "pygments_lexer": "ipython3",
   "version": "3.9.7"
  }
 },
 "nbformat": 4,
 "nbformat_minor": 5
}
