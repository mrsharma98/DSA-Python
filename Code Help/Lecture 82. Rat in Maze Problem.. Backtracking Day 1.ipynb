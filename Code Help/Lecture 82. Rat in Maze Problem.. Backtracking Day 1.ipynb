{
 "cells": [
  {
   "cell_type": "code",
   "execution_count": 22,
   "id": "522da6b8",
   "metadata": {},
   "outputs": [],
   "source": [
    "def isSafe(newx, newy, vis, arr, n):\n",
    "    if (newx>=0 and newx<n) and (newy>=0 and newy<n) and (vis[newx][newy]!=1) and (arr[newx][newy]==1):\n",
    "        return True\n",
    "    else:\n",
    "        return False\n",
    "\n",
    "\n",
    "def solve(x, y, arr,n, ans, vis, path):\n",
    "    # base case\n",
    "    if (x==n-1) and (y==n-1):\n",
    "        # we have reached to the last box\n",
    "        # save the answer\n",
    "        print(path)\n",
    "        ans.append(path)\n",
    "        return\n",
    "    \n",
    "    # 4 movement -- order is important -- its in alphabatical order\n",
    "    # D, L, R, U\n",
    "    vis[x][y] = 1\n",
    "    print(path)\n",
    "    \n",
    "    # Down\n",
    "    if isSafe(x+1, y, vis, arr, n):\n",
    "        solve(x+1, y, arr, n, ans, vis, path+'D')\n",
    "  \n",
    "    # Left\n",
    "    if isSafe(x, y-1, vis, arr, n):\n",
    "        solve(x, y-1, arr, n, ans, vis, path+'L')        \n",
    "    \n",
    "    # Right\n",
    "    if isSafe(x, y+1, vis, arr, n):\n",
    "        solve(x, y+1, arr, n, ans, vis, path+'R')\n",
    "        \n",
    "    # Up\n",
    "    if isSafe(x-1, y, vis, arr, n):\n",
    "        solve(x-1, y, arr, n, ans, vis, path+'U')\n",
    "    \n",
    "    vis[x][y] = 0\n",
    "    \n",
    "    \n",
    "\n",
    "def searchMaze(arr, n):\n",
    "    ans = []\n",
    "    visited = [[0]*n]*n\n",
    "    path = \"\"\n",
    "    \n",
    "    if arr[0][0] == 0:\n",
    "        return ans\n",
    "    \n",
    "    solve(0, 0, arr, n, ans, visited, path)\n",
    "    return ans"
   ]
  },
  {
   "cell_type": "code",
   "execution_count": 23,
   "id": "94d05cc9",
   "metadata": {
    "scrolled": true
   },
   "outputs": [
    {
     "name": "stdout",
     "output_type": "stream",
     "text": [
      "\n"
     ]
    },
    {
     "data": {
      "text/plain": [
       "[]"
      ]
     },
     "execution_count": 23,
     "metadata": {},
     "output_type": "execute_result"
    }
   ],
   "source": [
    "arr = [[1, 0, 0, 0],[1,1,0,0],[1,1,0,0],[0,1,1,1]]\n",
    "n = len(arr)\n",
    "searchMaze(arr, n)"
   ]
  },
  {
   "cell_type": "code",
   "execution_count": null,
   "id": "71b93364",
   "metadata": {},
   "outputs": [],
   "source": []
  },
  {
   "cell_type": "code",
   "execution_count": null,
   "id": "756da52a",
   "metadata": {},
   "outputs": [],
   "source": []
  },
  {
   "cell_type": "code",
   "execution_count": null,
   "id": "b14f6571",
   "metadata": {},
   "outputs": [],
   "source": []
  }
 ],
 "metadata": {
  "kernelspec": {
   "display_name": "Python 3 (ipykernel)",
   "language": "python",
   "name": "python3"
  },
  "language_info": {
   "codemirror_mode": {
    "name": "ipython",
    "version": 3
   },
   "file_extension": ".py",
   "mimetype": "text/x-python",
   "name": "python",
   "nbconvert_exporter": "python",
   "pygments_lexer": "ipython3",
   "version": "3.9.7"
  }
 },
 "nbformat": 4,
 "nbformat_minor": 5
}
