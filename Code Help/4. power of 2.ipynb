{
 "cells": [
  {
   "cell_type": "code",
   "execution_count": 2,
   "id": "71984fa4",
   "metadata": {},
   "outputs": [],
   "source": [
    "def power_of_2(n):\n",
    "    if n == 0:\n",
    "        return 1\n",
    "    return 2 * power_of_2(n-1)"
   ]
  },
  {
   "cell_type": "code",
   "execution_count": 3,
   "id": "868075ee",
   "metadata": {},
   "outputs": [
    {
     "data": {
      "text/plain": [
       "32"
      ]
     },
     "execution_count": 3,
     "metadata": {},
     "output_type": "execute_result"
    }
   ],
   "source": [
    "power_of_2(5)"
   ]
  },
  {
   "cell_type": "code",
   "execution_count": null,
   "id": "074282d0",
   "metadata": {},
   "outputs": [],
   "source": []
  },
  {
   "cell_type": "code",
   "execution_count": 7,
   "id": "238929dc",
   "metadata": {},
   "outputs": [],
   "source": [
    "#Method - 2\n",
    "# time complexity -- log(n)\n",
    "\n",
    "def exp(n):\n",
    "    if (n == 0):\n",
    "        return 1\n",
    "    \n",
    "    chota_answer = exp(n//2)\n",
    "    \n",
    "    if (n&1):\n",
    "        return 2 * chota_answer * chota_answer\n",
    "    else:\n",
    "        return chota_answer * chota_answer"
   ]
  },
  {
   "cell_type": "code",
   "execution_count": 9,
   "id": "91e3c67a",
   "metadata": {},
   "outputs": [
    {
     "data": {
      "text/plain": [
       "16"
      ]
     },
     "execution_count": 9,
     "metadata": {},
     "output_type": "execute_result"
    }
   ],
   "source": [
    "exp(4)"
   ]
  },
  {
   "cell_type": "code",
   "execution_count": null,
   "id": "be4f41d5",
   "metadata": {},
   "outputs": [],
   "source": []
  }
 ],
 "metadata": {
  "kernelspec": {
   "display_name": "Python 3 (ipykernel)",
   "language": "python",
   "name": "python3"
  },
  "language_info": {
   "codemirror_mode": {
    "name": "ipython",
    "version": 3
   },
   "file_extension": ".py",
   "mimetype": "text/x-python",
   "name": "python",
   "nbconvert_exporter": "python",
   "pygments_lexer": "ipython3",
   "version": "3.9.13"
  }
 },
 "nbformat": 4,
 "nbformat_minor": 5
}
