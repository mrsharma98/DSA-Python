{
 "cells": [
  {
   "cell_type": "raw",
   "id": "d9cecaa8",
   "metadata": {},
   "source": [
    "https://www.codingninjas.com/codestudio/problems/cut-into-segments_1214651"
   ]
  },
  {
   "cell_type": "code",
   "execution_count": 1,
   "id": "d5a58abc",
   "metadata": {},
   "outputs": [],
   "source": [
    "# Recursion\n",
    "\n",
    "def solve(n, x, y, z):\n",
    "    # base case\n",
    "    if n==0:\n",
    "        return 0\n",
    "    if n<0:\n",
    "        return -sys.maxsize-1\n",
    "    \n",
    "    \n",
    "    a = solve(n-x, x, y, z) + 1\n",
    "    b = solve(n-y, x, y, z) + 1\n",
    "    c = solve(n-z, x, y, z) + 1\n",
    "    \n",
    "    ans = max(a, max(b, c))\n",
    "    return ans\n",
    "    \n",
    "\n",
    "def cutSegments(n, x, y, z):\n",
    "    # Write your code here.\n",
    "    ans = solve(n, x, y, z)\n",
    "    if ans<0:\n",
    "        return 0\n",
    "    return ans"
   ]
  },
  {
   "cell_type": "code",
   "execution_count": null,
   "id": "ce467f1a",
   "metadata": {},
   "outputs": [],
   "source": []
  },
  {
   "cell_type": "code",
   "execution_count": 2,
   "id": "a5e56f52",
   "metadata": {},
   "outputs": [],
   "source": [
    "# Recursion + Memoization\n",
    "\n",
    "import sys\n",
    "\n",
    "def solveMem(n, x, y, z, dp):\n",
    "    # base case\n",
    "    if n==0:\n",
    "        return 0\n",
    "    if n<0:\n",
    "        return -sys.maxsize-1\n",
    "    \n",
    "    if dp[n]!=-1:\n",
    "        return dp[n]\n",
    "    \n",
    "    a = solveMem(n-x, x, y, z, dp) + 1\n",
    "    b = solveMem(n-y, x, y, z, dp) + 1\n",
    "    c = solveMem(n-z, x, y, z, dp) + 1\n",
    "    \n",
    "    dp[n] = max(a, max(b, c))\n",
    "    return dp[n]\n",
    "    \n",
    "\n",
    "def cutSegments(n, x, y, z):\n",
    "    # Write your code here.\n",
    "    dp = [-1]*(n+1)\n",
    "    ans = solveMem(n, x, y, z, dp)\n",
    "    if ans < 0 :\n",
    "        return 0\n",
    "    return ans"
   ]
  },
  {
   "cell_type": "code",
   "execution_count": null,
   "id": "7ab98ffb",
   "metadata": {},
   "outputs": [],
   "source": []
  },
  {
   "cell_type": "code",
   "execution_count": 3,
   "id": "b69fdfb6",
   "metadata": {},
   "outputs": [],
   "source": [
    "# Tabulation\n",
    "\n",
    "import sys\n",
    "\n",
    "def solveTab(n, x, y, z):\n",
    "    dp = [-sys.maxsize-1]*(n+1)\n",
    "    dp[0] = 0\n",
    "    \n",
    "    for i in range(1, n+1):\n",
    "        if (i-x>=0):\n",
    "            dp[i] = max(dp[i], dp[i-x]+1)\n",
    "        if (i-y>=0):\n",
    "            dp[i] = max(dp[i], dp[i-y]+1)\n",
    "        if (i-z>=0):\n",
    "            dp[i] = max(dp[i], dp[i-z]+1)\n",
    "        \n",
    "    if dp[n]<0:\n",
    "        return 0\n",
    "    return dp[n]\n",
    "    \n",
    "\n",
    "def cutSegments(n, x, y, z):\n",
    "    # Write your code here.\n",
    "    dp = [-1]*(n+1)\n",
    "    ans = solveTab(n, x, y, z)\n",
    "    return ans"
   ]
  },
  {
   "cell_type": "raw",
   "id": "0fcb9bab",
   "metadata": {},
   "source": [
    "No Space Optimization as dp[i] depends on dp[i-x], dp[i-y] and dp[i-z]\n",
    "and we don't know what can be the value of x, y and z"
   ]
  },
  {
   "cell_type": "code",
   "execution_count": null,
   "id": "42a83d73",
   "metadata": {},
   "outputs": [],
   "source": []
  }
 ],
 "metadata": {
  "kernelspec": {
   "display_name": "Python 3 (ipykernel)",
   "language": "python",
   "name": "python3"
  },
  "language_info": {
   "codemirror_mode": {
    "name": "ipython",
    "version": 3
   },
   "file_extension": ".py",
   "mimetype": "text/x-python",
   "name": "python",
   "nbconvert_exporter": "python",
   "pygments_lexer": "ipython3",
   "version": "3.9.7"
  }
 },
 "nbformat": 4,
 "nbformat_minor": 5
}
