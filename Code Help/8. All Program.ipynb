{
 "cells": [
  {
   "cell_type": "code",
   "execution_count": 17,
   "id": "bde7ebac",
   "metadata": {},
   "outputs": [],
   "source": [
    "# Check if a given array is sorted or not.\n",
    "\n",
    "def is_sorted(arr, size):\n",
    "#     print(arr)\n",
    "    if size == 1 or size == 0:\n",
    "        return True\n",
    "    \n",
    "    if (arr[0] > arr[1]):\n",
    "        return False\n",
    "    return is_sorted(arr[1:], size-1)"
   ]
  },
  {
   "cell_type": "code",
   "execution_count": 18,
   "id": "6276615b",
   "metadata": {
    "scrolled": true
   },
   "outputs": [
    {
     "data": {
      "text/plain": [
       "False"
      ]
     },
     "execution_count": 18,
     "metadata": {},
     "output_type": "execute_result"
    }
   ],
   "source": [
    "arr = [2,4,6,3,7]\n",
    "size = len(arr)\n",
    "is_sorted(arr, size)"
   ]
  },
  {
   "cell_type": "code",
   "execution_count": null,
   "id": "fe0f94b7",
   "metadata": {},
   "outputs": [],
   "source": []
  },
  {
   "cell_type": "code",
   "execution_count": 27,
   "id": "64b7b10b",
   "metadata": {},
   "outputs": [],
   "source": [
    "# sum of all the elements\n",
    "\n",
    "# Method-1\n",
    "def sum(arr, ans, size):\n",
    "    if size == 0:\n",
    "        return ans\n",
    "    return sum(arr[1:], ans+arr[0], size-1)\n",
    "\n",
    "# Method-2\n",
    "def sum2(arr, size):\n",
    "    if size == 0:\n",
    "        return 0\n",
    "    if size == 1:\n",
    "        return arr[0]\n",
    "    \n",
    "    ans = 0\n",
    "    remainingPart = sum2(arr[1:], size-1)\n",
    "    ans = arr[0] + remainingPart\n",
    "    return ans"
   ]
  },
  {
   "cell_type": "code",
   "execution_count": 28,
   "id": "8cf86b0a",
   "metadata": {},
   "outputs": [
    {
     "data": {
      "text/plain": [
       "138"
      ]
     },
     "execution_count": 28,
     "metadata": {},
     "output_type": "execute_result"
    }
   ],
   "source": [
    "arr = [2,4,6,3,123]\n",
    "size = len(arr)\n",
    "sum2(arr, size)"
   ]
  },
  {
   "cell_type": "code",
   "execution_count": null,
   "id": "bda5be64",
   "metadata": {},
   "outputs": [],
   "source": []
  },
  {
   "cell_type": "code",
   "execution_count": 32,
   "id": "0cf06659",
   "metadata": {},
   "outputs": [],
   "source": [
    "# Linear search\n",
    "def linear_search(arr, key, index=0):\n",
    "    if index == len(arr):\n",
    "        return False\n",
    "    if key == arr[index]:\n",
    "        return index\n",
    "    \n",
    "    return linear_search(arr, key, index+1)"
   ]
  },
  {
   "cell_type": "code",
   "execution_count": 34,
   "id": "17fb2380",
   "metadata": {},
   "outputs": [
    {
     "data": {
      "text/plain": [
       "3"
      ]
     },
     "execution_count": 34,
     "metadata": {},
     "output_type": "execute_result"
    }
   ],
   "source": [
    "arr = [2,4,6,3,123]\n",
    "linear_search(arr, 3)"
   ]
  },
  {
   "cell_type": "code",
   "execution_count": null,
   "id": "97170019",
   "metadata": {},
   "outputs": [],
   "source": []
  },
  {
   "cell_type": "code",
   "execution_count": 62,
   "id": "f678235e",
   "metadata": {},
   "outputs": [],
   "source": [
    "# Binary Search\n",
    "def binary_search(arr, key, low, high):\n",
    "    if (low > high):\n",
    "        return False\n",
    "    \n",
    "    mid = low + (high-low)//2\n",
    "    if (arr[mid] == key):\n",
    "        return True\n",
    "    \n",
    "    if arr[mid] > key:\n",
    "        return binary_search(arr, key, low, mid-1)\n",
    "    else:\n",
    "        return binary_search(arr, key, mid+1, high)"
   ]
  },
  {
   "cell_type": "code",
   "execution_count": 66,
   "id": "26851524",
   "metadata": {},
   "outputs": [
    {
     "data": {
      "text/plain": [
       "True"
      ]
     },
     "execution_count": 66,
     "metadata": {},
     "output_type": "execute_result"
    }
   ],
   "source": [
    "arr = [2,3,4,6,123]\n",
    "low = 0\n",
    "high = len(arr)-1\n",
    "binary_search(arr, 2, low, high)"
   ]
  },
  {
   "cell_type": "code",
   "execution_count": null,
   "id": "7440222b",
   "metadata": {},
   "outputs": [],
   "source": []
  },
  {
   "cell_type": "code",
   "execution_count": 1,
   "id": "10bafd66",
   "metadata": {},
   "outputs": [],
   "source": [
    "# i/p:- \"abcde\"\n",
    "#o/p:- \"edcba\" -- i.e. reverse"
   ]
  },
  {
   "cell_type": "code",
   "execution_count": 7,
   "id": "ca3e8c72",
   "metadata": {},
   "outputs": [],
   "source": [
    "def reverse(string):\n",
    "    if (len(string) == 0):\n",
    "        return string\n",
    "    return string[-1]+reverse(string[:-1])"
   ]
  },
  {
   "cell_type": "code",
   "execution_count": 8,
   "id": "a70c5660",
   "metadata": {},
   "outputs": [
    {
     "data": {
      "text/plain": [
       "'olleh'"
      ]
     },
     "execution_count": 8,
     "metadata": {},
     "output_type": "execute_result"
    }
   ],
   "source": [
    "reverse(\"hello\")"
   ]
  },
  {
   "cell_type": "code",
   "execution_count": null,
   "id": "a4146f0d",
   "metadata": {},
   "outputs": [],
   "source": []
  },
  {
   "cell_type": "code",
   "execution_count": null,
   "id": "6ae1d482",
   "metadata": {},
   "outputs": [],
   "source": [
    "# Palindrome"
   ]
  },
  {
   "cell_type": "code",
   "execution_count": 28,
   "id": "bdfcfda8",
   "metadata": {},
   "outputs": [],
   "source": [
    "def palindrome(string):\n",
    "    if (len(string) == 0 or len(string) == 1):\n",
    "        return True\n",
    "    \n",
    "    if (string[0].lower() != string[-1].lower()):\n",
    "        return False\n",
    "    \n",
    "    return palindrome(string[1:-1])"
   ]
  },
  {
   "cell_type": "code",
   "execution_count": 33,
   "id": "06aca074",
   "metadata": {},
   "outputs": [
    {
     "data": {
      "text/plain": [
       "False"
      ]
     },
     "execution_count": 33,
     "metadata": {},
     "output_type": "execute_result"
    }
   ],
   "source": [
    "palindrome(\"Heijeh\")"
   ]
  },
  {
   "cell_type": "code",
   "execution_count": null,
   "id": "fb58fd69",
   "metadata": {},
   "outputs": [],
   "source": []
  },
  {
   "cell_type": "code",
   "execution_count": 34,
   "id": "7208e8a7",
   "metadata": {},
   "outputs": [],
   "source": [
    "# power\n",
    "# a = 3, b = 2\n",
    "# o/p:- 3^2"
   ]
  },
  {
   "cell_type": "code",
   "execution_count": 1,
   "id": "a0e61eae",
   "metadata": {},
   "outputs": [],
   "source": [
    "#Method -1\n",
    "def power(a, b):\n",
    "    if (b == 0):\n",
    "        return 1\n",
    "    if (b == 1):\n",
    "        return a\n",
    "    return a * power(a, b-1)\n",
    "\n",
    "# Method - 2\n",
    "# using odd even\n",
    "# when odd a * (a^b/2 * a^b/2)\n",
    "# when even (a^b/2 * a^b/2)\n",
    "def power2(a, b):\n",
    "    if (b == 0):\n",
    "        return 1\n",
    "    if (b == 1):\n",
    "        return a\n",
    "    \n",
    "    ans = power2(a, b//2)\n",
    "    \n",
    "    if b%2 == 0:\n",
    "        return ans * ans\n",
    "    else:\n",
    "        return a * ans * ans"
   ]
  },
  {
   "cell_type": "code",
   "execution_count": 2,
   "id": "909f44d7",
   "metadata": {},
   "outputs": [
    {
     "data": {
      "text/plain": [
       "9"
      ]
     },
     "execution_count": 2,
     "metadata": {},
     "output_type": "execute_result"
    }
   ],
   "source": [
    "power(3,2)"
   ]
  },
  {
   "cell_type": "code",
   "execution_count": 7,
   "id": "40a3c940",
   "metadata": {},
   "outputs": [
    {
     "data": {
      "text/plain": [
       "19683"
      ]
     },
     "execution_count": 7,
     "metadata": {},
     "output_type": "execute_result"
    }
   ],
   "source": [
    "power2(3, 9)"
   ]
  },
  {
   "cell_type": "code",
   "execution_count": null,
   "id": "b10b4d08",
   "metadata": {},
   "outputs": [],
   "source": []
  },
  {
   "cell_type": "code",
   "execution_count": null,
   "id": "e1d13283",
   "metadata": {},
   "outputs": [],
   "source": [
    "# Bubble sort"
   ]
  },
  {
   "cell_type": "code",
   "execution_count": 16,
   "id": "4e407e89",
   "metadata": {},
   "outputs": [],
   "source": [
    "def bubble_sort(arr, size):\n",
    "    if (size == 0 or size == 1):\n",
    "        return arr\n",
    "    \n",
    "    for i in range(size-1):\n",
    "        if (arr[i] > arr[i+1]):\n",
    "            arr[i], arr[i+1] = arr[i+1], arr[i]\n",
    "    \n",
    "    return bubble_sort(arr, size-1)"
   ]
  },
  {
   "cell_type": "code",
   "execution_count": 19,
   "id": "04281ca1",
   "metadata": {},
   "outputs": [
    {
     "data": {
      "text/plain": [
       "[3, 4, 5, 6, 7, 8, 9, 11, 54, 76]"
      ]
     },
     "execution_count": 19,
     "metadata": {},
     "output_type": "execute_result"
    }
   ],
   "source": [
    "arr = [9,8,7,6,5,4,3,11,76,54]\n",
    "size = len(arr)\n",
    "bubble_sort(arr, size)"
   ]
  },
  {
   "cell_type": "code",
   "execution_count": null,
   "id": "4dcb2fd3",
   "metadata": {},
   "outputs": [],
   "source": []
  },
  {
   "cell_type": "code",
   "execution_count": 1,
   "id": "73668c0d",
   "metadata": {},
   "outputs": [],
   "source": [
    "# Merge Sort"
   ]
  },
  {
   "cell_type": "code",
   "execution_count": 2,
   "id": "5b01d33d",
   "metadata": {},
   "outputs": [],
   "source": [
    "# first divide the array\n",
    "# then for merging, apply merge 2 sorted array concept."
   ]
  },
  {
   "cell_type": "code",
   "execution_count": 3,
   "id": "667821df",
   "metadata": {},
   "outputs": [],
   "source": [
    "# there are 2 ways to divide an array\n",
    "# 1. create ne aaray and copy values\n",
    "# 2. use indexes tp divide the array"
   ]
  },
  {
   "cell_type": "code",
   "execution_count": 16,
   "id": "7f84081f",
   "metadata": {},
   "outputs": [],
   "source": [
    "def merge(arr, s, e):\n",
    "    \n",
    "    mid = (s+e)//2\n",
    "    \n",
    "    # now we have to make 2 array\n",
    "    len1 = mid - s + 1\n",
    "    len2 = e - mid\n",
    "    \n",
    "    # creating 2 array\n",
    "    first = [None]*len1\n",
    "    second = [None]*len2\n",
    "    \n",
    "    # copying values\n",
    "    k = s\n",
    "    for i in range(len1):\n",
    "        first[i] = arr[k]\n",
    "        k += 1\n",
    "        \n",
    "    k = mid + 1\n",
    "    for i in range(len2):\n",
    "        second[i] = arr[k]\n",
    "        k += 1\n",
    "        \n",
    "    # merging 2 sorted array\n",
    "    index1 = 0\n",
    "    index2 = 0\n",
    "    mainArrayIndex = s\n",
    "    \n",
    "    while (index1 < len1 and index2 < len2):\n",
    "        if first[index1] < second[index2]:\n",
    "            arr[mainArrayIndex] = first[index1]\n",
    "            index1 += 1\n",
    "        else:\n",
    "            arr[mainArrayIndex] = second[index2]\n",
    "            index2 += 1\n",
    "        mainArrayIndex += 1\n",
    "            \n",
    "    # one of the array length can be more\n",
    "    while (index1 < len1):\n",
    "        arr[mainArrayIndex] = first[index1]\n",
    "        index1 += 1\n",
    "        mainArrayIndex += 1\n",
    "        \n",
    "    while (index2 < len2):\n",
    "        arr[mainArrayIndex] = second[index2]\n",
    "        index2 += 1\n",
    "        mainArrayIndex += 1"
   ]
  },
  {
   "cell_type": "code",
   "execution_count": 17,
   "id": "30247215",
   "metadata": {},
   "outputs": [],
   "source": [
    "def mergeSort(arr, s, e):\n",
    "    if (s >= e):\n",
    "        return\n",
    "    \n",
    "    mid = (s+e)//2\n",
    "    \n",
    "    # left part sort karna hai\n",
    "    mergeSort(arr, s, mid)\n",
    "    \n",
    "    # right part sort karna hai\n",
    "    mergeSort(arr, mid+1, e)\n",
    "    \n",
    "    # merge sorted array\n",
    "    merge(arr, s, e)"
   ]
  },
  {
   "cell_type": "code",
   "execution_count": null,
   "id": "dfb5c5f6",
   "metadata": {},
   "outputs": [],
   "source": []
  },
  {
   "cell_type": "code",
   "execution_count": 19,
   "id": "f46cf23d",
   "metadata": {},
   "outputs": [
    {
     "data": {
      "text/plain": [
       "[1, 2, 5, 6, 9]"
      ]
     },
     "execution_count": 19,
     "metadata": {},
     "output_type": "execute_result"
    }
   ],
   "source": [
    "arr = [2,5,1,6,9]\n",
    "start = 0\n",
    "end = len(arr)-1\n",
    "\n",
    "mergeSort(arr, start, end)\n",
    "\n",
    "arr"
   ]
  },
  {
   "cell_type": "code",
   "execution_count": null,
   "id": "8c964df0",
   "metadata": {},
   "outputs": [],
   "source": []
  },
  {
   "cell_type": "code",
   "execution_count": null,
   "id": "7bd010b0",
   "metadata": {},
   "outputs": [],
   "source": []
  },
  {
   "cell_type": "code",
   "execution_count": 1,
   "id": "aae0e2fe",
   "metadata": {},
   "outputs": [],
   "source": [
    "# Quick Sort"
   ]
  },
  {
   "cell_type": "code",
   "execution_count": 11,
   "id": "6ca21114",
   "metadata": {},
   "outputs": [],
   "source": [
    "def partition(arr, s, e):\n",
    "    pivot = arr[s]\n",
    "    \n",
    "    # counting no. smaller than pivot\n",
    "    cnt = 0\n",
    "    for i in range(s+1, e+1):\n",
    "        if arr[i] <= pivot:\n",
    "            cnt += 1\n",
    "    \n",
    "    # placing pivot to it's actual position\n",
    "    pivotIndex = s + cnt\n",
    "    arr[pivotIndex], arr[s] = arr[s], arr[pivotIndex]\n",
    "    \n",
    "    # left and right wala part sambhal lete hai\n",
    "    i = s\n",
    "    j = e\n",
    "    \n",
    "    while (i< pivotIndex and j > pivotIndex):\n",
    "        while arr[i] <= pivot:\n",
    "            i += 1\n",
    "        \n",
    "        while arr[j] > pivot:\n",
    "            j -= 1\n",
    "        \n",
    "        if(i < pivotIndex and j > pivotIndex):\n",
    "            arr[i], arr[j] = arr[j], arr[i]\n",
    "            i += 1\n",
    "            j -= 1\n",
    "    \n",
    "    return pivotIndex\n",
    "    "
   ]
  },
  {
   "cell_type": "code",
   "execution_count": 12,
   "id": "7fedfbcf",
   "metadata": {},
   "outputs": [],
   "source": [
    "def quick_sort(arr, s, e):\n",
    "    if s >= e:\n",
    "        return\n",
    "    \n",
    "    # Partition\n",
    "    p = partition(arr, s, e)\n",
    "    \n",
    "    # left part sort karo\n",
    "    quick_sort(arr, s, p-1)\n",
    "    \n",
    "    # right part sort karo\n",
    "    quick_sort(arr, p+1, e)"
   ]
  },
  {
   "cell_type": "code",
   "execution_count": null,
   "id": "8c74771e",
   "metadata": {},
   "outputs": [],
   "source": []
  },
  {
   "cell_type": "code",
   "execution_count": 13,
   "id": "a8a31737",
   "metadata": {},
   "outputs": [],
   "source": [
    "arr = [10, 11, 3, 56, 998, 1234, 2, 13]\n",
    "size = len(arr)\n",
    "start = 0\n",
    "end = size-1\n",
    "\n",
    "quick_sort(arr, start, end)"
   ]
  },
  {
   "cell_type": "code",
   "execution_count": 14,
   "id": "80458af2",
   "metadata": {},
   "outputs": [
    {
     "data": {
      "text/plain": [
       "[2, 3, 10, 11, 13, 56, 998, 1234]"
      ]
     },
     "execution_count": 14,
     "metadata": {},
     "output_type": "execute_result"
    }
   ],
   "source": [
    "arr"
   ]
  },
  {
   "cell_type": "code",
   "execution_count": null,
   "id": "6151f4f1",
   "metadata": {},
   "outputs": [],
   "source": []
  },
  {
   "cell_type": "code",
   "execution_count": 15,
   "id": "714e819f",
   "metadata": {},
   "outputs": [],
   "source": [
    "# Power Set"
   ]
  },
  {
   "cell_type": "code",
   "execution_count": 1,
   "id": "676039d2",
   "metadata": {},
   "outputs": [],
   "source": [
    "# without using recursion\n",
    "def subsets(nums):\n",
    "    output = [[]]\n",
    "\n",
    "    for num in nums:\n",
    "        output_copy = output.copy()\n",
    "        for curr in output_copy:\n",
    "            output += [curr+[num]]\n",
    "\n",
    "    return output"
   ]
  },
  {
   "cell_type": "code",
   "execution_count": 2,
   "id": "4b204f06",
   "metadata": {},
   "outputs": [
    {
     "data": {
      "text/plain": [
       "[[], [1], [2], [1, 2], [3], [1, 3], [2, 3], [1, 2, 3]]"
      ]
     },
     "execution_count": 2,
     "metadata": {},
     "output_type": "execute_result"
    }
   ],
   "source": [
    "subsets([1,2,3])"
   ]
  },
  {
   "cell_type": "code",
   "execution_count": null,
   "id": "35a20e13",
   "metadata": {},
   "outputs": [],
   "source": []
  },
  {
   "cell_type": "code",
   "execution_count": 3,
   "id": "f57dcc42",
   "metadata": {},
   "outputs": [],
   "source": [
    "# using recursion"
   ]
  },
  {
   "cell_type": "code",
   "execution_count": 6,
   "id": "96f2d6de",
   "metadata": {},
   "outputs": [],
   "source": [
    "def subsets(arr, output, index):\n",
    "    if (index >= len(arr)):\n",
    "        return output\n",
    "    \n",
    "    output_copy = output.copy()\n",
    "    for curr in output_copy:\n",
    "        output += [curr+[arr[index]]]\n",
    "\n",
    "    return subsets(arr, output, index+1)"
   ]
  },
  {
   "cell_type": "code",
   "execution_count": 7,
   "id": "03c9bbe1",
   "metadata": {},
   "outputs": [
    {
     "data": {
      "text/plain": [
       "[[], [1], [2], [1, 2], [3], [1, 3], [2, 3], [1, 2, 3]]"
      ]
     },
     "execution_count": 7,
     "metadata": {},
     "output_type": "execute_result"
    }
   ],
   "source": [
    "subsets([1,2,3], [[]], 0)"
   ]
  },
  {
   "cell_type": "code",
   "execution_count": 120,
   "id": "55011af6",
   "metadata": {},
   "outputs": [
    {
     "data": {
      "text/plain": [
       "[[], [3], [2], [2, 3], [1], [1, 3], [1, 2], [1, 2, 3]]"
      ]
     },
     "execution_count": 120,
     "metadata": {},
     "output_type": "execute_result"
    }
   ],
   "source": [
    "# video approach\n",
    "def powerset2(nums, output, index, ans):\n",
    "    if (index >= len(nums)):\n",
    "        ans.append(output)\n",
    "        return\n",
    "    \n",
    "    # exclude\n",
    "    powerset2(nums, output, index+1, ans)\n",
    "    \n",
    "    # include\n",
    "    output_copy = output.copy()\n",
    "    element = nums[index]\n",
    "    output_copy.append(element)\n",
    "    powerset2(nums, output_copy, index+1, ans)\n",
    "    \n",
    "arr = [1, 2,3]\n",
    "output = []\n",
    "ans = []\n",
    "index = 0\n",
    "powerset2(arr, output, index, ans)\n",
    "\n",
    "ans"
   ]
  },
  {
   "cell_type": "code",
   "execution_count": null,
   "id": "d8413687",
   "metadata": {},
   "outputs": [],
   "source": []
  },
  {
   "cell_type": "code",
   "execution_count": null,
   "id": "9ad336e3",
   "metadata": {},
   "outputs": [],
   "source": [
    "# phone keypad problem"
   ]
  },
  {
   "cell_type": "code",
   "execution_count": 2,
   "id": "c64ae638",
   "metadata": {},
   "outputs": [],
   "source": [
    "def solve(digit, output, index, ans, mapping):\n",
    "    if index >= len(digit):\n",
    "        ans.append(output)\n",
    "        output = \"\"\n",
    "        return\n",
    "    \n",
    "    number = int(digit[index])\n",
    "    value = mapping[number]\n",
    "    \n",
    "    for i in range(len(value)):\n",
    "        output += value[i]\n",
    "        solve(digit, output, index+1, ans, mapping)\n",
    "        output = output[:-1]"
   ]
  },
  {
   "cell_type": "code",
   "execution_count": 5,
   "id": "7aa64f76",
   "metadata": {},
   "outputs": [],
   "source": [
    "let = \"23\"\n",
    "ans = []\n",
    "output = \"\"\n",
    "index = 0\n",
    "mapping = [\"\", \"\", \"abc\", \"def\", \"ghi\", \"jkl\", \"mno\", \"pqrs\", \"tuv\", \"wxyz\"]\n",
    "solve(let, output, index, ans, mapping)"
   ]
  },
  {
   "cell_type": "code",
   "execution_count": 6,
   "id": "8732ee06",
   "metadata": {},
   "outputs": [
    {
     "data": {
      "text/plain": [
       "['ad', 'ae', 'af', 'bd', 'be', 'bf', 'cd', 'ce', 'cf']"
      ]
     },
     "execution_count": 6,
     "metadata": {},
     "output_type": "execute_result"
    }
   ],
   "source": [
    "ans"
   ]
  },
  {
   "cell_type": "code",
   "execution_count": null,
   "id": "4ebbb168",
   "metadata": {},
   "outputs": [],
   "source": []
  },
  {
   "cell_type": "code",
   "execution_count": null,
   "id": "32572c6e",
   "metadata": {},
   "outputs": [],
   "source": []
  },
  {
   "cell_type": "code",
   "execution_count": 7,
   "id": "d219137f",
   "metadata": {},
   "outputs": [],
   "source": [
    "# Permutation of a string\n",
    "# swapping each element with first in the 1st iteration, and fix the first place\n",
    "# swapping each element with second (except 1st bcz it is fixed) in the 2nd iteration, fix the 2nd place, and so on"
   ]
  },
  {
   "cell_type": "code",
   "execution_count": 3,
   "id": "2819e94b",
   "metadata": {},
   "outputs": [],
   "source": [
    "def permutation(nums, ans, index):\n",
    "    if index >= len(nums):\n",
    "        ans.append(nums)\n",
    "        return\n",
    "    \n",
    "    nums_copy = nums.copy()\n",
    "    for j in range(index, len(nums_copy)):\n",
    "        nums_copy[index], nums_copy[j] = nums_copy[j], nums_copy[index]\n",
    "        permutation(nums_copy, ans, index+1)\n",
    "        nums_copy[index], nums_copy[j] = nums_copy[j], nums_copy[index]"
   ]
  },
  {
   "cell_type": "code",
   "execution_count": null,
   "id": "4ee896bc",
   "metadata": {},
   "outputs": [],
   "source": []
  },
  {
   "cell_type": "code",
   "execution_count": 10,
   "id": "ad6dcd7f",
   "metadata": {},
   "outputs": [
    {
     "data": {
      "text/plain": [
       "[[1, 2], [2, 1]]"
      ]
     },
     "execution_count": 10,
     "metadata": {},
     "output_type": "execute_result"
    }
   ],
   "source": [
    "nums = [1,2]\n",
    "ans = []\n",
    "index = 0\n",
    "permutation(nums, ans, index)\n",
    "ans"
   ]
  },
  {
   "cell_type": "code",
   "execution_count": null,
   "id": "b01f25b3",
   "metadata": {},
   "outputs": [],
   "source": []
  },
  {
   "cell_type": "code",
   "execution_count": null,
   "id": "ab19cdb2",
   "metadata": {},
   "outputs": [],
   "source": []
  },
  {
   "cell_type": "code",
   "execution_count": null,
   "id": "b2aef563",
   "metadata": {},
   "outputs": [],
   "source": [
    "# Rat in maze"
   ]
  },
  {
   "cell_type": "code",
   "execution_count": 37,
   "id": "02b6405a",
   "metadata": {},
   "outputs": [],
   "source": [
    "def ifSafe(x, y, n, visited, m):\n",
    "    if (x>=0 and x<n) and (y>=0 and y<n) and visited[x][y] == 0 and m[x][y] == 1:\n",
    "        return True\n",
    "    else:\n",
    "        return False"
   ]
  },
  {
   "cell_type": "code",
   "execution_count": 41,
   "id": "14307b2a",
   "metadata": {},
   "outputs": [],
   "source": [
    "def solve(m, n, ans, x, y, visited, path):\n",
    "    # we have reached x,y here\n",
    "    if x == (n-1) and y == (n-1):\n",
    "        ans.append(path)\n",
    "        return\n",
    "    \n",
    "    visited_copy = visited.copy()\n",
    "    visited_copy[x][y] = 1\n",
    "    \n",
    "    # 4 choices - D, L, R, U\n",
    "    \n",
    "    # down\n",
    "    newx = x + 1\n",
    "    newy = y\n",
    "    if (ifSafe(newx, newy, n, visited_copy, m)):\n",
    "        path += 'D'\n",
    "        solve(m, n, ans, newx, newy, visited_copy, path)\n",
    "        path = path[:-1]\n",
    "    \n",
    "    # left\n",
    "    newx = x\n",
    "    newy = y - 1\n",
    "    if (ifSafe(newx, newy, n, visited_copy, m)):\n",
    "        path += 'L'\n",
    "        solve(m, n, ans, newx, newy, visited_copy, path)\n",
    "        path = path[:-1]\n",
    "    \n",
    "    # Right\n",
    "    newx = x\n",
    "    newy = y + 1\n",
    "    if (ifSafe(newx, newy, n, visited_copy, m)):\n",
    "        path += 'R'\n",
    "        solve(m, n, ans, newx, newy, visited_copy, path)\n",
    "        path = path[:-1]\n",
    "    \n",
    "    # UP\n",
    "    newx = x - 1\n",
    "    newy = y\n",
    "    if (ifSafe(newx, newy, n, visited_copy, m)):\n",
    "        path += 'U'\n",
    "        solve(m, n, ans, newx, newy, visited_copy, path)\n",
    "        path = path[:-1]\n",
    "    \n",
    "    visited_copy[x][y] = 0"
   ]
  },
  {
   "cell_type": "code",
   "execution_count": null,
   "id": "8c656b2e",
   "metadata": {},
   "outputs": [],
   "source": []
  },
  {
   "cell_type": "code",
   "execution_count": 42,
   "id": "63d9b3c8",
   "metadata": {},
   "outputs": [],
   "source": [
    "def problem():\n",
    "    m = [[1, 0, 0, 0], [1, 1, 0, 1], [1, 1, 0, 0], [0, 1, 1, 1]]\n",
    "    n = len(m)\n",
    "    ans = []\n",
    "\n",
    "    if (m[0][0] == 0):\n",
    "        ans\n",
    "\n",
    "    srcx = 0\n",
    "    srcy = 0\n",
    "\n",
    "    visited = m.copy()\n",
    "\n",
    "    # initizing visited with zero\n",
    "    for i in range(len(m)):\n",
    "        for j in range(len(m)):\n",
    "            visited[i][j] = 0\n",
    "\n",
    "    path = \"\"\n",
    "    solve(m, n, ans, srcx, srcy, visited, path)\n",
    "    ans.sort()\n",
    "    return ans"
   ]
  },
  {
   "cell_type": "code",
   "execution_count": 43,
   "id": "cc9804a4",
   "metadata": {},
   "outputs": [
    {
     "data": {
      "text/plain": [
       "[]"
      ]
     },
     "execution_count": 43,
     "metadata": {},
     "output_type": "execute_result"
    }
   ],
   "source": [
    "problem()"
   ]
  },
  {
   "cell_type": "code",
   "execution_count": null,
   "id": "cebb4341",
   "metadata": {},
   "outputs": [],
   "source": []
  },
  {
   "cell_type": "code",
   "execution_count": null,
   "id": "af541ae9",
   "metadata": {},
   "outputs": [],
   "source": []
  },
  {
   "cell_type": "code",
   "execution_count": null,
   "id": "779d447d",
   "metadata": {},
   "outputs": [],
   "source": []
  }
 ],
 "metadata": {
  "kernelspec": {
   "display_name": "Python 3 (ipykernel)",
   "language": "python",
   "name": "python3"
  },
  "language_info": {
   "codemirror_mode": {
    "name": "ipython",
    "version": 3
   },
   "file_extension": ".py",
   "mimetype": "text/x-python",
   "name": "python",
   "nbconvert_exporter": "python",
   "pygments_lexer": "ipython3",
   "version": "3.9.7"
  }
 },
 "nbformat": 4,
 "nbformat_minor": 5
}
