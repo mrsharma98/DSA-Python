{
 "cells": [
  {
   "cell_type": "code",
   "execution_count": 8,
   "id": "b96a6a6c",
   "metadata": {},
   "outputs": [],
   "source": [
    "def dfs(node, visited, adj, component):\n",
    "    \n",
    "    # ans store\n",
    "    component.append(node)\n",
    "    visited[node] = True\n",
    "    \n",
    "    # haar connectd nod k liye recursive call\n",
    "    for i in adj[node]:\n",
    "        if not visited.get(i):\n",
    "            dfs(i, visited, adj, component)\n",
    "    \n",
    "\n",
    "# int V, int E, vecotr<vector<int>> &edges\n",
    "def DepthFirstSearch(V, E, edges):\n",
    "    # prepare ahjList\n",
    "    adj = {}\n",
    "    #unorder map <int, list<int>>adj\n",
    "    for i in range(len(edges)):\n",
    "            u = edges[i][0]\n",
    "            v = edges[i][1]        \n",
    "            adj.setdefault(u, []).append(v)\n",
    "            adj.setdefault(v, []).append(u)\n",
    "            \n",
    "    ans = []\n",
    "    # vector<vector<int>>\n",
    "    visited = {}\n",
    "    # unordered map <int, bool>\n",
    "    \n",
    "    # for all nodes call dfs if not visited\n",
    "    for i in range(V):\n",
    "        if not visited.get(i):\n",
    "            component = []\n",
    "            # vector<int>\n",
    "            dfs(i, visited, adj, component)\n",
    "            ans.append(component)\n",
    "            \n",
    "# TC and SC:- Linear"
   ]
  },
  {
   "cell_type": "code",
   "execution_count": null,
   "id": "6162be6a",
   "metadata": {},
   "outputs": [],
   "source": []
  },
  {
   "cell_type": "code",
   "execution_count": null,
   "id": "668f7a2b",
   "metadata": {},
   "outputs": [],
   "source": []
  },
  {
   "cell_type": "code",
   "execution_count": null,
   "id": "507b96ad",
   "metadata": {},
   "outputs": [],
   "source": []
  },
  {
   "cell_type": "code",
   "execution_count": null,
   "id": "c0e37f61",
   "metadata": {},
   "outputs": [],
   "source": []
  },
  {
   "cell_type": "code",
   "execution_count": null,
   "id": "a408dc98",
   "metadata": {},
   "outputs": [],
   "source": []
  }
 ],
 "metadata": {
  "kernelspec": {
   "display_name": "Python 3 (ipykernel)",
   "language": "python",
   "name": "python3"
  },
  "language_info": {
   "codemirror_mode": {
    "name": "ipython",
    "version": 3
   },
   "file_extension": ".py",
   "mimetype": "text/x-python",
   "name": "python",
   "nbconvert_exporter": "python",
   "pygments_lexer": "ipython3",
   "version": "3.9.7"
  }
 },
 "nbformat": 4,
 "nbformat_minor": 5
}
