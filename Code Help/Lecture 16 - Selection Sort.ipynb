{
 "cells": [
  {
   "cell_type": "code",
   "execution_count": 11,
   "id": "e1470223",
   "metadata": {},
   "outputs": [],
   "source": [
    "def selectionSort(arr, n):\n",
    "    for i in range(n-1):\n",
    "        minIndex = i\n",
    "        for j in range(i+1, n):\n",
    "            if arr[j] < arr[minIndex]:\n",
    "                minIndex = j\n",
    "        arr[minIndex], arr[i] = arr[i], arr[minIndex]"
   ]
  },
  {
   "cell_type": "code",
   "execution_count": 12,
   "id": "05ce6678",
   "metadata": {},
   "outputs": [],
   "source": [
    "arr = [5,4,3,34,1]\n",
    "n = len(arr)\n",
    "selectionSort(arr, n)"
   ]
  },
  {
   "cell_type": "code",
   "execution_count": 13,
   "id": "467d11a2",
   "metadata": {},
   "outputs": [
    {
     "data": {
      "text/plain": [
       "[1, 3, 4, 5, 34]"
      ]
     },
     "execution_count": 13,
     "metadata": {},
     "output_type": "execute_result"
    }
   ],
   "source": [
    "arr"
   ]
  },
  {
   "cell_type": "code",
   "execution_count": null,
   "id": "9284f3a5",
   "metadata": {},
   "outputs": [],
   "source": []
  }
 ],
 "metadata": {
  "kernelspec": {
   "display_name": "Python 3 (ipykernel)",
   "language": "python",
   "name": "python3"
  },
  "language_info": {
   "codemirror_mode": {
    "name": "ipython",
    "version": 3
   },
   "file_extension": ".py",
   "mimetype": "text/x-python",
   "name": "python",
   "nbconvert_exporter": "python",
   "pygments_lexer": "ipython3",
   "version": "3.9.7"
  }
 },
 "nbformat": 4,
 "nbformat_minor": 5
}
