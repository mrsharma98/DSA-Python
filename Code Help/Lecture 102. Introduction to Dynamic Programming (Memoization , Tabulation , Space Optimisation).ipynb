{
 "cells": [
  {
   "cell_type": "raw",
   "id": "bce85cc0",
   "metadata": {},
   "source": [
    "Fibbonacci Series"
   ]
  },
  {
   "cell_type": "code",
   "execution_count": 1,
   "id": "65ca3b7a",
   "metadata": {},
   "outputs": [],
   "source": [
    "# Using Recursion\n",
    "def fib(n):\n",
    "    if n==1 or n==0:\n",
    "        return n\n",
    "    return fib(n-1)+fib(n-2)"
   ]
  },
  {
   "cell_type": "code",
   "execution_count": 5,
   "id": "79097220",
   "metadata": {},
   "outputs": [
    {
     "data": {
      "text/plain": [
       "8"
      ]
     },
     "execution_count": 5,
     "metadata": {},
     "output_type": "execute_result"
    }
   ],
   "source": [
    "fib(6)"
   ]
  },
  {
   "cell_type": "code",
   "execution_count": 10,
   "id": "992f0aff",
   "metadata": {},
   "outputs": [],
   "source": [
    "# Top-Down Approach\n",
    "\n",
    "def fibDP(n, dp):\n",
    "    if n==0 or n==1:\n",
    "        return n\n",
    "    \n",
    "    # step-3:- if DP array already has the ans, return it\n",
    "    if dp[n]!=-1:\n",
    "        return dp[n]\n",
    "    \n",
    "    # step-2:- save sub-problem ans in DP array\n",
    "    dp[n] = fibDP(n-1,dp)+fibDP(n-2, dp)\n",
    "    return dp[n]\n",
    "\n",
    "def main():\n",
    "    n = int(input(\"Enter a number: \"))\n",
    "    \n",
    "    # stp-1:- create DP array\n",
    "    dp = [-1]*(n+1)\n",
    "    ans = fibDP(n, dp)\n",
    "    print(ans)"
   ]
  },
  {
   "cell_type": "code",
   "execution_count": 11,
   "id": "c2936f7c",
   "metadata": {},
   "outputs": [
    {
     "name": "stdout",
     "output_type": "stream",
     "text": [
      "Enter a number: 6\n",
      "8\n"
     ]
    }
   ],
   "source": [
    "main()\n",
    "\n",
    "\n",
    "# TC:- O(n)\n",
    "# SC:- rec--O(n) + DP--O(n) = O(n)"
   ]
  },
  {
   "cell_type": "code",
   "execution_count": null,
   "id": "27d7ef70",
   "metadata": {},
   "outputs": [],
   "source": []
  },
  {
   "cell_type": "code",
   "execution_count": null,
   "id": "9ad2427a",
   "metadata": {},
   "outputs": [],
   "source": []
  },
  {
   "cell_type": "raw",
   "id": "2eea806d",
   "metadata": {},
   "source": [
    "Bottom-Up Approach\n",
    "\n",
    "Step-1:- create DP Array\n",
    "Step-2:- check for base case --> d[1]=1, d[n]=0\n",
    "Step-3:- loop\n",
    "for i in range(2,n+1):\n",
    "    dp[i] = dp[i-1]+dp[i-2]\n",
    "    \n",
    "return dp[n]"
   ]
  },
  {
   "cell_type": "code",
   "execution_count": 12,
   "id": "2e038a5f",
   "metadata": {},
   "outputs": [
    {
     "data": {
      "text/plain": [
       "8"
      ]
     },
     "execution_count": 12,
     "metadata": {},
     "output_type": "execute_result"
    }
   ],
   "source": [
    "def fibDP2(n):\n",
    "    dp = [-1]*(n+1)\n",
    "    dp[0] = 0\n",
    "    dp[1] = 1\n",
    "    \n",
    "    for i in range(2, n+1):\n",
    "        dp[i] = dp[i-1]+dp[i-2]\n",
    "        \n",
    "    return dp[n]\n",
    "\n",
    "fibDP2(6)"
   ]
  },
  {
   "cell_type": "raw",
   "id": "3bfd3d3e",
   "metadata": {},
   "source": [
    "TC & SC = O(n)"
   ]
  },
  {
   "cell_type": "code",
   "execution_count": 17,
   "id": "b26396d6",
   "metadata": {},
   "outputs": [
    {
     "data": {
      "text/plain": [
       "1"
      ]
     },
     "execution_count": 17,
     "metadata": {},
     "output_type": "execute_result"
    }
   ],
   "source": [
    "# fibDP2 can be optimized, no need for dp array\n",
    "def fibDP2(n):\n",
    "    prev2 = 0\n",
    "    prev1 = 1\n",
    "    \n",
    "    for i in range(2, n+1):\n",
    "        curr = prev1 + prev2\n",
    "        prev1, prev2 = curr, prev1\n",
    "        \n",
    "    return prev1\n",
    "\n",
    "fibDP2(2)"
   ]
  },
  {
   "cell_type": "code",
   "execution_count": null,
   "id": "73bdc571",
   "metadata": {},
   "outputs": [],
   "source": []
  }
 ],
 "metadata": {
  "kernelspec": {
   "display_name": "Python 3 (ipykernel)",
   "language": "python",
   "name": "python3"
  },
  "language_info": {
   "codemirror_mode": {
    "name": "ipython",
    "version": 3
   },
   "file_extension": ".py",
   "mimetype": "text/x-python",
   "name": "python",
   "nbconvert_exporter": "python",
   "pygments_lexer": "ipython3",
   "version": "3.9.7"
  }
 },
 "nbformat": 4,
 "nbformat_minor": 5
}
