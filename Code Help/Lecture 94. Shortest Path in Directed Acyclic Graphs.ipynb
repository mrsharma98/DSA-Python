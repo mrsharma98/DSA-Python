{
 "cells": [
  {
   "cell_type": "code",
   "execution_count": 1,
   "id": "44c34154",
   "metadata": {},
   "outputs": [],
   "source": [
    "from collections import defaultdict\n",
    "import sys\n",
    "\n",
    "class Graph:\n",
    "    \n",
    "    def __init__(self):\n",
    "        # <int, list<pair<int, int>>>\n",
    "        self.adj = defaultdict(list)\n",
    "    \n",
    "    \n",
    "    def addEdges(self, u, v, weight):\n",
    "        p = [v, weight]\n",
    "        self.adj[u].append(p)\n",
    "        \n",
    "    def printAdj(self):\n",
    "        for i in self.adj:\n",
    "            print(i, \"-->\", end=\" \")\n",
    "            for j in self.adj[i]:\n",
    "                print(j, end=\"\")\n",
    "            print(\"\\n\")\n",
    "    \n",
    "    def dfs(self, node, vis, topo):\n",
    "        vis[node] = True\n",
    "        \n",
    "        for nei in self.adj[node]:\n",
    "            if not vis.get(nei[0]):\n",
    "                self.dfs(nei[0], vis, topo)\n",
    "        topo.append(node)\n",
    "        \n",
    "    def getShortestPath(self, src, dist, topo):\n",
    "        dist[src] = 0\n",
    "\n",
    "        while (len(topo)>0):\n",
    "            top = topo.pop()\n",
    "\n",
    "            if dist[top] != sys.maxsize:\n",
    "                for i in self.adj[top]:\n",
    "                    if (dist[top]+i[1]<dist[i[0]]):\n",
    "                        dist[i[0]] = dist[top]+i[1]"
   ]
  },
  {
   "cell_type": "code",
   "execution_count": 2,
   "id": "f7880d33",
   "metadata": {},
   "outputs": [],
   "source": [
    "g = Graph()"
   ]
  },
  {
   "cell_type": "code",
   "execution_count": 3,
   "id": "860740ec",
   "metadata": {},
   "outputs": [],
   "source": [
    "g.addEdges(0,1,5)\n",
    "g.addEdges(0,2,3)\n",
    "g.addEdges(1,2,2)\n",
    "g.addEdges(1,3,6)\n",
    "g.addEdges(2,3,7)\n",
    "g.addEdges(2,4,4)\n",
    "g.addEdges(2,5,2)\n",
    "g.addEdges(3,4,-1)\n",
    "g.addEdges(4,5,-2)"
   ]
  },
  {
   "cell_type": "code",
   "execution_count": 4,
   "id": "f96076eb",
   "metadata": {},
   "outputs": [],
   "source": [
    "# Topological sort\n",
    "n = 6  # total nodes\n",
    "visited = {}\n",
    "s = []\n",
    "for i in range(n):\n",
    "    if not visited.get(i):\n",
    "        g.dfs(i, visited, s)\n",
    "        \n",
    "src = 1\n",
    "dist = [sys.maxsize]*n\n",
    "g.getShortestPath(src, dist, s)\n"
   ]
  },
  {
   "cell_type": "code",
   "execution_count": 5,
   "id": "79f1a8f1",
   "metadata": {},
   "outputs": [
    {
     "data": {
      "text/plain": [
       "[9223372036854775807, 0, 2, 6, 5, 3]"
      ]
     },
     "execution_count": 5,
     "metadata": {},
     "output_type": "execute_result"
    }
   ],
   "source": [
    "# ans\n",
    "dist"
   ]
  },
  {
   "cell_type": "code",
   "execution_count": null,
   "id": "4b5e05bb",
   "metadata": {},
   "outputs": [],
   "source": []
  },
  {
   "cell_type": "code",
   "execution_count": null,
   "id": "7834b00b",
   "metadata": {},
   "outputs": [],
   "source": []
  },
  {
   "cell_type": "code",
   "execution_count": 6,
   "id": "91e1796f",
   "metadata": {},
   "outputs": [],
   "source": [
    "# Practice"
   ]
  },
  {
   "cell_type": "code",
   "execution_count": 42,
   "id": "f8f0d6c1",
   "metadata": {},
   "outputs": [],
   "source": [
    "from collections import defaultdict\n",
    "import sys\n",
    "\n",
    "\n",
    "class Graph:\n",
    "    def __init__(self):\n",
    "        # <int, list<pair<int, int>>>\n",
    "        self.adj = defaultdict(list)\n",
    "        \n",
    "    def addEdges(self, u, v, weight):\n",
    "        # pair<int, int>\n",
    "        p = [v, weight]\n",
    "        self.adj[u].append(p)\n",
    "        \n",
    "    \n",
    "    def printAdj(self):\n",
    "        for i in self.adj:\n",
    "            print(i, \" --> \", end=\" \")\n",
    "            for j in self.adj[i]:\n",
    "                print(j, end=\"\")\n",
    "            print()\n",
    "            \n",
    "    def dfs(self, node, visited, topo):\n",
    "        visited[node] = True\n",
    "        \n",
    "        for nei in self.adj[node]:\n",
    "            if not visited.get(nei[0]):\n",
    "                self.dfs(nei[0], visited, stack)\n",
    "        topo.append(node)\n",
    "        \n",
    "    def getShortestPath(self, src, dist, topo):\n",
    "        dist[src] = 0\n",
    "        \n",
    "        while (len(topo)>0):\n",
    "            top = topo.pop()\n",
    "            \n",
    "#             if (dist[top] != sys.maxsize):\n",
    "            for i in self.adj[top]:\n",
    "                if ((dist[top] + i[1])<dist[i[0]]):\n",
    "                    dist[i[0]] = dist[top] + i[1]"
   ]
  },
  {
   "cell_type": "code",
   "execution_count": null,
   "id": "29934eab",
   "metadata": {},
   "outputs": [],
   "source": []
  },
  {
   "cell_type": "code",
   "execution_count": 43,
   "id": "240e804c",
   "metadata": {},
   "outputs": [],
   "source": [
    "g = Graph()"
   ]
  },
  {
   "cell_type": "code",
   "execution_count": 44,
   "id": "816ac5ee",
   "metadata": {},
   "outputs": [
    {
     "name": "stdout",
     "output_type": "stream",
     "text": [
      "0  -->  [1, 5][2, 3]\n",
      "1  -->  [2, 2][3, 6]\n",
      "2  -->  [3, 7][4, 4][5, 2]\n",
      "3  -->  [4, -1]\n",
      "4  -->  [5, -2]\n"
     ]
    }
   ],
   "source": [
    "g.addEdges(0,1,5)\n",
    "g.addEdges(0,2,3)\n",
    "g.addEdges(1,2,2)\n",
    "g.addEdges(1,3,6)\n",
    "g.addEdges(2,3,7)\n",
    "g.addEdges(2,4,4)\n",
    "g.addEdges(2,5,2)\n",
    "g.addEdges(3,4,-1)\n",
    "g.addEdges(4,5,-2)\n",
    "g.printAdj()"
   ]
  },
  {
   "cell_type": "code",
   "execution_count": 45,
   "id": "68373e56",
   "metadata": {},
   "outputs": [],
   "source": [
    "# topological Sort\n",
    "from collections import deque\n",
    "\n",
    "visited = {}\n",
    "stack = deque()\n",
    "n = 6\n",
    "for i in range(n):\n",
    "    if not visited.get(i):\n",
    "        g.dfs(i, visited, stack)\n",
    "\n"
   ]
  },
  {
   "cell_type": "code",
   "execution_count": 46,
   "id": "3da8a35b",
   "metadata": {},
   "outputs": [],
   "source": [
    "src = 1\n",
    "#<int>\n",
    "dist = [sys.maxsize]*n\n",
    "g.getShortestPath(src, dist, stack)"
   ]
  },
  {
   "cell_type": "code",
   "execution_count": 47,
   "id": "8cefacef",
   "metadata": {},
   "outputs": [
    {
     "name": "stdout",
     "output_type": "stream",
     "text": [
      "Answer is-->\n",
      "[9223372036854775807, 0, 2, 6, 5, 3]\n"
     ]
    }
   ],
   "source": [
    "print(\"Answer is-->\")\n",
    "print(dist)"
   ]
  },
  {
   "cell_type": "code",
   "execution_count": null,
   "id": "fe112ba3",
   "metadata": {},
   "outputs": [],
   "source": []
  }
 ],
 "metadata": {
  "kernelspec": {
   "display_name": "Python 3 (ipykernel)",
   "language": "python",
   "name": "python3"
  },
  "language_info": {
   "codemirror_mode": {
    "name": "ipython",
    "version": 3
   },
   "file_extension": ".py",
   "mimetype": "text/x-python",
   "name": "python",
   "nbconvert_exporter": "python",
   "pygments_lexer": "ipython3",
   "version": "3.9.7"
  }
 },
 "nbformat": 4,
 "nbformat_minor": 5
}
