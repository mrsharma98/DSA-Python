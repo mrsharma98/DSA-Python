{
 "cells": [
  {
   "cell_type": "code",
   "execution_count": 1,
   "id": "916c9b4a",
   "metadata": {},
   "outputs": [],
   "source": [
    "# Method - 1\n",
    "# using maps / dictionary"
   ]
  },
  {
   "cell_type": "raw",
   "id": "d80f70c3",
   "metadata": {},
   "source": [
    "Floyd Cycle Detection Algo\n",
    "--> take 2 pointer, slow and fast\n",
    "--> slow = 1jump and fast = 2jumps\n",
    "--> if slow == fast --> LOOP DETECTED\n",
    "--> if fast == None --> NO LOOP"
   ]
  },
  {
   "cell_type": "code",
   "execution_count": null,
   "id": "860501a5",
   "metadata": {},
   "outputs": [],
   "source": []
  },
  {
   "cell_type": "code",
   "execution_count": 4,
   "id": "b0947b73",
   "metadata": {},
   "outputs": [],
   "source": [
    "# TC -- O(n)\n",
    "# SC -- O(1)\n",
    "def floydAlgo(head):\n",
    "    if head == None:\n",
    "        return False\n",
    "    \n",
    "    slow = head\n",
    "    fast = head\n",
    "    \n",
    "    while (slow != None and Fast != None):\n",
    "        fast = fast.next\n",
    "        if fast != None:\n",
    "            fast = fast.next\n",
    "        slow = slow.next\n",
    "        \n",
    "        if slow == fast:\n",
    "            return 1\n",
    "    \n",
    "    return False"
   ]
  },
  {
   "cell_type": "code",
   "execution_count": null,
   "id": "0b6e5a64",
   "metadata": {},
   "outputs": [],
   "source": []
  },
  {
   "cell_type": "code",
   "execution_count": 5,
   "id": "d8cd315a",
   "metadata": {},
   "outputs": [],
   "source": [
    "# For finding a starting point of the cycle"
   ]
  },
  {
   "cell_type": "code",
   "execution_count": 6,
   "id": "56385a7e",
   "metadata": {},
   "outputs": [],
   "source": [
    "# apply Floyd Rule\n",
    "# when fast == slow, put slow at head\n",
    "# increase pointer by 1 for slow as well as fast\n",
    "# when fast == slow --> this point is the starting point"
   ]
  },
  {
   "cell_type": "code",
   "execution_count": 9,
   "id": "f419f238",
   "metadata": {},
   "outputs": [],
   "source": [
    "def floydAlgo(head):\n",
    "    slow = head\n",
    "    fast = head\n",
    "    \n",
    "    while (slow != None and Fast != None):\n",
    "        fast = fast.next\n",
    "        if fast != None:\n",
    "            fast = fast.next\n",
    "        slow = slow.next\n",
    "        \n",
    "        if slow == fast:\n",
    "            return slow\n",
    "    \n",
    "    return None\n",
    "\n",
    "def findCycleStart(head):\n",
    "    if head == None:\n",
    "        return None\n",
    "    \n",
    "    intersection = floydAlgo(head)\n",
    "    slow = head\n",
    "    \n",
    "    while (slow != intersection):\n",
    "        slow = slow.next\n",
    "        intersection = intersection.next\n",
    "    \n",
    "    return slow"
   ]
  },
  {
   "cell_type": "code",
   "execution_count": null,
   "id": "9ae0f302",
   "metadata": {},
   "outputs": [],
   "source": []
  },
  {
   "cell_type": "code",
   "execution_count": 10,
   "id": "109bb757",
   "metadata": {},
   "outputs": [],
   "source": [
    "# Remove loop"
   ]
  },
  {
   "cell_type": "code",
   "execution_count": 11,
   "id": "554daa57",
   "metadata": {},
   "outputs": [],
   "source": [
    "def removeLoop(head):\n",
    "    if head == None or head.next == None:\n",
    "        return None\n",
    "    \n",
    "    startOfLoop = findCycleStart(head)\n",
    "    temp = startOfLoop\n",
    "    \n",
    "    while temp.next != startOfLoop:\n",
    "        temp = temp.next\n",
    "    \n",
    "    temp.next = None"
   ]
  },
  {
   "cell_type": "code",
   "execution_count": null,
   "id": "18a62e55",
   "metadata": {},
   "outputs": [],
   "source": []
  }
 ],
 "metadata": {
  "kernelspec": {
   "display_name": "Python 3 (ipykernel)",
   "language": "python",
   "name": "python3"
  },
  "language_info": {
   "codemirror_mode": {
    "name": "ipython",
    "version": 3
   },
   "file_extension": ".py",
   "mimetype": "text/x-python",
   "name": "python",
   "nbconvert_exporter": "python",
   "pygments_lexer": "ipython3",
   "version": "3.9.7"
  }
 },
 "nbformat": 4,
 "nbformat_minor": 5
}
