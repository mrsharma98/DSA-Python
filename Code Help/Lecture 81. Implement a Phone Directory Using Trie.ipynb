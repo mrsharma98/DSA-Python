{
 "cells": [
  {
   "cell_type": "raw",
   "id": "04f01120",
   "metadata": {},
   "source": [
    "Approach\n",
    "\n",
    "-- we need to keep track of last char\n",
    "-- in every iteration we have to put the pointer a step forward, so that we don't need to traverse the whole thing again and again"
   ]
  },
  {
   "cell_type": "code",
   "execution_count": 1,
   "id": "994f0f63",
   "metadata": {},
   "outputs": [],
   "source": [
    "class TrieNode:\n",
    "    def __init__(self, ch):\n",
    "        self.data = ch\n",
    "        self.children = [None]*26\n",
    "        self.isTerminal = False"
   ]
  },
  {
   "cell_type": "code",
   "execution_count": 4,
   "id": "6b60481e",
   "metadata": {},
   "outputs": [],
   "source": [
    "class Trie:\n",
    "    def __init__(self):\n",
    "        self.root = TrieNode('\\0')\n",
    "    \n",
    "    \n",
    "    def insertUtil(self, root, word):\n",
    "        if len(word)==0:\n",
    "            self.isTerminal = True\n",
    "            return\n",
    "        \n",
    "        index = ord(word[0]) - ord('a')\n",
    "        if root.children[index] != None:\n",
    "            child = root.children[index]\n",
    "        else:\n",
    "            child = TrieNode(word[0])\n",
    "            root.children[index] = child\n",
    "        \n",
    "        self.insertUtil(child, word[1:])\n",
    "    \n",
    "    \n",
    "    def insert(self, word):\n",
    "        self.insertUtil(self, self.root, word)\n",
    "        \n",
    "    \n",
    "    def printSuggestion(curr, temp, prefix):\n",
    "        if curr.isTerminal:\n",
    "            temp.append(prefix)\n",
    "        \n",
    "        for i in range(ord('a'), ord('z') + 1):\n",
    "            nxt = curr.children[i-ord('a')]\n",
    "            if nxt!=None:\n",
    "                prefix += chr(i)\n",
    "                self.printSuggestion(nxt, temp, prefix)\n",
    "                prefix = prefix[:len(prefix)-1]\n",
    "        \n",
    "        \n",
    "    \n",
    "    def getSuggestion(self, string):\n",
    "        prev = root\n",
    "        output = []\n",
    "        prefix = \"\"\n",
    "        \n",
    "        for i in string:\n",
    "            lastch = i\n",
    "            prefix += lastch\n",
    "            \n",
    "            # check for last ch\n",
    "            curr = prev.children[ord(lastch)-ord('a')]\n",
    "            \n",
    "            # if not found\n",
    "            if curr == None:\n",
    "                break\n",
    "            temp = []\n",
    "            self.printSuggestion(curr, temp, prefix)\n",
    "            \n",
    "            output.append(temp)\n",
    "            temp.clear()\n",
    "            prev = curr\n",
    "        \n",
    "        return output"
   ]
  },
  {
   "cell_type": "code",
   "execution_count": 5,
   "id": "a006e6d3",
   "metadata": {},
   "outputs": [],
   "source": [
    "def phoneDirectory(contactList, queryStr):\n",
    "    t = Trie()\n",
    "    \n",
    "    # insert all contact\n",
    "    for i in contactList:\n",
    "        t.insert(i)\n",
    "    \n",
    "    # return ans\n",
    "    return t.getSuggestion(queryStr)"
   ]
  },
  {
   "cell_type": "raw",
   "id": "c12f608f",
   "metadata": {},
   "source": [
    "avg word lenght is m\n",
    "no of str is n\n",
    "SC:- O(m*n)\n",
    "TC:-  O(n*m^2)"
   ]
  },
  {
   "cell_type": "code",
   "execution_count": null,
   "id": "a145c6d9",
   "metadata": {},
   "outputs": [],
   "source": []
  }
 ],
 "metadata": {
  "kernelspec": {
   "display_name": "Python 3 (ipykernel)",
   "language": "python",
   "name": "python3"
  },
  "language_info": {
   "codemirror_mode": {
    "name": "ipython",
    "version": 3
   },
   "file_extension": ".py",
   "mimetype": "text/x-python",
   "name": "python",
   "nbconvert_exporter": "python",
   "pygments_lexer": "ipython3",
   "version": "3.9.7"
  }
 },
 "nbformat": 4,
 "nbformat_minor": 5
}
