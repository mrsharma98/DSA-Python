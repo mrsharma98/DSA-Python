{
 "cells": [
  {
   "cell_type": "code",
   "execution_count": 5,
   "id": "604eae79",
   "metadata": {},
   "outputs": [],
   "source": [
    "# Method - 1\n",
    "\n",
    "# put all the LL data into an array then apply the logic"
   ]
  },
  {
   "cell_type": "code",
   "execution_count": 6,
   "id": "055c9e5e",
   "metadata": {},
   "outputs": [],
   "source": [
    "# Method - 2\n",
    "\n",
    "# Find the middle\n",
    "# Reverse the second half of the LL\n",
    "# put another cursor on start, start traversing and compare"
   ]
  },
  {
   "cell_type": "code",
   "execution_count": 8,
   "id": "8bbd4c64",
   "metadata": {},
   "outputs": [],
   "source": [
    "def getMid(head):\n",
    "    slow = head\n",
    "    fast = head.next\n",
    "    \n",
    "    while first != None and fast.next != None:\n",
    "        fast = fast.next.next\n",
    "        slow = slow.next\n",
    "    \n",
    "    return slow\n",
    "\n",
    "def reverseLL(head):\n",
    "    curr = head\n",
    "    prev = None\n",
    "    nxt = None\n",
    "    \n",
    "    while curr != None:\n",
    "        nxt = curr.next\n",
    "        curr.next = prev\n",
    "        prev = curr\n",
    "        curr = nxt\n",
    "        \n",
    "    return prev"
   ]
  },
  {
   "cell_type": "code",
   "execution_count": null,
   "id": "311d596c",
   "metadata": {},
   "outputs": [],
   "source": [
    "def isPalindrome(head):\n",
    "    if (head.next == None):\n",
    "        return true\n",
    "    \n",
    "    # find middle\n",
    "    middle = getMid(head)\n",
    "    \n",
    "    # Reverse list after middle\n",
    "    temp = middle.next\n",
    "    middle.next = reverseLL(temp)\n",
    "    \n",
    "    # compare both halves\n",
    "    head1 = head\n",
    "    head2 = middle.next\n",
    "    \n",
    "    while head2 != None:\n",
    "        if (head1.data != head2.data):\n",
    "            return False\n",
    "        \n",
    "        head1 = head1.next\n",
    "        head2 = head2.next\n",
    "    \n",
    "    # repeat step 2 (converting the LL back to its initial state)\n",
    "    temp = middle.next\n",
    "    middle.next = reverseLL(temp)\n",
    "    \n",
    "    return True"
   ]
  }
 ],
 "metadata": {
  "kernelspec": {
   "display_name": "Python 3 (ipykernel)",
   "language": "python",
   "name": "python3"
  },
  "language_info": {
   "codemirror_mode": {
    "name": "ipython",
    "version": 3
   },
   "file_extension": ".py",
   "mimetype": "text/x-python",
   "name": "python",
   "nbconvert_exporter": "python",
   "pygments_lexer": "ipython3",
   "version": "3.9.7"
  }
 },
 "nbformat": 4,
 "nbformat_minor": 5
}
