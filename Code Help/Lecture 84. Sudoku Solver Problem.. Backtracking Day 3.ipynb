{
 "cells": [
  {
   "cell_type": "raw",
   "id": "f71f49ee",
   "metadata": {},
   "source": [
    "https://leetcode.com/problems/sudoku-solver/"
   ]
  },
  {
   "cell_type": "raw",
   "id": "e191bd17",
   "metadata": {},
   "source": [
    "Conditions:\n",
    "Each of the digits 1-9 must occur exactly once in each row.\n",
    "Each of the digits 1-9 must occur exactly once in each column.\n",
    "Each of the digits 1-9 must occur exactly once in each of the 9 3x3 sub-boxes of the grid."
   ]
  },
  {
   "cell_type": "code",
   "execution_count": 1,
   "id": "7493bf1c",
   "metadata": {},
   "outputs": [],
   "source": [
    "def isSafe(row, col, board, val, n):\n",
    "    for i in range(n):\n",
    "        # row check\n",
    "        if board[row][i] == val:\n",
    "            return False\n",
    "        # col check\n",
    "        if board[i][col] == val:\n",
    "            return False\n",
    "        # 3x3 matrix\n",
    "        if board[3*(row//3)+i//3][3*(col//3)+i%3] == val:\n",
    "            return False\n",
    "    return True\n",
    "\n",
    "\n",
    "def solve(board):\n",
    "    n = len(board[0])\n",
    "    for row in range(n):\n",
    "        for col in range(n):\n",
    "            # if cell empty\n",
    "            if board[row][col] == 0:\n",
    "                for val in range(1, 10):\n",
    "                    if isSafe(row, col, board, val, n):\n",
    "                        board[row][col] = val\n",
    "                        # recursive call\n",
    "                        aageSolutionPossible = solve(board)\n",
    "                        if aageSolutionPossible:\n",
    "                            return True\n",
    "                        else:\n",
    "                            board[row][col] = 0\n",
    "                return False\n",
    "    return True\n",
    "            \n",
    "    \n",
    "def sudokuSolver(sudoku):\n",
    "    solve(sudoku)"
   ]
  },
  {
   "cell_type": "code",
   "execution_count": null,
   "id": "5df4924f",
   "metadata": {},
   "outputs": [],
   "source": []
  }
 ],
 "metadata": {
  "kernelspec": {
   "display_name": "Python 3 (ipykernel)",
   "language": "python",
   "name": "python3"
  },
  "language_info": {
   "codemirror_mode": {
    "name": "ipython",
    "version": 3
   },
   "file_extension": ".py",
   "mimetype": "text/x-python",
   "name": "python",
   "nbconvert_exporter": "python",
   "pygments_lexer": "ipython3",
   "version": "3.9.7"
  }
 },
 "nbformat": 4,
 "nbformat_minor": 5
}
