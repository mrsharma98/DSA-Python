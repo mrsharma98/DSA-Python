{
 "cells": [
  {
   "cell_type": "code",
   "execution_count": 1,
   "id": "a37b5bf0",
   "metadata": {},
   "outputs": [],
   "source": [
    "# Sorted List"
   ]
  },
  {
   "cell_type": "code",
   "execution_count": 3,
   "id": "bcb46f2f",
   "metadata": {},
   "outputs": [],
   "source": [
    "def removeDuplicates(head):\n",
    "    if head == None or head.next == None:\n",
    "        return head\n",
    "    \n",
    "    temp1 = head\n",
    "    temp2 = head.next\n",
    "    \n",
    "    while (temp2 != None):\n",
    "        if (temp1.val == temp2.val):\n",
    "            temp2 = temp2.next\n",
    "        elif temp1.next != temp2:\n",
    "            temp1.next = temp2\n",
    "            temp1 = temp1.next\n",
    "            temp2 = temp2.next\n",
    "        else:\n",
    "            temp1 = temp1.next\n",
    "            temp2 = temp2.next\n",
    "    \n",
    "    if temp1.next != temp2:\n",
    "        temp1.next = temp2\n",
    "    \n",
    "    return head"
   ]
  },
  {
   "cell_type": "code",
   "execution_count": null,
   "id": "c4c411bc",
   "metadata": {},
   "outputs": [],
   "source": []
  },
  {
   "cell_type": "code",
   "execution_count": 1,
   "id": "29ee9bff",
   "metadata": {},
   "outputs": [],
   "source": [
    "# Unsorted LL"
   ]
  },
  {
   "cell_type": "code",
   "execution_count": 3,
   "id": "e8b5c08f",
   "metadata": {},
   "outputs": [],
   "source": [
    "# Method - 1\n",
    "\n",
    "# start from first and traverse the rest of the LL\n",
    "# remove that curr element"
   ]
  },
  {
   "cell_type": "code",
   "execution_count": 4,
   "id": "7fc3e791",
   "metadata": {},
   "outputs": [],
   "source": [
    "# Method - 2\n",
    "\n",
    "# sort LL -- O(nlogn)\n",
    "# follow the sorted approach -- O(n)"
   ]
  },
  {
   "cell_type": "code",
   "execution_count": 5,
   "id": "f451bd26",
   "metadata": {},
   "outputs": [],
   "source": [
    "# Method - 3\n",
    "\n",
    "# use dictionary or map -- O(n)"
   ]
  },
  {
   "cell_type": "code",
   "execution_count": 6,
   "id": "1f82dbd6",
   "metadata": {},
   "outputs": [
    {
     "data": {
      "text/plain": [
       "[[12], [], []]"
      ]
     },
     "execution_count": 6,
     "metadata": {},
     "output_type": "execute_result"
    }
   ],
   "source": [
    "[[12]] + [[], []]"
   ]
  },
  {
   "cell_type": "code",
   "execution_count": 7,
   "id": "2ed7796b",
   "metadata": {},
   "outputs": [],
   "source": [
    "arr = [[], [], []]"
   ]
  },
  {
   "cell_type": "code",
   "execution_count": 8,
   "id": "422e8472",
   "metadata": {},
   "outputs": [],
   "source": [
    "arr[0].append(1)"
   ]
  },
  {
   "cell_type": "code",
   "execution_count": 9,
   "id": "31473c45",
   "metadata": {},
   "outputs": [
    {
     "data": {
      "text/plain": [
       "[[1], [], []]"
      ]
     },
     "execution_count": 9,
     "metadata": {},
     "output_type": "execute_result"
    }
   ],
   "source": [
    "arr"
   ]
  },
  {
   "cell_type": "code",
   "execution_count": null,
   "id": "d89e9e34",
   "metadata": {},
   "outputs": [],
   "source": []
  }
 ],
 "metadata": {
  "kernelspec": {
   "display_name": "Python 3 (ipykernel)",
   "language": "python",
   "name": "python3"
  },
  "language_info": {
   "codemirror_mode": {
    "name": "ipython",
    "version": 3
   },
   "file_extension": ".py",
   "mimetype": "text/x-python",
   "name": "python",
   "nbconvert_exporter": "python",
   "pygments_lexer": "ipython3",
   "version": "3.9.7"
  }
 },
 "nbformat": 4,
 "nbformat_minor": 5
}
