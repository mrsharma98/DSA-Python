{
 "cells": [
  {
   "cell_type": "code",
   "execution_count": 2,
   "id": "7e08e69a",
   "metadata": {},
   "outputs": [],
   "source": [
    "# swap alternate\n",
    "\n",
    "# Odd case\n",
    "# i/p:- [1,2,7,8,5]\n",
    "# o/p:- [2,1,8,7,5]\n",
    "\n",
    "# Even case\n",
    "# i/p:- [1,2,3,4,5,6]\n",
    "# o/p:- [2,1,4,3,6,5]"
   ]
  },
  {
   "cell_type": "code",
   "execution_count": 12,
   "id": "e93b7ad8",
   "metadata": {},
   "outputs": [],
   "source": [
    "def swapAlternate(arr):\n",
    "    for i in range(0, len(arr), 2):\n",
    "        if (i+1 < len(arr)):\n",
    "            arr[i], arr[i+1] = arr[i+1], arr[i]\n",
    "    return arr"
   ]
  },
  {
   "cell_type": "code",
   "execution_count": 13,
   "id": "8d62abe8",
   "metadata": {},
   "outputs": [
    {
     "data": {
      "text/plain": [
       "[2, 1, 4, 3, 6, 5]"
      ]
     },
     "execution_count": 13,
     "metadata": {},
     "output_type": "execute_result"
    }
   ],
   "source": [
    "arr = [1,2,3,4,5,6]\n",
    "swapAlternate(arr)"
   ]
  },
  {
   "cell_type": "code",
   "execution_count": null,
   "id": "1c068fc8",
   "metadata": {},
   "outputs": [],
   "source": []
  },
  {
   "cell_type": "code",
   "execution_count": 20,
   "id": "ffe07921",
   "metadata": {},
   "outputs": [],
   "source": [
    "# array of lenght 2m+1 --> odd number array\n",
    "# every element appears twice except one element\n",
    "#find that one element\n",
    "\n",
    "# just XOR eeverything\n",
    "# 1^1 = 0, 0^4 = 4"
   ]
  },
  {
   "cell_type": "code",
   "execution_count": null,
   "id": "e846c94d",
   "metadata": {},
   "outputs": [],
   "source": []
  },
  {
   "cell_type": "code",
   "execution_count": 4,
   "id": "1bd36d70",
   "metadata": {},
   "outputs": [],
   "source": [
    "# sorting 0's and 1's\n",
    "# i from start and j from end\n",
    "# if arr[i] == 0 --> i++\n",
    "# if arr[j] == 1 --> j--\n",
    "# arr[i]==1 and arr[j]==0 --> swap and i++, j--"
   ]
  },
  {
   "cell_type": "code",
   "execution_count": 28,
   "id": "bd9fe2cb",
   "metadata": {},
   "outputs": [],
   "source": [
    "def sortZeroAndOne(arr, n):\n",
    "    i = 0\n",
    "    j = len(arr)-1\n",
    "    while (i<j):\n",
    "        while arr[i] == 0:\n",
    "            i += 1\n",
    "        while arr[j] == 1:\n",
    "            j -= 1\n",
    "        if arr[i] == 1 and arr[j] == 0 and i<j:\n",
    "            arr[i], arr[j] == arr[j], arr[i]\n",
    "            i += 1\n",
    "            j -= 1"
   ]
  },
  {
   "cell_type": "code",
   "execution_count": 29,
   "id": "6d36c860",
   "metadata": {},
   "outputs": [],
   "source": [
    "arr = [0,1,1,0,0,0,1,0]\n",
    "sortZeroAndOne(arr, len(arr))"
   ]
  },
  {
   "cell_type": "code",
   "execution_count": 25,
   "id": "44bcb721",
   "metadata": {},
   "outputs": [
    {
     "data": {
      "text/plain": [
       "[0, 0, 0, 0, 0, 1, 1, 1]"
      ]
     },
     "execution_count": 25,
     "metadata": {},
     "output_type": "execute_result"
    }
   ],
   "source": [
    "arr"
   ]
  },
  {
   "cell_type": "code",
   "execution_count": null,
   "id": "e244b2a5",
   "metadata": {},
   "outputs": [],
   "source": []
  },
  {
   "cell_type": "code",
   "execution_count": 1,
   "id": "a4c8f238",
   "metadata": {},
   "outputs": [],
   "source": [
    "def sort012(arr, n) :\n",
    "\n",
    "\t# write your code here\n",
    "    # don't return anything \n",
    "    low = 0\n",
    "    mid = 0\n",
    "    high = len(arr)-1\n",
    "    while (mid<high):\n",
    "        while (arr[low] == 0):\n",
    "            low += 1\n",
    "        while arr[mid] == 1 or mid == 0:\n",
    "            mid += 1\n",
    "        while arr[high] == 2:\n",
    "            high -= 1\n",
    "        \n",
    "        if arr[mid] == 0 and arr[low] > 0:\n",
    "            arr[mid], arr[low] = arr[low], arr[mid]\n",
    "            if low < len(arr)-1:\n",
    "                low += 1\n",
    "            if mid < len(arr)-1:\n",
    "                mid += 1\n",
    "        print(mid, low, high)\n",
    "        if arr[mid] > 1 and arr[high] < 2 and mid<=high:\n",
    "            arr[mid], arr[high] = arr[high], arr[mid]\n",
    "            high -= 1\n",
    "        print(arr)\n",
    "        "
   ]
  },
  {
   "cell_type": "code",
   "execution_count": 2,
   "id": "d57f1ac1",
   "metadata": {},
   "outputs": [
    {
     "name": "stdout",
     "output_type": "stream",
     "text": [
      "2 9 9\n",
      "[0, 1, 0, 0, 0, 0, 0, 0, 0, 1]\n",
      "3 9 9\n",
      "[0, 1, 1, 0, 0, 0, 0, 0, 0, 0]\n"
     ]
    },
    {
     "ename": "IndexError",
     "evalue": "list index out of range",
     "output_type": "error",
     "traceback": [
      "\u001b[1;31m---------------------------------------------------------------------------\u001b[0m",
      "\u001b[1;31mIndexError\u001b[0m                                Traceback (most recent call last)",
      "\u001b[1;32m~\\AppData\\Local\\Temp/ipykernel_11444/3864238222.py\u001b[0m in \u001b[0;36m<module>\u001b[1;34m\u001b[0m\n\u001b[0;32m      1\u001b[0m \u001b[0marr\u001b[0m \u001b[1;33m=\u001b[0m \u001b[1;33m[\u001b[0m\u001b[1;36m0\u001b[0m\u001b[1;33m,\u001b[0m \u001b[1;36m0\u001b[0m\u001b[1;33m,\u001b[0m \u001b[1;36m0\u001b[0m\u001b[1;33m,\u001b[0m \u001b[1;36m0\u001b[0m\u001b[1;33m,\u001b[0m \u001b[1;36m0\u001b[0m\u001b[1;33m,\u001b[0m \u001b[1;36m0\u001b[0m\u001b[1;33m,\u001b[0m \u001b[1;36m0\u001b[0m\u001b[1;33m,\u001b[0m \u001b[1;36m0\u001b[0m\u001b[1;33m,\u001b[0m \u001b[1;36m1\u001b[0m\u001b[1;33m,\u001b[0m \u001b[1;36m1\u001b[0m\u001b[1;33m]\u001b[0m\u001b[1;33m\u001b[0m\u001b[1;33m\u001b[0m\u001b[0m\n\u001b[0;32m      2\u001b[0m \u001b[0mn\u001b[0m \u001b[1;33m=\u001b[0m \u001b[0mlen\u001b[0m\u001b[1;33m(\u001b[0m\u001b[0marr\u001b[0m\u001b[1;33m)\u001b[0m\u001b[1;33m\u001b[0m\u001b[1;33m\u001b[0m\u001b[0m\n\u001b[1;32m----> 3\u001b[1;33m \u001b[0msort012\u001b[0m\u001b[1;33m(\u001b[0m\u001b[0marr\u001b[0m\u001b[1;33m,\u001b[0m \u001b[0mn\u001b[0m\u001b[1;33m)\u001b[0m\u001b[1;33m\u001b[0m\u001b[1;33m\u001b[0m\u001b[0m\n\u001b[0m",
      "\u001b[1;32m~\\AppData\\Local\\Temp/ipykernel_11444/3190363070.py\u001b[0m in \u001b[0;36msort012\u001b[1;34m(arr, n)\u001b[0m\n\u001b[0;32m      7\u001b[0m     \u001b[0mhigh\u001b[0m \u001b[1;33m=\u001b[0m \u001b[0mlen\u001b[0m\u001b[1;33m(\u001b[0m\u001b[0marr\u001b[0m\u001b[1;33m)\u001b[0m\u001b[1;33m-\u001b[0m\u001b[1;36m1\u001b[0m\u001b[1;33m\u001b[0m\u001b[1;33m\u001b[0m\u001b[0m\n\u001b[0;32m      8\u001b[0m     \u001b[1;32mwhile\u001b[0m \u001b[1;33m(\u001b[0m\u001b[0mmid\u001b[0m\u001b[1;33m<\u001b[0m\u001b[0mhigh\u001b[0m\u001b[1;33m)\u001b[0m\u001b[1;33m:\u001b[0m\u001b[1;33m\u001b[0m\u001b[1;33m\u001b[0m\u001b[0m\n\u001b[1;32m----> 9\u001b[1;33m         \u001b[1;32mwhile\u001b[0m \u001b[1;33m(\u001b[0m\u001b[0marr\u001b[0m\u001b[1;33m[\u001b[0m\u001b[0mlow\u001b[0m\u001b[1;33m]\u001b[0m \u001b[1;33m==\u001b[0m \u001b[1;36m0\u001b[0m\u001b[1;33m)\u001b[0m\u001b[1;33m:\u001b[0m\u001b[1;33m\u001b[0m\u001b[1;33m\u001b[0m\u001b[0m\n\u001b[0m\u001b[0;32m     10\u001b[0m             \u001b[0mlow\u001b[0m \u001b[1;33m+=\u001b[0m \u001b[1;36m1\u001b[0m\u001b[1;33m\u001b[0m\u001b[1;33m\u001b[0m\u001b[0m\n\u001b[0;32m     11\u001b[0m         \u001b[1;32mwhile\u001b[0m \u001b[0marr\u001b[0m\u001b[1;33m[\u001b[0m\u001b[0mmid\u001b[0m\u001b[1;33m]\u001b[0m \u001b[1;33m==\u001b[0m \u001b[1;36m1\u001b[0m \u001b[1;32mor\u001b[0m \u001b[0mmid\u001b[0m \u001b[1;33m==\u001b[0m \u001b[1;36m0\u001b[0m\u001b[1;33m:\u001b[0m\u001b[1;33m\u001b[0m\u001b[1;33m\u001b[0m\u001b[0m\n",
      "\u001b[1;31mIndexError\u001b[0m: list index out of range"
     ]
    }
   ],
   "source": [
    "arr = [0, 0, 0, 0, 0, 0, 0, 0, 1, 1]\n",
    "n = len(arr)\n",
    "sort012(arr, n)"
   ]
  },
  {
   "cell_type": "code",
   "execution_count": 40,
   "id": "ac119f3c",
   "metadata": {},
   "outputs": [
    {
     "data": {
      "text/plain": [
       "[0, 1, 1, 1, 2, 2, 2]"
      ]
     },
     "execution_count": 40,
     "metadata": {},
     "output_type": "execute_result"
    }
   ],
   "source": [
    "arr"
   ]
  },
  {
   "cell_type": "code",
   "execution_count": null,
   "id": "fea18114",
   "metadata": {},
   "outputs": [],
   "source": []
  }
 ],
 "metadata": {
  "kernelspec": {
   "display_name": "Python 3 (ipykernel)",
   "language": "python",
   "name": "python3"
  },
  "language_info": {
   "codemirror_mode": {
    "name": "ipython",
    "version": 3
   },
   "file_extension": ".py",
   "mimetype": "text/x-python",
   "name": "python",
   "nbconvert_exporter": "python",
   "pygments_lexer": "ipython3",
   "version": "3.9.7"
  }
 },
 "nbformat": 4,
 "nbformat_minor": 5
}
