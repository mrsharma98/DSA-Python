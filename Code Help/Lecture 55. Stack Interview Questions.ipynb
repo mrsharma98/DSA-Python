{
 "cells": [
  {
   "cell_type": "code",
   "execution_count": null,
   "id": "1f360bee",
   "metadata": {},
   "outputs": [],
   "source": [
    "# Balance Parentheses"
   ]
  },
  {
   "cell_type": "code",
   "execution_count": 4,
   "id": "dd5dd96a",
   "metadata": {},
   "outputs": [],
   "source": [
    "def isBalanced(expression):\n",
    "    s = []\n",
    "    for i in range(len(expression)):\n",
    "        ch = expression[i]\n",
    "        \n",
    "        # if opening bracket, stack push\n",
    "        # if closing bracket, stack top check and pop\n",
    "        if ch == '[' or ch == '{' or ch == '(':\n",
    "            s.append(ch)\n",
    "        else:\n",
    "            # for closing bracket\n",
    "            if (len(s)>0):\n",
    "                top = s[-1]\n",
    "                if ((ch==')' and top=='(') or \n",
    "                    (ch==']' and top=='[') or \n",
    "                    (ch=='}' and top=='{') ):\n",
    "                    s.pop()\n",
    "                else:\n",
    "                    return False\n",
    "            return False\n",
    "    if len(s) == 0:\n",
    "        return True\n",
    "    \n",
    "    return False"
   ]
  },
  {
   "cell_type": "code",
   "execution_count": null,
   "id": "d57d9fde",
   "metadata": {},
   "outputs": [],
   "source": []
  },
  {
   "cell_type": "code",
   "execution_count": null,
   "id": "710b86d2",
   "metadata": {},
   "outputs": [],
   "source": []
  },
  {
   "cell_type": "code",
   "execution_count": 5,
   "id": "0737f1ea",
   "metadata": {},
   "outputs": [],
   "source": [
    "# reverse a stack using recursion"
   ]
  },
  {
   "cell_type": "code",
   "execution_count": 7,
   "id": "8d57efe3",
   "metadata": {},
   "outputs": [],
   "source": [
    "def insertAtBottom(stack, n):\n",
    "    if stack.isEmpty():\n",
    "        stack.push(n)\n",
    "        return\n",
    "    \n",
    "    num = stack.top()\n",
    "    stack.pop()\n",
    "    insertAtBottom(stack, n)\n",
    "    stack.push(num)\n",
    "\n",
    "#O(n^2)\n",
    "def reverseStack(stack):\n",
    "    if stack.isEmpty():\n",
    "        return\n",
    "    \n",
    "    num = stack.top()\n",
    "    stack.pop()\n",
    "    \n",
    "    reverseStack(stack)\n",
    "    insertAtBottom(num)"
   ]
  },
  {
   "cell_type": "code",
   "execution_count": null,
   "id": "3fcabe6d",
   "metadata": {},
   "outputs": [],
   "source": []
  },
  {
   "cell_type": "code",
   "execution_count": 1,
   "id": "34be5c5a",
   "metadata": {},
   "outputs": [],
   "source": [
    "# Sorting in a stack"
   ]
  },
  {
   "cell_type": "code",
   "execution_count": 2,
   "id": "f0082087",
   "metadata": {},
   "outputs": [],
   "source": [
    "# pop all the elements\n",
    "# start inserting in the sorted form.\n",
    "# start from the recently popped element and go in the popped seq"
   ]
  },
  {
   "cell_type": "code",
   "execution_count": 3,
   "id": "c5b10b83",
   "metadata": {},
   "outputs": [],
   "source": [
    "# for inserting the element, search for the smaller element,\n",
    "# once we get just push our elment and push the popped element\n",
    "# which we have removed to insert the current element in sorted manner."
   ]
  },
  {
   "cell_type": "code",
   "execution_count": 6,
   "id": "78b49137",
   "metadata": {},
   "outputs": [],
   "source": [
    "def sortedInsert(stack, num):\n",
    "    # base case\n",
    "    if stack.isEmpty or (not stack.isEmpty and stack.top()<num):\n",
    "        stack.push(num)\n",
    "        return\n",
    "    \n",
    "    n = stack.top()\n",
    "    stack.pop()\n",
    "    sortedInsert(stack, num)\n",
    "    stack.push(n)\n",
    "\n",
    "def sortStack(stack):\n",
    "    if stack.isEmpty():\n",
    "        return \n",
    "    \n",
    "    \n",
    "    num = stack.top()\n",
    "    stack.pop()\n",
    "    \n",
    "    # recursive call\n",
    "    sortStack(stack)\n",
    "    \n",
    "    sortedInset(stack, num)"
   ]
  },
  {
   "cell_type": "code",
   "execution_count": null,
   "id": "300e4584",
   "metadata": {},
   "outputs": [],
   "source": []
  },
  {
   "cell_type": "code",
   "execution_count": 7,
   "id": "e983a13b",
   "metadata": {},
   "outputs": [],
   "source": [
    "# Reduntant Brackets"
   ]
  },
  {
   "cell_type": "code",
   "execution_count": 8,
   "id": "d5b4cb6c",
   "metadata": {},
   "outputs": [],
   "source": [
    "# (a*b+(c/d)) --> No (as no reduntant bracket)\n",
    "# ((a/b))     --> Yes"
   ]
  },
  {
   "cell_type": "code",
   "execution_count": 9,
   "id": "d9236603",
   "metadata": {},
   "outputs": [],
   "source": [
    "# we will push the opening bracket and operator in the stack\n",
    "# if \"closing braket\" --> check if any operator is in between the opening and closing bracket\n",
    "# yes--> then it is not reduntant\n",
    "# no operator --> the bracket is reduntant"
   ]
  },
  {
   "cell_type": "code",
   "execution_count": null,
   "id": "dd834905",
   "metadata": {},
   "outputs": [],
   "source": [
    "# https://www.codingninjas.com/codestudio/problems/redundant-brackets_975473"
   ]
  },
  {
   "cell_type": "code",
   "execution_count": 23,
   "id": "ac9309f9",
   "metadata": {},
   "outputs": [],
   "source": [
    "def findRedundantBrackets(s:str):\n",
    "    # Write your code here.\n",
    "    # Return boolean True or False.\n",
    "    stack = []\n",
    "    for i in range(len(s)):\n",
    "        ch = s[i]\n",
    "        if ch=='(' or ch=='+' or ch=='-' or ch=='*' or ch=='/':\n",
    "            stack.append(ch)\n",
    "        else:\n",
    "            if ch == ')':\n",
    "                isReduntant = True\n",
    "                while stack[-1] != '(':\n",
    "                    top = stack[-1]\n",
    "                    if top=='+' or top=='-' or top=='*' or top=='/':\n",
    "                        isReduntant = False\n",
    "                    stack.pop()\n",
    "\n",
    "                if isReduntant == True:\n",
    "                    return True\n",
    "                \n",
    "                # pop the corresponding opening bracket\n",
    "                stack.pop()\n",
    "    return False"
   ]
  },
  {
   "cell_type": "code",
   "execution_count": 24,
   "id": "d48994d2",
   "metadata": {},
   "outputs": [
    {
     "data": {
      "text/plain": [
       "False"
      ]
     },
     "execution_count": 24,
     "metadata": {},
     "output_type": "execute_result"
    }
   ],
   "source": [
    "findRedundantBrackets(\"(a*b+(c/d)\")"
   ]
  },
  {
   "cell_type": "code",
   "execution_count": null,
   "id": "bfaac986",
   "metadata": {},
   "outputs": [],
   "source": []
  },
  {
   "cell_type": "code",
   "execution_count": 25,
   "id": "5bee23da",
   "metadata": {},
   "outputs": [],
   "source": [
    "# Minimum bracket Reversal"
   ]
  },
  {
   "cell_type": "code",
   "execution_count": 27,
   "id": "f54583e8",
   "metadata": {},
   "outputs": [],
   "source": [
    "# https://www.codingninjas.com/codestudio/problems/minimum-cost-to-make-string-valid_1115770"
   ]
  },
  {
   "cell_type": "code",
   "execution_count": 29,
   "id": "949d7c18",
   "metadata": {},
   "outputs": [],
   "source": [
    "# if string is of odd length -- return -1\n",
    "# remove valid brackets\n",
    "\n",
    "# Now we will be left with one of the 3 types/pattern\n",
    "# 1. all the open brackets --> {{{{\n",
    "# 2. all the closed brackets  --> }}}}}\n",
    "# 3. first closed then the open brackets  --> }}}{{{\n",
    "\n",
    "# here we don't know what case it is so, we will do as follows\n",
    "# a --> count the close brackets\n",
    "# b --> count the open brackets\n",
    "\n",
    "# pattern 1\n",
    "# b//2\n",
    "\n",
    "# pattern 2\n",
    "# a//2\n",
    "\n",
    "# pattern 3\n",
    "# }}}{{{\n",
    "# reverse -1, 3,4,6\n",
    "# ans = 4\n",
    "# take 4 -- }}}}{{{{\n",
    "# ans = 4\n",
    "# expression = (a+1)/2 + (b+1)/2"
   ]
  },
  {
   "cell_type": "code",
   "execution_count": 34,
   "id": "cd484681",
   "metadata": {},
   "outputs": [],
   "source": [
    "def findMinimumCost(str):\n",
    "    # Write your code here.\n",
    "    # using stack\n",
    "    if len(str)%2 == 1:\n",
    "        return -1\n",
    "    \n",
    "    s = []\n",
    "    for i in range(len(str)):\n",
    "        ch = str[i]\n",
    "        # if open brace\n",
    "        if ch=='{':\n",
    "            s.append(ch)\n",
    "        else:\n",
    "            # close brace\n",
    "            if len(s)!=0 and s[-1] == '{':\n",
    "                s.pop()\n",
    "            else:\n",
    "                s.append(ch)\n",
    "        \n",
    "    # stack contains invalid expression\n",
    "    a, b = 0, 0\n",
    "    print(s)\n",
    "    while len(s)>0:\n",
    "        if (s[-1] == '{'):\n",
    "            b += 1\n",
    "        else:\n",
    "            a += 1\n",
    "        s.pop()\n",
    "\n",
    "    ans = (a+1)//2 + (b+1)//2\n",
    "    return ans"
   ]
  },
  {
   "cell_type": "code",
   "execution_count": 35,
   "id": "a375afa0",
   "metadata": {},
   "outputs": [
    {
     "name": "stdout",
     "output_type": "stream",
     "text": [
      "['{', '{']\n"
     ]
    },
    {
     "data": {
      "text/plain": [
       "1"
      ]
     },
     "execution_count": 35,
     "metadata": {},
     "output_type": "execute_result"
    }
   ],
   "source": [
    "findMinimumCost(\"{{{}\")"
   ]
  },
  {
   "cell_type": "code",
   "execution_count": null,
   "id": "c19a96a6",
   "metadata": {},
   "outputs": [],
   "source": []
  }
 ],
 "metadata": {
  "kernelspec": {
   "display_name": "Python 3 (ipykernel)",
   "language": "python",
   "name": "python3"
  },
  "language_info": {
   "codemirror_mode": {
    "name": "ipython",
    "version": 3
   },
   "file_extension": ".py",
   "mimetype": "text/x-python",
   "name": "python",
   "nbconvert_exporter": "python",
   "pygments_lexer": "ipython3",
   "version": "3.9.7"
  }
 },
 "nbformat": 4,
 "nbformat_minor": 5
}
