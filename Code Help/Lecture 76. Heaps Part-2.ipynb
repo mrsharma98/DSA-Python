{
 "cells": [
  {
   "cell_type": "markdown",
   "id": "06b43c25",
   "metadata": {},
   "source": [
    "# kth largest Sum Subarray"
   ]
  },
  {
   "cell_type": "raw",
   "id": "ad649c2b",
   "metadata": {},
   "source": [
    "https://www.codingninjas.com/codestudio/problems/k-th-largest-sum-contiguous-subarray_920398"
   ]
  },
  {
   "cell_type": "raw",
   "id": "02d2aa99",
   "metadata": {},
   "source": [
    "Approach-1\n",
    "\n",
    "make 2 nested loop and take the sum of all the subarrays  -- (n^2)\n",
    "make array of all the sum and sort it  -- (n^2 logn)\n",
    "return the kth element\n",
    "\n",
    "TC:- O(n^2 logn)\n",
    "SC:- O(n^2)"
   ]
  },
  {
   "cell_type": "raw",
   "id": "047dc7d3",
   "metadata": {},
   "source": [
    "https://www.geeksforgeeks.org/max-heap-in-python/#:~:text=A%20Max%2DHeap%20is%20a,child%20at%20index%202k%20%2B%202."
   ]
  },
  {
   "cell_type": "code",
   "execution_count": 6,
   "id": "1cb2ac1b",
   "metadata": {},
   "outputs": [],
   "source": [
    "def getKthLargestSum(arr, k):\n",
    "    sumStore = []\n",
    "    n = len(arr)\n",
    "    \n",
    "    for i in range(n):\n",
    "        sum = 0\n",
    "        for j in range(i, n):\n",
    "            sum += arr[i]\n",
    "            sumStore.append(sum)\n",
    "    \n",
    "    sumStore.sort()\n",
    "    \n",
    "    return sumStore[len(sumStore)-k-1]"
   ]
  },
  {
   "cell_type": "raw",
   "id": "509c48a6",
   "metadata": {},
   "source": [
    "Approach-2 (for Space optimization)\n",
    "-- for largest -- use Min heap\n",
    "\n",
    "-- create min heap\n",
    "-- if minheap.size() < k -- insert sum\n",
    "    else\n",
    "        if sum>min-heap.top\n",
    "            pop it first and insert the sum\n",
    "    \n",
    "    return min-heap.top()\n",
    "\n",
    "TC:- O(n^2 logn)\n",
    "SC:- O(k)"
   ]
  },
  {
   "cell_type": "code",
   "execution_count": 7,
   "id": "394b38a1",
   "metadata": {},
   "outputs": [],
   "source": [
    "import heapq\n",
    "\n",
    "def getKthLargestSum(arr, k):\n",
    "    mini = []\n",
    "    heapq.heapify(mini)    # O(n logn)\n",
    "    n = len(arr)\n",
    "    \n",
    "    for i in range(n):    # O(n^2 logn)\n",
    "        summ = 0\n",
    "        for j in range(i, n):\n",
    "            summ += arr[j]\n",
    "            if len(mini) < k:\n",
    "                heapq.heappush(mini, summ)\n",
    "            else:\n",
    "                if summ>mini[0]:\n",
    "                    heapq.heappop(mini)\n",
    "                    heapq.heappush(mini, summ)\n",
    "                    # or we can use\n",
    "                    # heapq.heappushpop(mini, summ)\n",
    "    \n",
    "    return mini[0]"
   ]
  },
  {
   "cell_type": "code",
   "execution_count": null,
   "id": "08c7c661",
   "metadata": {},
   "outputs": [],
   "source": []
  },
  {
   "cell_type": "code",
   "execution_count": null,
   "id": "794148ff",
   "metadata": {},
   "outputs": [],
   "source": []
  },
  {
   "cell_type": "markdown",
   "id": "f7d6679d",
   "metadata": {},
   "source": [
    "# merge k sorted arrays"
   ]
  },
  {
   "cell_type": "raw",
   "id": "7e459d6f",
   "metadata": {},
   "source": [
    "Approach-1\n",
    "\n",
    "traverse all the arrays and push it into one"
   ]
  },
  {
   "cell_type": "raw",
   "id": "afbfb9ed",
   "metadata": {},
   "source": [
    "Approach-2\n",
    "\n",
    "-- using min heap\n",
    "-- take 1st element of every list, put it into min heap\n",
    "-- pop the root and insert the next element of the array from the root\n",
    "-- to keep track of it, use map\n",
    "-- data, i, j (for row and column, as 2D matrix is given)"
   ]
  },
  {
   "cell_type": "code",
   "execution_count": null,
   "id": "a02ed6da",
   "metadata": {},
   "outputs": [],
   "source": [
    "import heapq\n",
    "\n",
    "class Node:\n",
    "    def __init__(self, data, row, col):\n",
    "        self.data = data\n",
    "        self.i = row\n",
    "        self.j = col\n",
    "        \n",
    "class Compare:\n",
    "    def operator(a, b):\n",
    "        return a.data>b.data\n",
    "\n",
    "def mergeKSortedArrays(arrays, k):\n",
    "    # 2D array and k is the no of array\n",
    "    minHeap = []\n",
    "    heapq.heapify(minHeap)\n",
    "    \n",
    "    # insert first element of all the arrays\n",
    "    \n",
    "    # O(klogk)\n",
    "    for i in range(k):\n",
    "        temp = Node(arr[i][0], i, 0)\n",
    "        heapq.heappush(minHeap, temp)\n",
    "    \n",
    "    ans = []\n",
    "    \n",
    "    # step-2:\n",
    "    \n",
    "    # O(n*k-k) = O((n*k)logk)\n",
    "    while (len(minHeap)>0):\n",
    "        tmp = minHeap[0]\n",
    "        ans.append(tmp.data)\n",
    "        heapq.heappop(minHeap)\n",
    "        \n",
    "        i = tmp.i\n",
    "        j = tmp.j\n",
    "        \n",
    "        if (j+1 < len(arrays[i])):\n",
    "            nextt = Node(arr[i][j+1], i, j+1)\n",
    "            heapq.heappush(minHeap, nextt)\n",
    "        \n",
    "    \n",
    "    return ans\n",
    "        \n",
    "# SC:- O(k)+O(n*k) = O(n*k)"
   ]
  },
  {
   "cell_type": "code",
   "execution_count": null,
   "id": "0708960d",
   "metadata": {},
   "outputs": [],
   "source": []
  },
  {
   "cell_type": "code",
   "execution_count": null,
   "id": "94a889e3",
   "metadata": {},
   "outputs": [],
   "source": []
  },
  {
   "cell_type": "markdown",
   "id": "478d982d",
   "metadata": {},
   "source": [
    "# Merge K sorted LinkedList"
   ]
  },
  {
   "cell_type": "raw",
   "id": "c4d6ee14",
   "metadata": {},
   "source": [
    "input:- a list of head of the k linked lists\n",
    "output:- return a Linked list by connecting k in sorted order"
   ]
  },
  {
   "cell_type": "raw",
   "id": "1ee9b0aa",
   "metadata": {},
   "source": [
    "Approach-1\n",
    "\n",
    "copy all the LLs data in one list\n",
    "sort the list\n",
    "join all the LL and put the data"
   ]
  },
  {
   "cell_type": "code",
   "execution_count": null,
   "id": "a4de6604",
   "metadata": {},
   "outputs": [],
   "source": [
    "Approach-2\n",
    "\n",
    "use min heap\n",
    "take first element of all the LL"
   ]
  },
  {
   "cell_type": "code",
   "execution_count": null,
   "id": "15f312f7",
   "metadata": {},
   "outputs": [],
   "source": [
    "import heapq\n",
    "\n",
    "class Compare:\n",
    "    def operator(self, a, b):\n",
    "        return a.val>b.val\n",
    "\n",
    "\n",
    "\n",
    "def mergeKLL(listArray):\n",
    "    minHeap = []\n",
    "    heapq.heapify(minHeap)\n",
    "    \n",
    "    k = len(listArray)\n",
    "    if k == 0:\n",
    "        return\n",
    "    \n",
    "    for i in range(k):\n",
    "        if listArray[i] != None:\n",
    "            heapq.heappush(minHeap, listArray[i])\n",
    "    \n",
    "    head = None\n",
    "    tail = None\n",
    "    \n",
    "    while len(minHeap)>0:\n",
    "        top = minHeap[0]\n",
    "        heapq.heappop(minHeap)\n",
    "        \n",
    "        if top.next != None:\n",
    "            heapq.heappush(minHeap, top.next)\n",
    "        \n",
    "        if head == None:\n",
    "            # empty LL\n",
    "            head = top\n",
    "            tail = top\n",
    "        else:\n",
    "            # insert at end\n",
    "            tail.next = top\n",
    "            tail = top\n",
    "    return head  \n",
    "        \n",
    "    "
   ]
  },
  {
   "cell_type": "code",
   "execution_count": null,
   "id": "24dee869",
   "metadata": {},
   "outputs": [],
   "source": []
  },
  {
   "cell_type": "code",
   "execution_count": null,
   "id": "f9c6e873",
   "metadata": {},
   "outputs": [],
   "source": []
  }
 ],
 "metadata": {
  "kernelspec": {
   "display_name": "Python 3 (ipykernel)",
   "language": "python",
   "name": "python3"
  },
  "language_info": {
   "codemirror_mode": {
    "name": "ipython",
    "version": 3
   },
   "file_extension": ".py",
   "mimetype": "text/x-python",
   "name": "python",
   "nbconvert_exporter": "python",
   "pygments_lexer": "ipython3",
   "version": "3.9.7"
  }
 },
 "nbformat": 4,
 "nbformat_minor": 5
}
