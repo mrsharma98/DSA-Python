{
 "cells": [
  {
   "cell_type": "code",
   "execution_count": 35,
   "id": "6a9a06e8",
   "metadata": {},
   "outputs": [],
   "source": [
    "class Result:\n",
    "    def __init__(self, buy=0, sell=0):\n",
    "        self.buy = 0\n",
    "        self.sell = 0\n",
    "        \n",
    "def findProfit(array):\n",
    "    result = []\n",
    "    n = len(array)-1\n",
    "\n",
    "    for i in range(len(array)):\n",
    "        temp = Result()\n",
    "\n",
    "        while((i<n-1) and (array[i+1]<=array[i])):\n",
    "            i += 1\n",
    "\n",
    "        if (i == n-1):\n",
    "            break\n",
    "        temp.buy = i\n",
    "        i += 1\n",
    "            \n",
    "        while((i<n) and (array[i+1]>=array[i])):\n",
    "            i += 1\n",
    "\n",
    "        temp.sell = i\n",
    "        result.append(temp)\n",
    "        \n",
    "        for i in result:\n",
    "            print(i.buy, i.sell)"
   ]
  },
  {
   "cell_type": "code",
   "execution_count": 36,
   "id": "27976ad3",
   "metadata": {},
   "outputs": [
    {
     "name": "stdout",
     "output_type": "stream",
     "text": [
      "<__main__.Result object at 0x00000162EE811400>\n",
      "<__main__.Result object at 0x00000162EE811400>\n",
      "<__main__.Result object at 0x00000162EE8239A0>\n",
      "<__main__.Result object at 0x00000162EE811400>\n",
      "<__main__.Result object at 0x00000162EE8239A0>\n",
      "<__main__.Result object at 0x00000162EE4B4250>\n",
      "<__main__.Result object at 0x00000162EE811400>\n",
      "<__main__.Result object at 0x00000162EE8239A0>\n",
      "<__main__.Result object at 0x00000162EE4B4250>\n",
      "<__main__.Result object at 0x00000162EE4B4400>\n",
      "<__main__.Result object at 0x00000162EE811400>\n",
      "<__main__.Result object at 0x00000162EE8239A0>\n",
      "<__main__.Result object at 0x00000162EE4B4250>\n",
      "<__main__.Result object at 0x00000162EE4B4400>\n",
      "<__main__.Result object at 0x00000162EE4B42E0>\n"
     ]
    }
   ],
   "source": [
    "array = [98, 178, 250, 300, 40, 540, 690]\n",
    "result = findProfit(array)"
   ]
  },
  {
   "cell_type": "code",
   "execution_count": null,
   "id": "3aa31be2",
   "metadata": {},
   "outputs": [],
   "source": []
  },
  {
   "cell_type": "code",
   "execution_count": 3,
   "id": "97ee789c",
   "metadata": {},
   "outputs": [],
   "source": [
    "def maxProfit(prices):\n",
    "        localmaxima = -1\n",
    "        localminima = -1\n",
    "        \n",
    "        i = 0\n",
    "        while(i<(len(prices)) and prices[i+1]<=prices[i]):\n",
    "            print(i)\n",
    "            i += 1\n",
    "\n",
    "        if i == len(prices)-1:\n",
    "            return 0\n",
    "\n",
    "        localminima = i\n",
    "        i += 1\n",
    "        while(i<(len(prices))):\n",
    "            if prices[i] > localmaxima:\n",
    "                localmaxima = prices[i]\n",
    "            i += 1\n",
    "\n",
    "        return (localmaxima-localminima)"
   ]
  },
  {
   "cell_type": "code",
   "execution_count": 4,
   "id": "7e1d5914",
   "metadata": {},
   "outputs": [
    {
     "name": "stdout",
     "output_type": "stream",
     "text": [
      "0\n"
     ]
    },
    {
     "data": {
      "text/plain": [
       "5"
      ]
     },
     "execution_count": 4,
     "metadata": {},
     "output_type": "execute_result"
    }
   ],
   "source": [
    "maxProfit([7,1,5,3,6,4])"
   ]
  },
  {
   "cell_type": "code",
   "execution_count": null,
   "id": "fad8bae1",
   "metadata": {},
   "outputs": [],
   "source": []
  },
  {
   "cell_type": "code",
   "execution_count": null,
   "id": "c13f3e82",
   "metadata": {},
   "outputs": [],
   "source": []
  },
  {
   "cell_type": "code",
   "execution_count": 1,
   "id": "d848bc1b",
   "metadata": {},
   "outputs": [],
   "source": [
    "# Remove Duplicate From String"
   ]
  },
  {
   "cell_type": "code",
   "execution_count": null,
   "id": "bde85796",
   "metadata": {},
   "outputs": [],
   "source": [
    "# String is given as input that contains only lowercase letters,\n",
    "# remove duplicate letters so that every letter appears once \n",
    "# O(n) Time Complexity and O(1) Space Complexity"
   ]
  },
  {
   "cell_type": "code",
   "execution_count": null,
   "id": "27c9b8c5",
   "metadata": {},
   "outputs": [],
   "source": [
    "# we will place None in place of duplicate element\n",
    "# then replace it with \"\""
   ]
  },
  {
   "cell_type": "code",
   "execution_count": 19,
   "id": "a2316ca9",
   "metadata": {},
   "outputs": [],
   "source": [
    "def removeDuplicates(strr):\n",
    "    asci = [0]*256\n",
    "    strr = list(strr)\n",
    "    \n",
    "    for i in range(len(strr)):\n",
    "        if (asci[ord(strr[i])] == 0):\n",
    "            asci[ord(strr[i])] = -1\n",
    "        elif (asci[ord(strr[i])] == -1):\n",
    "            strr[i] = None\n",
    "    \n",
    "    strr = list(filter(None, strr))\n",
    "    return \"\".join(strr)"
   ]
  },
  {
   "cell_type": "code",
   "execution_count": 20,
   "id": "958b7c1d",
   "metadata": {},
   "outputs": [
    {
     "data": {
      "text/plain": [
       "'abde'"
      ]
     },
     "execution_count": 20,
     "metadata": {},
     "output_type": "execute_result"
    }
   ],
   "source": [
    "removeDuplicates('abdeeb')"
   ]
  },
  {
   "cell_type": "code",
   "execution_count": null,
   "id": "8112ab82",
   "metadata": {},
   "outputs": [],
   "source": []
  }
 ],
 "metadata": {
  "kernelspec": {
   "display_name": "Python 3 (ipykernel)",
   "language": "python",
   "name": "python3"
  },
  "language_info": {
   "codemirror_mode": {
    "name": "ipython",
    "version": 3
   },
   "file_extension": ".py",
   "mimetype": "text/x-python",
   "name": "python",
   "nbconvert_exporter": "python",
   "pygments_lexer": "ipython3",
   "version": "3.9.7"
  }
 },
 "nbformat": 4,
 "nbformat_minor": 5
}
