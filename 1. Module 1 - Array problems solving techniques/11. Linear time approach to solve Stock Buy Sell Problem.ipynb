{
 "cells": [
  {
   "cell_type": "code",
   "execution_count": 27,
   "id": "6a9a06e8",
   "metadata": {},
   "outputs": [],
   "source": [
    "class Result:\n",
    "    def __init__(self, buy=0, sell=0):\n",
    "        self.buy = 0\n",
    "        self.sell = 0\n",
    "        \n",
    "def findProfit(array):\n",
    "    result = []\n",
    "    n = len(array)-1\n",
    "\n",
    "    for i in range(len(array)):\n",
    "        temp = Result()\n",
    "\n",
    "        while((i<n-1) and (array[i+1]<=array[i])):\n",
    "            i += 1\n",
    "\n",
    "        if (i == n-1):\n",
    "            break\n",
    "        temp.buy = i\n",
    "        i += 1\n",
    "            \n",
    "        while((i<n) and (array[i+1]>=array[i])):\n",
    "            i += 1\n",
    "\n",
    "        temp.sell = i\n",
    "        result.append(temp)\n",
    "        \n",
    "        for i in result:\n",
    "            print(i.buy, i.sell)"
   ]
  },
  {
   "cell_type": "code",
   "execution_count": 28,
   "id": "27976ad3",
   "metadata": {},
   "outputs": [
    {
     "name": "stdout",
     "output_type": "stream",
     "text": [
      "0 4\n"
     ]
    },
    {
     "ename": "TypeError",
     "evalue": "'<' not supported between instances of 'Result' and 'int'",
     "output_type": "error",
     "traceback": [
      "\u001b[1;31m---------------------------------------------------------------------------\u001b[0m",
      "\u001b[1;31mTypeError\u001b[0m                                 Traceback (most recent call last)",
      "\u001b[1;32m~\\AppData\\Local\\Temp/ipykernel_4796/2740448611.py\u001b[0m in \u001b[0;36m<module>\u001b[1;34m\u001b[0m\n\u001b[0;32m      1\u001b[0m \u001b[0marray\u001b[0m \u001b[1;33m=\u001b[0m \u001b[1;33m[\u001b[0m\u001b[1;36m1\u001b[0m\u001b[1;33m,\u001b[0m\u001b[1;36m2\u001b[0m\u001b[1;33m,\u001b[0m\u001b[1;36m3\u001b[0m\u001b[1;33m,\u001b[0m\u001b[1;36m4\u001b[0m\u001b[1;33m,\u001b[0m\u001b[1;36m5\u001b[0m\u001b[1;33m]\u001b[0m\u001b[1;33m\u001b[0m\u001b[1;33m\u001b[0m\u001b[0m\n\u001b[1;32m----> 2\u001b[1;33m \u001b[0mresult\u001b[0m \u001b[1;33m=\u001b[0m \u001b[0mfindProfit\u001b[0m\u001b[1;33m(\u001b[0m\u001b[0marray\u001b[0m\u001b[1;33m)\u001b[0m\u001b[1;33m\u001b[0m\u001b[1;33m\u001b[0m\u001b[0m\n\u001b[0m",
      "\u001b[1;32m~\\AppData\\Local\\Temp/ipykernel_4796/3100182518.py\u001b[0m in \u001b[0;36mfindProfit\u001b[1;34m(array)\u001b[0m\n\u001b[0;32m      9\u001b[0m     \u001b[0mi\u001b[0m \u001b[1;33m=\u001b[0m \u001b[1;36m0\u001b[0m\u001b[1;33m\u001b[0m\u001b[1;33m\u001b[0m\u001b[0m\n\u001b[0;32m     10\u001b[0m \u001b[1;31m#     for i in range(len(array)):\u001b[0m\u001b[1;33m\u001b[0m\u001b[1;33m\u001b[0m\u001b[0m\n\u001b[1;32m---> 11\u001b[1;33m     \u001b[1;32mwhile\u001b[0m \u001b[0mi\u001b[0m\u001b[1;33m<\u001b[0m\u001b[0mn\u001b[0m\u001b[1;33m:\u001b[0m\u001b[1;33m\u001b[0m\u001b[1;33m\u001b[0m\u001b[0m\n\u001b[0m\u001b[0;32m     12\u001b[0m         \u001b[0mtemp\u001b[0m \u001b[1;33m=\u001b[0m \u001b[0mResult\u001b[0m\u001b[1;33m(\u001b[0m\u001b[1;33m)\u001b[0m\u001b[1;33m\u001b[0m\u001b[1;33m\u001b[0m\u001b[0m\n\u001b[0;32m     13\u001b[0m \u001b[1;33m\u001b[0m\u001b[0m\n",
      "\u001b[1;31mTypeError\u001b[0m: '<' not supported between instances of 'Result' and 'int'"
     ]
    }
   ],
   "source": [
    "array = [1,2,3,4,5]\n",
    "result = findProfit(array)"
   ]
  },
  {
   "cell_type": "code",
   "execution_count": null,
   "id": "3aa31be2",
   "metadata": {},
   "outputs": [],
   "source": []
  },
  {
   "cell_type": "code",
   "execution_count": 6,
   "id": "97ee789c",
   "metadata": {},
   "outputs": [],
   "source": [
    "def maxProfit(prices):\n",
    "        localmaxima = -1\n",
    "        localminima = -1\n",
    "        \n",
    "        i = 0\n",
    "        while(i<(len(prices)) and prices[i+1]<=prices[i]):\n",
    "            print(i)\n",
    "            i += 1\n",
    "\n",
    "        if i == len(prices)-1:\n",
    "            return 0\n",
    "\n",
    "        localminima = i\n",
    "        i += 1\n",
    "        while(i<(len(prices))):\n",
    "            if prices[i] > localmaxima:\n",
    "                localmaxima = prices[i]\n",
    "            i += 1\n",
    "\n",
    "        return (localmaxima-localminima)"
   ]
  },
  {
   "cell_type": "code",
   "execution_count": 7,
   "id": "7e1d5914",
   "metadata": {},
   "outputs": [
    {
     "data": {
      "text/plain": [
       "15"
      ]
     },
     "execution_count": 7,
     "metadata": {},
     "output_type": "execute_result"
    }
   ],
   "source": [
    "maxProfit([7,10,15,3,6,15])"
   ]
  },
  {
   "cell_type": "code",
   "execution_count": null,
   "id": "fad8bae1",
   "metadata": {},
   "outputs": [],
   "source": []
  },
  {
   "cell_type": "code",
   "execution_count": null,
   "id": "c13f3e82",
   "metadata": {},
   "outputs": [],
   "source": []
  },
  {
   "cell_type": "code",
   "execution_count": 1,
   "id": "d848bc1b",
   "metadata": {},
   "outputs": [],
   "source": [
    "# Remove Duplicate From String"
   ]
  },
  {
   "cell_type": "code",
   "execution_count": null,
   "id": "bde85796",
   "metadata": {},
   "outputs": [],
   "source": [
    "# String is given as input that contains only lowercase letters,\n",
    "# remove duplicate letters so that every letter appears once \n",
    "# O(n) Time Complexity and O(1) Space Complexity"
   ]
  },
  {
   "cell_type": "code",
   "execution_count": null,
   "id": "27c9b8c5",
   "metadata": {},
   "outputs": [],
   "source": [
    "# we will place None in place of duplicate element\n",
    "# then replace it with \"\""
   ]
  },
  {
   "cell_type": "code",
   "execution_count": 19,
   "id": "a2316ca9",
   "metadata": {},
   "outputs": [],
   "source": [
    "def removeDuplicates(strr):\n",
    "    asci = [0]*256\n",
    "    strr = list(strr)\n",
    "    \n",
    "    for i in range(len(strr)):\n",
    "        if (asci[ord(strr[i])] == 0):\n",
    "            asci[ord(strr[i])] = -1\n",
    "        elif (asci[ord(strr[i])] == -1):\n",
    "            strr[i] = None\n",
    "    \n",
    "    strr = list(filter(None, strr))\n",
    "    return \"\".join(strr)"
   ]
  },
  {
   "cell_type": "code",
   "execution_count": 20,
   "id": "958b7c1d",
   "metadata": {},
   "outputs": [
    {
     "data": {
      "text/plain": [
       "'abde'"
      ]
     },
     "execution_count": 20,
     "metadata": {},
     "output_type": "execute_result"
    }
   ],
   "source": [
    "removeDuplicates('abdeeb')"
   ]
  },
  {
   "cell_type": "code",
   "execution_count": null,
   "id": "8112ab82",
   "metadata": {},
   "outputs": [],
   "source": []
  },
  {
   "cell_type": "code",
   "execution_count": null,
   "id": "fc9e9927",
   "metadata": {},
   "outputs": [],
   "source": []
  },
  {
   "cell_type": "markdown",
   "id": "9dcb6550",
   "metadata": {},
   "source": [
    "Practice"
   ]
  },
  {
   "cell_type": "code",
   "execution_count": null,
   "id": "6295effa",
   "metadata": {},
   "outputs": [],
   "source": []
  },
  {
   "cell_type": "code",
   "execution_count": null,
   "id": "ea24e3c8",
   "metadata": {},
   "outputs": [],
   "source": []
  },
  {
   "cell_type": "code",
   "execution_count": null,
   "id": "e1b61eee",
   "metadata": {},
   "outputs": [],
   "source": []
  }
 ],
 "metadata": {
  "kernelspec": {
   "display_name": "Python 3 (ipykernel)",
   "language": "python",
   "name": "python3"
  },
  "language_info": {
   "codemirror_mode": {
    "name": "ipython",
    "version": 3
   },
   "file_extension": ".py",
   "mimetype": "text/x-python",
   "name": "python",
   "nbconvert_exporter": "python",
   "pygments_lexer": "ipython3",
   "version": "3.9.7"
  }
 },
 "nbformat": 4,
 "nbformat_minor": 5
}
