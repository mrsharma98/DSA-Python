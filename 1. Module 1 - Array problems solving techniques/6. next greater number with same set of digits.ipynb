{
 "cells": [
  {
   "cell_type": "raw",
   "id": "956d4c6b",
   "metadata": {},
   "source": [
    "https://leetcode.com/problems/next-greater-element-iii/"
   ]
  },
  {
   "cell_type": "code",
   "execution_count": 4,
   "id": "0c0ec5f7",
   "metadata": {},
   "outputs": [],
   "source": [
    "# first take two pointer\n",
    "# start from last two\n",
    "# if i is less than i+1, swap it with the lowest number but greater than the ith number on the right side\n",
    "# then sort the right side of the i(not included)\n",
    "\n",
    "def nextGreater(arr, n):\n",
    "    # find number which is less than its right digit, start from the left\n",
    "    for i in range(n-1, 0, -1):\n",
    "        if arr[i] > arr[i-1]:\n",
    "            break\n",
    "        \n",
    "    smallDigit = i-1\n",
    "    maxNum = i\n",
    "    for j in range(i+1, n):\n",
    "        if arr[j] > arr[smallDigit] and arr[j] < arr[maxNum]:\n",
    "            maxNum = j\n",
    "    \n",
    "    arr[smallDigit], arr[maxNum] = arr[maxNum], arr[smallDigit]\n",
    "    \n",
    "    arr[i:] = sorted(arr[i:])\n",
    "    return arr\n",
    "        \n",
    "\n",
    "\n"
   ]
  },
  {
   "cell_type": "code",
   "execution_count": 6,
   "id": "0e9a1238",
   "metadata": {},
   "outputs": [
    {
     "data": {
      "text/plain": [
       "[3, 5, 1, 4]"
      ]
     },
     "execution_count": 6,
     "metadata": {},
     "output_type": "execute_result"
    }
   ],
   "source": [
    "num = [3, 4,5, 1]\n",
    "nextGreater(num, len(num))"
   ]
  },
  {
   "cell_type": "code",
   "execution_count": null,
   "id": "358f6103",
   "metadata": {},
   "outputs": [],
   "source": []
  },
  {
   "cell_type": "code",
   "execution_count": null,
   "id": "4ef47cfc",
   "metadata": {},
   "outputs": [],
   "source": []
  },
  {
   "cell_type": "code",
   "execution_count": 1,
   "id": "16f04204",
   "metadata": {},
   "outputs": [],
   "source": [
    "# Assignment"
   ]
  },
  {
   "cell_type": "code",
   "execution_count": 2,
   "id": "f4ce7fc8",
   "metadata": {},
   "outputs": [],
   "source": [
    "# We have an array, we have to find an element \n",
    "# before which all elements are less than it, \n",
    "# and after which all are greater than it. \n",
    "# Finally, return the index of the element, \n",
    "# if there is no such element, then return -1: \n",
    "# Time complexity O(n) and Space Complexity O(n)"
   ]
  },
  {
   "cell_type": "code",
   "execution_count": 3,
   "id": "470ec442",
   "metadata": {},
   "outputs": [],
   "source": [
    "# we will make 2 array. right and left\n",
    "# right:- we will put the smallest number of the array of its right\n",
    "# left:- we will put the largest number of the array to its left"
   ]
  },
  {
   "cell_type": "code",
   "execution_count": 4,
   "id": "822fb1e8",
   "metadata": {},
   "outputs": [],
   "source": [
    "# ex:-    [6, 2, 5, 4, 7, 9, 11, 8, 10]\n",
    "# right:- [2, 4, 4, 7, 8, 8, 8, 10, _]\n",
    "# left:-  [_, 6, 6, 6, 6, 7, 9, 11, 11]\n",
    "\n",
    "# right array represents lowest but greater than the main index\n",
    "# left max from the left to the index.\n",
    "# for 7:- 8 is the lowest and greater than 7, also 6 is the largest but less than 7\n",
    "# so answer is 7"
   ]
  },
  {
   "cell_type": "code",
   "execution_count": 18,
   "id": "75d3cd67",
   "metadata": {},
   "outputs": [],
   "source": [
    "def findNumber(arr, n):\n",
    "    left = [None]*n\n",
    "    left[0] = -12343234\n",
    "    \n",
    "    for i in range(1, n):\n",
    "        left[i] = max(left[i-1], arr[i-1])\n",
    "    right = 12343212\n",
    "    \n",
    "    for i in range(n-1, 0, -1):\n",
    "        if (left[i] < arr[i] and right > arr[i]):\n",
    "            return i\n",
    "        right = min(right, arr[i])\n",
    "    \n",
    "    return -1"
   ]
  },
  {
   "cell_type": "code",
   "execution_count": 19,
   "id": "6f186987",
   "metadata": {},
   "outputs": [
    {
     "data": {
      "text/plain": [
       "4"
      ]
     },
     "execution_count": 19,
     "metadata": {},
     "output_type": "execute_result"
    }
   ],
   "source": [
    "arr = [5,4,3,4,10, 21,12,20]\n",
    "n = len(arr)\n",
    "findNumber(arr, n)"
   ]
  },
  {
   "cell_type": "code",
   "execution_count": 10,
   "id": "b7e793c8",
   "metadata": {},
   "outputs": [
    {
     "data": {
      "text/plain": [
       "2147483647"
      ]
     },
     "execution_count": 10,
     "metadata": {},
     "output_type": "execute_result"
    }
   ],
   "source": [
    "2**31-1"
   ]
  },
  {
   "cell_type": "code",
   "execution_count": null,
   "id": "d1b82800",
   "metadata": {},
   "outputs": [],
   "source": []
  },
  {
   "cell_type": "code",
   "execution_count": 22,
   "id": "740b0123",
   "metadata": {},
   "outputs": [],
   "source": [
    "import sys\n",
    "\n",
    "def findNumber(arr):\n",
    "    left = [0]*len(arr)\n",
    "    right = [0]*len(arr)\n",
    "    left[0] = -sys.maxsize-1\n",
    "    \n",
    "    for i in range(1, len(arr)):\n",
    "        left[i] = max(arr[i-1], left[i-1])\n",
    "    \n",
    "#     right[-1] = sys.maxsize\n",
    "    \n",
    "#     for i in range(len(arr)-2, -1, -1):\n",
    "#         right[i] = min(arr[i+1], right[i+1])\n",
    "    \n",
    "#     for i in range(1, len(arr)-1):\n",
    "#         if arr[i]>left[i] and arr[i]<right[i]:\n",
    "#             return i\n",
    "#     return -1\n",
    "\n",
    "    right = sys.maxsize\n",
    "    for i in range(len(arr)-1, 0, -1):\n",
    "        if left[i]<arr[i] and arr[i]<right:\n",
    "            return i\n",
    "        right = min(right, arr[i])\n",
    "    return -1"
   ]
  },
  {
   "cell_type": "code",
   "execution_count": 23,
   "id": "c048fc3d",
   "metadata": {},
   "outputs": [
    {
     "data": {
      "text/plain": [
       "4"
      ]
     },
     "execution_count": 23,
     "metadata": {},
     "output_type": "execute_result"
    }
   ],
   "source": [
    "arr = [5,4,3,4,10, 21,12,20]\n",
    "findNumber(arr)"
   ]
  },
  {
   "cell_type": "code",
   "execution_count": null,
   "id": "06d6f191",
   "metadata": {},
   "outputs": [],
   "source": []
  }
 ],
 "metadata": {
  "kernelspec": {
   "display_name": "Python 3 (ipykernel)",
   "language": "python",
   "name": "python3"
  },
  "language_info": {
   "codemirror_mode": {
    "name": "ipython",
    "version": 3
   },
   "file_extension": ".py",
   "mimetype": "text/x-python",
   "name": "python",
   "nbconvert_exporter": "python",
   "pygments_lexer": "ipython3",
   "version": "3.9.7"
  }
 },
 "nbformat": 4,
 "nbformat_minor": 5
}
