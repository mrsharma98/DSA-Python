{
 "cells": [
  {
   "cell_type": "code",
   "execution_count": 1,
   "id": "066b858e",
   "metadata": {},
   "outputs": [],
   "source": [
    "# You are in a party of N people, where only one person is known to everyone.\n",
    "# Such a person may be present at the party, \n",
    "# if yes, (s)he doesn’t know anyone at the party. \n",
    "# Your task is to find the celebrity at the party in Time Complexity O(n)"
   ]
  },
  {
   "cell_type": "code",
   "execution_count": 1,
   "id": "906c412a",
   "metadata": {},
   "outputs": [],
   "source": [
    "# Method:- we will consider 2 statements\n",
    "# if X knows Y, then X must not be celebrity\n",
    "# if X doesn't know Y, then Y must not be Celebrity."
   ]
  },
  {
   "cell_type": "raw",
   "id": "e32658e2",
   "metadata": {},
   "source": [
    "\"\"\" matrix\n",
    "   0  1  2  3\n",
    " 0 0  0  1  0\n",
    " 1 0  0  1  0\n",
    " 2 0  0  0  0\n",
    " 3 0  0  1  0\n",
    "\"\"\"\n",
    "\n",
    "# we will start from [0][3] and go to left\n",
    "# if 1, means 0th person knows 2nd person, so we will go down and check for 1st\n",
    "# once we hit [2][2] or X=Y or X > Y we will stop"
   ]
  },
  {
   "cell_type": "code",
   "execution_count": 7,
   "id": "1806d529",
   "metadata": {},
   "outputs": [],
   "source": [
    "def celebrity(matrix):\n",
    "    N = len(matrix)\n",
    "    X, Y = 0, N-1\n",
    "    while (X<Y):\n",
    "        if matrix[X][Y] == 1:\n",
    "            X += 1\n",
    "        else:\n",
    "            Y -= 1\n",
    "    return X"
   ]
  },
  {
   "cell_type": "code",
   "execution_count": 8,
   "id": "4649497d",
   "metadata": {},
   "outputs": [
    {
     "data": {
      "text/plain": [
       "2"
      ]
     },
     "execution_count": 8,
     "metadata": {},
     "output_type": "execute_result"
    }
   ],
   "source": [
    "matrix = [[0,0,1,0], [0,0,1,0], [0,0,0,0], [0,0,1,0]]\n",
    "celebrity(matrix)"
   ]
  },
  {
   "cell_type": "code",
   "execution_count": null,
   "id": "561c80ec",
   "metadata": {},
   "outputs": [],
   "source": []
  },
  {
   "cell_type": "code",
   "execution_count": null,
   "id": "3c082120",
   "metadata": {},
   "outputs": [],
   "source": []
  },
  {
   "cell_type": "code",
   "execution_count": 9,
   "id": "2702c777",
   "metadata": {},
   "outputs": [],
   "source": [
    "# Find Subarray of Sum Zero in An Array"
   ]
  },
  {
   "cell_type": "code",
   "execution_count": 10,
   "id": "fddc969e",
   "metadata": {},
   "outputs": [],
   "source": [
    "# Array of both positive and negative numbers, \n",
    "# the task is to find out the sub array whose sum is Zero\n",
    "# Time Complexity O(n) and Space Complexity O(n)"
   ]
  },
  {
   "cell_type": "code",
   "execution_count": null,
   "id": "0817fb02",
   "metadata": {},
   "outputs": [],
   "source": []
  },
  {
   "cell_type": "code",
   "execution_count": null,
   "id": "5de20bdf",
   "metadata": {},
   "outputs": [],
   "source": []
  }
 ],
 "metadata": {
  "kernelspec": {
   "display_name": "Python 3 (ipykernel)",
   "language": "python",
   "name": "python3"
  },
  "language_info": {
   "codemirror_mode": {
    "name": "ipython",
    "version": 3
   },
   "file_extension": ".py",
   "mimetype": "text/x-python",
   "name": "python",
   "nbconvert_exporter": "python",
   "pygments_lexer": "ipython3",
   "version": "3.9.7"
  }
 },
 "nbformat": 4,
 "nbformat_minor": 5
}
