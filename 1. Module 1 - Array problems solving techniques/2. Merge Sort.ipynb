{
 "cells": [
  {
   "cell_type": "code",
   "execution_count": 33,
   "id": "c09f137f",
   "metadata": {},
   "outputs": [],
   "source": [
    "def merge(arr: int, low: int, mid: int, high: int):\n",
    "    k, i, j = low, low, mid+1\n",
    "    result = [None]*len(arr)\n",
    "    while (i<=mid and j<=high):\n",
    "        if arr[i]<=arr[j]:\n",
    "            result[k] = arr[i]\n",
    "            k += 1\n",
    "            i += 1\n",
    "        else:\n",
    "            result[k] = arr[j]\n",
    "            k += 1\n",
    "            j += 1\n",
    "    \n",
    "    while i<=mid:\n",
    "        result[k] = arr[i]\n",
    "        i += 1\n",
    "        k += 1\n",
    "    \n",
    "    while j<=high:\n",
    "        result[k] = arr[j]\n",
    "        j += 1\n",
    "        k += 1\n",
    "    \n",
    "    for i in range(low, high+1):\n",
    "        arr[i] = result[i]\n",
    "    \n",
    "\n",
    "def mergeSort(arr: int, low: int, high: int):\n",
    "    \n",
    "    if (high == low):\n",
    "        return\n",
    "    \n",
    "    mid: int = (low + high)//2\n",
    "    \n",
    "    mergeSort(arr, low, mid)\n",
    "    mergeSort(arr, mid+1, high)\n",
    "    \n",
    "    merge(arr, low, mid, high)"
   ]
  },
  {
   "cell_type": "code",
   "execution_count": 35,
   "id": "efab6416",
   "metadata": {},
   "outputs": [
    {
     "data": {
      "text/plain": [
       "[1, 2, 5, 6, 9]"
      ]
     },
     "execution_count": 35,
     "metadata": {},
     "output_type": "execute_result"
    }
   ],
   "source": [
    "arr = [2,5,1,6,9]\n",
    "\n",
    "mergeSort(arr, 0, len(arr)-1)\n",
    "arr"
   ]
  },
  {
   "cell_type": "code",
   "execution_count": null,
   "id": "e1849178",
   "metadata": {},
   "outputs": [],
   "source": []
  },
  {
   "cell_type": "code",
   "execution_count": 9,
   "id": "244ead93",
   "metadata": {},
   "outputs": [],
   "source": [
    "def merge(arr, s, e):\n",
    "    mid = (s+e)//2\n",
    "    \n",
    "    # len of arrays\n",
    "    len1 = mid-s+1\n",
    "    len2 = e-mid\n",
    "    \n",
    "    first = [None]*len1\n",
    "    second = [None]*len2\n",
    "    \n",
    "    k = s\n",
    "    # filling the arrays\n",
    "    for i in range(len1):\n",
    "        first[i] = arr[k]\n",
    "        k += 1\n",
    "    \n",
    "    k = mid+1\n",
    "    for i in range(len2):\n",
    "        second[i] = arr[k]\n",
    "        k += 1\n",
    "    \n",
    "    # merge 2 sorted array\n",
    "    index1 = 0\n",
    "    index2 = 0\n",
    "    mainIndex = s\n",
    "    \n",
    "    while (index1<len1 and index2<len2):\n",
    "        if first[index1]<second[index2]:\n",
    "            arr[mainIndex] = first[index1]\n",
    "            index1 += 1\n",
    "        else:\n",
    "            arr[mainIndex] = second[index2]\n",
    "            index2 += 1\n",
    "        mainIndex += 1\n",
    "        \n",
    "    while index1<len1:\n",
    "        arr[mainIndex] = first[index1]\n",
    "        index1 += 1\n",
    "        mainIndex += 1\n",
    "    \n",
    "    while index2<len2:\n",
    "        arr[mainIndex] = second[index2]\n",
    "        index2 += 1\n",
    "        mainIndex += 1\n",
    "\n",
    "\n",
    "def mergeSort(arr, s, e):\n",
    "    if s>=e:\n",
    "        return\n",
    "    \n",
    "    mid = (s+e)//2\n",
    "    \n",
    "    mergeSort(arr, s, mid)\n",
    "    mergeSort(arr, mid+1, e)\n",
    "    \n",
    "    merge(arr, s, e)"
   ]
  },
  {
   "cell_type": "code",
   "execution_count": 10,
   "id": "911862d9",
   "metadata": {},
   "outputs": [
    {
     "data": {
      "text/plain": [
       "[1, 2, 5, 6, 9]"
      ]
     },
     "execution_count": 10,
     "metadata": {},
     "output_type": "execute_result"
    }
   ],
   "source": [
    "arr = [2,5,1,6,9]\n",
    "start = 0\n",
    "end = len(arr)-1\n",
    "\n",
    "mergeSort(arr, start, end)\n",
    "\n",
    "arr"
   ]
  },
  {
   "cell_type": "code",
   "execution_count": null,
   "id": "01e9c66f",
   "metadata": {},
   "outputs": [],
   "source": []
  }
 ],
 "metadata": {
  "kernelspec": {
   "display_name": "Python 3 (ipykernel)",
   "language": "python",
   "name": "python3"
  },
  "language_info": {
   "codemirror_mode": {
    "name": "ipython",
    "version": 3
   },
   "file_extension": ".py",
   "mimetype": "text/x-python",
   "name": "python",
   "nbconvert_exporter": "python",
   "pygments_lexer": "ipython3",
   "version": "3.9.7"
  }
 },
 "nbformat": 4,
 "nbformat_minor": 5
}
