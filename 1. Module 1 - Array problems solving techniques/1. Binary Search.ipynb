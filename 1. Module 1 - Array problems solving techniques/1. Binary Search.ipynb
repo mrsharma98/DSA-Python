{
 "cells": [
  {
   "cell_type": "code",
   "execution_count": 10,
   "id": "819896f7",
   "metadata": {},
   "outputs": [],
   "source": [
    "def binarySearch(array: int, key: int, low: int, high: int):\n",
    "    if (low > high):\n",
    "        return False\n",
    "    \n",
    "    mid = low + ((high - low) // 2)\n",
    "    if (array[mid] == key):\n",
    "        return mid\n",
    "    \n",
    "    elif (key < array[mid]):\n",
    "        return binarySearch(array, key, low, mid-1)\n",
    "    \n",
    "    else:\n",
    "        return binarySearch(array, key, mid+1, high)"
   ]
  },
  {
   "cell_type": "code",
   "execution_count": 11,
   "id": "56dc96d7",
   "metadata": {},
   "outputs": [
    {
     "data": {
      "text/plain": [
       "False"
      ]
     },
     "execution_count": 11,
     "metadata": {},
     "output_type": "execute_result"
    }
   ],
   "source": [
    "array = [1,2,4,5,7]\n",
    "key = 10\n",
    "low = 0\n",
    "high = len(array)-1\n",
    "\n",
    "binarySearch(array, key, low, high)"
   ]
  },
  {
   "cell_type": "code",
   "execution_count": null,
   "id": "be69b8b6",
   "metadata": {},
   "outputs": [],
   "source": []
  }
 ],
 "metadata": {
  "kernelspec": {
   "display_name": "Python 3 (ipykernel)",
   "language": "python",
   "name": "python3"
  },
  "language_info": {
   "codemirror_mode": {
    "name": "ipython",
    "version": 3
   },
   "file_extension": ".py",
   "mimetype": "text/x-python",
   "name": "python",
   "nbconvert_exporter": "python",
   "pygments_lexer": "ipython3",
   "version": "3.9.7"
  }
 },
 "nbformat": 4,
 "nbformat_minor": 5
}
