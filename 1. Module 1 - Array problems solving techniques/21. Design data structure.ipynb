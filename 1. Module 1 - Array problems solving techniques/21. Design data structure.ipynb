{
 "cells": [
  {
   "cell_type": "code",
   "execution_count": 1,
   "id": "f0d9d332",
   "metadata": {},
   "outputs": [],
   "source": [
    "class DLL:\n",
    "    def __init__(self, data):\n",
    "        self.value = data\n",
    "        self.prev = None\n",
    "        self.next = None"
   ]
  },
  {
   "cell_type": "code",
   "execution_count": 6,
   "id": "366c0f4d",
   "metadata": {},
   "outputs": [],
   "source": [
    "class FindMiddle:\n",
    "    size = 0\n",
    "    head = None\n",
    "    middle = None\n",
    "    \n",
    "    def push(self, val):\n",
    "        self.size += 1\n",
    "        if (self.head == None):\n",
    "            self.head = DLL(val)\n",
    "            self.middle = self.head\n",
    "        else:\n",
    "            node = DLL(val)\n",
    "            node.next = self.head\n",
    "            self.head.prev = node\n",
    "            self.head = node\n",
    "            if (self.size%2 == 0):\n",
    "                self.middle = self.middle.prev\n",
    "    \n",
    "    def pop(self):\n",
    "        if (self.head == None):\n",
    "            return -1\n",
    "        \n",
    "        self.size -= 1\n",
    "        ret = self.head.value\n",
    "        \n",
    "        if self.size == 0:\n",
    "            self.head = None\n",
    "            self.middle = None\n",
    "        else:\n",
    "            self.head = self.head.next\n",
    "            self.head.prev = None\n",
    "            if (self.size%2 == 1):\n",
    "                self.middle = self.middle.nxt\n",
    "        return ret\n",
    "    \n",
    "    def findMiddle(self):\n",
    "        return self.middle.value\n",
    "    \n",
    "    def deleteMiddle(self):\n",
    "        self -= 1\n",
    "        \n",
    "        if self.middle.prev != None:\n",
    "            self.middle.prev.next = self.middle.next\n",
    "        \n",
    "        if self.middle.next != None:\n",
    "            self.middle.next.prev = self.middle.prev\n",
    "        \n",
    "        if self.size%2 == 1:\n",
    "            self.middle = self.middle.right\n",
    "        else:\n",
    "            self.middle = self.middle.left"
   ]
  },
  {
   "cell_type": "code",
   "execution_count": null,
   "id": "4d240c4c",
   "metadata": {},
   "outputs": [],
   "source": []
  }
 ],
 "metadata": {
  "kernelspec": {
   "display_name": "Python 3 (ipykernel)",
   "language": "python",
   "name": "python3"
  },
  "language_info": {
   "codemirror_mode": {
    "name": "ipython",
    "version": 3
   },
   "file_extension": ".py",
   "mimetype": "text/x-python",
   "name": "python",
   "nbconvert_exporter": "python",
   "pygments_lexer": "ipython3",
   "version": "3.9.7"
  }
 },
 "nbformat": 4,
 "nbformat_minor": 5
}
