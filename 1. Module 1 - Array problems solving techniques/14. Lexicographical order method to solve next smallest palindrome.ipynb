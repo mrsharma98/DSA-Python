{
 "cells": [
  {
   "cell_type": "code",
   "execution_count": 1,
   "id": "2c235cb6",
   "metadata": {},
   "outputs": [],
   "source": [
    "# Find next smallest palindrome larger than this given number"
   ]
  },
  {
   "cell_type": "code",
   "execution_count": 4,
   "id": "807f88a6",
   "metadata": {},
   "outputs": [],
   "source": [
    "# case 1\n",
    "# 1. Length of digit is even\n",
    "# 2. Middle left digit > Middle right digit\n",
    "# ---> \n",
    "# 1. Override the middle left digit with the right one\n",
    "# 2. Take mirror image of left half digit and override with right half digit."
   ]
  },
  {
   "cell_type": "code",
   "execution_count": 5,
   "id": "ba6dcebf",
   "metadata": {},
   "outputs": [],
   "source": [
    "# case 2\n",
    "# 1. Length of digit is even\n",
    "# 2. Middle left digit < Middle right digit\n",
    "# --->\n",
    "# 1. Add 1 to middle left digit\n",
    "# 2. Take mirror of left half digit and override with right half digit.\n",
    "#   (same as case1)"
   ]
  },
  {
   "cell_type": "code",
   "execution_count": 6,
   "id": "c66825d8",
   "metadata": {},
   "outputs": [],
   "source": [
    "# case 3\n",
    "# 1. Length of digit is odd\n",
    "# 2. Middle left digit > Middle right digit (not the perfect middle digit)\n",
    "# --> same as case1\n",
    "\n",
    "# and for case4 -- same as case2"
   ]
  },
  {
   "cell_type": "code",
   "execution_count": 9,
   "id": "9b74f821",
   "metadata": {},
   "outputs": [],
   "source": [
    "# Exceptions\n",
    "# 283929349\n",
    "# here middle left will be 8 and right will be 4.\n",
    "# DO NOT touch palindrome.\n",
    "\n",
    "# 24983\n",
    "# if we add 1 to 9 it will become 10, so we take carry\n",
    "# 25083 -- 25052\n",
    "\n",
    "# if 9999...\n",
    "# we count number of 9's hen just put -1 0's and 1 on each side\n",
    "# Eg:- 9999 -- 10001"
   ]
  },
  {
   "cell_type": "code",
   "execution_count": null,
   "id": "141bd3cf",
   "metadata": {},
   "outputs": [],
   "source": []
  },
  {
   "cell_type": "code",
   "execution_count": null,
   "id": "a861e19b",
   "metadata": {},
   "outputs": [],
   "source": []
  },
  {
   "cell_type": "code",
   "execution_count": null,
   "id": "96d30155",
   "metadata": {},
   "outputs": [],
   "source": []
  },
  {
   "cell_type": "markdown",
   "id": "b5d3e556",
   "metadata": {},
   "source": [
    "# Kadane Algorithm"
   ]
  },
  {
   "cell_type": "code",
   "execution_count": 11,
   "id": "16666c07",
   "metadata": {},
   "outputs": [],
   "source": [
    "# Maximum Sum Subarray"
   ]
  },
  {
   "cell_type": "code",
   "execution_count": 12,
   "id": "e0a2784a",
   "metadata": {},
   "outputs": [],
   "source": [
    "# Find the contiguous subarray within an array[] of length N \n",
    "# which has the largest sum\n",
    "# Time Complexity O(n) and Space Complexity O(1)"
   ]
  },
  {
   "cell_type": "code",
   "execution_count": 16,
   "id": "fc7594b2",
   "metadata": {},
   "outputs": [],
   "source": [
    "def maxSubArray(array):\n",
    "    size = len(array)\n",
    "    resultSum = -9999999999999\n",
    "    intermediateSum = 0\n",
    "    \n",
    "    for i in range(size):\n",
    "        intermediateSum += array[i]\n",
    "        \n",
    "        if (array[i] > intermediateSum):\n",
    "            intermediateSum = array[i]\n",
    "        \n",
    "        if intermediateSum > resultSum:\n",
    "            resultSum = intermediateSum\n",
    "    return resultSum"
   ]
  },
  {
   "cell_type": "code",
   "execution_count": 17,
   "id": "d7c2bc91",
   "metadata": {},
   "outputs": [
    {
     "data": {
      "text/plain": [
       "6"
      ]
     },
     "execution_count": 17,
     "metadata": {},
     "output_type": "execute_result"
    }
   ],
   "source": [
    "maxSubArray([-5,6,-7,1,4,-8])"
   ]
  },
  {
   "cell_type": "code",
   "execution_count": null,
   "id": "27d96cb2",
   "metadata": {},
   "outputs": [],
   "source": []
  },
  {
   "cell_type": "code",
   "execution_count": null,
   "id": "5176e7db",
   "metadata": {},
   "outputs": [],
   "source": []
  },
  {
   "cell_type": "code",
   "execution_count": null,
   "id": "811c21d1",
   "metadata": {},
   "outputs": [],
   "source": [
    "# take 2 vaibale, resultsum and interSum\n",
    "# after adding the element, always check if sum is increasing or decreasing\n",
    "# if increasing, update the current val with interSum\n",
    "# if interSum is greater than result, update result\n",
    "# if decreasing, just update interSum"
   ]
  },
  {
   "cell_type": "code",
   "execution_count": 1,
   "id": "50499ae3",
   "metadata": {},
   "outputs": [],
   "source": [
    "import sys\n",
    "\n",
    "def practice(array):\n",
    "    resultSum = -sys.maxsize-1\n",
    "    interSum = 0\n",
    "    \n",
    "    for i in range(len(array)):\n",
    "        interSum += array[i]\n",
    "        \n",
    "        if array[i]>interSum:\n",
    "            interSum = array[i]\n",
    "        if resultSum<interSum:\n",
    "            resultSum = interSum\n",
    "    \n",
    "    return resultSum\n",
    "    \n",
    "    "
   ]
  },
  {
   "cell_type": "code",
   "execution_count": 4,
   "id": "8e49954d",
   "metadata": {},
   "outputs": [
    {
     "data": {
      "text/plain": [
       "7"
      ]
     },
     "execution_count": 4,
     "metadata": {},
     "output_type": "execute_result"
    }
   ],
   "source": [
    "practice([-5,6,1,-7,1,4,-8])"
   ]
  },
  {
   "cell_type": "code",
   "execution_count": null,
   "id": "e5953f75",
   "metadata": {},
   "outputs": [],
   "source": []
  },
  {
   "cell_type": "code",
   "execution_count": null,
   "id": "74cfb0f1",
   "metadata": {},
   "outputs": [],
   "source": []
  },
  {
   "cell_type": "code",
   "execution_count": null,
   "id": "7a455a74",
   "metadata": {},
   "outputs": [],
   "source": []
  }
 ],
 "metadata": {
  "kernelspec": {
   "display_name": "Python 3 (ipykernel)",
   "language": "python",
   "name": "python3"
  },
  "language_info": {
   "codemirror_mode": {
    "name": "ipython",
    "version": 3
   },
   "file_extension": ".py",
   "mimetype": "text/x-python",
   "name": "python",
   "nbconvert_exporter": "python",
   "pygments_lexer": "ipython3",
   "version": "3.9.7"
  }
 },
 "nbformat": 4,
 "nbformat_minor": 5
}
