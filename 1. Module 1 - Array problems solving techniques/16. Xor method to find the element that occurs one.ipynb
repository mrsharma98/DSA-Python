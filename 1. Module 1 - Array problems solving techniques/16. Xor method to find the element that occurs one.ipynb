{
 "cells": [
  {
   "cell_type": "code",
   "execution_count": 1,
   "id": "9149e708",
   "metadata": {},
   "outputs": [],
   "source": [
    "# Given an array where every element occurs two times, \n",
    "# except one element which occurs only once. \n",
    "# Find the element that occurs once. \n",
    "# Expected time complexity is O(n) and O(1) extra space"
   ]
  },
  {
   "cell_type": "code",
   "execution_count": 2,
   "id": "3211c15f",
   "metadata": {},
   "outputs": [],
   "source": [
    "def findNum(array):\n",
    "    num = 0\n",
    "    for i in array:\n",
    "        num ^= i\n",
    "    return num"
   ]
  },
  {
   "cell_type": "code",
   "execution_count": 6,
   "id": "757264ad",
   "metadata": {},
   "outputs": [
    {
     "data": {
      "text/plain": [
       "5"
      ]
     },
     "execution_count": 6,
     "metadata": {},
     "output_type": "execute_result"
    }
   ],
   "source": [
    "array = [6,6,6,6,6,6,5]\n",
    "findNum(array)"
   ]
  },
  {
   "cell_type": "code",
   "execution_count": null,
   "id": "b23c096d",
   "metadata": {},
   "outputs": [],
   "source": []
  },
  {
   "cell_type": "code",
   "execution_count": 7,
   "id": "ab7a006e",
   "metadata": {},
   "outputs": [],
   "source": [
    "# Find Two Non Repeating Number"
   ]
  },
  {
   "cell_type": "code",
   "execution_count": 8,
   "id": "785c9649",
   "metadata": {},
   "outputs": [],
   "source": [
    "# Given an array in which all numbers except two are repeated once. \n",
    "# (i.e. we have 2n+2 numbers and n numbers are occurring twice and the remaining two have occurred once).\n",
    "# Find those two numbers in the most efficient way"
   ]
  },
  {
   "cell_type": "code",
   "execution_count": 16,
   "id": "9b92e9c1",
   "metadata": {},
   "outputs": [],
   "source": [
    "def findNumbers(array):\n",
    "    xor = 0\n",
    "    for i in range(len(array)):\n",
    "        xor ^= array[i]\n",
    "        \n",
    "    most_rightBit = xor & ~ (xor-1)\n",
    "    \n",
    "    a, b = 0, 0\n",
    "    for i in range(len(array)):\n",
    "        x = array[i]\n",
    "        if ((x & most_rightBit) != 0):\n",
    "            a ^= x\n",
    "        else:\n",
    "            b ^= x\n",
    "    return [a,b]"
   ]
  },
  {
   "cell_type": "code",
   "execution_count": 17,
   "id": "0038d673",
   "metadata": {},
   "outputs": [
    {
     "data": {
      "text/plain": [
       "[7, 9]"
      ]
     },
     "execution_count": 17,
     "metadata": {},
     "output_type": "execute_result"
    }
   ],
   "source": [
    "findNumbers([2,4,7,9,2,4])"
   ]
  },
  {
   "cell_type": "code",
   "execution_count": null,
   "id": "2d831006",
   "metadata": {},
   "outputs": [],
   "source": []
  },
  {
   "cell_type": "code",
   "execution_count": null,
   "id": "599ff0fe",
   "metadata": {},
   "outputs": [],
   "source": []
  },
  {
   "cell_type": "code",
   "execution_count": null,
   "id": "fcd74b31",
   "metadata": {},
   "outputs": [],
   "source": []
  },
  {
   "cell_type": "code",
   "execution_count": null,
   "id": "45241db7",
   "metadata": {},
   "outputs": [],
   "source": []
  }
 ],
 "metadata": {
  "kernelspec": {
   "display_name": "Python 3 (ipykernel)",
   "language": "python",
   "name": "python3"
  },
  "language_info": {
   "codemirror_mode": {
    "name": "ipython",
    "version": 3
   },
   "file_extension": ".py",
   "mimetype": "text/x-python",
   "name": "python",
   "nbconvert_exporter": "python",
   "pygments_lexer": "ipython3",
   "version": "3.9.7"
  }
 },
 "nbformat": 4,
 "nbformat_minor": 5
}
