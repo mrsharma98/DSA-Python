{
 "cells": [
  {
   "cell_type": "code",
   "execution_count": 1,
   "id": "13e8a189",
   "metadata": {},
   "outputs": [],
   "source": [
    "# N non-negative integers representing an elevation map \n",
    "# where the width of each bar is 1. \n",
    "# Write an algorithm to find how much water it is able to trap after raining\n",
    "# Time Complexity O(n) and Space Complexity O(n)"
   ]
  },
  {
   "cell_type": "code",
   "execution_count": 3,
   "id": "ba1d9993",
   "metadata": {},
   "outputs": [],
   "source": [
    "# we calculate water trap on each bar\n",
    "# likr maxRight[] and maxLeft[]\n",
    "# whichEverIsLess(max right bar, max left bar)"
   ]
  },
  {
   "cell_type": "code",
   "execution_count": null,
   "id": "c4693881",
   "metadata": {},
   "outputs": [],
   "source": []
  },
  {
   "cell_type": "code",
   "execution_count": 18,
   "id": "6bdd96fd",
   "metadata": {},
   "outputs": [],
   "source": [
    "def waterTrap(array):\n",
    "    maxRight = [0]*len(array)\n",
    "    maxLeft = []\n",
    "    result = []\n",
    "    leftMax = 0\n",
    "    rightMax = 0\n",
    "    for i in range(len(array)):\n",
    "        if array[i] > leftMax:\n",
    "            leftMax = array[i]\n",
    "        maxLeft.append(leftMax)\n",
    "        if array[len(array)-1-i] > rightMax:\n",
    "            rightMax = array[len(array)-1-i]\n",
    "        maxRight[len(array)-i-1] = rightMax\n",
    "    \n",
    "    result = [min(maxLeft[i], maxRight[i])-array[i] for i in range(len(array))]\n",
    "    print(maxLeft, maxRight)\n",
    "    return result"
   ]
  },
  {
   "cell_type": "code",
   "execution_count": 19,
   "id": "18b1be57",
   "metadata": {},
   "outputs": [
    {
     "name": "stdout",
     "output_type": "stream",
     "text": [
      "[0, 1, 1, 2, 2, 2, 2, 3, 3, 3, 3, 3] [3, 3, 3, 3, 3, 3, 3, 3, 2, 2, 2, 1]\n"
     ]
    },
    {
     "data": {
      "text/plain": [
       "[0, 0, 1, 0, 1, 2, 1, 0, 0, 1, 0, 0]"
      ]
     },
     "execution_count": 19,
     "metadata": {},
     "output_type": "execute_result"
    }
   ],
   "source": [
    "array = [0,1,0,2,1,0,1,3,2,1,2,1]\n",
    "waterTrap(array)"
   ]
  },
  {
   "cell_type": "code",
   "execution_count": null,
   "id": "1186f87e",
   "metadata": {},
   "outputs": [],
   "source": []
  },
  {
   "cell_type": "code",
   "execution_count": null,
   "id": "8552c917",
   "metadata": {},
   "outputs": [],
   "source": []
  },
  {
   "cell_type": "code",
   "execution_count": 20,
   "id": "4e78b1f2",
   "metadata": {},
   "outputs": [],
   "source": [
    "# Maximum value of |arr[i] - arr[j]"
   ]
  },
  {
   "cell_type": "code",
   "execution_count": 21,
   "id": "b233d489",
   "metadata": {},
   "outputs": [],
   "source": [
    "# Given an array A[] of N positive integers.\n",
    "# The task is to find the maximum of j - i with the constraint of A[i] <= A[j].\n",
    "# Time Complexity : O(n) Space Complexity : O(n)"
   ]
  },
  {
   "cell_type": "code",
   "execution_count": 1,
   "id": "08ef7024",
   "metadata": {},
   "outputs": [],
   "source": [
    "# we will make 2 array containing index\n",
    "# right[] == start from end, place the index of larger element on right\n",
    "# left[] == place the smaller element on left"
   ]
  },
  {
   "cell_type": "code",
   "execution_count": 2,
   "id": "63085816",
   "metadata": {},
   "outputs": [],
   "source": [
    "# traverse both the array together\n",
    "# compare the element on those index (arr[j] > arr[i])\n",
    "# j on left[], i on right[]\n",
    "# if index in left pointing to the larger element than right[], shift left array forwart\n",
    "# vice versa, here accoridng to condition and save max(j-i) while traversing here"
   ]
  },
  {
   "cell_type": "code",
   "execution_count": null,
   "id": "d75251de",
   "metadata": {},
   "outputs": [],
   "source": []
  },
  {
   "cell_type": "code",
   "execution_count": 4,
   "id": "734c8549",
   "metadata": {},
   "outputs": [],
   "source": [
    "def maxjMinusi(array, n):\n",
    "    maxDiff = -1\n",
    "    i, j = 0, 0\n",
    "    right = [0]*n\n",
    "    left = [0]*n\n",
    "    \n",
    "    right[n-1] = n-1\n",
    "    \n",
    "    for j in range(n-2, 0, -1):\n",
    "        if (array[j] < array[right[j+1]]):\n",
    "            right[j] = right[j+1]\n",
    "        else:\n",
    "            right[j] = j\n",
    "    \n",
    "    left[0] = 0\n",
    "    for i in range(1, n):\n",
    "        if array[i] > array[left[i-1]]:\n",
    "            left[i] = left[i-1]\n",
    "        else:\n",
    "            left[i] = i\n",
    "    \n",
    "    i, j, maxDiff = 0, 0, -1\n",
    "    \n",
    "    while(j<n and i<n):\n",
    "        if (array[left[i]] < array[right[j]]):\n",
    "            maxDiff = max(maxDiff, right[j]-left[i])\n",
    "            j += 1\n",
    "        else:\n",
    "            i += 1\n",
    "    \n",
    "    return maxDiff"
   ]
  },
  {
   "cell_type": "code",
   "execution_count": 5,
   "id": "b731833a",
   "metadata": {},
   "outputs": [
    {
     "data": {
      "text/plain": [
       "6"
      ]
     },
     "execution_count": 5,
     "metadata": {},
     "output_type": "execute_result"
    }
   ],
   "source": [
    "array = [35, 9, 12, 3, 2, 70, 31, 33, 1]\n",
    "n = len(array)\n",
    "maxjMinusi(array, n)"
   ]
  },
  {
   "cell_type": "code",
   "execution_count": null,
   "id": "c95c7578",
   "metadata": {},
   "outputs": [],
   "source": []
  },
  {
   "cell_type": "code",
   "execution_count": null,
   "id": "ba3421a2",
   "metadata": {},
   "outputs": [],
   "source": []
  }
 ],
 "metadata": {
  "kernelspec": {
   "display_name": "Python 3 (ipykernel)",
   "language": "python",
   "name": "python3"
  },
  "language_info": {
   "codemirror_mode": {
    "name": "ipython",
    "version": 3
   },
   "file_extension": ".py",
   "mimetype": "text/x-python",
   "name": "python",
   "nbconvert_exporter": "python",
   "pygments_lexer": "ipython3",
   "version": "3.9.7"
  }
 },
 "nbformat": 4,
 "nbformat_minor": 5
}
