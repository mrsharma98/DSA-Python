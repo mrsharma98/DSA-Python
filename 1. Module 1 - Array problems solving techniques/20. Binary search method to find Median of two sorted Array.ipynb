{
 "cells": [
  {
   "cell_type": "code",
   "execution_count": null,
   "id": "7e96d202",
   "metadata": {},
   "outputs": [],
   "source": [
    "# There are two sorted arrays A and B of size m and n respectively.\n",
    "# Find the median of the two sorted arrays.\n",
    "# time complexity should be O(log n)) and Space Complexity O(1)"
   ]
  },
  {
   "cell_type": "code",
   "execution_count": 1,
   "id": "6f6adff7",
   "metadata": {},
   "outputs": [],
   "source": [
    "# for odd length:- median = array[length/2]\n",
    "# for even length:- media = (array[(len/2)-1] + array[(len/2)])/2"
   ]
  },
  {
   "cell_type": "code",
   "execution_count": 2,
   "id": "724ae461",
   "metadata": {},
   "outputs": [],
   "source": [
    "# lenght of the each array is 2 then,\n",
    "# median = (max(first[0], second[0]) + min(first[1], second[1]))/2"
   ]
  },
  {
   "cell_type": "raw",
   "id": "641e2ed9",
   "metadata": {},
   "source": [
    "https://leetcode.com/problems/median-of-two-sorted-arrays/"
   ]
  },
  {
   "cell_type": "code",
   "execution_count": 6,
   "id": "0c2e506e",
   "metadata": {},
   "outputs": [],
   "source": [
    "def find(first, second, start_f, end_f, start_s, end_s):\n",
    "    if (end_f-start_f == 1):\n",
    "        return (max(first[start_f],second[start_s]) + min(first[end_f], second[end_s]))/ 2\n",
    "    \n",
    "    m1 = median(first, start_f, end_f)\n",
    "    m2 = median(second, start_s, end_s)\n",
    "    \n",
    "    if (m1 == m2):\n",
    "        return m1\n",
    "    elif (m1 < m2):\n",
    "        return find(first, second, (end_f + start_f + 1) // 2, start_s, end_f,(end_s + start_s + 1) // 2)\n",
    "    else:\n",
    "        return find(first, second, start_f, (end_s + start_s + 1) // 2, (end_f + start_f + 1) // 2, end_s)\n",
    "    \n",
    "def median(array, start, end):\n",
    "    n = end - start\n",
    "    if n%2 == 0:\n",
    "        return (array[start + int(n // 2)]+ array[start + (int(n // 2) - 1)]) // 2\n",
    "    else:\n",
    "        return array[start + int(n // 2)]"
   ]
  },
  {
   "cell_type": "code",
   "execution_count": 8,
   "id": "83900fe4",
   "metadata": {},
   "outputs": [
    {
     "data": {
      "text/plain": [
       "2.0"
      ]
     },
     "execution_count": 8,
     "metadata": {},
     "output_type": "execute_result"
    }
   ],
   "source": [
    "nums1 = [1,3]\n",
    "nums2 = [2]\n",
    "find(nums1, nums2, 0, len(nums1)-1, 0, len(nums2)-1)"
   ]
  },
  {
   "cell_type": "code",
   "execution_count": null,
   "id": "4e942615",
   "metadata": {},
   "outputs": [],
   "source": []
  },
  {
   "cell_type": "code",
   "execution_count": null,
   "id": "e0534209",
   "metadata": {},
   "outputs": [],
   "source": []
  },
  {
   "cell_type": "code",
   "execution_count": null,
   "id": "3efc165e",
   "metadata": {},
   "outputs": [],
   "source": [
    "# Kth Smallest Element"
   ]
  },
  {
   "cell_type": "code",
   "execution_count": 3,
   "id": "3e8134a9",
   "metadata": {},
   "outputs": [],
   "source": [
    "# Given two sorted arrays of size m and n respectively,\n",
    "# you are tasked with finding the element \n",
    "# that would be at the k’th position of the final sorted array\n",
    "# Time Complexity: O(log n + log m)"
   ]
  },
  {
   "cell_type": "code",
   "execution_count": null,
   "id": "34f6c428",
   "metadata": {},
   "outputs": [],
   "source": []
  },
  {
   "cell_type": "code",
   "execution_count": null,
   "id": "71c91fb5",
   "metadata": {},
   "outputs": [],
   "source": []
  },
  {
   "cell_type": "markdown",
   "id": "a0467e80",
   "metadata": {},
   "source": [
    "# Practice"
   ]
  },
  {
   "cell_type": "code",
   "execution_count": 13,
   "id": "e191f9bc",
   "metadata": {},
   "outputs": [],
   "source": []
  },
  {
   "cell_type": "code",
   "execution_count": null,
   "id": "2cde0f5a",
   "metadata": {},
   "outputs": [],
   "source": []
  },
  {
   "cell_type": "code",
   "execution_count": null,
   "id": "0a2b5948",
   "metadata": {},
   "outputs": [],
   "source": []
  }
 ],
 "metadata": {
  "kernelspec": {
   "display_name": "Python 3 (ipykernel)",
   "language": "python",
   "name": "python3"
  },
  "language_info": {
   "codemirror_mode": {
    "name": "ipython",
    "version": 3
   },
   "file_extension": ".py",
   "mimetype": "text/x-python",
   "name": "python",
   "nbconvert_exporter": "python",
   "pygments_lexer": "ipython3",
   "version": "3.9.7"
  }
 },
 "nbformat": 4,
 "nbformat_minor": 5
}
