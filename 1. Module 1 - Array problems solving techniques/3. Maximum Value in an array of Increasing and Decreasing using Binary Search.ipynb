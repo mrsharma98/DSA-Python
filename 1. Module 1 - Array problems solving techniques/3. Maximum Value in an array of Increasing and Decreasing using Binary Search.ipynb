{
 "cells": [
  {
   "cell_type": "code",
   "execution_count": 31,
   "id": "ae1285b1",
   "metadata": {},
   "outputs": [],
   "source": [
    "def max_num(arr, low, high):\n",
    "    if (low==high):\n",
    "        return arr[low]\n",
    "    \n",
    "    mid = (high+low)//2\n",
    "    \n",
    "    if arr[mid] > arr[mid+1] and arr[mid] > arr[mid-1]:\n",
    "        return arr[mid]\n",
    "    elif arr[mid] < arr[mid-1]:\n",
    "        return max_num(arr, low, mid-1)\n",
    "    elif arr[mid] < arr[mid+1]:\n",
    "        return max_num(arr, mid+1, high)"
   ]
  },
  {
   "cell_type": "code",
   "execution_count": 36,
   "id": "ae12575a",
   "metadata": {},
   "outputs": [
    {
     "data": {
      "text/plain": [
       "2"
      ]
     },
     "execution_count": 36,
     "metadata": {},
     "output_type": "execute_result"
    }
   ],
   "source": [
    "arr = [1,2,12,8,4]\n",
    "low = 0\n",
    "high = len(arr)-1\n",
    "max_num(arr, low, high)"
   ]
  },
  {
   "cell_type": "code",
   "execution_count": null,
   "id": "d478c40d",
   "metadata": {},
   "outputs": [],
   "source": []
  },
  {
   "cell_type": "code",
   "execution_count": 37,
   "id": "77e9a230",
   "metadata": {},
   "outputs": [],
   "source": [
    "# assignment attached"
   ]
  },
  {
   "cell_type": "code",
   "execution_count": 33,
   "id": "32bee9ad",
   "metadata": {},
   "outputs": [],
   "source": [
    "def findNumber(arr: int, start: int, end: int, value: int):\n",
    "    if (start>end):\n",
    "        return -1\n",
    "    \n",
    "    mid = (start+end)//2\n",
    "    if (arr[mid] == value):\n",
    "        return mid\n",
    "    \n",
    "    if (arr[start] <= arr[mid]):\n",
    "        \n",
    "        if (value >= arr[start] and value <= arr[mid]):\n",
    "            return findNumber(arr, start, mid-1, value)\n",
    "        return findNumber(arr, mid+1, end, value)\n",
    "        \n",
    "        if (value >= arr[mid] and value <= arr[end]):\n",
    "            return findNumber(arr, mid+1, end, value)\n",
    "        \n",
    "    return findNumber(arr, start, mid-1, value)"
   ]
  },
  {
   "cell_type": "code",
   "execution_count": 35,
   "id": "e2071789",
   "metadata": {},
   "outputs": [
    {
     "data": {
      "text/plain": [
       "-1"
      ]
     },
     "execution_count": 35,
     "metadata": {},
     "output_type": "execute_result"
    }
   ],
   "source": [
    "arr = [7,8,9,1,2,3,4,5,6]\n",
    "start = 0\n",
    "end = len(arr)-1\n",
    "value = 3\n",
    "findNumber(arr, start, end, value)"
   ]
  },
  {
   "cell_type": "code",
   "execution_count": null,
   "id": "c26e737b",
   "metadata": {},
   "outputs": [],
   "source": []
  }
 ],
 "metadata": {
  "kernelspec": {
   "display_name": "Python 3 (ipykernel)",
   "language": "python",
   "name": "python3"
  },
  "language_info": {
   "codemirror_mode": {
    "name": "ipython",
    "version": 3
   },
   "file_extension": ".py",
   "mimetype": "text/x-python",
   "name": "python",
   "nbconvert_exporter": "python",
   "pygments_lexer": "ipython3",
   "version": "3.9.7"
  }
 },
 "nbformat": 4,
 "nbformat_minor": 5
}
