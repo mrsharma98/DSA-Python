{
 "cells": [
  {
   "cell_type": "code",
   "execution_count": 1,
   "id": "11d18fa7",
   "metadata": {},
   "outputs": [],
   "source": [
    "# Given an unsorted Array,\n",
    "# Find the count of Inversion required to make this array sorted\n",
    "# Time Complexity:O(nlogn) and Space Complexity: O(n)"
   ]
  },
  {
   "cell_type": "code",
   "execution_count": 2,
   "id": "4af5c880",
   "metadata": {},
   "outputs": [],
   "source": [
    "# when to swap\n",
    "# i<j and a[i]>a[j]"
   ]
  },
  {
   "cell_type": "code",
   "execution_count": null,
   "id": "b65b8582",
   "metadata": {},
   "outputs": [],
   "source": [
    "def merge(inputArray, tempArray, left, right):\n",
    "    while (left subarray not processed) and (right subarray not processed):\n",
    "        if (leftSubarray value <= rightSubarray value):\n",
    "            # some code\n",
    "        else:\n",
    "            # some code\n",
    "            inversionCount = inversionCount + (mid+1-i)\n",
    "    return inversionCount\n",
    "\n",
    "\n",
    "def mergeSort(inputArray, tempArray, left, right):\n",
    "    mid, inversionCount = 0, 0\n",
    "    \n",
    "    mid = (right+left)//2\n",
    "    inv_count = mergeSort(inputArray, tempArray, left, mid)\n",
    "    inversionCount += mergeSort(inputArray, tempArray, mid+1, right)\n",
    "    inversionCount += merge(inputArray, tempArray, left, mid+1, right)\n",
    "    \n",
    "    return inversionCount"
   ]
  },
  {
   "cell_type": "code",
   "execution_count": null,
   "id": "c2f65907",
   "metadata": {},
   "outputs": [],
   "source": []
  }
 ],
 "metadata": {
  "kernelspec": {
   "display_name": "Python 3 (ipykernel)",
   "language": "python",
   "name": "python3"
  },
  "language_info": {
   "codemirror_mode": {
    "name": "ipython",
    "version": 3
   },
   "file_extension": ".py",
   "mimetype": "text/x-python",
   "name": "python",
   "nbconvert_exporter": "python",
   "pygments_lexer": "ipython3",
   "version": "3.9.7"
  }
 },
 "nbformat": 4,
 "nbformat_minor": 5
}
