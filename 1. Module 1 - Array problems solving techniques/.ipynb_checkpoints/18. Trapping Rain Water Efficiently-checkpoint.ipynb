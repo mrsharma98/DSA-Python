{
 "cells": [
  {
   "cell_type": "code",
   "execution_count": 1,
   "id": "13e8a189",
   "metadata": {},
   "outputs": [],
   "source": [
    "# N non-negative integers representing an elevation map \n",
    "# where the width of each bar is 1. \n",
    "# Write an algorithm to find how much water it is able to trap after raining\n",
    "# Time Complexity O(n) and Space Complexity O(n)"
   ]
  },
  {
   "cell_type": "code",
   "execution_count": 3,
   "id": "ba1d9993",
   "metadata": {},
   "outputs": [],
   "source": [
    "# we calculate water trap on each bar\n",
    "# likr maxRight[] and maxLeft[]\n",
    "# whichEverIsLess(max right bar, max left bar)"
   ]
  },
  {
   "cell_type": "code",
   "execution_count": null,
   "id": "c4693881",
   "metadata": {},
   "outputs": [],
   "source": []
  },
  {
   "cell_type": "code",
   "execution_count": 18,
   "id": "6bdd96fd",
   "metadata": {},
   "outputs": [],
   "source": [
    "def waterTrap(array):\n",
    "    maxRight = [0]*len(array)\n",
    "    maxLeft = []\n",
    "    result = []\n",
    "    leftMax = 0\n",
    "    rightMax = 0\n",
    "    for i in range(len(array)):\n",
    "        if array[i] > leftMax:\n",
    "            leftMax = array[i]\n",
    "        maxLeft.append(leftMax)\n",
    "        if array[len(array)-1-i] > rightMax:\n",
    "            rightMax = array[len(array)-1-i]\n",
    "        maxRight[len(array)-i-1] = rightMax\n",
    "    \n",
    "    result = [min(maxLeft[i], maxRight[i])-array[i] for i in range(len(array))]\n",
    "    print(maxLeft, maxRight)\n",
    "    return result"
   ]
  },
  {
   "cell_type": "code",
   "execution_count": 19,
   "id": "18b1be57",
   "metadata": {},
   "outputs": [
    {
     "name": "stdout",
     "output_type": "stream",
     "text": [
      "[0, 1, 1, 2, 2, 2, 2, 3, 3, 3, 3, 3] [3, 3, 3, 3, 3, 3, 3, 3, 2, 2, 2, 1]\n"
     ]
    },
    {
     "data": {
      "text/plain": [
       "[0, 0, 1, 0, 1, 2, 1, 0, 0, 1, 0, 0]"
      ]
     },
     "execution_count": 19,
     "metadata": {},
     "output_type": "execute_result"
    }
   ],
   "source": [
    "array = [0,1,0,2,1,0,1,3,2,1,2,1]\n",
    "waterTrap(array)"
   ]
  },
  {
   "cell_type": "code",
   "execution_count": null,
   "id": "1186f87e",
   "metadata": {},
   "outputs": [],
   "source": []
  },
  {
   "cell_type": "code",
   "execution_count": null,
   "id": "8552c917",
   "metadata": {},
   "outputs": [],
   "source": []
  },
  {
   "cell_type": "code",
   "execution_count": 20,
   "id": "4e78b1f2",
   "metadata": {},
   "outputs": [],
   "source": [
    "# Maximum value of |arr[i] - arr[j]"
   ]
  },
  {
   "cell_type": "code",
   "execution_count": 21,
   "id": "b233d489",
   "metadata": {},
   "outputs": [],
   "source": [
    "# Given an array A[] of N positive integers.\n",
    "# The task is to find the maximum of j - i with the constraint of A[i] <= A[j].\n",
    "# Time Complexity : O(n) Space Complexity : O(n)"
   ]
  },
  {
   "cell_type": "code",
   "execution_count": null,
   "id": "08ef7024",
   "metadata": {},
   "outputs": [],
   "source": []
  },
  {
   "cell_type": "code",
   "execution_count": null,
   "id": "63085816",
   "metadata": {},
   "outputs": [],
   "source": []
  },
  {
   "cell_type": "code",
   "execution_count": null,
   "id": "d75251de",
   "metadata": {},
   "outputs": [],
   "source": []
  },
  {
   "cell_type": "code",
   "execution_count": null,
   "id": "734c8549",
   "metadata": {},
   "outputs": [],
   "source": []
  },
  {
   "cell_type": "code",
   "execution_count": null,
   "id": "b731833a",
   "metadata": {},
   "outputs": [],
   "source": []
  },
  {
   "cell_type": "code",
   "execution_count": null,
   "id": "c95c7578",
   "metadata": {},
   "outputs": [],
   "source": []
  }
 ],
 "metadata": {
  "kernelspec": {
   "display_name": "Python 3 (ipykernel)",
   "language": "python",
   "name": "python3"
  },
  "language_info": {
   "codemirror_mode": {
    "name": "ipython",
    "version": 3
   },
   "file_extension": ".py",
   "mimetype": "text/x-python",
   "name": "python",
   "nbconvert_exporter": "python",
   "pygments_lexer": "ipython3",
   "version": "3.9.7"
  }
 },
 "nbformat": 4,
 "nbformat_minor": 5
}
