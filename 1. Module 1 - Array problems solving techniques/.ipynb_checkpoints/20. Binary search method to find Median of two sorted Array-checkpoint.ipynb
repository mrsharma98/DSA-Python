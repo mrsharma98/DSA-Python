{
 "cells": [
  {
   "cell_type": "code",
   "execution_count": null,
   "id": "7e96d202",
   "metadata": {},
   "outputs": [],
   "source": [
    "# There are two sorted arrays A and B of size m and n respectively.\n",
    "# Find the median of the two sorted arrays.\n",
    "# time complexity should be O(log n)) and Space Complexity O(1)"
   ]
  },
  {
   "cell_type": "code",
   "execution_count": 1,
   "id": "6f6adff7",
   "metadata": {},
   "outputs": [],
   "source": [
    "# for odd length:- median = array[length/2]\n",
    "# for even length:- media = (array[(len/2)-1] + array[(len/2)])/2"
   ]
  },
  {
   "cell_type": "code",
   "execution_count": 2,
   "id": "724ae461",
   "metadata": {},
   "outputs": [],
   "source": [
    "# lenght of the each array is 2 then,\n",
    "# median = (max(first[0], second[0]) + min(first[1], second[1]))/2"
   ]
  },
  {
   "cell_type": "code",
   "execution_count": null,
   "id": "6a8654b8",
   "metadata": {},
   "outputs": [],
   "source": []
  },
  {
   "cell_type": "code",
   "execution_count": null,
   "id": "0c2e506e",
   "metadata": {},
   "outputs": [],
   "source": []
  },
  {
   "cell_type": "code",
   "execution_count": null,
   "id": "83900fe4",
   "metadata": {},
   "outputs": [],
   "source": []
  },
  {
   "cell_type": "code",
   "execution_count": null,
   "id": "4e942615",
   "metadata": {},
   "outputs": [],
   "source": []
  },
  {
   "cell_type": "code",
   "execution_count": null,
   "id": "e0534209",
   "metadata": {},
   "outputs": [],
   "source": []
  },
  {
   "cell_type": "code",
   "execution_count": null,
   "id": "3efc165e",
   "metadata": {},
   "outputs": [],
   "source": [
    "# Kth Smallest Element"
   ]
  },
  {
   "cell_type": "code",
   "execution_count": 3,
   "id": "3e8134a9",
   "metadata": {},
   "outputs": [],
   "source": [
    "# Given two sorted arrays of size m and n respectively,\n",
    "# you are tasked with finding the element \n",
    "# that would be at the k’th position of the final sorted array\n",
    "# Time Complexity: O(log n + log m)"
   ]
  },
  {
   "cell_type": "code",
   "execution_count": null,
   "id": "34f6c428",
   "metadata": {},
   "outputs": [],
   "source": []
  },
  {
   "cell_type": "code",
   "execution_count": null,
   "id": "71c91fb5",
   "metadata": {},
   "outputs": [],
   "source": []
  },
  {
   "cell_type": "code",
   "execution_count": null,
   "id": "a0072ce2",
   "metadata": {},
   "outputs": [],
   "source": []
  },
  {
   "cell_type": "code",
   "execution_count": null,
   "id": "e191f9bc",
   "metadata": {},
   "outputs": [],
   "source": []
  }
 ],
 "metadata": {
  "kernelspec": {
   "display_name": "Python 3 (ipykernel)",
   "language": "python",
   "name": "python3"
  },
  "language_info": {
   "codemirror_mode": {
    "name": "ipython",
    "version": 3
   },
   "file_extension": ".py",
   "mimetype": "text/x-python",
   "name": "python",
   "nbconvert_exporter": "python",
   "pygments_lexer": "ipython3",
   "version": "3.9.7"
  }
 },
 "nbformat": 4,
 "nbformat_minor": 5
}
