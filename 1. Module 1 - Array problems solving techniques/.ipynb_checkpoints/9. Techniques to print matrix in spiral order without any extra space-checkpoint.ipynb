{
 "cells": [
  {
   "cell_type": "code",
   "execution_count": 1,
   "id": "b3ee8e4f",
   "metadata": {},
   "outputs": [],
   "source": [
    "# Spiral print"
   ]
  },
  {
   "cell_type": "code",
   "execution_count": null,
   "id": "0f76a809",
   "metadata": {},
   "outputs": [],
   "source": [
    "def sprialPrint(arr, row, col):\n",
    "    k = 0 # starting column\n",
    "    m = col-1 # last column -1\n",
    "    n = 0 # starting row\n",
    "    p = row-1 #last row -1\n",
    "    \n",
    "    while(k<m and n<p):\n",
    "        "
   ]
  }
 ],
 "metadata": {
  "kernelspec": {
   "display_name": "Python 3 (ipykernel)",
   "language": "python",
   "name": "python3"
  },
  "language_info": {
   "codemirror_mode": {
    "name": "ipython",
    "version": 3
   },
   "file_extension": ".py",
   "mimetype": "text/x-python",
   "name": "python",
   "nbconvert_exporter": "python",
   "pygments_lexer": "ipython3",
   "version": "3.9.7"
  }
 },
 "nbformat": 4,
 "nbformat_minor": 5
}
