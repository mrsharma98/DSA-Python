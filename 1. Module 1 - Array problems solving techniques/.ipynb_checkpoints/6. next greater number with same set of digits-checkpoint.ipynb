{
 "cells": [
  {
   "cell_type": "code",
   "execution_count": 29,
   "id": "0c0ec5f7",
   "metadata": {},
   "outputs": [],
   "source": [
    "# first take two pointer\n",
    "# start from last two\n",
    "# if i is less than i+1, swap it with the lowest number but greater than the ith number on the right side\n",
    "# then sort the right side of the i(not included)\n",
    "\n",
    "def nextGreater(arr, n):\n",
    "    # find number which is less than its right digit, start from the left\n",
    "    for i in range(n-1, 0, -1):\n",
    "        if arr[i] > arr[i-1]:\n",
    "            break\n",
    "        \n",
    "    smallDigit = i-1\n",
    "    maxNum = i\n",
    "    for j in range(i+1, n):\n",
    "        if arr[j] > arr[smallDigit] and arr[j] < arr[maxNum]:\n",
    "            maxNum = j\n",
    "    \n",
    "    arr[smallDigit], arr[maxNum] = arr[maxNum], arr[smallDigit]\n",
    "    \n",
    "    arr[i:j] = sorted(arr[i:j])\n",
    "    return arr\n",
    "        \n",
    "\n",
    "\n"
   ]
  },
  {
   "cell_type": "code",
   "execution_count": 31,
   "id": "0e9a1238",
   "metadata": {},
   "outputs": [
    {
     "data": {
      "text/plain": [
       "[3, 5, 4, 1]"
      ]
     },
     "execution_count": 31,
     "metadata": {},
     "output_type": "execute_result"
    }
   ],
   "source": [
    "num = [3, 4,5, 1]\n",
    "nextGreater(num, len(num))"
   ]
  },
  {
   "cell_type": "code",
   "execution_count": null,
   "id": "358f6103",
   "metadata": {},
   "outputs": [],
   "source": []
  },
  {
   "cell_type": "code",
   "execution_count": null,
   "id": "4ef47cfc",
   "metadata": {},
   "outputs": [],
   "source": []
  }
 ],
 "metadata": {
  "kernelspec": {
   "display_name": "Python 3 (ipykernel)",
   "language": "python",
   "name": "python3"
  },
  "language_info": {
   "codemirror_mode": {
    "name": "ipython",
    "version": 3
   },
   "file_extension": ".py",
   "mimetype": "text/x-python",
   "name": "python",
   "nbconvert_exporter": "python",
   "pygments_lexer": "ipython3",
   "version": "3.9.7"
  }
 },
 "nbformat": 4,
 "nbformat_minor": 5
}
