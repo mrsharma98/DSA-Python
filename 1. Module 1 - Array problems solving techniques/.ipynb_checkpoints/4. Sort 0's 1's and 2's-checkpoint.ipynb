{
 "cells": [
  {
   "cell_type": "code",
   "execution_count": 3,
   "id": "f07d67f3",
   "metadata": {},
   "outputs": [],
   "source": [
    "def swap (arr, index1, index2):\n",
    "    arr[index1], arr[index2] = arr[index2], arr[index1]\n",
    "def sort012(arr):\n",
    "    \n",
    "    low = 0\n",
    "    mid = 0\n",
    "    high = len(arr)-1\n",
    "    \n",
    "    while (mid <= high):\n",
    "        if arr[mid] == 0:\n",
    "            swap(arr, low, mid)\n",
    "            low += 1\n",
    "            mid += 1\n",
    "        \n",
    "        elif arr[mid] == 2:\n",
    "            swap(arr, mid, high)\n",
    "            high -= 1\n",
    "        else:\n",
    "            mid += 1"
   ]
  },
  {
   "cell_type": "code",
   "execution_count": 5,
   "id": "4e7c35e8",
   "metadata": {},
   "outputs": [
    {
     "data": {
      "text/plain": [
       "[0, 0, 0, 0, 1, 1, 2]"
      ]
     },
     "execution_count": 5,
     "metadata": {},
     "output_type": "execute_result"
    }
   ],
   "source": [
    "arr = [0, 1,2, 0, 0, 1, 0]\n",
    "sort012(arr)\n",
    "arr"
   ]
  },
  {
   "cell_type": "code",
   "execution_count": null,
   "id": "d0008a24",
   "metadata": {},
   "outputs": [],
   "source": []
  },
  {
   "cell_type": "code",
   "execution_count": null,
   "id": "1a88d0e0",
   "metadata": {},
   "outputs": [],
   "source": []
  },
  {
   "cell_type": "code",
   "execution_count": 6,
   "id": "1d4db04c",
   "metadata": {},
   "outputs": [],
   "source": [
    "# Assignment\n",
    "# shift all the zero to the right"
   ]
  },
  {
   "cell_type": "code",
   "execution_count": 7,
   "id": "d7ac4f79",
   "metadata": {},
   "outputs": [],
   "source": [
    "def zeroToRight(arr):\n",
    "    cnt = 0\n",
    "    \n",
    "    for i in range(len(arr)):\n",
    "        if (arr[i] != 0):\n",
    "            arr[cnt], arr[i] = arr[i], arr[cnt]\n",
    "            cnt += 1"
   ]
  },
  {
   "cell_type": "code",
   "execution_count": 11,
   "id": "22f1ad29",
   "metadata": {},
   "outputs": [
    {
     "data": {
      "text/plain": [
       "[3, 4, 0, 0, 0, 0]"
      ]
     },
     "execution_count": 11,
     "metadata": {},
     "output_type": "execute_result"
    }
   ],
   "source": [
    "arr = [0,3,0,0,0,4]\n",
    "zeroToRight(arr)\n",
    "arr"
   ]
  },
  {
   "cell_type": "code",
   "execution_count": null,
   "id": "69fbc4aa",
   "metadata": {},
   "outputs": [],
   "source": []
  }
 ],
 "metadata": {
  "kernelspec": {
   "display_name": "Python 3 (ipykernel)",
   "language": "python",
   "name": "python3"
  },
  "language_info": {
   "codemirror_mode": {
    "name": "ipython",
    "version": 3
   },
   "file_extension": ".py",
   "mimetype": "text/x-python",
   "name": "python",
   "nbconvert_exporter": "python",
   "pygments_lexer": "ipython3",
   "version": "3.9.7"
  }
 },
 "nbformat": 4,
 "nbformat_minor": 5
}
