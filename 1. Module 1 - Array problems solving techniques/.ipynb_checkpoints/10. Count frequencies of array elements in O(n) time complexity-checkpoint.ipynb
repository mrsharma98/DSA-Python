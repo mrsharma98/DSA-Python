{
 "cells": [
  {
   "cell_type": "code",
   "execution_count": 1,
   "id": "4f91de6d",
   "metadata": {},
   "outputs": [],
   "source": [
    "# Array of length n having integers 1 to n with some elements being repeated.\n",
    "# Count frequencies of all elements from 1 to n.\n",
    "# Time Complexity O(n) and Space Complexity O(1)"
   ]
  },
  {
   "cell_type": "code",
   "execution_count": 2,
   "id": "6cb16cf8",
   "metadata": {},
   "outputs": [],
   "source": [
    "# we add 7 to the value of index whenever that number appears"
   ]
  },
  {
   "cell_type": "code",
   "execution_count": 5,
   "id": "899b12f1",
   "metadata": {},
   "outputs": [],
   "source": [
    "# while traversing if value is more than 7 then just take the mod for the original value"
   ]
  },
  {
   "cell_type": "code",
   "execution_count": 11,
   "id": "f250e1f8",
   "metadata": {},
   "outputs": [],
   "source": [
    "def occurance(array, n):\n",
    "    \n",
    "    for i in range(0, n):\n",
    "        array[i] -= 1\n",
    "        \n",
    "    for i in range(0, n):\n",
    "        array[array[i]%n] = n + array[array[i]%n]\n",
    "        \n",
    "    for i in range(0, n):\n",
    "        print((i+1), \" \", array[i]//n)"
   ]
  },
  {
   "cell_type": "code",
   "execution_count": 13,
   "id": "23bc1ce2",
   "metadata": {},
   "outputs": [
    {
     "name": "stdout",
     "output_type": "stream",
     "text": [
      "1   2\n",
      "2   4\n",
      "3   1\n",
      "4   0\n",
      "5   0\n",
      "6   0\n",
      "7   0\n"
     ]
    }
   ],
   "source": [
    "arr = [1,1,2,2,2,2,3]\n",
    "n = len(arr)\n",
    "occurance(arr, n)"
   ]
  },
  {
   "cell_type": "code",
   "execution_count": null,
   "id": "eab620cc",
   "metadata": {},
   "outputs": [],
   "source": []
  }
 ],
 "metadata": {
  "kernelspec": {
   "display_name": "Python 3 (ipykernel)",
   "language": "python",
   "name": "python3"
  },
  "language_info": {
   "codemirror_mode": {
    "name": "ipython",
    "version": 3
   },
   "file_extension": ".py",
   "mimetype": "text/x-python",
   "name": "python",
   "nbconvert_exporter": "python",
   "pygments_lexer": "ipython3",
   "version": "3.9.7"
  }
 },
 "nbformat": 4,
 "nbformat_minor": 5
}
