{
 "cells": [
  {
   "cell_type": "code",
   "execution_count": 1,
   "id": "49775646",
   "metadata": {},
   "outputs": [],
   "source": [
    "# 1. any charcter occur in str more no. of tiks than it occurs in patter(ptr)\n",
    "# 2. that character not occur in pattern"
   ]
  },
  {
   "cell_type": "code",
   "execution_count": null,
   "id": "ca01dcd1",
   "metadata": {},
   "outputs": [],
   "source": [
    "def findMinWindow(strr, ptr):\n",
    "    strr_len = len(strr)\n",
    "    ptr_len = len(ptr)\n",
    "    ascii_ptr = [0]*256\n",
    "    ascii_strr = [0]*256\n",
    "    \n",
    "    # counting alphabet and storing their number on their ascii value\n",
    "    for i in strr:\n",
    "        ascii_ptr[ord(i)] += 1\n",
    "    \n",
    "    start = 0\n",
    "    start_index = -1\n",
    "    min_len = 9999999999\n",
    "    count = 0\n",
    "    \n",
    "    "
   ]
  },
  {
   "cell_type": "code",
   "execution_count": null,
   "id": "d70b3c94",
   "metadata": {},
   "outputs": [],
   "source": []
  },
  {
   "cell_type": "code",
   "execution_count": null,
   "id": "84ae9aaf",
   "metadata": {},
   "outputs": [],
   "source": []
  },
  {
   "cell_type": "code",
   "execution_count": 2,
   "id": "7eb26b2f",
   "metadata": {},
   "outputs": [
    {
     "data": {
      "text/plain": [
       "97"
      ]
     },
     "execution_count": 2,
     "metadata": {},
     "output_type": "execute_result"
    }
   ],
   "source": [
    "ord('a')"
   ]
  },
  {
   "cell_type": "code",
   "execution_count": null,
   "id": "f69bad1c",
   "metadata": {},
   "outputs": [],
   "source": []
  }
 ],
 "metadata": {
  "kernelspec": {
   "display_name": "Python 3 (ipykernel)",
   "language": "python",
   "name": "python3"
  },
  "language_info": {
   "codemirror_mode": {
    "name": "ipython",
    "version": 3
   },
   "file_extension": ".py",
   "mimetype": "text/x-python",
   "name": "python",
   "nbconvert_exporter": "python",
   "pygments_lexer": "ipython3",
   "version": "3.9.7"
  }
 },
 "nbformat": 4,
 "nbformat_minor": 5
}
