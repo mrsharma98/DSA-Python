{
 "cells": [
  {
   "cell_type": "code",
   "execution_count": 7,
   "id": "c09f137f",
   "metadata": {},
   "outputs": [],
   "source": [
    "def merge(arr: int, result: int, low: int, mid: int, high: int):\n",
    "    pass\n",
    "\n",
    "\n",
    "def mergeSort(arr: int, result: int, low: int, high: int):\n",
    "    \n",
    "    if (high == low):\n",
    "        return\n",
    "    \n",
    "    mid: int = (low + high)//2\n",
    "    print(\"merge1: \", low, mid, high)\n",
    "    mergeSort(arr, result, low, mid)\n",
    "    print(\"merge2: \", low, mid, high)\n",
    "    mergeSort(arr, result, mid+1, high)\n",
    "    merge(arr, result, low, mid, high)"
   ]
  },
  {
   "cell_type": "code",
   "execution_count": 8,
   "id": "efab6416",
   "metadata": {},
   "outputs": [
    {
     "name": "stdout",
     "output_type": "stream",
     "text": [
      "merge1:  0 1 3\n",
      "merge1:  0 0 1\n",
      "merge2:  0 0 1\n",
      "merge2:  0 1 3\n",
      "merge1:  2 2 3\n",
      "merge2:  2 2 3\n"
     ]
    }
   ],
   "source": [
    "arr = [2,6,4,3]\n",
    "\n",
    "mergeSort(arr, [], 0, len(arr)-1)"
   ]
  },
  {
   "cell_type": "code",
   "execution_count": null,
   "id": "e1849178",
   "metadata": {},
   "outputs": [],
   "source": []
  }
 ],
 "metadata": {
  "kernelspec": {
   "display_name": "Python 3 (ipykernel)",
   "language": "python",
   "name": "python3"
  },
  "language_info": {
   "codemirror_mode": {
    "name": "ipython",
    "version": 3
   },
   "file_extension": ".py",
   "mimetype": "text/x-python",
   "name": "python",
   "nbconvert_exporter": "python",
   "pygments_lexer": "ipython3",
   "version": "3.9.7"
  }
 },
 "nbformat": 4,
 "nbformat_minor": 5
}
