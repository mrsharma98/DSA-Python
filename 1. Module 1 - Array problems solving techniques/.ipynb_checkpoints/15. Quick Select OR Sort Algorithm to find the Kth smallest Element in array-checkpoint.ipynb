{
 "cells": [
  {
   "cell_type": "code",
   "execution_count": 1,
   "id": "770c3646",
   "metadata": {},
   "outputs": [],
   "source": [
    "# Continuation of Kth smallest Element"
   ]
  },
  {
   "cell_type": "code",
   "execution_count": 2,
   "id": "93faaea7",
   "metadata": {},
   "outputs": [],
   "source": [
    "# This is also known as modified Quick Sort"
   ]
  },
  {
   "cell_type": "code",
   "execution_count": 24,
   "id": "d62540f4",
   "metadata": {},
   "outputs": [],
   "source": [
    "def findKthElement(array, low, high, k):\n",
    "    if (k > 0 and k <= (high-low+1)):\n",
    "        index = __divideArray(array, low, high)\n",
    "        print(index, low)\n",
    "        if (index-low == k-1):\n",
    "            return array[index]\n",
    "        if (index-low > k-1):\n",
    "            return findKthElement(array, low, index-1, k)\n",
    "        \n",
    "        return findKthElement(array, index+1, high, k-index+low-1)\n",
    "    \n",
    "    return -1"
   ]
  },
  {
   "cell_type": "code",
   "execution_count": 25,
   "id": "61ab0524",
   "metadata": {},
   "outputs": [],
   "source": [
    "def __divideArray(array, low, high):\n",
    "    pivot = array[high]\n",
    "    i = low\n",
    "    \n",
    "    for j in range(low, high-1):\n",
    "        if (array[j] <= pivot):\n",
    "            temp = array[i]\n",
    "            array[i] = array[j]\n",
    "            array[j] = temp\n",
    "            i += 1\n",
    "    \n",
    "    temp = array[i]\n",
    "    array[i] = array[high]\n",
    "    array[high] = temp\n",
    "    return i"
   ]
  },
  {
   "cell_type": "code",
   "execution_count": 33,
   "id": "98a2f0c1",
   "metadata": {},
   "outputs": [
    {
     "name": "stdout",
     "output_type": "stream",
     "text": [
      "7 0\n",
      "5 0\n",
      "2 0\n",
      "0 0\n",
      "1 1\n"
     ]
    },
    {
     "data": {
      "text/plain": [
       "26"
      ]
     },
     "execution_count": 33,
     "metadata": {},
     "output_type": "execute_result"
    }
   ],
   "source": [
    "array = [54,26,17,31,44,20,55,93,77]\n",
    "findKthElement(array, 0, len(array)-1, 2)"
   ]
  },
  {
   "cell_type": "code",
   "execution_count": null,
   "id": "851b52c1",
   "metadata": {},
   "outputs": [],
   "source": []
  },
  {
   "cell_type": "code",
   "execution_count": 34,
   "id": "604d1513",
   "metadata": {},
   "outputs": [],
   "source": [
    "# this is not a correct algo, requires modifications"
   ]
  },
  {
   "cell_type": "code",
   "execution_count": null,
   "id": "3cc432af",
   "metadata": {},
   "outputs": [],
   "source": []
  }
 ],
 "metadata": {
  "kernelspec": {
   "display_name": "Python 3 (ipykernel)",
   "language": "python",
   "name": "python3"
  },
  "language_info": {
   "codemirror_mode": {
    "name": "ipython",
    "version": 3
   },
   "file_extension": ".py",
   "mimetype": "text/x-python",
   "name": "python",
   "nbconvert_exporter": "python",
   "pygments_lexer": "ipython3",
   "version": "3.9.7"
  }
 },
 "nbformat": 4,
 "nbformat_minor": 5
}
