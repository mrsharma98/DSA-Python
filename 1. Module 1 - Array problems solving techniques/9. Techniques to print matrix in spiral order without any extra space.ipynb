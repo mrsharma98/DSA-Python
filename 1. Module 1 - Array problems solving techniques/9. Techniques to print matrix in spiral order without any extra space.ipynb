{
 "cells": [
  {
   "cell_type": "code",
   "execution_count": 1,
   "id": "5fa8ce38",
   "metadata": {},
   "outputs": [],
   "source": [
    "# Spiral print"
   ]
  },
  {
   "cell_type": "code",
   "execution_count": 32,
   "id": "54cc6bb5",
   "metadata": {},
   "outputs": [],
   "source": [
    "def sprialPrint(matrix, row, col):\n",
    "    k = 0 # starting column\n",
    "    m = col-1 # last column -1\n",
    "    n = 0 # starting row\n",
    "    p = row-1 #last row -1\n",
    "    ans = []\n",
    "    while(k<=m and n<=p):\n",
    "        \n",
    "        # upper row\n",
    "        i = k\n",
    "        for j in range(k, m):\n",
    "            ans.append(matrix[i][j])\n",
    "        \n",
    "        # right column\n",
    "        j = m\n",
    "        for i in range(n, p):\n",
    "            ans.append(matrix[i][j])\n",
    "            \n",
    "        # bottom row\n",
    "        i = p\n",
    "        for j in range(m, k, -1):\n",
    "            ans.append(matrix[i][j])\n",
    "        \n",
    "        # left column\n",
    "        j = k\n",
    "        for i in range(p, k, -1):\n",
    "            ans.append(matrix[i][j])\n",
    "        \n",
    "        k += 1\n",
    "        m -= 1\n",
    "        p -= 1\n",
    "        n += 1\n",
    "    if (row&1 and col&1):\n",
    "        ans.append(matrix[row//2][col//2])\n",
    "    print(ans)"
   ]
  },
  {
   "cell_type": "code",
   "execution_count": 33,
   "id": "d0abb0a5",
   "metadata": {},
   "outputs": [],
   "source": [
    "matrix = [[1,2,3,4,5], [6,7,8,9,10], [11,12,13,14,15], [16,17,18,19,20], [21,22,23,24,25]]"
   ]
  },
  {
   "cell_type": "code",
   "execution_count": 34,
   "id": "516bae1b",
   "metadata": {},
   "outputs": [
    {
     "name": "stdout",
     "output_type": "stream",
     "text": [
      "[1, 2, 3, 4, 5, 10, 15, 20, 25, 24, 23, 22, 21, 16, 11, 6, 7, 8, 9, 14, 19, 18, 17, 12, 13]\n"
     ]
    }
   ],
   "source": [
    "row = len(matrix)\n",
    "col = len(matrix[0])\n",
    "sprialPrint(matrix, row, col)"
   ]
  },
  {
   "cell_type": "code",
   "execution_count": null,
   "id": "40e9d672",
   "metadata": {},
   "outputs": [],
   "source": []
  },
  {
   "cell_type": "code",
   "execution_count": null,
   "id": "761d91c1",
   "metadata": {},
   "outputs": [],
   "source": []
  },
  {
   "cell_type": "code",
   "execution_count": null,
   "id": "ffbc84f0",
   "metadata": {},
   "outputs": [],
   "source": []
  },
  {
   "cell_type": "code",
   "execution_count": 35,
   "id": "dca42b9a",
   "metadata": {},
   "outputs": [],
   "source": [
    "# Print Matrix Diagonally"
   ]
  },
  {
   "cell_type": "code",
   "execution_count": 36,
   "id": "d1ac5055",
   "metadata": {},
   "outputs": [],
   "source": [
    "# Given a matrix of M x N elements (M rows, N columns)\n",
    "# Print all elements of the matrix in diagonal order\n",
    "# Time Complexity O(m*n) and Space Complexity O(1)"
   ]
  },
  {
   "cell_type": "code",
   "execution_count": 37,
   "id": "1e3015a9",
   "metadata": {},
   "outputs": [],
   "source": [
    "# print in 2 half\n",
    "# first half for 1st triangle\n",
    "# second for 2nd triangle"
   ]
  },
  {
   "cell_type": "code",
   "execution_count": 39,
   "id": "4c1e2143",
   "metadata": {},
   "outputs": [],
   "source": [
    "def diagonalPrint(matrix, row, col):\n",
    "    ans = []\n",
    "    m = row\n",
    "    n = col\n",
    "    for k in range(0, m):\n",
    "        i = k\n",
    "        j = 0\n",
    "        while (i>=0):\n",
    "            ans.append(matrix[i][j])\n",
    "            i -= 1\n",
    "            j += 1\n",
    "    \n",
    "    for k in range(1, n):\n",
    "        i = m-1\n",
    "        j = k\n",
    "        while(j<=n-1):\n",
    "            ans.append(matrix[i][j])\n",
    "            i -= 1\n",
    "            j += 1\n",
    "    return ans"
   ]
  },
  {
   "cell_type": "code",
   "execution_count": 40,
   "id": "f8b2546c",
   "metadata": {},
   "outputs": [],
   "source": [
    "matrix = [[1,2,3,4,5], [6,7,8,9,10], [11,12,13,14,15], [16,17,18,19,20]]\n",
    "row = len(matrix)\n",
    "col = len(matrix[0])"
   ]
  },
  {
   "cell_type": "code",
   "execution_count": 41,
   "id": "9f5e509d",
   "metadata": {},
   "outputs": [
    {
     "data": {
      "text/plain": [
       "[1, 6, 2, 11, 7, 3, 16, 12, 8, 4, 17, 13, 9, 5, 18, 14, 10, 19, 15, 20]"
      ]
     },
     "execution_count": 41,
     "metadata": {},
     "output_type": "execute_result"
    }
   ],
   "source": [
    "diagonalPrint(matrix, row, col)"
   ]
  },
  {
   "cell_type": "code",
   "execution_count": null,
   "id": "060649e5",
   "metadata": {},
   "outputs": [],
   "source": []
  }
 ],
 "metadata": {
  "kernelspec": {
   "display_name": "Python 3 (ipykernel)",
   "language": "python",
   "name": "python3"
  },
  "language_info": {
   "codemirror_mode": {
    "name": "ipython",
    "version": 3
   },
   "file_extension": ".py",
   "mimetype": "text/x-python",
   "name": "python",
   "nbconvert_exporter": "python",
   "pygments_lexer": "ipython3",
   "version": "3.9.7"
  }
 },
 "nbformat": 4,
 "nbformat_minor": 5
}
