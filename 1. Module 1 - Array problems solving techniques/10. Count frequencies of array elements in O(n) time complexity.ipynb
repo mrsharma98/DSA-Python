{
 "cells": [
  {
   "cell_type": "code",
   "execution_count": 1,
   "id": "4f91de6d",
   "metadata": {},
   "outputs": [],
   "source": [
    "# Array of length n having integers 1 to n with some elements being repeated.\n",
    "# Count frequencies of all elements from 1 to n.\n",
    "# Time Complexity O(n) and Space Complexity O(1)"
   ]
  },
  {
   "cell_type": "code",
   "execution_count": 2,
   "id": "6cb16cf8",
   "metadata": {},
   "outputs": [],
   "source": [
    "# we add 7 to the value of index whenever that number appears"
   ]
  },
  {
   "cell_type": "code",
   "execution_count": 5,
   "id": "899b12f1",
   "metadata": {},
   "outputs": [],
   "source": [
    "# while traversing if value is more than 7 then just take the mod for the original value"
   ]
  },
  {
   "cell_type": "code",
   "execution_count": 11,
   "id": "f250e1f8",
   "metadata": {},
   "outputs": [],
   "source": [
    "def occurance(array, n):\n",
    "    \n",
    "    for i in range(0, n):\n",
    "        array[i] -= 1\n",
    "        \n",
    "    for i in range(0, n):\n",
    "        array[array[i]%n] = n + array[array[i]%n]\n",
    "        \n",
    "    for i in range(0, n):\n",
    "        print((i+1), \" \", array[i]//n)"
   ]
  },
  {
   "cell_type": "code",
   "execution_count": 13,
   "id": "23bc1ce2",
   "metadata": {},
   "outputs": [
    {
     "name": "stdout",
     "output_type": "stream",
     "text": [
      "1   2\n",
      "2   4\n",
      "3   1\n",
      "4   0\n",
      "5   0\n",
      "6   0\n",
      "7   0\n"
     ]
    }
   ],
   "source": [
    "arr = [1,1,2,2,2,2,3]\n",
    "n = len(arr)\n",
    "occurance(arr, n)"
   ]
  },
  {
   "cell_type": "code",
   "execution_count": null,
   "id": "eab620cc",
   "metadata": {},
   "outputs": [],
   "source": []
  },
  {
   "cell_type": "code",
   "execution_count": null,
   "id": "6323cf7f",
   "metadata": {},
   "outputs": [],
   "source": []
  },
  {
   "cell_type": "code",
   "execution_count": 1,
   "id": "729ae02a",
   "metadata": {},
   "outputs": [],
   "source": [
    "# Majority Number"
   ]
  },
  {
   "cell_type": "code",
   "execution_count": 2,
   "id": "2379dc76",
   "metadata": {},
   "outputs": [],
   "source": [
    "# Given an array of integer, \n",
    "# write an efficient algorithm to find majority number in that array.\n",
    "# Time Complexity O(n) and Space Complexity O(1)"
   ]
  },
  {
   "cell_type": "code",
   "execution_count": 4,
   "id": "646eb422",
   "metadata": {},
   "outputs": [],
   "source": [
    "# Method-1\n",
    "# we can sort and do the stuff\n",
    "\n",
    "# Method-2\n",
    "# use hashmap\n",
    "\n",
    "#method-3\n",
    "# majority number means -- appears equals or more than n/2times in the array\n",
    "# select a number as a majority number.\n",
    "# current number and selected number is same -- increase the count\n",
    "# if different -- decrease the count\n",
    "# if count == 0, means we have selected the wrong number\n",
    "# update it with the current number"
   ]
  },
  {
   "cell_type": "code",
   "execution_count": 12,
   "id": "f4c7cae2",
   "metadata": {},
   "outputs": [],
   "source": [
    "# method - 3\n",
    "def majorityNumber(nums, n):\n",
    "    count = 1\n",
    "    majority = nums[0]\n",
    "    \n",
    "    for i in range(1, len(nums)):\n",
    "        for i in range(1, len(nums)):\n",
    "            if majority == nums[i]:\n",
    "                count += 1\n",
    "            else:\n",
    "                count -= 1\n",
    "                if(count == 0):\n",
    "                    majority = nums[i]\n",
    "                    count = 1\n",
    "    return majority\n",
    "    "
   ]
  },
  {
   "cell_type": "code",
   "execution_count": 13,
   "id": "bf476e54",
   "metadata": {},
   "outputs": [
    {
     "data": {
      "text/plain": [
       "3"
      ]
     },
     "execution_count": 13,
     "metadata": {},
     "output_type": "execute_result"
    }
   ],
   "source": [
    "arr = [2,3,3,3,3,2,2,2]\n",
    "n = len(arr)\n",
    "majorityNumber(arr, n)"
   ]
  },
  {
   "cell_type": "code",
   "execution_count": null,
   "id": "17538e36",
   "metadata": {},
   "outputs": [],
   "source": []
  }
 ],
 "metadata": {
  "kernelspec": {
   "display_name": "Python 3 (ipykernel)",
   "language": "python",
   "name": "python3"
  },
  "language_info": {
   "codemirror_mode": {
    "name": "ipython",
    "version": 3
   },
   "file_extension": ".py",
   "mimetype": "text/x-python",
   "name": "python",
   "nbconvert_exporter": "python",
   "pygments_lexer": "ipython3",
   "version": "3.9.7"
  }
 },
 "nbformat": 4,
 "nbformat_minor": 5
}
