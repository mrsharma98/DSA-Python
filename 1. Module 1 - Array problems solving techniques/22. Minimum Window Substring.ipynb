{
 "cells": [
  {
   "cell_type": "code",
   "execution_count": 1,
   "id": "49775646",
   "metadata": {},
   "outputs": [],
   "source": [
    "# 1. any charcter occur in str more no. of tiks than it occurs in patter(ptr)\n",
    "# 2. that character not occur in pattern"
   ]
  },
  {
   "cell_type": "code",
   "execution_count": 7,
   "id": "ca01dcd1",
   "metadata": {},
   "outputs": [],
   "source": [
    "def findMinWindow(strr, ptr):\n",
    "    strr_len = len(strr)\n",
    "    ptr_len = len(ptr)\n",
    "    \n",
    "    if strr_len < ptr_len:\n",
    "        return \"\"\n",
    "    \n",
    "    ascii_ptr = [0]*256\n",
    "    ascii_strr = [0]*256\n",
    "    \n",
    "    # counting alphabet and storing their number on their ascii value\n",
    "    for i in ptr:\n",
    "        ascii_ptr[ord(i)] += 1\n",
    "    \n",
    "    start = 0\n",
    "    start_index = -1\n",
    "    min_len = 9999999999\n",
    "    count = 0\n",
    "    \n",
    "    for j in range(strr_len):\n",
    "        ascii_strr[ord(strr[j])] += 1\n",
    "        \n",
    "        if (ascii_ptr[ord(strr[j])] != 0 and ascii_strr[ord(strr[j])] <= ascii_ptr[ord(strr[j])]):\n",
    "            count += 1\n",
    "        \n",
    "        if count == ptr_len:\n",
    "            while ((ascii_strr[ord(strr[start])] > ascii_ptr[ord(strr[start])]) or ascii_ptr[ord(strr[start])] == 0):\n",
    "                if (ascii_strr[ord(strr[start])] > ascii_ptr[ord(strr[start])]):\n",
    "                    ascii_strr[ord(strr[start])] -= 1\n",
    "                start += 1\n",
    "            \n",
    "            len_window = j - start + 1\n",
    "            \n",
    "            if min_len > len_window:\n",
    "                min_len = len_window\n",
    "                start_index = start\n",
    "    \n",
    "    if start_index == -1:\n",
    "        return \"\"\n",
    "    \n",
    "    return strr[start_index:start_index+min_len]"
   ]
  },
  {
   "cell_type": "code",
   "execution_count": 8,
   "id": "d70b3c94",
   "metadata": {},
   "outputs": [
    {
     "data": {
      "text/plain": [
       "'BANC'"
      ]
     },
     "execution_count": 8,
     "metadata": {},
     "output_type": "execute_result"
    }
   ],
   "source": [
    "strr = \"ADOBECODEBANC\"\n",
    "ptr = \"ABC\"\n",
    "findMinWindow(strr, ptr)"
   ]
  },
  {
   "cell_type": "code",
   "execution_count": null,
   "id": "84ae9aaf",
   "metadata": {},
   "outputs": [],
   "source": []
  },
  {
   "cell_type": "markdown",
   "id": "fb4d1277",
   "metadata": {},
   "source": [
    "# Practice"
   ]
  },
  {
   "cell_type": "code",
   "execution_count": 25,
   "id": "f69bad1c",
   "metadata": {},
   "outputs": [],
   "source": [
    "def findWindowSubString(strr, ptr):\n",
    "    strr_len = len(strr)\n",
    "    ptr_len = len(ptr)\n",
    "    \n",
    "    if ptr_len>strr_len:\n",
    "        return\n",
    "    \n",
    "    ascii_strr = [0]*256\n",
    "    ascii_ptr = [0]*256\n",
    "    \n",
    "    for i in range(ptr_len):\n",
    "        ascii_ptr[ord(ptr[i])] += 1\n",
    "        \n",
    "    \n",
    "    start = 0\n",
    "    count = 0\n",
    "    min_len = 999999999\n",
    "    start_index = -1\n",
    "    \n",
    "    for j in range(strr_len):\n",
    "        ascii_strr[ord(strr[j])] += 1\n",
    "        \n",
    "        if (ascii_ptr[ord(strr[j])] != 0 and ascii_ptr[ord(strr[j])]>=ascii_strr[ord(strr[j])]):\n",
    "            count += 1\n",
    "        \n",
    "        if count == ptr_len:\n",
    "            while ((ascii_strr[ord(strr[start])] > ascii_ptr[ord(strr[start])]) or ascii_ptr[ord(strr[start])] == 0):\n",
    "                if ascii_strr[ord(strr[start])]>ascii_ptr[ord(strr[start])]:\n",
    "                    ascii_strr[ord(strr[start])] -= 1\n",
    "                start += 1\n",
    "        \n",
    "            window_len = j-start+1\n",
    "            if min_len>window_len:\n",
    "                min_len = window_len\n",
    "                start_index = start\n",
    "    \n",
    "    if start_index == -1:\n",
    "        return \"\"\n",
    "    \n",
    "    return strr[start_index: start_index+min_len]"
   ]
  },
  {
   "cell_type": "code",
   "execution_count": 26,
   "id": "75e48324",
   "metadata": {},
   "outputs": [
    {
     "name": "stdout",
     "output_type": "stream",
     "text": [
      "4 9\n"
     ]
    },
    {
     "data": {
      "text/plain": [
       "'BANC'"
      ]
     },
     "execution_count": 26,
     "metadata": {},
     "output_type": "execute_result"
    }
   ],
   "source": [
    "strr = \"ADOBECODEBANC\"\n",
    "ptr = \"ABC\"\n",
    "findWindowSubString(strr, ptr)"
   ]
  },
  {
   "cell_type": "code",
   "execution_count": null,
   "id": "25e519a5",
   "metadata": {},
   "outputs": [],
   "source": []
  }
 ],
 "metadata": {
  "kernelspec": {
   "display_name": "Python 3 (ipykernel)",
   "language": "python",
   "name": "python3"
  },
  "language_info": {
   "codemirror_mode": {
    "name": "ipython",
    "version": 3
   },
   "file_extension": ".py",
   "mimetype": "text/x-python",
   "name": "python",
   "nbconvert_exporter": "python",
   "pygments_lexer": "ipython3",
   "version": "3.9.7"
  }
 },
 "nbformat": 4,
 "nbformat_minor": 5
}
