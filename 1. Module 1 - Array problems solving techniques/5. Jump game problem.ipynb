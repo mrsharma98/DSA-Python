{
 "cells": [
  {
   "cell_type": "code",
   "execution_count": 1,
   "id": "4fc022c6",
   "metadata": {},
   "outputs": [],
   "source": [
    "# You have an array of non-negative integers,\n",
    "# you are initially positioned at the first index of the array.\n",
    "# Each element in the array represents your maximum jump length at that position.\n",
    "# Determine if you are able to reach the last index in O(n) Time complexity and O(1) Space Complexity."
   ]
  },
  {
   "cell_type": "code",
   "execution_count": 4,
   "id": "dbbf1738",
   "metadata": {},
   "outputs": [],
   "source": [
    "def jump(nums):\n",
    "    a = nums[0]\n",
    "    b = nums[0]\n",
    "    jump = 1\n",
    "    \n",
    "    for i in range(1, len(nums)):\n",
    "        if (i == len(nums)-1):\n",
    "            return jump\n",
    "        \n",
    "        a -= 1\n",
    "        b -= 1\n",
    "        \n",
    "        if (nums[i] > b):\n",
    "            b = nums[i]\n",
    "            \n",
    "        if (a == 0):\n",
    "            jump += 1\n",
    "            a = b"
   ]
  },
  {
   "cell_type": "code",
   "execution_count": 5,
   "id": "894db3f6",
   "metadata": {},
   "outputs": [
    {
     "data": {
      "text/plain": [
       "3"
      ]
     },
     "execution_count": 5,
     "metadata": {},
     "output_type": "execute_result"
    }
   ],
   "source": [
    "nums = [1, 3, 5,8,9,2,6,7,6,8,9]\n",
    "jump(nums)"
   ]
  },
  {
   "cell_type": "code",
   "execution_count": null,
   "id": "31fd9d30",
   "metadata": {},
   "outputs": [],
   "source": []
  },
  {
   "cell_type": "code",
   "execution_count": null,
   "id": "4e2430ff",
   "metadata": {},
   "outputs": [],
   "source": []
  },
  {
   "cell_type": "code",
   "execution_count": null,
   "id": "b228474b",
   "metadata": {},
   "outputs": [],
   "source": []
  },
  {
   "cell_type": "code",
   "execution_count": 1,
   "id": "b7d227be",
   "metadata": {},
   "outputs": [],
   "source": [
    "# Remove duplicates in-place"
   ]
  },
  {
   "cell_type": "code",
   "execution_count": 17,
   "id": "0a69b0c6",
   "metadata": {},
   "outputs": [],
   "source": [
    "def removeDuplicates(arr, n):\n",
    "    if (n == 0 or n == 1):\n",
    "        return n\n",
    "    \n",
    "    j = 0\n",
    "    for i in range(n-1):\n",
    "        if (arr[i] != arr[i+1]):\n",
    "            arr[j] = arr[i]\n",
    "            j += 1\n",
    "    \n",
    "    arr[j] = arr[n-1]\n",
    "    j += 1\n",
    "    print(arr)\n",
    "    return j"
   ]
  },
  {
   "cell_type": "code",
   "execution_count": 18,
   "id": "163b31d2",
   "metadata": {},
   "outputs": [
    {
     "name": "stdout",
     "output_type": "stream",
     "text": [
      "[0, 1, 2, 3, 4, 2, 2, 3, 3, 4]\n"
     ]
    },
    {
     "data": {
      "text/plain": [
       "5"
      ]
     },
     "execution_count": 18,
     "metadata": {},
     "output_type": "execute_result"
    }
   ],
   "source": [
    "arr = [0,0,1,1,1,2,2,3,3,4]\n",
    "removeDuplicates(arr, len(arr))"
   ]
  },
  {
   "cell_type": "code",
   "execution_count": null,
   "id": "5c5dedbd",
   "metadata": {},
   "outputs": [],
   "source": []
  }
 ],
 "metadata": {
  "kernelspec": {
   "display_name": "Python 3 (ipykernel)",
   "language": "python",
   "name": "python3"
  },
  "language_info": {
   "codemirror_mode": {
    "name": "ipython",
    "version": 3
   },
   "file_extension": ".py",
   "mimetype": "text/x-python",
   "name": "python",
   "nbconvert_exporter": "python",
   "pygments_lexer": "ipython3",
   "version": "3.9.7"
  }
 },
 "nbformat": 4,
 "nbformat_minor": 5
}
