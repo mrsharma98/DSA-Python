{
 "cells": [
  {
   "cell_type": "raw",
   "id": "307e232a",
   "metadata": {},
   "source": [
    "Given a binary matrix, find the maximum size rectangle binary-sub-matrix with all 1’s"
   ]
  },
  {
   "cell_type": "raw",
   "id": "3353a940",
   "metadata": {},
   "source": [
    "https://leetcode.com/problems/maximal-rectangle/"
   ]
  },
  {
   "cell_type": "code",
   "execution_count": 1,
   "id": "39694a72",
   "metadata": {},
   "outputs": [],
   "source": [
    "# The concept is same as in histogram problem"
   ]
  },
  {
   "cell_type": "code",
   "execution_count": 2,
   "id": "5da66042",
   "metadata": {},
   "outputs": [],
   "source": [
    "#Approach"
   ]
  },
  {
   "cell_type": "code",
   "execution_count": 3,
   "id": "70bd1b4e",
   "metadata": {},
   "outputs": [],
   "source": [
    "class Solution:\n",
    "    \n",
    "    def nextSmallerElement(self, heights, n):\n",
    "        s = [-1]\n",
    "        ans = [-1]*n\n",
    "        \n",
    "        for i in range(n-1, -1, -1):\n",
    "            curr = heights[i]\n",
    "            while(s[-1]!=-1 and heights[s[-1]]>=curr):\n",
    "                s.pop()\n",
    "            ans[i] = s[-1]\n",
    "            s.append(i)\n",
    "        return ans\n",
    "    \n",
    "    def prevSmallerElement(self, heights, n):\n",
    "        s = [-1]\n",
    "        ans = [-1]*n\n",
    "        \n",
    "        for i in range(n):\n",
    "            curr = heights[i]\n",
    "            while (s[-1]!=-1 and heights[s[-1]]>=curr):\n",
    "                s.pop()\n",
    "            \n",
    "            ans[i] = s[-1]\n",
    "            s.append(i)\n",
    "        return ans\n",
    "                \n",
    "    \n",
    "    def largestRect(self, heights, n):\n",
    "\n",
    "        nxt = self.nextSmallerElement(heights, n)\n",
    "        prev = self.prevSmallerElement(heights, n)\n",
    "        area = -999999\n",
    "        \n",
    "        for i in range(n):\n",
    "            leng = heights[i]\n",
    "            if nxt[i]==-1:\n",
    "                nxt[i]=n\n",
    "            bred = nxt[i]-prev[i]-1\n",
    "            newArea = leng*bred\n",
    "            area = max(newArea, area)\n",
    "        \n",
    "        return area\n",
    "    \n",
    "    def maximalRect(self, mat, n, m):\n",
    "        # compute area for first row\n",
    "        area = self.largestRect(mat[0], m)\n",
    "        \n",
    "        for i in range(1, n):\n",
    "            for j in range(m):\n",
    "                if mat[i][j]>0:\n",
    "                    # update mat element height\n",
    "                    mat[i][j] += mat[i-1][j]\n",
    "                # row has updated now\n",
    "            # get area\n",
    "            area = max(area, self.largestRect(mat[i], m))\n",
    "                \n",
    "                "
   ]
  },
  {
   "cell_type": "code",
   "execution_count": null,
   "id": "ba544622",
   "metadata": {},
   "outputs": [],
   "source": []
  }
 ],
 "metadata": {
  "kernelspec": {
   "display_name": "Python 3 (ipykernel)",
   "language": "python",
   "name": "python3"
  },
  "language_info": {
   "codemirror_mode": {
    "name": "ipython",
    "version": 3
   },
   "file_extension": ".py",
   "mimetype": "text/x-python",
   "name": "python",
   "nbconvert_exporter": "python",
   "pygments_lexer": "ipython3",
   "version": "3.9.7"
  }
 },
 "nbformat": 4,
 "nbformat_minor": 5
}
