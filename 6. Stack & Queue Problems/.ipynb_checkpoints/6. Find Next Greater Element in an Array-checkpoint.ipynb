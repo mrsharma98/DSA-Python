{
 "cells": [
  {
   "cell_type": "raw",
   "id": "73abc9c8",
   "metadata": {},
   "source": [
    "Given an array, print the Next Greater Element for every element. The Next greater Element for an element a is the first greater element on the right side of a in array. Elements for which no greater element exist, consider next greater element as -1"
   ]
  },
  {
   "cell_type": "code",
   "execution_count": null,
   "id": "99737ee3",
   "metadata": {},
   "outputs": [],
   "source": []
  },
  {
   "cell_type": "raw",
   "id": "477e60f5",
   "metadata": {},
   "source": [
    "Approach\n",
    "1. start from 0th element, and push into the stack\n",
    "2. if next number is less then we store it\n",
    "3. if next number is more, we got NGE and check with stored Num"
   ]
  },
  {
   "cell_type": "code",
   "execution_count": 29,
   "id": "804c0c99",
   "metadata": {},
   "outputs": [],
   "source": [
    "class Solution:\n",
    "    def nextGreaterElement(self, arr, n):\n",
    "        stack = []\n",
    "        ans = [-1]*n\n",
    "        for i in range(n):\n",
    "            curr = arr[i]\n",
    "            j = i-1\n",
    "            while len(stack)>0 and curr>stack[-1] and j>-1:\n",
    "                if ans[j]==-1:\n",
    "                    ans[j] = curr\n",
    "                j -= 1\n",
    "                stack.pop()\n",
    "                \n",
    "            stack.append(arr[i])\n",
    "        return ans"
   ]
  },
  {
   "cell_type": "code",
   "execution_count": 30,
   "id": "502fd719",
   "metadata": {},
   "outputs": [],
   "source": [
    "s = Solution()"
   ]
  },
  {
   "cell_type": "code",
   "execution_count": 31,
   "id": "26fcc32c",
   "metadata": {},
   "outputs": [
    {
     "data": {
      "text/plain": [
       "[-1, 10, 10, -1, 9, 11, -1, -1]"
      ]
     },
     "execution_count": 31,
     "metadata": {},
     "output_type": "execute_result"
    }
   ],
   "source": [
    "arr = [12,8,6,10,7,9,11,1]\n",
    "s.nextGreaterElement(arr, len(arr))"
   ]
  },
  {
   "cell_type": "code",
   "execution_count": null,
   "id": "e8e458be",
   "metadata": {},
   "outputs": [],
   "source": []
  }
 ],
 "metadata": {
  "kernelspec": {
   "display_name": "Python 3 (ipykernel)",
   "language": "python",
   "name": "python3"
  },
  "language_info": {
   "codemirror_mode": {
    "name": "ipython",
    "version": 3
   },
   "file_extension": ".py",
   "mimetype": "text/x-python",
   "name": "python",
   "nbconvert_exporter": "python",
   "pygments_lexer": "ipython3",
   "version": "3.9.7"
  }
 },
 "nbformat": 4,
 "nbformat_minor": 5
}
