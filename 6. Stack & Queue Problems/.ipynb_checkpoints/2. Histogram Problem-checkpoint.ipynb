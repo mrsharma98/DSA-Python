{
 "cells": [
  {
   "cell_type": "raw",
   "id": "82b1c875",
   "metadata": {},
   "source": [
    "Given n non-negative integers representing the histogram's bar height where the width of each bar is 1, find the area of largest rectangle in the this histogram"
   ]
  },
  {
   "cell_type": "code",
   "execution_count": null,
   "id": "3e653fa2",
   "metadata": {},
   "outputs": [],
   "source": []
  },
  {
   "cell_type": "raw",
   "id": "0fd2f6dc",
   "metadata": {},
   "source": [
    "Approach-1\n",
    "\n",
    "Brute Force Approach:-\n",
    "\n",
    "area = lenght * breadth\n",
    "lenght is constant -> given as heights\n",
    "breadth -> varies, how many heights to include\n",
    "\n",
    "[2, 1, 5, 6, 2, 3]\n",
    "\n",
    "-- 2 --> we cannot extend on left or right, so area is 2\n",
    "-- 1 --> we can extend on left and on right-> 1*6 = 6\n",
    "-- 5 --> we cannot extend on left, but can extend on right for 6 --> 5*2 = 10\n",
    "and so on.\n",
    "\n",
    "for (i=0, i<n):\n",
    "    while (left):\n",
    "        ----\n",
    "    while (right):\n",
    "        ----\n",
    "     area = ---\n",
    "     maxArea ----\n",
    "     \n",
    "TC:- O(n^2)"
   ]
  },
  {
   "cell_type": "raw",
   "id": "01702ddb",
   "metadata": {},
   "source": [
    "Apprach-2\n",
    "\n",
    "-- next smaller number index in right and left\n",
    "-- width = next-prev-1\n",
    "    next = next smaller height, prev = prev smaller height\n",
    "\n",
    "next[] -- index of next smaller element\n",
    "prev[] -- index of prev smaller element\n",
    "\n",
    "\n"
   ]
  },
  {
   "cell_type": "code",
   "execution_count": 25,
   "id": "0ead3c87",
   "metadata": {},
   "outputs": [],
   "source": [
    "from collections import deque\n",
    "\n",
    "class Solution:\n",
    "    \n",
    "    def nextSmallerElement(self, heights, n):\n",
    "        s = deque()\n",
    "        s.append(-1)\n",
    "        ans = [-1]*n\n",
    "        \n",
    "        for i in range(n-1, -1, -1):\n",
    "            curr = heights[i]\n",
    "            while (s[-1]!=-1 and heights[s[-1]]>=curr):\n",
    "                s.pop()\n",
    "            \n",
    "            ans[i] = s[-1]\n",
    "            s.append(i)\n",
    "        print(ans)\n",
    "        return ans\n",
    "    \n",
    "    def prevSmallerElement(self, heights, n):\n",
    "        s = deque()\n",
    "        s.append(-1)\n",
    "        ans = [-1]*n\n",
    "        \n",
    "        for i in range(n):\n",
    "            curr = heights[i]\n",
    "            while (s[-1]!=-1 and heights[s[-1]]>=curr):\n",
    "                s.pop()\n",
    "            \n",
    "            ans[i] = s[-1]\n",
    "            s.append(i)\n",
    "        print(ans)\n",
    "        return ans\n",
    "        \n",
    "    \n",
    "    def largestRectangleArea(self, heights):\n",
    "        n = len(heights)\n",
    "        \n",
    "        nxt = self.nextSmallerElement(heights, n)\n",
    "        prev = self.prevSmallerElement(heights, n)\n",
    "        \n",
    "        area = 0\n",
    "        \n",
    "        for i in range(n):\n",
    "            lenOfRect = heights[i]\n",
    "            bthOfRect = nxt[i] - prev[i] -1\n",
    "            \n",
    "            # if [2,2,2,2] -- here nxt = prev = -1\n",
    "            # prev = -1, is fine, but if nxt=-1, then update nxt=n\n",
    "            if nxt[i] == -1:\n",
    "                nxt[i] = n\n",
    "            newArea = lenOfRect*bthOfRect\n",
    "            print(newArea, heights[i])\n",
    "            area = max(area, newArea)\n",
    "            \n",
    "        return area"
   ]
  },
  {
   "cell_type": "code",
   "execution_count": 26,
   "id": "fd99f975",
   "metadata": {},
   "outputs": [],
   "source": [
    "s = Solution()"
   ]
  },
  {
   "cell_type": "code",
   "execution_count": 27,
   "id": "5fc9c970",
   "metadata": {},
   "outputs": [
    {
     "name": "stdout",
     "output_type": "stream",
     "text": [
      "[1, -1, 4, 4, -1, -1]\n",
      "[-1, -1, 1, 2, 1, 4]\n",
      "2 2\n",
      "-1 1\n",
      "10 5\n",
      "6 6\n",
      "-6 2\n",
      "-18 3\n"
     ]
    },
    {
     "data": {
      "text/plain": [
       "10"
      ]
     },
     "execution_count": 27,
     "metadata": {},
     "output_type": "execute_result"
    }
   ],
   "source": [
    "s.largestRectangleArea([2,1,5,6,2,3])"
   ]
  },
  {
   "cell_type": "code",
   "execution_count": null,
   "id": "b891a3a4",
   "metadata": {},
   "outputs": [],
   "source": []
  },
  {
   "cell_type": "code",
   "execution_count": null,
   "id": "d1235dd0",
   "metadata": {},
   "outputs": [],
   "source": []
  },
  {
   "cell_type": "code",
   "execution_count": null,
   "id": "ffc91dfc",
   "metadata": {},
   "outputs": [],
   "source": []
  },
  {
   "cell_type": "raw",
   "id": "424effc3",
   "metadata": {},
   "source": [
    "Next Smaller element (using Stack):\n",
    "\n",
    "    \n",
    "stack = [-1]\n",
    "start from end of the list\n",
    "there can be 2 cases --\n",
    "    1. top is smaller than curr\n",
    "    2. top is greater than curr\n",
    "\n",
    "if top is smaller-->\n",
    "    ans=stack.top -- push (curr)\n",
    "\n",
    "if top is greater-->\n",
    "    while stack.top<curr:\n",
    "        stack.pop()\n",
    "    ans = stack.top()\n",
    "    push (curr)"
   ]
  },
  {
   "cell_type": "code",
   "execution_count": null,
   "id": "ea8f737c",
   "metadata": {},
   "outputs": [],
   "source": []
  }
 ],
 "metadata": {
  "kernelspec": {
   "display_name": "Python 3 (ipykernel)",
   "language": "python",
   "name": "python3"
  },
  "language_info": {
   "codemirror_mode": {
    "name": "ipython",
    "version": 3
   },
   "file_extension": ".py",
   "mimetype": "text/x-python",
   "name": "python",
   "nbconvert_exporter": "python",
   "pygments_lexer": "ipython3",
   "version": "3.9.7"
  }
 },
 "nbformat": 4,
 "nbformat_minor": 5
}
