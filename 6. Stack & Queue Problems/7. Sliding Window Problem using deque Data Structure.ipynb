{
 "cells": [
  {
   "cell_type": "raw",
   "id": "b055841e",
   "metadata": {},
   "source": [
    "Given an array and an integer K, find the maximum for each and every contiguous subarray of size k"
   ]
  },
  {
   "cell_type": "raw",
   "id": "aab22425",
   "metadata": {},
   "source": [
    "Approach-1\n",
    "\n",
    "-- use max heap\n",
    "-- but TC is bit more"
   ]
  },
  {
   "cell_type": "raw",
   "id": "642d0613",
   "metadata": {},
   "source": [
    "Approach-2\n",
    "\n",
    "-- use deque\n",
    "-- insert from rear end\n",
    "-- whenerev we want to remove then remove from front end\n",
    "-- we will use index, so as to keep the track on if the index is a part of current window\n",
    "\n",
    "-- watch video for clarification"
   ]
  },
  {
   "cell_type": "code",
   "execution_count": 2,
   "id": "5df812fd",
   "metadata": {},
   "outputs": [],
   "source": [
    "from collections import deque\n",
    "\n",
    "class Solution:\n",
    "    def maxSlidingWindow(self, arr, k):\n",
    "        q = deque()\n",
    "        ans = []\n",
    "        n = len(arr)\n",
    "        for i in range(k):\n",
    "            while q and arr[i]>=arr[q[-1]]:\n",
    "                q.pop()\n",
    "            q.append(i)\n",
    "        \n",
    "        for i in range(k, n):\n",
    "            ans.append(arr[q[0]])\n",
    "            while q and q[0]<=i-k:\n",
    "                q.popleft()\n",
    "            while q and arr[i]>=arr[q[-1]]:\n",
    "                q.pop()\n",
    "            q.append(i)\n",
    "        \n",
    "        ans.append(arr[q[0]])\n",
    "        \n",
    "        return ans"
   ]
  },
  {
   "cell_type": "code",
   "execution_count": null,
   "id": "caab6ef1",
   "metadata": {},
   "outputs": [],
   "source": []
  }
 ],
 "metadata": {
  "kernelspec": {
   "display_name": "Python 3 (ipykernel)",
   "language": "python",
   "name": "python3"
  },
  "language_info": {
   "codemirror_mode": {
    "name": "ipython",
    "version": 3
   },
   "file_extension": ".py",
   "mimetype": "text/x-python",
   "name": "python",
   "nbconvert_exporter": "python",
   "pygments_lexer": "ipython3",
   "version": "3.9.7"
  }
 },
 "nbformat": 4,
 "nbformat_minor": 5
}
