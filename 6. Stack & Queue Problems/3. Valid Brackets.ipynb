{
 "cells": [
  {
   "cell_type": "raw",
   "id": "50222fbe",
   "metadata": {},
   "source": [
    "Given a string s containing just the characters '(', ')', '{', '}', '[' and ']', determine if the input string is valid.\n",
    "\n",
    "An input string is valid if:\n",
    "\n",
    "Open brackets must be closed by the same type of brackets.\n",
    "Open brackets must be closed in the correct order."
   ]
  },
  {
   "cell_type": "code",
   "execution_count": null,
   "id": "a109d74a",
   "metadata": {},
   "outputs": [],
   "source": [
    "class Solution:\n",
    "    \n",
    "    def validBrackets(self, string):\n",
    "        stack = []\n",
    "        \n",
    "        for i in string:\n",
    "            if (i=='(' or i=='[' or i=='{'):\n",
    "                stack.append(i)\n",
    "            else:\n",
    "                if (len(stack)<1):\n",
    "                    return False\n",
    "                top = stack[-1]\n",
    "                if (i==')' and top=='(') or (i==']' and top=='[') or (i=='{' and i=='}'):\n",
    "                    stack.pop()\n",
    "                else:\n",
    "                    return False\n",
    "        \n",
    "        if len(stack)==0:\n",
    "            return True\n",
    "        \n",
    "        return False"
   ]
  }
 ],
 "metadata": {
  "kernelspec": {
   "display_name": "Python 3 (ipykernel)",
   "language": "python",
   "name": "python3"
  },
  "language_info": {
   "codemirror_mode": {
    "name": "ipython",
    "version": 3
   },
   "file_extension": ".py",
   "mimetype": "text/x-python",
   "name": "python",
   "nbconvert_exporter": "python",
   "pygments_lexer": "ipython3",
   "version": "3.9.7"
  }
 },
 "nbformat": 4,
 "nbformat_minor": 5
}
