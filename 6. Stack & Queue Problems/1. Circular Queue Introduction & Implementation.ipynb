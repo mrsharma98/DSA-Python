{
 "cells": [
  {
   "cell_type": "raw",
   "id": "cb112506",
   "metadata": {},
   "source": [
    "circular queue is a linear data structure in which operations are performed based on the FIFO (First In First Out) principle; t?he last position is connected back to the first position to make a circle"
   ]
  },
  {
   "cell_type": "code",
   "execution_count": null,
   "id": "b6e9ce8f",
   "metadata": {},
   "outputs": [],
   "source": []
  },
  {
   "cell_type": "code",
   "execution_count": 2,
   "id": "8846c2ba",
   "metadata": {},
   "outputs": [],
   "source": [
    "class CircularQueue:\n",
    "    def __init__(self, size):\n",
    "        self.size = size\n",
    "        self.queue = [None]*size\n",
    "        self.front = self.rear = -1\n",
    "        \n",
    "    def enqueue(self, data):\n",
    "        # checking if Queue is full\n",
    "        if (self.rear+1)%self.size == self.front:\n",
    "            print(\"The Circular queue is full\")\n",
    "            return\n",
    "        \n",
    "        # checking if this is the first time we are inserting a data\n",
    "        elif (self.front == -1):\n",
    "            self.front = self.rear = 0\n",
    "            self.queue[self.rear] = data\n",
    "            return\n",
    "        \n",
    "        # just insert the data in queue\n",
    "        else:\n",
    "            self.rear = (self.rear+1)%self.size\n",
    "            self.queue[self.rear] = data\n",
    "            return\n",
    "    \n",
    "    def dequeue(self):\n",
    "        # if queue is empty\n",
    "        if (self.front == -1):\n",
    "            print(\"The Circular queue is empty\")\n",
    "            return\n",
    "        \n",
    "        # if there is just one element in the queue\n",
    "        elif (self.front == self.rear):\n",
    "            temp = self.queue[self.front]\n",
    "            self.front = self.rear = -1\n",
    "            return temp\n",
    "        \n",
    "        # just removing an element from the front end\n",
    "        else:\n",
    "            temp = self.queue[self.front]\n",
    "            self.front = (self.front+1)%self.size\n",
    "            return temp        "
   ]
  },
  {
   "cell_type": "code",
   "execution_count": null,
   "id": "57ef2367",
   "metadata": {},
   "outputs": [],
   "source": []
  }
 ],
 "metadata": {
  "kernelspec": {
   "display_name": "Python 3 (ipykernel)",
   "language": "python",
   "name": "python3"
  },
  "language_info": {
   "codemirror_mode": {
    "name": "ipython",
    "version": 3
   },
   "file_extension": ".py",
   "mimetype": "text/x-python",
   "name": "python",
   "nbconvert_exporter": "python",
   "pygments_lexer": "ipython3",
   "version": "3.9.7"
  }
 },
 "nbformat": 4,
 "nbformat_minor": 5
}
