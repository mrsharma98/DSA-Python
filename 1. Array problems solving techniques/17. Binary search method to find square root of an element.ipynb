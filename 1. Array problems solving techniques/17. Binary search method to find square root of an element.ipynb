{
 "cells": [
  {
   "cell_type": "code",
   "execution_count": 2,
   "id": "2c5e4fcf",
   "metadata": {},
   "outputs": [],
   "source": [
    "# Find square root of Guven Num without sqrt() function\n",
    "# Time Complexity O(Logn) and No Space Complexity"
   ]
  },
  {
   "cell_type": "code",
   "execution_count": null,
   "id": "3322a23b",
   "metadata": {},
   "outputs": [],
   "source": []
  },
  {
   "cell_type": "code",
   "execution_count": 14,
   "id": "7077182e",
   "metadata": {},
   "outputs": [],
   "source": [
    "def squareRoot(num):\n",
    "    start, end = 0, num\n",
    "    mid = start + (end-start)//2\n",
    "    \n",
    "    while (start<=end):\n",
    "        if mid*mid == num:\n",
    "            return mid\n",
    "        elif mid*mid < num:\n",
    "            start = mid+1\n",
    "            ans = mid\n",
    "        else:\n",
    "            end = mid - 1\n",
    "        mid = start + (end-start)//2\n",
    "    return ans"
   ]
  },
  {
   "cell_type": "code",
   "execution_count": 19,
   "id": "be924050",
   "metadata": {},
   "outputs": [
    {
     "data": {
      "text/plain": [
       "5"
      ]
     },
     "execution_count": 19,
     "metadata": {},
     "output_type": "execute_result"
    }
   ],
   "source": [
    "squareRoot(35)"
   ]
  },
  {
   "cell_type": "code",
   "execution_count": null,
   "id": "19c564e6",
   "metadata": {},
   "outputs": [],
   "source": []
  },
  {
   "cell_type": "code",
   "execution_count": 20,
   "id": "573482e7",
   "metadata": {},
   "outputs": [],
   "source": [
    "# Find Row with Max 1's"
   ]
  },
  {
   "cell_type": "code",
   "execution_count": 23,
   "id": "dda5af7c",
   "metadata": {},
   "outputs": [],
   "source": [
    "# ***if something is sorted then first think of Binary Search***"
   ]
  },
  {
   "cell_type": "code",
   "execution_count": null,
   "id": "aec72bcf",
   "metadata": {},
   "outputs": [],
   "source": [
    "# A 2-D array of 1's and 0's is given. \n",
    "# Find the row with max 1's \n",
    "# Time Complexity O(nlogn) and Space Complexity O(1).\n",
    "# The array is sorted row wise (all 0's in a row are followed by all 1's"
   ]
  },
  {
   "cell_type": "code",
   "execution_count": null,
   "id": "1bf6b4a7",
   "metadata": {},
   "outputs": [],
   "source": []
  },
  {
   "cell_type": "code",
   "execution_count": 24,
   "id": "908028b1",
   "metadata": {},
   "outputs": [],
   "source": [
    "def binarySearch(array, low, high):\n",
    "    if (high>=low):\n",
    "        mid = low + (high-low)//2\n",
    "        \n",
    "        if ((mid == 0 or (array[mid] == 0)) and array[mid] == 1):\n",
    "            return mid\n",
    "        elif (array[mid] == 0):\n",
    "            return binarySearch(array, mid+1, high)\n",
    "        else:\n",
    "            return binarySearch(array, low, mid-1)\n",
    "    return -1"
   ]
  },
  {
   "cell_type": "code",
   "execution_count": 29,
   "id": "49154ff2",
   "metadata": {},
   "outputs": [],
   "source": [
    "def findRow(matrix):\n",
    "    max_row_index = -1\n",
    "    maxx = -1\n",
    "    row = len(matrix)\n",
    "    col = len(matrix[0])\n",
    "    for i in range(row):\n",
    "        index = binarySearch(matrix[i], 0, col-1)\n",
    "        \n",
    "        if(index != -1 and col-index > maxx):\n",
    "            maxx = col - index\n",
    "            max_row_index = i\n",
    "    \n",
    "    return max_row_index+1"
   ]
  },
  {
   "cell_type": "code",
   "execution_count": 30,
   "id": "4c190421",
   "metadata": {},
   "outputs": [
    {
     "data": {
      "text/plain": [
       "4"
      ]
     },
     "execution_count": 30,
     "metadata": {},
     "output_type": "execute_result"
    }
   ],
   "source": [
    "matrix = [[0,1,1,1], [0,0,1,1], [0,0,0,1], [1,1,1,1]]\n",
    "findRow(matrix)"
   ]
  },
  {
   "cell_type": "code",
   "execution_count": null,
   "id": "9ce3482c",
   "metadata": {},
   "outputs": [],
   "source": []
  },
  {
   "cell_type": "code",
   "execution_count": null,
   "id": "f35b47fe",
   "metadata": {},
   "outputs": [],
   "source": []
  },
  {
   "cell_type": "code",
   "execution_count": null,
   "id": "1d5a5892",
   "metadata": {},
   "outputs": [],
   "source": []
  },
  {
   "cell_type": "raw",
   "id": "a2588de5",
   "metadata": {},
   "source": [
    "Practice"
   ]
  },
  {
   "cell_type": "code",
   "execution_count": 18,
   "id": "c500602d",
   "metadata": {},
   "outputs": [],
   "source": [
    "def binarySearch(array, low, high):\n",
    "    if (high>=low):\n",
    "        mid = low+(high-low)//2\n",
    "        \n",
    "        if ((mid==0 or array[mid-1]==0) and array[mid]==1):\n",
    "            return mid\n",
    "        \n",
    "        \n",
    "        elif array[mid]==0:\n",
    "            return binarySearch(array, mid+1, high)\n",
    "        else:\n",
    "            return binarySearch(array, low, mid-1)\n",
    "    return -1\n",
    "\n",
    "\n",
    "def findRow(matrix):\n",
    "    row = len(matrix)\n",
    "    col = len(matrix[0])\n",
    "    index = 0\n",
    "    max_row_index = 0\n",
    "    maxx = -1\n",
    "    \n",
    "    \n",
    "    for i in range(row):\n",
    "        index = binarySearch(matrix[i], 0, col-1)\n",
    "        if (index!=-1 and (col-index)>maxx):\n",
    "            max_row_index = i\n",
    "            maxx = col-index\n",
    "            \n",
    "    return max_row_index+1"
   ]
  },
  {
   "cell_type": "code",
   "execution_count": 21,
   "id": "1365fc73",
   "metadata": {},
   "outputs": [
    {
     "data": {
      "text/plain": [
       "4"
      ]
     },
     "execution_count": 21,
     "metadata": {},
     "output_type": "execute_result"
    }
   ],
   "source": [
    "matrix = [[0,1,1,1], [0,0,1,1], [0,0,0,1], [1,1,1,1]]\n",
    "findRow(matrix)"
   ]
  },
  {
   "cell_type": "code",
   "execution_count": null,
   "id": "cda1cb4c",
   "metadata": {},
   "outputs": [],
   "source": []
  }
 ],
 "metadata": {
  "kernelspec": {
   "display_name": "Python 3 (ipykernel)",
   "language": "python",
   "name": "python3"
  },
  "language_info": {
   "codemirror_mode": {
    "name": "ipython",
    "version": 3
   },
   "file_extension": ".py",
   "mimetype": "text/x-python",
   "name": "python",
   "nbconvert_exporter": "python",
   "pygments_lexer": "ipython3",
   "version": "3.9.7"
  }
 },
 "nbformat": 4,
 "nbformat_minor": 5
}
