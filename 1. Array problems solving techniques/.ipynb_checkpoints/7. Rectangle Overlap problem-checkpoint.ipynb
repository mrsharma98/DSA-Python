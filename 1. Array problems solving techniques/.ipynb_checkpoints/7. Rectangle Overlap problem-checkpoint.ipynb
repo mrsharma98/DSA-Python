{
 "cells": [
  {
   "cell_type": "code",
   "execution_count": 1,
   "id": "f20c4621",
   "metadata": {},
   "outputs": [],
   "source": [
    "# For rectange Overlap\n",
    "\n",
    "# y co-ordinate(Top left point of one rect) > y co-ordinate(bottom right point of other rect)\n",
    "# x co-ordinate(Top left point of one rect) < x co-ordinate(bottom right point of other rect)"
   ]
  },
  {
   "cell_type": "code",
   "execution_count": 2,
   "id": "83ca3c8e",
   "metadata": {},
   "outputs": [],
   "source": [
    "# For rectange NOT Overlap\n",
    "\n",
    "# y co-ordinate(Top left point of one rect) < y co-ordinate(bottom right point of other rect)\n",
    "# x co-ordinate(Top left point of one rect) > x co-ordinate(bottom right point of other rect)"
   ]
  },
  {
   "cell_type": "code",
   "execution_count": 39,
   "id": "4e97e7b5",
   "metadata": {},
   "outputs": [],
   "source": [
    "class Point:\n",
    "    def __init__(self, x, y):\n",
    "        self.x = x\n",
    "        self.y = y\n",
    "        \n",
    "    def checkOverlapRectangle(self, S1, P1, S2, P2):\n",
    "        print(S1.x, P1.x, S2.x, P2.x)\n",
    "        print(S1.y, P1.y, S2.y, P2.y)\n",
    "        if (S1.x > P2.x and S2.x > P1.x):\n",
    "            return False\n",
    "        if (S1.y < P2.y and S2.y < P1.y):\n",
    "            return False\n",
    "        \n",
    "        return True"
   ]
  },
  {
   "cell_type": "code",
   "execution_count": 40,
   "id": "ff2a8f67",
   "metadata": {},
   "outputs": [],
   "source": [
    "R1 = Point(0,0)\n",
    "R2 = Point(1,1)"
   ]
  },
  {
   "cell_type": "code",
   "execution_count": 41,
   "id": "922998df",
   "metadata": {},
   "outputs": [],
   "source": [
    "R3 = Point(1,0)\n",
    "R4 = Point(2,1)"
   ]
  },
  {
   "cell_type": "code",
   "execution_count": 42,
   "id": "805a0416",
   "metadata": {},
   "outputs": [
    {
     "name": "stdout",
     "output_type": "stream",
     "text": [
      "0 1 1 2\n",
      "0 1 0 1\n"
     ]
    },
    {
     "data": {
      "text/plain": [
       "False"
      ]
     },
     "execution_count": 42,
     "metadata": {},
     "output_type": "execute_result"
    }
   ],
   "source": [
    "R1.checkOverlapRectangle(R1, R2, R3, R4)"
   ]
  },
  {
   "cell_type": "code",
   "execution_count": 47,
   "id": "1296174d",
   "metadata": {},
   "outputs": [],
   "source": [
    "# Method 2\n",
    "# point1, point2 = [0, 0, 2, 2]\n",
    "# point3, point4 = [1, 1, 3, 3]\n",
    "def overlap(rec1, rec2):\n",
    "    if (rec1[2]<=rec2[0] or rec2[2]<=rec1[0] or rec1[3]<=rec2[1] or rec2[3]<=rec1[1]):\n",
    "        return False\n",
    "    else:\n",
    "        return True"
   ]
  },
  {
   "cell_type": "code",
   "execution_count": null,
   "id": "5511f02a",
   "metadata": {},
   "outputs": [],
   "source": []
  }
 ],
 "metadata": {
  "kernelspec": {
   "display_name": "Python 3 (ipykernel)",
   "language": "python",
   "name": "python3"
  },
  "language_info": {
   "codemirror_mode": {
    "name": "ipython",
    "version": 3
   },
   "file_extension": ".py",
   "mimetype": "text/x-python",
   "name": "python",
   "nbconvert_exporter": "python",
   "pygments_lexer": "ipython3",
   "version": "3.9.7"
  }
 },
 "nbformat": 4,
 "nbformat_minor": 5
}
