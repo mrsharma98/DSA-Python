{
 "cells": [
  {
   "cell_type": "code",
   "execution_count": 1,
   "id": "23fe7cdd",
   "metadata": {},
   "outputs": [],
   "source": [
    "# List of arrival and departure time is given.\n",
    "# Find the minimum number of platforms are required for the railway as no train waits"
   ]
  },
  {
   "cell_type": "code",
   "execution_count": 2,
   "id": "5a3cfa0c",
   "metadata": {},
   "outputs": [],
   "source": [
    "# arrival time = [1.00, 1.40, 1.50, 2.00, 2.15,  4.00]  --- 1.40 means 1:40\n",
    "# departure time = [1.10, 3.00, 2.20, 2.30, 3.15, 6.00]"
   ]
  },
  {
   "cell_type": "code",
   "execution_count": 3,
   "id": "9338f0c5",
   "metadata": {},
   "outputs": [],
   "source": [
    "# first sort departure array\n",
    "# then compare the timings"
   ]
  },
  {
   "cell_type": "code",
   "execution_count": 8,
   "id": "7e86d0b5",
   "metadata": {},
   "outputs": [],
   "source": [
    "def minimumPlatform(arrival, departure, n):\n",
    "    i, j, platform_needed, maxPlatform = 0, 0, 0, 0\n",
    "    departure.sort()\n",
    "    \n",
    "    while (i<n and j<n):\n",
    "        if (arrival[i] < departure[j]):\n",
    "            platform_needed += 1\n",
    "            i += 1\n",
    "            if (platform_needed > maxPlatform):\n",
    "                maxPlatform = platform_needed\n",
    "        else:\n",
    "            platform_needed -= 1\n",
    "            j += 1\n",
    "    return maxPlatform"
   ]
  },
  {
   "cell_type": "code",
   "execution_count": 9,
   "id": "2fdda7fc",
   "metadata": {},
   "outputs": [
    {
     "data": {
      "text/plain": [
       "4"
      ]
     },
     "execution_count": 9,
     "metadata": {},
     "output_type": "execute_result"
    }
   ],
   "source": [
    "arrival = [1.00, 1.40, 1.50, 2.00, 2.15,  4.00]\n",
    "departure = [1.10, 3.00, 2.20, 2.30, 3.15, 6.00]\n",
    "n = len(departure)\n",
    "minimumPlatform(arrival, departure, n)"
   ]
  },
  {
   "cell_type": "code",
   "execution_count": null,
   "id": "b583bea4",
   "metadata": {},
   "outputs": [],
   "source": []
  },
  {
   "cell_type": "code",
   "execution_count": null,
   "id": "e8074898",
   "metadata": {},
   "outputs": [],
   "source": []
  },
  {
   "cell_type": "code",
   "execution_count": 10,
   "id": "d1cd00e0",
   "metadata": {},
   "outputs": [],
   "source": [
    "# Distribute Candy"
   ]
  },
  {
   "cell_type": "code",
   "execution_count": 11,
   "id": "f8f98122",
   "metadata": {},
   "outputs": [],
   "source": [
    "# There are N children standing in a line with some rating value.\n",
    "# You want to distribute a minimum number of candies to these children such that:\n",
    "\n",
    "# Each child must have at least one candy.\n",
    "# The children with higher ratings will have more candies than their neighbors.\n",
    "# You need to write a program to calculate the minimum candies you must give."
   ]
  },
  {
   "cell_type": "code",
   "execution_count": 12,
   "id": "8bace5e2",
   "metadata": {},
   "outputs": [],
   "source": [
    "# 2 situations\n",
    "# rating[i-1] < rating[i]\n",
    "# -- if left rating is less, then increase candy by 1\n",
    "\n",
    "# # rating[i+1] < rating[i]\n",
    "# -- if right rating is less, then increase candy by 1"
   ]
  },
  {
   "cell_type": "code",
   "execution_count": null,
   "id": "b09323b1",
   "metadata": {},
   "outputs": [],
   "source": [
    "def candy(arr, n):\n",
    "    sum = 0\n",
    "    left = [1]*len(arr)\n",
    "    right = [1]*len(arr)\n",
    "    \n",
    "    for i in range(1, len(arr)):\n",
    "        if rating[i] > rating[i-1]:\n",
    "            left[i] = left[i-1]+1\n",
    "    \n",
    "    for i in range(len(arr)-2, 0, -1):\n",
    "        if (rating[i] > rating[i+1]):\n",
    "            right[i] = right[i+1] + 1\n",
    "        \n",
    "    sum = 0\n",
    "    for i in range(len(arr)):\n",
    "        sum += max(left[i], right[i])\n",
    "        \n",
    "    return sum"
   ]
  }
 ],
 "metadata": {
  "kernelspec": {
   "display_name": "Python 3 (ipykernel)",
   "language": "python",
   "name": "python3"
  },
  "language_info": {
   "codemirror_mode": {
    "name": "ipython",
    "version": 3
   },
   "file_extension": ".py",
   "mimetype": "text/x-python",
   "name": "python",
   "nbconvert_exporter": "python",
   "pygments_lexer": "ipython3",
   "version": "3.9.7"
  }
 },
 "nbformat": 4,
 "nbformat_minor": 5
}
