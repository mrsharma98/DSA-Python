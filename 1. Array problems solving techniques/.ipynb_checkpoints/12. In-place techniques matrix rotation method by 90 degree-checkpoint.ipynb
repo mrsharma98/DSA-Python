{
 "cells": [
  {
   "cell_type": "code",
   "execution_count": 1,
   "id": "b7d6b4b5",
   "metadata": {},
   "outputs": [],
   "source": [
    "# You are given a square matrix, \n",
    "# You need to rotate the matrix in a clockwise direction by 90 degrees\n",
    "# Time Complexity O(m*n) and No Extra Space i.e O(1)"
   ]
  },
  {
   "cell_type": "code",
   "execution_count": 2,
   "id": "1064181f",
   "metadata": {},
   "outputs": [],
   "source": [
    "def matrixRotation(matrix):\n",
    "    N = len(matrix)\n",
    "    for i in range(N//2):\n",
    "        for j in range(i, N-i-1):\n",
    "            temp = matrix[j][N-1-i]\n",
    "            matrix[j][N-1-i] = matrix[i][j]\n",
    "            matrix[i][j] = matrix[N-1-j][i]\n",
    "            matrix[N-1-j][i] = matrix[N-1-i][N-1-j]\n",
    "            matrix[N-1-i][N-1-j] = temp"
   ]
  },
  {
   "cell_type": "code",
   "execution_count": 4,
   "id": "f63dbc0d",
   "metadata": {},
   "outputs": [
    {
     "data": {
      "text/plain": [
       "[[13, 9, 5, 1], [14, 10, 6, 2], [15, 11, 7, 3], [16, 12, 8, 4]]"
      ]
     },
     "execution_count": 4,
     "metadata": {},
     "output_type": "execute_result"
    }
   ],
   "source": [
    "matrix = [[1,2,3,4], [5,6,7,8], [9,10,11,12], [13,14,15,16]]\n",
    "matrixRotation(matrix)\n",
    "matrix"
   ]
  },
  {
   "cell_type": "code",
   "execution_count": null,
   "id": "93e63c15",
   "metadata": {},
   "outputs": [],
   "source": []
  },
  {
   "cell_type": "code",
   "execution_count": null,
   "id": "16b98cdc",
   "metadata": {},
   "outputs": [],
   "source": []
  },
  {
   "cell_type": "code",
   "execution_count": 5,
   "id": "0e83c49b",
   "metadata": {},
   "outputs": [],
   "source": [
    "# Search Element in Matrix"
   ]
  },
  {
   "cell_type": "code",
   "execution_count": 6,
   "id": "e0298522",
   "metadata": {},
   "outputs": [],
   "source": [
    "# Matrix n*n is given\n",
    "# where all elements in any individual row or column are sorted.\n",
    "# In such a matrix, we have to find the position of a value.\n",
    "# O(n) Time Complexity and O(1) Space Complexity"
   ]
  },
  {
   "cell_type": "code",
   "execution_count": 7,
   "id": "29444315",
   "metadata": {},
   "outputs": [],
   "source": [
    "def searchElement(matrix, n, value):\n",
    "    i, j = 0, n-1\n",
    "    \n",
    "    while(i<n and j>=0):\n",
    "        if (matrix[i][j] == value):\n",
    "            return True\n",
    "        \n",
    "        if (matrix[i][j] > value):\n",
    "            j -= 1\n",
    "        else:\n",
    "            i += 1\n",
    "    \n",
    "    return False"
   ]
  },
  {
   "cell_type": "code",
   "execution_count": 10,
   "id": "6de531e1",
   "metadata": {},
   "outputs": [],
   "source": [
    "matrix = [[10, 20,30,40], [15,25, 36,46], [28,29,37,48], [32,33,39,50]]\n",
    "n = len(matrix)"
   ]
  },
  {
   "cell_type": "code",
   "execution_count": 12,
   "id": "009be0ae",
   "metadata": {},
   "outputs": [
    {
     "data": {
      "text/plain": [
       "True"
      ]
     },
     "execution_count": 12,
     "metadata": {},
     "output_type": "execute_result"
    }
   ],
   "source": [
    "searchElement(matrix, n, 32)"
   ]
  },
  {
   "cell_type": "code",
   "execution_count": null,
   "id": "467a5ec1",
   "metadata": {},
   "outputs": [],
   "source": []
  }
 ],
 "metadata": {
  "kernelspec": {
   "display_name": "Python 3 (ipykernel)",
   "language": "python",
   "name": "python3"
  },
  "language_info": {
   "codemirror_mode": {
    "name": "ipython",
    "version": 3
   },
   "file_extension": ".py",
   "mimetype": "text/x-python",
   "name": "python",
   "nbconvert_exporter": "python",
   "pygments_lexer": "ipython3",
   "version": "3.9.7"
  }
 },
 "nbformat": 4,
 "nbformat_minor": 5
}
