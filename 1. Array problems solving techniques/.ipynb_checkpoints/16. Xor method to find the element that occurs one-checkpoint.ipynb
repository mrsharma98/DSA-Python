{
 "cells": [
  {
   "cell_type": "code",
   "execution_count": null,
   "id": "32ab62da",
   "metadata": {},
   "outputs": [],
   "source": [
    "# Given an array where every element occurs two times, \n",
    "# except one element which occurs only once. \n",
    "# Find the element that occurs once. \n",
    "# Expected time complexity is O(n) and O(1) extra space"
   ]
  }
 ],
 "metadata": {
  "kernelspec": {
   "display_name": "Python 3 (ipykernel)",
   "language": "python",
   "name": "python3"
  },
  "language_info": {
   "codemirror_mode": {
    "name": "ipython",
    "version": 3
   },
   "file_extension": ".py",
   "mimetype": "text/x-python",
   "name": "python",
   "nbconvert_exporter": "python",
   "pygments_lexer": "ipython3",
   "version": "3.9.7"
  }
 },
 "nbformat": 4,
 "nbformat_minor": 5
}
