{
 "cells": [
  {
   "cell_type": "code",
   "execution_count": 7,
   "id": "c09f137f",
   "metadata": {},
   "outputs": [],
   "source": [
    "def merge(arr: int, result: int, low: int, mid: int, high: int):\n",
    "    \n",
    "\n",
    "\n",
    "def mergeSort(arr: int, result: int, low: int, high: int):\n",
    "    \n",
    "    if (high == low):\n",
    "        return\n",
    "    \n",
    "    mid: int = (low + high)//2\n",
    "    \n",
    "    mergeSort(arr, result, low, mid)\n",
    "    mergeSort(arr, result, mid+1, high)\n",
    "    \n",
    "    merge(arr, result, low, mid, high)"
   ]
  },
  {
   "cell_type": "code",
   "execution_count": 8,
   "id": "efab6416",
   "metadata": {},
   "outputs": [
    {
     "name": "stdout",
     "output_type": "stream",
     "text": [
      "merge1:  0 1 3\n",
      "merge1:  0 0 1\n",
      "merge2:  0 0 1\n",
      "merge2:  0 1 3\n",
      "merge1:  2 2 3\n",
      "merge2:  2 2 3\n"
     ]
    }
   ],
   "source": [
    "arr = [2,6,4,3]\n",
    "\n",
    "mergeSort(arr, [], 0, len(arr)-1)"
   ]
  },
  {
   "cell_type": "code",
   "execution_count": null,
   "id": "e1849178",
   "metadata": {},
   "outputs": [],
   "source": []
  },
  {
   "cell_type": "code",
   "execution_count": null,
   "id": "b4b23b54",
   "metadata": {},
   "outputs": [],
   "source": [
    "def merge(arr, s, e):\n",
    "    mid = (s+e)//2\n",
    "    \n",
    "    # len of arrays\n",
    "    len1 = mid-s+1\n",
    "    len2 = e=mid\n",
    "    \n",
    "    first = [None]*len1\n",
    "    second = [None]*len2\n",
    "    \n",
    "    \n",
    "    k = s\n",
    "    # filling the arrays\n",
    "    for i in range(len1):\n",
    "        first[i] = arr[k]\n",
    "        k += 1\n",
    "    \n",
    "    for i in range(len2):\n",
    "        second[i] = arr[k]\n",
    "        k += 1\n",
    "    \n",
    "    # merge 2 sorted array\n",
    "    index1 = 0\n",
    "    index2 = 0\n",
    "    mainIndex = s\n",
    "    \n",
    "    while (index1<len1 and index2<len2):\n",
    "        if first[index1]<=second[index2]:\n",
    "            arr[mainIndex] = first[index1]\n",
    "            index1 += 1\n",
    "        else:\n",
    "            arr[mainIndex] = second[index2]\n",
    "            index2 += 1\n",
    "        mainIndex += 1\n",
    "        \n",
    "    while index1<len1:\n",
    "        arr[mainIndex] = first[index1]\n",
    "        index1 += 1\n",
    "        mainIndex += 1\n",
    "    \n",
    "    while index2<len2:\n",
    "        arr[mainIndex] = first[index2]\n",
    "        index2 += 1\n",
    "        mainIndex += 1\n",
    "    \n",
    "\n",
    "\n",
    "def mergeSort(arr, s, e):\n",
    "    mid = (s+e)//2\n",
    "    \n",
    "    mergeSort(arr, s, mid)\n",
    "    mergeSort(arr, mid+1, e)\n",
    "    \n",
    "    merge(arr, s, e)"
   ]
  }
 ],
 "metadata": {
  "kernelspec": {
   "display_name": "Python 3 (ipykernel)",
   "language": "python",
   "name": "python3"
  },
  "language_info": {
   "codemirror_mode": {
    "name": "ipython",
    "version": 3
   },
   "file_extension": ".py",
   "mimetype": "text/x-python",
   "name": "python",
   "nbconvert_exporter": "python",
   "pygments_lexer": "ipython3",
   "version": "3.9.7"
  }
 },
 "nbformat": 4,
 "nbformat_minor": 5
}
