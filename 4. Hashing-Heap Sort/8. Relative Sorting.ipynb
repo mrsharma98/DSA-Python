{
 "cells": [
  {
   "cell_type": "raw",
   "id": "56aa7005",
   "metadata": {},
   "source": [
    "Approach-1\n",
    "\n",
    "1. take an extra array and sort it\n",
    "2. search the number from second array in the first array using binary search\n",
    "3. update the first array with the element\n",
    "4. Mark all the visisted number and directly put rest of the numbers"
   ]
  },
  {
   "cell_type": "code",
   "execution_count": null,
   "id": "13a05421",
   "metadata": {},
   "outputs": [],
   "source": [
    "Approach-2\n",
    "1. No need to take extra array + no need to mark numbers\n",
    "2. use hashmap on first arr to have to count of numbers\n",
    "3. iterate through the second array and modify the first array, del the entry which is done\n",
    "4. Now, we can either sort the hashmap beased on the keys\n",
    "5. "
   ]
  }
 ],
 "metadata": {
  "kernelspec": {
   "display_name": "Python 3 (ipykernel)",
   "language": "python",
   "name": "python3"
  },
  "language_info": {
   "codemirror_mode": {
    "name": "ipython",
    "version": 3
   },
   "file_extension": ".py",
   "mimetype": "text/x-python",
   "name": "python",
   "nbconvert_exporter": "python",
   "pygments_lexer": "ipython3",
   "version": "3.9.7"
  }
 },
 "nbformat": 4,
 "nbformat_minor": 5
}
