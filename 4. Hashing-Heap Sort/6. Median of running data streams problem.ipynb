{
 "cells": [
  {
   "cell_type": "raw",
   "id": "4f1d98c5",
   "metadata": {},
   "source": [
    "https://leetcode.com/problems/find-median-from-data-stream/"
   ]
  },
  {
   "cell_type": "raw",
   "id": "462295bd",
   "metadata": {},
   "source": [
    "Given that integers are being read from a data stream. Find median of all the elements read so far starting from the first integer till the last integer. The data stream can be any source of data, example: a file, an array of integers etc"
   ]
  },
  {
   "cell_type": "raw",
   "id": "a6c27310",
   "metadata": {},
   "source": [
    "# Approach-1\n",
    "\n",
    "Sort the array\n",
    "find the median\n",
    "-- if arr length is even -- middle 2 two div by 2\n",
    "-- if arr length is odd -- middle element"
   ]
  },
  {
   "cell_type": "raw",
   "id": "781a296d",
   "metadata": {},
   "source": [
    "# Approach-2\n",
    "\n",
    "use min and max heap\n",
    "median is an element\n",
    "    if element>medain -- push in min heap, so that min number, middle ya uske baad wala number is at the top\n",
    "    if element<meadin -- push in max heap, so that max number, middle ya uske phele wala is at the top\n"
   ]
  },
  {
   "cell_type": "code",
   "execution_count": null,
   "id": "8db2791b",
   "metadata": {},
   "outputs": [],
   "source": [
    "class Solution:\n",
    "    def __init__(self):\n",
    "        self.minHeap = []\n",
    "        self.maxHeap = []\n",
    "        self.median = 0\n",
    "        \n",
    "    def addNum(self, num):\n",
    "        self.callMedian(num, self.maxHeap, self.minHeap, self.median)\n",
    "        \n",
    "        \n",
    "    def findMedain(self):\n",
    "        return self.median\n",
    "    \n",
    "    def signum(self, a, b):\n",
    "        if a==b:\n",
    "            return 0\n",
    "        elif a>b:\n",
    "            return 1\n",
    "        else:\n",
    "            return -1\n",
    "        \n",
    "    def callMedian(self, element, maxHeap, minHeap, median):\n",
    "        match self.signum(len(maxHeap), len(minHeap)):\n",
    "            case 0:\n",
    "                if (element>median):\n",
    "                    heapq.heappush(minHeap, element)\n",
    "                    median = minHeap[0]\n",
    "                else:\n",
    "                    headq.headpush(maxHeap, -element)\n",
    "                    median = -maxHeap[0]\n",
    "                    \n",
    "            case 1:\n",
    "                if element()\n",
    "            case -1:\n",
    "                break\n",
    "        \n",
    "        self.median = median\n",
    "    \n",
    "    \n",
    "    \n",
    "    "
   ]
  },
  {
   "cell_type": "code",
   "execution_count": null,
   "id": "7ee71be1",
   "metadata": {},
   "outputs": [],
   "source": []
  }
 ],
 "metadata": {
  "kernelspec": {
   "display_name": "Python 3 (ipykernel)",
   "language": "python",
   "name": "python3"
  },
  "language_info": {
   "codemirror_mode": {
    "name": "ipython",
    "version": 3
   },
   "file_extension": ".py",
   "mimetype": "text/x-python",
   "name": "python",
   "nbconvert_exporter": "python",
   "pygments_lexer": "ipython3",
   "version": "3.9.7"
  }
 },
 "nbformat": 4,
 "nbformat_minor": 5
}
