{
 "cells": [
  {
   "cell_type": "raw",
   "id": "2acc366b",
   "metadata": {},
   "source": [
    "Design and implement a data structure for Least Recently Used (LRU) cache. It should support the following operations: get(key)and set(key,value)"
   ]
  },
  {
   "cell_type": "raw",
   "id": "ab8ab8f6",
   "metadata": {},
   "source": [
    "Get(key):-\n",
    "    get the value of the key if the key exists in the cache, otherwise return -1 and if key is present in cache put the number in front\n",
    "    \n",
    "set(key, value):-\n",
    "    set or insert the value if the key is not already present. When the cache reached its capacity, it should invalidate the least recently used item before inserting a new item.\n",
    "    \n",
    "Get() and Set() operation should be O(1) time in cache.\n",
    "--Hashmap can do the job. \n",
    "--But cache should work like LRU way, this cannot be achieved via hashmap -- use DLL for this\n",
    "\n",
    "\n",
    "-- hashmap -- key:value -- key:-key and value:-address of the node\n",
    "-- Node null--key,actualValue--null"
   ]
  },
  {
   "cell_type": "raw",
   "id": "a53da2f6",
   "metadata": {},
   "source": [
    "https://leetcode.com/problems/lru-cache/"
   ]
  },
  {
   "cell_type": "code",
   "execution_count": null,
   "id": "506b490e",
   "metadata": {},
   "outputs": [],
   "source": [
    "class ListNode:\n",
    "    def __init__(self, val, key):\n",
    "        self.key = key\n",
    "        self.val = val\n",
    "        self.prev = None\n",
    "        self.next = None"
   ]
  },
  {
   "cell_type": "code",
   "execution_count": null,
   "id": "3ad510d5",
   "metadata": {},
   "outputs": [],
   "source": [
    "class Solution:\n",
    "    def __init__(self, capacity):\n",
    "        self.cap = capacity\n",
    "        self.left, self.right = Node(0, 0), Node(0, 0)\n",
    "        self.left.next, self.right.prev = self.right, self.left\n",
    "        \n",
    "    \n",
    "    def remove(self, node):\n",
    "        prev, nxt = node.prev, node.nxt\n",
    "        prev.next, nxt.prev = nxt, prev\n",
    "    \n",
    "    def insert(self, node):\n",
    "        prev, nxt = self.right.prev, self.right\n",
    "        prev.next, nxt.prev = node\n",
    "        node.prev, node.next = prev, nxt\n",
    "    \n",
    "    def get(self, key):\n",
    "        # cache[key] is a node\n",
    "        if self.cache.get(key):\n",
    "            self.remove(self.cache[key])\n",
    "            self.insert(self.cache[key])\n",
    "            return self.cache[key].val\n",
    "        return -1\n",
    "    \n",
    "    def put(self, key, value):\n",
    "        if self.cache.get(key):\n",
    "            self.remove(self.cache[key])\n",
    "        \n",
    "        self.cache[key] = Node(key, value)\n",
    "        self.insert(self.cache[key])\n",
    "        \n",
    "        if len(self.cache)>self.cap:\n",
    "            left = self.left.next\n",
    "            self.remove(left)\n",
    "            del self.cache[left.key]\n",
    "    "
   ]
  },
  {
   "cell_type": "code",
   "execution_count": null,
   "id": "f1611947",
   "metadata": {},
   "outputs": [],
   "source": []
  },
  {
   "cell_type": "code",
   "execution_count": null,
   "id": "867f9aee",
   "metadata": {},
   "outputs": [],
   "source": []
  }
 ],
 "metadata": {
  "kernelspec": {
   "display_name": "Python 3 (ipykernel)",
   "language": "python",
   "name": "python3"
  },
  "language_info": {
   "codemirror_mode": {
    "name": "ipython",
    "version": 3
   },
   "file_extension": ".py",
   "mimetype": "text/x-python",
   "name": "python",
   "nbconvert_exporter": "python",
   "pygments_lexer": "ipython3",
   "version": "3.9.7"
  }
 },
 "nbformat": 4,
 "nbformat_minor": 5
}
