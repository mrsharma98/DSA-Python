{
 "cells": [
  {
   "cell_type": "code",
   "execution_count": 1,
   "id": "3d0f0e79",
   "metadata": {},
   "outputs": [],
   "source": [
    "# get first non-repeating character in O(1)"
   ]
  },
  {
   "cell_type": "code",
   "execution_count": 2,
   "id": "25c684b9",
   "metadata": {},
   "outputs": [],
   "source": [
    "# if you want to maintain an order alway use LinkedList\n",
    "# as we need to adjust the aaray which takes O(n) time\n",
    "# but in DLL it takes O(1) time"
   ]
  },
  {
   "cell_type": "code",
   "execution_count": 3,
   "id": "b95fe045",
   "metadata": {},
   "outputs": [],
   "source": [
    "class Node:\n",
    "    def __init__(self, ch):\n",
    "        self.ch = ch\n",
    "        self.next = None\n",
    "        self.prev = None"
   ]
  },
  {
   "cell_type": "code",
   "execution_count": null,
   "id": "5aa5ce16",
   "metadata": {},
   "outputs": [],
   "source": [
    "class Solution:\n",
    "    \n",
    "    def __init__(self):\n",
    "        self.head = None\n",
    "        self.tail = None\n",
    "    \n",
    "    def findChar(word):\n",
    "        asci = [0]*256\n",
    "        \n",
    "        for ch in word:\n",
    "            asciiOfWord = ord(ch)\n",
    "            if asci[asciiOfWord] == \" \":\n",
    "                continue\n",
    "            elif asci[asciiOfWord] != null:\n",
    "                curr = asci[asciiOfWord]\n",
    "                prev = curr.prev\n",
    "                prev.next = curr.next\n",
    "                curr.next.prev = prev\n",
    "                asci[asciiOfWord] = \" \"\n",
    "            else:\n",
    "                node = Node(ch)\n",
    "                asci[asciiOfWord] = node\n",
    "                if self.head == None:\n",
    "                    self.head = node\n",
    "                    self.tail = node\n",
    "                else:\n",
    "                    tail.next = node\n",
    "                    tail = tail.next\n",
    "        \n",
    "        return self.head"
   ]
  }
 ],
 "metadata": {
  "kernelspec": {
   "display_name": "Python 3 (ipykernel)",
   "language": "python",
   "name": "python3"
  },
  "language_info": {
   "codemirror_mode": {
    "name": "ipython",
    "version": 3
   },
   "file_extension": ".py",
   "mimetype": "text/x-python",
   "name": "python",
   "nbconvert_exporter": "python",
   "pygments_lexer": "ipython3",
   "version": "3.9.7"
  }
 },
 "nbformat": 4,
 "nbformat_minor": 5
}
