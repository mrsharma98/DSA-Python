{
 "cells": [
  {
   "cell_type": "raw",
   "id": "d314d8ea",
   "metadata": {},
   "source": [
    "https://leetcode.com/problems/group-anagrams/"
   ]
  },
  {
   "cell_type": "code",
   "execution_count": null,
   "id": "b3a10208",
   "metadata": {},
   "outputs": [],
   "source": []
  },
  {
   "cell_type": "code",
   "execution_count": 2,
   "id": "88507efe",
   "metadata": {},
   "outputs": [],
   "source": [
    "class Solution:\n",
    "    def groupAnagrams(self, strs):\n",
    "        mp = defaultdict(list)\n",
    "        ans = []\n",
    "        \n",
    "        for s in strs:\n",
    "            if s == \"\":\n",
    "                mp[\"\"].append(s)\n",
    "                continue\n",
    "            alphaArr = [0]*26\n",
    "            for i in s:\n",
    "                alphaArr[ord(i)-ord('a')] += 1\n",
    "            newStr = ''\n",
    "            for j in range(len(alphaArr)):\n",
    "                if alphaArr[j]>0:\n",
    "                    newStr += chr((ord('a')+j))*alphaArr[j]\n",
    "            \n",
    "            mp[newStr].append(s)\n",
    "        print(mp)\n",
    "        \n",
    "        for i in mp:\n",
    "            ans.append(mp[i])\n",
    "        return ans"
   ]
  },
  {
   "cell_type": "code",
   "execution_count": null,
   "id": "e69e0542",
   "metadata": {},
   "outputs": [],
   "source": []
  }
 ],
 "metadata": {
  "kernelspec": {
   "display_name": "Python 3 (ipykernel)",
   "language": "python",
   "name": "python3"
  },
  "language_info": {
   "codemirror_mode": {
    "name": "ipython",
    "version": 3
   },
   "file_extension": ".py",
   "mimetype": "text/x-python",
   "name": "python",
   "nbconvert_exporter": "python",
   "pygments_lexer": "ipython3",
   "version": "3.9.7"
  }
 },
 "nbformat": 4,
 "nbformat_minor": 5
}
