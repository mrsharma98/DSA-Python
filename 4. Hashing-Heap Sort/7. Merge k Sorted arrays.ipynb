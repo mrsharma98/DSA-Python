{
 "cells": [
  {
   "cell_type": "raw",
   "id": "e04e732c",
   "metadata": {},
   "source": [
    "Use MinHeap, why??\n",
    "-- bcz we need a sorted increasing output\n",
    "-- and minHeap root always returns the min no.\n",
    "-- each iteration to push an element taskes O(logn) operation"
   ]
  },
  {
   "cell_type": "code",
   "execution_count": 21,
   "id": "09edf9db",
   "metadata": {},
   "outputs": [],
   "source": [
    "class MinHeapNode:\n",
    "    def __init__(self, value, i, j):\n",
    "        # i, j represents x and y coordinates\n",
    "        self.i = i\n",
    "        self.j = j\n",
    "        self.value = value\n",
    "        \n",
    "    def __lt__(self, nxt):\n",
    "        return self.value < nxt.value\n",
    "\n",
    "# we will have an arry of obj of this class\n",
    "# for 3 rows, arr size will be 3"
   ]
  },
  {
   "cell_type": "code",
   "execution_count": 41,
   "id": "0857479a",
   "metadata": {},
   "outputs": [],
   "source": [
    "import heapq\n",
    "\n",
    "def mergeKArray(arr):\n",
    "    row = len(arr)\n",
    "    col = len(arr[0])\n",
    "    h = []\n",
    "    ans = []\n",
    "    for i in range(row):\n",
    "        heapq.heappush(h, MinHeapNode(arr[i][0], i, 0))\n",
    "    \n",
    "    while h:\n",
    "        top = heapq.heappop(h)\n",
    "        val, x, y = top.value, top.i, top.j\n",
    "        ans.append(val)\n",
    "        \n",
    "        if y+1<len(arr[x]):\n",
    "            heapq.heappush(h, MinHeapNode(arr[x][y+1], x, y+1))\n",
    "    \n",
    "    return ans\n",
    "\n"
   ]
  },
  {
   "cell_type": "code",
   "execution_count": 42,
   "id": "91f6ffee",
   "metadata": {},
   "outputs": [
    {
     "data": {
      "text/plain": [
       "[6, 7, 9]"
      ]
     },
     "execution_count": 42,
     "metadata": {},
     "output_type": "execute_result"
    }
   ],
   "source": [
    "mergeKArray([[6,7,9]])"
   ]
  },
  {
   "cell_type": "code",
   "execution_count": null,
   "id": "74d3322e",
   "metadata": {},
   "outputs": [],
   "source": []
  }
 ],
 "metadata": {
  "kernelspec": {
   "display_name": "Python 3 (ipykernel)",
   "language": "python",
   "name": "python3"
  },
  "language_info": {
   "codemirror_mode": {
    "name": "ipython",
    "version": 3
   },
   "file_extension": ".py",
   "mimetype": "text/x-python",
   "name": "python",
   "nbconvert_exporter": "python",
   "pygments_lexer": "ipython3",
   "version": "3.9.7"
  }
 },
 "nbformat": 4,
 "nbformat_minor": 5
}
