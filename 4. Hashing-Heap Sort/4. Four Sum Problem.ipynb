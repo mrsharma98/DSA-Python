{
 "cells": [
  {
   "cell_type": "raw",
   "id": "b172a95b",
   "metadata": {},
   "source": [
    "Approach-1\n",
    "we can use merge sort O(nlogn), then binary search to search for the numbers O(logn)"
   ]
  },
  {
   "cell_type": "raw",
   "id": "1b1f75b8",
   "metadata": {},
   "source": [
    "Approach-2\n",
    "Use Hashmap\n",
    "-- we can see this question as x+y=k (sum of two nos. is k)\n",
    "where x=a+b, y=c+d => a+b+c+d=k\n",
    "\n",
    "-- take the one number and try to find the next no. => x=k-y\n",
    "-- (a+b) = k-(c+d)\n",
    "\n",
    "-- map {sum: [index, index]}"
   ]
  },
  {
   "cell_type": "code",
   "execution_count": 15,
   "id": "df6f79f2",
   "metadata": {},
   "outputs": [],
   "source": [
    "# TLE\n",
    "\n",
    "class Solution:\n",
    "    \n",
    "    def helper(self, nums, n, target, result):\n",
    "        mapping = defaultdict(list)\n",
    "        \n",
    "        for i in range(n-1):\n",
    "            for j in range(i+1, n):\n",
    "                val = target-(nums[i]+nums[j])\n",
    "                if mapping.get(val):\n",
    "                    for pair in mapping[val]:\n",
    "                        x, y = pair\n",
    "                        if (x!=i and x!=j) and (y!=i and y!=j):\n",
    "                            arr = [nums[i], nums[j], nums[x], nums[y]]\n",
    "                            arr.sort()\n",
    "                            if arr not in result:\n",
    "                                result.append(arr)\n",
    "                \n",
    "                mapping[nums[i]+nums[j]].append([i, j])\n",
    "        \n",
    "    \n",
    "    def fourSum(self, nums, target):\n",
    "        if len(nums)<4:\n",
    "            return []\n",
    "        result = []\n",
    "        n = len(nums)\n",
    "        self.helper(nums, n, target, result)\n",
    "        return result"
   ]
  },
  {
   "cell_type": "raw",
   "id": "afa783f9",
   "metadata": {},
   "source": [
    "check leetcode 4Sum\n",
    "https://leetcode.com/problems/4sum/"
   ]
  },
  {
   "cell_type": "code",
   "execution_count": null,
   "id": "46d0a98f",
   "metadata": {},
   "outputs": [],
   "source": []
  }
 ],
 "metadata": {
  "kernelspec": {
   "display_name": "Python 3 (ipykernel)",
   "language": "python",
   "name": "python3"
  },
  "language_info": {
   "codemirror_mode": {
    "name": "ipython",
    "version": 3
   },
   "file_extension": ".py",
   "mimetype": "text/x-python",
   "name": "python",
   "nbconvert_exporter": "python",
   "pygments_lexer": "ipython3",
   "version": "3.9.7"
  }
 },
 "nbformat": 4,
 "nbformat_minor": 5
}
