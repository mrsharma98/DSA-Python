{
 "cells": [
  {
   "cell_type": "raw",
   "id": "70d8da1e",
   "metadata": {},
   "source": [
    "going back to the previous state in the recursion when some condition is not satisfying is the backtracking"
   ]
  },
  {
   "cell_type": "code",
   "execution_count": null,
   "id": "28b864e3",
   "metadata": {},
   "outputs": [],
   "source": []
  },
  {
   "cell_type": "raw",
   "id": "b9725626",
   "metadata": {},
   "source": [
    "Combination Sum"
   ]
  },
  {
   "cell_type": "raw",
   "id": "4f9a697b",
   "metadata": {},
   "source": [
    "https://leetcode.com/problems/combination-sum/"
   ]
  },
  {
   "cell_type": "code",
   "execution_count": 34,
   "id": "7ade30a2",
   "metadata": {},
   "outputs": [],
   "source": [
    "class Solution:\n",
    "    def __init__(self):\n",
    "        self.ans = []\n",
    "\n",
    "    \n",
    "    def helper(self, candidates, target, i, currSum, temp):\n",
    "        if currSum>target:\n",
    "            return\n",
    "        \n",
    "        if len(candidates)==i:\n",
    "            if currSum == target:\n",
    "                self.ans.append(temp)\n",
    "            return\n",
    "\n",
    "        temp = temp.copy()\n",
    "        \n",
    "        # inclusion\n",
    "        currSum += candidates[i]\n",
    "        temp.append(candidates[i])\n",
    "        self.helper(candidates, target, i, currSum, temp)\n",
    "        \n",
    "        # exclusion\n",
    "        currSum -= candidates[i]\n",
    "        temp.pop()\n",
    "        self.helper(candidates, target, i+1, currSum, temp)\n",
    "        \n",
    "        \n",
    "    def combinationSum(self, candidates, target):\n",
    "        temp = []\n",
    "        self.helper(candidates, target, 0, 0, temp)\n",
    "        return self.ans"
   ]
  },
  {
   "cell_type": "code",
   "execution_count": 35,
   "id": "af026e4b",
   "metadata": {},
   "outputs": [],
   "source": [
    "s = Solution()"
   ]
  },
  {
   "cell_type": "code",
   "execution_count": 36,
   "id": "f476e340",
   "metadata": {},
   "outputs": [
    {
     "data": {
      "text/plain": [
       "[[2, 2, 2, 2], [2, 3, 3], [3, 5]]"
      ]
     },
     "execution_count": 36,
     "metadata": {},
     "output_type": "execute_result"
    }
   ],
   "source": [
    "s.combinationSum([2,3,5], 8)"
   ]
  },
  {
   "cell_type": "code",
   "execution_count": null,
   "id": "67b7d0af",
   "metadata": {},
   "outputs": [],
   "source": []
  },
  {
   "cell_type": "code",
   "execution_count": null,
   "id": "c4307c5d",
   "metadata": {},
   "outputs": [],
   "source": []
  },
  {
   "cell_type": "raw",
   "id": "e7c14538",
   "metadata": {},
   "source": [
    "N Queue Problem"
   ]
  },
  {
   "cell_type": "code",
   "execution_count": 42,
   "id": "b515c859",
   "metadata": {},
   "outputs": [],
   "source": [
    "class Solution:\n",
    "    def __init__(self):\n",
    "        self.ans = []\n",
    "        \n",
    "    \n",
    "    def isSafe(self, board, row, col, n):\n",
    "        # for column\n",
    "        for i in range(row):\n",
    "            if board[i][col] == 1:\n",
    "                return False\n",
    "        \n",
    "        # for upper left diagonal\n",
    "        i, j = row-1, col-1\n",
    "        while i>=0 and j>=0:\n",
    "            if board[i][j] == 1:\n",
    "                return False\n",
    "            i, j = i-1, j-1\n",
    "            \n",
    "        # for upper right diagonal\n",
    "        i, j = row-1, col+1\n",
    "        while i>=0 and j<n:\n",
    "            if board[i][j] == 1:\n",
    "                return False\n",
    "            i, j = i-1, j+1\n",
    "        \n",
    "        return True\n",
    "        \n",
    "        \n",
    "    \n",
    "    def helper(self, board, n, r):\n",
    "        # base case\n",
    "        if r == n:\n",
    "            temp = []\n",
    "            # creating array for a solution and pushing it into ans array\n",
    "            for i in range(n):\n",
    "                for j in range(n):\n",
    "                    if board[i][j] == 1:\n",
    "                        temp.append(j+1)\n",
    "            self.ans.append(temp)\n",
    "            return\n",
    "\n",
    "        for i in range(n):\n",
    "            if self.isSafe(board, r, i, n):             \n",
    "                board[r][i] = 1\n",
    "                self.helper(board, n, r+1)\n",
    "                board[r][i] = 0\n",
    "\n",
    "\n",
    "    def nQueue(self, n):\n",
    "        board = [[0]*n for _ in range(n)]    # dummy board        \n",
    "        self.helper(board, n, 0)\n",
    "        return self.ans"
   ]
  },
  {
   "cell_type": "code",
   "execution_count": 43,
   "id": "d653f9fd",
   "metadata": {},
   "outputs": [],
   "source": [
    "s = Solution()"
   ]
  },
  {
   "cell_type": "code",
   "execution_count": 44,
   "id": "030c14c8",
   "metadata": {},
   "outputs": [
    {
     "data": {
      "text/plain": [
       "[[2, 4, 1, 3], [3, 1, 4, 2]]"
      ]
     },
     "execution_count": 44,
     "metadata": {},
     "output_type": "execute_result"
    }
   ],
   "source": [
    "s.nQueue(4)"
   ]
  },
  {
   "cell_type": "code",
   "execution_count": null,
   "id": "c94df967",
   "metadata": {},
   "outputs": [],
   "source": []
  },
  {
   "cell_type": "code",
   "execution_count": null,
   "id": "a937d0f7",
   "metadata": {},
   "outputs": [],
   "source": []
  },
  {
   "cell_type": "raw",
   "id": "949f16bf",
   "metadata": {},
   "source": [
    "Rat in a maze"
   ]
  },
  {
   "cell_type": "code",
   "execution_count": 89,
   "id": "413be86f",
   "metadata": {},
   "outputs": [],
   "source": [
    "class Solution:\n",
    "    \n",
    "    def __init__(self):\n",
    "        self.ans = []\n",
    "    \n",
    "    def isSafe(self,m, vis, srcx, srcy, n):\n",
    "        return (srcx>=0 and srcy>=0 and srcx<n and srcy<n and m[srcx][srcy]==1 and vis[srcx][srcy]==0)\n",
    "    \n",
    "    \n",
    "    def helper(self,m, vis, n, srcx, srcy, temp):\n",
    "        if srcx==n-1 and srcy==n-1:\n",
    "            self.ans.append(temp)\n",
    "            return\n",
    "        \n",
    "        vis[srcx][srcy] = 1\n",
    "        \n",
    "        if (self.isSafe(m, vis, srcx+1, srcy, n)):\n",
    "            self.helper(m, vis, n, srcx+1, srcy, temp+'D')\n",
    "            \n",
    "        if (self.isSafe(m, vis, srcx, srcy-1, n)):\n",
    "            self.helper(m, vis, n, srcx, srcy-1, temp+'L')\n",
    "            \n",
    "        if (self.isSafe(m, vis, srcx, srcy+1, n)):\n",
    "            self.helper(m, vis, n, srcx, srcy+1, temp+'R')\n",
    "            \n",
    "        if (self.isSafe(m, vis, srcx-1, srcy, n)):\n",
    "            self.helper(m, vis, n, srcx-1, srcy, temp+'U')\n",
    "        \n",
    "        vis[srcx][srcy] = 0\n",
    "        \n",
    "        \n",
    "    \n",
    "    \n",
    "    def findPath(self, m, n):\n",
    "        if m[0][0] == 0:\n",
    "            return\n",
    "        \n",
    "        vis = [[0]*n for _ in range(n)]\n",
    "        \n",
    "        self.helper(m, vis, n, 0, 0, \"\")\n",
    "        return self.ans\n",
    "        \n",
    "        "
   ]
  },
  {
   "cell_type": "code",
   "execution_count": 90,
   "id": "b0b5209d",
   "metadata": {},
   "outputs": [],
   "source": [
    "s = Solution()"
   ]
  },
  {
   "cell_type": "code",
   "execution_count": 91,
   "id": "62df34cb",
   "metadata": {},
   "outputs": [
    {
     "data": {
      "text/plain": [
       "['DDRDRR', 'DRDDRR']"
      ]
     },
     "execution_count": 91,
     "metadata": {},
     "output_type": "execute_result"
    }
   ],
   "source": [
    "m = [[1,0,0,0], [1,1,0,0], [1,1,0,0], [0,1,1,1]]\n",
    "n = len(m)\n",
    "\n",
    "s.findPath(m, n)"
   ]
  },
  {
   "cell_type": "code",
   "execution_count": null,
   "id": "92f500c8",
   "metadata": {},
   "outputs": [],
   "source": []
  },
  {
   "cell_type": "code",
   "execution_count": null,
   "id": "e315016f",
   "metadata": {},
   "outputs": [],
   "source": []
  },
  {
   "cell_type": "raw",
   "id": "371855c6",
   "metadata": {},
   "source": [
    "Sudoku Solver"
   ]
  },
  {
   "cell_type": "code",
   "execution_count": null,
   "id": "baa6fe31",
   "metadata": {},
   "outputs": [],
   "source": [
    "3 Conditions\n",
    "-- No same number in a row\n",
    "-- No same number in a column\n",
    "-- No same number in 3x3 matrix"
   ]
  },
  {
   "cell_type": "code",
   "execution_count": 1,
   "id": "e8b9c43a",
   "metadata": {},
   "outputs": [],
   "source": [
    "class Solution:\n",
    "    \n",
    "    def check(self, grid, row, col, num):\n",
    "        # row\n",
    "        for i in range(9):\n",
    "            if (grid[row][i] == num):\n",
    "                return False\n",
    "        \n",
    "        # col\n",
    "        for i in range(9):\n",
    "            if (grid[i][col] == num):\n",
    "                return False\n",
    "        \n",
    "        # box\n",
    "        initialI = row-row%3\n",
    "        initialJ = col-col%3\n",
    "        for i in range(3):\n",
    "            for j in range(3):\n",
    "                if grid[initialI+i][initialJ+j] == num:\n",
    "                    return False\n",
    "        \n",
    "        return True\n",
    "        \n",
    "        \n",
    "    \n",
    "    def helper(self, grid, row, col):\n",
    "        if row==9:\n",
    "            return True\n",
    "        if col==9:\n",
    "            return self.helper(grid, row+1, 0)\n",
    "        \n",
    "        if grid[row][col] != 0:\n",
    "            return self.helper(grid, row, col+1)\n",
    "        \n",
    "        for i in range(1, 10):\n",
    "            if self.check(grid, row, col, i):\n",
    "                grid[row][col] = i\n",
    "                if self.helper(grid, row, col+1):\n",
    "                    return True\n",
    "            # Backtracking\n",
    "            grid[row][col] = 0\n",
    "        \n",
    "        return False\n",
    "        \n",
    "    \n",
    "    def SolveSudoku(self, grid):\n",
    "        return self.helper(grid, 0, 0)\n",
    "    \n",
    "    def printGrid(self, grid):\n",
    "        for i in range(9):\n",
    "            for j in range(9):\n",
    "                print(grid[i][j], end=\" \")\n",
    "            print()"
   ]
  },
  {
   "cell_type": "code",
   "execution_count": 2,
   "id": "5b9c7780",
   "metadata": {},
   "outputs": [],
   "source": [
    "grid = [[\"5\",\"3\",\".\",\".\",\"7\",\".\",\".\",\".\",\".\"],[\"6\",\".\",\".\",\"1\",\"9\",\"5\",\".\",\".\",\".\"],[\".\",\"9\",\"8\",\".\",\".\",\".\",\".\",\"6\",\".\"],[\"8\",\".\",\".\",\".\",\"6\",\".\",\".\",\".\",\"3\"],[\"4\",\".\",\".\",\"8\",\".\",\"3\",\".\",\".\",\"1\"],[\"7\",\".\",\".\",\".\",\"2\",\".\",\".\",\".\",\"6\"],[\".\",\"6\",\".\",\".\",\".\",\".\",\"2\",\"8\",\".\"],[\".\",\".\",\".\",\"4\",\"1\",\"9\",\".\",\".\",\"5\"],[\".\",\".\",\".\",\".\",\"8\",\".\",\".\",\"7\",\"9\"]]"
   ]
  },
  {
   "cell_type": "code",
   "execution_count": 3,
   "id": "749f4d76",
   "metadata": {},
   "outputs": [],
   "source": [
    "for i in range(9):\n",
    "    for j in range(9):\n",
    "        if grid[i][j] == \".\":\n",
    "            grid[i][j] = 0\n",
    "        grid[i][j] = int(grid[i][j])"
   ]
  },
  {
   "cell_type": "code",
   "execution_count": 4,
   "id": "1baf64c8",
   "metadata": {},
   "outputs": [],
   "source": [
    "s = Solution()"
   ]
  },
  {
   "cell_type": "code",
   "execution_count": 5,
   "id": "58af0d46",
   "metadata": {},
   "outputs": [
    {
     "data": {
      "text/plain": [
       "True"
      ]
     },
     "execution_count": 5,
     "metadata": {},
     "output_type": "execute_result"
    }
   ],
   "source": [
    "s.SolveSudoku(grid)"
   ]
  },
  {
   "cell_type": "code",
   "execution_count": 6,
   "id": "7b38d723",
   "metadata": {},
   "outputs": [
    {
     "data": {
      "text/plain": [
       "[[5, 3, 4, 6, 7, 8, 9, 1, 2],\n",
       " [6, 7, 2, 1, 9, 5, 3, 4, 8],\n",
       " [1, 9, 8, 3, 4, 2, 5, 6, 7],\n",
       " [8, 5, 9, 7, 6, 1, 4, 2, 3],\n",
       " [4, 2, 6, 8, 5, 3, 7, 9, 1],\n",
       " [7, 1, 3, 9, 2, 4, 8, 5, 6],\n",
       " [9, 6, 1, 5, 3, 7, 2, 8, 4],\n",
       " [2, 8, 7, 4, 1, 9, 6, 3, 5],\n",
       " [3, 4, 5, 2, 8, 6, 1, 7, 9]]"
      ]
     },
     "execution_count": 6,
     "metadata": {},
     "output_type": "execute_result"
    }
   ],
   "source": [
    "grid"
   ]
  },
  {
   "cell_type": "code",
   "execution_count": null,
   "id": "1a67ef52",
   "metadata": {},
   "outputs": [],
   "source": []
  }
 ],
 "metadata": {
  "kernelspec": {
   "display_name": "Python 3 (ipykernel)",
   "language": "python",
   "name": "python3"
  },
  "language_info": {
   "codemirror_mode": {
    "name": "ipython",
    "version": 3
   },
   "file_extension": ".py",
   "mimetype": "text/x-python",
   "name": "python",
   "nbconvert_exporter": "python",
   "pygments_lexer": "ipython3",
   "version": "3.9.7"
  }
 },
 "nbformat": 4,
 "nbformat_minor": 5
}
