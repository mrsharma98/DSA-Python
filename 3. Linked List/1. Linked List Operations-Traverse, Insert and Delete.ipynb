{
 "cells": [
  {
   "cell_type": "code",
   "execution_count": 5,
   "id": "b547221c",
   "metadata": {},
   "outputs": [],
   "source": [
    "class Node:\n",
    "    def __init__(self, data):\n",
    "        self.data = data\n",
    "        self.next = None"
   ]
  },
  {
   "cell_type": "code",
   "execution_count": 13,
   "id": "54818583",
   "metadata": {},
   "outputs": [],
   "source": [
    "class LinkedList:\n",
    "    def __init__(self):\n",
    "        self.head = None\n",
    "        self.tail = None\n",
    "        \n",
    "    def insert(self, data):\n",
    "        newNode = Node(data)\n",
    "        \n",
    "        if self.head == None:\n",
    "            self.head = newNode\n",
    "            self.tail = newNode\n",
    "        else:\n",
    "            self.tail.next = newNode\n",
    "            self.tail = newNode\n",
    "            \n",
    "    def delete(self, data):\n",
    "        curr, prev = self.head, None\n",
    "        if (curr!=None and curr.data==data):\n",
    "            head = curr.next\n",
    "            return\n",
    "        \n",
    "        while (curr!=None and curr.data!=data):\n",
    "            prev = curr\n",
    "            curr = curr.next\n",
    "        \n",
    "        if curr == None:\n",
    "            return\n",
    "        prev.next = curr.next\n",
    "        return\n",
    "        \n",
    "        \n",
    "    def searchInLL(self, value):\n",
    "        curr = self.head\n",
    "        while (curr is not None):\n",
    "            if curr.data==value:\n",
    "                return True\n",
    "            curr = curr.next\n",
    "        return False\n",
    "    \n",
    "            \n",
    "    def traverse(self):\n",
    "        curr = self.head\n",
    "        while(curr != None):\n",
    "            print(curr.data)\n",
    "            curr = curr.next"
   ]
  },
  {
   "cell_type": "code",
   "execution_count": 15,
   "id": "6a5bfa08",
   "metadata": {},
   "outputs": [
    {
     "name": "stdout",
     "output_type": "stream",
     "text": [
      "1\n",
      "2\n",
      "3\n",
      "1\n",
      "3\n"
     ]
    }
   ],
   "source": [
    "ll = LinkedList()\n",
    "ll.insert(1)\n",
    "ll.insert(2)\n",
    "ll.insert(3)\n",
    "ll.traverse()\n",
    "ll.searchInLL(2)\n",
    "ll.delete(2)\n",
    "ll.traverse()"
   ]
  },
  {
   "cell_type": "code",
   "execution_count": null,
   "id": "dc49b429",
   "metadata": {},
   "outputs": [],
   "source": []
  },
  {
   "cell_type": "code",
   "execution_count": null,
   "id": "48c378e5",
   "metadata": {},
   "outputs": [],
   "source": []
  }
 ],
 "metadata": {
  "kernelspec": {
   "display_name": "Python 3 (ipykernel)",
   "language": "python",
   "name": "python3"
  },
  "language_info": {
   "codemirror_mode": {
    "name": "ipython",
    "version": 3
   },
   "file_extension": ".py",
   "mimetype": "text/x-python",
   "name": "python",
   "nbconvert_exporter": "python",
   "pygments_lexer": "ipython3",
   "version": "3.9.7"
  }
 },
 "nbformat": 4,
 "nbformat_minor": 5
}
