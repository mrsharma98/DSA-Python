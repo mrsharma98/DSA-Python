{
 "cells": [
  {
   "cell_type": "raw",
   "id": "44e0b49a",
   "metadata": {},
   "source": [
    "https://leetcode.com/problems/sort-list/"
   ]
  },
  {
   "cell_type": "code",
   "execution_count": null,
   "id": "b88619f8",
   "metadata": {},
   "outputs": [],
   "source": [
    "class ListNode:\n",
    "    def __init__(self, val, next=None):\n",
    "        self.val = val\n",
    "        self.next = next"
   ]
  },
  {
   "cell_type": "code",
   "execution_count": 1,
   "id": "3d6c3a6f",
   "metadata": {},
   "outputs": [],
   "source": [
    "def getMid(head):\n",
    "    slow, fast = head, head.next\n",
    "    while fast!=None and fast.next!=None:\n",
    "        slow = slow.next\n",
    "        fast = fast.next.next\n",
    "    \n",
    "    return slow"
   ]
  },
  {
   "cell_type": "code",
   "execution_count": null,
   "id": "00adb7e1",
   "metadata": {},
   "outputs": [],
   "source": [
    "# 1. Find Middle Node\n",
    "# 2. Merge nodes\n",
    "\n",
    "class Solution:\n",
    "    \n",
    "    def getMid(self, head):\n",
    "        slow, fast = head, head.next\n",
    "        while fast!=None and fast.next!=None:\n",
    "            slow = slow.next\n",
    "            fast = fast.next.next\n",
    "\n",
    "        return slow\n",
    "    \n",
    "    def mergeList(self, first, second):\n",
    "        if left==None:\n",
    "            return right\n",
    "        if right == None:\n",
    "            return left\n",
    "        \n",
    "        ans = ListNode(-1)\n",
    "        \n",
    "\n",
    "    def mergeSort(self, node):\n",
    "        if node == None or node.next == None:\n",
    "            return node\n",
    "        \n",
    "        middle = self.getMid(node)\n",
    "        middle_next = middle.next\n",
    "        middle.next = None\n",
    "        \n",
    "        first = self.mergeSort(node)\n",
    "        second = self.mergeSort(middle_next)\n",
    "        \n",
    "        sortedList = self.mergeList(first, second)\n",
    "        return sortedList\n",
    "    \n",
    "    \n",
    "        \n",
    "        \n",
    "        \n",
    "        \n",
    "        "
   ]
  }
 ],
 "metadata": {
  "kernelspec": {
   "display_name": "Python 3 (ipykernel)",
   "language": "python",
   "name": "python3"
  },
  "language_info": {
   "codemirror_mode": {
    "name": "ipython",
    "version": 3
   },
   "file_extension": ".py",
   "mimetype": "text/x-python",
   "name": "python",
   "nbconvert_exporter": "python",
   "pygments_lexer": "ipython3",
   "version": "3.9.7"
  }
 },
 "nbformat": 4,
 "nbformat_minor": 5
}
