{
 "cells": [
  {
   "cell_type": "raw",
   "id": "ba1a066f",
   "metadata": {},
   "source": [
    "Rearrange a Single Linked List in Time Complexity O(n) and Space Complexity O(1) such one node selected from start next node from end"
   ]
  },
  {
   "cell_type": "raw",
   "id": "000a04bd",
   "metadata": {},
   "source": [
    "https://leetcode.com/problems/reorder-list/"
   ]
  },
  {
   "cell_type": "markdown",
   "id": "e4322ffa",
   "metadata": {},
   "source": [
    "Iterative approach\n",
    "-- get middle of the list\n",
    "-- reverse the second half\n",
    "-- then attach or merge the nodes"
   ]
  },
  {
   "cell_type": "code",
   "execution_count": null,
   "id": "95620c19",
   "metadata": {},
   "outputs": [],
   "source": [
    "class Solution:\n",
    "    \n",
    "    def getMid(self, head):\n",
    "        slow = head\n",
    "        fast = head.next\n",
    "        while fast!=None and fast.next!=None:\n",
    "            slow = slow.next\n",
    "            fast = fast.next.next\n",
    "        return slow\n",
    "    \n",
    "    \n",
    "    def reverseLL(self, head):\n",
    "        curr, prev, nxt = head, None, None\n",
    "        while curr!=None:\n",
    "            nxt = curr.next\n",
    "            curr.next = prev\n",
    "            prev = curr\n",
    "            curr = nxt\n",
    "        \n",
    "        return prev\n",
    "    \n",
    "    def mergeList(self, head1, head2):\n",
    "        curr = ListNode(0)\n",
    "        \n",
    "        while (head1!=None or head2!=None):\n",
    "            if (head1!=None):\n",
    "                print(head1.val)\n",
    "                curr.next = head1\n",
    "                curr = curr.next\n",
    "                head1 = head1.next\n",
    "            if (head2!=None):\n",
    "                curr.next = head2\n",
    "                curr = curr.next\n",
    "                head2 = head2.next\n",
    "        \n",
    "    \n",
    "    def reorderList(self, head: Optional[ListNode]) -> None:\n",
    "        \"\"\"\n",
    "        Do not return anything, modify head in-place instead.\n",
    "        \"\"\"\n",
    "        if head.next==None or head.next.next==None:\n",
    "            return head\n",
    "        \n",
    "        mid = self.getMid(head)\n",
    "        list2 = self.reverseLL(mid.next)\n",
    "        mid.next = None\n",
    "        self.mergeList(head, list2)\n",
    "        "
   ]
  }
 ],
 "metadata": {
  "kernelspec": {
   "display_name": "Python 3 (ipykernel)",
   "language": "python",
   "name": "python3"
  },
  "language_info": {
   "codemirror_mode": {
    "name": "ipython",
    "version": 3
   },
   "file_extension": ".py",
   "mimetype": "text/x-python",
   "name": "python",
   "nbconvert_exporter": "python",
   "pygments_lexer": "ipython3",
   "version": "3.9.7"
  }
 },
 "nbformat": 4,
 "nbformat_minor": 5
}
