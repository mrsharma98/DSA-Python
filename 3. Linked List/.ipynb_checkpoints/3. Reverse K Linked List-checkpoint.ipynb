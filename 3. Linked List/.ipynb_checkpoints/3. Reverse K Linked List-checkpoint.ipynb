{
 "cells": [
  {
   "cell_type": "raw",
   "id": "426e102e",
   "metadata": {},
   "source": [
    "https://leetcode.com/problems/reverse-nodes-in-k-group/"
   ]
  },
  {
   "cell_type": "code",
   "execution_count": 2,
   "id": "6f536a13",
   "metadata": {},
   "outputs": [],
   "source": [
    "class Solution:\n",
    "    \n",
    "    def isPossible(self, node, k):\n",
    "        curr = node\n",
    "        while k>0 and curr != None:\n",
    "            curr = curr.next\n",
    "            k -= 1\n",
    "        if k == 0:\n",
    "            return True\n",
    "        return False\n",
    "    \n",
    "    def reverseKGroup(self, head, k):\n",
    "        if head == None or head.next == None:\n",
    "            return head\n",
    "\n",
    "        # Step 1: reverse first k nodes\n",
    "        nxt = None\n",
    "        curr = head\n",
    "        prev = None\n",
    "        count = 0\n",
    "\n",
    "        isPsb = self.isPossible(head, k)\n",
    "        if not isPsb:\n",
    "            return head\n",
    "        \n",
    "        while curr != None and count < k:\n",
    "            nxt = curr.next\n",
    "            curr.next = prev\n",
    "            prev = curr\n",
    "            curr = nxt\n",
    "            count += 1\n",
    "\n",
    "        # Step 2: Recursion will handle\n",
    "        if (nxt != None):\n",
    "            head.next = self.reverseKGroup(nxt, k)\n",
    "\n",
    "        # Step 3: return head of reversed list\n",
    "        return prev"
   ]
  },
  {
   "cell_type": "code",
   "execution_count": null,
   "id": "ecb4c3a6",
   "metadata": {},
   "outputs": [],
   "source": []
  },
  {
   "cell_type": "markdown",
   "id": "7552fb13",
   "metadata": {},
   "source": [
    "# Intersection point of the two LL"
   ]
  },
  {
   "cell_type": "raw",
   "id": "196ef645",
   "metadata": {},
   "source": [
    "https://leetcode.com/problems/intersection-of-two-linked-lists/"
   ]
  },
  {
   "cell_type": "code",
   "execution_count": null,
   "id": "48c12980",
   "metadata": {},
   "outputs": [],
   "source": [
    "class Solution:\n",
    "    \n",
    "    def findLength(self, head):\n",
    "        length = 0\n",
    "        curr = head\n",
    "        while curr!=None:\n",
    "            length += 1\n",
    "            curr = curr.next\n",
    "        \n",
    "        return length\n",
    "    \n",
    "    def findIntersection(self, diff, node1, node2):\n",
    "        head1 = node1\n",
    "        head2 = node2\n",
    "        \n",
    "        for i in range(diff):\n",
    "            if head1 is None:\n",
    "                return None\n",
    "            head1 = head1.next\n",
    "        \n",
    "        while (head1!=None and head2!=None):\n",
    "            if head1 == head2:\n",
    "                return head1\n",
    "            head1 = head1.next\n",
    "            head2 = head2.next\n",
    "        \n",
    "        return None\n",
    "    \n",
    "    \n",
    "    def getIntersectionNode(self, headA, headB):\n",
    "        len1 = self.findLength(headA)\n",
    "        len2 = self.findLength(headB)\n",
    "        if (len1>len2):\n",
    "            diff = len1-len2\n",
    "            return self.findIntersection(diff, headA, headB)\n",
    "        else:\n",
    "            diff = len2-len1\n",
    "            return self.findIntersection(diff, headB, headA)"
   ]
  }
 ],
 "metadata": {
  "kernelspec": {
   "display_name": "Python 3 (ipykernel)",
   "language": "python",
   "name": "python3"
  },
  "language_info": {
   "codemirror_mode": {
    "name": "ipython",
    "version": 3
   },
   "file_extension": ".py",
   "mimetype": "text/x-python",
   "name": "python",
   "nbconvert_exporter": "python",
   "pygments_lexer": "ipython3",
   "version": "3.9.7"
  }
 },
 "nbformat": 4,
 "nbformat_minor": 5
}
