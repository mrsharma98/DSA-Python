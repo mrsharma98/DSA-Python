{
 "cells": [
  {
   "cell_type": "raw",
   "id": "9b7b745c",
   "metadata": {},
   "source": [
    "https://leetcode.com/problems/copy-list-with-random-pointer/"
   ]
  },
  {
   "cell_type": "code",
   "execution_count": 2,
   "id": "ed47f25c",
   "metadata": {},
   "outputs": [],
   "source": [
    "class ListNode:\n",
    "    def __init__(self, val):\n",
    "        self.val = val\n",
    "        self.next = None\n",
    "        self.random = None"
   ]
  },
  {
   "cell_type": "code",
   "execution_count": 3,
   "id": "e4d23fff",
   "metadata": {},
   "outputs": [],
   "source": [
    "# initially first and str --> at og list head\n",
    "# second and ptr --> at head pf cloned list\n",
    "# temp = first.next\n",
    "\n",
    "# link og node to corresponding cloned node\n",
    "# og(1).next->cloned(1)\n",
    "# removing all the next reference from og and point it to cloned corresponding node\n",
    "\n",
    "# cloned random = cloned random->random->next"
   ]
  },
  {
   "cell_type": "code",
   "execution_count": 5,
   "id": "04a691e8",
   "metadata": {},
   "outputs": [],
   "source": [
    "class Solution:\n",
    "    def __init__(self):\n",
    "        clonedHead = None\n",
    "        clonedTail = None\n",
    "        \n",
    "    def insertAtTail(self, val):\n",
    "        node = ListNode(val)\n",
    "        if self.clonedHead is None:\n",
    "            self.clonedHead = node\n",
    "        else:\n",
    "            self.clonedTail.next = node\n",
    "        self.clonedTail = node\n",
    "            \n",
    "        \n",
    "    def cloneLL(self, head):\n",
    "        temp = head\n",
    "        \n",
    "        while temp is not None:\n",
    "            self.insertAtTail(temp.val)\n",
    "            temp = temp.val\n",
    "            \n",
    "        oldToNewNode = {}\n",
    "        ogNode = head\n",
    "        clonedNode = self.clonedHead\n",
    "        \n",
    "        while ogNode!=None and clonedNode!=None:\n",
    "            oldToNewNode[ogNode] = clonedNode\n",
    "            ogNode = ogNode.next\n",
    "            clonedNode = clonedNode.next\n",
    "        \n",
    "        ogNode = head\n",
    "        clonedNode = self.clonedHead\n",
    "        \n",
    "        while ogNode!=None:\n",
    "            if ogNode.random!=None:\n",
    "                clonedNode.random = oldToNewNode[ogNode.random]\n",
    "            else:\n",
    "                clonedNode.random = None\n",
    "            ogNode = ogNode.next\n",
    "            clonedNode = clonedNode.next\n",
    "        \n",
    "        return self.clonedHead"
   ]
  },
  {
   "cell_type": "code",
   "execution_count": null,
   "id": "9d0ce0cd",
   "metadata": {},
   "outputs": [],
   "source": []
  },
  {
   "cell_type": "code",
   "execution_count": null,
   "id": "87b09e7b",
   "metadata": {},
   "outputs": [],
   "source": []
  },
  {
   "cell_type": "markdown",
   "id": "3458648d",
   "metadata": {},
   "source": [
    "# Nth Node from end"
   ]
  },
  {
   "cell_type": "code",
   "execution_count": 6,
   "id": "2dd32a35",
   "metadata": {},
   "outputs": [],
   "source": [
    "# Nth Node from end of the LinkedList in O(n) Time Complexity"
   ]
  },
  {
   "cell_type": "code",
   "execution_count": 7,
   "id": "b2bb0675",
   "metadata": {},
   "outputs": [],
   "source": [
    "# approach-1\n",
    "\n",
    "def countNode(node):\n",
    "    count = 0\n",
    "    curr = node\n",
    "    while curr!=None:\n",
    "        count += 1\n",
    "        curr = curr.next\n",
    "    return count\n",
    "            \n",
    "def nthNodeFromEnd(head, n):\n",
    "    # write your code here\n",
    "    count = countNode(head)\n",
    "    count = count-n\n",
    "    curr = head\n",
    "    while count>0:\n",
    "        count -= 1\n",
    "        curr = curr.next\n",
    "    \n",
    "    return curr"
   ]
  },
  {
   "cell_type": "code",
   "execution_count": null,
   "id": "4c8d4d6c",
   "metadata": {},
   "outputs": [],
   "source": [
    "# Approach - 2\n",
    "# 2 ptr approach\n",
    "# place first, second on head, move first N step and second 1 step, now dist is N\n",
    "# now move first and second ptr one step, when first is at last node, second at Nth node\n",
    "\n",
    "def nthNodeFromEnd(head, n):\n",
    "    # write your code here\n",
    "    first = head\n",
    "    second = head\n",
    "    count = n\n",
    "    while count>0 and first!=None:\n",
    "        first = first.next\n",
    "        count -= 1\n",
    "    \n",
    "    \n",
    "    while first!=None:\n",
    "        first = first.next\n",
    "        second = second.next\n",
    "    \n",
    "    return second"
   ]
  }
 ],
 "metadata": {
  "kernelspec": {
   "display_name": "Python 3 (ipykernel)",
   "language": "python",
   "name": "python3"
  },
  "language_info": {
   "codemirror_mode": {
    "name": "ipython",
    "version": 3
   },
   "file_extension": ".py",
   "mimetype": "text/x-python",
   "name": "python",
   "nbconvert_exporter": "python",
   "pygments_lexer": "ipython3",
   "version": "3.9.7"
  }
 },
 "nbformat": 4,
 "nbformat_minor": 5
}
