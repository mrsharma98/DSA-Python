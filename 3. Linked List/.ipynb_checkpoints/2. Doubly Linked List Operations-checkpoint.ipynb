{
 "cells": [
  {
   "cell_type": "code",
   "execution_count": 1,
   "id": "667f965b",
   "metadata": {},
   "outputs": [],
   "source": [
    "class Node:\n",
    "    def __init__(self, data):\n",
    "        self.data = data\n",
    "        self.prev = None\n",
    "        self.next = None"
   ]
  },
  {
   "cell_type": "code",
   "execution_count": 17,
   "id": "eda26470",
   "metadata": {},
   "outputs": [],
   "source": [
    "class DoublyLinkedList:\n",
    "    def __init__(self):\n",
    "        self.head = None\n",
    "        self.tail = None\n",
    "        \n",
    "    \n",
    "    def addNode(self, data):\n",
    "        newNode = Node(data)\n",
    "        \n",
    "        if self.head == None:\n",
    "            self.head = newNode\n",
    "            self.tail = newNode\n",
    "        else:\n",
    "            self.tail.next = newNode\n",
    "            newNode.prev = self.tail\n",
    "            self.tail = newNode\n",
    "            \n",
    "    def delete(self, value):\n",
    "        curr = self.head\n",
    "        if self.head.next == None and self.head.data==value:\n",
    "            self.head == None\n",
    "            self.tail == None\n",
    "        \n",
    "        while (curr!=None):\n",
    "            if curr.data == value:\n",
    "                if self.head==curr:\n",
    "                    self.head = curr.next\n",
    "                if curr.next!=None:\n",
    "                    curr.next.prev = curr.prev\n",
    "                if curr.prev!=None:\n",
    "                    curr.prev.next = curr.next\n",
    "                if curr.next == None:\n",
    "                    self.tail = curr.prev\n",
    "                break\n",
    "            curr = curr.next\n",
    "            \n",
    "            \n",
    "            \n",
    "    def search(self, data):\n",
    "        curr = self.head\n",
    "        while (curr!=None):\n",
    "            if curr.data == data:\n",
    "                return True\n",
    "            curr = curr.next\n",
    "        return False\n",
    "            \n",
    "    def traverse(self):\n",
    "        curr = self.head\n",
    "        while curr is not None:\n",
    "            print(curr.data,  end=\" \")\n",
    "            curr = curr.next"
   ]
  },
  {
   "cell_type": "code",
   "execution_count": 18,
   "id": "51c1ac79",
   "metadata": {},
   "outputs": [
    {
     "name": "stdout",
     "output_type": "stream",
     "text": [
      "1 2 3 4 1 3 4 1 3 "
     ]
    },
    {
     "data": {
      "text/plain": [
       "3"
      ]
     },
     "execution_count": 18,
     "metadata": {},
     "output_type": "execute_result"
    }
   ],
   "source": [
    "dll = DoublyLinkedList()\n",
    "dll.addNode(1)\n",
    "dll.addNode(2)\n",
    "dll.addNode(3)\n",
    "dll.addNode(4)\n",
    "dll.traverse()\n",
    "dll.search(3)\n",
    "dll.delete(2)\n",
    "dll.traverse()\n",
    "dll.delete(4)\n",
    "dll.traverse()\n",
    "dll.tail.data"
   ]
  },
  {
   "cell_type": "code",
   "execution_count": null,
   "id": "08c2dcdb",
   "metadata": {},
   "outputs": [],
   "source": []
  }
 ],
 "metadata": {
  "kernelspec": {
   "display_name": "Python 3 (ipykernel)",
   "language": "python",
   "name": "python3"
  },
  "language_info": {
   "codemirror_mode": {
    "name": "ipython",
    "version": 3
   },
   "file_extension": ".py",
   "mimetype": "text/x-python",
   "name": "python",
   "nbconvert_exporter": "python",
   "pygments_lexer": "ipython3",
   "version": "3.9.7"
  }
 },
 "nbformat": 4,
 "nbformat_minor": 5
}
