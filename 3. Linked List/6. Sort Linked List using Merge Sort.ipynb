{
 "cells": [
  {
   "cell_type": "raw",
   "id": "f0f9345c",
   "metadata": {},
   "source": [
    "https://leetcode.com/problems/sort-list/"
   ]
  },
  {
   "cell_type": "code",
   "execution_count": null,
   "id": "a3abb37d",
   "metadata": {},
   "outputs": [],
   "source": [
    "class ListNode:\n",
    "    def __init__(self, val, next=None):\n",
    "        self.val = val\n",
    "        self.next = next"
   ]
  },
  {
   "cell_type": "code",
   "execution_count": 1,
   "id": "3d6c3a6f",
   "metadata": {},
   "outputs": [],
   "source": [
    "def getMid(head):\n",
    "    slow, fast = head, head.next\n",
    "    while fast!=None and fast.next!=None:\n",
    "        slow = slow.next\n",
    "        fast = fast.next.next\n",
    "    \n",
    "    return slow"
   ]
  },
  {
   "cell_type": "code",
   "execution_count": null,
   "id": "00adb7e1",
   "metadata": {},
   "outputs": [],
   "source": [
    "# 1. Find Middle Node\n",
    "# 2. Merge nodes\n",
    "\n",
    "class Solution:\n",
    "    \n",
    "    def getMid(self, head):\n",
    "        slow, fast = head, head.next\n",
    "        while fast!=None and fast.next!=None:\n",
    "            slow = slow.next\n",
    "            fast = fast.next.next\n",
    "\n",
    "        return slow\n",
    "    \n",
    "    def mergeList(self, first, second):\n",
    "        if left==None:\n",
    "            return right\n",
    "        if right == None:\n",
    "            return left\n",
    "        \n",
    "        ans = ListNode(-1)\n",
    "        temp = ans\n",
    "        \n",
    "        while (left!=None and right!=None):\n",
    "            if left.val<=right.val:\n",
    "                temp.next = left\n",
    "                temp = left\n",
    "                left = left.next\n",
    "            else:\n",
    "                temp.next = right\n",
    "                temp = right\n",
    "                right = right.next\n",
    "        \n",
    "        while left!=None:\n",
    "            temp.next = left\n",
    "            temp = left\n",
    "            left = left.next\n",
    "            \n",
    "        while right!=None:\n",
    "            temp.next = right\n",
    "            temp = right\n",
    "            right = right.next\n",
    "        \n",
    "        return ans.next\n",
    "        \n",
    "\n",
    "    def mergeSort(self, node):\n",
    "        if node == None or node.next == None:\n",
    "            return node\n",
    "        \n",
    "        middle = self.getMid(node)\n",
    "        middle_next = middle.next\n",
    "        middle.next = None\n",
    "        \n",
    "        first = self.mergeSort(node)\n",
    "        second = self.mergeSort(middle_next)\n",
    "        \n",
    "        sortedList = self.mergeList(first, second)\n",
    "        return sortedList\n",
    "    \n",
    "    \n",
    "        \n",
    "        \n",
    "        \n",
    "        \n",
    "        "
   ]
  }
 ],
 "metadata": {
  "kernelspec": {
   "display_name": "Python 3 (ipykernel)",
   "language": "python",
   "name": "python3"
  },
  "language_info": {
   "codemirror_mode": {
    "name": "ipython",
    "version": 3
   },
   "file_extension": ".py",
   "mimetype": "text/x-python",
   "name": "python",
   "nbconvert_exporter": "python",
   "pygments_lexer": "ipython3",
   "version": "3.9.7"
  }
 },
 "nbformat": 4,
 "nbformat_minor": 5
}
