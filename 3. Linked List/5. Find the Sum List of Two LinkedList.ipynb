{
 "cells": [
  {
   "cell_type": "raw",
   "id": "5a1c4222",
   "metadata": {},
   "source": [
    "https://leetcode.com/problems/add-two-numbers/\n",
    "https://leetcode.com/problems/add-two-numbers-ii/"
   ]
  },
  {
   "cell_type": "code",
   "execution_count": null,
   "id": "64307d5b",
   "metadata": {},
   "outputs": [],
   "source": [
    "class LL:\n",
    "    def__init__(self, val):\n",
    "        self.val = val\n",
    "        self.next = None\n",
    "\n",
    "class Solution:\n",
    "    def __init__(self):\n",
    "        self.result = None\n",
    "    \n",
    "    def getSize(self, head):\n",
    "        count = 0\n",
    "        curr = head\n",
    "        while curr!=None:\n",
    "            count += 1\n",
    "            curr = curr.next\n",
    "        return count\n",
    "    \n",
    "    def addSameSizeLL(self, head1, head2):\n",
    "        if head1 == None:\n",
    "            return\n",
    "        addSameSizeLL(head1.next, head2.next)\n",
    "        summ = head1.val + head2.val\n",
    "        carry = summ//10\n",
    "        summ = summ%10\n",
    "        insert(summ)\n",
    "    \n",
    "    def addTwoNum(self, head1, head2):\n",
    "        if head1==None:\n",
    "            self.result = head2\n",
    "            return\n",
    "        if head2 == None:\n",
    "            self.result = head1\n",
    "            return\n",
    "        \n",
    "        size1 = self.getSize(head1)\n",
    "        size2 = self.getSize(head2)\n",
    "        \n",
    "        if (size1 = size2):\n",
    "            self.addSameSizeLL(head1, head2)\n",
    "        \n",
    "        else:\n",
    "            # when size is not same\n",
    "            if carry>0:\n",
    "                insert(carry)\n",
    "    \n",
    "    \n",
    "        "
   ]
  }
 ],
 "metadata": {
  "kernelspec": {
   "display_name": "Python 3 (ipykernel)",
   "language": "python",
   "name": "python3"
  },
  "language_info": {
   "codemirror_mode": {
    "name": "ipython",
    "version": 3
   },
   "file_extension": ".py",
   "mimetype": "text/x-python",
   "name": "python",
   "nbconvert_exporter": "python",
   "pygments_lexer": "ipython3",
   "version": "3.9.7"
  }
 },
 "nbformat": 4,
 "nbformat_minor": 5
}
