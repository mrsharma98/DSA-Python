{
 "cells": [
  {
   "cell_type": "raw",
   "id": "6e32413c",
   "metadata": {},
   "source": [
    "https://leetcode.com/problems/merge-two-sorted-lists/"
   ]
  },
  {
   "cell_type": "code",
   "execution_count": 1,
   "id": "f909de7d",
   "metadata": {},
   "outputs": [],
   "source": [
    "def MergeSortedLL(firts, second):\n",
    "    if first==None:\n",
    "        return second\n",
    "    elif second == None:\n",
    "        return first\n",
    "    \n",
    "    new_list = None\n",
    "    \n",
    "    if (first.val<=second.val):\n",
    "        temp = first\n",
    "        first = temp.next\n",
    "    else:\n",
    "        temp = second\n",
    "        second = temp.next\n",
    "        \n",
    "    new_list = temp\n",
    "    \n",
    "    while (first!=None and second!=None):\n",
    "        if (first.val <= second.val):\n",
    "            temp.next = first\n",
    "            temp = first\n",
    "            first = temp.next\n",
    "        else:\n",
    "            temp.next = second\n",
    "            temp = second\n",
    "            second = temp.next\n",
    "            \n",
    "    if first == None:\n",
    "        temp.next = second\n",
    "    if second == None:\n",
    "        temp.next = first\n",
    "    \n",
    "    return new_list"
   ]
  },
  {
   "cell_type": "code",
   "execution_count": null,
   "id": "cf75095f",
   "metadata": {},
   "outputs": [],
   "source": []
  },
  {
   "cell_type": "code",
   "execution_count": null,
   "id": "6da5de14",
   "metadata": {},
   "outputs": [],
   "source": []
  },
  {
   "cell_type": "markdown",
   "id": "2a682bab",
   "metadata": {},
   "source": [
    "# Palindrome"
   ]
  },
  {
   "cell_type": "code",
   "execution_count": 2,
   "id": "ecab3eb7",
   "metadata": {},
   "outputs": [],
   "source": [
    "def getMid(head):\n",
    "    slow = head\n",
    "    fast = head.next\n",
    "    while first!=None and fast.next!=None:\n",
    "        slow = slow.next\n",
    "        fast = fast.next.next\n",
    "    return slow"
   ]
  },
  {
   "cell_type": "code",
   "execution_count": 3,
   "id": "2948f583",
   "metadata": {},
   "outputs": [],
   "source": [
    "def reverseLL(head):\n",
    "    curr = head\n",
    "    prev, nxt = None, None\n",
    "    while curr!=None:\n",
    "        nxt = curr.next\n",
    "        curr.next = prev\n",
    "        prev = curr\n",
    "        curr = nxt\n",
    "    \n",
    "    return prev"
   ]
  },
  {
   "cell_type": "code",
   "execution_count": 4,
   "id": "9c990d47",
   "metadata": {},
   "outputs": [],
   "source": [
    "def palidrome(head):\n",
    "    if head.next==None:\n",
    "        return True\n",
    "    \n",
    "    # get Middle node\n",
    "    middle = getMid(head)\n",
    "    \n",
    "    # reverse the LL from next of middle\n",
    "    temp = middle.next\n",
    "    middle.next = reveseLL(temp)\n",
    "    \n",
    "    head1 = head\n",
    "    head2 = mmiddle.next\n",
    "    \n",
    "    while head2!=None:\n",
    "        if head1.val != head2.val:\n",
    "            return False\n",
    "        head1 = head1.next\n",
    "        head2 = head2.next\n",
    "    \n",
    "    return True"
   ]
  },
  {
   "cell_type": "code",
   "execution_count": null,
   "id": "2220f1de",
   "metadata": {},
   "outputs": [],
   "source": []
  }
 ],
 "metadata": {
  "kernelspec": {
   "display_name": "Python 3 (ipykernel)",
   "language": "python",
   "name": "python3"
  },
  "language_info": {
   "codemirror_mode": {
    "name": "ipython",
    "version": 3
   },
   "file_extension": ".py",
   "mimetype": "text/x-python",
   "name": "python",
   "nbconvert_exporter": "python",
   "pygments_lexer": "ipython3",
   "version": "3.9.7"
  }
 },
 "nbformat": 4,
 "nbformat_minor": 5
}
