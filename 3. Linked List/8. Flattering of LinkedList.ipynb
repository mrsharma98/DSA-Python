{
 "cells": [
  {
   "cell_type": "code",
   "execution_count": 1,
   "id": "f78f14a6",
   "metadata": {},
   "outputs": [],
   "source": [
    "# Flatten a multilevel Linked List"
   ]
  },
  {
   "cell_type": "raw",
   "id": "663c7adc",
   "metadata": {},
   "source": [
    "https://www.codingninjas.com/codestudio/problems/flatten-a-linked-list_1112655\n",
    "\n",
    "Treat each node(with child element) as one LL, and apply the merge sorted LL logic.\n",
    "we will start the process from end node"
   ]
  },
  {
   "cell_type": "code",
   "execution_count": 2,
   "id": "fbce84e9",
   "metadata": {},
   "outputs": [],
   "source": [
    "class Node:\n",
    "    def __init__(self, data):\n",
    "        self.data = data\n",
    "        self.next = None\n",
    "        self.down = None"
   ]
  },
  {
   "cell_type": "code",
   "execution_count": 1,
   "id": "d57d3c03",
   "metadata": {},
   "outputs": [],
   "source": [
    "def mergeList(first, second, temp):\n",
    "    if first==None:\n",
    "        return second\n",
    "    if second == None:\n",
    "        return first\n",
    "    \n",
    "    newList = None\n",
    "    \n",
    "    if first.val<=second.val:\n",
    "        temp = first\n",
    "        first = temp.first.down\n",
    "    else:\n",
    "        temp = second\n",
    "        second = temp.down\n",
    "        \n",
    "    newList = temp\n",
    "    \n",
    "    while first!=None and second!=None:\n",
    "        if first.val<=second.val:\n",
    "            temp.next = first\n",
    "            temp = first\n",
    "            first = first.down\n",
    "        else:\n",
    "            temp.next= second\n",
    "            temp = second\n",
    "            second = second.down\n",
    "        \n",
    "    while first!=None:\n",
    "        temp.next = first\n",
    "        temp = first\n",
    "        first = first.down\n",
    "    \n",
    "    while second!=None:\n",
    "        temp.next= second\n",
    "        temp = second\n",
    "        second = second.down\n",
    "    \n",
    "    return newList\n",
    "\n",
    "def flattenLL(node):\n",
    "    temp = None\n",
    "    if node==None or node.next==None:\n",
    "        return node\n",
    "    \n",
    "    node.next = flattenLL(node.next)\n",
    "    node = mergeList(node, node.next, temp)\n",
    "    \n",
    "    return node"
   ]
  },
  {
   "cell_type": "code",
   "execution_count": null,
   "id": "0efaa642",
   "metadata": {},
   "outputs": [],
   "source": []
  },
  {
   "cell_type": "code",
   "execution_count": null,
   "id": "9992783a",
   "metadata": {},
   "outputs": [],
   "source": []
  }
 ],
 "metadata": {
  "kernelspec": {
   "display_name": "Python 3 (ipykernel)",
   "language": "python",
   "name": "python3"
  },
  "language_info": {
   "codemirror_mode": {
    "name": "ipython",
    "version": 3
   },
   "file_extension": ".py",
   "mimetype": "text/x-python",
   "name": "python",
   "nbconvert_exporter": "python",
   "pygments_lexer": "ipython3",
   "version": "3.9.7"
  }
 },
 "nbformat": 4,
 "nbformat_minor": 5
}
